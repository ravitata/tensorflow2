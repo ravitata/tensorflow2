{
  "nbformat": 4,
  "nbformat_minor": 0,
  "metadata": {
    "coursera": {
      "course_slug": "tensor-flow-2-1",
      "graded_item_id": "mtZ4n",
      "launcher_item_id": "WphgK"
    },
    "kernelspec": {
      "display_name": "Python 3",
      "language": "python",
      "name": "python3"
    },
    "language_info": {
      "codemirror_mode": {
        "name": "ipython",
        "version": 3
      },
      "file_extension": ".py",
      "mimetype": "text/x-python",
      "name": "python",
      "nbconvert_exporter": "python",
      "pygments_lexer": "ipython3",
      "version": "3.7.1"
    },
    "colab": {
      "name": "Week 3 Programming Assignment.ipynb",
      "provenance": [],
      "collapsed_sections": [],
      "include_colab_link": true
    }
  },
  "cells": [
    {
      "cell_type": "markdown",
      "metadata": {
        "id": "view-in-github",
        "colab_type": "text"
      },
      "source": [
        "<a href=\"https://colab.research.google.com/github/ravitata/tensorflow2/blob/master/Week_3_Programming_Assignment.ipynb\" target=\"_parent\"><img src=\"https://colab.research.google.com/assets/colab-badge.svg\" alt=\"Open In Colab\"/></a>"
      ]
    },
    {
      "cell_type": "markdown",
      "metadata": {
        "id": "Crtnb3v_-QN8"
      },
      "source": [
        "# Programming Assignment"
      ]
    },
    {
      "cell_type": "markdown",
      "metadata": {
        "id": "H5lhOgL2-QN9"
      },
      "source": [
        "## Model validation on the Iris dataset"
      ]
    },
    {
      "cell_type": "markdown",
      "metadata": {
        "id": "3mu5pYMU-QN-"
      },
      "source": [
        "### Instructions\n",
        "\n",
        "In this notebook, you will build, compile and fit a neural network model to the Iris dataset. You will also implement validation, regularisation and callbacks to improve your model.\n",
        "\n",
        "Some code cells are provided you in the notebook. You should avoid editing provided code, and make sure to execute the cells in order to avoid unexpected errors. Some cells begin with the line: \n",
        "\n",
        "`#### GRADED CELL ####`\n",
        "\n",
        "Don't move or edit this first line - this is what the automatic grader looks for to recognise graded cells. These cells require you to write your own code to complete them, and are automatically graded when you submit the notebook. Don't edit the function name or signature provided in these cells, otherwise the automatic grader might not function properly. Inside these graded cells, you can use any functions or classes that are imported below, but make sure you don't use any variables that are outside the scope of the function.\n",
        "\n",
        "### How to submit\n",
        "\n",
        "Complete all the tasks you are asked for in the worksheet. When you have finished and are happy with your code, press the **Submit Assignment** button at the top of this notebook.\n",
        "\n",
        "### Let's get started!\n",
        "\n",
        "We'll start running some imports, and loading the dataset. Do not edit the existing imports in the following cell. If you would like to make further Tensorflow imports, you should add them here."
      ]
    },
    {
      "cell_type": "code",
      "metadata": {
        "id": "TcJ88o-A-QOA"
      },
      "source": [
        "#### PACKAGE IMPORTS ####\n",
        "\n",
        "# Run this cell first to import all required packages. Do not make any imports elsewhere in the notebook\n",
        "from numpy.random import seed\n",
        "seed(8)\n",
        "import tensorflow as tf\n",
        "import numpy as np\n",
        "import matplotlib.pyplot as plt\n",
        "from sklearn import datasets, model_selection \n",
        "%matplotlib inline\n",
        "\n",
        "# If you would like to make further imports from tensorflow, add them here\n",
        "from tensorflow.keras.models import Sequential\n",
        "from tensorflow.keras.layers import Dense, Dropout, BatchNormalization\n",
        "from tensorflow.keras.regularizers import l2\n"
      ],
      "execution_count": 66,
      "outputs": []
    },
    {
      "cell_type": "markdown",
      "metadata": {
        "id": "FVxBqpU_-QOF"
      },
      "source": [
        "#### The Iris dataset\n",
        "\n",
        "In this assignment, you will use the [Iris dataset](https://scikit-learn.org/stable/auto_examples/datasets/plot_iris_dataset.html). It consists of 50 samples from each of three species of Iris (Iris setosa, Iris virginica and Iris versicolor). Four features were measured from each sample: the length and the width of the sepals and petals, in centimeters. For a reference, see the following papers:\n",
        "\n",
        "- R. A. Fisher. \"The use of multiple measurements in taxonomic problems\". Annals of Eugenics. 7 (2): 179–188, 1936.\n",
        "\n",
        "Your goal is to construct a neural network that classifies each sample into the correct class, as well as applying validation and regularisation techniques."
      ]
    },
    {
      "cell_type": "markdown",
      "metadata": {
        "id": "BcDc7CXG-QOG"
      },
      "source": [
        "#### Load and preprocess the data\n",
        "\n",
        "First read in the Iris dataset using `datasets.load_iris()`, and split the dataset into training and test sets."
      ]
    },
    {
      "cell_type": "code",
      "metadata": {
        "id": "2QCdzIiC-QOH"
      },
      "source": [
        "#### GRADED CELL ####\n",
        "\n",
        "# Complete the following function. \n",
        "# Make sure to not change the function name or arguments.\n",
        "\n",
        "def read_in_and_split_data(iris_data):\n",
        "    \"\"\"\n",
        "    This function takes the Iris dataset as loaded by sklearn.datasets.load_iris(), and then \n",
        "    splits so that the training set includes 90% of the full dataset, with the test set \n",
        "    making up the remaining 10%.\n",
        "    Your function should return a tuple (train_data, test_data, train_targets, test_targets) \n",
        "    of appropriately split training and test data and targets.\n",
        "    \n",
        "    If you would like to import any further packages to aid you in this task, please do so in the \n",
        "    Package Imports cell above.\n",
        "    \"\"\"\n",
        "    data=iris_data['data']\n",
        "    target=iris_data['target']\n",
        "    train_data, test_data, train_targets, test_targets = model_selection.train_test_split(data, target, test_size=0.1)\n",
        "    #print(iris_data.shape)\n",
        "    print(train_data.shape)\n",
        "    print(test_data.shape)\n",
        "    print(train_targets.shape)\n",
        "    print(test_targets.shape)\n",
        "\n",
        "    return (train_data, test_data, train_targets, test_targets)\n",
        "\n",
        "    \n",
        "    "
      ],
      "execution_count": 36,
      "outputs": []
    },
    {
      "cell_type": "code",
      "metadata": {
        "id": "TVTDnj1W-QOJ",
        "outputId": "c77872cd-71d0-4954-d26c-001791e0d33e",
        "colab": {
          "base_uri": "https://localhost:8080/",
          "height": 86
        }
      },
      "source": [
        "# Run your function to generate the test and training data.\n",
        "\n",
        "iris_data = datasets.load_iris()\n",
        "train_data, test_data, train_targets, test_targets = read_in_and_split_data(iris_data)"
      ],
      "execution_count": 37,
      "outputs": [
        {
          "output_type": "stream",
          "text": [
            "(135, 4)\n",
            "(15, 4)\n",
            "(135,)\n",
            "(15,)\n"
          ],
          "name": "stdout"
        }
      ]
    },
    {
      "cell_type": "code",
      "metadata": {
        "id": "aQN7gCh4Sr71",
        "outputId": "8b0c1a72-e0e0-458a-ddbc-a3ac1e1e6205",
        "colab": {
          "base_uri": "https://localhost:8080/",
          "height": 34
        }
      },
      "source": [
        " print(iris_data.keys())"
      ],
      "execution_count": 38,
      "outputs": [
        {
          "output_type": "stream",
          "text": [
            "dict_keys(['data', 'target', 'target_names', 'DESCR', 'feature_names', 'filename'])\n"
          ],
          "name": "stdout"
        }
      ]
    },
    {
      "cell_type": "code",
      "metadata": {
        "id": "9qCNKC-hVdB6",
        "outputId": "f5729c65-4990-4a35-eb2f-efb054478f39",
        "colab": {
          "base_uri": "https://localhost:8080/",
          "height": 34
        }
      },
      "source": [
        "test_targets"
      ],
      "execution_count": 39,
      "outputs": [
        {
          "output_type": "execute_result",
          "data": {
            "text/plain": [
              "array([0, 0, 0, 2, 1, 0, 0, 2, 2, 1, 1, 0, 2, 1, 2])"
            ]
          },
          "metadata": {
            "tags": []
          },
          "execution_count": 39
        }
      ]
    },
    {
      "cell_type": "markdown",
      "metadata": {
        "id": "7i_TGqos-QON"
      },
      "source": [
        "We will now convert the training and test targets using a one hot encoder."
      ]
    },
    {
      "cell_type": "code",
      "metadata": {
        "id": "uolvGsLl-QOO"
      },
      "source": [
        "# Convert targets to a one-hot encoding\n",
        "\n",
        "train_targets = tf.keras.utils.to_categorical(np.array(train_targets))\n",
        "test_targets = tf.keras.utils.to_categorical(np.array(test_targets))"
      ],
      "execution_count": 40,
      "outputs": []
    },
    {
      "cell_type": "code",
      "metadata": {
        "id": "fmrQ0K7CULED",
        "outputId": "e5d5c806-9e23-4575-9aff-0a0934f9db6b",
        "colab": {
          "base_uri": "https://localhost:8080/",
          "height": 52
        }
      },
      "source": [
        "print(train_targets.shape)\n",
        "print(test_targets.shape)"
      ],
      "execution_count": 41,
      "outputs": [
        {
          "output_type": "stream",
          "text": [
            "(135, 3)\n",
            "(15, 3)\n"
          ],
          "name": "stdout"
        }
      ]
    },
    {
      "cell_type": "code",
      "metadata": {
        "id": "AZFhP8OEVKrU",
        "outputId": "323e8b44-4936-4911-8b35-c5bb4df39cd1",
        "colab": {
          "base_uri": "https://localhost:8080/",
          "height": 278
        }
      },
      "source": [
        "test_targets"
      ],
      "execution_count": 42,
      "outputs": [
        {
          "output_type": "execute_result",
          "data": {
            "text/plain": [
              "array([[1., 0., 0.],\n",
              "       [1., 0., 0.],\n",
              "       [1., 0., 0.],\n",
              "       [0., 0., 1.],\n",
              "       [0., 1., 0.],\n",
              "       [1., 0., 0.],\n",
              "       [1., 0., 0.],\n",
              "       [0., 0., 1.],\n",
              "       [0., 0., 1.],\n",
              "       [0., 1., 0.],\n",
              "       [0., 1., 0.],\n",
              "       [1., 0., 0.],\n",
              "       [0., 0., 1.],\n",
              "       [0., 1., 0.],\n",
              "       [0., 0., 1.]], dtype=float32)"
            ]
          },
          "metadata": {
            "tags": []
          },
          "execution_count": 42
        }
      ]
    },
    {
      "cell_type": "markdown",
      "metadata": {
        "id": "V6i8xjbh-QOR"
      },
      "source": [
        "#### Build the neural network model\n"
      ]
    },
    {
      "cell_type": "markdown",
      "metadata": {
        "id": "oDQeTk4u-QOT"
      },
      "source": [
        "You can now construct a model to fit to the data. Using the Sequential API, build your model according to the following specifications:\n",
        "\n",
        "* The model should use the `input_shape` in the function argument to set the input size in the first layer.\n",
        "* The first layer should be a dense layer with 64 units.\n",
        "* The weights of the first layer should be initialised with the He uniform initializer.\n",
        "* The biases of the first layer should be all initially equal to one.\n",
        "* There should then be a further four dense layers, each with 128 units.\n",
        "* This should be followed with four dense layers, each with 64 units.\n",
        "* All of these Dense layers should use the ReLU activation function.\n",
        "* The output Dense layer should have 3 units and the softmax activation function.\n",
        "\n",
        "In total, the network should have 10 layers."
      ]
    },
    {
      "cell_type": "code",
      "metadata": {
        "id": "vOCmCe2l-QOU"
      },
      "source": [
        "#### GRADED CELL ####\n",
        "\n",
        "# Complete the following function. \n",
        "# Make sure to not change the function name or arguments.\n",
        "\n",
        "def get_model(input_shape):\n",
        "    \"\"\"\n",
        "    This function should build a Sequential model according to the above specification. Ensure the \n",
        "    weights are initialised by providing the input_shape argument in the first layer, given by the\n",
        "    function argument.\n",
        "    Your function should return the model.\n",
        "    \"\"\"\n",
        "    k_initializer = tf.keras.initializers.HeUniform()\n",
        "    b_initializer = tf.keras.initializers.Ones()\n",
        "\n",
        "    model = Sequential([Dense(64, activation='relu',input_shape=input_shape, \n",
        "                              kernel_initializer=k_initializer, bias_initializer=b_initializer),\n",
        "                        Dense(128, activation='relu'),\n",
        "                        Dense(128, activation='relu'),\n",
        "                        Dense(128, activation='relu'),\n",
        "                        Dense(128, activation='relu'),\n",
        "                        Dense(64, activation='relu'),\n",
        "                        Dense(64, activation='relu'),\n",
        "                        Dense(64, activation='relu'),\n",
        "                        Dense(64, activation='relu'),\n",
        "                        Dense(3, activation='softmax')\n",
        "                ])\n",
        "    \n",
        "    return model    \n"
      ],
      "execution_count": 43,
      "outputs": []
    },
    {
      "cell_type": "code",
      "metadata": {
        "id": "bEnEugVV-QOX"
      },
      "source": [
        "# Run your function to get the model\n",
        "\n",
        "model = get_model(train_data[0].shape)"
      ],
      "execution_count": 44,
      "outputs": []
    },
    {
      "cell_type": "markdown",
      "metadata": {
        "id": "BC0h-ud1-QOa"
      },
      "source": [
        "#### Compile the model\n",
        "\n",
        "You should now compile the model using the `compile` method. Remember that you need to specify an optimizer, a loss function and a metric to judge the performance of your model."
      ]
    },
    {
      "cell_type": "code",
      "metadata": {
        "id": "ReHF4llc-QOa"
      },
      "source": [
        "#### GRADED CELL ####\n",
        "\n",
        "# Complete the following function. \n",
        "# Make sure to not change the function name or arguments.\n",
        "\n",
        "def compile_model(model):\n",
        "    \"\"\"\n",
        "    This function takes in the model returned from your get_model function, and compiles it with an optimiser,\n",
        "    loss function and metric.\n",
        "    Compile the model using the Adam optimiser (with learning rate set to 0.0001), \n",
        "    the categorical crossentropy loss function and accuracy as the only metric. \n",
        "    Your function doesn't need to return anything; the model will be compiled in-place.\n",
        "    \"\"\"\n",
        "    opt = tf.keras.optimizers.Adam(learning_rate=0.0001)\n",
        "    model.compile(optimizer=opt, loss='categorical_crossentropy', metrics=['accuracy'])\n",
        "    "
      ],
      "execution_count": 45,
      "outputs": []
    },
    {
      "cell_type": "code",
      "metadata": {
        "id": "7qJOJunW-QOd"
      },
      "source": [
        "# Run your function to compile the model\n",
        "\n",
        "compile_model(model)"
      ],
      "execution_count": 46,
      "outputs": []
    },
    {
      "cell_type": "markdown",
      "metadata": {
        "id": "OWxL16Hk-QOh"
      },
      "source": [
        "#### Fit the model to the training data\n",
        "\n",
        "Now you should train the model on the Iris dataset, using the model's `fit` method. \n",
        "* Run the training for a fixed number of epochs, given by the function's `epochs` argument.\n",
        "* Return the training history to be used for plotting the learning curves.\n",
        "* Set the batch size to 40.\n",
        "* Set the validation set to be 15% of the training set.\n"
      ]
    },
    {
      "cell_type": "code",
      "metadata": {
        "id": "MYTwJVXq-QOi"
      },
      "source": [
        "#### GRADED CELL ####\n",
        "\n",
        "# Complete the following function. \n",
        "# Make sure to not change the function name or arguments.\n",
        "\n",
        "def train_model(model, train_data, train_targets, epochs):\n",
        "    \"\"\"\n",
        "    This function should train the model for the given number of epochs on the \n",
        "    train_data and train_targets. \n",
        "    Your function should return the training history, as returned by model.fit.\n",
        "    \"\"\"\n",
        "    history = model.fit(train_data, train_targets, epochs=epochs, verbose=False, batch_size=40, validation_split=0.15)\n",
        "\n",
        "    return history\n",
        "    "
      ],
      "execution_count": 56,
      "outputs": []
    },
    {
      "cell_type": "code",
      "metadata": {
        "id": "MOE4iz_w-QOl"
      },
      "source": [
        "# Run your function to train the model\n",
        "\n",
        "history = train_model(model, train_data, train_targets, epochs=800)"
      ],
      "execution_count": 57,
      "outputs": []
    },
    {
      "cell_type": "markdown",
      "metadata": {
        "id": "ssIHu5cM-QOn"
      },
      "source": [
        "#### Plot the learning curves\n",
        "\n",
        "We will now plot two graphs:\n",
        "* Epoch vs accuracy\n",
        "* Epoch vs loss\n"
      ]
    },
    {
      "cell_type": "code",
      "metadata": {
        "id": "JRFBWnUX-QOo",
        "outputId": "0058a7f6-cbff-4e9a-8fb5-f15729f5d22b",
        "colab": {
          "base_uri": "https://localhost:8080/",
          "height": 295
        }
      },
      "source": [
        "#Run this cell to plot the epoch vs accuracy graph\n",
        "\n",
        "try:\n",
        "    plt.plot(history.history['accuracy'])\n",
        "    plt.plot(history.history['val_accuracy'])\n",
        "except KeyError:\n",
        "    plt.plot(history.history['acc'])\n",
        "    plt.plot(history.history['val_acc'])\n",
        "plt.title('Accuracy vs. epochs')\n",
        "plt.ylabel('Loss')\n",
        "plt.xlabel('Epoch')\n",
        "plt.legend(['Training', 'Validation'], loc='lower right')\n",
        "plt.show() "
      ],
      "execution_count": 58,
      "outputs": [
        {
          "output_type": "display_data",
          "data": {
            "image/png": "[encoded data removed]",
            "text/plain": [
              "<Figure size 432x288 with 1 Axes>"
            ]
          },
          "metadata": {
            "tags": [],
            "needs_background": "light"
          }
        }
      ]
    },
    {
      "cell_type": "code",
      "metadata": {
        "id": "tj0Ir6Sr-QOq",
        "outputId": "9baea255-7bfe-4ac1-cc6d-27c601b40f8a",
        "colab": {
          "base_uri": "https://localhost:8080/",
          "height": 295
        }
      },
      "source": [
        "#Run this cell to plot the epoch vs loss graph\n",
        "plt.plot(history.history['loss'])\n",
        "plt.plot(history.history['val_loss'])\n",
        "plt.title('Loss vs. epochs')\n",
        "plt.ylabel('Loss')\n",
        "plt.xlabel('Epoch')\n",
        "plt.legend(['Training', 'Validation'], loc='upper right')\n",
        "plt.show() "
      ],
      "execution_count": 59,
      "outputs": [
        {
          "output_type": "display_data",
          "data": {
            "image/png": "[encoded data removed]",
            "text/plain": [
              "<Figure size 432x288 with 1 Axes>"
            ]
          },
          "metadata": {
            "tags": [],
            "needs_background": "light"
          }
        }
      ]
    },
    {
      "cell_type": "markdown",
      "metadata": {
        "id": "qrsUWJwj-QOr"
      },
      "source": [
        "Oh no! We have overfit our dataset. You should now try to now try to mitigate this overfitting."
      ]
    },
    {
      "cell_type": "markdown",
      "metadata": {
        "id": "R6N_uo6m-QOs"
      },
      "source": [
        "#### Reducing overfitting in the model"
      ]
    },
    {
      "cell_type": "markdown",
      "metadata": {
        "id": "BGME_x9a-QOs"
      },
      "source": [
        "You should now define a new regularised model.\n",
        "The specs for the regularised model are the same as our original model, with the addition of two dropout layers, weight decay, and a batch normalisation layer. \n",
        "\n",
        "In particular:\n",
        "\n",
        "* Add a dropout layer after the 3rd Dense layer\n",
        "* Then there should be two more Dense layers with 128 units before a batch normalisation layer\n",
        "* Following this, two more Dense layers with 64 units and then another Dropout layer\n",
        "* Two more Dense layers with 64 units and then the final 3-way softmax layer\n",
        "* Add weight decay (l2 kernel regularisation) in all Dense layers except the final softmax layer"
      ]
    },
    {
      "cell_type": "code",
      "metadata": {
        "id": "rYytfpmm-QOv"
      },
      "source": [
        "#### GRADED CELL ####\n",
        "\n",
        "# Complete the following function. \n",
        "# Make sure to not change the function name or arguments.\n",
        "\n",
        "def get_regularised_model(input_shape, dropout_rate, weight_decay):\n",
        "    \"\"\"\n",
        "    This function should build a regularised Sequential model according to the above specification. \n",
        "    The dropout_rate argument in the function should be used to set the Dropout rate for all Dropout layers.\n",
        "    L2 kernel regularisation (weight decay) should be added using the weight_decay argument to \n",
        "    set the weight decay coefficient in all Dense layers that use L2 regularisation.\n",
        "    Ensure the weights are initialised by providing the input_shape argument in the first layer, given by the\n",
        "    function argument input_shape.\n",
        "    Your function should return the model.\n",
        "    \"\"\"\n",
        "    k_initializer = tf.keras.initializers.HeUniform()\n",
        "    b_initializer = tf.keras.initializers.Ones()\n",
        "\n",
        "    model = Sequential([Dense(64, activation='relu',input_shape=input_shape, \n",
        "                              kernel_initializer=k_initializer, bias_initializer=b_initializer, kernel_regularizer=l2(weight_decay)),\n",
        "                        Dense(128, activation='relu', kernel_regularizer=l2(weight_decay)),\n",
        "                        Dense(128, activation='relu', kernel_regularizer=l2(weight_decay)),\n",
        "                        Dropout(dropout_rate),\n",
        "                        Dense(128, activation='relu', kernel_regularizer=l2(weight_decay)),\n",
        "                        Dense(128, activation='relu', kernel_regularizer=l2(weight_decay)),\n",
        "                        BatchNormalization(),\n",
        "                        Dense(64, activation='relu', kernel_regularizer=l2(weight_decay)),\n",
        "                        Dense(64, activation='relu', kernel_regularizer=l2(weight_decay)),\n",
        "                        Dropout(dropout_rate),\n",
        "                        Dense(64, activation='relu', kernel_regularizer=l2(weight_decay)),\n",
        "                        Dense(64, activation='relu', kernel_regularizer=l2(weight_decay)),\n",
        "                        Dense(3, activation='softmax')\n",
        "                ])\n",
        "    \n",
        "    return model \n",
        "    "
      ],
      "execution_count": 67,
      "outputs": []
    },
    {
      "cell_type": "markdown",
      "metadata": {
        "id": "qw79AOPy-QOx"
      },
      "source": [
        "#### Instantiate, compile and train the model"
      ]
    },
    {
      "cell_type": "code",
      "metadata": {
        "id": "iO8JYVXB-QOz"
      },
      "source": [
        "# Instantiate the model, using a dropout rate of 0.3 and weight decay coefficient of 0.001\n",
        "\n",
        "reg_model = get_regularised_model(train_data[0].shape, 0.3, 0.001)"
      ],
      "execution_count": 68,
      "outputs": []
    },
    {
      "cell_type": "code",
      "metadata": {
        "id": "nOEqCQ3I-QO2"
      },
      "source": [
        "# Compile the model\n",
        "\n",
        "compile_model(reg_model)"
      ],
      "execution_count": 69,
      "outputs": []
    },
    {
      "cell_type": "code",
      "metadata": {
        "id": "5Eg83stX-QO6"
      },
      "source": [
        "# Train the model\n",
        "\n",
        "reg_history = train_model(reg_model, train_data, train_targets, epochs=800)"
      ],
      "execution_count": 70,
      "outputs": []
    },
    {
      "cell_type": "markdown",
      "metadata": {
        "id": "gccWcGCz-QO8"
      },
      "source": [
        "#### Plot the learning curves\n",
        "\n",
        "Let's now plot the loss and accuracy for the training and validation sets."
      ]
    },
    {
      "cell_type": "code",
      "metadata": {
        "id": "j8uieP3K-QO9",
        "outputId": "17aba7a8-fb62-4ef3-eadf-a6d4bd7f16dc",
        "colab": {
          "base_uri": "https://localhost:8080/",
          "height": 295
        }
      },
      "source": [
        "#Run this cell to plot the new accuracy vs epoch graph\n",
        "\n",
        "try:\n",
        "    plt.plot(reg_history.history['accuracy'])\n",
        "    plt.plot(reg_history.history['val_accuracy'])\n",
        "except KeyError:\n",
        "    plt.plot(reg_history.history['acc'])\n",
        "    plt.plot(reg_history.history['val_acc'])\n",
        "plt.title('Accuracy vs. epochs')\n",
        "plt.ylabel('Loss')\n",
        "plt.xlabel('Epoch')\n",
        "plt.legend(['Training', 'Validation'], loc='lower right')\n",
        "plt.show() "
      ],
      "execution_count": 71,
      "outputs": [
        {
          "output_type": "display_data",
          "data": {
            "image/png": "[encoded data removed]",
            "text/plain": [
              "<Figure size 432x288 with 1 Axes>"
            ]
          },
          "metadata": {
            "tags": [],
            "needs_background": "light"
          }
        }
      ]
    },
    {
      "cell_type": "code",
      "metadata": {
        "id": "zpgy4mVP-QO_",
        "outputId": "26b42abd-a4e9-4e0b-bb55-51e2b688d568",
        "colab": {
          "base_uri": "https://localhost:8080/",
          "height": 295
        }
      },
      "source": [
        "#Run this cell to plot the new loss vs epoch graph\n",
        "\n",
        "plt.plot(reg_history.history['loss'])\n",
        "plt.plot(reg_history.history['val_loss'])\n",
        "plt.title('Loss vs. epochs')\n",
        "plt.ylabel('Loss')\n",
        "plt.xlabel('Epoch')\n",
        "plt.legend(['Training', 'Validation'], loc='upper right')\n",
        "plt.show() "
      ],
      "execution_count": 72,
      "outputs": [
        {
          "output_type": "display_data",
          "data": {
            "image/png": "[encoded data removed]",
            "text/plain": [
              "<Figure size 432x288 with 1 Axes>"
            ]
          },
          "metadata": {
            "tags": [],
            "needs_background": "light"
          }
        }
      ]
    },
    {
      "cell_type": "markdown",
      "metadata": {
        "id": "na0xiTpm-QPB"
      },
      "source": [
        "We can see that the regularisation has helped to reduce the overfitting of the network.\n",
        "You will now incorporate callbacks into a new training run that implements early stopping and learning rate reduction on plateaux.\n",
        "\n",
        "Fill in the function below so that:\n",
        "\n",
        "* It creates an `EarlyStopping` callback object and a `ReduceLROnPlateau` callback object\n",
        "* The early stopping callback is used and monitors validation loss with the mode set to `\"min\"` and patience of 30.\n",
        "* The learning rate reduction on plateaux is used with a learning rate factor of 0.2 and a patience of 20."
      ]
    },
    {
      "cell_type": "code",
      "metadata": {
        "id": "18JaoKcd-QPC"
      },
      "source": [
        "#### GRADED CELL ####\n",
        "\n",
        "# Complete the following function. \n",
        "# Make sure to not change the function name or arguments.\n",
        "\n",
        "def get_callbacks():\n",
        "    \"\"\"\n",
        "    This function should create and return a tuple (early_stopping, learning_rate_reduction) callbacks.\n",
        "    The callbacks should be instantiated according to the above requirements.\n",
        "    \"\"\"\n",
        "    \n",
        "    "
      ],
      "execution_count": null,
      "outputs": []
    },
    {
      "cell_type": "markdown",
      "metadata": {
        "id": "eqi6pF-v-QPD"
      },
      "source": [
        "Run the cell below to instantiate and train the regularised model with the callbacks."
      ]
    },
    {
      "cell_type": "code",
      "metadata": {
        "id": "emW-CYSd-QPE"
      },
      "source": [
        "call_model = get_regularised_model(train_data[0].shape, 0.3, 0.0001)\n",
        "compile_model(call_model)\n",
        "early_stopping, learning_rate_reduction = get_callbacks()\n",
        "call_history = call_model.fit(train_data, train_targets, epochs=800, validation_split=0.15,\n",
        "                         callbacks=[early_stopping, learning_rate_reduction], verbose=0)"
      ],
      "execution_count": null,
      "outputs": []
    },
    {
      "cell_type": "code",
      "metadata": {
        "id": "DtuDazML-QPG"
      },
      "source": [
        "learning_rate_reduction.patience"
      ],
      "execution_count": null,
      "outputs": []
    },
    {
      "cell_type": "markdown",
      "metadata": {
        "id": "8zhsqvtL-QPJ"
      },
      "source": [
        "Finally, let's replot the accuracy and loss graphs for our new model."
      ]
    },
    {
      "cell_type": "code",
      "metadata": {
        "id": "HOPSJT7w-QPJ"
      },
      "source": [
        "try:\n",
        "    plt.plot(call_history.history['accuracy'])\n",
        "    plt.plot(call_history.history['val_accuracy'])\n",
        "except KeyError:\n",
        "    plt.plot(call_history.history['acc'])\n",
        "    plt.plot(call_history.history['val_acc'])\n",
        "plt.title('Accuracy vs. epochs')\n",
        "plt.ylabel('Accuracy')\n",
        "plt.xlabel('Epoch')\n",
        "plt.legend(['Training', 'Validation'], loc='lower right')\n",
        "plt.show() "
      ],
      "execution_count": null,
      "outputs": []
    },
    {
      "cell_type": "code",
      "metadata": {
        "id": "1w5NOgER-QPL"
      },
      "source": [
        "plt.plot(call_history.history['loss'])\n",
        "plt.plot(call_history.history['val_loss'])\n",
        "plt.title('Loss vs. epochs')\n",
        "plt.ylabel('Loss')\n",
        "plt.xlabel('Epoch')\n",
        "plt.legend(['Training', 'Validation'], loc='upper right')\n",
        "plt.show() "
      ],
      "execution_count": null,
      "outputs": []
    },
    {
      "cell_type": "code",
      "metadata": {
        "id": "AsBmI_qM5CYh"
      },
      "source": [
        "# Evaluate the model on the test set\n",
        "\n",
        "test_loss, test_acc = call_model.evaluate(test_data, test_targets, verbose=0)\n",
        "print(\"Test loss: {:.3f}\\nTest accuracy: {:.2f}%\".format(test_loss, 100 * test_acc))"
      ],
      "execution_count": null,
      "outputs": []
    },
    {
      "cell_type": "markdown",
      "metadata": {
        "id": "zqBMocM0-QPM"
      },
      "source": [
        "Congratulations for completing this programming assignment! In the next week of the course we will learn how to save and load pre-trained models."
      ]
    }
  ]
}