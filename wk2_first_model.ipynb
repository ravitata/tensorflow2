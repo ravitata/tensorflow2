{
  "nbformat": 4,
  "nbformat_minor": 0,
  "metadata": {
    "colab": {
      "name": "wk2-first-model.ipynb",
      "provenance": [],
      "collapsed_sections": [],
      "toc_visible": true,
      "authorship_tag": "ABX9TyOWzsCZdIL1/y9uJA1EZshn",
      "include_colab_link": true
    },
    "kernelspec": {
      "name": "python3",
      "display_name": "Python 3"
    },
    "accelerator": "GPU"
  },
  "cells": [
    {
      "cell_type": "markdown",
      "metadata": {
        "id": "view-in-github",
        "colab_type": "text"
      },
      "source": [
        "<a href=\"https://colab.research.google.com/github/ravitata/tensorflow2/blob/master/wk2_first_model.ipynb\" target=\"_parent\"><img src=\"https://colab.research.google.com/assets/colab-badge.svg\" alt=\"Open In Colab\"/></a>"
      ]
    },
    {
      "cell_type": "code",
      "metadata": {
        "id": "3s1DJnTJsRs0",
        "outputId": "f9a3a930-cf8b-40b7-ef1f-942668c27147",
        "colab": {
          "base_uri": "https://localhost:8080/",
          "height": 34
        }
      },
      "source": [
        "import tensorflow as tf\n",
        "print(tf.__version__)"
      ],
      "execution_count": 1,
      "outputs": [
        {
          "output_type": "stream",
          "text": [
            "2.3.0\n"
          ],
          "name": "stdout"
        }
      ]
    },
    {
      "cell_type": "code",
      "metadata": {
        "id": "K_r1fOhOs1ZF"
      },
      "source": [
        "from tensorflow.keras.models import Sequential\n",
        "from tensorflow.keras.layers import Flatten, Dense, Softmax"
      ],
      "execution_count": 2,
      "outputs": []
    },
    {
      "cell_type": "code",
      "metadata": {
        "id": "ilqNh76ItXy0"
      },
      "source": [
        "model = Sequential([\n",
        "                    Flatten(input_shape=(28, 28), name='myflatlayer'),\n",
        "                    Dense(16,activation='relu'),\n",
        "                    Dense(16,activation='relu', name='myDense2'),\n",
        "                    Dense(16,activation='tanh', name='mytanh'),\n",
        "                    #Dense(10, activation='softmax'),\n",
        "                    Dense(10),\n",
        "                    Softmax(name='mysoftmax')\n",
        "])"
      ],
      "execution_count": 3,
      "outputs": []
    },
    {
      "cell_type": "code",
      "metadata": {
        "id": "cPcn4ZShuK94",
        "outputId": "220d3e4a-8542-4b33-fea4-3bcf7f56e163",
        "colab": {
          "base_uri": "https://localhost:8080/",
          "height": 364
        }
      },
      "source": [
        "#model.weights\n",
        "model.summary()"
      ],
      "execution_count": 4,
      "outputs": [
        {
          "output_type": "stream",
          "text": [
            "Model: \"sequential\"\n",
            "_________________________________________________________________\n",
            "Layer (type)                 Output Shape              Param #   \n",
            "=================================================================\n",
            "myflatlayer (Flatten)        (None, 784)               0         \n",
            "_________________________________________________________________\n",
            "dense (Dense)                (None, 16)                12560     \n",
            "_________________________________________________________________\n",
            "myDense2 (Dense)             (None, 16)                272       \n",
            "_________________________________________________________________\n",
            "mytanh (Dense)               (None, 16)                272       \n",
            "_________________________________________________________________\n",
            "dense_1 (Dense)              (None, 10)                170       \n",
            "_________________________________________________________________\n",
            "mysoftmax (Softmax)          (None, 10)                0         \n",
            "=================================================================\n",
            "Total params: 13,274\n",
            "Trainable params: 13,274\n",
            "Non-trainable params: 0\n",
            "_________________________________________________________________\n"
          ],
          "name": "stdout"
        }
      ]
    },
    {
      "cell_type": "code",
      "metadata": {
        "id": "oi5Ov_jTuNSP",
        "outputId": "c0a071ad-95ed-48e0-9fbe-3e2c1139ce8a",
        "colab": {
          "base_uri": "https://localhost:8080/",
          "height": 69
        }
      },
      "source": [
        "print(784*16+16)\n",
        "print(16*16+16)\n",
        "print(16*10+10)"
      ],
      "execution_count": 5,
      "outputs": [
        {
          "output_type": "stream",
          "text": [
            "12560\n",
            "272\n",
            "170\n"
          ],
          "name": "stdout"
        }
      ]
    },
    {
      "cell_type": "code",
      "metadata": {
        "id": "fdCQ44W1wdiJ",
        "outputId": "d01c337e-f282-4556-a35c-272325c1ab43",
        "colab": {
          "base_uri": "https://localhost:8080/",
          "height": 34
        }
      },
      "source": [
        "n1=32  # input shape\n",
        "f=16   #filter size\n",
        "p=0   #padding\n",
        "f=3   #no of filters (will be equal to no of channels in output)\n",
        "s=1   #stride\n",
        "\n",
        "n2 = (n1+2*p-f)/s + 1\n",
        "print('Output shape=', n2)\n"
      ],
      "execution_count": 6,
      "outputs": [
        {
          "output_type": "stream",
          "text": [
            "Output shape= 30.0\n"
          ],
          "name": "stdout"
        }
      ]
    },
    {
      "cell_type": "code",
      "metadata": {
        "id": "_jg_M4vUCkLE"
      },
      "source": [
        "from tensorflow.keras.models import Sequential\n",
        "from tensorflow.keras.layers import Dense, Softmax, Conv2D, MaxPooling2D"
      ],
      "execution_count": 7,
      "outputs": []
    },
    {
      "cell_type": "code",
      "metadata": {
        "id": "CSZn_UQiG96D"
      },
      "source": [
        "model = Sequential([\n",
        "                    Conv2D(16, kernel_size=3,activation='relu', strides=1, padding='valid', input_shape=(28, 28, 1)),\n",
        "                    MaxPooling2D(pool_size=3),\n",
        "                    Flatten(),\n",
        "                    Dense(10, activation='softmax')\n",
        "])"
      ],
      "execution_count": 8,
      "outputs": []
    },
    {
      "cell_type": "code",
      "metadata": {
        "id": "DtN_sIXnHpsj",
        "outputId": "fb42a45e-a846-4b06-b031-6cc49478f0ef",
        "colab": {
          "base_uri": "https://localhost:8080/",
          "height": 295
        }
      },
      "source": [
        "model.summary()"
      ],
      "execution_count": 9,
      "outputs": [
        {
          "output_type": "stream",
          "text": [
            "Model: \"sequential_1\"\n",
            "_________________________________________________________________\n",
            "Layer (type)                 Output Shape              Param #   \n",
            "=================================================================\n",
            "conv2d (Conv2D)              (None, 26, 26, 16)        160       \n",
            "_________________________________________________________________\n",
            "max_pooling2d (MaxPooling2D) (None, 8, 8, 16)          0         \n",
            "_________________________________________________________________\n",
            "flatten (Flatten)            (None, 1024)              0         \n",
            "_________________________________________________________________\n",
            "dense_2 (Dense)              (None, 10)                10250     \n",
            "=================================================================\n",
            "Total params: 10,410\n",
            "Trainable params: 10,410\n",
            "Non-trainable params: 0\n",
            "_________________________________________________________________\n"
          ],
          "name": "stdout"
        }
      ]
    },
    {
      "cell_type": "code",
      "metadata": {
        "id": "At0viTzAHuvj",
        "outputId": "e6e63047-67f1-4fad-8112-f444b7ee742f",
        "colab": {
          "base_uri": "https://localhost:8080/",
          "height": 34
        }
      },
      "source": [
        "8*8*16"
      ],
      "execution_count": 10,
      "outputs": [
        {
          "output_type": "execute_result",
          "data": {
            "text/plain": [
              "1024"
            ]
          },
          "metadata": {
            "tags": []
          },
          "execution_count": 10
        }
      ]
    },
    {
      "cell_type": "code",
      "metadata": {
        "id": "QXNoA8ropTYw",
        "outputId": "23bea84d-8431-46bf-88a7-a3859a6ddcf0",
        "colab": {
          "base_uri": "https://localhost:8080/",
          "height": 69
        }
      },
      "source": [
        "model = Sequential([\n",
        "                    Conv2D(16, kernel_size=3, activation='relu', padding='same', input_shape=(28,28,1)),\n",
        "                    MaxPooling2D(pool_size=2),\n",
        "                    Flatten(),\n",
        "                    Dense(10, activation='softmax')\n",
        "])\n",
        "\n",
        "model.compile(optimizer='rmsprop', # adam, rmsprop, sgd, \n",
        "              loss='sparse_categorical_crossentropy',  #categorical_crossentropy\n",
        "              metrics=['acc', 'mae'])\n",
        "\n",
        "print(model.loss)\n",
        "print(model.optimizer)\n",
        "print(model.metrics_names)  #need to call fit before calling metrics_names\n"
      ],
      "execution_count": 11,
      "outputs": [
        {
          "output_type": "stream",
          "text": [
            "sparse_categorical_crossentropy\n",
            "<tensorflow.python.keras.optimizer_v2.rmsprop.RMSprop object at 0x7fc8d008c860>\n",
            "[]\n"
          ],
          "name": "stdout"
        }
      ]
    },
    {
      "cell_type": "markdown",
      "metadata": {
        "id": "7X-JGtO63jEf"
      },
      "source": [
        "### Instead of passing strings like above, we can pass Keras objects. It gives more flexibility as param can be passed"
      ]
    },
    {
      "cell_type": "code",
      "metadata": {
        "id": "6_oAwGPzvuW1",
        "outputId": "e92f3463-3c15-4570-a7a7-5ccf5b4a7726",
        "colab": {
          "base_uri": "https://localhost:8080/",
          "height": 52
        }
      },
      "source": [
        "model = Sequential([\n",
        "                    Conv2D(16, kernel_size=3, activation='relu', padding='same', input_shape=(28,28,1)),\n",
        "                    MaxPooling2D(pool_size=2),\n",
        "                    Flatten(),\n",
        "                    Dense(10, activation='softmax')\n",
        "])\n",
        "\n",
        "opt = tf.keras.optimizers.SGD(learning_rate=0.001, momentum=0.9)\n",
        "loss = tf.keras.losses.SparseCategoricalCrossentropy()\n",
        "acc=[tf.keras.metrics.Accuracy(), tf.keras.metrics.MeanAbsoluteError()]\n",
        "\n",
        "model.compile(optimizer= opt,\n",
        "              loss= loss,\n",
        "              metrics=acc)\n",
        "\n",
        "print(model.loss)\n",
        "print(model.optimizer)"
      ],
      "execution_count": 12,
      "outputs": [
        {
          "output_type": "stream",
          "text": [
            "<tensorflow.python.keras.losses.SparseCategoricalCrossentropy object at 0x7fc8d003b550>\n",
            "<tensorflow.python.keras.optimizer_v2.gradient_descent.SGD object at 0x7fc8d008c860>\n"
          ],
          "name": "stdout"
        }
      ]
    },
    {
      "cell_type": "code",
      "metadata": {
        "id": "Vwz370uGz0hv",
        "outputId": "c700298d-b292-43dc-c4c4-76c663ca936c",
        "colab": {
          "base_uri": "https://localhost:8080/",
          "height": 156
        }
      },
      "source": [
        "fashion_mnist_data = tf.keras.datasets.fashion_mnist\n",
        "(train_images, train_labels), (test_images, test_labels) = fashion_mnist_data.load_data()"
      ],
      "execution_count": 13,
      "outputs": [
        {
          "output_type": "stream",
          "text": [
            "Downloading data from https://storage.googleapis.com/tensorflow/tf-keras-datasets/train-labels-idx1-ubyte.gz\n",
            "32768/29515 [=================================] - 0s 0us/step\n",
            "Downloading data from https://storage.googleapis.com/tensorflow/tf-keras-datasets/train-images-idx3-ubyte.gz\n",
            "26427392/26421880 [==============================] - 1s 0us/step\n",
            "Downloading data from https://storage.googleapis.com/tensorflow/tf-keras-datasets/t10k-labels-idx1-ubyte.gz\n",
            "8192/5148 [===============================================] - 0s 0us/step\n",
            "Downloading data from https://storage.googleapis.com/tensorflow/tf-keras-datasets/t10k-images-idx3-ubyte.gz\n",
            "4423680/4422102 [==============================] - 0s 0us/step\n"
          ],
          "name": "stdout"
        }
      ]
    },
    {
      "cell_type": "code",
      "metadata": {
        "id": "s59RTnlIUnzA",
        "outputId": "7512ed60-9655-43a4-cd4c-675b8bc30437",
        "colab": {
          "base_uri": "https://localhost:8080/",
          "height": 86
        }
      },
      "source": [
        "print(train_images.shape)\n",
        "print(train_labels.shape)\n",
        "\n",
        "print(test_images.shape)\n",
        "print(test_labels.shape)\n"
      ],
      "execution_count": 14,
      "outputs": [
        {
          "output_type": "stream",
          "text": [
            "(60000, 28, 28)\n",
            "(60000,)\n",
            "(10000, 28, 28)\n",
            "(10000,)\n"
          ],
          "name": "stdout"
        }
      ]
    },
    {
      "cell_type": "code",
      "metadata": {
        "id": "syIFBhCIVZb4"
      },
      "source": [
        "# Define the labels\n",
        "labels = [\n",
        "    'T-shirt/top',\n",
        "    'Trouser',\n",
        "    'Pullover',\n",
        "    'Dress',\n",
        "    'Coat',\n",
        "    'Sandal',\n",
        "    'Shirt',\n",
        "    'Sneaker',\n",
        "    'Bag',\n",
        "    'Ankle boot'\n",
        "]"
      ],
      "execution_count": 15,
      "outputs": []
    },
    {
      "cell_type": "code",
      "metadata": {
        "id": "_IVd6swpV-WY",
        "outputId": "2128a4d4-39ae-4baf-c163-44fcf6c1bdd0",
        "colab": {
          "base_uri": "https://localhost:8080/",
          "height": 52
        }
      },
      "source": [
        "print(train_labels[0])\n",
        "print(labels[train_labels[0]])"
      ],
      "execution_count": 16,
      "outputs": [
        {
          "output_type": "stream",
          "text": [
            "9\n",
            "Ankle boot\n"
          ],
          "name": "stdout"
        }
      ]
    },
    {
      "cell_type": "code",
      "metadata": {
        "id": "lzcKcLGhVgLA"
      },
      "source": [
        "train_images = train_images/255.0\n",
        "test_images = test_images/255.0"
      ],
      "execution_count": 17,
      "outputs": []
    },
    {
      "cell_type": "code",
      "metadata": {
        "id": "QIHPRwf_WYKK"
      },
      "source": [
        "import matplotlib.pyplot as plt"
      ],
      "execution_count": 18,
      "outputs": []
    },
    {
      "cell_type": "code",
      "metadata": {
        "id": "VUVeFnb0Wd-7",
        "outputId": "2285471c-d158-44cd-c880-906777b00498",
        "colab": {
          "base_uri": "https://localhost:8080/",
          "height": 282
        }
      },
      "source": [
        "plt.imshow(train_images[0,:])"
      ],
      "execution_count": 19,
      "outputs": [
        {
          "output_type": "execute_result",
          "data": {
            "text/plain": [
              "<matplotlib.image.AxesImage at 0x7fc88a06eef0>"
            ]
          },
          "metadata": {
            "tags": []
          },
          "execution_count": 19
        },
        {
          "output_type": "display_data",
          "data": {
            "image/png": "[encoded data removed]",
            "text/plain": [
              "<Figure size 432x288 with 1 Axes>"
            ]
          },
          "metadata": {
            "tags": [],
            "needs_background": "light"
          }
        }
      ]
    },
    {
      "cell_type": "code",
      "metadata": {
        "id": "fC6USSewXEEK"
      },
      "source": [
        "model = Sequential([\n",
        "                    Conv2D(16, kernel_size=3,activation='relu', strides=1, padding='valid', input_shape=(28, 28, 1)),\n",
        "                    MaxPooling2D(pool_size=3),\n",
        "                    Conv2D(32, kernel_size=3,activation='relu', strides=1, padding='valid'),\n",
        "                    MaxPooling2D(pool_size=3),\n",
        "                    Flatten(),\n",
        "                    Dense(10, activation='softmax')\n",
        "])\n",
        "\n",
        "opt = tf.keras.optimizers.Adam(learning_rate=0.005)\n",
        "acc=tf.keras.metrics.SparseCategoricalAccuracy()\n",
        "mae = tf.keras.metrics.MeanAbsoluteError()\n",
        "\n",
        "model.compile(optimizer= opt, # adam, rmsprop, sgd, \n",
        "              loss='sparse_categorical_crossentropy',  #categorical_crossentropy\n",
        "              metrics=[acc, mae])"
      ],
      "execution_count": 123,
      "outputs": []
    },
    {
      "cell_type": "code",
      "metadata": {
        "id": "2VeIOM_CZCvF",
        "outputId": "b02b1cc9-d048-4684-c39e-625a8f8c3099",
        "colab": {
          "base_uri": "https://localhost:8080/",
          "height": 364
        }
      },
      "source": [
        "model.summary()"
      ],
      "execution_count": 124,
      "outputs": [
        {
          "output_type": "stream",
          "text": [
            "Model: \"sequential_5\"\n",
            "_________________________________________________________________\n",
            "Layer (type)                 Output Shape              Param #   \n",
            "=================================================================\n",
            "conv2d_4 (Conv2D)            (None, 26, 26, 16)        160       \n",
            "_________________________________________________________________\n",
            "max_pooling2d_4 (MaxPooling2 (None, 8, 8, 16)          0         \n",
            "_________________________________________________________________\n",
            "conv2d_5 (Conv2D)            (None, 6, 6, 32)          4640      \n",
            "_________________________________________________________________\n",
            "max_pooling2d_5 (MaxPooling2 (None, 2, 2, 32)          0         \n",
            "_________________________________________________________________\n",
            "flatten_4 (Flatten)          (None, 128)               0         \n",
            "_________________________________________________________________\n",
            "dense_6 (Dense)              (None, 10)                1290      \n",
            "=================================================================\n",
            "Total params: 6,090\n",
            "Trainable params: 6,090\n",
            "Non-trainable params: 0\n",
            "_________________________________________________________________\n"
          ],
          "name": "stdout"
        }
      ]
    },
    {
      "cell_type": "code",
      "metadata": {
        "id": "JnEuYBgDZu2k"
      },
      "source": [
        "import numpy as np\n",
        "import pandas as pd"
      ],
      "execution_count": 125,
      "outputs": []
    },
    {
      "cell_type": "code",
      "metadata": {
        "id": "Nqya20vbYOYJ",
        "outputId": "dc131c1c-96e5-4772-eda0-b7abbe1fc3d5",
        "colab": {
          "base_uri": "https://localhost:8080/",
          "height": 34
        }
      },
      "source": [
        "train_images1 = train_images[..., np.newaxis]\n",
        "print(train_images1.shape)"
      ],
      "execution_count": 126,
      "outputs": [
        {
          "output_type": "stream",
          "text": [
            "(60000, 28, 28, 1)\n"
          ],
          "name": "stdout"
        }
      ]
    },
    {
      "cell_type": "code",
      "metadata": {
        "id": "C0wDj35CZ20Q",
        "outputId": "583bd57c-bd36-42eb-a426-b32ce69de5e1",
        "colab": {
          "base_uri": "https://localhost:8080/",
          "height": 364
        }
      },
      "source": [
        "hist=model.fit(train_images1, train_labels, epochs=10, batch_size=256, verbose = 2)"
      ],
      "execution_count": 127,
      "outputs": [
        {
          "output_type": "stream",
          "text": [
            "Epoch 1/10\n",
            "235/235 - 1s - loss: 0.6774 - sparse_categorical_accuracy: 0.7630 - mean_absolute_error: 4.4200\n",
            "Epoch 2/10\n",
            "235/235 - 1s - loss: 0.4179 - sparse_categorical_accuracy: 0.8511 - mean_absolute_error: 4.4200\n",
            "Epoch 3/10\n",
            "235/235 - 1s - loss: 0.3666 - sparse_categorical_accuracy: 0.8690 - mean_absolute_error: 4.4200\n",
            "Epoch 4/10\n",
            "235/235 - 1s - loss: 0.3433 - sparse_categorical_accuracy: 0.8772 - mean_absolute_error: 4.4200\n",
            "Epoch 5/10\n",
            "235/235 - 1s - loss: 0.3288 - sparse_categorical_accuracy: 0.8831 - mean_absolute_error: 4.4200\n",
            "Epoch 6/10\n",
            "235/235 - 1s - loss: 0.3133 - sparse_categorical_accuracy: 0.8872 - mean_absolute_error: 4.4200\n",
            "Epoch 7/10\n",
            "235/235 - 1s - loss: 0.3007 - sparse_categorical_accuracy: 0.8913 - mean_absolute_error: 4.4200\n",
            "Epoch 8/10\n",
            "235/235 - 1s - loss: 0.2932 - sparse_categorical_accuracy: 0.8922 - mean_absolute_error: 4.4200\n",
            "Epoch 9/10\n",
            "235/235 - 1s - loss: 0.2848 - sparse_categorical_accuracy: 0.8973 - mean_absolute_error: 4.4200\n",
            "Epoch 10/10\n",
            "235/235 - 1s - loss: 0.2837 - sparse_categorical_accuracy: 0.8967 - mean_absolute_error: 4.4200\n"
          ],
          "name": "stdout"
        }
      ]
    },
    {
      "cell_type": "code",
      "metadata": {
        "id": "c9-joaCzYrka",
        "outputId": "48769506-bd70-40cf-901f-9779e76fb1be",
        "colab": {
          "base_uri": "https://localhost:8080/",
          "height": 206
        }
      },
      "source": [
        "df = pd.DataFrame(hist.history)\n",
        "df.head()"
      ],
      "execution_count": 128,
      "outputs": [
        {
          "output_type": "execute_result",
          "data": {
            "text/html": [
              "<div>\n",
              "<style scoped>\n",
              "    .dataframe tbody tr th:only-of-type {\n",
              "        vertical-align: middle;\n",
              "    }\n",
              "\n",
              "    .dataframe tbody tr th {\n",
              "        vertical-align: top;\n",
              "    }\n",
              "\n",
              "    .dataframe thead th {\n",
              "        text-align: right;\n",
              "    }\n",
              "</style>\n",
              "<table border=\"1\" class=\"dataframe\">\n",
              "  <thead>\n",
              "    <tr style=\"text-align: right;\">\n",
              "      <th></th>\n",
              "      <th>loss</th>\n",
              "      <th>sparse_categorical_accuracy</th>\n",
              "      <th>mean_absolute_error</th>\n",
              "    </tr>\n",
              "  </thead>\n",
              "  <tbody>\n",
              "    <tr>\n",
              "      <th>0</th>\n",
              "      <td>0.677382</td>\n",
              "      <td>0.762967</td>\n",
              "      <td>4.420001</td>\n",
              "    </tr>\n",
              "    <tr>\n",
              "      <th>1</th>\n",
              "      <td>0.417948</td>\n",
              "      <td>0.851133</td>\n",
              "      <td>4.420001</td>\n",
              "    </tr>\n",
              "    <tr>\n",
              "      <th>2</th>\n",
              "      <td>0.366598</td>\n",
              "      <td>0.868950</td>\n",
              "      <td>4.420001</td>\n",
              "    </tr>\n",
              "    <tr>\n",
              "      <th>3</th>\n",
              "      <td>0.343260</td>\n",
              "      <td>0.877167</td>\n",
              "      <td>4.420000</td>\n",
              "    </tr>\n",
              "    <tr>\n",
              "      <th>4</th>\n",
              "      <td>0.328818</td>\n",
              "      <td>0.883067</td>\n",
              "      <td>4.419998</td>\n",
              "    </tr>\n",
              "  </tbody>\n",
              "</table>\n",
              "</div>"
            ],
            "text/plain": [
              "       loss  sparse_categorical_accuracy  mean_absolute_error\n",
              "0  0.677382                     0.762967             4.420001\n",
              "1  0.417948                     0.851133             4.420001\n",
              "2  0.366598                     0.868950             4.420001\n",
              "3  0.343260                     0.877167             4.420000\n",
              "4  0.328818                     0.883067             4.419998"
            ]
          },
          "metadata": {
            "tags": []
          },
          "execution_count": 128
        }
      ]
    },
    {
      "cell_type": "code",
      "metadata": {
        "id": "HzBCe2iwaxGr",
        "outputId": "a2cfd20a-b1e6-404c-8f6d-948dc5f64770",
        "colab": {
          "base_uri": "https://localhost:8080/",
          "height": 573
        }
      },
      "source": [
        "loss_plot = df.plot(y=\"loss\", title = \"Epochs vs Loss\", legend=False, xlabel='epoch', ylabel='Loss')\n",
        "acc_plot = df.plot(y=\"sparse_categorical_accuracy\", title = \"Epochs vs Accuracy\", legend=False, xlabel='epoch', ylabel='Accuracy')"
      ],
      "execution_count": 129,
      "outputs": [
        {
          "output_type": "display_data",
          "data": {
            "image/png": "[encoded data removed]",
            "text/plain": [
              "<Figure size 432x288 with 1 Axes>"
            ]
          },
          "metadata": {
            "tags": [],
            "needs_background": "light"
          }
        },
        {
          "output_type": "display_data",
          "data": {
            "image/png": "[encoded data removed]",
            "text/plain": [
              "<Figure size 432x288 with 1 Axes>"
            ]
          },
          "metadata": {
            "tags": [],
            "needs_background": "light"
          }
        }
      ]
    },
    {
      "cell_type": "code",
      "metadata": {
        "id": "MnsQfNMNbbf-",
        "outputId": "b24a0ecb-3044-4ebb-9c43-5e9c4edc4867",
        "colab": {
          "base_uri": "https://localhost:8080/",
          "height": 34
        }
      },
      "source": [
        "loss, sca, mae = model.evaluate(test_images[...,np.newaxis], test_labels)"
      ],
      "execution_count": 130,
      "outputs": [
        {
          "output_type": "stream",
          "text": [
            "313/313 [==============================] - 1s 3ms/step - loss: 0.3221 - sparse_categorical_accuracy: 0.8859 - mean_absolute_error: 4.4200\n"
          ],
          "name": "stdout"
        }
      ]
    },
    {
      "cell_type": "code",
      "metadata": {
        "id": "IyVCM5tReILi",
        "outputId": "36a0f629-1285-4047-f53e-81f2638c9c6e",
        "colab": {
          "base_uri": "https://localhost:8080/",
          "height": 69
        }
      },
      "source": [
        "print(test_images.shape)\n",
        "print(test_images[...,np.newaxis].shape)\n",
        "print(test_labels.shape)"
      ],
      "execution_count": 131,
      "outputs": [
        {
          "output_type": "stream",
          "text": [
            "(10000, 28, 28)\n",
            "(10000, 28, 28, 1)\n",
            "(10000,)\n"
          ],
          "name": "stdout"
        }
      ]
    },
    {
      "cell_type": "code",
      "metadata": {
        "id": "xQlBn15zY3HW",
        "outputId": "24b262a6-1ed0-4cc5-c588-7f6e7a048302",
        "colab": {
          "base_uri": "https://localhost:8080/",
          "height": 69
        }
      },
      "source": [
        "print('loss = ', loss)\n",
        "print('sparse_categorical_accuracy = ', sca)\n",
        "print('mean_absolute_error = ', mae)"
      ],
      "execution_count": 132,
      "outputs": [
        {
          "output_type": "stream",
          "text": [
            "loss =  0.3221147656440735\n",
            "sparse_categorical_accuracy =  0.8859000205993652\n",
            "mean_absolute_error =  4.419997215270996\n"
          ],
          "name": "stdout"
        }
      ]
    },
    {
      "cell_type": "code",
      "metadata": {
        "id": "_NC8P85JYJY-",
        "outputId": "0e60435a-aeef-439c-ed04-26a2a2db1920",
        "colab": {
          "base_uri": "https://localhost:8080/",
          "height": 141
        }
      },
      "source": [
        "img = test_images[0:10, :]\n",
        "\n",
        "#print(img.shape)\n",
        "#plt.imshow(img[0])\n",
        "#plt.show()\n",
        "\n",
        "fig = plt.figure(figsize = (20, 10))\n",
        "for x in range(0, img.shape[0]) :\n",
        "  fig.add_subplot(2, 10, x+1)\n",
        "  plt.imshow(img[x], aspect='equal')\n",
        "  plt.title(x)\n",
        "  plt.axis('off')\n",
        "plt.show()\n",
        "  "
      ],
      "execution_count": 143,
      "outputs": [
        {
          "output_type": "display_data",
          "data": {
            "image/png": "[encoded data removed]",
            "text/plain": [
              "<Figure size 1440x720 with 10 Axes>"
            ]
          },
          "metadata": {
            "tags": [],
            "needs_background": "light"
          }
        }
      ]
    },
    {
      "cell_type": "code",
      "metadata": {
        "id": "Q8Wey3cSbh0v",
        "outputId": "99d2b171-1798-4c96-8876-13cad002662a",
        "colab": {
          "base_uri": "https://localhost:8080/",
          "height": 191
        }
      },
      "source": [
        "predictions=model.predict(img[...,np.newaxis])\n",
        "\n",
        "#predictions=model.predict(img[...,np.newaxis])\n",
        "#print(predictions.shape)\n",
        "#print(np.argmax(predictions))\n",
        "#print('Predicted = ',labels[test_labels[np.argmax(predictions)]])\n",
        "\n",
        "for i in range(0, predictions.shape[0]):\n",
        "  #print(np.argmax(predictions[i]))\n",
        "  print(i, ' Predicted = ',labels[test_labels[np.argmax(predictions[i])]])\n"
      ],
      "execution_count": 144,
      "outputs": [
        {
          "output_type": "stream",
          "text": [
            "0  Predicted =  Sneaker\n",
            "1  Predicted =  Trouser\n",
            "2  Predicted =  Pullover\n",
            "3  Predicted =  Pullover\n",
            "4  Predicted =  Coat\n",
            "5  Predicted =  Pullover\n",
            "6  Predicted =  Shirt\n",
            "7  Predicted =  Coat\n",
            "8  Predicted =  Trouser\n",
            "9  Predicted =  Shirt\n"
          ],
          "name": "stdout"
        }
      ]
    },
    {
      "cell_type": "code",
      "metadata": {
        "id": "Tu6xyqhbbm8y"
      },
      "source": [
        ""
      ],
      "execution_count": null,
      "outputs": []
    }
  ]
}