{
  "nbformat": 4,
  "nbformat_minor": 0,
  "metadata": {
    "colab": {
      "name": "wk2-first-model.ipynb",
      "provenance": [],
      "toc_visible": true,
      "authorship_tag": "ABX9TyMD0byb4RuM/9FeBhr938u9",
      "include_colab_link": true
    },
    "kernelspec": {
      "name": "python3",
      "display_name": "Python 3"
    },
    "accelerator": "GPU"
  },
  "cells": [
    {
      "cell_type": "markdown",
      "metadata": {
        "id": "view-in-github",
        "colab_type": "text"
      },
      "source": [
        "<a href=\"https://colab.research.google.com/github/ravitata/tensorflow2/blob/master/wk2_first_model.ipynb\" target=\"_parent\"><img src=\"https://colab.research.google.com/assets/colab-badge.svg\" alt=\"Open In Colab\"/></a>"
      ]
    },
    {
      "cell_type": "code",
      "metadata": {
        "id": "3s1DJnTJsRs0",
        "outputId": "847c8901-084a-4df9-da79-9b004df705ff",
        "colab": {
          "base_uri": "https://localhost:8080/",
          "height": 34
        }
      },
      "source": [
        "import tensorflow as tf\n",
        "print(tf.__version__)"
      ],
      "execution_count": 3,
      "outputs": [
        {
          "output_type": "stream",
          "text": [
            "2.3.0\n"
          ],
          "name": "stdout"
        }
      ]
    },
    {
      "cell_type": "code",
      "metadata": {
        "id": "K_r1fOhOs1ZF"
      },
      "source": [
        "from tensorflow.keras.models import Sequential\n",
        "from tensorflow.keras.layers import Flatten, Dense, Softmax"
      ],
      "execution_count": 4,
      "outputs": []
    },
    {
      "cell_type": "code",
      "metadata": {
        "id": "ilqNh76ItXy0"
      },
      "source": [
        "model = Sequential([\n",
        "                    Flatten(input_shape=(28, 28), name='myflatlayer'),\n",
        "                    Dense(16,activation='relu'),\n",
        "                    Dense(16,activation='relu', name='myDense2'),\n",
        "                    Dense(16,activation='tanh', name='mytanh'),\n",
        "                    #Dense(10, activation='softmax'),\n",
        "                    Dense(10),\n",
        "                    Softmax(name='mysoftmax')\n",
        "])"
      ],
      "execution_count": 39,
      "outputs": []
    },
    {
      "cell_type": "code",
      "metadata": {
        "id": "cPcn4ZShuK94",
        "outputId": "8199e98a-5820-4682-fc2e-4129d330c0fc",
        "colab": {
          "base_uri": "https://localhost:8080/",
          "height": 364
        }
      },
      "source": [
        "#model.weights\n",
        "model.summary()"
      ],
      "execution_count": 40,
      "outputs": [
        {
          "output_type": "stream",
          "text": [
            "Model: \"sequential_23\"\n",
            "_________________________________________________________________\n",
            "Layer (type)                 Output Shape              Param #   \n",
            "=================================================================\n",
            "myflatlayer (Flatten)        (None, 784)               0         \n",
            "_________________________________________________________________\n",
            "dense_24 (Dense)             (None, 16)                12560     \n",
            "_________________________________________________________________\n",
            "myDense2 (Dense)             (None, 16)                272       \n",
            "_________________________________________________________________\n",
            "mytanh (Dense)               (None, 16)                272       \n",
            "_________________________________________________________________\n",
            "dense_25 (Dense)             (None, 10)                170       \n",
            "_________________________________________________________________\n",
            "mysoftmax (Softmax)          (None, 10)                0         \n",
            "=================================================================\n",
            "Total params: 13,274\n",
            "Trainable params: 13,274\n",
            "Non-trainable params: 0\n",
            "_________________________________________________________________\n"
          ],
          "name": "stdout"
        }
      ]
    },
    {
      "cell_type": "code",
      "metadata": {
        "id": "oi5Ov_jTuNSP",
        "outputId": "51b420bd-6805-4090-a988-ad24bc7ba4e5",
        "colab": {
          "base_uri": "https://localhost:8080/",
          "height": 69
        }
      },
      "source": [
        "print(784*16+16)\n",
        "print(16*16+16)\n",
        "print(16*10+10)"
      ],
      "execution_count": 41,
      "outputs": [
        {
          "output_type": "stream",
          "text": [
            "12560\n",
            "272\n",
            "170\n"
          ],
          "name": "stdout"
        }
      ]
    },
    {
      "cell_type": "code",
      "metadata": {
        "id": "fdCQ44W1wdiJ",
        "outputId": "e73a2321-21c6-465a-b4d3-0a4b714ae02d",
        "colab": {
          "base_uri": "https://localhost:8080/",
          "height": 34
        }
      },
      "source": [
        "n1=32  # input shape\n",
        "f=16   #filter size\n",
        "p=0   #padding\n",
        "f=3   #no of filters (will be equal to no of channels in output)\n",
        "s=1   #stride\n",
        "\n",
        "n2 = (n1+2*p-f)/s + 1\n",
        "print('Output shape=', n2)\n"
      ],
      "execution_count": 42,
      "outputs": [
        {
          "output_type": "stream",
          "text": [
            "Output shape= 30.0\n"
          ],
          "name": "stdout"
        }
      ]
    },
    {
      "cell_type": "code",
      "metadata": {
        "id": "_jg_M4vUCkLE"
      },
      "source": [
        "from tensorflow.keras.models import Sequential\n",
        "from tensorflow.keras.layers import Dense, Softmax, Conv2D, MaxPooling2D"
      ],
      "execution_count": 5,
      "outputs": []
    },
    {
      "cell_type": "code",
      "metadata": {
        "id": "CSZn_UQiG96D"
      },
      "source": [
        "model = Sequential([\n",
        "                    Conv2D(16, kernel_size=3,activation='relu', strides=1, padding='valid', input_shape=(28, 28, 1)),\n",
        "                    MaxPooling2D(pool_size=3),\n",
        "                    Flatten(),\n",
        "                    Dense(10, activation='softmax')\n",
        "])"
      ],
      "execution_count": 44,
      "outputs": []
    },
    {
      "cell_type": "code",
      "metadata": {
        "id": "DtN_sIXnHpsj",
        "outputId": "7e2d6cdb-c9fb-48ac-c181-030713b9f982",
        "colab": {
          "base_uri": "https://localhost:8080/",
          "height": 295
        }
      },
      "source": [
        "model.summary()"
      ],
      "execution_count": 45,
      "outputs": [
        {
          "output_type": "stream",
          "text": [
            "Model: \"sequential_24\"\n",
            "_________________________________________________________________\n",
            "Layer (type)                 Output Shape              Param #   \n",
            "=================================================================\n",
            "conv2d_22 (Conv2D)           (None, 26, 26, 16)        160       \n",
            "_________________________________________________________________\n",
            "max_pooling2d_22 (MaxPooling (None, 8, 8, 16)          0         \n",
            "_________________________________________________________________\n",
            "flatten_22 (Flatten)         (None, 1024)              0         \n",
            "_________________________________________________________________\n",
            "dense_26 (Dense)             (None, 10)                10250     \n",
            "=================================================================\n",
            "Total params: 10,410\n",
            "Trainable params: 10,410\n",
            "Non-trainable params: 0\n",
            "_________________________________________________________________\n"
          ],
          "name": "stdout"
        }
      ]
    },
    {
      "cell_type": "code",
      "metadata": {
        "id": "At0viTzAHuvj",
        "outputId": "3fb65a15-ad1c-4896-d16d-5d77b3779f53",
        "colab": {
          "base_uri": "https://localhost:8080/",
          "height": 34
        }
      },
      "source": [
        "8*8*16"
      ],
      "execution_count": 46,
      "outputs": [
        {
          "output_type": "execute_result",
          "data": {
            "text/plain": [
              "1024"
            ]
          },
          "metadata": {
            "tags": []
          },
          "execution_count": 46
        }
      ]
    },
    {
      "cell_type": "code",
      "metadata": {
        "id": "QXNoA8ropTYw",
        "outputId": "7caee09a-714d-45fa-e995-49ee4e4b6f99",
        "colab": {
          "base_uri": "https://localhost:8080/",
          "height": 69
        }
      },
      "source": [
        "model = Sequential([\n",
        "                    Conv2D(16, kernel_size=3, activation='relu', padding='same', input_shape=(28,28,1)),\n",
        "                    MaxPooling2D(pool_size=2),\n",
        "                    Flatten(),\n",
        "                    Dense(10, activation='softmax')\n",
        "])\n",
        "\n",
        "model.compile(optimizer='rmsprop', # adam, rmsprop, sgd, \n",
        "              loss='sparse_categorical_crossentropy',  #categorical_crossentropy\n",
        "              metrics=['acc', 'mae'])\n",
        "\n",
        "print(model.loss)\n",
        "print(model.optimizer)\n",
        "print(model.metrics_names)  #need to call fit before calling metrics_names\n"
      ],
      "execution_count": 47,
      "outputs": [
        {
          "output_type": "stream",
          "text": [
            "sparse_categorical_crossentropy\n",
            "<tensorflow.python.keras.optimizer_v2.rmsprop.RMSprop object at 0x7ff01e0dca58>\n",
            "[]\n"
          ],
          "name": "stdout"
        }
      ]
    },
    {
      "cell_type": "markdown",
      "metadata": {
        "id": "7X-JGtO63jEf"
      },
      "source": [
        "### Instead of passing strings like above, we can pass Keras objects. It gives more flexibility as param can be passed"
      ]
    },
    {
      "cell_type": "code",
      "metadata": {
        "id": "6_oAwGPzvuW1",
        "outputId": "e1c84d72-de99-41d1-a212-3eb3974d0d34",
        "colab": {
          "base_uri": "https://localhost:8080/",
          "height": 52
        }
      },
      "source": [
        "model = Sequential([\n",
        "                    Conv2D(16, kernel_size=3, activation='relu', padding='same', input_shape=(28,28,1)),\n",
        "                    MaxPooling2D(pool_size=2),\n",
        "                    Flatten(),\n",
        "                    Dense(10, activation='softmax')\n",
        "])\n",
        "\n",
        "opt = tf.keras.optimizers.SGD(learning_rate=0.001, momentum=0.9)\n",
        "loss = tf.keras.losses.SparseCategoricalCrossentropy()\n",
        "acc=[tf.keras.metrics.Accuracy(), tf.keras.metrics.MeanAbsoluteError()]\n",
        "\n",
        "model.compile(optimizer= opt,\n",
        "              loss= loss,\n",
        "              metrics=acc)\n",
        "\n",
        "print(model.loss)\n",
        "print(model.optimizer)"
      ],
      "execution_count": 48,
      "outputs": [
        {
          "output_type": "stream",
          "text": [
            "<tensorflow.python.keras.losses.SparseCategoricalCrossentropy object at 0x7ff01e0dcb38>\n",
            "<tensorflow.python.keras.optimizer_v2.gradient_descent.SGD object at 0x7ff01e07d9e8>\n"
          ],
          "name": "stdout"
        }
      ]
    },
    {
      "cell_type": "code",
      "metadata": {
        "id": "Vwz370uGz0hv",
        "outputId": "4b0c6224-d43c-4667-c7ac-5ccd997d9b5e",
        "colab": {
          "base_uri": "https://localhost:8080/",
          "height": 156
        }
      },
      "source": [
        "fashion_mnist_data = tf.keras.datasets.fashion_mnist\n",
        "(train_images, train_labels), (test_images, test_labels) = fashion_mnist_data.load_data()"
      ],
      "execution_count": 6,
      "outputs": [
        {
          "output_type": "stream",
          "text": [
            "Downloading data from https://storage.googleapis.com/tensorflow/tf-keras-datasets/train-labels-idx1-ubyte.gz\n",
            "32768/29515 [=================================] - 0s 0us/step\n",
            "Downloading data from https://storage.googleapis.com/tensorflow/tf-keras-datasets/train-images-idx3-ubyte.gz\n",
            "26427392/26421880 [==============================] - 0s 0us/step\n",
            "Downloading data from https://storage.googleapis.com/tensorflow/tf-keras-datasets/t10k-labels-idx1-ubyte.gz\n",
            "8192/5148 [===============================================] - 0s 0us/step\n",
            "Downloading data from https://storage.googleapis.com/tensorflow/tf-keras-datasets/t10k-images-idx3-ubyte.gz\n",
            "4423680/4422102 [==============================] - 0s 0us/step\n"
          ],
          "name": "stdout"
        }
      ]
    },
    {
      "cell_type": "code",
      "metadata": {
        "id": "s59RTnlIUnzA",
        "outputId": "a9e5c0e5-7f2d-4ce0-acbc-c5f5c87363ce",
        "colab": {
          "base_uri": "https://localhost:8080/",
          "height": 86
        }
      },
      "source": [
        "print(train_images.shape)\n",
        "print(train_labels.shape)\n",
        "\n",
        "print(test_images.shape)\n",
        "print(test_labels.shape)\n"
      ],
      "execution_count": 7,
      "outputs": [
        {
          "output_type": "stream",
          "text": [
            "(60000, 28, 28)\n",
            "(60000,)\n",
            "(10000, 28, 28)\n",
            "(10000,)\n"
          ],
          "name": "stdout"
        }
      ]
    },
    {
      "cell_type": "code",
      "metadata": {
        "id": "syIFBhCIVZb4"
      },
      "source": [
        "# Define the labels\n",
        "labels = [\n",
        "    'T-shirt/top',\n",
        "    'Trouser',\n",
        "    'Pullover',\n",
        "    'Dress',\n",
        "    'Coat',\n",
        "    'Sandal',\n",
        "    'Shirt',\n",
        "    'Sneaker',\n",
        "    'Bag',\n",
        "    'Ankle boot'\n",
        "]"
      ],
      "execution_count": 8,
      "outputs": []
    },
    {
      "cell_type": "code",
      "metadata": {
        "id": "_IVd6swpV-WY",
        "outputId": "e83afd10-6a6c-44d3-8038-44a2b1428dac",
        "colab": {
          "base_uri": "https://localhost:8080/",
          "height": 52
        }
      },
      "source": [
        "print(train_labels[0])\n",
        "print(labels[train_labels[0]])"
      ],
      "execution_count": 9,
      "outputs": [
        {
          "output_type": "stream",
          "text": [
            "9\n",
            "Ankle boot\n"
          ],
          "name": "stdout"
        }
      ]
    },
    {
      "cell_type": "code",
      "metadata": {
        "id": "lzcKcLGhVgLA"
      },
      "source": [
        "train_images = train_images/255.0\n",
        "test_images = test_images/255.0"
      ],
      "execution_count": 10,
      "outputs": []
    },
    {
      "cell_type": "code",
      "metadata": {
        "id": "QIHPRwf_WYKK"
      },
      "source": [
        "import matplotlib.pyplot as plt"
      ],
      "execution_count": 11,
      "outputs": []
    },
    {
      "cell_type": "code",
      "metadata": {
        "id": "VUVeFnb0Wd-7",
        "outputId": "0d5a5b19-a402-4972-eda3-57e67f6e3017",
        "colab": {
          "base_uri": "https://localhost:8080/",
          "height": 282
        }
      },
      "source": [
        "plt.imshow(train_images[0,:])"
      ],
      "execution_count": 12,
      "outputs": [
        {
          "output_type": "execute_result",
          "data": {
            "text/plain": [
              "<matplotlib.image.AxesImage at 0x7f975dc02b38>"
            ]
          },
          "metadata": {
            "tags": []
          },
          "execution_count": 12
        },
        {
          "output_type": "display_data",
          "data": {
            "image/png": "[encoded data removed]",
            "text/plain": [
              "<Figure size 432x288 with 1 Axes>"
            ]
          },
          "metadata": {
            "tags": [],
            "needs_background": "light"
          }
        }
      ]
    },
    {
      "cell_type": "code",
      "metadata": {
        "id": "fC6USSewXEEK"
      },
      "source": [
        "model = Sequential([\n",
        "                    Conv2D(16, kernel_size=3,activation='relu', strides=1, padding='valid', input_shape=(28, 28, 1)),\n",
        "                    MaxPooling2D(pool_size=3),\n",
        "                    Flatten(),\n",
        "                    Dense(10, activation='softmax')\n",
        "])\n",
        "\n",
        "opt = tf.keras.optimizers.Adam(learning_rate=0.005)\n",
        "acc=tf.keras.metrics.SparseCategoricalAccuracy()\n",
        "mae = tf.keras.metrics.MeanAbsoluteError()\n",
        "\n",
        "model.compile(optimizer= opt, # adam, rmsprop, sgd, \n",
        "              loss='sparse_categorical_crossentropy',  #categorical_crossentropy\n",
        "              metrics=[acc, mae])"
      ],
      "execution_count": 21,
      "outputs": []
    },
    {
      "cell_type": "code",
      "metadata": {
        "id": "2VeIOM_CZCvF",
        "outputId": "2832e7e8-56c7-4d16-ac61-7c4c152d084a",
        "colab": {
          "base_uri": "https://localhost:8080/",
          "height": 295
        }
      },
      "source": [
        "model.summary()"
      ],
      "execution_count": 22,
      "outputs": [
        {
          "output_type": "stream",
          "text": [
            "Model: \"sequential_1\"\n",
            "_________________________________________________________________\n",
            "Layer (type)                 Output Shape              Param #   \n",
            "=================================================================\n",
            "conv2d_1 (Conv2D)            (None, 26, 26, 16)        160       \n",
            "_________________________________________________________________\n",
            "max_pooling2d_1 (MaxPooling2 (None, 8, 8, 16)          0         \n",
            "_________________________________________________________________\n",
            "flatten_1 (Flatten)          (None, 1024)              0         \n",
            "_________________________________________________________________\n",
            "dense_1 (Dense)              (None, 10)                10250     \n",
            "=================================================================\n",
            "Total params: 10,410\n",
            "Trainable params: 10,410\n",
            "Non-trainable params: 0\n",
            "_________________________________________________________________\n"
          ],
          "name": "stdout"
        }
      ]
    },
    {
      "cell_type": "code",
      "metadata": {
        "id": "JnEuYBgDZu2k"
      },
      "source": [
        "import numpy as np\n",
        "import pandas as pd"
      ],
      "execution_count": 28,
      "outputs": []
    },
    {
      "cell_type": "code",
      "metadata": {
        "id": "Nqya20vbYOYJ",
        "outputId": "941d42d9-d5b1-4b41-b77b-2e147962a9ae",
        "colab": {
          "base_uri": "https://localhost:8080/",
          "height": 34
        }
      },
      "source": [
        "train_images1 = train_images[..., np.newaxis]\n",
        "print(train_images1.shape)"
      ],
      "execution_count": 18,
      "outputs": [
        {
          "output_type": "stream",
          "text": [
            "(60000, 28, 28, 1)\n"
          ],
          "name": "stdout"
        }
      ]
    },
    {
      "cell_type": "code",
      "metadata": {
        "id": "C0wDj35CZ20Q",
        "outputId": "95785b92-7156-4550-f131-66737e6c6a57",
        "colab": {
          "base_uri": "https://localhost:8080/",
          "height": 364
        }
      },
      "source": [
        "hist=model.fit(train_images1, train_labels, epochs=10, batch_size=256, verbose = 2)"
      ],
      "execution_count": 25,
      "outputs": [
        {
          "output_type": "stream",
          "text": [
            "Epoch 1/10\n",
            "235/235 - 1s - loss: 0.2642 - sparse_categorical_accuracy: 0.9052 - mean_absolute_error: 4.4200\n",
            "Epoch 2/10\n",
            "235/235 - 1s - loss: 0.2659 - sparse_categorical_accuracy: 0.9035 - mean_absolute_error: 4.4200\n",
            "Epoch 3/10\n",
            "235/235 - 1s - loss: 0.2566 - sparse_categorical_accuracy: 0.9075 - mean_absolute_error: 4.4200\n",
            "Epoch 4/10\n",
            "235/235 - 1s - loss: 0.2538 - sparse_categorical_accuracy: 0.9088 - mean_absolute_error: 4.4200\n",
            "Epoch 5/10\n",
            "235/235 - 1s - loss: 0.2501 - sparse_categorical_accuracy: 0.9095 - mean_absolute_error: 4.4200\n",
            "Epoch 6/10\n",
            "235/235 - 1s - loss: 0.2487 - sparse_categorical_accuracy: 0.9094 - mean_absolute_error: 4.4200\n",
            "Epoch 7/10\n",
            "235/235 - 1s - loss: 0.2458 - sparse_categorical_accuracy: 0.9113 - mean_absolute_error: 4.4200\n",
            "Epoch 8/10\n",
            "235/235 - 1s - loss: 0.2388 - sparse_categorical_accuracy: 0.9137 - mean_absolute_error: 4.4200\n",
            "Epoch 9/10\n",
            "235/235 - 1s - loss: 0.2383 - sparse_categorical_accuracy: 0.9126 - mean_absolute_error: 4.4200\n",
            "Epoch 10/10\n",
            "235/235 - 1s - loss: 0.2357 - sparse_categorical_accuracy: 0.9140 - mean_absolute_error: 4.4200\n"
          ],
          "name": "stdout"
        }
      ]
    },
    {
      "cell_type": "code",
      "metadata": {
        "id": "c9-joaCzYrka",
        "outputId": "7ba5d485-687b-4dc1-cdbe-54d5b8f757ee",
        "colab": {
          "base_uri": "https://localhost:8080/",
          "height": 206
        }
      },
      "source": [
        "df = pd.DataFrame(hist.history)\n",
        "df.head()"
      ],
      "execution_count": 29,
      "outputs": [
        {
          "output_type": "execute_result",
          "data": {
            "text/html": [
              "<div>\n",
              "<style scoped>\n",
              "    .dataframe tbody tr th:only-of-type {\n",
              "        vertical-align: middle;\n",
              "    }\n",
              "\n",
              "    .dataframe tbody tr th {\n",
              "        vertical-align: top;\n",
              "    }\n",
              "\n",
              "    .dataframe thead th {\n",
              "        text-align: right;\n",
              "    }\n",
              "</style>\n",
              "<table border=\"1\" class=\"dataframe\">\n",
              "  <thead>\n",
              "    <tr style=\"text-align: right;\">\n",
              "      <th></th>\n",
              "      <th>loss</th>\n",
              "      <th>sparse_categorical_accuracy</th>\n",
              "      <th>mean_absolute_error</th>\n",
              "    </tr>\n",
              "  </thead>\n",
              "  <tbody>\n",
              "    <tr>\n",
              "      <th>0</th>\n",
              "      <td>0.264227</td>\n",
              "      <td>0.905217</td>\n",
              "      <td>4.419999</td>\n",
              "    </tr>\n",
              "    <tr>\n",
              "      <th>1</th>\n",
              "      <td>0.265899</td>\n",
              "      <td>0.903517</td>\n",
              "      <td>4.420001</td>\n",
              "    </tr>\n",
              "    <tr>\n",
              "      <th>2</th>\n",
              "      <td>0.256580</td>\n",
              "      <td>0.907533</td>\n",
              "      <td>4.419999</td>\n",
              "    </tr>\n",
              "    <tr>\n",
              "      <th>3</th>\n",
              "      <td>0.253829</td>\n",
              "      <td>0.908817</td>\n",
              "      <td>4.420001</td>\n",
              "    </tr>\n",
              "    <tr>\n",
              "      <th>4</th>\n",
              "      <td>0.250102</td>\n",
              "      <td>0.909500</td>\n",
              "      <td>4.419999</td>\n",
              "    </tr>\n",
              "  </tbody>\n",
              "</table>\n",
              "</div>"
            ],
            "text/plain": [
              "       loss  sparse_categorical_accuracy  mean_absolute_error\n",
              "0  0.264227                     0.905217             4.419999\n",
              "1  0.265899                     0.903517             4.420001\n",
              "2  0.256580                     0.907533             4.419999\n",
              "3  0.253829                     0.908817             4.420001\n",
              "4  0.250102                     0.909500             4.419999"
            ]
          },
          "metadata": {
            "tags": []
          },
          "execution_count": 29
        }
      ]
    },
    {
      "cell_type": "code",
      "metadata": {
        "id": "HzBCe2iwaxGr",
        "outputId": "1fecb9a8-c5a2-4f70-8e55-5d4b0c035695",
        "colab": {
          "base_uri": "https://localhost:8080/",
          "height": 573
        }
      },
      "source": [
        "loss_plot = df.plot(y=\"loss\", title = \"Epochs vs Loss\", legend=False, xlabel='epoch', ylabel='Loss')\n",
        "acc_plot = df.plot(y=\"sparse_categorical_accuracy\", title = \"Epochs vs Accuracy\", legend=False, xlabel='epoch', ylabel='Accuracy')"
      ],
      "execution_count": 39,
      "outputs": [
        {
          "output_type": "display_data",
          "data": {
            "image/png": "[encoded data removed]",
            "text/plain": [
              "<Figure size 432x288 with 1 Axes>"
            ]
          },
          "metadata": {
            "tags": [],
            "needs_background": "light"
          }
        },
        {
          "output_type": "display_data",
          "data": {
            "image/png": "[encoded data removed]",
            "text/plain": [
              "<Figure size 432x288 with 1 Axes>"
            ]
          },
          "metadata": {
            "tags": [],
            "needs_background": "light"
          }
        }
      ]
    },
    {
      "cell_type": "code",
      "metadata": {
        "id": "MnsQfNMNbbf-"
      },
      "source": [
        ""
      ],
      "execution_count": null,
      "outputs": []
    }
  ]
}