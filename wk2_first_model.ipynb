{
  "nbformat": 4,
  "nbformat_minor": 0,
  "metadata": {
    "colab": {
      "name": "wk2-first-model.ipynb",
      "provenance": [],
      "authorship_tag": "ABX9TyMeDwn9mncZA/Z/K75X9C2F",
      "include_colab_link": true
    },
    "kernelspec": {
      "name": "python3",
      "display_name": "Python 3"
    }
  },
  "cells": [
    {
      "cell_type": "markdown",
      "metadata": {
        "id": "view-in-github",
        "colab_type": "text"
      },
      "source": [
        "<a href=\"https://colab.research.google.com/github/ravitata/tensorflow2/blob/master/wk2_first_model.ipynb\" target=\"_parent\"><img src=\"https://colab.research.google.com/assets/colab-badge.svg\" alt=\"Open In Colab\"/></a>"
      ]
    },
    {
      "cell_type": "code",
      "metadata": {
        "id": "3s1DJnTJsRs0",
        "outputId": "021d1d7f-0c2f-449e-b82e-292bd976b6b0",
        "colab": {
          "base_uri": "https://localhost:8080/",
          "height": 34
        }
      },
      "source": [
        "import tensorflow as tf\n",
        "print(tf.__version__)"
      ],
      "execution_count": 1,
      "outputs": [
        {
          "output_type": "stream",
          "text": [
            "2.3.0\n"
          ],
          "name": "stdout"
        }
      ]
    },
    {
      "cell_type": "code",
      "metadata": {
        "id": "K_r1fOhOs1ZF"
      },
      "source": [
        "from tensorflow.keras.models import Sequential\n",
        "from tensorflow.keras.layers import Flatten, Dense, Softmax"
      ],
      "execution_count": 2,
      "outputs": []
    },
    {
      "cell_type": "code",
      "metadata": {
        "id": "ilqNh76ItXy0"
      },
      "source": [
        "model = Sequential([\n",
        "                    Flatten(input_shape=(28, 28), name='myflatlayer'),\n",
        "                    Dense(16,activation='relu'),\n",
        "                    Dense(16,activation='relu', name='myDense2'),\n",
        "                    Dense(16,activation='tanh', name='mytanh'),\n",
        "                    #Dense(10, activation='softmax'),\n",
        "                    Dense(10),\n",
        "                    Softmax(name='mysoftmax')\n",
        "])"
      ],
      "execution_count": 3,
      "outputs": []
    },
    {
      "cell_type": "code",
      "metadata": {
        "id": "cPcn4ZShuK94",
        "outputId": "e1cef503-4cad-4ce4-fa39-65bfbed98bcd",
        "colab": {
          "base_uri": "https://localhost:8080/",
          "height": 364
        }
      },
      "source": [
        "#model.weights\n",
        "model.summary()"
      ],
      "execution_count": 4,
      "outputs": [
        {
          "output_type": "stream",
          "text": [
            "Model: \"sequential\"\n",
            "_________________________________________________________________\n",
            "Layer (type)                 Output Shape              Param #   \n",
            "=================================================================\n",
            "myflatlayer (Flatten)        (None, 784)               0         \n",
            "_________________________________________________________________\n",
            "dense (Dense)                (None, 16)                12560     \n",
            "_________________________________________________________________\n",
            "myDense2 (Dense)             (None, 16)                272       \n",
            "_________________________________________________________________\n",
            "mytanh (Dense)               (None, 16)                272       \n",
            "_________________________________________________________________\n",
            "dense_1 (Dense)              (None, 10)                170       \n",
            "_________________________________________________________________\n",
            "mysoftmax (Softmax)          (None, 10)                0         \n",
            "=================================================================\n",
            "Total params: 13,274\n",
            "Trainable params: 13,274\n",
            "Non-trainable params: 0\n",
            "_________________________________________________________________\n"
          ],
          "name": "stdout"
        }
      ]
    },
    {
      "cell_type": "code",
      "metadata": {
        "id": "oi5Ov_jTuNSP",
        "outputId": "515b96f7-009a-42f9-9933-e63dbd77a5d8",
        "colab": {
          "base_uri": "https://localhost:8080/",
          "height": 69
        }
      },
      "source": [
        "print(784*16+16)\n",
        "print(16*16+16)\n",
        "print(16*10+10)"
      ],
      "execution_count": 5,
      "outputs": [
        {
          "output_type": "stream",
          "text": [
            "12560\n",
            "272\n",
            "170\n"
          ],
          "name": "stdout"
        }
      ]
    },
    {
      "cell_type": "code",
      "metadata": {
        "id": "fdCQ44W1wdiJ",
        "outputId": "4a7702c9-15da-4cfb-90ff-bc79a11a2a46",
        "colab": {
          "base_uri": "https://localhost:8080/",
          "height": 34
        }
      },
      "source": [
        "n1=32  # input shape\n",
        "f=16   #filter size\n",
        "p=0   #padding\n",
        "f=3   #no of filters (will be equal to no of channels in output)\n",
        "s=1   #stride\n",
        "\n",
        "n2 = (n1+2*p-f)/s + 1\n",
        "print('Output shape=', n2)\n"
      ],
      "execution_count": 6,
      "outputs": [
        {
          "output_type": "stream",
          "text": [
            "Output shape= 30.0\n"
          ],
          "name": "stdout"
        }
      ]
    },
    {
      "cell_type": "code",
      "metadata": {
        "id": "_jg_M4vUCkLE"
      },
      "source": [
        "from tensorflow.keras.models import Sequential\n",
        "from tensorflow.keras.layers import Dense, Softmax, Conv2D, MaxPooling2D"
      ],
      "execution_count": 7,
      "outputs": []
    },
    {
      "cell_type": "code",
      "metadata": {
        "id": "CSZn_UQiG96D"
      },
      "source": [
        "model = Sequential([\n",
        "                    Conv2D(16, kernel_size=3,activation='relu', strides=1, padding='valid', input_shape=(28, 28, 1)),\n",
        "                    MaxPooling2D(pool_size=3),\n",
        "                    Flatten(),\n",
        "                    Dense(10, activation='softmax')\n",
        "])"
      ],
      "execution_count": 8,
      "outputs": []
    },
    {
      "cell_type": "code",
      "metadata": {
        "id": "DtN_sIXnHpsj",
        "outputId": "1c916609-c0a7-48af-aa8b-2721f20ae613",
        "colab": {
          "base_uri": "https://localhost:8080/",
          "height": 295
        }
      },
      "source": [
        "model.summary()"
      ],
      "execution_count": 9,
      "outputs": [
        {
          "output_type": "stream",
          "text": [
            "Model: \"sequential_1\"\n",
            "_________________________________________________________________\n",
            "Layer (type)                 Output Shape              Param #   \n",
            "=================================================================\n",
            "conv2d (Conv2D)              (None, 26, 26, 16)        160       \n",
            "_________________________________________________________________\n",
            "max_pooling2d (MaxPooling2D) (None, 8, 8, 16)          0         \n",
            "_________________________________________________________________\n",
            "flatten (Flatten)            (None, 1024)              0         \n",
            "_________________________________________________________________\n",
            "dense_2 (Dense)              (None, 10)                10250     \n",
            "=================================================================\n",
            "Total params: 10,410\n",
            "Trainable params: 10,410\n",
            "Non-trainable params: 0\n",
            "_________________________________________________________________\n"
          ],
          "name": "stdout"
        }
      ]
    },
    {
      "cell_type": "code",
      "metadata": {
        "id": "At0viTzAHuvj",
        "outputId": "cd2d60ce-e4f9-4b51-b043-5dec99c41b5b",
        "colab": {
          "base_uri": "https://localhost:8080/",
          "height": 34
        }
      },
      "source": [
        "8*8*16"
      ],
      "execution_count": 10,
      "outputs": [
        {
          "output_type": "execute_result",
          "data": {
            "text/plain": [
              "1024"
            ]
          },
          "metadata": {
            "tags": []
          },
          "execution_count": 10
        }
      ]
    },
    {
      "cell_type": "code",
      "metadata": {
        "id": "QXNoA8ropTYw",
        "outputId": "3dea68c3-a861-4fc6-a743-5d561b7c53f3",
        "colab": {
          "base_uri": "https://localhost:8080/",
          "height": 69
        }
      },
      "source": [
        "model = Sequential([\n",
        "                    Conv2D(16, kernel_size=3, activation='relu', padding='same', input_shape=(28,28,1)),\n",
        "                    MaxPooling2D(pool_size=2),\n",
        "                    Flatten(),\n",
        "                    Dense(10, activation='softmax')\n",
        "])\n",
        "\n",
        "model.compile(optimizer='rmsprop', # adam, rmsprop, sgd, \n",
        "              loss='sparse_categorical_crossentropy',  #categorical_crossentropy\n",
        "              metrics=['acc', 'mae'])\n",
        "\n",
        "print(model.loss)\n",
        "print(model.optimizer)\n",
        "print(model.metrics_names)  #need to call fit before calling metrics_names\n"
      ],
      "execution_count": 30,
      "outputs": [
        {
          "output_type": "stream",
          "text": [
            "sparse_categorical_crossentropy\n",
            "<tensorflow.python.keras.optimizer_v2.rmsprop.RMSprop object at 0x7ff01e12f400>\n",
            "[]\n"
          ],
          "name": "stdout"
        }
      ]
    },
    {
      "cell_type": "markdown",
      "metadata": {
        "id": "7X-JGtO63jEf"
      },
      "source": [
        "### Instead of passing strings like above, we can pass Keras objects. It gives more flexibility as param can be passed"
      ]
    },
    {
      "cell_type": "code",
      "metadata": {
        "id": "6_oAwGPzvuW1",
        "outputId": "44c90b14-3d7c-4d75-8839-3d643bfba3a9",
        "colab": {
          "base_uri": "https://localhost:8080/",
          "height": 52
        }
      },
      "source": [
        "model = Sequential([\n",
        "                    Conv2D(16, kernel_size=3, activation='relu', padding='same', input_shape=(28,28,1)),\n",
        "                    MaxPooling2D(pool_size=2),\n",
        "                    Flatten(),\n",
        "                    Dense(10, activation='softmax')\n",
        "])\n",
        "\n",
        "opt = tf.keras.optimizers.SGD(learning_rate=0.001, momentum=0.9)\n",
        "loss = tf.keras.losses.SparseCategoricalCrossentropy()\n",
        "acc=[tf.keras.metrics.Accuracy(), tf.keras.metrics.MeanAbsoluteError()]\n",
        "\n",
        "model.compile(optimizer= opt,\n",
        "              loss= loss,\n",
        "              metrics=acc)\n",
        "\n",
        "print(model.loss)\n",
        "print(model.optimizer)"
      ],
      "execution_count": 36,
      "outputs": [
        {
          "output_type": "stream",
          "text": [
            "<tensorflow.python.keras.losses.SparseCategoricalCrossentropy object at 0x7ff01e20d978>\n",
            "<tensorflow.python.keras.optimizer_v2.gradient_descent.SGD object at 0x7ff01e20d7b8>\n"
          ],
          "name": "stdout"
        }
      ]
    },
    {
      "cell_type": "code",
      "metadata": {
        "id": "Vwz370uGz0hv"
      },
      "source": [
        ""
      ],
      "execution_count": null,
      "outputs": []
    }
  ]
}