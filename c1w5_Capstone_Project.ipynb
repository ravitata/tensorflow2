{
  "nbformat": 4,
  "nbformat_minor": 0,
  "metadata": {
    "kernelspec": {
      "display_name": "feedforward",
      "language": "python",
      "name": "feedforward"
    },
    "language_info": {
      "codemirror_mode": {
        "name": "ipython",
        "version": 3
      },
      "file_extension": ".py",
      "mimetype": "text/x-python",
      "name": "python",
      "nbconvert_exporter": "python",
      "pygments_lexer": "ipython3",
      "version": "3.6.9"
    },
    "colab": {
      "name": "Capstone Project.ipynb",
      "provenance": [],
      "collapsed_sections": [],
      "include_colab_link": true
    }
  },
  "cells": [
    {
      "cell_type": "markdown",
      "metadata": {
        "id": "view-in-github",
        "colab_type": "text"
      },
      "source": [
        "<a href=\"https://colab.research.google.com/github/ravitata/tensorflow2/blob/master/c1w5_Capstone_Project.ipynb\" target=\"_parent\"><img src=\"https://colab.research.google.com/assets/colab-badge.svg\" alt=\"Open In Colab\"/></a>"
      ]
    },
    {
      "cell_type": "markdown",
      "metadata": {
        "id": "rffwkDWTz_Fo"
      },
      "source": [
        "# Capstone Project\n",
        "## Image classifier for the SVHN dataset\n",
        "### Instructions\n",
        "\n",
        "In this notebook, you will create a neural network that classifies real-world images digits. You will use concepts from throughout this course in building, training, testing, validating and saving your Tensorflow classifier model.\n",
        "\n",
        "This project is peer-assessed. Within this notebook you will find instructions in each section for how to complete the project. Pay close attention to the instructions as the peer review will be carried out according to a grading rubric that checks key parts of the project instructions. Feel free to add extra cells into the notebook as required.\n",
        "\n",
        "### How to submit\n",
        "\n",
        "When you have completed the Capstone project notebook, you will submit a pdf of the notebook for peer review. First ensure that the notebook has been fully executed from beginning to end, and all of the cell outputs are visible. This is important, as the grading rubric depends on the reviewer being able to view the outputs of your notebook. Save the notebook as a pdf (you could download the notebook with File -> Download .ipynb, open the notebook locally, and then File -> Download as -> PDF via LaTeX), and then submit this pdf for review.\n",
        "\n",
        "### Let's get started!\n",
        "\n",
        "We'll start by running some imports, and loading the dataset. For this project you are free to make further imports throughout the notebook as you wish. "
      ]
    },
    {
      "cell_type": "code",
      "metadata": {
        "id": "O3vI8jSIz_Fs"
      },
      "source": [
        "import tensorflow as tf\n",
        "from scipy.io import loadmat\n",
        "\n",
        "#\n",
        "import matplotlib.pyplot as plt\n",
        "import pandas as pd\n",
        "import numpy as np\n",
        "import random\n",
        "\n",
        "from tensorflow.keras.models import Sequential\n",
        "from tensorflow.keras.layers import Flatten, Dense\n",
        "\n",
        "%matplotlib inline"
      ],
      "execution_count": 9,
      "outputs": []
    },
    {
      "cell_type": "markdown",
      "metadata": {
        "id": "8OrHY7TRz_Fx"
      },
      "source": [
        "For the capstone project, you will use the [SVHN dataset](http://ufldl.stanford.edu/housenumbers/). This is an image dataset of over 600,000 digit images in all, and is a harder dataset than MNIST as the numbers appear in the context of natural scene images. SVHN is obtained from house numbers in Google Street View images.\n",
        "\n",
        "* Y. Netzer, T. Wang, A. Coates, A. Bissacco, B. Wu and A. Y. Ng. \"Reading Digits in Natural Images with Unsupervised Feature Learning\". NIPS Workshop on Deep Learning and Unsupervised Feature Learning, 2011.\n",
        "\n",
        "The train and test datasets required for this project can be downloaded from [here](http://ufldl.stanford.edu/housenumbers/train.tar.gz) and [here](http://ufldl.stanford.edu/housenumbers/test.tar.gz). Once unzipped, you will have two files: `train_32x32.mat` and `test_32x32.mat`. You should store these files in Drive for use in this Colab notebook.\n",
        "\n",
        "Your goal is to develop an end-to-end workflow for building, training, validating, evaluating and saving a neural network that classifies a real-world image into one of ten classes."
      ]
    },
    {
      "cell_type": "code",
      "metadata": {
        "id": "r8BHW8P_2wxw",
        "outputId": "661659d5-5af5-4bd3-f0bf-debe34487084",
        "colab": {
          "base_uri": "https://localhost:8080/",
          "height": 34
        }
      },
      "source": [
        "# Run this cell to connect to your Drive folder\n",
        "\n",
        "from google.colab import drive\n",
        "drive.mount('/content/gdrive')"
      ],
      "execution_count": 2,
      "outputs": [
        {
          "output_type": "stream",
          "text": [
            "Mounted at /content/gdrive\n"
          ],
          "name": "stdout"
        }
      ]
    },
    {
      "cell_type": "code",
      "metadata": {
        "id": "yBXr6G33Zqc-"
      },
      "source": [
        "#!gzip -d '/content/gdrive/My Drive/mydata/svhn_dataset/train.tar.gz'\n",
        "#!gzip -d '/content/gdrive/My Drive/mydata/svhn_dataset/test.tar.gz'"
      ],
      "execution_count": 5,
      "outputs": []
    },
    {
      "cell_type": "code",
      "metadata": {
        "id": "YWdiz3n_z_Fy"
      },
      "source": [
        "# Load the dataset from your Drive folder\n",
        "\n",
        "train = loadmat('/content/gdrive/My Drive/mydata/svhn_dataset/train_32x32.mat')\n",
        "test = loadmat('/content/gdrive/My Drive/mydata/svhn_dataset/test_32x32.mat')"
      ],
      "execution_count": 3,
      "outputs": []
    },
    {
      "cell_type": "code",
      "metadata": {
        "id": "EDDU8E1VcU7S",
        "outputId": "3e499bb1-38cd-4ecd-e6c5-d4ce11f32f3a",
        "colab": {
          "base_uri": "https://localhost:8080/",
          "height": 52
        }
      },
      "source": [
        "print(train.keys())\n",
        "print(test.keys())"
      ],
      "execution_count": 4,
      "outputs": [
        {
          "output_type": "stream",
          "text": [
            "dict_keys(['__header__', '__version__', '__globals__', 'X', 'y'])\n",
            "dict_keys(['__header__', '__version__', '__globals__', 'X', 'y'])\n"
          ],
          "name": "stdout"
        }
      ]
    },
    {
      "cell_type": "markdown",
      "metadata": {
        "id": "Sot1IcuZz_F2"
      },
      "source": [
        "Both `train` and `test` are dictionaries with keys `X` and `y` for the input images and labels respectively."
      ]
    },
    {
      "cell_type": "markdown",
      "metadata": {
        "id": "_Q1n_Ai2z_F3"
      },
      "source": [
        "## 1. Inspect and preprocess the dataset\n",
        "* Extract the training and testing images and labels separately from the train and test dictionaries loaded for you.\n",
        "* Select a random sample of images and corresponding labels from the dataset (at least 10), and display them in a figure.\n",
        "* Convert the training and test images to grayscale by taking the average across all colour channels for each pixel. _Hint: retain the channel dimension, which will now have size 1._\n",
        "* Select a random sample of the grayscale images and corresponding labels from the dataset (at least 10), and display them in a figure."
      ]
    },
    {
      "cell_type": "code",
      "metadata": {
        "id": "-WIH5hyXz_F4",
        "outputId": "3228b9bb-b589-4208-9ba0-c036ccd70835",
        "colab": {
          "base_uri": "https://localhost:8080/",
          "height": 121
        }
      },
      "source": [
        "train_X = train['X']\n",
        "train_y = train['y']\n",
        "\n",
        "test_X = test['X']\n",
        "test_y = test['y']\n",
        "\n",
        "print(train_X.shape)\n",
        "print(test_X.shape)\n",
        "print(train_y.shape)\n",
        "print(test_y.shape)\n",
        "\n",
        "train_X = np.moveaxis(train_X, -1, 0)\n",
        "test_X = np.moveaxis(test_X, -1, 0)\n",
        "\n",
        "print(train_X.shape)\n",
        "print(test_X.shape)\n",
        "\n"
      ],
      "execution_count": 29,
      "outputs": [
        {
          "output_type": "stream",
          "text": [
            "(32, 32, 3, 73257)\n",
            "(32, 32, 3, 26032)\n",
            "(73257, 1)\n",
            "(26032, 1)\n",
            "(73257, 32, 32, 3)\n",
            "(26032, 32, 32, 3)\n"
          ],
          "name": "stdout"
        }
      ]
    },
    {
      "cell_type": "code",
      "metadata": {
        "id": "zmGJK3xgz_F8",
        "outputId": "b4fa08a8-7577-4d9b-9da2-b65c6a7e7f89",
        "colab": {
          "base_uri": "https://localhost:8080/",
          "height": 346
        }
      },
      "source": [
        "random.seed(1)\n",
        "\n",
        "rows=2\n",
        "columns=5\n",
        "\n",
        "fig=plt.figure(figsize=(10, 5))\n",
        "\n",
        "for i in range(10):\n",
        "  r = random.randint(1, 1000)\n",
        "  fig.add_subplot(rows, columns, i+1)\n",
        "  plt.imshow(train_X[r, :,:,:])\n",
        "  plt.axis(False)\n",
        "  plt.title(train_y[r])\n",
        "plt.show()"
      ],
      "execution_count": 30,
      "outputs": [
        {
          "output_type": "stream",
          "text": [
            "/usr/local/lib/python3.6/dist-packages/matplotlib/text.py:1165: FutureWarning: elementwise comparison failed; returning scalar instead, but in the future will perform elementwise comparison\n",
            "  if s != self._text:\n"
          ],
          "name": "stderr"
        },
        {
          "output_type": "display_data",
          "data": {
            "image/png": "[encoded data removed]",
            "text/plain": [
              "<Figure size 720x360 with 10 Axes>"
            ]
          },
          "metadata": {
            "tags": [],
            "needs_background": "light"
          }
        }
      ]
    },
    {
      "cell_type": "code",
      "metadata": {
        "id": "6SR4gYffz_F_",
        "outputId": "bbc62cc2-bd0f-41ee-a113-0f757a881562",
        "colab": {
          "base_uri": "https://localhost:8080/",
          "height": 52
        }
      },
      "source": [
        "train_X = np.mean(train_X, axis=3, keepdims=True)\n",
        "test_X = np.mean(test_X, axis=3, keepdims=True)\n",
        "print('Train X shape: ', train_X.shape)\n",
        "print('Test X shape: ', test_X.shape)"
      ],
      "execution_count": 31,
      "outputs": [
        {
          "output_type": "stream",
          "text": [
            "Train X shape:  (73257, 32, 32, 1)\n",
            "Test X shape:  (26032, 32, 32, 1)\n"
          ],
          "name": "stdout"
        }
      ]
    },
    {
      "cell_type": "code",
      "metadata": {
        "id": "UXYwWhHpz_GD",
        "outputId": "2196d745-bcd7-41d9-cc72-2d2f34caf37a",
        "colab": {
          "base_uri": "https://localhost:8080/",
          "height": 346
        }
      },
      "source": [
        "random.seed(1)\n",
        "\n",
        "rows=2\n",
        "columns=5\n",
        "\n",
        "fig=plt.figure(figsize=(10, 5))\n",
        "\n",
        "for i in range(10):\n",
        "  r = random.randint(1, 1000)\n",
        "  fig.add_subplot(rows, columns, i+1)\n",
        "  plt.imshow(train_X[r, :,:,:].squeeze(), cmap=plt.get_cmap('gray'))  #jet is another arg for get_cmap()\n",
        "  plt.axis(False)\n",
        "  plt.title(train_y[r])\n",
        "plt.show()"
      ],
      "execution_count": 32,
      "outputs": [
        {
          "output_type": "stream",
          "text": [
            "/usr/local/lib/python3.6/dist-packages/matplotlib/text.py:1165: FutureWarning: elementwise comparison failed; returning scalar instead, but in the future will perform elementwise comparison\n",
            "  if s != self._text:\n"
          ],
          "name": "stderr"
        },
        {
          "output_type": "display_data",
          "data": {
            "image/png": "[encoded data removed]",
            "text/plain": [
              "<Figure size 720x360 with 10 Axes>"
            ]
          },
          "metadata": {
            "tags": [],
            "needs_background": "light"
          }
        }
      ]
    },
    {
      "cell_type": "code",
      "metadata": {
        "id": "auFZ63dtz_GH",
        "outputId": "6620aa5d-94a2-4b2c-f5eb-03341918517f",
        "colab": {
          "base_uri": "https://localhost:8080/",
          "height": 52
        }
      },
      "source": [
        "train_X1 = train_X/255.0\n",
        "test_X1 = test_X/255.0\n",
        "\n",
        "#10 classes, 1 for each digit. Digit '1' has label 1, '9' has label 9 and '0' has label 10. \n",
        "#So, replacing 10 to 0\n",
        "train_y1 = np.where(train_y<10, train_y, 0)\n",
        "test_y1 = np.where(test_y<10, test_y, 0)\n",
        "\n",
        "print(train_X1.shape)\n",
        "print(test_X1.shape)"
      ],
      "execution_count": 33,
      "outputs": [
        {
          "output_type": "stream",
          "text": [
            "(73257, 32, 32, 1)\n",
            "(26032, 32, 32, 1)\n"
          ],
          "name": "stdout"
        }
      ]
    },
    {
      "cell_type": "markdown",
      "metadata": {
        "id": "7e7iSyWXz_GN"
      },
      "source": [
        "## 2. MLP neural network classifier\n",
        "* Build an MLP classifier model using the Sequential API. Your model should use only Flatten and Dense layers, with the final layer having a 10-way softmax output. \n",
        "* You should design and build the model yourself. Feel free to experiment with different MLP architectures. _Hint: to achieve a reasonable accuracy you won't need to use more than 4 or 5 layers._\n",
        "* Print out the model summary (using the summary() method)\n",
        "* Compile and train the model (we recommend a maximum of 30 epochs), making use of both training and validation sets during the training run. \n",
        "* Your model should track at least one appropriate metric, and use at least two callbacks during training, one of which should be a ModelCheckpoint callback.\n",
        "* As a guide, you should aim to achieve a final categorical cross entropy training loss of less than 1.0 (the validation loss might be higher).\n",
        "* Plot the learning curves for loss vs epoch and accuracy vs epoch for both training and validation sets.\n",
        "* Compute and display the loss and accuracy of the trained model on the test set."
      ]
    },
    {
      "cell_type": "code",
      "metadata": {
        "id": "l14VCBFVz_GO"
      },
      "source": [
        "def get_mlp_model(input_shape):\n",
        "  model = Sequential([\n",
        "                      Flatten(input_shape=input_shape),\n",
        "                      Dense(128, activation='relu'),\n",
        "                      Dense(128, activation='relu'),\n",
        "                      Dense(128, activation='relu'),\n",
        "                      Dense(128, activation='relu'),\n",
        "                      Dense(10, activation='softmax')\n",
        "  ])\n",
        "  model.compile(optimizer='adam', loss='sparse_categorical_crossentropy', metrics=['accuracy'])\n",
        "  return model\n",
        "  "
      ],
      "execution_count": 58,
      "outputs": []
    },
    {
      "cell_type": "code",
      "metadata": {
        "id": "7VhX8LM3ne9Y"
      },
      "source": [
        "del model"
      ],
      "execution_count": 66,
      "outputs": []
    },
    {
      "cell_type": "code",
      "metadata": {
        "id": "beEZO1kvz_GR",
        "outputId": "f56b9538-4ed4-4f4b-b7f8-0d70c83dcd19",
        "colab": {
          "base_uri": "https://localhost:8080/",
          "height": 364
        }
      },
      "source": [
        "model = get_mlp_model((train_X.shape[1], train_X.shape[2]))\n",
        "model.summary()"
      ],
      "execution_count": 67,
      "outputs": [
        {
          "output_type": "stream",
          "text": [
            "Model: \"sequential_9\"\n",
            "_________________________________________________________________\n",
            "Layer (type)                 Output Shape              Param #   \n",
            "=================================================================\n",
            "flatten_9 (Flatten)          (None, 1024)              0         \n",
            "_________________________________________________________________\n",
            "dense_40 (Dense)             (None, 128)               131200    \n",
            "_________________________________________________________________\n",
            "dense_41 (Dense)             (None, 128)               16512     \n",
            "_________________________________________________________________\n",
            "dense_42 (Dense)             (None, 128)               16512     \n",
            "_________________________________________________________________\n",
            "dense_43 (Dense)             (None, 128)               16512     \n",
            "_________________________________________________________________\n",
            "dense_44 (Dense)             (None, 10)                1290      \n",
            "=================================================================\n",
            "Total params: 182,026\n",
            "Trainable params: 182,026\n",
            "Non-trainable params: 0\n",
            "_________________________________________________________________\n"
          ],
          "name": "stdout"
        }
      ]
    },
    {
      "cell_type": "code",
      "metadata": {
        "id": "YxJXq3xYz_GU",
        "outputId": "ff01c20a-1dbd-42c9-9005-33b45eac4086",
        "colab": {
          "base_uri": "https://localhost:8080/",
          "height": 885
        }
      },
      "source": [
        "history = model.fit(train_X1, train_y1,epochs=25, batch_size = 128, validation_split=0.15)"
      ],
      "execution_count": 68,
      "outputs": [
        {
          "output_type": "stream",
          "text": [
            "Epoch 1/25\n",
            "487/487 [==============================] - 3s 7ms/step - loss: 2.0911 - accuracy: 0.2422 - val_loss: 1.7332 - val_accuracy: 0.3909\n",
            "Epoch 2/25\n",
            "487/487 [==============================] - 3s 6ms/step - loss: 1.4977 - accuracy: 0.4867 - val_loss: 1.3323 - val_accuracy: 0.5639\n",
            "Epoch 3/25\n",
            "487/487 [==============================] - 3s 6ms/step - loss: 1.2557 - accuracy: 0.5862 - val_loss: 1.1737 - val_accuracy: 0.6193\n",
            "Epoch 4/25\n",
            "487/487 [==============================] - 3s 6ms/step - loss: 1.1289 - accuracy: 0.6366 - val_loss: 1.1031 - val_accuracy: 0.6406\n",
            "Epoch 5/25\n",
            "487/487 [==============================] - 3s 6ms/step - loss: 1.0616 - accuracy: 0.6620 - val_loss: 1.0649 - val_accuracy: 0.6632\n",
            "Epoch 6/25\n",
            "487/487 [==============================] - 3s 6ms/step - loss: 1.0033 - accuracy: 0.6832 - val_loss: 1.0896 - val_accuracy: 0.6498\n",
            "Epoch 7/25\n",
            "487/487 [==============================] - 3s 6ms/step - loss: 0.9568 - accuracy: 0.6991 - val_loss: 0.9438 - val_accuracy: 0.6978\n",
            "Epoch 8/25\n",
            "487/487 [==============================] - 3s 6ms/step - loss: 0.9353 - accuracy: 0.7047 - val_loss: 0.9691 - val_accuracy: 0.6827\n",
            "Epoch 9/25\n",
            "487/487 [==============================] - 3s 7ms/step - loss: 0.9022 - accuracy: 0.7163 - val_loss: 0.9210 - val_accuracy: 0.7052\n",
            "Epoch 10/25\n",
            "487/487 [==============================] - 3s 6ms/step - loss: 0.8787 - accuracy: 0.7229 - val_loss: 0.8664 - val_accuracy: 0.7249\n",
            "Epoch 11/25\n",
            "487/487 [==============================] - 3s 6ms/step - loss: 0.8492 - accuracy: 0.7313 - val_loss: 0.9338 - val_accuracy: 0.6996\n",
            "Epoch 12/25\n",
            "487/487 [==============================] - 3s 6ms/step - loss: 0.8344 - accuracy: 0.7346 - val_loss: 0.8991 - val_accuracy: 0.7160\n",
            "Epoch 13/25\n",
            "487/487 [==============================] - 3s 6ms/step - loss: 0.8215 - accuracy: 0.7407 - val_loss: 0.8379 - val_accuracy: 0.7360\n",
            "Epoch 14/25\n",
            "487/487 [==============================] - 3s 6ms/step - loss: 0.8062 - accuracy: 0.7456 - val_loss: 0.8332 - val_accuracy: 0.7354\n",
            "Epoch 15/25\n",
            "487/487 [==============================] - 3s 6ms/step - loss: 0.8028 - accuracy: 0.7435 - val_loss: 0.8551 - val_accuracy: 0.7289\n",
            "Epoch 16/25\n",
            "487/487 [==============================] - 3s 6ms/step - loss: 0.7825 - accuracy: 0.7506 - val_loss: 0.8489 - val_accuracy: 0.7323\n",
            "Epoch 17/25\n",
            "487/487 [==============================] - 3s 6ms/step - loss: 0.7577 - accuracy: 0.7584 - val_loss: 0.8111 - val_accuracy: 0.7461\n",
            "Epoch 18/25\n",
            "487/487 [==============================] - 3s 6ms/step - loss: 0.7459 - accuracy: 0.7637 - val_loss: 0.8106 - val_accuracy: 0.7449\n",
            "Epoch 19/25\n",
            "487/487 [==============================] - 3s 6ms/step - loss: 0.7384 - accuracy: 0.7669 - val_loss: 0.8087 - val_accuracy: 0.7486\n",
            "Epoch 20/25\n",
            "487/487 [==============================] - 3s 6ms/step - loss: 0.7240 - accuracy: 0.7712 - val_loss: 0.8050 - val_accuracy: 0.7502\n",
            "Epoch 21/25\n",
            "487/487 [==============================] - 3s 6ms/step - loss: 0.7176 - accuracy: 0.7733 - val_loss: 0.7728 - val_accuracy: 0.7598\n",
            "Epoch 22/25\n",
            "487/487 [==============================] - 3s 7ms/step - loss: 0.7034 - accuracy: 0.7773 - val_loss: 0.7678 - val_accuracy: 0.7604\n",
            "Epoch 23/25\n",
            "487/487 [==============================] - 3s 6ms/step - loss: 0.6964 - accuracy: 0.7778 - val_loss: 0.7684 - val_accuracy: 0.7621\n",
            "Epoch 24/25\n",
            "487/487 [==============================] - 3s 6ms/step - loss: 0.6936 - accuracy: 0.7795 - val_loss: 0.7468 - val_accuracy: 0.7676\n",
            "Epoch 25/25\n",
            "487/487 [==============================] - 3s 6ms/step - loss: 0.6745 - accuracy: 0.7859 - val_loss: 0.7563 - val_accuracy: 0.7651\n"
          ],
          "name": "stdout"
        }
      ]
    },
    {
      "cell_type": "code",
      "metadata": {
        "id": "pPPbzGhVz_GW",
        "outputId": "afa687c7-3ede-4bf2-9125-c0b4b845a3e8",
        "colab": {
          "base_uri": "https://localhost:8080/",
          "height": 206
        }
      },
      "source": [
        "df = pd.DataFrame(history.history)\n",
        "df.head()"
      ],
      "execution_count": 69,
      "outputs": [
        {
          "output_type": "execute_result",
          "data": {
            "text/html": [
              "<div>\n",
              "<style scoped>\n",
              "    .dataframe tbody tr th:only-of-type {\n",
              "        vertical-align: middle;\n",
              "    }\n",
              "\n",
              "    .dataframe tbody tr th {\n",
              "        vertical-align: top;\n",
              "    }\n",
              "\n",
              "    .dataframe thead th {\n",
              "        text-align: right;\n",
              "    }\n",
              "</style>\n",
              "<table border=\"1\" class=\"dataframe\">\n",
              "  <thead>\n",
              "    <tr style=\"text-align: right;\">\n",
              "      <th></th>\n",
              "      <th>loss</th>\n",
              "      <th>accuracy</th>\n",
              "      <th>val_loss</th>\n",
              "      <th>val_accuracy</th>\n",
              "    </tr>\n",
              "  </thead>\n",
              "  <tbody>\n",
              "    <tr>\n",
              "      <th>0</th>\n",
              "      <td>2.091080</td>\n",
              "      <td>0.242211</td>\n",
              "      <td>1.733175</td>\n",
              "      <td>0.390936</td>\n",
              "    </tr>\n",
              "    <tr>\n",
              "      <th>1</th>\n",
              "      <td>1.497722</td>\n",
              "      <td>0.486719</td>\n",
              "      <td>1.332337</td>\n",
              "      <td>0.563928</td>\n",
              "    </tr>\n",
              "    <tr>\n",
              "      <th>2</th>\n",
              "      <td>1.255658</td>\n",
              "      <td>0.586208</td>\n",
              "      <td>1.173747</td>\n",
              "      <td>0.619347</td>\n",
              "    </tr>\n",
              "    <tr>\n",
              "      <th>3</th>\n",
              "      <td>1.128937</td>\n",
              "      <td>0.636571</td>\n",
              "      <td>1.103070</td>\n",
              "      <td>0.640641</td>\n",
              "    </tr>\n",
              "    <tr>\n",
              "      <th>4</th>\n",
              "      <td>1.061571</td>\n",
              "      <td>0.661993</td>\n",
              "      <td>1.064933</td>\n",
              "      <td>0.663209</td>\n",
              "    </tr>\n",
              "  </tbody>\n",
              "</table>\n",
              "</div>"
            ],
            "text/plain": [
              "       loss  accuracy  val_loss  val_accuracy\n",
              "0  2.091080  0.242211  1.733175      0.390936\n",
              "1  1.497722  0.486719  1.332337      0.563928\n",
              "2  1.255658  0.586208  1.173747      0.619347\n",
              "3  1.128937  0.636571  1.103070      0.640641\n",
              "4  1.061571  0.661993  1.064933      0.663209"
            ]
          },
          "metadata": {
            "tags": []
          },
          "execution_count": 69
        }
      ]
    },
    {
      "cell_type": "code",
      "metadata": {
        "id": "7b5_8VsCz_GZ",
        "outputId": "ca6e3c68-56e8-4140-c310-d82000b5733e",
        "colab": {
          "base_uri": "https://localhost:8080/",
          "height": 534
        }
      },
      "source": [
        "df[['loss', 'accuracy']].plot()\n",
        "df[['val_loss', 'val_accuracy']].plot()"
      ],
      "execution_count": 70,
      "outputs": [
        {
          "output_type": "execute_result",
          "data": {
            "text/plain": [
              "<matplotlib.axes._subplots.AxesSubplot at 0x7fb2d810d358>"
            ]
          },
          "metadata": {
            "tags": []
          },
          "execution_count": 70
        },
        {
          "output_type": "display_data",
          "data": {
            "image/png": "[encoded data removed]",
            "text/plain": [
              "<Figure size 432x288 with 1 Axes>"
            ]
          },
          "metadata": {
            "tags": [],
            "needs_background": "light"
          }
        },
        {
          "output_type": "display_data",
          "data": {
            "image/png": "[encoded data removed]",
            "text/plain": [
              "<Figure size 432x288 with 1 Axes>"
            ]
          },
          "metadata": {
            "tags": [],
            "needs_background": "light"
          }
        }
      ]
    },
    {
      "cell_type": "code",
      "metadata": {
        "id": "b0kH6VYqz_Gc"
      },
      "source": [
        ""
      ],
      "execution_count": null,
      "outputs": []
    },
    {
      "cell_type": "markdown",
      "metadata": {
        "id": "ncPtDtCLz_Gg"
      },
      "source": [
        "## 3. CNN neural network classifier\n",
        "* Build a CNN classifier model using the Sequential API. Your model should use the Conv2D, MaxPool2D, BatchNormalization, Flatten, Dense and Dropout layers. The final layer should again have a 10-way softmax output. \n",
        "* You should design and build the model yourself. Feel free to experiment with different CNN architectures. _Hint: to achieve a reasonable accuracy you won't need to use more than 2 or 3 convolutional layers and 2 fully connected layers.)_\n",
        "* The CNN model should use fewer trainable parameters than your MLP model.\n",
        "* Compile and train the model (we recommend a maximum of 30 epochs), making use of both training and validation sets during the training run.\n",
        "* Your model should track at least one appropriate metric, and use at least two callbacks during training, one of which should be a ModelCheckpoint callback.\n",
        "* You should aim to beat the MLP model performance with fewer parameters!\n",
        "* Plot the learning curves for loss vs epoch and accuracy vs epoch for both training and validation sets.\n",
        "* Compute and display the loss and accuracy of the trained model on the test set."
      ]
    },
    {
      "cell_type": "code",
      "metadata": {
        "id": "yk2mH3Npz_Gh"
      },
      "source": [
        ""
      ],
      "execution_count": null,
      "outputs": []
    },
    {
      "cell_type": "code",
      "metadata": {
        "id": "lbgRgZ5cz_Gn"
      },
      "source": [
        ""
      ],
      "execution_count": null,
      "outputs": []
    },
    {
      "cell_type": "code",
      "metadata": {
        "id": "nkmS2vV2z_Gs"
      },
      "source": [
        ""
      ],
      "execution_count": null,
      "outputs": []
    },
    {
      "cell_type": "code",
      "metadata": {
        "id": "VytQECDVz_Gv"
      },
      "source": [
        ""
      ],
      "execution_count": null,
      "outputs": []
    },
    {
      "cell_type": "code",
      "metadata": {
        "id": "60mJypwQz_Gx"
      },
      "source": [
        ""
      ],
      "execution_count": null,
      "outputs": []
    },
    {
      "cell_type": "code",
      "metadata": {
        "id": "w2v80qosz_G0"
      },
      "source": [
        ""
      ],
      "execution_count": null,
      "outputs": []
    },
    {
      "cell_type": "markdown",
      "metadata": {
        "id": "3iBYFPWUz_G4"
      },
      "source": [
        "## 4. Get model predictions\n",
        "* Load the best weights for the MLP and CNN models that you saved during the training run.\n",
        "* Randomly select 5 images and corresponding labels from the test set and display the images with their labels.\n",
        "* Alongside the image and label, show each model’s predictive distribution as a bar chart, and the final model prediction given by the label with maximum probability."
      ]
    },
    {
      "cell_type": "code",
      "metadata": {
        "id": "XMYYWs0oz_G5"
      },
      "source": [
        ""
      ],
      "execution_count": null,
      "outputs": []
    },
    {
      "cell_type": "code",
      "metadata": {
        "id": "8yUPWbFCz_G8"
      },
      "source": [
        ""
      ],
      "execution_count": null,
      "outputs": []
    },
    {
      "cell_type": "code",
      "metadata": {
        "id": "W48syko0z_G-"
      },
      "source": [
        ""
      ],
      "execution_count": null,
      "outputs": []
    },
    {
      "cell_type": "code",
      "metadata": {
        "id": "J_qfLvK-z_HA"
      },
      "source": [
        ""
      ],
      "execution_count": null,
      "outputs": []
    },
    {
      "cell_type": "code",
      "metadata": {
        "id": "2Lx68VA7z_HE"
      },
      "source": [
        ""
      ],
      "execution_count": null,
      "outputs": []
    },
    {
      "cell_type": "code",
      "metadata": {
        "id": "NxKa37PWz_HL"
      },
      "source": [
        ""
      ],
      "execution_count": null,
      "outputs": []
    }
  ]
}