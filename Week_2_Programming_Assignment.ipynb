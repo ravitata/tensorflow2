{
  "nbformat": 4,
  "nbformat_minor": 0,
  "metadata": {
    "coursera": {
      "course_slug": "tensor-flow-2-1",
      "graded_item_id": "g0YqY",
      "launcher_item_id": "N6gmY"
    },
    "kernelspec": {
      "display_name": "Python 3",
      "language": "python",
      "name": "python3"
    },
    "language_info": {
      "codemirror_mode": {
        "name": "ipython",
        "version": 3
      },
      "file_extension": ".py",
      "mimetype": "text/x-python",
      "name": "python",
      "nbconvert_exporter": "python",
      "pygments_lexer": "ipython3",
      "version": "3.7.1"
    },
    "colab": {
      "name": "Week 2 Programming Assignment.ipynb",
      "provenance": [],
      "collapsed_sections": [],
      "include_colab_link": true
    }
  },
  "cells": [
    {
      "cell_type": "markdown",
      "metadata": {
        "id": "view-in-github",
        "colab_type": "text"
      },
      "source": [
        "<a href=\"https://colab.research.google.com/github/ravitata/tensorflow2/blob/master/Week_2_Programming_Assignment.ipynb\" target=\"_parent\"><img src=\"https://colab.research.google.com/assets/colab-badge.svg\" alt=\"Open In Colab\"/></a>"
      ]
    },
    {
      "cell_type": "markdown",
      "metadata": {
        "id": "O-21wiLf-gCD"
      },
      "source": [
        "# Programming Assignment"
      ]
    },
    {
      "cell_type": "markdown",
      "metadata": {
        "id": "fxkainBa-gCF"
      },
      "source": [
        "## CNN classifier for the MNIST dataset"
      ]
    },
    {
      "cell_type": "markdown",
      "metadata": {
        "id": "XQKECTiE-gCG"
      },
      "source": [
        "### Instructions\n",
        "\n",
        "In this notebook, you will write code to build, compile and fit a convolutional neural network (CNN) model to the MNIST dataset of images of handwritten digits.\n",
        "\n",
        "Some code cells are provided you in the notebook. You should avoid editing provided code, and make sure to execute the cells in order to avoid unexpected errors. Some cells begin with the line: \n",
        "\n",
        "`#### GRADED CELL ####`\n",
        "\n",
        "Don't move or edit this first line - this is what the automatic grader looks for to recognise graded cells. These cells require you to write your own code to complete them, and are automatically graded when you submit the notebook. Don't edit the function name or signature provided in these cells, otherwise the automatic grader might not function properly. Inside these graded cells, you can use any functions or classes that are imported below, but make sure you don't use any variables that are outside the scope of the function.\n",
        "\n",
        "### How to submit\n",
        "\n",
        "Complete all the tasks you are asked for in the worksheet. When you have finished and are happy with your code, press the **Submit Assignment** button at the top of this notebook.\n",
        "\n",
        "### Let's get started!\n",
        "\n",
        "We'll start running some imports, and loading the dataset. Do not edit the existing imports in the following cell. If you would like to make further Tensorflow imports, you should add them here."
      ]
    },
    {
      "cell_type": "code",
      "metadata": {
        "id": "eR7qaZCl-gCJ"
      },
      "source": [
        "#### PACKAGE IMPORTS ####\n",
        "\n",
        "# Run this cell first to import all required packages. Do not make any imports elsewhere in the notebook\n",
        "\n",
        "import tensorflow as tf\n",
        "import pandas as pd\n",
        "import numpy as np\n",
        "import matplotlib.pyplot as plt\n",
        "%matplotlib inline\n",
        "\n",
        "# If you would like to make further imports from Tensorflow, add them here\n",
        "from tensorflow.keras.models import Sequential\n",
        "from tensorflow.keras.layers import Dense, Flatten, Conv2D, MaxPool2D\n"
      ],
      "execution_count": 6,
      "outputs": []
    },
    {
      "cell_type": "markdown",
      "metadata": {
        "id": "VOQk31Sc-gCN"
      },
      "source": [
        "#### The MNIST dataset\n",
        "\n",
        "In this assignment, you will use the [MNIST dataset](http://yann.lecun.com/exdb/mnist/). It consists of a training set of 60,000 handwritten digits with corresponding labels, and a test set of 10,000 images. The images have been normalised and centred. The dataset is frequently used in machine learning research, and has become a standard benchmark for image classification models. \n",
        "\n",
        "- Y. LeCun, L. Bottou, Y. Bengio, and P. Haffner. \"Gradient-based learning applied to document recognition.\" Proceedings of the IEEE, 86(11):2278-2324, November 1998.\n",
        "\n",
        "Your goal is to construct a neural network that classifies images of handwritten digits into one of 10 classes."
      ]
    },
    {
      "cell_type": "markdown",
      "metadata": {
        "id": "mOxMGi5e-gCP"
      },
      "source": [
        "#### Load and preprocess the data"
      ]
    },
    {
      "cell_type": "code",
      "metadata": {
        "id": "8zzRQzxA-gCQ",
        "outputId": "68ae1128-4704-4b8a-e5a0-edbb4d42a069",
        "colab": {
          "base_uri": "https://localhost:8080/",
          "height": 52
        }
      },
      "source": [
        "# Run this cell to load the MNIST data\n",
        "\n",
        "mnist_data = tf.keras.datasets.mnist\n",
        "(train_images, train_labels), (test_images, test_labels) = mnist_data.load_data()"
      ],
      "execution_count": 2,
      "outputs": [
        {
          "output_type": "stream",
          "text": [
            "Downloading data from https://storage.googleapis.com/tensorflow/tf-keras-datasets/mnist.npz\n",
            "11493376/11490434 [==============================] - 0s 0us/step\n"
          ],
          "name": "stdout"
        }
      ]
    },
    {
      "cell_type": "markdown",
      "metadata": {
        "id": "MEeA_9-6-gCV"
      },
      "source": [
        "First, preprocess the data by scaling the training and test images so their values lie in the range from 0 to 1."
      ]
    },
    {
      "cell_type": "code",
      "metadata": {
        "id": "8AW1YX_9-gCX"
      },
      "source": [
        "#### GRADED CELL ####\n",
        "\n",
        "# Complete the following function. \n",
        "# Make sure to not change the function name or arguments.\n",
        "\n",
        "def scale_mnist_data(train_images, test_images):\n",
        "    \"\"\"\n",
        "    This function takes in the training and test images as loaded in the cell above, and scales them\n",
        "    so that they have minimum and maximum values equal to 0 and 1 respectively.\n",
        "    Your function should return a tuple (train_images, test_images) of scaled training and test images.\n",
        "    \"\"\"\n",
        "    return (train_images/255., test_images/255.)\n",
        "    \n",
        "    "
      ],
      "execution_count": 3,
      "outputs": []
    },
    {
      "cell_type": "code",
      "metadata": {
        "id": "XgMBPB9d-gCa"
      },
      "source": [
        "# Run your function on the input data\n",
        "\n",
        "scaled_train_images, scaled_test_images = scale_mnist_data(train_images, test_images)"
      ],
      "execution_count": 4,
      "outputs": []
    },
    {
      "cell_type": "code",
      "metadata": {
        "id": "g1r-ULOQv2o3"
      },
      "source": [
        "# Add a dummy channel dimension\n",
        "\n",
        "scaled_train_images = scaled_train_images[..., np.newaxis]\n",
        "scaled_test_images = scaled_test_images[..., np.newaxis]"
      ],
      "execution_count": 5,
      "outputs": []
    },
    {
      "cell_type": "markdown",
      "metadata": {
        "id": "Cy--eSWq-gCc"
      },
      "source": [
        "#### Build the convolutional neural network model"
      ]
    },
    {
      "cell_type": "markdown",
      "metadata": {
        "id": "5rnippry-gCd"
      },
      "source": [
        "We are now ready to construct a model to fit to the data. Using the Sequential API, build your CNN model according to the following spec:\n",
        "\n",
        "* The model should use the `input_shape` in the function argument to set the input size in the first layer.\n",
        "* A 2D convolutional layer with a 3x3 kernel and 8 filters. Use 'SAME' zero padding and ReLU activation functions. Make sure to provide the `input_shape` keyword argument in this first layer.\n",
        "* A max pooling layer, with a 2x2 window, and default strides.\n",
        "* A flatten layer, which unrolls the input into a one-dimensional tensor.\n",
        "* Two dense hidden layers, each with 64 units and ReLU activation functions.\n",
        "* A dense output layer with 10 units and the softmax activation function.\n",
        "\n",
        "In particular, your neural network should have six layers."
      ]
    },
    {
      "cell_type": "code",
      "metadata": {
        "id": "N-N7ArQ1-gCe"
      },
      "source": [
        "#### GRADED CELL ####\n",
        "\n",
        "# Complete the following function. \n",
        "# Make sure to not change the function name or arguments.\n",
        "\n",
        "def get_model(input_shape):\n",
        "    \"\"\"\n",
        "    This function should build a Sequential model according to the above specification. Ensure the \n",
        "    weights are initialised by providing the input_shape argument in the first layer, given by the\n",
        "    function argument.\n",
        "    Your function should return the model.\n",
        "    \"\"\"\n",
        "    print(input_shape)\n",
        "    model = Sequential([\n",
        "                        Conv2D(8, kernel_size=3, padding='same', activation='relu', input_shape=input_shape),\n",
        "                        MaxPool2D(pool_size=2),\n",
        "                        Flatten(),\n",
        "                        Dense(64, activation='relu'),\n",
        "                        Dense(64, activation='relu'),\n",
        "                        Dense(10, activation='softmax')\n",
        "    ])\n",
        "\n",
        "    return model\n",
        "    "
      ],
      "execution_count": 35,
      "outputs": []
    },
    {
      "cell_type": "code",
      "metadata": {
        "id": "9L_2kj9A-gCi",
        "outputId": "c44b1932-aef1-4d87-d86c-6ba550fd7b50",
        "colab": {
          "base_uri": "https://localhost:8080/",
          "height": 34
        }
      },
      "source": [
        "# Run your function to get the model\n",
        "\n",
        "model = get_model(scaled_train_images[0].shape)"
      ],
      "execution_count": 36,
      "outputs": [
        {
          "output_type": "stream",
          "text": [
            "(28, 28, 1)\n"
          ],
          "name": "stdout"
        }
      ]
    },
    {
      "cell_type": "code",
      "metadata": {
        "id": "95c2PUFoyEWg",
        "outputId": "1e63a861-6bb9-4d6d-bbc8-bc171f48a5ba",
        "colab": {
          "base_uri": "https://localhost:8080/",
          "height": 364
        }
      },
      "source": [
        "model.summary()"
      ],
      "execution_count": 37,
      "outputs": [
        {
          "output_type": "stream",
          "text": [
            "Model: \"sequential_3\"\n",
            "_________________________________________________________________\n",
            "Layer (type)                 Output Shape              Param #   \n",
            "=================================================================\n",
            "conv2d_6 (Conv2D)            (None, 28, 28, 8)         80        \n",
            "_________________________________________________________________\n",
            "max_pooling2d_6 (MaxPooling2 (None, 14, 14, 8)         0         \n",
            "_________________________________________________________________\n",
            "flatten_6 (Flatten)          (None, 1568)              0         \n",
            "_________________________________________________________________\n",
            "dense_15 (Dense)             (None, 64)                100416    \n",
            "_________________________________________________________________\n",
            "dense_16 (Dense)             (None, 64)                4160      \n",
            "_________________________________________________________________\n",
            "dense_17 (Dense)             (None, 10)                650       \n",
            "=================================================================\n",
            "Total params: 105,306\n",
            "Trainable params: 105,306\n",
            "Non-trainable params: 0\n",
            "_________________________________________________________________\n"
          ],
          "name": "stdout"
        }
      ]
    },
    {
      "cell_type": "markdown",
      "metadata": {
        "id": "uvrW1EA1-gCl"
      },
      "source": [
        "#### Compile the model\n",
        "\n",
        "You should now compile the model using the `compile` method. To do so, you need to specify an optimizer, a loss function and a metric to judge the performance of your model."
      ]
    },
    {
      "cell_type": "code",
      "metadata": {
        "id": "_x9mU2Li-gCm"
      },
      "source": [
        "#### GRADED CELL ####\n",
        "\n",
        "# Complete the following function. \n",
        "# Make sure to not change the function name or arguments.\n",
        "\n",
        "def compile_model(model):\n",
        "    \"\"\"\n",
        "    This function takes in the model returned from your get_model function, and compiles it with an optimiser,\n",
        "    loss function and metric.\n",
        "    Compile the model using the Adam optimiser (with default settings), the cross-entropy loss function and\n",
        "    accuracy as the only metric. \n",
        "    Your function doesn't need to return anything; the model will be compiled in-place.\n",
        "    \"\"\"\n",
        "    model.compile(optimizer='adam', loss='sparse_categorical_crossentropy', metrics=['accuracy'])\n",
        "    "
      ],
      "execution_count": 47,
      "outputs": []
    },
    {
      "cell_type": "code",
      "metadata": {
        "id": "pY08R9yB-gCr"
      },
      "source": [
        "# Run your function to compile the model\n",
        "\n",
        "compile_model(model)"
      ],
      "execution_count": 48,
      "outputs": []
    },
    {
      "cell_type": "markdown",
      "metadata": {
        "id": "pHUcXibk-gCv"
      },
      "source": [
        "#### Fit the model to the training data\n",
        "\n",
        "Now you should train the model on the MNIST dataset, using the model's `fit` method. Set the training to run for 5 epochs, and return the training history to be used for plotting the learning curves."
      ]
    },
    {
      "cell_type": "code",
      "metadata": {
        "id": "cDnNXqN1-gCw"
      },
      "source": [
        "#### GRADED CELL ####\n",
        "\n",
        "# Complete the following function. \n",
        "# Make sure to not change the function name or arguments.\n",
        "\n",
        "def train_model(model, scaled_train_images, train_labels):\n",
        "    \"\"\"\n",
        "    This function should train the model for 5 epochs on the scaled_train_images and train_labels. \n",
        "    Your function should return the training history, as returned by model.fit.\n",
        "    \"\"\"\n",
        "    hist = model.fit(scaled_train_images[...,np.newaxis], train_labels, epochs=5)\n",
        "    return hist\n",
        "    "
      ],
      "execution_count": 49,
      "outputs": []
    },
    {
      "cell_type": "code",
      "metadata": {
        "id": "Y1n3wh49-gCz",
        "outputId": "58cfce38-d6bc-47c2-e3ca-7931b40149e5",
        "colab": {
          "base_uri": "https://localhost:8080/",
          "height": 191
        }
      },
      "source": [
        "# Run your function to train the model\n",
        "\n",
        "history = train_model(model, scaled_train_images, train_labels)"
      ],
      "execution_count": 50,
      "outputs": [
        {
          "output_type": "stream",
          "text": [
            "Epoch 1/5\n",
            "1875/1875 [==============================] - 21s 11ms/step - loss: 0.2452 - accuracy: 0.9272\n",
            "Epoch 2/5\n",
            "1875/1875 [==============================] - 21s 11ms/step - loss: 0.0854 - accuracy: 0.9743\n",
            "Epoch 3/5\n",
            "1875/1875 [==============================] - 21s 11ms/step - loss: 0.0595 - accuracy: 0.9815\n",
            "Epoch 4/5\n",
            "1875/1875 [==============================] - 21s 11ms/step - loss: 0.0444 - accuracy: 0.9863\n",
            "Epoch 5/5\n",
            "1875/1875 [==============================] - 21s 11ms/step - loss: 0.0354 - accuracy: 0.9886\n"
          ],
          "name": "stdout"
        }
      ]
    },
    {
      "cell_type": "code",
      "metadata": {
        "id": "wZcNfOoX1i8x",
        "outputId": "84e88c6e-3ad4-42fa-fe43-7dbba34eeaac",
        "colab": {
          "base_uri": "https://localhost:8080/",
          "height": 34
        }
      },
      "source": [
        "train_labels.shape"
      ],
      "execution_count": 42,
      "outputs": [
        {
          "output_type": "execute_result",
          "data": {
            "text/plain": [
              "(60000,)"
            ]
          },
          "metadata": {
            "tags": []
          },
          "execution_count": 42
        }
      ]
    },
    {
      "cell_type": "markdown",
      "metadata": {
        "id": "rhd3yK0i-gC3"
      },
      "source": [
        "#### Plot the learning curves\n",
        "\n",
        "We will now plot two graphs:\n",
        "* Epoch vs accuracy\n",
        "* Epoch vs loss\n",
        "\n",
        "We will load the model history into a pandas `DataFrame` and use the `plot` method to output the required graphs."
      ]
    },
    {
      "cell_type": "code",
      "metadata": {
        "id": "y0t2Xjgq-gC4"
      },
      "source": [
        "# Run this cell to load the model history into a pandas DataFrame\n",
        "\n",
        "frame = pd.DataFrame(history.history)"
      ],
      "execution_count": 51,
      "outputs": []
    },
    {
      "cell_type": "code",
      "metadata": {
        "id": "xQqYQiR4-gC7",
        "outputId": "21ae0ed6-9282-44dc-fc18-d109f6573082",
        "colab": {
          "base_uri": "https://localhost:8080/",
          "height": 312
        }
      },
      "source": [
        "# Run this cell to make the Accuracy vs Epochs plot\n",
        "\n",
        "acc_plot = frame.plot(y=\"accuracy\", title=\"Accuracy vs Epochs\", legend=False)\n",
        "acc_plot.set(xlabel=\"Epochs\", ylabel=\"Accuracy\")"
      ],
      "execution_count": 52,
      "outputs": [
        {
          "output_type": "execute_result",
          "data": {
            "text/plain": [
              "[Text(0, 0.5, 'Accuracy'), Text(0.5, 0, 'Epochs')]"
            ]
          },
          "metadata": {
            "tags": []
          },
          "execution_count": 52
        },
        {
          "output_type": "display_data",
          "data": {
            "image/png": "[encoded data removed]",
            "text/plain": [
              "<Figure size 432x288 with 1 Axes>"
            ]
          },
          "metadata": {
            "tags": [],
            "needs_background": "light"
          }
        }
      ]
    },
    {
      "cell_type": "code",
      "metadata": {
        "id": "JGgTGfH4-gDA",
        "outputId": "0a412c61-1fa8-495f-843d-07df2c78681b",
        "colab": {
          "base_uri": "https://localhost:8080/",
          "height": 312
        }
      },
      "source": [
        "# Run this cell to make the Loss vs Epochs plot\n",
        "\n",
        "acc_plot = frame.plot(y=\"loss\", title = \"Loss vs Epochs\",legend=False)\n",
        "acc_plot.set(xlabel=\"Epochs\", ylabel=\"Loss\")"
      ],
      "execution_count": 53,
      "outputs": [
        {
          "output_type": "execute_result",
          "data": {
            "text/plain": [
              "[Text(0, 0.5, 'Loss'), Text(0.5, 0, 'Epochs')]"
            ]
          },
          "metadata": {
            "tags": []
          },
          "execution_count": 53
        },
        {
          "output_type": "display_data",
          "data": {
            "image/png": "[encoded data removed]",
            "text/plain": [
              "<Figure size 432x288 with 1 Axes>"
            ]
          },
          "metadata": {
            "tags": [],
            "needs_background": "light"
          }
        }
      ]
    },
    {
      "cell_type": "markdown",
      "metadata": {
        "id": "ziq-tFlU-gDD"
      },
      "source": [
        "#### Evaluate the model\n",
        "\n",
        "Finally, you should evaluate the performance of your model on the test set, by calling the model's `evaluate` method."
      ]
    },
    {
      "cell_type": "code",
      "metadata": {
        "id": "CSqA8zUi-gDE"
      },
      "source": [
        "#### GRADED CELL ####\n",
        "\n",
        "# Complete the following function. \n",
        "# Make sure to not change the function name or arguments.\n",
        "\n",
        "def evaluate_model(model, scaled_test_images, test_labels):\n",
        "    \"\"\"\n",
        "    This function should evaluate the model on the scaled_test_images and test_labels. \n",
        "    Your function should return a tuple (test_loss, test_accuracy).\n",
        "    \"\"\"\n",
        "    loss, acc = model.evaluate(scaled_test_images, test_labels)\n",
        "    return (loss, acc)"
      ],
      "execution_count": 60,
      "outputs": []
    },
    {
      "cell_type": "code",
      "metadata": {
        "id": "SSNhInQD-gDG",
        "outputId": "6a96c228-604a-4d36-9d12-c339d0cbfe0a",
        "colab": {
          "base_uri": "https://localhost:8080/",
          "height": 69
        }
      },
      "source": [
        "# Run your function to evaluate the model\n",
        "\n",
        "test_loss, test_accuracy = evaluate_model(model, scaled_test_images, test_labels)\n",
        "print(f\"Test loss: {test_loss}\")\n",
        "print(f\"Test accuracy: {test_accuracy}\")"
      ],
      "execution_count": 61,
      "outputs": [
        {
          "output_type": "stream",
          "text": [
            "313/313 [==============================] - 2s 6ms/step - loss: 0.0496 - accuracy: 0.9834\n",
            "Test loss: 0.04962081462144852\n",
            "Test accuracy: 0.9833999872207642\n"
          ],
          "name": "stdout"
        }
      ]
    },
    {
      "cell_type": "markdown",
      "metadata": {
        "id": "SP09yVMK-gDK"
      },
      "source": [
        "#### Model predictions\n",
        "\n",
        "Let's see some model predictions! We will randomly select four images from the test data, and display the image and label for each. \n",
        "\n",
        "For each test image, model's prediction (the label with maximum probability) is shown, together with a plot showing the model's categorical distribution."
      ]
    },
    {
      "cell_type": "code",
      "metadata": {
        "id": "ZrUM42t_-gDL",
        "outputId": "daebb468-784c-43c8-c9fa-1e56f9c7417b",
        "colab": {
          "base_uri": "https://localhost:8080/",
          "height": 716
        }
      },
      "source": [
        "# Run this cell to get model predictions on randomly selected test images\n",
        "\n",
        "num_test_images = scaled_test_images.shape[0]\n",
        "\n",
        "random_inx = np.random.choice(num_test_images, 4)\n",
        "random_test_images = scaled_test_images[random_inx, ...]\n",
        "random_test_labels = test_labels[random_inx, ...]\n",
        "\n",
        "predictions = model.predict(random_test_images)\n",
        "\n",
        "fig, axes = plt.subplots(4, 2, figsize=(16, 12))\n",
        "fig.subplots_adjust(hspace=0.4, wspace=-0.2)\n",
        "\n",
        "for i, (prediction, image, label) in enumerate(zip(predictions, random_test_images, random_test_labels)):\n",
        "    axes[i, 0].imshow(np.squeeze(image))\n",
        "    axes[i, 0].get_xaxis().set_visible(False)\n",
        "    axes[i, 0].get_yaxis().set_visible(False)\n",
        "    axes[i, 0].text(10., -1.5, f'Digit {label}')\n",
        "    axes[i, 1].bar(np.arange(len(prediction)), prediction)\n",
        "    axes[i, 1].set_xticks(np.arange(len(prediction)))\n",
        "    axes[i, 1].set_title(f\"Categorical distribution. Model prediction: {np.argmax(prediction)}\")\n",
        "    \n",
        "plt.show()"
      ],
      "execution_count": 62,
      "outputs": [
        {
          "output_type": "display_data",
          "data": {
            "image/png": "[encoded data removed]",
            "text/plain": [
              "<Figure size 1152x864 with 8 Axes>"
            ]
          },
          "metadata": {
            "tags": [],
            "needs_background": "light"
          }
        }
      ]
    },
    {
      "cell_type": "markdown",
      "metadata": {
        "id": "_y6mwJLs-gDP"
      },
      "source": [
        "Congratulations for completing this programming assignment! In the next week of the course we will take a look at including validation and regularisation in our model training, and introduce Keras callbacks."
      ]
    }
  ]
}