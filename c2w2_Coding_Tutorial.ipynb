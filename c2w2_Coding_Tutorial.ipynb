{
  "nbformat": 4,
  "nbformat_minor": 0,
  "metadata": {
    "kernelspec": {
      "display_name": "Python 3",
      "language": "python",
      "name": "python3"
    },
    "language_info": {
      "codemirror_mode": {
        "name": "ipython",
        "version": 3
      },
      "file_extension": ".py",
      "mimetype": "text/x-python",
      "name": "python",
      "nbconvert_exporter": "python",
      "pygments_lexer": "ipython3",
      "version": "3.7.1"
    },
    "colab": {
      "name": "Coding Tutorial.ipynb",
      "provenance": [],
      "collapsed_sections": [
        "slDi0LNSLwlk",
        "1tPbAdRYLwmH",
        "YLOK8GMOLwmP",
        "KA-VnvRpLwmW",
        "-djfT1vDLwma",
        "wxB-r6_sLwmd",
        "eASEXb7uLwml",
        "CndbEe9-Lwmw",
        "2PTkNo-uLwm-",
        "tyi9F1cRLwnF",
        "KUfxD0WHLwnU",
        "8lDJvPvfLwnd",
        "IuICkLdgLwnv",
        "EdlrTTxkLwn1",
        "LoxWasQKLwn5",
        "zS5yD7TaLwn7",
        "vqqV3Ox9LwoA",
        "5d8X74-yLwoL",
        "agL_w4bhLwoU",
        "EgdUwwomLwom",
        "FJWNhXxMLwov",
        "WDGZ4VF-LwpC",
        "PDCxC62VLwpF",
        "B0IxwSLpLwpN",
        "8Ljy2Ro9LwpS",
        "5z_etyCZLwpZ",
        "H7rFrXSkLwpf",
        "waZerBcdLwpj",
        "6euItJ8bLwpn"
      ],
      "toc_visible": true,
      "include_colab_link": true
    }
  },
  "cells": [
    {
      "cell_type": "markdown",
      "metadata": {
        "id": "view-in-github",
        "colab_type": "text"
      },
      "source": [
        "<a href=\"https://colab.research.google.com/github/ravitata/tensorflow2/blob/master/c2w2_Coding_Tutorial.ipynb\" target=\"_parent\"><img src=\"https://colab.research.google.com/assets/colab-badge.svg\" alt=\"Open In Colab\"/></a>"
      ]
    },
    {
      "cell_type": "code",
      "metadata": {
        "id": "6JsB_bKALwj0",
        "outputId": "a2e51e50-d4b1-4d13-a707-be774d1f0be8",
        "colab": {
          "base_uri": "https://localhost:8080/",
          "height": 34
        }
      },
      "source": [
        "import tensorflow as tf\n",
        "print(tf.__version__)"
      ],
      "execution_count": null,
      "outputs": [
        {
          "output_type": "stream",
          "text": [
            "2.3.0\n"
          ],
          "name": "stdout"
        }
      ]
    },
    {
      "cell_type": "markdown",
      "metadata": {
        "id": "KT-hyAgFLwj7"
      },
      "source": [
        "# Data Pipeline"
      ]
    },
    {
      "cell_type": "markdown",
      "metadata": {
        "id": "n3ueZW9CLwj8"
      },
      "source": [
        " ## Coding tutorials\n",
        " #### [1. Keras datasets](#coding_tutorial_1)\n",
        " #### [2. Dataset generators](#coding_tutorial_2)\n",
        " #### [3. Keras image data augmentation](#coding_tutorial_3)\n",
        " #### [4. The Dataset class](#coding_tutorial_4)\n",
        " #### [5. Training with Datasets](#coding_tutorial_5)"
      ]
    },
    {
      "cell_type": "markdown",
      "metadata": {
        "id": "IF-0r_trLwj9"
      },
      "source": [
        "***\n",
        "<a id=\"coding_tutorial_1\"></a>\n",
        "## Keras datasets\n",
        "\n",
        "For a list of Keras datasets and documentation on recommended usage, see [this link](https://keras.io/datasets/)."
      ]
    },
    {
      "cell_type": "code",
      "metadata": {
        "id": "WHF_JbgGLwj-"
      },
      "source": [
        "import numpy as np\n",
        "import matplotlib.pyplot as plt"
      ],
      "execution_count": null,
      "outputs": []
    },
    {
      "cell_type": "markdown",
      "metadata": {
        "id": "vyE5HuD8LwkB"
      },
      "source": [
        "#### Load the CIFAR-100 Dataset"
      ]
    },
    {
      "cell_type": "code",
      "metadata": {
        "id": "x3Flu2zSLwkC"
      },
      "source": [
        "from tensorflow.keras.datasets import cifar100"
      ],
      "execution_count": null,
      "outputs": []
    },
    {
      "cell_type": "code",
      "metadata": {
        "scrolled": true,
        "id": "SQUmYRQdLwkF",
        "outputId": "02714918-d06a-46de-93a6-4990be292ba4",
        "colab": {
          "base_uri": "https://localhost:8080/",
          "height": 52
        }
      },
      "source": [
        "# Load the CIFAR-100 dataset\n",
        "(train_x, train_fine_y), (test_x, test_fine_y) = cifar100.load_data(label_mode='fine')\n"
      ],
      "execution_count": null,
      "outputs": [
        {
          "output_type": "stream",
          "text": [
            "Downloading data from https://www.cs.toronto.edu/~kriz/cifar-100-python.tar.gz\n",
            "169009152/169001437 [==============================] - 2s 0us/step\n"
          ],
          "name": "stdout"
        }
      ]
    },
    {
      "cell_type": "code",
      "metadata": {
        "id": "l75ozQVFLwkI"
      },
      "source": [
        "# Confirm that reloading the dataset does not require a download\n",
        "\n",
        "(train_x, train_fine_y), (test_x, test_fine_y) = cifar100.load_data(label_mode='fine')"
      ],
      "execution_count": null,
      "outputs": []
    },
    {
      "cell_type": "markdown",
      "metadata": {
        "id": "I1UEPzrYLwkL"
      },
      "source": [
        "#### Examine the Dataset"
      ]
    },
    {
      "cell_type": "markdown",
      "metadata": {
        "id": "rDYN-cq9Mc2Q"
      },
      "source": [
        "#### Import the data\n",
        "\n",
        "The additional files required for this tutorial can be downloaded from the following link:\n",
        "\n",
        "cifar100_fine_labels: https://drive.google.com/open?id=1WFW1cj8v_5z1pGvq6htQyFUPrJP-Z2v5\n",
        "\n",
        "cifar100_coarse_labels: https://drive.google.com/open?id=1Jmt7o-6sP85D7iRORk5tJqJMN3wCP12p\n",
        "\n",
        "You should store these files in Drive for use in this Colab notebook."
      ]
    },
    {
      "cell_type": "code",
      "metadata": {
        "id": "LiplZnP2ND6o",
        "outputId": "9d82a9d8-bc77-4afb-8c51-b4ac9e1117d8",
        "colab": {
          "base_uri": "https://localhost:8080/",
          "height": 34
        }
      },
      "source": [
        "# Run this cell to connect to your Drive folder\n",
        "\n",
        "from google.colab import drive\n",
        "drive.mount('/content/gdrive')"
      ],
      "execution_count": null,
      "outputs": [
        {
          "output_type": "stream",
          "text": [
            "Mounted at /content/gdrive\n"
          ],
          "name": "stdout"
        }
      ]
    },
    {
      "cell_type": "code",
      "metadata": {
        "id": "cpkIbhLTLwkM",
        "outputId": "e789f3a0-bb7f-4b52-ba9b-804f0af9491b",
        "colab": {
          "base_uri": "https://localhost:8080/",
          "height": 86
        }
      },
      "source": [
        "# Examine the shape of the data.\n",
        "print(train_x.shape)\n",
        "print(train_fine_y.shape)\n",
        "print(test_x.shape)\n",
        "print(test_fine_y.shape)"
      ],
      "execution_count": null,
      "outputs": [
        {
          "output_type": "stream",
          "text": [
            "(50000, 32, 32, 3)\n",
            "(50000, 1)\n",
            "(10000, 32, 32, 3)\n",
            "(10000, 1)\n"
          ],
          "name": "stdout"
        }
      ]
    },
    {
      "cell_type": "code",
      "metadata": {
        "id": "vY58jmf5LwkS",
        "outputId": "312ac064-59f6-4a4a-aa1e-d01d16fd50f1",
        "colab": {
          "base_uri": "https://localhost:8080/",
          "height": 283
        }
      },
      "source": [
        "# Examine one of the images and its corresponding label\n",
        "plt.imshow(train_x[0])\n",
        "plt.show()\n",
        "\n",
        "print('label= ', train_fine_y[0])"
      ],
      "execution_count": null,
      "outputs": [
        {
          "output_type": "display_data",
          "data": {
            "image/png": "[encoded data removed]",
            "text/plain": [
              "<Figure size 432x288 with 1 Axes>"
            ]
          },
          "metadata": {
            "tags": [],
            "needs_background": "light"
          }
        },
        {
          "output_type": "stream",
          "text": [
            "label=  [19]\n"
          ],
          "name": "stdout"
        }
      ]
    },
    {
      "cell_type": "code",
      "metadata": {
        "id": "Bojn7VsfLwkV"
      },
      "source": [
        "# Load the list of labels from a JSON file\n",
        "\n",
        "import json\n",
        "\n",
        "with open('/content/gdrive/My Drive/mydata/cifar100/cifar100_fine_labels.json', 'r') as fine_labels:\n",
        "    cifar100_fine_labels = json.load(fine_labels)"
      ],
      "execution_count": null,
      "outputs": []
    },
    {
      "cell_type": "markdown",
      "metadata": {
        "id": "RcULe51BLwkZ"
      },
      "source": [
        "The list of labels for the CIFAR-100 dataset are available [here](https://www.cs.toronto.edu/~kriz/cifar.html)."
      ]
    },
    {
      "cell_type": "code",
      "metadata": {
        "id": "KXq95zzcLwka",
        "outputId": "70ab10f9-83f0-49f7-d5e0-7f455075fb0e",
        "colab": {
          "base_uri": "https://localhost:8080/",
          "height": 191
        }
      },
      "source": [
        "# Print a few of the labels\n",
        "cifar100_fine_labels[0:10]\n"
      ],
      "execution_count": null,
      "outputs": [
        {
          "output_type": "execute_result",
          "data": {
            "text/plain": [
              "['apple',\n",
              " 'aquarium_fish',\n",
              " 'baby',\n",
              " 'bear',\n",
              " 'beaver',\n",
              " 'bed',\n",
              " 'bee',\n",
              " 'beetle',\n",
              " 'bicycle',\n",
              " 'bottle']"
            ]
          },
          "metadata": {
            "tags": []
          },
          "execution_count": 11
        }
      ]
    },
    {
      "cell_type": "code",
      "metadata": {
        "id": "F6Oqo7xKLwkd",
        "outputId": "45943014-61ec-4a29-b120-b768bc734d54",
        "colab": {
          "base_uri": "https://localhost:8080/",
          "height": 35
        }
      },
      "source": [
        "# Print the corresponding label for the example above\n",
        "cifar100_fine_labels[19]\n"
      ],
      "execution_count": null,
      "outputs": [
        {
          "output_type": "execute_result",
          "data": {
            "application/vnd.google.colaboratory.intrinsic+json": {
              "type": "string"
            },
            "text/plain": [
              "'cattle'"
            ]
          },
          "metadata": {
            "tags": []
          },
          "execution_count": 12
        }
      ]
    },
    {
      "cell_type": "markdown",
      "metadata": {
        "id": "GKQA_qggLwkh"
      },
      "source": [
        "#### Load the data using different label modes"
      ]
    },
    {
      "cell_type": "code",
      "metadata": {
        "id": "UkLZ3caeLwki",
        "outputId": "edf40522-8876-47bc-b305-85bae2cc506c",
        "colab": {
          "base_uri": "https://localhost:8080/",
          "height": 179
        }
      },
      "source": [
        "# Display a few examples from category 87 (index 86) and the list of labels\n",
        "\n",
        "examples = train_x[(train_fine_y.T == 86)[0]][:3]\n",
        "fig, ax = plt.subplots(1,3)\n",
        "ax[0].imshow(examples[0])\n",
        "ax[0].set_title(cifar100_fine_labels[86])\n",
        "ax[1].imshow(examples[1])\n",
        "ax[1].set_title(cifar100_fine_labels[86])\n",
        "ax[2].imshow(examples[2])\n",
        "ax[2].set_title(cifar100_fine_labels[86])"
      ],
      "execution_count": null,
      "outputs": [
        {
          "output_type": "execute_result",
          "data": {
            "text/plain": [
              "Text(0.5, 1.0, 'telephone')"
            ]
          },
          "metadata": {
            "tags": []
          },
          "execution_count": 33
        },
        {
          "output_type": "display_data",
          "data": {
            "image/png": "[encoded data removed]",
            "text/plain": [
              "<Figure size 432x288 with 3 Axes>"
            ]
          },
          "metadata": {
            "tags": [],
            "needs_background": "light"
          }
        }
      ]
    },
    {
      "cell_type": "code",
      "metadata": {
        "id": "qdP2x7rFLwkk"
      },
      "source": [
        "# Reload the data using the 'coarse' label mode\n",
        "\n",
        "(train_x, train_coarse_y), (test_x, test_coarse_y) = cifar100.load_data(label_mode='coarse')"
      ],
      "execution_count": null,
      "outputs": []
    },
    {
      "cell_type": "code",
      "metadata": {
        "id": "zVizCMTSLwkn",
        "outputId": "7ed85fc9-b987-45ff-c3f1-8eaca50f6487",
        "colab": {
          "base_uri": "https://localhost:8080/",
          "height": 166
        }
      },
      "source": [
        "# Display three images from the dataset with the label 6 (index 5)\n",
        "\n",
        "examples = train_x[(train_coarse_y.T == 5)[0]][:3]\n",
        "fig, ax = plt.subplots(1,3)\n",
        "ax[0].imshow(examples[0])\n",
        "ax[1].imshow(examples[1])\n",
        "ax[2].imshow(examples[2])"
      ],
      "execution_count": null,
      "outputs": [
        {
          "output_type": "execute_result",
          "data": {
            "text/plain": [
              "<matplotlib.image.AxesImage at 0x7f15547f8128>"
            ]
          },
          "metadata": {
            "tags": []
          },
          "execution_count": 30
        },
        {
          "output_type": "display_data",
          "data": {
            "image/png": "[encoded data removed]",
            "text/plain": [
              "<Figure size 432x288 with 3 Axes>"
            ]
          },
          "metadata": {
            "tags": [],
            "needs_background": "light"
          }
        }
      ]
    },
    {
      "cell_type": "code",
      "metadata": {
        "id": "C_MZIWCFLwks"
      },
      "source": [
        "# Load the list of coarse labels from a JSON file\n",
        "\n",
        "with open('/content/gdrive/My Drive/mydata/cifar100/cifar100_coarse_labels.json', 'r') as coarse_labels:\n",
        "    cifar100_coarse_labels = json.load(coarse_labels)"
      ],
      "execution_count": null,
      "outputs": []
    },
    {
      "cell_type": "code",
      "metadata": {
        "scrolled": true,
        "id": "wbvYhD48Lwku",
        "outputId": "ec6ed7f8-80b8-4ec3-9f61-5f6f28831540",
        "colab": {
          "base_uri": "https://localhost:8080/",
          "height": 191
        }
      },
      "source": [
        "# Print a few of the labels\n",
        "\n",
        "cifar100_coarse_labels[0:10]\n"
      ],
      "execution_count": null,
      "outputs": [
        {
          "output_type": "execute_result",
          "data": {
            "text/plain": [
              "['aquatic mammals',\n",
              " 'fish',\n",
              " 'flowers',\n",
              " 'food containers',\n",
              " 'fruit and vegetables',\n",
              " 'household electrical device',\n",
              " 'household furniture',\n",
              " 'insects',\n",
              " 'large carnivores',\n",
              " 'large man-made outdoor things']"
            ]
          },
          "metadata": {
            "tags": []
          },
          "execution_count": 26
        }
      ]
    },
    {
      "cell_type": "code",
      "metadata": {
        "id": "2KGMaEInLwkx",
        "outputId": "d59a694d-cd2d-45c3-f770-3b63b2e65d67",
        "colab": {
          "base_uri": "https://localhost:8080/",
          "height": 35
        }
      },
      "source": [
        "# Print the corresponding label for the example above\n",
        "cifar100_coarse_labels[5]\n"
      ],
      "execution_count": null,
      "outputs": [
        {
          "output_type": "execute_result",
          "data": {
            "application/vnd.google.colaboratory.intrinsic+json": {
              "type": "string"
            },
            "text/plain": [
              "'household electrical device'"
            ]
          },
          "metadata": {
            "tags": []
          },
          "execution_count": 27
        }
      ]
    },
    {
      "cell_type": "markdown",
      "metadata": {
        "id": "uZDJui8OLwk1"
      },
      "source": [
        "#### Load the IMDB Dataset"
      ]
    },
    {
      "cell_type": "code",
      "metadata": {
        "id": "UKylrcBKLwk2"
      },
      "source": [
        "from tensorflow.keras.datasets import imdb"
      ],
      "execution_count": null,
      "outputs": []
    },
    {
      "cell_type": "code",
      "metadata": {
        "id": "rWNp9BGZLwk4"
      },
      "source": [
        "# Load the IMDB dataset\n",
        "(train_x, train_y), (test_x, test_y) = imdb.load_data()\n"
      ],
      "execution_count": null,
      "outputs": []
    },
    {
      "cell_type": "code",
      "metadata": {
        "id": "fTHEOfQ1Lwk8",
        "outputId": "29da2b71-7b27-4520-a8b0-585d7201f597",
        "colab": {
          "base_uri": "https://localhost:8080/",
          "height": 52
        }
      },
      "source": [
        "# Print an example from the training dataset, along with its corresponding label\n",
        "print(len(train_x[5]))\n",
        "print(train_y[5])\n"
      ],
      "execution_count": null,
      "outputs": [
        {
          "output_type": "stream",
          "text": [
            "43\n",
            "0\n"
          ],
          "name": "stdout"
        }
      ]
    },
    {
      "cell_type": "code",
      "metadata": {
        "id": "UikjKYS5Lwk-"
      },
      "source": [
        "# Get the lengths of the input sequences\n",
        "\n",
        "sequence_lengths = [len(seq) for seq in train_x]"
      ],
      "execution_count": null,
      "outputs": []
    },
    {
      "cell_type": "code",
      "metadata": {
        "id": "3QbK1eZOLwlB",
        "outputId": "df9031fa-7671-48bd-b163-6bcb250d12b0",
        "colab": {
          "base_uri": "https://localhost:8080/",
          "height": 52
        }
      },
      "source": [
        "# Determine the maximum and minimum sequence length\n",
        "print('Max= ', max(sequence_lengths))\n",
        "print('Min= ', min(sequence_lengths))\n"
      ],
      "execution_count": null,
      "outputs": [
        {
          "output_type": "stream",
          "text": [
            "Max=  2494\n",
            "Min=  11\n"
          ],
          "name": "stdout"
        }
      ]
    },
    {
      "cell_type": "markdown",
      "metadata": {
        "id": "WfxdEsETLwlD"
      },
      "source": [
        "#### Using Keyword Arguments"
      ]
    },
    {
      "cell_type": "code",
      "metadata": {
        "id": "V_rJ9cHDLwlE"
      },
      "source": [
        "# Load the data ignoring the 50 most frequent words, use oov_char=2 (this is the default)\n",
        "\n",
        "(train_x, train_y), (test_x, test_y) = imdb.load_data(skip_top=50, oov_char=2)"
      ],
      "execution_count": null,
      "outputs": []
    },
    {
      "cell_type": "code",
      "metadata": {
        "id": "EfrBgZWXLwlH"
      },
      "source": [
        "# Get the lengths of the input sequences\n",
        "\n",
        "sequence_lengths = [len(seq) for seq in train_x]"
      ],
      "execution_count": null,
      "outputs": []
    },
    {
      "cell_type": "code",
      "metadata": {
        "id": "iqSdCKqxLwlJ",
        "outputId": "f6b7bf90-e362-4af5-fe8d-4f6b6fe7d4d6",
        "colab": {
          "base_uri": "https://localhost:8080/",
          "height": 52
        }
      },
      "source": [
        "# Determine the maximum and minimum sequence length\n",
        "print('Max= ', max(sequence_lengths))\n",
        "print('Min= ', min(sequence_lengths))\n"
      ],
      "execution_count": null,
      "outputs": [
        {
          "output_type": "stream",
          "text": [
            "Max=  2494\n",
            "Min=  11\n"
          ],
          "name": "stdout"
        }
      ]
    },
    {
      "cell_type": "code",
      "metadata": {
        "id": "R9RjMJaJLwlL"
      },
      "source": [
        "# Define functions for filtering the sequences\n",
        "\n",
        "def remove_oov_char(element):\n",
        "    ''' Filter function for removing the oov_char. '''\n",
        "    return [word for word in element if word!=2]\n",
        "\n",
        "def filter_list(lst):\n",
        "    ''' Run remove_oov_char on elements in a list. '''\n",
        "    return [remove_oov_char(element) for element in lst]"
      ],
      "execution_count": null,
      "outputs": []
    },
    {
      "cell_type": "code",
      "metadata": {
        "id": "7eBoicx1LwlO"
      },
      "source": [
        "# Remove the oov_char from the sequences using the filter_list function\n",
        "\n",
        "train_x = filter_list(train_x)"
      ],
      "execution_count": null,
      "outputs": []
    },
    {
      "cell_type": "code",
      "metadata": {
        "id": "YZ0myFkyLwlR"
      },
      "source": [
        "# Get the lengths of the input sequences\n",
        "\n",
        "sequence_lengths = [len(seq) for seq in train_x]"
      ],
      "execution_count": null,
      "outputs": []
    },
    {
      "cell_type": "code",
      "metadata": {
        "id": "Qy5jFTr3LwlU",
        "outputId": "db643e86-9f4f-471f-c1ba-4923b48d8e72",
        "colab": {
          "base_uri": "https://localhost:8080/",
          "height": 52
        }
      },
      "source": [
        "# Determine the maximum and minimum sequence length\n",
        "print('Max= ', max(sequence_lengths))\n",
        "print('Min= ', min(sequence_lengths))\n"
      ],
      "execution_count": null,
      "outputs": [
        {
          "output_type": "stream",
          "text": [
            "Max=  1648\n",
            "Min=  3\n"
          ],
          "name": "stdout"
        }
      ]
    },
    {
      "cell_type": "code",
      "metadata": {
        "id": "wHX81jtXmJPP"
      },
      "source": [
        "word_index = imdb.get_word_index()"
      ],
      "execution_count": null,
      "outputs": []
    },
    {
      "cell_type": "code",
      "metadata": {
        "id": "5R5eNmpbmfz6",
        "outputId": "45f5933f-923b-4425-85d6-2460a4712e2d",
        "colab": {
          "base_uri": "https://localhost:8080/",
          "height": 121
        }
      },
      "source": [
        "n = 0\n",
        "for k in word_index.keys():\n",
        "  print(k, ' = ', word_index[k])\n",
        "  n += 1\n",
        "  if (n>5):\n",
        "    break\n"
      ],
      "execution_count": null,
      "outputs": [
        {
          "output_type": "stream",
          "text": [
            "fawn  =  34701\n",
            "tsukino  =  52006\n",
            "nunnery  =  52007\n",
            "sonja  =  16816\n",
            "vani  =  63951\n",
            "woods  =  1408\n"
          ],
          "name": "stdout"
        }
      ]
    },
    {
      "cell_type": "code",
      "metadata": {
        "id": "SabUrc6anMj6"
      },
      "source": [
        "index_word = {w:k for k, w in word_index.items()}"
      ],
      "execution_count": null,
      "outputs": []
    },
    {
      "cell_type": "code",
      "metadata": {
        "id": "5izDlUefn99j",
        "outputId": "40878de2-852d-477b-ba51-647e2889d5c5",
        "colab": {
          "base_uri": "https://localhost:8080/",
          "height": 34
        }
      },
      "source": [
        "print(index_word[34701])"
      ],
      "execution_count": null,
      "outputs": [
        {
          "output_type": "stream",
          "text": [
            "fawn\n"
          ],
          "name": "stdout"
        }
      ]
    },
    {
      "cell_type": "code",
      "metadata": {
        "id": "-lOuAr4hpBF_",
        "outputId": "70a71435-0078-464d-aa90-662b30bb67b7",
        "colab": {
          "base_uri": "https://localhost:8080/",
          "height": 451
        }
      },
      "source": [
        "train_x[5]"
      ],
      "execution_count": null,
      "outputs": [
        {
          "output_type": "execute_result",
          "data": {
            "text/plain": [
              "[778,\n",
              " 128,\n",
              " 74,\n",
              " 630,\n",
              " 163,\n",
              " 1766,\n",
              " 7982,\n",
              " 1051,\n",
              " 43222,\n",
              " 85,\n",
              " 156,\n",
              " 148,\n",
              " 139,\n",
              " 121,\n",
              " 664,\n",
              " 665,\n",
              " 1361,\n",
              " 173,\n",
              " 749,\n",
              " 86588,\n",
              " 3804,\n",
              " 226,\n",
              " 65,\n",
              " 127,\n",
              " 15344]"
            ]
          },
          "metadata": {
            "tags": []
          },
          "execution_count": 78
        }
      ]
    },
    {
      "cell_type": "code",
      "metadata": {
        "id": "18QmQCHYpKLx",
        "outputId": "8afbe3c1-1700-4a47-bb0f-98b3363d439e",
        "colab": {
          "base_uri": "https://localhost:8080/",
          "height": 764
        }
      },
      "source": [
        "for i in train_x[5]:\n",
        "  print(i, ' ', index_word[i])"
      ],
      "execution_count": null,
      "outputs": [
        {
          "output_type": "stream",
          "text": [
            "1   the\n",
            "778   effort\n",
            "128   still\n",
            "74   been\n",
            "12   that\n",
            "630   usually\n",
            "163   makes\n",
            "15   for\n",
            "4   of\n",
            "1766   finished\n",
            "7982   sucking\n",
            "1051   ended\n",
            "43222   cbc's\n",
            "32   an\n",
            "85   because\n",
            "156   before\n",
            "45   if\n",
            "40   just\n",
            "148   though\n",
            "139   something\n",
            "121   know\n",
            "664   novel\n",
            "665   female\n",
            "10   i\n",
            "10   i\n",
            "1361   slowly\n",
            "173   lot\n",
            "4   of\n",
            "749   above\n",
            "86588   freshened\n",
            "16   with\n",
            "3804   connect\n",
            "8   in\n",
            "4   of\n",
            "226   script\n",
            "65   their\n",
            "12   that\n",
            "43   out\n",
            "127   end\n",
            "24   his\n",
            "15344   deceptively\n",
            "10   i\n",
            "10   i\n"
          ],
          "name": "stdout"
        }
      ]
    },
    {
      "cell_type": "markdown",
      "metadata": {
        "id": "43w36xfNLwlW"
      },
      "source": [
        "***\n",
        "<a id=\"coding_tutorial_2\"></a>\n",
        "## Dataset generators"
      ]
    },
    {
      "cell_type": "code",
      "metadata": {
        "id": "_GVjAo5nLwlX"
      },
      "source": [
        "import matplotlib.pyplot as plt\n",
        "import numpy as np\n",
        "import pandas as pd"
      ],
      "execution_count": 1,
      "outputs": []
    },
    {
      "cell_type": "markdown",
      "metadata": {
        "id": "QeksQNB9LwlZ"
      },
      "source": [
        "#### Load the UCI Fertility Dataset\n",
        "\n",
        "We will be using a dataset available at https://archive.ics.uci.edu/ml/datasets/Fertility from UC Irvine."
      ]
    },
    {
      "cell_type": "markdown",
      "metadata": {
        "id": "tDMv0Yc6NGd9"
      },
      "source": [
        "#### Import the data\n",
        "\n",
        "The dataset required for this tutorial can be downloaded from the following link:\n",
        "\n",
        "https://drive.google.com/open?id=1OA0lwa5YLDs1njS377jbqPpMSlH5TzQV\n",
        "\n",
        "You should store this file in Drive for use in this Colab notebook."
      ]
    },
    {
      "cell_type": "code",
      "metadata": {
        "id": "UK-HCBxlNGpb",
        "outputId": "d0101df0-65fe-430f-c2dd-c71409e7ca1e",
        "colab": {
          "base_uri": "https://localhost:8080/",
          "height": 34
        }
      },
      "source": [
        "# Run this cell to connect to your Drive folder\n",
        "\n",
        "from google.colab import drive\n",
        "drive.mount('/content/gdrive')"
      ],
      "execution_count": 2,
      "outputs": [
        {
          "output_type": "stream",
          "text": [
            "Mounted at /content/gdrive\n"
          ],
          "name": "stdout"
        }
      ]
    },
    {
      "cell_type": "code",
      "metadata": {
        "id": "XKfmk3zpLwla"
      },
      "source": [
        "# Load the fertility dataset\n",
        "\n",
        "headers = ['Season', 'Age', 'Diseases', 'Trauma', 'Surgery', 'Fever', 'Alcohol', 'Smoking', 'Sitting', 'Output']\n",
        "fertility = pd.read_csv('/content/gdrive/My Drive/mydata/fertility/fertility_diagnosis.txt', delimiter=',', header=None, names=headers)"
      ],
      "execution_count": 3,
      "outputs": []
    },
    {
      "cell_type": "code",
      "metadata": {
        "id": "WWOyjhCJLwld",
        "outputId": "c7a2dd2f-a589-43f7-ef9b-7e408464753c",
        "colab": {
          "base_uri": "https://localhost:8080/",
          "height": 34
        }
      },
      "source": [
        "# Print the shape of the DataFrame\n",
        "fertility.shape\n"
      ],
      "execution_count": 4,
      "outputs": [
        {
          "output_type": "execute_result",
          "data": {
            "text/plain": [
              "(100, 10)"
            ]
          },
          "metadata": {
            "tags": []
          },
          "execution_count": 4
        }
      ]
    },
    {
      "cell_type": "code",
      "metadata": {
        "id": "mwGWKnbbLwlf",
        "outputId": "91c10bc2-d89e-4a11-98ab-15dabcadc8f5",
        "colab": {
          "base_uri": "https://localhost:8080/",
          "height": 206
        }
      },
      "source": [
        "# Show the head of the DataFrame\n",
        "fertility.head()\n"
      ],
      "execution_count": 5,
      "outputs": [
        {
          "output_type": "execute_result",
          "data": {
            "text/html": [
              "<div>\n",
              "<style scoped>\n",
              "    .dataframe tbody tr th:only-of-type {\n",
              "        vertical-align: middle;\n",
              "    }\n",
              "\n",
              "    .dataframe tbody tr th {\n",
              "        vertical-align: top;\n",
              "    }\n",
              "\n",
              "    .dataframe thead th {\n",
              "        text-align: right;\n",
              "    }\n",
              "</style>\n",
              "<table border=\"1\" class=\"dataframe\">\n",
              "  <thead>\n",
              "    <tr style=\"text-align: right;\">\n",
              "      <th></th>\n",
              "      <th>Season</th>\n",
              "      <th>Age</th>\n",
              "      <th>Diseases</th>\n",
              "      <th>Trauma</th>\n",
              "      <th>Surgery</th>\n",
              "      <th>Fever</th>\n",
              "      <th>Alcohol</th>\n",
              "      <th>Smoking</th>\n",
              "      <th>Sitting</th>\n",
              "      <th>Output</th>\n",
              "    </tr>\n",
              "  </thead>\n",
              "  <tbody>\n",
              "    <tr>\n",
              "      <th>0</th>\n",
              "      <td>-0.33</td>\n",
              "      <td>0.69</td>\n",
              "      <td>0</td>\n",
              "      <td>1</td>\n",
              "      <td>1</td>\n",
              "      <td>0</td>\n",
              "      <td>0.8</td>\n",
              "      <td>0</td>\n",
              "      <td>0.88</td>\n",
              "      <td>N</td>\n",
              "    </tr>\n",
              "    <tr>\n",
              "      <th>1</th>\n",
              "      <td>-0.33</td>\n",
              "      <td>0.94</td>\n",
              "      <td>1</td>\n",
              "      <td>0</td>\n",
              "      <td>1</td>\n",
              "      <td>0</td>\n",
              "      <td>0.8</td>\n",
              "      <td>1</td>\n",
              "      <td>0.31</td>\n",
              "      <td>O</td>\n",
              "    </tr>\n",
              "    <tr>\n",
              "      <th>2</th>\n",
              "      <td>-0.33</td>\n",
              "      <td>0.50</td>\n",
              "      <td>1</td>\n",
              "      <td>0</td>\n",
              "      <td>0</td>\n",
              "      <td>0</td>\n",
              "      <td>1.0</td>\n",
              "      <td>-1</td>\n",
              "      <td>0.50</td>\n",
              "      <td>N</td>\n",
              "    </tr>\n",
              "    <tr>\n",
              "      <th>3</th>\n",
              "      <td>-0.33</td>\n",
              "      <td>0.75</td>\n",
              "      <td>0</td>\n",
              "      <td>1</td>\n",
              "      <td>1</td>\n",
              "      <td>0</td>\n",
              "      <td>1.0</td>\n",
              "      <td>-1</td>\n",
              "      <td>0.38</td>\n",
              "      <td>N</td>\n",
              "    </tr>\n",
              "    <tr>\n",
              "      <th>4</th>\n",
              "      <td>-0.33</td>\n",
              "      <td>0.67</td>\n",
              "      <td>1</td>\n",
              "      <td>1</td>\n",
              "      <td>0</td>\n",
              "      <td>0</td>\n",
              "      <td>0.8</td>\n",
              "      <td>-1</td>\n",
              "      <td>0.50</td>\n",
              "      <td>O</td>\n",
              "    </tr>\n",
              "  </tbody>\n",
              "</table>\n",
              "</div>"
            ],
            "text/plain": [
              "   Season   Age  Diseases  Trauma  ...  Alcohol  Smoking  Sitting  Output\n",
              "0   -0.33  0.69         0       1  ...      0.8        0     0.88       N\n",
              "1   -0.33  0.94         1       0  ...      0.8        1     0.31       O\n",
              "2   -0.33  0.50         1       0  ...      1.0       -1     0.50       N\n",
              "3   -0.33  0.75         0       1  ...      1.0       -1     0.38       N\n",
              "4   -0.33  0.67         1       1  ...      0.8       -1     0.50       O\n",
              "\n",
              "[5 rows x 10 columns]"
            ]
          },
          "metadata": {
            "tags": []
          },
          "execution_count": 5
        }
      ]
    },
    {
      "cell_type": "markdown",
      "metadata": {
        "id": "slDi0LNSLwlk"
      },
      "source": [
        "#### Process the data"
      ]
    },
    {
      "cell_type": "code",
      "metadata": {
        "id": "bCmzD-5HLwll"
      },
      "source": [
        "# Map the 'Output' feature from 'N' to 0 and from 'O' to 1\n",
        "\n",
        "fertility['Output'] = fertility['Output'].map(lambda x : 0.0 if x=='N' else 1.0)"
      ],
      "execution_count": 6,
      "outputs": []
    },
    {
      "cell_type": "code",
      "metadata": {
        "id": "7yjVX1KMLwlo",
        "outputId": "081eb52a-8c97-4060-c5ec-e5efac202dc3",
        "colab": {
          "base_uri": "https://localhost:8080/",
          "height": 206
        }
      },
      "source": [
        "# Show the head of the DataFrame\n",
        "\n",
        "fertility.head()"
      ],
      "execution_count": 7,
      "outputs": [
        {
          "output_type": "execute_result",
          "data": {
            "text/html": [
              "<div>\n",
              "<style scoped>\n",
              "    .dataframe tbody tr th:only-of-type {\n",
              "        vertical-align: middle;\n",
              "    }\n",
              "\n",
              "    .dataframe tbody tr th {\n",
              "        vertical-align: top;\n",
              "    }\n",
              "\n",
              "    .dataframe thead th {\n",
              "        text-align: right;\n",
              "    }\n",
              "</style>\n",
              "<table border=\"1\" class=\"dataframe\">\n",
              "  <thead>\n",
              "    <tr style=\"text-align: right;\">\n",
              "      <th></th>\n",
              "      <th>Season</th>\n",
              "      <th>Age</th>\n",
              "      <th>Diseases</th>\n",
              "      <th>Trauma</th>\n",
              "      <th>Surgery</th>\n",
              "      <th>Fever</th>\n",
              "      <th>Alcohol</th>\n",
              "      <th>Smoking</th>\n",
              "      <th>Sitting</th>\n",
              "      <th>Output</th>\n",
              "    </tr>\n",
              "  </thead>\n",
              "  <tbody>\n",
              "    <tr>\n",
              "      <th>0</th>\n",
              "      <td>-0.33</td>\n",
              "      <td>0.69</td>\n",
              "      <td>0</td>\n",
              "      <td>1</td>\n",
              "      <td>1</td>\n",
              "      <td>0</td>\n",
              "      <td>0.8</td>\n",
              "      <td>0</td>\n",
              "      <td>0.88</td>\n",
              "      <td>0.0</td>\n",
              "    </tr>\n",
              "    <tr>\n",
              "      <th>1</th>\n",
              "      <td>-0.33</td>\n",
              "      <td>0.94</td>\n",
              "      <td>1</td>\n",
              "      <td>0</td>\n",
              "      <td>1</td>\n",
              "      <td>0</td>\n",
              "      <td>0.8</td>\n",
              "      <td>1</td>\n",
              "      <td>0.31</td>\n",
              "      <td>1.0</td>\n",
              "    </tr>\n",
              "    <tr>\n",
              "      <th>2</th>\n",
              "      <td>-0.33</td>\n",
              "      <td>0.50</td>\n",
              "      <td>1</td>\n",
              "      <td>0</td>\n",
              "      <td>0</td>\n",
              "      <td>0</td>\n",
              "      <td>1.0</td>\n",
              "      <td>-1</td>\n",
              "      <td>0.50</td>\n",
              "      <td>0.0</td>\n",
              "    </tr>\n",
              "    <tr>\n",
              "      <th>3</th>\n",
              "      <td>-0.33</td>\n",
              "      <td>0.75</td>\n",
              "      <td>0</td>\n",
              "      <td>1</td>\n",
              "      <td>1</td>\n",
              "      <td>0</td>\n",
              "      <td>1.0</td>\n",
              "      <td>-1</td>\n",
              "      <td>0.38</td>\n",
              "      <td>0.0</td>\n",
              "    </tr>\n",
              "    <tr>\n",
              "      <th>4</th>\n",
              "      <td>-0.33</td>\n",
              "      <td>0.67</td>\n",
              "      <td>1</td>\n",
              "      <td>1</td>\n",
              "      <td>0</td>\n",
              "      <td>0</td>\n",
              "      <td>0.8</td>\n",
              "      <td>-1</td>\n",
              "      <td>0.50</td>\n",
              "      <td>1.0</td>\n",
              "    </tr>\n",
              "  </tbody>\n",
              "</table>\n",
              "</div>"
            ],
            "text/plain": [
              "   Season   Age  Diseases  Trauma  ...  Alcohol  Smoking  Sitting  Output\n",
              "0   -0.33  0.69         0       1  ...      0.8        0     0.88     0.0\n",
              "1   -0.33  0.94         1       0  ...      0.8        1     0.31     1.0\n",
              "2   -0.33  0.50         1       0  ...      1.0       -1     0.50     0.0\n",
              "3   -0.33  0.75         0       1  ...      1.0       -1     0.38     0.0\n",
              "4   -0.33  0.67         1       1  ...      0.8       -1     0.50     1.0\n",
              "\n",
              "[5 rows x 10 columns]"
            ]
          },
          "metadata": {
            "tags": []
          },
          "execution_count": 7
        }
      ]
    },
    {
      "cell_type": "code",
      "metadata": {
        "id": "hJ5qjO5ALwlq"
      },
      "source": [
        "# Convert the DataFrame so that the features are mapped to floats\n",
        "\n",
        "fertility = fertility.astype('float32')"
      ],
      "execution_count": 8,
      "outputs": []
    },
    {
      "cell_type": "code",
      "metadata": {
        "id": "WWIZ-en6Lwls"
      },
      "source": [
        "# Shuffle the DataFrame\n",
        "\n",
        "fertility = fertility.sample(frac=1).reset_index(drop=True)"
      ],
      "execution_count": 9,
      "outputs": []
    },
    {
      "cell_type": "code",
      "metadata": {
        "scrolled": true,
        "id": "4HH_ObWqLwlu",
        "outputId": "1c928316-4555-4c52-8223-adb087e18eff",
        "colab": {
          "base_uri": "https://localhost:8080/",
          "height": 206
        }
      },
      "source": [
        "# Show the head of the DataFrame\n",
        "\n",
        "fertility.head()"
      ],
      "execution_count": 10,
      "outputs": [
        {
          "output_type": "execute_result",
          "data": {
            "text/html": [
              "<div>\n",
              "<style scoped>\n",
              "    .dataframe tbody tr th:only-of-type {\n",
              "        vertical-align: middle;\n",
              "    }\n",
              "\n",
              "    .dataframe tbody tr th {\n",
              "        vertical-align: top;\n",
              "    }\n",
              "\n",
              "    .dataframe thead th {\n",
              "        text-align: right;\n",
              "    }\n",
              "</style>\n",
              "<table border=\"1\" class=\"dataframe\">\n",
              "  <thead>\n",
              "    <tr style=\"text-align: right;\">\n",
              "      <th></th>\n",
              "      <th>Season</th>\n",
              "      <th>Age</th>\n",
              "      <th>Diseases</th>\n",
              "      <th>Trauma</th>\n",
              "      <th>Surgery</th>\n",
              "      <th>Fever</th>\n",
              "      <th>Alcohol</th>\n",
              "      <th>Smoking</th>\n",
              "      <th>Sitting</th>\n",
              "      <th>Output</th>\n",
              "    </tr>\n",
              "  </thead>\n",
              "  <tbody>\n",
              "    <tr>\n",
              "      <th>0</th>\n",
              "      <td>-0.33</td>\n",
              "      <td>0.75</td>\n",
              "      <td>1.0</td>\n",
              "      <td>1.0</td>\n",
              "      <td>1.0</td>\n",
              "      <td>0.0</td>\n",
              "      <td>0.6</td>\n",
              "      <td>-1.0</td>\n",
              "      <td>0.19</td>\n",
              "      <td>0.0</td>\n",
              "    </tr>\n",
              "    <tr>\n",
              "      <th>1</th>\n",
              "      <td>-0.33</td>\n",
              "      <td>0.69</td>\n",
              "      <td>1.0</td>\n",
              "      <td>1.0</td>\n",
              "      <td>1.0</td>\n",
              "      <td>-1.0</td>\n",
              "      <td>1.0</td>\n",
              "      <td>-1.0</td>\n",
              "      <td>0.75</td>\n",
              "      <td>0.0</td>\n",
              "    </tr>\n",
              "    <tr>\n",
              "      <th>2</th>\n",
              "      <td>-1.00</td>\n",
              "      <td>0.56</td>\n",
              "      <td>1.0</td>\n",
              "      <td>0.0</td>\n",
              "      <td>0.0</td>\n",
              "      <td>0.0</td>\n",
              "      <td>1.0</td>\n",
              "      <td>-1.0</td>\n",
              "      <td>0.44</td>\n",
              "      <td>0.0</td>\n",
              "    </tr>\n",
              "    <tr>\n",
              "      <th>3</th>\n",
              "      <td>-1.00</td>\n",
              "      <td>0.72</td>\n",
              "      <td>1.0</td>\n",
              "      <td>1.0</td>\n",
              "      <td>1.0</td>\n",
              "      <td>1.0</td>\n",
              "      <td>0.8</td>\n",
              "      <td>-1.0</td>\n",
              "      <td>0.19</td>\n",
              "      <td>0.0</td>\n",
              "    </tr>\n",
              "    <tr>\n",
              "      <th>4</th>\n",
              "      <td>-0.33</td>\n",
              "      <td>0.72</td>\n",
              "      <td>1.0</td>\n",
              "      <td>1.0</td>\n",
              "      <td>0.0</td>\n",
              "      <td>0.0</td>\n",
              "      <td>0.6</td>\n",
              "      <td>1.0</td>\n",
              "      <td>0.19</td>\n",
              "      <td>0.0</td>\n",
              "    </tr>\n",
              "  </tbody>\n",
              "</table>\n",
              "</div>"
            ],
            "text/plain": [
              "   Season   Age  Diseases  Trauma  ...  Alcohol  Smoking  Sitting  Output\n",
              "0   -0.33  0.75       1.0     1.0  ...      0.6     -1.0     0.19     0.0\n",
              "1   -0.33  0.69       1.0     1.0  ...      1.0     -1.0     0.75     0.0\n",
              "2   -1.00  0.56       1.0     0.0  ...      1.0     -1.0     0.44     0.0\n",
              "3   -1.00  0.72       1.0     1.0  ...      0.8     -1.0     0.19     0.0\n",
              "4   -0.33  0.72       1.0     1.0  ...      0.6      1.0     0.19     0.0\n",
              "\n",
              "[5 rows x 10 columns]"
            ]
          },
          "metadata": {
            "tags": []
          },
          "execution_count": 10
        }
      ]
    },
    {
      "cell_type": "code",
      "metadata": {
        "id": "oREiQC5wLwly"
      },
      "source": [
        "# Convert the field Season to a one-hot encoded vector\n",
        "\n",
        "fertility = pd.get_dummies(fertility, prefix='Season', columns=['Season'])"
      ],
      "execution_count": 11,
      "outputs": []
    },
    {
      "cell_type": "code",
      "metadata": {
        "id": "fDCUdq3VLwl2",
        "outputId": "941d4489-ca89-4468-b0b4-ed7cc1c70afa",
        "colab": {
          "base_uri": "https://localhost:8080/",
          "height": 206
        }
      },
      "source": [
        "# Show the head of the DataFrame\n",
        "\n",
        "fertility.head()"
      ],
      "execution_count": 12,
      "outputs": [
        {
          "output_type": "execute_result",
          "data": {
            "text/html": [
              "<div>\n",
              "<style scoped>\n",
              "    .dataframe tbody tr th:only-of-type {\n",
              "        vertical-align: middle;\n",
              "    }\n",
              "\n",
              "    .dataframe tbody tr th {\n",
              "        vertical-align: top;\n",
              "    }\n",
              "\n",
              "    .dataframe thead th {\n",
              "        text-align: right;\n",
              "    }\n",
              "</style>\n",
              "<table border=\"1\" class=\"dataframe\">\n",
              "  <thead>\n",
              "    <tr style=\"text-align: right;\">\n",
              "      <th></th>\n",
              "      <th>Age</th>\n",
              "      <th>Diseases</th>\n",
              "      <th>Trauma</th>\n",
              "      <th>Surgery</th>\n",
              "      <th>Fever</th>\n",
              "      <th>Alcohol</th>\n",
              "      <th>Smoking</th>\n",
              "      <th>Sitting</th>\n",
              "      <th>Output</th>\n",
              "      <th>Season_-1.0</th>\n",
              "      <th>Season_-0.33000001311302185</th>\n",
              "      <th>Season_0.33000001311302185</th>\n",
              "      <th>Season_1.0</th>\n",
              "    </tr>\n",
              "  </thead>\n",
              "  <tbody>\n",
              "    <tr>\n",
              "      <th>0</th>\n",
              "      <td>0.75</td>\n",
              "      <td>1.0</td>\n",
              "      <td>1.0</td>\n",
              "      <td>1.0</td>\n",
              "      <td>0.0</td>\n",
              "      <td>0.6</td>\n",
              "      <td>-1.0</td>\n",
              "      <td>0.19</td>\n",
              "      <td>0.0</td>\n",
              "      <td>0</td>\n",
              "      <td>1</td>\n",
              "      <td>0</td>\n",
              "      <td>0</td>\n",
              "    </tr>\n",
              "    <tr>\n",
              "      <th>1</th>\n",
              "      <td>0.69</td>\n",
              "      <td>1.0</td>\n",
              "      <td>1.0</td>\n",
              "      <td>1.0</td>\n",
              "      <td>-1.0</td>\n",
              "      <td>1.0</td>\n",
              "      <td>-1.0</td>\n",
              "      <td>0.75</td>\n",
              "      <td>0.0</td>\n",
              "      <td>0</td>\n",
              "      <td>1</td>\n",
              "      <td>0</td>\n",
              "      <td>0</td>\n",
              "    </tr>\n",
              "    <tr>\n",
              "      <th>2</th>\n",
              "      <td>0.56</td>\n",
              "      <td>1.0</td>\n",
              "      <td>0.0</td>\n",
              "      <td>0.0</td>\n",
              "      <td>0.0</td>\n",
              "      <td>1.0</td>\n",
              "      <td>-1.0</td>\n",
              "      <td>0.44</td>\n",
              "      <td>0.0</td>\n",
              "      <td>1</td>\n",
              "      <td>0</td>\n",
              "      <td>0</td>\n",
              "      <td>0</td>\n",
              "    </tr>\n",
              "    <tr>\n",
              "      <th>3</th>\n",
              "      <td>0.72</td>\n",
              "      <td>1.0</td>\n",
              "      <td>1.0</td>\n",
              "      <td>1.0</td>\n",
              "      <td>1.0</td>\n",
              "      <td>0.8</td>\n",
              "      <td>-1.0</td>\n",
              "      <td>0.19</td>\n",
              "      <td>0.0</td>\n",
              "      <td>1</td>\n",
              "      <td>0</td>\n",
              "      <td>0</td>\n",
              "      <td>0</td>\n",
              "    </tr>\n",
              "    <tr>\n",
              "      <th>4</th>\n",
              "      <td>0.72</td>\n",
              "      <td>1.0</td>\n",
              "      <td>1.0</td>\n",
              "      <td>0.0</td>\n",
              "      <td>0.0</td>\n",
              "      <td>0.6</td>\n",
              "      <td>1.0</td>\n",
              "      <td>0.19</td>\n",
              "      <td>0.0</td>\n",
              "      <td>0</td>\n",
              "      <td>1</td>\n",
              "      <td>0</td>\n",
              "      <td>0</td>\n",
              "    </tr>\n",
              "  </tbody>\n",
              "</table>\n",
              "</div>"
            ],
            "text/plain": [
              "    Age  Diseases  ...  Season_0.33000001311302185  Season_1.0\n",
              "0  0.75       1.0  ...                           0           0\n",
              "1  0.69       1.0  ...                           0           0\n",
              "2  0.56       1.0  ...                           0           0\n",
              "3  0.72       1.0  ...                           0           0\n",
              "4  0.72       1.0  ...                           0           0\n",
              "\n",
              "[5 rows x 13 columns]"
            ]
          },
          "metadata": {
            "tags": []
          },
          "execution_count": 12
        }
      ]
    },
    {
      "cell_type": "code",
      "metadata": {
        "id": "eukmHFMILwl5"
      },
      "source": [
        "# Move the Output column such that it is the last column in the DataFrame\n",
        "\n",
        "fertility.columns = [col for col in fertility.columns if col != 'Output'] + ['Output']"
      ],
      "execution_count": 13,
      "outputs": []
    },
    {
      "cell_type": "code",
      "metadata": {
        "id": "i-anaeBLLwmB",
        "outputId": "fd1bd01b-29e5-41b3-e459-fd9d6eca6017",
        "colab": {
          "base_uri": "https://localhost:8080/",
          "height": 206
        }
      },
      "source": [
        "# Show the head of the DataFrame\n",
        "\n",
        "fertility.head()"
      ],
      "execution_count": 14,
      "outputs": [
        {
          "output_type": "execute_result",
          "data": {
            "text/html": [
              "<div>\n",
              "<style scoped>\n",
              "    .dataframe tbody tr th:only-of-type {\n",
              "        vertical-align: middle;\n",
              "    }\n",
              "\n",
              "    .dataframe tbody tr th {\n",
              "        vertical-align: top;\n",
              "    }\n",
              "\n",
              "    .dataframe thead th {\n",
              "        text-align: right;\n",
              "    }\n",
              "</style>\n",
              "<table border=\"1\" class=\"dataframe\">\n",
              "  <thead>\n",
              "    <tr style=\"text-align: right;\">\n",
              "      <th></th>\n",
              "      <th>Age</th>\n",
              "      <th>Diseases</th>\n",
              "      <th>Trauma</th>\n",
              "      <th>Surgery</th>\n",
              "      <th>Fever</th>\n",
              "      <th>Alcohol</th>\n",
              "      <th>Smoking</th>\n",
              "      <th>Sitting</th>\n",
              "      <th>Season_-1.0</th>\n",
              "      <th>Season_-0.33000001311302185</th>\n",
              "      <th>Season_0.33000001311302185</th>\n",
              "      <th>Season_1.0</th>\n",
              "      <th>Output</th>\n",
              "    </tr>\n",
              "  </thead>\n",
              "  <tbody>\n",
              "    <tr>\n",
              "      <th>0</th>\n",
              "      <td>0.75</td>\n",
              "      <td>1.0</td>\n",
              "      <td>1.0</td>\n",
              "      <td>1.0</td>\n",
              "      <td>0.0</td>\n",
              "      <td>0.6</td>\n",
              "      <td>-1.0</td>\n",
              "      <td>0.19</td>\n",
              "      <td>0.0</td>\n",
              "      <td>0</td>\n",
              "      <td>1</td>\n",
              "      <td>0</td>\n",
              "      <td>0</td>\n",
              "    </tr>\n",
              "    <tr>\n",
              "      <th>1</th>\n",
              "      <td>0.69</td>\n",
              "      <td>1.0</td>\n",
              "      <td>1.0</td>\n",
              "      <td>1.0</td>\n",
              "      <td>-1.0</td>\n",
              "      <td>1.0</td>\n",
              "      <td>-1.0</td>\n",
              "      <td>0.75</td>\n",
              "      <td>0.0</td>\n",
              "      <td>0</td>\n",
              "      <td>1</td>\n",
              "      <td>0</td>\n",
              "      <td>0</td>\n",
              "    </tr>\n",
              "    <tr>\n",
              "      <th>2</th>\n",
              "      <td>0.56</td>\n",
              "      <td>1.0</td>\n",
              "      <td>0.0</td>\n",
              "      <td>0.0</td>\n",
              "      <td>0.0</td>\n",
              "      <td>1.0</td>\n",
              "      <td>-1.0</td>\n",
              "      <td>0.44</td>\n",
              "      <td>0.0</td>\n",
              "      <td>1</td>\n",
              "      <td>0</td>\n",
              "      <td>0</td>\n",
              "      <td>0</td>\n",
              "    </tr>\n",
              "    <tr>\n",
              "      <th>3</th>\n",
              "      <td>0.72</td>\n",
              "      <td>1.0</td>\n",
              "      <td>1.0</td>\n",
              "      <td>1.0</td>\n",
              "      <td>1.0</td>\n",
              "      <td>0.8</td>\n",
              "      <td>-1.0</td>\n",
              "      <td>0.19</td>\n",
              "      <td>0.0</td>\n",
              "      <td>1</td>\n",
              "      <td>0</td>\n",
              "      <td>0</td>\n",
              "      <td>0</td>\n",
              "    </tr>\n",
              "    <tr>\n",
              "      <th>4</th>\n",
              "      <td>0.72</td>\n",
              "      <td>1.0</td>\n",
              "      <td>1.0</td>\n",
              "      <td>0.0</td>\n",
              "      <td>0.0</td>\n",
              "      <td>0.6</td>\n",
              "      <td>1.0</td>\n",
              "      <td>0.19</td>\n",
              "      <td>0.0</td>\n",
              "      <td>0</td>\n",
              "      <td>1</td>\n",
              "      <td>0</td>\n",
              "      <td>0</td>\n",
              "    </tr>\n",
              "  </tbody>\n",
              "</table>\n",
              "</div>"
            ],
            "text/plain": [
              "    Age  Diseases  Trauma  ...  Season_0.33000001311302185  Season_1.0  Output\n",
              "0  0.75       1.0     1.0  ...                           1           0       0\n",
              "1  0.69       1.0     1.0  ...                           1           0       0\n",
              "2  0.56       1.0     0.0  ...                           0           0       0\n",
              "3  0.72       1.0     1.0  ...                           0           0       0\n",
              "4  0.72       1.0     1.0  ...                           1           0       0\n",
              "\n",
              "[5 rows x 13 columns]"
            ]
          },
          "metadata": {
            "tags": []
          },
          "execution_count": 14
        }
      ]
    },
    {
      "cell_type": "code",
      "metadata": {
        "id": "OEyYKSueLwmD"
      },
      "source": [
        "# Convert the DataFrame to a numpy array.\n",
        "\n",
        "fertility = fertility.to_numpy()"
      ],
      "execution_count": 15,
      "outputs": []
    },
    {
      "cell_type": "markdown",
      "metadata": {
        "id": "1tPbAdRYLwmH"
      },
      "source": [
        "#### Split the Data"
      ]
    },
    {
      "cell_type": "code",
      "metadata": {
        "id": "o1qYU7lcLwmI"
      },
      "source": [
        "# Split the dataset into training and validation set\n",
        "\n",
        "training = fertility[0:70]\n",
        "validation = fertility[70:100]"
      ],
      "execution_count": 16,
      "outputs": []
    },
    {
      "cell_type": "code",
      "metadata": {
        "id": "XnwFqRrLLwmL",
        "outputId": "d5f6b17d-9434-44e6-80ed-8d8992d39228",
        "colab": {
          "base_uri": "https://localhost:8080/",
          "height": 34
        }
      },
      "source": [
        "# Verify the shape of the training data\n",
        "training.shape\n"
      ],
      "execution_count": 17,
      "outputs": [
        {
          "output_type": "execute_result",
          "data": {
            "text/plain": [
              "(70, 13)"
            ]
          },
          "metadata": {
            "tags": []
          },
          "execution_count": 17
        }
      ]
    },
    {
      "cell_type": "code",
      "metadata": {
        "id": "JvCdYLU5LwmN"
      },
      "source": [
        "# Separate the features and labels for the validation and training data\n",
        "\n",
        "training_features = training[:,0:-1]\n",
        "training_labels = training[:,-1]\n",
        "validation_features = validation[:,0:-1]\n",
        "validation_labels = validation[:,-1]"
      ],
      "execution_count": 18,
      "outputs": []
    },
    {
      "cell_type": "markdown",
      "metadata": {
        "id": "YLOK8GMOLwmP"
      },
      "source": [
        "#### Create the Generator"
      ]
    },
    {
      "cell_type": "code",
      "metadata": {
        "id": "uINAoFn5LwmQ"
      },
      "source": [
        "# Create a function that returns a generator producing inputs and labels\n",
        "\n",
        "def get_generator(features, labels, batch_size=1):\n",
        "    for n in range(int(len(features)/batch_size)):\n",
        "        yield (features[n*batch_size: (n+1)*batch_size], labels[n*batch_size: (n+1)*batch_size])"
      ],
      "execution_count": 19,
      "outputs": []
    },
    {
      "cell_type": "code",
      "metadata": {
        "id": "W_zKx3oJLwmS"
      },
      "source": [
        "# Apply the function to our training features and labels with a batch size of 10\n",
        "\n",
        "train_generator = get_generator(training_features, training_labels, batch_size=10)"
      ],
      "execution_count": 20,
      "outputs": []
    },
    {
      "cell_type": "code",
      "metadata": {
        "id": "7Y3jCTRuLwmT",
        "outputId": "8bb423f1-2c41-475e-ca99-e94c3541c8ad",
        "colab": {
          "base_uri": "https://localhost:8080/",
          "height": 382
        }
      },
      "source": [
        "# Test the generator using the next() function\n",
        "next(train_generator)\n"
      ],
      "execution_count": 21,
      "outputs": [
        {
          "output_type": "execute_result",
          "data": {
            "text/plain": [
              "(array([[ 0.75,  1.  ,  1.  ,  1.  ,  0.  ,  0.6 , -1.  ,  0.19,  0.  ,\n",
              "          0.  ,  1.  ,  0.  ],\n",
              "        [ 0.69,  1.  ,  1.  ,  1.  , -1.  ,  1.  , -1.  ,  0.75,  0.  ,\n",
              "          0.  ,  1.  ,  0.  ],\n",
              "        [ 0.56,  1.  ,  0.  ,  0.  ,  0.  ,  1.  , -1.  ,  0.44,  0.  ,\n",
              "          1.  ,  0.  ,  0.  ],\n",
              "        [ 0.72,  1.  ,  1.  ,  1.  ,  1.  ,  0.8 , -1.  ,  0.19,  0.  ,\n",
              "          1.  ,  0.  ,  0.  ],\n",
              "        [ 0.72,  1.  ,  1.  ,  0.  ,  0.  ,  0.6 ,  1.  ,  0.19,  0.  ,\n",
              "          0.  ,  1.  ,  0.  ],\n",
              "        [ 0.53,  1.  ,  1.  ,  0.  ,  0.  ,  0.8 ,  0.  ,  0.75,  0.  ,\n",
              "          0.  ,  1.  ,  0.  ],\n",
              "        [ 0.58,  1.  ,  1.  ,  1.  , -1.  ,  0.8 ,  0.  ,  0.19,  0.  ,\n",
              "          0.  ,  1.  ,  0.  ],\n",
              "        [ 0.67,  1.  ,  0.  ,  1.  ,  0.  ,  0.8 ,  0.  ,  0.5 ,  0.  ,\n",
              "          0.  ,  1.  ,  0.  ],\n",
              "        [ 0.61,  1.  ,  0.  ,  0.  ,  0.  ,  0.8 ,  0.  ,  0.5 ,  0.  ,\n",
              "          1.  ,  0.  ,  0.  ],\n",
              "        [ 0.69,  0.  ,  1.  ,  1.  ,  0.  ,  0.6 , -1.  ,  0.19,  0.  ,\n",
              "          1.  ,  0.  ,  0.  ]], dtype=float32),\n",
              " array([0., 0., 0., 0., 0., 0., 0., 0., 0., 0.], dtype=float32))"
            ]
          },
          "metadata": {
            "tags": []
          },
          "execution_count": 21
        }
      ]
    },
    {
      "cell_type": "markdown",
      "metadata": {
        "id": "KA-VnvRpLwmW"
      },
      "source": [
        "#### Build the model"
      ]
    },
    {
      "cell_type": "code",
      "metadata": {
        "id": "I5T3dXGZLwmW"
      },
      "source": [
        "# Create a model using Keras with 3 layers\n",
        "\n",
        "from tensorflow.keras import Model\n",
        "from tensorflow.keras.layers import Dense, Input, BatchNormalization\n",
        "\n",
        "input_shape = (12,)\n",
        "output_shape = (1,)\n",
        "\n",
        "model_input = Input(input_shape)\n",
        "batch_1 = BatchNormalization(momentum=0.8)(model_input)\n",
        "dense_1 = Dense(100, activation='relu')(batch_1)\n",
        "batch_2 = BatchNormalization(momentum=0.8)(dense_1)\n",
        "output = Dense(1, activation='sigmoid')(batch_2)\n",
        "\n",
        "model = Model([model_input], output)"
      ],
      "execution_count": 22,
      "outputs": []
    },
    {
      "cell_type": "code",
      "metadata": {
        "id": "xCBoGMMULwmY",
        "outputId": "19b638c0-8284-4565-e936-a2c512fa6ad2",
        "colab": {
          "base_uri": "https://localhost:8080/",
          "height": 330
        }
      },
      "source": [
        "# Display the model summary to show the resultant structure\n",
        "\n",
        "model.summary()"
      ],
      "execution_count": 23,
      "outputs": [
        {
          "output_type": "stream",
          "text": [
            "Model: \"functional_1\"\n",
            "_________________________________________________________________\n",
            "Layer (type)                 Output Shape              Param #   \n",
            "=================================================================\n",
            "input_1 (InputLayer)         [(None, 12)]              0         \n",
            "_________________________________________________________________\n",
            "batch_normalization (BatchNo (None, 12)                48        \n",
            "_________________________________________________________________\n",
            "dense (Dense)                (None, 100)               1300      \n",
            "_________________________________________________________________\n",
            "batch_normalization_1 (Batch (None, 100)               400       \n",
            "_________________________________________________________________\n",
            "dense_1 (Dense)              (None, 1)                 101       \n",
            "=================================================================\n",
            "Total params: 1,849\n",
            "Trainable params: 1,625\n",
            "Non-trainable params: 224\n",
            "_________________________________________________________________\n"
          ],
          "name": "stdout"
        }
      ]
    },
    {
      "cell_type": "markdown",
      "metadata": {
        "id": "-djfT1vDLwma"
      },
      "source": [
        "#### Compile the model"
      ]
    },
    {
      "cell_type": "code",
      "metadata": {
        "id": "OSlgDLIl_JR5"
      },
      "source": [
        "import tensorflow as tf"
      ],
      "execution_count": 24,
      "outputs": []
    },
    {
      "cell_type": "code",
      "metadata": {
        "id": "D_PyDixLLwma"
      },
      "source": [
        "# Create the optimizer object\n",
        "\n",
        "optimizer = tf.keras.optimizers.Adam(learning_rate=1e-2)"
      ],
      "execution_count": 25,
      "outputs": []
    },
    {
      "cell_type": "code",
      "metadata": {
        "id": "IZUjV3LpLwmc"
      },
      "source": [
        "# Compile the model with loss function and metric\n",
        "\n",
        "model.compile(optimizer=optimizer, loss='binary_crossentropy', metrics=['accuracy'])"
      ],
      "execution_count": 26,
      "outputs": []
    },
    {
      "cell_type": "markdown",
      "metadata": {
        "id": "wxB-r6_sLwmd"
      },
      "source": [
        "#### Train and evaluate the model using the generator"
      ]
    },
    {
      "cell_type": "code",
      "metadata": {
        "id": "zCmNFC0eLwmd"
      },
      "source": [
        "# Calculate the number of training steps per epoch for the given batch size.\n",
        "\n",
        "batch_size = 5\n",
        "train_steps = len(training) // batch_size"
      ],
      "execution_count": 27,
      "outputs": []
    },
    {
      "cell_type": "code",
      "metadata": {
        "id": "tCyaX46bLwmf"
      },
      "source": [
        "# Set the epochs to 3\n",
        "\n",
        "epochs = 3"
      ],
      "execution_count": 28,
      "outputs": []
    },
    {
      "cell_type": "code",
      "metadata": {
        "id": "9TKc7muJLwmg",
        "outputId": "f5aaf9ff-0983-4795-c19c-8c6712d7ffc5",
        "colab": {
          "base_uri": "https://localhost:8080/",
          "height": 402
        }
      },
      "source": [
        "# Train the model\n",
        "\n",
        "for epoch in range(epochs):\n",
        "  train_generator = get_generator(training_features, training_labels, batch_size=batch_size)\n",
        "  validation_generator = get_generator(training_features, training_labels, batch_size=30)\n",
        "  model.fit_generator(train_generator, steps_per_epoch=train_steps,epochs= epochs, validation_data=validation_generator, validation_steps=1)\n"
      ],
      "execution_count": 29,
      "outputs": [
        {
          "output_type": "stream",
          "text": [
            "WARNING:tensorflow:From <ipython-input-29-5adbfb754e8b>:6: Model.fit_generator (from tensorflow.python.keras.engine.training) is deprecated and will be removed in a future version.\n",
            "Instructions for updating:\n",
            "Please use Model.fit, which supports generators.\n",
            "Epoch 1/3\n",
            "14/14 [==============================] - 0s 14ms/step - loss: 0.5218 - accuracy: 0.8000 - val_loss: 0.1915 - val_accuracy: 0.9667\n",
            "Epoch 2/3\n",
            "WARNING:tensorflow:Your input ran out of data; interrupting training. Make sure that your dataset or generator can generate at least `steps_per_epoch * epochs` batches (in this case, 42 batches). You may need to use the repeat() function when building your dataset.\n",
            "WARNING:tensorflow:Your input ran out of data; interrupting training. Make sure that your dataset or generator can generate at least `steps_per_epoch * epochs` batches (in this case, 1 batches). You may need to use the repeat() function when building your dataset.\n",
            " 0/14 [..............................] - 0s 0s/step - loss: 0.5218 - accuracy: 0.8000\n",
            "Epoch 1/3\n",
            "14/14 [==============================] - 0s 4ms/step - loss: 0.2423 - accuracy: 0.9143 - val_loss: 0.0268 - val_accuracy: 1.0000\n",
            "Epoch 2/3\n",
            "WARNING:tensorflow:Your input ran out of data; interrupting training. Make sure that your dataset or generator can generate at least `steps_per_epoch * epochs` batches (in this case, 42 batches). You may need to use the repeat() function when building your dataset.\n",
            "WARNING:tensorflow:Your input ran out of data; interrupting training. Make sure that your dataset or generator can generate at least `steps_per_epoch * epochs` batches (in this case, 1 batches). You may need to use the repeat() function when building your dataset.\n",
            " 0/14 [..............................] - 0s 0s/step - loss: 0.2423 - accuracy: 0.9143\n",
            "Epoch 1/3\n",
            "14/14 [==============================] - 0s 5ms/step - loss: 0.1108 - accuracy: 0.9857 - val_loss: 0.0097 - val_accuracy: 1.0000\n",
            "Epoch 2/3\n",
            "WARNING:tensorflow:Your input ran out of data; interrupting training. Make sure that your dataset or generator can generate at least `steps_per_epoch * epochs` batches (in this case, 42 batches). You may need to use the repeat() function when building your dataset.\n",
            "WARNING:tensorflow:Your input ran out of data; interrupting training. Make sure that your dataset or generator can generate at least `steps_per_epoch * epochs` batches (in this case, 1 batches). You may need to use the repeat() function when building your dataset.\n",
            " 0/14 [..............................] - 0s 0s/step - loss: 0.1108 - accuracy: 0.9857\n"
          ],
          "name": "stdout"
        }
      ]
    },
    {
      "cell_type": "code",
      "metadata": {
        "scrolled": true,
        "id": "5-6hh7BsLwmj",
        "outputId": "0b401e24-fb75-4e02-db20-1892b49cd905",
        "colab": {
          "base_uri": "https://localhost:8080/",
          "height": 348
        }
      },
      "source": [
        "# Try to run the fit_generator function once more; observe what happens\n",
        "\n",
        "model.fit_generator(train_generator, steps_per_epoch=train_steps)"
      ],
      "execution_count": 30,
      "outputs": [
        {
          "output_type": "error",
          "ename": "StopIteration",
          "evalue": "ignored",
          "traceback": [
            "\u001b[0;31m---------------------------------------------------------------------------\u001b[0m",
            "\u001b[0;31mStopIteration\u001b[0m                             Traceback (most recent call last)",
            "\u001b[0;32m<ipython-input-30-6009e73e3e9e>\u001b[0m in \u001b[0;36m<module>\u001b[0;34m()\u001b[0m\n\u001b[1;32m      1\u001b[0m \u001b[0;31m# Try to run the fit_generator function once more; observe what happens\u001b[0m\u001b[0;34m\u001b[0m\u001b[0;34m\u001b[0m\u001b[0;34m\u001b[0m\u001b[0m\n\u001b[1;32m      2\u001b[0m \u001b[0;34m\u001b[0m\u001b[0m\n\u001b[0;32m----> 3\u001b[0;31m \u001b[0mmodel\u001b[0m\u001b[0;34m.\u001b[0m\u001b[0mfit_generator\u001b[0m\u001b[0;34m(\u001b[0m\u001b[0mtrain_generator\u001b[0m\u001b[0;34m,\u001b[0m \u001b[0msteps_per_epoch\u001b[0m\u001b[0;34m=\u001b[0m\u001b[0mtrain_steps\u001b[0m\u001b[0;34m)\u001b[0m\u001b[0;34m\u001b[0m\u001b[0;34m\u001b[0m\u001b[0m\n\u001b[0m",
            "\u001b[0;32m/usr/local/lib/python3.6/dist-packages/tensorflow/python/util/deprecation.py\u001b[0m in \u001b[0;36mnew_func\u001b[0;34m(*args, **kwargs)\u001b[0m\n\u001b[1;32m    322\u001b[0m               \u001b[0;34m'in a future version'\u001b[0m \u001b[0;32mif\u001b[0m \u001b[0mdate\u001b[0m \u001b[0;32mis\u001b[0m \u001b[0;32mNone\u001b[0m \u001b[0;32melse\u001b[0m \u001b[0;34m(\u001b[0m\u001b[0;34m'after %s'\u001b[0m \u001b[0;34m%\u001b[0m \u001b[0mdate\u001b[0m\u001b[0;34m)\u001b[0m\u001b[0;34m,\u001b[0m\u001b[0;34m\u001b[0m\u001b[0;34m\u001b[0m\u001b[0m\n\u001b[1;32m    323\u001b[0m               instructions)\n\u001b[0;32m--> 324\u001b[0;31m       \u001b[0;32mreturn\u001b[0m \u001b[0mfunc\u001b[0m\u001b[0;34m(\u001b[0m\u001b[0;34m*\u001b[0m\u001b[0margs\u001b[0m\u001b[0;34m,\u001b[0m \u001b[0;34m**\u001b[0m\u001b[0mkwargs\u001b[0m\u001b[0;34m)\u001b[0m\u001b[0;34m\u001b[0m\u001b[0;34m\u001b[0m\u001b[0m\n\u001b[0m\u001b[1;32m    325\u001b[0m     return tf_decorator.make_decorator(\n\u001b[1;32m    326\u001b[0m         \u001b[0mfunc\u001b[0m\u001b[0;34m,\u001b[0m \u001b[0mnew_func\u001b[0m\u001b[0;34m,\u001b[0m \u001b[0;34m'deprecated'\u001b[0m\u001b[0;34m,\u001b[0m\u001b[0;34m\u001b[0m\u001b[0;34m\u001b[0m\u001b[0m\n",
            "\u001b[0;32m/usr/local/lib/python3.6/dist-packages/tensorflow/python/keras/engine/training.py\u001b[0m in \u001b[0;36mfit_generator\u001b[0;34m(self, generator, steps_per_epoch, epochs, verbose, callbacks, validation_data, validation_steps, validation_freq, class_weight, max_queue_size, workers, use_multiprocessing, shuffle, initial_epoch)\u001b[0m\n\u001b[1;32m   1827\u001b[0m         \u001b[0muse_multiprocessing\u001b[0m\u001b[0;34m=\u001b[0m\u001b[0muse_multiprocessing\u001b[0m\u001b[0;34m,\u001b[0m\u001b[0;34m\u001b[0m\u001b[0;34m\u001b[0m\u001b[0m\n\u001b[1;32m   1828\u001b[0m         \u001b[0mshuffle\u001b[0m\u001b[0;34m=\u001b[0m\u001b[0mshuffle\u001b[0m\u001b[0;34m,\u001b[0m\u001b[0;34m\u001b[0m\u001b[0;34m\u001b[0m\u001b[0m\n\u001b[0;32m-> 1829\u001b[0;31m         initial_epoch=initial_epoch)\n\u001b[0m\u001b[1;32m   1830\u001b[0m \u001b[0;34m\u001b[0m\u001b[0m\n\u001b[1;32m   1831\u001b[0m   @deprecation.deprecated(\n",
            "\u001b[0;32m/usr/local/lib/python3.6/dist-packages/tensorflow/python/keras/engine/training.py\u001b[0m in \u001b[0;36m_method_wrapper\u001b[0;34m(self, *args, **kwargs)\u001b[0m\n\u001b[1;32m    106\u001b[0m   \u001b[0;32mdef\u001b[0m \u001b[0m_method_wrapper\u001b[0m\u001b[0;34m(\u001b[0m\u001b[0mself\u001b[0m\u001b[0;34m,\u001b[0m \u001b[0;34m*\u001b[0m\u001b[0margs\u001b[0m\u001b[0;34m,\u001b[0m \u001b[0;34m**\u001b[0m\u001b[0mkwargs\u001b[0m\u001b[0;34m)\u001b[0m\u001b[0;34m:\u001b[0m\u001b[0;34m\u001b[0m\u001b[0;34m\u001b[0m\u001b[0m\n\u001b[1;32m    107\u001b[0m     \u001b[0;32mif\u001b[0m \u001b[0;32mnot\u001b[0m \u001b[0mself\u001b[0m\u001b[0;34m.\u001b[0m\u001b[0m_in_multi_worker_mode\u001b[0m\u001b[0;34m(\u001b[0m\u001b[0;34m)\u001b[0m\u001b[0;34m:\u001b[0m  \u001b[0;31m# pylint: disable=protected-access\u001b[0m\u001b[0;34m\u001b[0m\u001b[0;34m\u001b[0m\u001b[0m\n\u001b[0;32m--> 108\u001b[0;31m       \u001b[0;32mreturn\u001b[0m \u001b[0mmethod\u001b[0m\u001b[0;34m(\u001b[0m\u001b[0mself\u001b[0m\u001b[0;34m,\u001b[0m \u001b[0;34m*\u001b[0m\u001b[0margs\u001b[0m\u001b[0;34m,\u001b[0m \u001b[0;34m**\u001b[0m\u001b[0mkwargs\u001b[0m\u001b[0;34m)\u001b[0m\u001b[0;34m\u001b[0m\u001b[0;34m\u001b[0m\u001b[0m\n\u001b[0m\u001b[1;32m    109\u001b[0m \u001b[0;34m\u001b[0m\u001b[0m\n\u001b[1;32m    110\u001b[0m     \u001b[0;31m# Running inside `run_distribute_coordinator` already.\u001b[0m\u001b[0;34m\u001b[0m\u001b[0;34m\u001b[0m\u001b[0;34m\u001b[0m\u001b[0m\n",
            "\u001b[0;32m/usr/local/lib/python3.6/dist-packages/tensorflow/python/keras/engine/training.py\u001b[0m in \u001b[0;36mfit\u001b[0;34m(self, x, y, batch_size, epochs, verbose, callbacks, validation_split, validation_data, shuffle, class_weight, sample_weight, initial_epoch, steps_per_epoch, validation_steps, validation_batch_size, validation_freq, max_queue_size, workers, use_multiprocessing)\u001b[0m\n\u001b[1;32m   1061\u001b[0m           \u001b[0muse_multiprocessing\u001b[0m\u001b[0;34m=\u001b[0m\u001b[0muse_multiprocessing\u001b[0m\u001b[0;34m,\u001b[0m\u001b[0;34m\u001b[0m\u001b[0;34m\u001b[0m\u001b[0m\n\u001b[1;32m   1062\u001b[0m           \u001b[0mmodel\u001b[0m\u001b[0;34m=\u001b[0m\u001b[0mself\u001b[0m\u001b[0;34m,\u001b[0m\u001b[0;34m\u001b[0m\u001b[0;34m\u001b[0m\u001b[0m\n\u001b[0;32m-> 1063\u001b[0;31m           steps_per_execution=self._steps_per_execution)\n\u001b[0m\u001b[1;32m   1064\u001b[0m \u001b[0;34m\u001b[0m\u001b[0m\n\u001b[1;32m   1065\u001b[0m       \u001b[0;31m# Container that configures and calls `tf.keras.Callback`s.\u001b[0m\u001b[0;34m\u001b[0m\u001b[0;34m\u001b[0m\u001b[0;34m\u001b[0m\u001b[0m\n",
            "\u001b[0;32m/usr/local/lib/python3.6/dist-packages/tensorflow/python/keras/engine/data_adapter.py\u001b[0m in \u001b[0;36m__init__\u001b[0;34m(self, x, y, sample_weight, batch_size, steps_per_epoch, initial_epoch, epochs, shuffle, class_weight, max_queue_size, workers, use_multiprocessing, model, steps_per_execution)\u001b[0m\n\u001b[1;32m   1115\u001b[0m         \u001b[0muse_multiprocessing\u001b[0m\u001b[0;34m=\u001b[0m\u001b[0muse_multiprocessing\u001b[0m\u001b[0;34m,\u001b[0m\u001b[0;34m\u001b[0m\u001b[0;34m\u001b[0m\u001b[0m\n\u001b[1;32m   1116\u001b[0m         \u001b[0mdistribution_strategy\u001b[0m\u001b[0;34m=\u001b[0m\u001b[0mds_context\u001b[0m\u001b[0;34m.\u001b[0m\u001b[0mget_strategy\u001b[0m\u001b[0;34m(\u001b[0m\u001b[0;34m)\u001b[0m\u001b[0;34m,\u001b[0m\u001b[0;34m\u001b[0m\u001b[0;34m\u001b[0m\u001b[0m\n\u001b[0;32m-> 1117\u001b[0;31m         model=model)\n\u001b[0m\u001b[1;32m   1118\u001b[0m \u001b[0;34m\u001b[0m\u001b[0m\n\u001b[1;32m   1119\u001b[0m     \u001b[0mstrategy\u001b[0m \u001b[0;34m=\u001b[0m \u001b[0mds_context\u001b[0m\u001b[0;34m.\u001b[0m\u001b[0mget_strategy\u001b[0m\u001b[0;34m(\u001b[0m\u001b[0;34m)\u001b[0m\u001b[0;34m\u001b[0m\u001b[0;34m\u001b[0m\u001b[0m\n",
            "\u001b[0;32m/usr/local/lib/python3.6/dist-packages/tensorflow/python/keras/engine/data_adapter.py\u001b[0m in \u001b[0;36m__init__\u001b[0;34m(self, x, y, sample_weights, workers, use_multiprocessing, max_queue_size, model, **kwargs)\u001b[0m\n\u001b[1;32m    784\u001b[0m     \u001b[0;31m# Since we have to know the dtype of the python generator when we build the\u001b[0m\u001b[0;34m\u001b[0m\u001b[0;34m\u001b[0m\u001b[0;34m\u001b[0m\u001b[0m\n\u001b[1;32m    785\u001b[0m     \u001b[0;31m# dataset, we have to look at a batch to infer the structure.\u001b[0m\u001b[0;34m\u001b[0m\u001b[0;34m\u001b[0m\u001b[0;34m\u001b[0m\u001b[0m\n\u001b[0;32m--> 786\u001b[0;31m     \u001b[0mpeek\u001b[0m\u001b[0;34m,\u001b[0m \u001b[0mx\u001b[0m \u001b[0;34m=\u001b[0m \u001b[0mself\u001b[0m\u001b[0;34m.\u001b[0m\u001b[0m_peek_and_restore\u001b[0m\u001b[0;34m(\u001b[0m\u001b[0mx\u001b[0m\u001b[0;34m)\u001b[0m\u001b[0;34m\u001b[0m\u001b[0;34m\u001b[0m\u001b[0m\n\u001b[0m\u001b[1;32m    787\u001b[0m     \u001b[0mpeek\u001b[0m \u001b[0;34m=\u001b[0m \u001b[0mself\u001b[0m\u001b[0;34m.\u001b[0m\u001b[0m_standardize_batch\u001b[0m\u001b[0;34m(\u001b[0m\u001b[0mpeek\u001b[0m\u001b[0;34m)\u001b[0m\u001b[0;34m\u001b[0m\u001b[0;34m\u001b[0m\u001b[0m\n\u001b[1;32m    788\u001b[0m     \u001b[0mpeek\u001b[0m \u001b[0;34m=\u001b[0m \u001b[0m_process_tensorlike\u001b[0m\u001b[0;34m(\u001b[0m\u001b[0mpeek\u001b[0m\u001b[0;34m)\u001b[0m\u001b[0;34m\u001b[0m\u001b[0;34m\u001b[0m\u001b[0m\n",
            "\u001b[0;32m/usr/local/lib/python3.6/dist-packages/tensorflow/python/keras/engine/data_adapter.py\u001b[0m in \u001b[0;36m_peek_and_restore\u001b[0;34m(x)\u001b[0m\n\u001b[1;32m    841\u001b[0m   \u001b[0;34m@\u001b[0m\u001b[0mstaticmethod\u001b[0m\u001b[0;34m\u001b[0m\u001b[0;34m\u001b[0m\u001b[0m\n\u001b[1;32m    842\u001b[0m   \u001b[0;32mdef\u001b[0m \u001b[0m_peek_and_restore\u001b[0m\u001b[0;34m(\u001b[0m\u001b[0mx\u001b[0m\u001b[0;34m)\u001b[0m\u001b[0;34m:\u001b[0m\u001b[0;34m\u001b[0m\u001b[0;34m\u001b[0m\u001b[0m\n\u001b[0;32m--> 843\u001b[0;31m     \u001b[0mpeek\u001b[0m \u001b[0;34m=\u001b[0m \u001b[0mnext\u001b[0m\u001b[0;34m(\u001b[0m\u001b[0mx\u001b[0m\u001b[0;34m)\u001b[0m\u001b[0;34m\u001b[0m\u001b[0;34m\u001b[0m\u001b[0m\n\u001b[0m\u001b[1;32m    844\u001b[0m     \u001b[0;32mreturn\u001b[0m \u001b[0mpeek\u001b[0m\u001b[0;34m,\u001b[0m \u001b[0mitertools\u001b[0m\u001b[0;34m.\u001b[0m\u001b[0mchain\u001b[0m\u001b[0;34m(\u001b[0m\u001b[0;34m[\u001b[0m\u001b[0mpeek\u001b[0m\u001b[0;34m]\u001b[0m\u001b[0;34m,\u001b[0m \u001b[0mx\u001b[0m\u001b[0;34m)\u001b[0m\u001b[0;34m\u001b[0m\u001b[0;34m\u001b[0m\u001b[0m\n\u001b[1;32m    845\u001b[0m \u001b[0;34m\u001b[0m\u001b[0m\n",
            "\u001b[0;31mStopIteration\u001b[0m: "
          ]
        }
      ]
    },
    {
      "cell_type": "markdown",
      "metadata": {
        "id": "eASEXb7uLwml"
      },
      "source": [
        "#### Make an infinitely looping generator"
      ]
    },
    {
      "cell_type": "code",
      "metadata": {
        "id": "oX2TZzl2Lwmm"
      },
      "source": [
        "# Create a function that returns an infinitely looping generator\n",
        "\n",
        "def get_generator_cyclic(features, labels, batch_size=1):\n",
        "  while True:\n",
        "    for n in range(int(len(features)/batch_size)):\n",
        "        yield (features[n*batch_size: (n+1)*batch_size], labels[n*batch_size: (n+1)*batch_size])\n",
        "    permutations = np.random.permutation(len(features))\n",
        "    features = features[permutations]\n",
        "    labels = labels[permutations]"
      ],
      "execution_count": 32,
      "outputs": []
    },
    {
      "cell_type": "code",
      "metadata": {
        "id": "WkZIx02TLwmo"
      },
      "source": [
        "# Create a generator using this function.\n",
        "\n",
        "train_generator_cyclic = get_generator_cyclic(training_features, training_labels, batch_size=batch_size)"
      ],
      "execution_count": 33,
      "outputs": []
    },
    {
      "cell_type": "code",
      "metadata": {
        "id": "rCXB7YBZLwmr"
      },
      "source": [
        "# Assert that the new cyclic generator does not raise a StopIteration\n",
        "\n",
        "for i in range(2*train_steps):\n",
        "    next(train_generator_cyclic)"
      ],
      "execution_count": 34,
      "outputs": []
    },
    {
      "cell_type": "code",
      "metadata": {
        "id": "FJXeBNFALwms"
      },
      "source": [
        "# Generate a cyclic validation generator\n",
        "\n",
        "validation_generator_cyclic = get_generator_cyclic(validation_features, validation_labels, batch_size=batch_size)"
      ],
      "execution_count": 35,
      "outputs": []
    },
    {
      "cell_type": "code",
      "metadata": {
        "scrolled": true,
        "id": "-ezRy60iLwmu",
        "outputId": "313928a8-4f7b-462b-c4f7-659516b30d58",
        "colab": {
          "base_uri": "https://localhost:8080/",
          "height": 139
        }
      },
      "source": [
        "# Train the model\n",
        "model.fit_generator(train_generator_cyclic, steps_per_epoch=train_steps, epochs=epochs, validation_data=validation_generator_cyclic, validation_steps=1)\n"
      ],
      "execution_count": 38,
      "outputs": [
        {
          "output_type": "stream",
          "text": [
            "Epoch 1/3\n",
            "14/14 [==============================] - 0s 4ms/step - loss: 0.0725 - accuracy: 0.9857 - val_loss: 0.0093 - val_accuracy: 1.0000\n",
            "Epoch 2/3\n",
            "14/14 [==============================] - 0s 3ms/step - loss: 0.0451 - accuracy: 1.0000 - val_loss: 0.0034 - val_accuracy: 1.0000\n",
            "Epoch 3/3\n",
            "14/14 [==============================] - 0s 3ms/step - loss: 0.1454 - accuracy: 0.9143 - val_loss: 0.0251 - val_accuracy: 1.0000\n"
          ],
          "name": "stdout"
        },
        {
          "output_type": "execute_result",
          "data": {
            "text/plain": [
              "<tensorflow.python.keras.callbacks.History at 0x7fa28c5d26d8>"
            ]
          },
          "metadata": {
            "tags": []
          },
          "execution_count": 38
        }
      ]
    },
    {
      "cell_type": "markdown",
      "metadata": {
        "id": "CndbEe9-Lwmw"
      },
      "source": [
        "#### Evaluate the model and get predictions"
      ]
    },
    {
      "cell_type": "code",
      "metadata": {
        "id": "CAPuIgstLwmw"
      },
      "source": [
        "# Let's obtain a validation data generator.\n",
        "\n",
        "validation_generator = get_generator(validation_features, validation_labels, batch_size=30)"
      ],
      "execution_count": 39,
      "outputs": []
    },
    {
      "cell_type": "code",
      "metadata": {
        "id": "xs38y9RaLwmz",
        "outputId": "a0448b86-b945-4ab2-efa7-d6b37558b74f",
        "colab": {
          "base_uri": "https://localhost:8080/",
          "height": 365
        }
      },
      "source": [
        "# Get predictions on the validation data\n",
        "\n",
        "predictions = model.predict_generator(validation_generator, steps=1)\n",
        "print(np.round(predictions))"
      ],
      "execution_count": 45,
      "outputs": [
        {
          "output_type": "error",
          "ename": "StopIteration",
          "evalue": "ignored",
          "traceback": [
            "\u001b[0;31m---------------------------------------------------------------------------\u001b[0m",
            "\u001b[0;31mStopIteration\u001b[0m                             Traceback (most recent call last)",
            "\u001b[0;32m<ipython-input-45-ffe3de653e05>\u001b[0m in \u001b[0;36m<module>\u001b[0;34m()\u001b[0m\n\u001b[1;32m      1\u001b[0m \u001b[0;31m# Get predictions on the validation data\u001b[0m\u001b[0;34m\u001b[0m\u001b[0;34m\u001b[0m\u001b[0;34m\u001b[0m\u001b[0m\n\u001b[1;32m      2\u001b[0m \u001b[0;34m\u001b[0m\u001b[0m\n\u001b[0;32m----> 3\u001b[0;31m \u001b[0mpredictions\u001b[0m \u001b[0;34m=\u001b[0m \u001b[0mmodel\u001b[0m\u001b[0;34m.\u001b[0m\u001b[0mpredict_generator\u001b[0m\u001b[0;34m(\u001b[0m\u001b[0mvalidation_generator\u001b[0m\u001b[0;34m,\u001b[0m \u001b[0msteps\u001b[0m\u001b[0;34m=\u001b[0m\u001b[0;36m1\u001b[0m\u001b[0;34m)\u001b[0m\u001b[0;34m\u001b[0m\u001b[0;34m\u001b[0m\u001b[0m\n\u001b[0m\u001b[1;32m      4\u001b[0m \u001b[0mprint\u001b[0m\u001b[0;34m(\u001b[0m\u001b[0mnp\u001b[0m\u001b[0;34m.\u001b[0m\u001b[0mround\u001b[0m\u001b[0;34m(\u001b[0m\u001b[0mpredictions\u001b[0m\u001b[0;34m)\u001b[0m\u001b[0;34m)\u001b[0m\u001b[0;34m\u001b[0m\u001b[0;34m\u001b[0m\u001b[0m\n",
            "\u001b[0;32m/usr/local/lib/python3.6/dist-packages/tensorflow/python/util/deprecation.py\u001b[0m in \u001b[0;36mnew_func\u001b[0;34m(*args, **kwargs)\u001b[0m\n\u001b[1;32m    322\u001b[0m               \u001b[0;34m'in a future version'\u001b[0m \u001b[0;32mif\u001b[0m \u001b[0mdate\u001b[0m \u001b[0;32mis\u001b[0m \u001b[0;32mNone\u001b[0m \u001b[0;32melse\u001b[0m \u001b[0;34m(\u001b[0m\u001b[0;34m'after %s'\u001b[0m \u001b[0;34m%\u001b[0m \u001b[0mdate\u001b[0m\u001b[0;34m)\u001b[0m\u001b[0;34m,\u001b[0m\u001b[0;34m\u001b[0m\u001b[0;34m\u001b[0m\u001b[0m\n\u001b[1;32m    323\u001b[0m               instructions)\n\u001b[0;32m--> 324\u001b[0;31m       \u001b[0;32mreturn\u001b[0m \u001b[0mfunc\u001b[0m\u001b[0;34m(\u001b[0m\u001b[0;34m*\u001b[0m\u001b[0margs\u001b[0m\u001b[0;34m,\u001b[0m \u001b[0;34m**\u001b[0m\u001b[0mkwargs\u001b[0m\u001b[0;34m)\u001b[0m\u001b[0;34m\u001b[0m\u001b[0;34m\u001b[0m\u001b[0m\n\u001b[0m\u001b[1;32m    325\u001b[0m     return tf_decorator.make_decorator(\n\u001b[1;32m    326\u001b[0m         \u001b[0mfunc\u001b[0m\u001b[0;34m,\u001b[0m \u001b[0mnew_func\u001b[0m\u001b[0;34m,\u001b[0m \u001b[0;34m'deprecated'\u001b[0m\u001b[0;34m,\u001b[0m\u001b[0;34m\u001b[0m\u001b[0;34m\u001b[0m\u001b[0m\n",
            "\u001b[0;32m/usr/local/lib/python3.6/dist-packages/tensorflow/python/keras/engine/training.py\u001b[0m in \u001b[0;36mpredict_generator\u001b[0;34m(self, generator, steps, callbacks, max_queue_size, workers, use_multiprocessing, verbose)\u001b[0m\n\u001b[1;32m   1881\u001b[0m         \u001b[0muse_multiprocessing\u001b[0m\u001b[0;34m=\u001b[0m\u001b[0muse_multiprocessing\u001b[0m\u001b[0;34m,\u001b[0m\u001b[0;34m\u001b[0m\u001b[0;34m\u001b[0m\u001b[0m\n\u001b[1;32m   1882\u001b[0m         \u001b[0mverbose\u001b[0m\u001b[0;34m=\u001b[0m\u001b[0mverbose\u001b[0m\u001b[0;34m,\u001b[0m\u001b[0;34m\u001b[0m\u001b[0;34m\u001b[0m\u001b[0m\n\u001b[0;32m-> 1883\u001b[0;31m         callbacks=callbacks)\n\u001b[0m\u001b[1;32m   1884\u001b[0m \u001b[0;34m\u001b[0m\u001b[0m\n\u001b[1;32m   1885\u001b[0m   \u001b[0;31m######################################################################\u001b[0m\u001b[0;34m\u001b[0m\u001b[0;34m\u001b[0m\u001b[0;34m\u001b[0m\u001b[0m\n",
            "\u001b[0;32m/usr/local/lib/python3.6/dist-packages/tensorflow/python/keras/engine/training.py\u001b[0m in \u001b[0;36m_method_wrapper\u001b[0;34m(self, *args, **kwargs)\u001b[0m\n\u001b[1;32m    128\u001b[0m       raise ValueError('{} is not supported in multi-worker mode.'.format(\n\u001b[1;32m    129\u001b[0m           method.__name__))\n\u001b[0;32m--> 130\u001b[0;31m     \u001b[0;32mreturn\u001b[0m \u001b[0mmethod\u001b[0m\u001b[0;34m(\u001b[0m\u001b[0mself\u001b[0m\u001b[0;34m,\u001b[0m \u001b[0;34m*\u001b[0m\u001b[0margs\u001b[0m\u001b[0;34m,\u001b[0m \u001b[0;34m**\u001b[0m\u001b[0mkwargs\u001b[0m\u001b[0;34m)\u001b[0m\u001b[0;34m\u001b[0m\u001b[0;34m\u001b[0m\u001b[0m\n\u001b[0m\u001b[1;32m    131\u001b[0m \u001b[0;34m\u001b[0m\u001b[0m\n\u001b[1;32m    132\u001b[0m   return tf_decorator.make_decorator(\n",
            "\u001b[0;32m/usr/local/lib/python3.6/dist-packages/tensorflow/python/keras/engine/training.py\u001b[0m in \u001b[0;36mpredict\u001b[0;34m(self, x, batch_size, verbose, steps, callbacks, max_queue_size, workers, use_multiprocessing)\u001b[0m\n\u001b[1;32m   1577\u001b[0m           \u001b[0muse_multiprocessing\u001b[0m\u001b[0;34m=\u001b[0m\u001b[0muse_multiprocessing\u001b[0m\u001b[0;34m,\u001b[0m\u001b[0;34m\u001b[0m\u001b[0;34m\u001b[0m\u001b[0m\n\u001b[1;32m   1578\u001b[0m           \u001b[0mmodel\u001b[0m\u001b[0;34m=\u001b[0m\u001b[0mself\u001b[0m\u001b[0;34m,\u001b[0m\u001b[0;34m\u001b[0m\u001b[0;34m\u001b[0m\u001b[0m\n\u001b[0;32m-> 1579\u001b[0;31m           steps_per_execution=self._steps_per_execution)\n\u001b[0m\u001b[1;32m   1580\u001b[0m \u001b[0;34m\u001b[0m\u001b[0m\n\u001b[1;32m   1581\u001b[0m       \u001b[0;31m# Container that configures and calls `tf.keras.Callback`s.\u001b[0m\u001b[0;34m\u001b[0m\u001b[0;34m\u001b[0m\u001b[0;34m\u001b[0m\u001b[0m\n",
            "\u001b[0;32m/usr/local/lib/python3.6/dist-packages/tensorflow/python/keras/engine/data_adapter.py\u001b[0m in \u001b[0;36m__init__\u001b[0;34m(self, x, y, sample_weight, batch_size, steps_per_epoch, initial_epoch, epochs, shuffle, class_weight, max_queue_size, workers, use_multiprocessing, model, steps_per_execution)\u001b[0m\n\u001b[1;32m   1115\u001b[0m         \u001b[0muse_multiprocessing\u001b[0m\u001b[0;34m=\u001b[0m\u001b[0muse_multiprocessing\u001b[0m\u001b[0;34m,\u001b[0m\u001b[0;34m\u001b[0m\u001b[0;34m\u001b[0m\u001b[0m\n\u001b[1;32m   1116\u001b[0m         \u001b[0mdistribution_strategy\u001b[0m\u001b[0;34m=\u001b[0m\u001b[0mds_context\u001b[0m\u001b[0;34m.\u001b[0m\u001b[0mget_strategy\u001b[0m\u001b[0;34m(\u001b[0m\u001b[0;34m)\u001b[0m\u001b[0;34m,\u001b[0m\u001b[0;34m\u001b[0m\u001b[0;34m\u001b[0m\u001b[0m\n\u001b[0;32m-> 1117\u001b[0;31m         model=model)\n\u001b[0m\u001b[1;32m   1118\u001b[0m \u001b[0;34m\u001b[0m\u001b[0m\n\u001b[1;32m   1119\u001b[0m     \u001b[0mstrategy\u001b[0m \u001b[0;34m=\u001b[0m \u001b[0mds_context\u001b[0m\u001b[0;34m.\u001b[0m\u001b[0mget_strategy\u001b[0m\u001b[0;34m(\u001b[0m\u001b[0;34m)\u001b[0m\u001b[0;34m\u001b[0m\u001b[0;34m\u001b[0m\u001b[0m\n",
            "\u001b[0;32m/usr/local/lib/python3.6/dist-packages/tensorflow/python/keras/engine/data_adapter.py\u001b[0m in \u001b[0;36m__init__\u001b[0;34m(self, x, y, sample_weights, workers, use_multiprocessing, max_queue_size, model, **kwargs)\u001b[0m\n\u001b[1;32m    784\u001b[0m     \u001b[0;31m# Since we have to know the dtype of the python generator when we build the\u001b[0m\u001b[0;34m\u001b[0m\u001b[0;34m\u001b[0m\u001b[0;34m\u001b[0m\u001b[0m\n\u001b[1;32m    785\u001b[0m     \u001b[0;31m# dataset, we have to look at a batch to infer the structure.\u001b[0m\u001b[0;34m\u001b[0m\u001b[0;34m\u001b[0m\u001b[0;34m\u001b[0m\u001b[0m\n\u001b[0;32m--> 786\u001b[0;31m     \u001b[0mpeek\u001b[0m\u001b[0;34m,\u001b[0m \u001b[0mx\u001b[0m \u001b[0;34m=\u001b[0m \u001b[0mself\u001b[0m\u001b[0;34m.\u001b[0m\u001b[0m_peek_and_restore\u001b[0m\u001b[0;34m(\u001b[0m\u001b[0mx\u001b[0m\u001b[0;34m)\u001b[0m\u001b[0;34m\u001b[0m\u001b[0;34m\u001b[0m\u001b[0m\n\u001b[0m\u001b[1;32m    787\u001b[0m     \u001b[0mpeek\u001b[0m \u001b[0;34m=\u001b[0m \u001b[0mself\u001b[0m\u001b[0;34m.\u001b[0m\u001b[0m_standardize_batch\u001b[0m\u001b[0;34m(\u001b[0m\u001b[0mpeek\u001b[0m\u001b[0;34m)\u001b[0m\u001b[0;34m\u001b[0m\u001b[0;34m\u001b[0m\u001b[0m\n\u001b[1;32m    788\u001b[0m     \u001b[0mpeek\u001b[0m \u001b[0;34m=\u001b[0m \u001b[0m_process_tensorlike\u001b[0m\u001b[0;34m(\u001b[0m\u001b[0mpeek\u001b[0m\u001b[0;34m)\u001b[0m\u001b[0;34m\u001b[0m\u001b[0;34m\u001b[0m\u001b[0m\n",
            "\u001b[0;32m/usr/local/lib/python3.6/dist-packages/tensorflow/python/keras/engine/data_adapter.py\u001b[0m in \u001b[0;36m_peek_and_restore\u001b[0;34m(x)\u001b[0m\n\u001b[1;32m    841\u001b[0m   \u001b[0;34m@\u001b[0m\u001b[0mstaticmethod\u001b[0m\u001b[0;34m\u001b[0m\u001b[0;34m\u001b[0m\u001b[0m\n\u001b[1;32m    842\u001b[0m   \u001b[0;32mdef\u001b[0m \u001b[0m_peek_and_restore\u001b[0m\u001b[0;34m(\u001b[0m\u001b[0mx\u001b[0m\u001b[0;34m)\u001b[0m\u001b[0;34m:\u001b[0m\u001b[0;34m\u001b[0m\u001b[0;34m\u001b[0m\u001b[0m\n\u001b[0;32m--> 843\u001b[0;31m     \u001b[0mpeek\u001b[0m \u001b[0;34m=\u001b[0m \u001b[0mnext\u001b[0m\u001b[0;34m(\u001b[0m\u001b[0mx\u001b[0m\u001b[0;34m)\u001b[0m\u001b[0;34m\u001b[0m\u001b[0;34m\u001b[0m\u001b[0m\n\u001b[0m\u001b[1;32m    844\u001b[0m     \u001b[0;32mreturn\u001b[0m \u001b[0mpeek\u001b[0m\u001b[0;34m,\u001b[0m \u001b[0mitertools\u001b[0m\u001b[0;34m.\u001b[0m\u001b[0mchain\u001b[0m\u001b[0;34m(\u001b[0m\u001b[0;34m[\u001b[0m\u001b[0mpeek\u001b[0m\u001b[0;34m]\u001b[0m\u001b[0;34m,\u001b[0m \u001b[0mx\u001b[0m\u001b[0;34m)\u001b[0m\u001b[0;34m\u001b[0m\u001b[0;34m\u001b[0m\u001b[0m\n\u001b[1;32m    845\u001b[0m \u001b[0;34m\u001b[0m\u001b[0m\n",
            "\u001b[0;31mStopIteration\u001b[0m: "
          ]
        }
      ]
    },
    {
      "cell_type": "code",
      "metadata": {
        "id": "SkCFRGcYxRYA",
        "outputId": "213f8ce4-d5ab-4a69-b652-b792b7de3fe5",
        "colab": {
          "base_uri": "https://localhost:8080/",
          "height": 52
        }
      },
      "source": [
        "print(np.round(predictions).T)"
      ],
      "execution_count": 47,
      "outputs": [
        {
          "output_type": "stream",
          "text": [
            "[[1. 0. 1. 0. 1. 0. 0. 0. 1. 0. 1. 0. 1. 1. 0. 0. 0. 1. 0. 0. 0. 0. 0. 1.\n",
            "  1. 0. 0. 1. 0. 0.]]\n"
          ],
          "name": "stdout"
        }
      ]
    },
    {
      "cell_type": "code",
      "metadata": {
        "scrolled": true,
        "id": "4Ce17XxwLwm4",
        "outputId": "7a36b9c7-f454-4444-9953-2f4d8737800e",
        "colab": {
          "base_uri": "https://localhost:8080/",
          "height": 52
        }
      },
      "source": [
        "# Print the corresponding validation labels\n",
        "\n",
        "print(validation_labels)"
      ],
      "execution_count": 48,
      "outputs": [
        {
          "output_type": "stream",
          "text": [
            "[1. 0. 1. 0. 1. 0. 0. 0. 1. 0. 1. 0. 1. 1. 0. 0. 0. 1. 0. 0. 0. 0. 0. 1.\n",
            " 1. 0. 0. 1. 0. 0.]\n"
          ],
          "name": "stdout"
        }
      ]
    },
    {
      "cell_type": "code",
      "metadata": {
        "id": "nUUeWVS1Lwm6"
      },
      "source": [
        "# Obtain a validation data generator\n",
        "\n",
        "validation_generator = get_generator(validation_features, validation_labels, batch_size=3)"
      ],
      "execution_count": 68,
      "outputs": []
    },
    {
      "cell_type": "code",
      "metadata": {
        "id": "t6SMTRLPzCNO",
        "outputId": "e2c17bfd-f6c2-4a52-e03c-3b5d3a255981",
        "colab": {
          "base_uri": "https://localhost:8080/",
          "height": 139
        }
      },
      "source": [
        "next(validation_generator)"
      ],
      "execution_count": 66,
      "outputs": [
        {
          "output_type": "execute_result",
          "data": {
            "text/plain": [
              "(array([[ 0.53,  1.  ,  0.  ,  0.  ,  1.  ,  0.8 , -1.  ,  0.31,  0.  ,\n",
              "          1.  ,  0.  ,  0.  ],\n",
              "        [ 0.67,  0.  ,  0.  ,  0.  , -1.  ,  0.8 , -1.  ,  0.44,  0.  ,\n",
              "          0.  ,  1.  ,  0.  ],\n",
              "        [ 0.75,  1.  ,  1.  ,  1.  ,  0.  ,  1.  ,  1.  ,  0.25,  0.  ,\n",
              "          0.  ,  0.  ,  0.  ]], dtype=float32),\n",
              " array([0., 0., 1.], dtype=float32))"
            ]
          },
          "metadata": {
            "tags": []
          },
          "execution_count": 66
        }
      ]
    },
    {
      "cell_type": "code",
      "metadata": {
        "id": "shBJD8w4Lwm7",
        "outputId": "918b5101-ddaa-4e6c-d0d6-7eaed641e716",
        "colab": {
          "base_uri": "https://localhost:8080/",
          "height": 34
        }
      },
      "source": [
        "# Evaluate the model\n",
        "\n",
        "model.evaluate_generator(validation_generator)"
      ],
      "execution_count": 69,
      "outputs": [
        {
          "output_type": "execute_result",
          "data": {
            "text/plain": [
              "[0.008850453421473503, 1.0]"
            ]
          },
          "metadata": {
            "tags": []
          },
          "execution_count": 69
        }
      ]
    },
    {
      "cell_type": "markdown",
      "metadata": {
        "id": "SgEaDU0TLwm8"
      },
      "source": [
        "***\n",
        "<a id=\"coding_tutorial_3\"></a>\n",
        "## Keras image data augmentation"
      ]
    },
    {
      "cell_type": "markdown",
      "metadata": {
        "id": "fea1o5zdlS0p"
      },
      "source": [
        "#### Import the data\n",
        "\n",
        "The dataset required for this tutorial can be downloaded from the following link:\n",
        "\n",
        "https://drive.google.com/open?id=11Y43ta5gT672L3sfJFR2DvPs-ralY5Pd\n",
        "\n",
        "You should store these files in Drive for use in this Colab notebook."
      ]
    },
    {
      "cell_type": "code",
      "metadata": {
        "id": "xPDIjLB8lW6v",
        "outputId": "9ef741c2-823e-4e51-e473-0fc4ac64508f",
        "colab": {
          "base_uri": "https://localhost:8080/",
          "height": 34
        }
      },
      "source": [
        "# Run this cell to connect to your Drive folder\n",
        "\n",
        "from google.colab import drive\n",
        "drive.mount('/content/gdrive')"
      ],
      "execution_count": 1,
      "outputs": [
        {
          "output_type": "stream",
          "text": [
            "Mounted at /content/gdrive\n"
          ],
          "name": "stdout"
        }
      ]
    },
    {
      "cell_type": "code",
      "metadata": {
        "id": "jdw6c9W-Lwm8"
      },
      "source": [
        "import matplotlib.pyplot as plt\n",
        "import numpy as np"
      ],
      "execution_count": 2,
      "outputs": []
    },
    {
      "cell_type": "markdown",
      "metadata": {
        "id": "2PTkNo-uLwm-"
      },
      "source": [
        "#### Load the CIFAR-10 Dataset"
      ]
    },
    {
      "cell_type": "code",
      "metadata": {
        "id": "-174tvQULwm-"
      },
      "source": [
        "import tensorflow as tf\n",
        "from tensorflow.keras.datasets import cifar10"
      ],
      "execution_count": 6,
      "outputs": []
    },
    {
      "cell_type": "code",
      "metadata": {
        "id": "P_ipqjVnLwnA"
      },
      "source": [
        "# Load the CIFAR-10 dataset\n",
        "\n",
        "(training_features, training_labels), (test_features, test_labels) = cifar10.load_data()"
      ],
      "execution_count": 7,
      "outputs": []
    },
    {
      "cell_type": "code",
      "metadata": {
        "id": "JH-q30M2LwnC"
      },
      "source": [
        "# Convert the labels to a one-hot encoding\n",
        "\n",
        "num_classes = 10\n",
        "\n",
        "training_labels = tf.keras.utils.to_categorical(training_labels, num_classes)\n",
        "test_labels = tf.keras.utils.to_categorical(test_labels, num_classes)"
      ],
      "execution_count": 8,
      "outputs": []
    },
    {
      "cell_type": "markdown",
      "metadata": {
        "id": "tyi9F1cRLwnF"
      },
      "source": [
        "#### Create a generator function"
      ]
    },
    {
      "cell_type": "code",
      "metadata": {
        "id": "RiTmYP9HLwnF"
      },
      "source": [
        "# Create a function that returns a data generator\n",
        "\n",
        "def get_generator(features, labels, batch_size=1):\n",
        "    for n in range(int(len(features)/batch_size)):\n",
        "        yield (features[n*batch_size:(n+1)*batch_size], labels[n*batch_size:(n+1)*batch_size])"
      ],
      "execution_count": 9,
      "outputs": []
    },
    {
      "cell_type": "code",
      "metadata": {
        "id": "aXXF9JKNLwnI"
      },
      "source": [
        "# Use the function we created to get a training data generator with a batch size of 1\n",
        "\n",
        "training_generator = get_generator(training_features, training_labels)"
      ],
      "execution_count": 10,
      "outputs": []
    },
    {
      "cell_type": "code",
      "metadata": {
        "id": "ZaflrvQYLwnL",
        "outputId": "fd89959e-6de7-4339-9fea-829513fb0ca9",
        "colab": {
          "base_uri": "https://localhost:8080/",
          "height": 52
        }
      },
      "source": [
        "# Assess the shape of the items generated by training_generator using the `next` function to yield an item.\n",
        "\n",
        "image, label = next(training_generator)\n",
        "print(image.shape)\n",
        "print(label.shape)"
      ],
      "execution_count": 11,
      "outputs": [
        {
          "output_type": "stream",
          "text": [
            "(1, 32, 32, 3)\n",
            "(1, 10)\n"
          ],
          "name": "stdout"
        }
      ]
    },
    {
      "cell_type": "code",
      "metadata": {
        "id": "VXS3YwfdLwnQ",
        "outputId": "63558998-3d00-411c-9ce0-d19321fdd357",
        "colab": {
          "base_uri": "https://localhost:8080/",
          "height": 283
        }
      },
      "source": [
        "# Test the training generator by obtaining an image using the `next` generator function, and then using imshow to plot it.\n",
        "# Print the corresponding label\n",
        "\n",
        "from matplotlib.pyplot import imshow\n",
        "\n",
        "image, label = next(training_generator)\n",
        "image_unbatched = image[0,:,:,:]\n",
        "imshow(image_unbatched)\n",
        "print(label)"
      ],
      "execution_count": 12,
      "outputs": [
        {
          "output_type": "stream",
          "text": [
            "[[0. 0. 0. 0. 0. 0. 0. 0. 0. 1.]]\n"
          ],
          "name": "stdout"
        },
        {
          "output_type": "display_data",
          "data": {
            "image/png": "[encoded data removed]",
            "text/plain": [
              "<Figure size 432x288 with 1 Axes>"
            ]
          },
          "metadata": {
            "tags": [],
            "needs_background": "light"
          }
        }
      ]
    },
    {
      "cell_type": "code",
      "metadata": {
        "id": "IRHQU5fyLwnS"
      },
      "source": [
        "# Reset the generator by re-running the `get_generator` function.\n",
        "\n",
        "train_generator = get_generator(training_features, training_labels)"
      ],
      "execution_count": 13,
      "outputs": []
    },
    {
      "cell_type": "markdown",
      "metadata": {
        "id": "KUfxD0WHLwnU"
      },
      "source": [
        "#### Create a data augmention generator"
      ]
    },
    {
      "cell_type": "code",
      "metadata": {
        "id": "S209JxdNLwnU"
      },
      "source": [
        "from tensorflow.keras.preprocessing.image import ImageDataGenerator"
      ],
      "execution_count": 14,
      "outputs": []
    },
    {
      "cell_type": "code",
      "metadata": {
        "id": "R80OSZxoLwnX"
      },
      "source": [
        "# Create a function to convert an image to monochrome\n",
        "\n",
        "def monochrome(x):\n",
        "    def func_bw(a):\n",
        "        average_colour = np.mean(a)\n",
        "        return [average_colour, average_colour, average_colour]\n",
        "    x = np.apply_along_axis(func_bw, -1, x)\n",
        "    return x"
      ],
      "execution_count": 15,
      "outputs": []
    },
    {
      "cell_type": "code",
      "metadata": {
        "id": "3B_-LrD8LwnZ"
      },
      "source": [
        "# Create an ImageDataGenerator object\n",
        "image_generator = ImageDataGenerator(preprocessing_function=monochrome,\n",
        "                                     rotation_range = 0.20,\n",
        "                                     rescale=1/255.0)\n",
        "image_generator.fit(training_features)\n"
      ],
      "execution_count": 17,
      "outputs": []
    },
    {
      "cell_type": "markdown",
      "metadata": {
        "id": "wheasgOSLwna"
      },
      "source": [
        "Check [the documentation](https://keras.io/preprocessing/image/) for the full list of image data augmentation options. "
      ]
    },
    {
      "cell_type": "code",
      "metadata": {
        "id": "ElwkY6hzLwna"
      },
      "source": [
        "# Create an iterable generator using the `flow` function\n",
        "\n",
        "image_generator_iterable = image_generator.flow(training_features, training_labels, batch_size=1, shuffle= False)"
      ],
      "execution_count": 19,
      "outputs": []
    },
    {
      "cell_type": "code",
      "metadata": {
        "scrolled": false,
        "id": "G_MojVrRLwnc",
        "outputId": "e9fede25-9231-43c8-9dd9-3ac3d022d77a",
        "colab": {
          "base_uri": "https://localhost:8080/",
          "height": 216
        }
      },
      "source": [
        "# Show a sample from the generator and compare with the original\n",
        "\n",
        "image, label = next(image_generator_iterable)\n",
        "image_orig, label_orig = next(train_generator)\n",
        "figs, axes = plt.subplots(1,2)\n",
        "axes[0].imshow(image[0,:,:,:])\n",
        "axes[0].set_title('Transformed')\n",
        "axes[1].imshow(image_orig[0,:,:,:])\n",
        "axes[1].set_title('Original')\n",
        "plt.show()"
      ],
      "execution_count": 20,
      "outputs": [
        {
          "output_type": "display_data",
          "data": {
            "image/png": "[encoded data removed]",
            "text/plain": [
              "<Figure size 432x288 with 2 Axes>"
            ]
          },
          "metadata": {
            "tags": [],
            "needs_background": "light"
          }
        }
      ]
    },
    {
      "cell_type": "markdown",
      "metadata": {
        "id": "8lDJvPvfLwnd"
      },
      "source": [
        "#### Flow from directory"
      ]
    },
    {
      "cell_type": "code",
      "metadata": {
        "id": "Oq07Xck2Fwq0"
      },
      "source": [
        "#Run the following code to provide the config path to kaggle.json\n",
        "import os\n",
        "os.environ['KAGGLE_CONFIG_DIR'] = \"/content/gdrive/My Drive/mydata/Kaggle\""
      ],
      "execution_count": 25,
      "outputs": []
    },
    {
      "cell_type": "markdown",
      "metadata": {
        "id": "1HuEjAPzLgMp"
      },
      "source": [
        "#### https://medium.com/analytics-vidhya/how-to-fetch-kaggle-datasets-into-google-colab-ea682569851a"
      ]
    },
    {
      "cell_type": "code",
      "metadata": {
        "id": "0ps8wDgMGXt6",
        "outputId": "71e199b5-1d33-4f4a-ffc3-c0126e71aec3",
        "colab": {
          "base_uri": "https://localhost:8080/",
          "height": 34
        }
      },
      "source": [
        "#changing the working directory\n",
        "%cd /content/gdrive/My Drive/mydata/Kaggle"
      ],
      "execution_count": 27,
      "outputs": [
        {
          "output_type": "stream",
          "text": [
            "/content/gdrive/My Drive/mydata/Kaggle\n"
          ],
          "name": "stdout"
        }
      ]
    },
    {
      "cell_type": "code",
      "metadata": {
        "id": "ijGpu_o1GfHc",
        "outputId": "f866f13c-8980-4616-b9c1-e5d469178017",
        "colab": {
          "base_uri": "https://localhost:8080/",
          "height": 34
        }
      },
      "source": [
        "!pwd"
      ],
      "execution_count": 28,
      "outputs": [
        {
          "output_type": "stream",
          "text": [
            "/content/gdrive/My Drive/mydata/Kaggle\n"
          ],
          "name": "stdout"
        }
      ]
    },
    {
      "cell_type": "code",
      "metadata": {
        "id": "g6LT_f-lDQXt",
        "outputId": "542b4079-721b-46b3-e632-7c61e624a0ee",
        "colab": {
          "base_uri": "https://localhost:8080/",
          "height": 69
        }
      },
      "source": [
        "!kaggle datasets download -d alxmamaev/flowers-recognition"
      ],
      "execution_count": 29,
      "outputs": [
        {
          "output_type": "stream",
          "text": [
            "Downloading flowers-recognition.zip to /content/gdrive/My Drive/mydata/Kaggle\n",
            " 98% 441M/450M [00:11<00:00, 41.6MB/s]\n",
            "100% 450M/450M [00:11<00:00, 41.1MB/s]\n"
          ],
          "name": "stdout"
        }
      ]
    },
    {
      "cell_type": "code",
      "metadata": {
        "id": "y-_Dk4vZHX95",
        "outputId": "9ab3fb9c-e7fc-4645-e29d-d2f2cf483bd7",
        "colab": {
          "base_uri": "https://localhost:8080/",
          "height": 34
        }
      },
      "source": [
        "!ls"
      ],
      "execution_count": 30,
      "outputs": [
        {
          "output_type": "stream",
          "text": [
            "flowers-recognition.zip  kaggle.json\n"
          ],
          "name": "stdout"
        }
      ]
    },
    {
      "cell_type": "code",
      "metadata": {
        "id": "HvkKFjZQHapD",
        "outputId": "28e863c6-3f1a-46f2-e1fc-fc1f5dfa84ef",
        "colab": {
          "base_uri": "https://localhost:8080/",
          "height": 1000
        }
      },
      "source": [
        "!unzip \\*.zip  && rm *.zip"
      ],
      "execution_count": 31,
      "outputs": [
        {
          "output_type": "stream",
          "text": [
            "\u001b[1;30;43mStreaming output truncated to the last 5000 lines.\u001b[0m\n",
            "  inflating: flowers/flowers/rose/11102341464_508d558dfc_n.jpg  \n",
            "  inflating: flowers/flowers/rose/11233672494_d8bf0a3dbf_n.jpg  \n",
            "  inflating: flowers/flowers/rose/11694025703_9a906fedc1_n.jpg  \n",
            "  inflating: flowers/flowers/rose/118974357_0faa23cce9_n.jpg  \n",
            "  inflating: flowers/flowers/rose/11944957684_2cc806276e.jpg  \n",
            "  inflating: flowers/flowers/rose/12165480946_c4a3fe182d_n.jpg  \n",
            "  inflating: flowers/flowers/rose/12202373204_34fb07205b.jpg  \n",
            "  inflating: flowers/flowers/rose/12238827553_cf427bfd51_n.jpg  \n",
            "  inflating: flowers/flowers/rose/12240165555_98625b1e88_n.jpg  \n",
            "  inflating: flowers/flowers/rose/12240303_80d87f77a3_n.jpg  \n",
            "  inflating: flowers/flowers/rose/12240577184_b0de0e53ea_n.jpg  \n",
            "  inflating: flowers/flowers/rose/12243068283_ee4c2683e2_n.jpg  \n",
            "  inflating: flowers/flowers/rose/12243069253_e512464095_n.jpg  \n",
            "  inflating: flowers/flowers/rose/123128873_546b8b7355_n.jpg  \n",
            "  inflating: flowers/flowers/rose/12323085443_8ac0cdb713_n.jpg  \n",
            "  inflating: flowers/flowers/rose/12338444334_72fcc2fc58_m.jpg  \n",
            "  inflating: flowers/flowers/rose/12395698413_c0388278f7.jpg  \n",
            "  inflating: flowers/flowers/rose/12406229175_82e2ac649c_n.jpg  \n",
            "  inflating: flowers/flowers/rose/12406418663_af20dc225f_n.jpg  \n",
            "  inflating: flowers/flowers/rose/12407768513_3440238148_n.jpg  \n",
            "  inflating: flowers/flowers/rose/12434194695_a7c4e73c6b_n.jpg  \n",
            "  inflating: flowers/flowers/rose/12562723334_a2e0a9e3c8_n.jpg  \n",
            "  inflating: flowers/flowers/rose/12572786553_634868f7f2_n.jpg  \n",
            "  inflating: flowers/flowers/rose/13211873833_82b029c8a1_n.jpg  \n",
            "  inflating: flowers/flowers/rose/13231224664_4af5293a37.jpg  \n",
            "  inflating: flowers/flowers/rose/13235124703_a7e1266e44.jpg  \n",
            "  inflating: flowers/flowers/rose/13264214185_d6aa79b3bd.jpg  \n",
            "  inflating: flowers/flowers/rose/13279526615_a3b0059bec.jpg  \n",
            "  inflating: flowers/flowers/rose/13342823005_16d3df58df_n.jpg  \n",
            "  inflating: flowers/flowers/rose/1392579828_ab5a139052.jpg  \n",
            "  inflating: flowers/flowers/rose/13929462317_96342a9a44.jpg  \n",
            "  inflating: flowers/flowers/rose/13943843842_36aae2e7f5_n.jpg  \n",
            "  inflating: flowers/flowers/rose/13979889721_42a59ca9fa_m.jpg  \n",
            "  inflating: flowers/flowers/rose/14001990976_bd2da42dbc.jpg  \n",
            "  inflating: flowers/flowers/rose/14019883858_e5d2a0ec10_n.jpg  \n",
            "  inflating: flowers/flowers/rose/1402130395_0b89d76029.jpg  \n",
            "  inflating: flowers/flowers/rose/14107161906_5737e0e4ec.jpg  \n",
            "  inflating: flowers/flowers/rose/14127110749_624f5bfde6_n.jpg  \n",
            "  inflating: flowers/flowers/rose/14145188939_b4de638bd3_n.jpg  \n",
            "  inflating: flowers/flowers/rose/14154164774_3b39d36778.jpg  \n",
            "  inflating: flowers/flowers/rose/14166797345_d2ab9da518.jpg  \n",
            "  inflating: flowers/flowers/rose/14172324538_2147808483_n.jpg  \n",
            "  inflating: flowers/flowers/rose/14176042519_5792b37555.jpg  \n",
            "  inflating: flowers/flowers/rose/14221192676_eb8c89a7d6_n.jpg  \n",
            "  inflating: flowers/flowers/rose/14267691818_301aceda07.jpg  \n",
            "  inflating: flowers/flowers/rose/14312910041_b747240d56_n.jpg  \n",
            "  inflating: flowers/flowers/rose/14381787252_e8e12e277a_n.jpg  \n",
            "  inflating: flowers/flowers/rose/14406317221_1f2be67201_n.jpg  \n",
            "  inflating: flowers/flowers/rose/14408977935_a397e796b8_m.jpg  \n",
            "  inflating: flowers/flowers/rose/14414100710_753a36fce9.jpg  \n",
            "  inflating: flowers/flowers/rose/14414117598_cf70df30de.jpg  \n",
            "  inflating: flowers/flowers/rose/14414123198_24606fb32d.jpg  \n",
            "  inflating: flowers/flowers/rose/1445228333_59a07e0801.jpg  \n",
            "  inflating: flowers/flowers/rose/14460517566_783dbf23b8_n.jpg  \n",
            "  inflating: flowers/flowers/rose/1446090416_f0cad5fde4.jpg  \n",
            "  inflating: flowers/flowers/rose/1446097778_97149b8362.jpg  \n",
            "  inflating: flowers/flowers/rose/14494590921_3bb1dc7b88_n.jpg  \n",
            "  inflating: flowers/flowers/rose/14510185271_b5d75dd98e_n.jpg  \n",
            "  inflating: flowers/flowers/rose/14573732424_1bb91e2e42_n.jpg  \n",
            "  inflating: flowers/flowers/rose/145862135_ab710de93c_n.jpg  \n",
            "  inflating: flowers/flowers/rose/14597445311_8acb60247e.jpg  \n",
            "  inflating: flowers/flowers/rose/1461381091_aaaa663bbe_n.jpg  \n",
            "  inflating: flowers/flowers/rose/14683774134_6367640585.jpg  \n",
            "  inflating: flowers/flowers/rose/14687731322_5613f76353.jpg  \n",
            "  inflating: flowers/flowers/rose/1469726748_f359f4a8c5.jpg  \n",
            "  inflating: flowers/flowers/rose/14747962886_2bff6bb323_m.jpg  \n",
            "  inflating: flowers/flowers/rose/14810868100_87eb739f26_m.jpg  \n",
            "  inflating: flowers/flowers/rose/1485142251_ca89254442.jpg  \n",
            "  inflating: flowers/flowers/rose/14870567200_80cda4362e_n.jpg  \n",
            "  inflating: flowers/flowers/rose/14880561916_79aeb812fd_n.jpg  \n",
            "  inflating: flowers/flowers/rose/14943194730_f48b4d4547_n.jpg  \n",
            "  inflating: flowers/flowers/rose/14970973709_968910640e_n.jpg  \n",
            "  inflating: flowers/flowers/rose/14982802401_a3dfb22afb.jpg  \n",
            "  inflating: flowers/flowers/rose/14993880427_95d0f27257.jpg  \n",
            "  inflating: flowers/flowers/rose/15011625580_7974c44bce.jpg  \n",
            "  inflating: flowers/flowers/rose/15032112248_30c5284e54_n.jpg  \n",
            "  inflating: flowers/flowers/rose/15060816740_68e1b2c31b.jpg  \n",
            "  inflating: flowers/flowers/rose/15061894841_e5aca59ecd_n.jpg  \n",
            "  inflating: flowers/flowers/rose/15094168139_8f636ffa1d_n.jpg  \n",
            "  inflating: flowers/flowers/rose/15174615529_144ae28bdb_n.jpg  \n",
            "  inflating: flowers/flowers/rose/15184419268_7230e9728e.jpg  \n",
            "  inflating: flowers/flowers/rose/15186434972_e353da940a.jpg  \n",
            "  inflating: flowers/flowers/rose/15190665092_5c1c37a066_m.jpg  \n",
            "  inflating: flowers/flowers/rose/15202632426_d88efb321a_n.jpg  \n",
            "  inflating: flowers/flowers/rose/15222804561_0fde5eb4ae_n.jpg  \n",
            "  inflating: flowers/flowers/rose/15236835789_6009b8f33d.jpg  \n",
            "  inflating: flowers/flowers/rose/15255964274_cf2ecdf702.jpg  \n",
            "  inflating: flowers/flowers/rose/15255964454_0a64eb67fa.jpg  \n",
            "  inflating: flowers/flowers/rose/15274443248_76b9f3eb24.jpg  \n",
            "  inflating: flowers/flowers/rose/15277801151_5ed88f40f0_n.jpg  \n",
            "  inflating: flowers/flowers/rose/15312360171_57bde98799_n.jpg  \n",
            "  inflating: flowers/flowers/rose/15333843782_060cef3030.jpg  \n",
            "  inflating: flowers/flowers/rose/1540738662_7b4152e344_m.jpg  \n",
            "  inflating: flowers/flowers/rose/15424480096_45bb574b33.jpg  \n",
            "  inflating: flowers/flowers/rose/15498482197_8878cdfb07_n.jpg  \n",
            "  inflating: flowers/flowers/rose/15509799653_0562d4a4fa.jpg  \n",
            "  inflating: flowers/flowers/rose/15566697073_9a214b700e_n.jpg  \n",
            "  inflating: flowers/flowers/rose/15602874619_03fd934bed.jpg  \n",
            "  inflating: flowers/flowers/rose/1562198683_8cd8cb5876_n.jpg  \n",
            "  inflating: flowers/flowers/rose/15674450867_0ced942941_n.jpg  \n",
            "  inflating: flowers/flowers/rose/15681454551_b6f73ce443_n.jpg  \n",
            "  inflating: flowers/flowers/rose/15697872479_ed48e9dd73_n.jpg  \n",
            "  inflating: flowers/flowers/rose/15699509054_d3e125286f_n.jpg  \n",
            "  inflating: flowers/flowers/rose/15811380728_5053455c50_n.jpg  \n",
            "  inflating: flowers/flowers/rose/15811411368_f4f2cd8873_n.jpg  \n",
            "  inflating: flowers/flowers/rose/15816400548_c551da2212_n.jpg  \n",
            "  inflating: flowers/flowers/rose/15818051327_9a44bf6244_n.jpg  \n",
            "  inflating: flowers/flowers/rose/15820572326_be2ea4a55c_n.jpg  \n",
            "  inflating: flowers/flowers/rose/15821959372_518b9dcf57_n.jpg  \n",
            "  inflating: flowers/flowers/rose/15822837396_96b392fda8_m.jpg  \n",
            "  inflating: flowers/flowers/rose/15859434664_67bf3ef29f.jpg  \n",
            "  inflating: flowers/flowers/rose/15901230359_1819e96b89_n.jpg  \n",
            "  inflating: flowers/flowers/rose/159079265_d77a9ac920_n.jpg  \n",
            "  inflating: flowers/flowers/rose/15922772266_1167a06620.jpg  \n",
            "  inflating: flowers/flowers/rose/15949087094_a8f565295c_m.jpg  \n",
            "  inflating: flowers/flowers/rose/15951588433_c0713cbfc6_m.jpg  \n",
            "  inflating: flowers/flowers/rose/15965652160_de91389965_m.jpg  \n",
            "  inflating: flowers/flowers/rose/15972975956_9a770ca9dd_n.jpg  \n",
            "  inflating: flowers/flowers/rose/15972976206_d32feeb79b_n.jpg  \n",
            "  inflating: flowers/flowers/rose/15977362155_461030c196_m.jpg  \n",
            "  inflating: flowers/flowers/rose/15978010566_5fa5905af1_n.jpg  \n",
            "  inflating: flowers/flowers/rose/15978020586_6cb322b120_n.jpg  \n",
            "  inflating: flowers/flowers/rose/15996816031_7f2fea25cb_n.jpg  \n",
            "  inflating: flowers/flowers/rose/15999816377_4b95e0b538_n.jpg  \n",
            "  inflating: flowers/flowers/rose/16001846141_393fdb887e_n.jpg  \n",
            "  inflating: flowers/flowers/rose/16018886851_c32746cb72.jpg  \n",
            "  inflating: flowers/flowers/rose/16051111039_0f0626a241_n.jpg  \n",
            "  inflating: flowers/flowers/rose/16078501836_3ac067e18a.jpg  \n",
            "  inflating: flowers/flowers/rose/160954292_6c2b4fda65_n.jpg  \n",
            "  inflating: flowers/flowers/rose/16100313047_c2e23cbb3d_n.jpg  \n",
            "  inflating: flowers/flowers/rose/16152175716_55d6968e08_n.jpg  \n",
            "  inflating: flowers/flowers/rose/16152205512_9d6cb80fb6.jpg  \n",
            "  inflating: flowers/flowers/rose/16155980245_6ab8d7b888.jpg  \n",
            "  inflating: flowers/flowers/rose/16157873719_bf0bdf8558_n.jpg  \n",
            "  inflating: flowers/flowers/rose/16209331331_343c899d38.jpg  \n",
            "  inflating: flowers/flowers/rose/16229215579_e7dd808e9c.jpg  \n",
            "  inflating: flowers/flowers/rose/16258946661_f9739cdc0a.jpg  \n",
            "  inflating: flowers/flowers/rose/16374919860_4e445de29f_n.jpg  \n",
            "  inflating: flowers/flowers/rose/16424992340_c1d9eb72b4.jpg  \n",
            "  inflating: flowers/flowers/rose/1645761726_2b1be95472.jpg  \n",
            "  inflating: flowers/flowers/rose/16476788181_0e2ffc719a.jpg  \n",
            "  inflating: flowers/flowers/rose/16484100863_979beacb08.jpg  \n",
            "  inflating: flowers/flowers/rose/16525204061_9b47be3726_m.jpg  \n",
            "  inflating: flowers/flowers/rose/16545641666_2781e542a0_m.jpg  \n",
            "  inflating: flowers/flowers/rose/16552686350_db8db55cd2.jpg  \n",
            "  inflating: flowers/flowers/rose/16643785404_284c6c23fe_n.jpg  \n",
            "  inflating: flowers/flowers/rose/16643944275_3cd4cd966c.jpg  \n",
            "  inflating: flowers/flowers/rose/1666341535_99c6f7509f_n.jpg  \n",
            "  inflating: flowers/flowers/rose/16670921315_0fc48d7ab2_n.jpg  \n",
            "  inflating: flowers/flowers/rose/1667199972_7ba7d999c1_m.jpg  \n",
            "  inflating: flowers/flowers/rose/16691277899_9433f39155_n.jpg  \n",
            "  inflating: flowers/flowers/rose/16772483324_09f24813a1_n.jpg  \n",
            "  inflating: flowers/flowers/rose/16903172207_2cd7aca66a.jpg  \n",
            "  inflating: flowers/flowers/rose/17040847367_b54d05bf52.jpg  \n",
            "  inflating: flowers/flowers/rose/17062080069_36ac7907d2_n.jpg  \n",
            "  inflating: flowers/flowers/rose/17090993740_fcc8b60b81.jpg  \n",
            "  inflating: flowers/flowers/rose/17104364030_ee31ee279b_n.jpg  \n",
            "  inflating: flowers/flowers/rose/17105684129_e2cb69ea24_n.jpg  \n",
            "  inflating: flowers/flowers/rose/17158274118_00ec99a23c.jpg  \n",
            "  inflating: flowers/flowers/rose/17165596357_392a12391f.jpg  \n",
            "  inflating: flowers/flowers/rose/172311368_49412f881b.jpg  \n",
            "  inflating: flowers/flowers/rose/17291451621_0e39f08b9e_n.jpg  \n",
            "  inflating: flowers/flowers/rose/17291930305_79deae6a90_n.jpg  \n",
            "  inflating: flowers/flowers/rose/17302463621_d82be11f01_n.jpg  \n",
            "  inflating: flowers/flowers/rose/17305246720_1866d6303b.jpg  \n",
            "  inflating: flowers/flowers/rose/174109630_3c544b8a2f.jpg  \n",
            "  inflating: flowers/flowers/rose/17449165090_dfb27af360_n.jpg  \n",
            "  inflating: flowers/flowers/rose/17554868955_35f48516cd_m.jpg  \n",
            "  inflating: flowers/flowers/rose/1756973583_4aac7df00d_m.jpg  \n",
            "  inflating: flowers/flowers/rose/1757822526_fe30b9b3ca_m.jpg  \n",
            "  inflating: flowers/flowers/rose/1775233884_12ff5a124f.jpg  \n",
            "  inflating: flowers/flowers/rose/17867791274_25bb3f8a41_n.jpg  \n",
            "  inflating: flowers/flowers/rose/17869810353_c0d9902bc3_n.jpg  \n",
            "  inflating: flowers/flowers/rose/17869839663_1445f1efd0_n.jpg  \n",
            "  inflating: flowers/flowers/rose/17869846573_d6c9c39843_n.jpg  \n",
            "  inflating: flowers/flowers/rose/1788484468_f73afa6c32_n.jpg  \n",
            "  inflating: flowers/flowers/rose/1793211631_68c31a74dc.jpg  \n",
            "  inflating: flowers/flowers/rose/17953368844_be3d18cf30_m.jpg  \n",
            "  inflating: flowers/flowers/rose/17990320484_93bba345d2_m.jpg  \n",
            "  inflating: flowers/flowers/rose/1801614110_bb9fa46830.jpg  \n",
            "  inflating: flowers/flowers/rose/180613732_3a7aba0b80_n.jpg  \n",
            "  inflating: flowers/flowers/rose/1813435848_7852708394_n.jpg  \n",
            "  inflating: flowers/flowers/rose/18220342690_f1c20134bd.jpg  \n",
            "  inflating: flowers/flowers/rose/18302672248_38fe0f70af_n.jpg  \n",
            "  inflating: flowers/flowers/rose/18302691898_9dc45afae8_n.jpg  \n",
            "  inflating: flowers/flowers/rose/18302701228_2b5790b199_n.jpg  \n",
            "  inflating: flowers/flowers/rose/18302780950_9469703544_n.jpg  \n",
            "  inflating: flowers/flowers/rose/18302793940_8fcc8b4661_n.jpg  \n",
            "  inflating: flowers/flowers/rose/18302796110_02ef47cd43_n.jpg  \n",
            "  inflating: flowers/flowers/rose/18302801780_50f9a04639_n.jpg  \n",
            "  inflating: flowers/flowers/rose/18304294599_2b0b604a8d_n.jpg  \n",
            "  inflating: flowers/flowers/rose/1831404161_d2df86fd70.jpg  \n",
            "  inflating: flowers/flowers/rose/18376177250_86060cbdc9.jpg  \n",
            "  inflating: flowers/flowers/rose/18464052396_6327841e65_n.jpg  \n",
            "  inflating: flowers/flowers/rose/18464055536_709c8af0b7_n.jpg  \n",
            "  inflating: flowers/flowers/rose/18464065816_88f194a890_n.jpg  \n",
            "  inflating: flowers/flowers/rose/18464075576_4e496e7d42_n.jpg  \n",
            "  inflating: flowers/flowers/rose/18464080946_a624ce6376_n.jpg  \n",
            "  inflating: flowers/flowers/rose/18464084356_0d2d93f896_n.jpg  \n",
            "  inflating: flowers/flowers/rose/18486123042_5c8da68f38_n.jpg  \n",
            "  inflating: flowers/flowers/rose/18486124712_17ebe7559b_n.jpg  \n",
            "  inflating: flowers/flowers/rose/18486146942_e09ecd0e25_n.jpg  \n",
            "  inflating: flowers/flowers/rose/18486151112_6f83e92223_n.jpg  \n",
            "  inflating: flowers/flowers/rose/18486171962_c46dbd067d_n.jpg  \n",
            "  inflating: flowers/flowers/rose/18490508225_0fc630e963_n.jpg  \n",
            "  inflating: flowers/flowers/rose/18492288871_8c9d5657bb_n.jpg  \n",
            "  inflating: flowers/flowers/rose/18492296751_0bf021da9b_n.jpg  \n",
            "  inflating: flowers/flowers/rose/18492302751_cf6a5a583e_n.jpg  \n",
            "  inflating: flowers/flowers/rose/18492322571_3b99e55560_n.jpg  \n",
            "  inflating: flowers/flowers/rose/18492342231_c074b4b19c_n.jpg  \n",
            "  inflating: flowers/flowers/rose/18563353954_b761d97155_m.jpg  \n",
            "  inflating: flowers/flowers/rose/18584002386_cec0df537d_n.jpg  \n",
            "  inflating: flowers/flowers/rose/18599603859_f2ec616ddf_n.jpg  \n",
            "  inflating: flowers/flowers/rose/18741313803_1bbf842fc6_n.jpg  \n",
            "  inflating: flowers/flowers/rose/18760363474_a707331322_n.jpg  \n",
            "  inflating: flowers/flowers/rose/18990187093_09f2bff8fc_m.jpg  \n",
            "  inflating: flowers/flowers/rose/19027407015_141c10ddcb_n.jpg  \n",
            "  inflating: flowers/flowers/rose/19153732586_9de58c8f53_n.jpg  \n",
            "  inflating: flowers/flowers/rose/19271410704_932d1f2c97_n.jpg  \n",
            "  inflating: flowers/flowers/rose/19440805164_920b28da61_n.jpg  \n",
            "  inflating: flowers/flowers/rose/1949195327_75f76c12b1.jpg  \n",
            "  inflating: flowers/flowers/rose/19566556880_476c66c5ee_n.jpg  \n",
            "  inflating: flowers/flowers/rose/19823402005_2db025dd66_m.jpg  \n",
            "  inflating: flowers/flowers/rose/19919867648_043cf02fc3.jpg  \n",
            "  inflating: flowers/flowers/rose/19988406792_68201f76e3_n.jpg  \n",
            "  inflating: flowers/flowers/rose/20409866779_ac473f55e0_m.jpg  \n",
            "  inflating: flowers/flowers/rose/2053476785_c162a3e358.jpg  \n",
            "  inflating: flowers/flowers/rose/2059172936_032ffc12aa.jpg  \n",
            "  inflating: flowers/flowers/rose/20596941736_f2c5f496cf.jpg  \n",
            "  inflating: flowers/flowers/rose/20622485918_90fc000c86_n.jpg  \n",
            "  inflating: flowers/flowers/rose/2065522422_cfdd80044a_n.jpg  \n",
            "  inflating: flowers/flowers/rose/20825078671_90b0389c70_m.jpg  \n",
            "  inflating: flowers/flowers/rose/20851336110_b17107948d_n.jpg  \n",
            "  inflating: flowers/flowers/rose/2093263381_afd51358a3.jpg  \n",
            "  inflating: flowers/flowers/rose/21039447185_96d59941b2_n.jpg  \n",
            "  inflating: flowers/flowers/rose/2122401867_cd86c5f114_n.jpg  \n",
            "  inflating: flowers/flowers/rose/21346056089_e6f8074e5f_m.jpg  \n",
            "  inflating: flowers/flowers/rose/21347496068_f4d3339607.jpg  \n",
            "  inflating: flowers/flowers/rose/21413573151_e681c6a97a.jpg  \n",
            "  inflating: flowers/flowers/rose/2141413229_3f0425f972_n.jpg  \n",
            "  inflating: flowers/flowers/rose/21522100663_455b77a90c_n.jpg  \n",
            "  inflating: flowers/flowers/rose/218630974_5646dafc63_m.jpg  \n",
            "  inflating: flowers/flowers/rose/2197754124_5c8a146761_n.jpg  \n",
            "  inflating: flowers/flowers/rose/22093190909_77223e6f53_n.jpg  \n",
            "  inflating: flowers/flowers/rose/2215318403_06eb99176a.jpg  \n",
            "  inflating: flowers/flowers/rose/22325299158_6e32e599f8_m.jpg  \n",
            "  inflating: flowers/flowers/rose/22385375599_1faf334f5d_n.jpg  \n",
            "  inflating: flowers/flowers/rose/22506717337_0fd63e53e9.jpg  \n",
            "  inflating: flowers/flowers/rose/2258973326_03c0145f15_n.jpg  \n",
            "  inflating: flowers/flowers/rose/2265390547_2409007cef_n.jpg  \n",
            "  inflating: flowers/flowers/rose/2265579414_2e00a8f265_n.jpg  \n",
            "  inflating: flowers/flowers/rose/22679076_bdb4c24401_m.jpg  \n",
            "  inflating: flowers/flowers/rose/2273917656_6d6c038283.jpg  \n",
            "  inflating: flowers/flowers/rose/229488796_21ac6ee16d_n.jpg  \n",
            "  inflating: flowers/flowers/rose/22982871191_ec61e36939_n.jpg  \n",
            "  inflating: flowers/flowers/rose/23096513535_f41ddfec19_n.jpg  \n",
            "  inflating: flowers/flowers/rose/23232710191_cc57620cd5.jpg  \n",
            "  inflating: flowers/flowers/rose/2325232198_751645d0bb_n.jpg  \n",
            "  inflating: flowers/flowers/rose/2331651885_619653a5d3.jpg  \n",
            "  inflating: flowers/flowers/rose/2332478138_28f1d586e4_n.jpg  \n",
            "  inflating: flowers/flowers/rose/2347579838_dd6d2aaefc_n.jpg  \n",
            "  inflating: flowers/flowers/rose/23891005905_17ce9e6936.jpg  \n",
            "  inflating: flowers/flowers/rose/2392457180_f02dab5c65.jpg  \n",
            "  inflating: flowers/flowers/rose/2414954629_3708a1a04d.jpg  \n",
            "  inflating: flowers/flowers/rose/2423565102_2f1a00bb1b_n.jpg  \n",
            "  inflating: flowers/flowers/rose/2471103806_87ba53d997_n.jpg  \n",
            "  inflating: flowers/flowers/rose/2491600761_7e9d6776e8_m.jpg  \n",
            "  inflating: flowers/flowers/rose/2501297526_cbd66a3f7e_m.jpg  \n",
            "  inflating: flowers/flowers/rose/2535466143_5823e48b63.jpg  \n",
            "  inflating: flowers/flowers/rose/2535466393_6556afeb2f_m.jpg  \n",
            "  inflating: flowers/flowers/rose/2535495431_e6f950443c.jpg  \n",
            "  inflating: flowers/flowers/rose/2536282942_b5ca27577e.jpg  \n",
            "  inflating: flowers/flowers/rose/2550860627_998a4fc4c1.jpg  \n",
            "  inflating: flowers/flowers/rose/2607130050_9c34310004.jpg  \n",
            "  inflating: flowers/flowers/rose/2609353769_dc3654f12f.jpg  \n",
            "  inflating: flowers/flowers/rose/26605779860_50872b454a_n.jpg  \n",
            "  inflating: flowers/flowers/rose/26723815164_d03d4d69cb_n.jpg  \n",
            "  inflating: flowers/flowers/rose/2675221506_5286c0595f.jpg  \n",
            "  inflating: flowers/flowers/rose/2677417735_a697052d2d_n.jpg  \n",
            "  inflating: flowers/flowers/rose/26811158051_8f264eea6b_n.jpg  \n",
            "  inflating: flowers/flowers/rose/2682566502_967e7eaa2a.jpg  \n",
            "  inflating: flowers/flowers/rose/2713683760_d98cd2a05b_m.jpg  \n",
            "  inflating: flowers/flowers/rose/272481307_1eb47ba3e0_n.jpg  \n",
            "  inflating: flowers/flowers/rose/2735666555_01d53e74fe.jpg  \n",
            "  inflating: flowers/flowers/rose/2756028421_b3d5eea526_n.jpg  \n",
            "  inflating: flowers/flowers/rose/27619697563_228f5c4677_n.jpg  \n",
            "  inflating: flowers/flowers/rose/2777518561_105abc8cfc_n.jpg  \n",
            "  inflating: flowers/flowers/rose/2788276815_8f730bd942.jpg  \n",
            "  inflating: flowers/flowers/rose/28131227642_e279b5768b_n.jpg  \n",
            "  inflating: flowers/flowers/rose/2850381271_d2f9a470b1_n.jpg  \n",
            "  inflating: flowers/flowers/rose/2888138918_402096c7fb.jpg  \n",
            "  inflating: flowers/flowers/rose/2949945463_366bc63079_n.jpg  \n",
            "  inflating: flowers/flowers/rose/295257304_de893fc94d.jpg  \n",
            "  inflating: flowers/flowers/rose/2960709681_e95940c0f0_n.jpg  \n",
            "  inflating: flowers/flowers/rose/298670754_f25edda891.jpg  \n",
            "  inflating: flowers/flowers/rose/3026375835_a20ecdd140_m.jpg  \n",
            "  inflating: flowers/flowers/rose/3045046293_57f6d52065_m.jpg  \n",
            "  inflating: flowers/flowers/rose/3052753519_d087aaeacb_n.jpg  \n",
            "  inflating: flowers/flowers/rose/3065719996_c16ecd5551.jpg  \n",
            "  inflating: flowers/flowers/rose/3072908271_08764c732a_m.jpg  \n",
            "  inflating: flowers/flowers/rose/3074406590_91c697c805_n.jpg  \n",
            "  inflating: flowers/flowers/rose/31050510212_73d570592a_n.jpg  \n",
            "  inflating: flowers/flowers/rose/319298955_0c72bd36bf.jpg  \n",
            "  inflating: flowers/flowers/rose/323872063_7264e7e018_m.jpg  \n",
            "  inflating: flowers/flowers/rose/32442998706_ba6cacf354_n.jpg  \n",
            "  inflating: flowers/flowers/rose/3253243865_435c1f2c2b_m.jpg  \n",
            "  inflating: flowers/flowers/rose/3264570182_c7ded528ba_m.jpg  \n",
            "  inflating: flowers/flowers/rose/326541992_d542103ca8_n.jpg  \n",
            "  inflating: flowers/flowers/rose/3268459296_a7346c6b2c.jpg  \n",
            "  inflating: flowers/flowers/rose/32724693914_282ccc4f92_n.jpg  \n",
            "  inflating: flowers/flowers/rose/3276552939_8c31b22d3e.jpg  \n",
            "  inflating: flowers/flowers/rose/3278709893_ba4956a572_n.jpg  \n",
            "  inflating: flowers/flowers/rose/3292434691_392071d702_n.jpg  \n",
            "  inflating: flowers/flowers/rose/33184832190_e5411d91a4_n.jpg  \n",
            "  inflating: flowers/flowers/rose/33185001420_dc8f571c4f_n.jpg  \n",
            "  inflating: flowers/flowers/rose/33411423082_8150d9254e_n.jpg  \n",
            "  inflating: flowers/flowers/rose/33568244695_7ec846bcc6_n.jpg  \n",
            "  inflating: flowers/flowers/rose/33568345265_e4f7d0fe45_n.jpg  \n",
            "  inflating: flowers/flowers/rose/3407482427_49d5c75291_m.jpg  \n",
            "  inflating: flowers/flowers/rose/3415176946_248afe9f32.jpg  \n",
            "  inflating: flowers/flowers/rose/3422228549_f147d6e642.jpg  \n",
            "  inflating: flowers/flowers/rose/3450344423_63ba3190e3.jpg  \n",
            "  inflating: flowers/flowers/rose/3451177763_729a4d54af_n.jpg  \n",
            "  inflating: flowers/flowers/rose/3465443774_6b0c75a3b1_n.jpg  \n",
            "  inflating: flowers/flowers/rose/3475572132_01ae28e834_n.jpg  \n",
            "  inflating: flowers/flowers/rose/3494252600_29f26e3ff0_n.jpg  \n",
            "  inflating: flowers/flowers/rose/3500121696_5b6a69effb_n.jpg  \n",
            "  inflating: flowers/flowers/rose/3526860692_4c551191b1_m.jpg  \n",
            "  inflating: flowers/flowers/rose/353897245_5453f35a8e.jpg  \n",
            "  inflating: flowers/flowers/rose/3550491463_3eb092054c_m.jpg  \n",
            "  inflating: flowers/flowers/rose/3554620445_082dd0bec4_n.jpg  \n",
            "  inflating: flowers/flowers/rose/3556123230_936bf084a5_n.jpg  \n",
            "  inflating: flowers/flowers/rose/3576488381_611f3446e0_n.jpg  \n",
            "  inflating: flowers/flowers/rose/3621011057_0d03bd171b_n.jpg  \n",
            "  inflating: flowers/flowers/rose/3624546109_8eb98f0cdb.jpg  \n",
            "  inflating: flowers/flowers/rose/3630246240_4fee9a33db.jpg  \n",
            "  inflating: flowers/flowers/rose/3634244527_e72c47842c_n.jpg  \n",
            "  inflating: flowers/flowers/rose/3654988152_b11178bbcb.jpg  \n",
            "  inflating: flowers/flowers/rose/3655527028_0fab2b547d_n.jpg  \n",
            "  inflating: flowers/flowers/rose/3661675690_ed2d05fa5f_n.jpg  \n",
            "  inflating: flowers/flowers/rose/3663244576_97f595cf4a.jpg  \n",
            "  inflating: flowers/flowers/rose/3664842094_5fd60ee26b.jpg  \n",
            "  inflating: flowers/flowers/rose/3667366832_7a8017c528_n.jpg  \n",
            "  inflating: flowers/flowers/rose/3697780051_83e50a6dd1_m.jpg  \n",
            "  inflating: flowers/flowers/rose/3705716290_cb7d803130_n.jpg  \n",
            "  inflating: flowers/flowers/rose/3742155164_14b557a51c_n.jpg  \n",
            "  inflating: flowers/flowers/rose/3742168238_d961937e68_n.jpg  \n",
            "  inflating: flowers/flowers/rose/3751835302_d5a03f55e8_n.jpg  \n",
            "  inflating: flowers/flowers/rose/3753920123_c7ebc18ee3.jpg  \n",
            "  inflating: flowers/flowers/rose/3871586333_5a708d5cf4_n.jpg  \n",
            "  inflating: flowers/flowers/rose/3872230296_6c477309f3_n.jpg  \n",
            "  inflating: flowers/flowers/rose/3873271620_1d9d314f01_n.jpg  \n",
            "  inflating: flowers/flowers/rose/388405293_4db1d71f21_n.jpg  \n",
            "  inflating: flowers/flowers/rose/3903276582_fe05bf84c7_n.jpg  \n",
            "  inflating: flowers/flowers/rose/3909587261_f8cd3e7fe7.jpg  \n",
            "  inflating: flowers/flowers/rose/3948347096_42261f047a_m.jpg  \n",
            "  inflating: flowers/flowers/rose/394990940_7af082cf8d_n.jpg  \n",
            "  inflating: flowers/flowers/rose/3971662839_5cb2963b20_n.jpg  \n",
            "  inflating: flowers/flowers/rose/3997609936_8db20b7141_n.jpg  \n",
            "  inflating: flowers/flowers/rose/4061451210_1650590c6a.jpg  \n",
            "  inflating: flowers/flowers/rose/4065283966_9504b98269.jpg  \n",
            "  inflating: flowers/flowers/rose/4093390305_4010c736c9.jpg  \n",
            "  inflating: flowers/flowers/rose/410421672_563550467c.jpg  \n",
            "  inflating: flowers/flowers/rose/410425647_4586667858.jpg  \n",
            "  inflating: flowers/flowers/rose/4231745228_ece86330d9.jpg  \n",
            "  inflating: flowers/flowers/rose/4242976586_607a8f9843_n.jpg  \n",
            "  inflating: flowers/flowers/rose/4243078361_7b92a932cd_n.jpg  \n",
            "  inflating: flowers/flowers/rose/4267024012_295e7141a3_n.jpg  \n",
            "  inflating: flowers/flowers/rose/4279989256_9a48c0d194_n.jpg  \n",
            "  inflating: flowers/flowers/rose/4279990882_031482f8b6_n.jpg  \n",
            "  inflating: flowers/flowers/rose/4325834819_ab56661dcc_m.jpg  \n",
            "  inflating: flowers/flowers/rose/4356781875_92c5cd93c0.jpg  \n",
            "  inflating: flowers/flowers/rose/4360743371_6238b36d8c_m.jpg  \n",
            "  inflating: flowers/flowers/rose/4363734507_5cc4ed6e01.jpg  \n",
            "  inflating: flowers/flowers/rose/4396642388_3081a38875_n.jpg  \n",
            "  inflating: flowers/flowers/rose/4413509121_a62879598a.jpg  \n",
            "  inflating: flowers/flowers/rose/4414135084_1ac7e6cd54.jpg  \n",
            "  inflating: flowers/flowers/rose/4495885281_fe2a3b671d.jpg  \n",
            "  inflating: flowers/flowers/rose/4503599544_3822e7d1be.jpg  \n",
            "  inflating: flowers/flowers/rose/4504220673_af754fcb40_n.jpg  \n",
            "  inflating: flowers/flowers/rose/4504731519_9a260b6607_n.jpg  \n",
            "  inflating: flowers/flowers/rose/4505921907_21c8002fde.jpg  \n",
            "  inflating: flowers/flowers/rose/4553266758_09d4dbdac9_n.jpg  \n",
            "  inflating: flowers/flowers/rose/4558025386_2c47314528.jpg  \n",
            "  inflating: flowers/flowers/rose/4575042086_7674b76297_n.jpg  \n",
            "  inflating: flowers/flowers/rose/4588034197_e300b0872a_n.jpg  \n",
            "  inflating: flowers/flowers/rose/459042023_6273adc312_n.jpg  \n",
            "  inflating: flowers/flowers/rose/4608559939_3487bf3b62_n.jpg  \n",
            "  inflating: flowers/flowers/rose/4609166128_b7ed49b40b_m.jpg  \n",
            "  inflating: flowers/flowers/rose/4609168052_3d4e1d3804_n.jpg  \n",
            "  inflating: flowers/flowers/rose/4612766755_7d3f047db0_n.jpg  \n",
            "  inflating: flowers/flowers/rose/4612774939_e26ec1c34d_n.jpg  \n",
            "  inflating: flowers/flowers/rose/4612784323_0bcfb978f0_n.jpg  \n",
            "  inflating: flowers/flowers/rose/4612826243_7d86870a1b_n.jpg  \n",
            "  inflating: flowers/flowers/rose/4612830331_2a44957465_n.jpg  \n",
            "  inflating: flowers/flowers/rose/4612833069_8e48b47aa4_n.jpg  \n",
            "  inflating: flowers/flowers/rose/4625089819_55c45a189c.jpg  \n",
            "  inflating: flowers/flowers/rose/4644336779_acd973528c.jpg  \n",
            "  inflating: flowers/flowers/rose/4648680921_80dfc4f12a.jpg  \n",
            "  inflating: flowers/flowers/rose/4654893119_45d232016b.jpg  \n",
            "  inflating: flowers/flowers/rose/466486216_ab13b55763.jpg  \n",
            "  inflating: flowers/flowers/rose/4675532860_890504a4a3_m.jpg  \n",
            "  inflating: flowers/flowers/rose/4684127262_6c3346188d.jpg  \n",
            "  inflating: flowers/flowers/rose/4694341873_65fe187a4e_n.jpg  \n",
            "  inflating: flowers/flowers/rose/4702438868_278b9cf41c_n.jpg  \n",
            "  inflating: flowers/flowers/rose/4703837996_d3c1df77cc_n.jpg  \n",
            "  inflating: flowers/flowers/rose/4713531680_1110a2fa07_n.jpg  \n",
            "  inflating: flowers/flowers/rose/4713533500_fcc295de70_n.jpg  \n",
            "  inflating: flowers/flowers/rose/4735314389_94fe1b2a9f_n.jpg  \n",
            "  inflating: flowers/flowers/rose/4754734410_94d98463a5.jpg  \n",
            "  inflating: flowers/flowers/rose/475936554_a2b38aaa8e.jpg  \n",
            "  inflating: flowers/flowers/rose/475947979_554062a608_m.jpg  \n",
            "  inflating: flowers/flowers/rose/4764674741_82b8f93359_n.jpg  \n",
            "  inflating: flowers/flowers/rose/4765063233_f64440c20b.jpg  \n",
            "  inflating: flowers/flowers/rose/4797595918_79887b1229_n.jpg  \n",
            "  inflating: flowers/flowers/rose/4809566219_88f9a1aea3.jpg  \n",
            "  inflating: flowers/flowers/rose/483444865_65962cea07_m.jpg  \n",
            "  inflating: flowers/flowers/rose/4860145119_b1c3cbaa4e_n.jpg  \n",
            "  inflating: flowers/flowers/rose/488849503_63a290a8c2_m.jpg  \n",
            "  inflating: flowers/flowers/rose/4900231976_f8ced2b42a_n.jpg  \n",
            "  inflating: flowers/flowers/rose/4910094611_8c7170fc95_n.jpg  \n",
            "  inflating: flowers/flowers/rose/4918137796_21f0922b0c_n.jpg  \n",
            "  inflating: flowers/flowers/rose/4921988677_e2eb0c9a24_m.jpg  \n",
            "  inflating: flowers/flowers/rose/494803274_f84f21d53a.jpg  \n",
            "  inflating: flowers/flowers/rose/4951581805_b049304f1b_n.jpg  \n",
            "  inflating: flowers/flowers/rose/4979895172_ca06eba616.jpg  \n",
            "  inflating: flowers/flowers/rose/4998708839_c53ee536a8_n.jpg  \n",
            "  inflating: flowers/flowers/rose/5001843267_ccc0aa7d4d_n.jpg  \n",
            "  inflating: flowers/flowers/rose/5001843683_ac3e5f2c87_n.jpg  \n",
            "  inflating: flowers/flowers/rose/5001844187_0a77b2eed6_n.jpg  \n",
            "  inflating: flowers/flowers/rose/5001844777_d9e1968119_n.jpg  \n",
            "  inflating: flowers/flowers/rose/5001845055_69f04d9779_n.jpg  \n",
            "  inflating: flowers/flowers/rose/5001845289_e5740889b0_n.jpg  \n",
            "  inflating: flowers/flowers/rose/5001846301_9380fbe900_n.jpg  \n",
            "  inflating: flowers/flowers/rose/5001846495_56068de2da_n.jpg  \n",
            "  inflating: flowers/flowers/rose/5001846725_7bb1b9fedf_n.jpg  \n",
            "  inflating: flowers/flowers/rose/5001846963_595da3a5a3_n.jpg  \n",
            "  inflating: flowers/flowers/rose/5001847255_34ff6146ec_n.jpg  \n",
            "  inflating: flowers/flowers/rose/5001847439_83e02981e8_n.jpg  \n",
            "  inflating: flowers/flowers/rose/5001847693_77a9fb4f3c_n.jpg  \n",
            "  inflating: flowers/flowers/rose/5001848135_63300a26a8_n.jpg  \n",
            "  inflating: flowers/flowers/rose/5001848317_b33d17ab7a_n.jpg  \n",
            "  inflating: flowers/flowers/rose/5001850247_33681cc95c_n.jpg  \n",
            "  inflating: flowers/flowers/rose/5001850817_abffea40c9_n.jpg  \n",
            "  inflating: flowers/flowers/rose/5001852101_877cb2ae9b_n.jpg  \n",
            "  inflating: flowers/flowers/rose/5001852517_6a8713ffe2_n.jpg  \n",
            "  inflating: flowers/flowers/rose/5001853739_e293f7b268_n.jpg  \n",
            "  inflating: flowers/flowers/rose/5001853887_0623dd2111_n.jpg  \n",
            "  inflating: flowers/flowers/rose/5001854143_d868390640_n.jpg  \n",
            "  inflating: flowers/flowers/rose/5001854803_cb87747d4a_n.jpg  \n",
            "  inflating: flowers/flowers/rose/5001855107_71351ce785_n.jpg  \n",
            "  inflating: flowers/flowers/rose/5001855689_e07486c44d_n.jpg  \n",
            "  inflating: flowers/flowers/rose/5001856089_4cf8e9c818_n.jpg  \n",
            "  inflating: flowers/flowers/rose/5001856549_7e0a640488_n.jpg  \n",
            "  inflating: flowers/flowers/rose/5001857501_f8b1e3e987_n.jpg  \n",
            "  inflating: flowers/flowers/rose/5001857777_440e725f2f_n.jpg  \n",
            "  inflating: flowers/flowers/rose/5001858821_731d128f20_n.jpg  \n",
            "  inflating: flowers/flowers/rose/5002446424_b86e3c646f_n.jpg  \n",
            "  inflating: flowers/flowers/rose/5002446614_bb2a5b4bc1_n.jpg  \n",
            "  inflating: flowers/flowers/rose/5002446908_150a969334_n.jpg  \n",
            "  inflating: flowers/flowers/rose/5002447434_9b06760f63_n.jpg  \n",
            "  inflating: flowers/flowers/rose/5002447916_8a7b7b689a_n.jpg  \n",
            "  inflating: flowers/flowers/rose/5002448396_7ca4d44086_n.jpg  \n",
            "  inflating: flowers/flowers/rose/5002449706_647ffe5249_n.jpg  \n",
            "  inflating: flowers/flowers/rose/5002450022_33337e895b_n.jpg  \n",
            "  inflating: flowers/flowers/rose/5002451854_9cf0096db0_n.jpg  \n",
            "  inflating: flowers/flowers/rose/5002452394_22896fb9df_n.jpg  \n",
            "  inflating: flowers/flowers/rose/5002452576_f61a48b2e3_n.jpg  \n",
            "  inflating: flowers/flowers/rose/5002452834_167883dbcf_n.jpg  \n",
            "  inflating: flowers/flowers/rose/5002453148_5a7bbcce64_n.jpg  \n",
            "  inflating: flowers/flowers/rose/5002453464_ab2bcb3829_n.jpg  \n",
            "  inflating: flowers/flowers/rose/5002453814_cf37b62acd_n.jpg  \n",
            "  inflating: flowers/flowers/rose/5002454522_300a419273_n.jpg  \n",
            "  inflating: flowers/flowers/rose/5002455332_9de0b1e85f_n.jpg  \n",
            "  inflating: flowers/flowers/rose/5002455602_4286b34dde_n.jpg  \n",
            "  inflating: flowers/flowers/rose/5002456302_e3d2600c17_n.jpg  \n",
            "  inflating: flowers/flowers/rose/5002456992_4da0df247a_n.jpg  \n",
            "  inflating: flowers/flowers/rose/5002457330_b77672da1c_n.jpg  \n",
            "  inflating: flowers/flowers/rose/5002458392_f465ed905e_n.jpg  \n",
            "  inflating: flowers/flowers/rose/5002458616_b1719ccc40_n.jpg  \n",
            "  inflating: flowers/flowers/rose/5002459442_81825061e9_n.jpg  \n",
            "  inflating: flowers/flowers/rose/5002460330_7286e80967_n.jpg  \n",
            "  inflating: flowers/flowers/rose/5002460856_c44a02442f_n.jpg  \n",
            "  inflating: flowers/flowers/rose/5002461124_dc5988bbc9_n.jpg  \n",
            "  inflating: flowers/flowers/rose/5002462640_5bf92142bf_n.jpg  \n",
            "  inflating: flowers/flowers/rose/5050969148_a0090f762a.jpg  \n",
            "  inflating: flowers/flowers/rose/505517255_cfbb6f6394.jpg  \n",
            "  inflating: flowers/flowers/rose/5060519573_c628547e20_n.jpg  \n",
            "  inflating: flowers/flowers/rose/5060536705_b370a5c543_n.jpg  \n",
            "  inflating: flowers/flowers/rose/5061135742_2870a7b691_n.jpg  \n",
            "  inflating: flowers/flowers/rose/5073473370_bdbb5a99fc.jpg  \n",
            "  inflating: flowers/flowers/rose/5083072098_81587295d5.jpg  \n",
            "  inflating: flowers/flowers/rose/5086249859_d066b37b8a_m.jpg  \n",
            "  inflating: flowers/flowers/rose/5088766459_f81f50e57d_n.jpg  \n",
            "  inflating: flowers/flowers/rose/5089363428_2c5a1272ea.jpg  \n",
            "  inflating: flowers/flowers/rose/509239741_28e2cfe492_m.jpg  \n",
            "  inflating: flowers/flowers/rose/512578026_f6e6f2ad26.jpg  \n",
            "  inflating: flowers/flowers/rose/512694812_48ba9c0b49_n.jpg  \n",
            "  inflating: flowers/flowers/rose/5148639829_781eb7d346.jpg  \n",
            "  inflating: flowers/flowers/rose/515121050_dcb99890be.jpg  \n",
            "  inflating: flowers/flowers/rose/5156037859_1673720a11_m.jpg  \n",
            "  inflating: flowers/flowers/rose/5159317458_bbb22e2f65_n.jpg  \n",
            "  inflating: flowers/flowers/rose/5172171681_5934378f08.jpg  \n",
            "  inflating: flowers/flowers/rose/5180896559_b8cfefc21e.jpg  \n",
            "  inflating: flowers/flowers/rose/5181899042_0a6ffe0c8a_n.jpg  \n",
            "  inflating: flowers/flowers/rose/5182167964_9d1a0be0b8_n.jpg  \n",
            "  inflating: flowers/flowers/rose/5193918046_d44e4fcd75_m.jpg  \n",
            "  inflating: flowers/flowers/rose/5206847130_ee4bf0e4de_n.jpg  \n",
            "  inflating: flowers/flowers/rose/5212877807_a3ddf06a7c_n.jpg  \n",
            "  inflating: flowers/flowers/rose/5212885371_fe27c406a2_n.jpg  \n",
            "  inflating: flowers/flowers/rose/5223191368_01aedb6547_n.jpg  \n",
            "  inflating: flowers/flowers/rose/5231103167_a03280e9f6_n.jpg  \n",
            "  inflating: flowers/flowers/rose/5234278003_d827fcd73b_m.jpg  \n",
            "  inflating: flowers/flowers/rose/5249439791_196b4e7fc7.jpg  \n",
            "  inflating: flowers/flowers/rose/5249566718_6109630c83_m.jpg  \n",
            "  inflating: flowers/flowers/rose/5273722065_c85d8543c2_m.jpg  \n",
            "  inflating: flowers/flowers/rose/527513005_41497ca4dc.jpg  \n",
            "  inflating: flowers/flowers/rose/5292988046_a10f4b0365_n.jpg  \n",
            "  inflating: flowers/flowers/rose/5332550500_ab341aefd8.jpg  \n",
            "  inflating: flowers/flowers/rose/5333437251_ce0aa6925d_n.jpg  \n",
            "  inflating: flowers/flowers/rose/5335930735_f396f37a81_n.jpg  \n",
            "  inflating: flowers/flowers/rose/5335931029_74c01d3c35_n.jpg  \n",
            "  inflating: flowers/flowers/rose/5335931263_18edb092b0_n.jpg  \n",
            "  inflating: flowers/flowers/rose/5335935585_e4a8435aab_n.jpg  \n",
            "  inflating: flowers/flowers/rose/5335935851_53634d6aed_n.jpg  \n",
            "  inflating: flowers/flowers/rose/5335936115_0292d0beef_n.jpg  \n",
            "  inflating: flowers/flowers/rose/5335936311_390e8ed5d9_n.jpg  \n",
            "  inflating: flowers/flowers/rose/5335937199_2c83d46a57_n.jpg  \n",
            "  inflating: flowers/flowers/rose/5335937417_74a03b52ec_n.jpg  \n",
            "  inflating: flowers/flowers/rose/5335944093_a00b28c4ff_n.jpg  \n",
            "  inflating: flowers/flowers/rose/5335944839_a3b6168534_n.jpg  \n",
            "  inflating: flowers/flowers/rose/5335945309_852d018a27_n.jpg  \n",
            "  inflating: flowers/flowers/rose/5335945781_e45852fa49_n.jpg  \n",
            "  inflating: flowers/flowers/rose/5335946155_be70e11cf2_n.jpg  \n",
            "  inflating: flowers/flowers/rose/5335946401_f49bfbe3f9_n.jpg  \n",
            "  inflating: flowers/flowers/rose/5336545886_7b93463c06_n.jpg  \n",
            "  inflating: flowers/flowers/rose/5336546068_8fd643243c_n.jpg  \n",
            "  inflating: flowers/flowers/rose/5336549532_49c711d49a_n.jpg  \n",
            "  inflating: flowers/flowers/rose/5336551122_2df8fee6da_n.jpg  \n",
            "  inflating: flowers/flowers/rose/5336551618_16d4eea9c4_n.jpg  \n",
            "  inflating: flowers/flowers/rose/5336555402_4f6f03f5a5_n.jpg  \n",
            "  inflating: flowers/flowers/rose/5336558870_22d0a6a318_n.jpg  \n",
            "  inflating: flowers/flowers/rose/5336559428_71e8b58ab5_n.jpg  \n",
            "  inflating: flowers/flowers/rose/5336560370_f994cb35a1_n.jpg  \n",
            "  inflating: flowers/flowers/rose/5336561772_61a0ca4b22_n.jpg  \n",
            "  inflating: flowers/flowers/rose/5336562212_d014ddf9ca_n.jpg  \n",
            "  inflating: flowers/flowers/rose/5336562502_d697a3f0b2_n.jpg  \n",
            "  inflating: flowers/flowers/rose/534228982_4afbcece9b_m.jpg  \n",
            "  inflating: flowers/flowers/rose/5349248481_6445341842_n.jpg  \n",
            "  inflating: flowers/flowers/rose/5349248997_4b23a7344d_n.jpg  \n",
            "  inflating: flowers/flowers/rose/5349249357_d4c0523f7e_n.jpg  \n",
            "  inflating: flowers/flowers/rose/5349249547_5cde2db97c_n.jpg  \n",
            "  inflating: flowers/flowers/rose/5349249729_be6b2cac86_n.jpg  \n",
            "  inflating: flowers/flowers/rose/5349249933_f02c8ea7de_n.jpg  \n",
            "  inflating: flowers/flowers/rose/5349250145_960c51d4fc_n.jpg  \n",
            "  inflating: flowers/flowers/rose/5349250331_05501d6557_n.jpg  \n",
            "  inflating: flowers/flowers/rose/5349251139_92539c279a_n.jpg  \n",
            "  inflating: flowers/flowers/rose/5349254467_388ff94f8b_n.jpg  \n",
            "  inflating: flowers/flowers/rose/5349859602_1ab3356c64_n.jpg  \n",
            "  inflating: flowers/flowers/rose/5349860036_389d912fb7_n.jpg  \n",
            "  inflating: flowers/flowers/rose/5349861432_96137002c4_n.jpg  \n",
            "  inflating: flowers/flowers/rose/5349861636_4101a36923_n.jpg  \n",
            "  inflating: flowers/flowers/rose/5349865018_99cd7f985a_n.jpg  \n",
            "  inflating: flowers/flowers/rose/5349865556_e3263fbdc0_n.jpg  \n",
            "  inflating: flowers/flowers/rose/5360769702_ec28c53b9e_n.jpg  \n",
            "  inflating: flowers/flowers/rose/537207677_f96a0507bb.jpg  \n",
            "  inflating: flowers/flowers/rose/537625768_791e973b40.jpg  \n",
            "  inflating: flowers/flowers/rose/5398569540_7d134c42cb_n.jpg  \n",
            "  inflating: flowers/flowers/rose/5398974188_799753449c.jpg  \n",
            "  inflating: flowers/flowers/rose/5402157745_a384f0583d_n.jpg  \n",
            "  inflating: flowers/flowers/rose/5415173021_ec34517d84_n.jpg  \n",
            "  inflating: flowers/flowers/rose/5415782938_6ce6e4a90d_n.jpg  \n",
            "  inflating: flowers/flowers/rose/5415783734_b002ebce24_n.jpg  \n",
            "  inflating: flowers/flowers/rose/5419629292_2f06e4b295.jpg  \n",
            "  inflating: flowers/flowers/rose/5487945052_bcb8e9fc8b_m.jpg  \n",
            "  inflating: flowers/flowers/rose/5492988531_574cdc2bf0_n.jpg  \n",
            "  inflating: flowers/flowers/rose/5497730366_44d758d8f5.jpg  \n",
            "  inflating: flowers/flowers/rose/5502949025_96d11a17ff_n.jpg  \n",
            "  inflating: flowers/flowers/rose/5526964611_76ef13025c_n.jpg  \n",
            "  inflating: flowers/flowers/rose/5529341024_0c35f2657d.jpg  \n",
            "  inflating: flowers/flowers/rose/5537794501_a0767743fd_n.jpg  \n",
            "  inflating: flowers/flowers/rose/5570018782_c56bee942f.jpg  \n",
            "  inflating: flowers/flowers/rose/5578760521_e54aca6bed_n.jpg  \n",
            "  inflating: flowers/flowers/rose/5578766623_542c91dfaa_n.jpg  \n",
            "  inflating: flowers/flowers/rose/5602220566_5cdde8fa6c_n.jpg  \n",
            "  inflating: flowers/flowers/rose/5628552852_60bbe8d9b0_n.jpg  \n",
            "  inflating: flowers/flowers/rose/563847503_89e9756c80.jpg  \n",
            "  inflating: flowers/flowers/rose/568715474_bdb64ccc32.jpg  \n",
            "  inflating: flowers/flowers/rose/5693486585_cf64d87519_n.jpg  \n",
            "  inflating: flowers/flowers/rose/5693489465_2d0b2e4eb2_n.jpg  \n",
            "  inflating: flowers/flowers/rose/5693492187_dc46424be3_n.jpg  \n",
            "  inflating: flowers/flowers/rose/5693495337_0e42b4d9f0_n.jpg  \n",
            "  inflating: flowers/flowers/rose/5693502877_41c11295b6_n.jpg  \n",
            "  inflating: flowers/flowers/rose/5694071486_90c2b1aee5_n.jpg  \n",
            "  inflating: flowers/flowers/rose/5694090698_1f0c218250_n.jpg  \n",
            "  inflating: flowers/flowers/rose/5717319579_190e85c7d1_m.jpg  \n",
            "  inflating: flowers/flowers/rose/5721768347_2ec4d2247b_n.jpg  \n",
            "  inflating: flowers/flowers/rose/5731750490_ba3325b7ee_n.jpg  \n",
            "  inflating: flowers/flowers/rose/5736328472_8f25e6f6e7.jpg  \n",
            "  inflating: flowers/flowers/rose/5777669976_a205f61e5b.jpg  \n",
            "  inflating: flowers/flowers/rose/5799616059_0ffda02e54.jpg  \n",
            "  inflating: flowers/flowers/rose/5835539224_75967fc400_m.jpg  \n",
            "  inflating: flowers/flowers/rose/5863698305_04a4277401_n.jpg  \n",
            "  inflating: flowers/flowers/rose/5897035797_e67bf68124_n.jpg  \n",
            "  inflating: flowers/flowers/rose/5960270643_1b8a94822e_m.jpg  \n",
            "  inflating: flowers/flowers/rose/5961803532_9368212949_m.jpg  \n",
            "  inflating: flowers/flowers/rose/5979193298_639e877248.jpg  \n",
            "  inflating: flowers/flowers/rose/5990626258_697f007308_n.jpg  \n",
            "  inflating: flowers/flowers/rose/6053143173_991c011b23.jpg  \n",
            "  inflating: flowers/flowers/rose/6108118824_5b0231a56d.jpg  \n",
            "  inflating: flowers/flowers/rose/6111589202_8b9555364c_m.jpg  \n",
            "  inflating: flowers/flowers/rose/6125332325_b768e08bd9_n.jpg  \n",
            "  inflating: flowers/flowers/rose/6163179241_f093f45d95_n.jpg  \n",
            "  inflating: flowers/flowers/rose/6209630964_e8de48fe04_m.jpg  \n",
            "  inflating: flowers/flowers/rose/6231418894_7946a7712b_n.jpg  \n",
            "  inflating: flowers/flowers/rose/6241886381_cc722785af.jpg  \n",
            "  inflating: flowers/flowers/rose/6255593451_b8a3aa8f7a_m.jpg  \n",
            "  inflating: flowers/flowers/rose/6280787884_141cd7b382_n.jpg  \n",
            "  inflating: flowers/flowers/rose/6309548569_932fee8313_m.jpg  \n",
            "  inflating: flowers/flowers/rose/6347846687_3f0a7c3176.jpg  \n",
            "  inflating: flowers/flowers/rose/6347846935_51e3dc2481_n.jpg  \n",
            "  inflating: flowers/flowers/rose/6347847065_83cf87333b_n.jpg  \n",
            "  inflating: flowers/flowers/rose/6363951285_a802238d4e.jpg  \n",
            "  inflating: flowers/flowers/rose/6363976189_e7155e5f9c.jpg  \n",
            "  inflating: flowers/flowers/rose/6409000675_6eb6806e59.jpg  \n",
            "  inflating: flowers/flowers/rose/6473543547_4fefdbd5dc.jpg  \n",
            "  inflating: flowers/flowers/rose/6653567281_768a1fd160.jpg  \n",
            "  inflating: flowers/flowers/rose/6690926183_afedba9f15_n.jpg  \n",
            "  inflating: flowers/flowers/rose/6732261031_861a1026fa_n.jpg  \n",
            "  inflating: flowers/flowers/rose/685724528_6cd5cbe203.jpg  \n",
            "  inflating: flowers/flowers/rose/6864417932_36fa4ceecf_n.jpg  \n",
            "  inflating: flowers/flowers/rose/6867597533_d65d1c39fb_n.jpg  \n",
            "  inflating: flowers/flowers/rose/6879112993_5a29208438_n.jpg  \n",
            "  inflating: flowers/flowers/rose/6936225976_a91b60d8c2_m.jpg  \n",
            "  inflating: flowers/flowers/rose/6950609394_c53b8c6ac0_m.jpg  \n",
            "  inflating: flowers/flowers/rose/6969041818_a505baa68e_m.jpg  \n",
            "  inflating: flowers/flowers/rose/7147367479_f7a6ef0798.jpg  \n",
            "  inflating: flowers/flowers/rose/7186509956_c37c02fb43_n.jpg  \n",
            "  inflating: flowers/flowers/rose/7187035716_5d0fb95c31_n.jpg  \n",
            "  inflating: flowers/flowers/rose/7211616670_2d49ecb3a5_m.jpg  \n",
            "  inflating: flowers/flowers/rose/7251352826_69b62cba2c_m.jpg  \n",
            "  inflating: flowers/flowers/rose/7285188160_49d84b95a3_m.jpg  \n",
            "  inflating: flowers/flowers/rose/7302931078_30054c1970_n.jpg  \n",
            "  inflating: flowers/flowers/rose/7304710956_015b41f802_m.jpg  \n",
            "  inflating: flowers/flowers/rose/7316409504_7cf3707f8a_m.jpg  \n",
            "  inflating: flowers/flowers/rose/7345657862_689366e79a.jpg  \n",
            "  inflating: flowers/flowers/rose/7376471712_e1be793f94.jpg  \n",
            "  inflating: flowers/flowers/rose/7376473742_532364cee5_n.jpg  \n",
            "  inflating: flowers/flowers/rose/7409458444_0bfc9a0682_n.jpg  \n",
            "  inflating: flowers/flowers/rose/7419966772_d6c1c22a81.jpg  \n",
            "  inflating: flowers/flowers/rose/7420699022_60fa574524_m.jpg  \n",
            "  inflating: flowers/flowers/rose/7455236056_b6d71a8dab.jpg  \n",
            "  inflating: flowers/flowers/rose/7456196174_f9de97ba73_n.jpg  \n",
            "  inflating: flowers/flowers/rose/7456196534_f69c17efa3_n.jpg  \n",
            "  inflating: flowers/flowers/rose/7456196908_d34b9b76c4_n.jpg  \n",
            "  inflating: flowers/flowers/rose/7456197696_7e1558cc22_n.jpg  \n",
            "  inflating: flowers/flowers/rose/7456198272_f5d0c6bc7e_n.jpg  \n",
            "  inflating: flowers/flowers/rose/7456439188_c2ba954a5d_n.jpg  \n",
            "  inflating: flowers/flowers/rose/7456439862_8b1ae909b7_n.jpg  \n",
            "  inflating: flowers/flowers/rose/7456492140_478b48ef8e_n.jpg  \n",
            "  inflating: flowers/flowers/rose/7456611336_52fec6b57e_n.jpg  \n",
            "  inflating: flowers/flowers/rose/7456771390_c2505e08a2_n.jpg  \n",
            "  inflating: flowers/flowers/rose/7456887736_54e4ebac03_n.jpg  \n",
            "  inflating: flowers/flowers/rose/7456914664_cdee3170c5_n.jpg  \n",
            "  inflating: flowers/flowers/rose/7461878736_a55f749faf_n.jpg  \n",
            "  inflating: flowers/flowers/rose/7461896668_cfef58f894_n.jpg  \n",
            "  inflating: flowers/flowers/rose/7461897058_3c955efe2a_n.jpg  \n",
            "  inflating: flowers/flowers/rose/7461897398_0053093145_n.jpg  \n",
            "  inflating: flowers/flowers/rose/7461897646_3203dbe067_n.jpg  \n",
            "  inflating: flowers/flowers/rose/7461898018_7e12128f14_n.jpg  \n",
            "  inflating: flowers/flowers/rose/7461898754_9032a38963_n.jpg  \n",
            "  inflating: flowers/flowers/rose/7461899002_a3b21d0770_n.jpg  \n",
            "  inflating: flowers/flowers/rose/7461899330_3b72976570_n.jpg  \n",
            "  inflating: flowers/flowers/rose/7470985338_a1f3bba601_n.jpg  \n",
            "  inflating: flowers/flowers/rose/7470985688_c1ee9105fa_n.jpg  \n",
            "  inflating: flowers/flowers/rose/7470985840_a93e958554_n.jpg  \n",
            "  inflating: flowers/flowers/rose/7471890480_498910f3e3_n.jpg  \n",
            "  inflating: flowers/flowers/rose/7471890644_92a004ea92_n.jpg  \n",
            "  inflating: flowers/flowers/rose/7471890786_aaff777641_n.jpg  \n",
            "  inflating: flowers/flowers/rose/7471890996_e61b134867_n.jpg  \n",
            "  inflating: flowers/flowers/rose/7471891186_195bb02c98_n.jpg  \n",
            "  inflating: flowers/flowers/rose/7471891352_cfd56b4e45_n.jpg  \n",
            "  inflating: flowers/flowers/rose/7471891548_40f350dff2_n.jpg  \n",
            "  inflating: flowers/flowers/rose/7471891698_072c1de52f_n.jpg  \n",
            "  inflating: flowers/flowers/rose/7474124984_ca015e8c10_n.jpg  \n",
            "  inflating: flowers/flowers/rose/7474125638_332be2863e_n.jpg  \n",
            "  inflating: flowers/flowers/rose/7474126248_889a026929_n.jpg  \n",
            "  inflating: flowers/flowers/rose/7474126688_5f888ace5b_n.jpg  \n",
            "  inflating: flowers/flowers/rose/7481117422_66e73115ac_n.jpg  \n",
            "  inflating: flowers/flowers/rose/7481118128_b2de9538b4_n.jpg  \n",
            "  inflating: flowers/flowers/rose/7481118556_6c209b9b7d_n.jpg  \n",
            "  inflating: flowers/flowers/rose/7481118926_43fa291306_n.jpg  \n",
            "  inflating: flowers/flowers/rose/7481119180_7be71a322a_n.jpg  \n",
            "  inflating: flowers/flowers/rose/7481119492_a0016cb059_n.jpg  \n",
            "  inflating: flowers/flowers/rose/7481119854_b4bb358f0b_n.jpg  \n",
            "  inflating: flowers/flowers/rose/7502389724_85b4a6c855_n.jpg  \n",
            "  inflating: flowers/flowers/rose/7525783408_0999483bf4_m.jpg  \n",
            "  inflating: flowers/flowers/rose/7551637034_55ae047756_n.jpg  \n",
            "  inflating: flowers/flowers/rose/7683456068_02644b8382_m.jpg  \n",
            "  inflating: flowers/flowers/rose/7820626638_3e2d712303.jpg  \n",
            "  inflating: flowers/flowers/rose/7865295712_bcc94d120c.jpg  \n",
            "  inflating: flowers/flowers/rose/8032328803_30afac8b07_m.jpg  \n",
            "  inflating: flowers/flowers/rose/8035908422_87220425d2_n.jpg  \n",
            "  inflating: flowers/flowers/rose/8035910225_125beceb98_n.jpg  \n",
            "  inflating: flowers/flowers/rose/8036594516_69a7da5f73_m.jpg  \n",
            "  inflating: flowers/flowers/rose/8050213579_48e1e7109f.jpg  \n",
            "  inflating: flowers/flowers/rose/8060338380_eb6c806624_n.jpg  \n",
            "  inflating: flowers/flowers/rose/8063462557_e0a8bd6c64_n.jpg  \n",
            "  inflating: flowers/flowers/rose/8096324039_4db2555490.jpg  \n",
            "  inflating: flowers/flowers/rose/8125886145_ae99f91fd0.jpg  \n",
            "  inflating: flowers/flowers/rose/8181940917_1ac63937d5_n.jpg  \n",
            "  inflating: flowers/flowers/rose/8209458141_38f38be65c_m.jpg  \n",
            "  inflating: flowers/flowers/rose/8241471746_5d81fdd3c0_n.jpg  \n",
            "  inflating: flowers/flowers/rose/8269247725_4b56cd860d_n.jpg  \n",
            "  inflating: flowers/flowers/rose/8272822550_fc49484186_n.jpg  \n",
            "  inflating: flowers/flowers/rose/8273451349_acd4748da6_n.jpg  \n",
            "  inflating: flowers/flowers/rose/8279801891_5369a6c3c1_n.jpg  \n",
            "  inflating: flowers/flowers/rose/8301512319_45185c447f_n.jpg  \n",
            "  inflating: flowers/flowers/rose/8337607102_d9e0fa887e.jpg  \n",
            "  inflating: flowers/flowers/rose/8388497874_1fe750cc95_m.jpg  \n",
            "  inflating: flowers/flowers/rose/8394286483_69fe04cc7f.jpg  \n",
            "  inflating: flowers/flowers/rose/8437935944_aab997560a_n.jpg  \n",
            "  inflating: flowers/flowers/rose/850416050_31b3ff7086.jpg  \n",
            "  inflating: flowers/flowers/rose/8516036987_8a06dfe1b5_n.jpg  \n",
            "  inflating: flowers/flowers/rose/8523394349_61b31fdd8f_m.jpg  \n",
            "  inflating: flowers/flowers/rose/8524505682_bda885af3a_n.jpg  \n",
            "  inflating: flowers/flowers/rose/8524505868_236f4c94b5.jpg  \n",
            "  inflating: flowers/flowers/rose/8562144481_1d629848ff.jpg  \n",
            "  inflating: flowers/flowers/rose/8622493424_877ae35ed7.jpg  \n",
            "  inflating: flowers/flowers/rose/8642943283_47e44d049d_m.jpg  \n",
            "  inflating: flowers/flowers/rose/8644003462_2272de26eb.jpg  \n",
            "  inflating: flowers/flowers/rose/8667101118_87ea757b15.jpg  \n",
            "  inflating: flowers/flowers/rose/8667746487_781af9e615_n.jpg  \n",
            "  inflating: flowers/flowers/rose/8671682526_7058143c99.jpg  \n",
            "  inflating: flowers/flowers/rose/8674140377_ae7b0be523.jpg  \n",
            "  inflating: flowers/flowers/rose/8692040971_826614516f_n.jpg  \n",
            "  inflating: flowers/flowers/rose/8692051081_dffa8709e7_m.jpg  \n",
            "  inflating: flowers/flowers/rose/8723767157_c45bfd3ab6.jpg  \n",
            "  inflating: flowers/flowers/rose/873660804_37f5c6a46e_n.jpg  \n",
            "  inflating: flowers/flowers/rose/8742493617_c2a9bf854f_m.jpg  \n",
            "  inflating: flowers/flowers/rose/8742493689_fb852f0228_n.jpg  \n",
            "  inflating: flowers/flowers/rose/8747396730_966149e6fe_n.jpg  \n",
            "  inflating: flowers/flowers/rose/8775267816_726ddc6d92_n.jpg  \n",
            "  inflating: flowers/flowers/rose/8853083579_dd1dfa3188.jpg  \n",
            "  inflating: flowers/flowers/rose/8926641787_d2515dfe8f_m.jpg  \n",
            "  inflating: flowers/flowers/rose/8949720453_66e8304c30.jpg  \n",
            "  inflating: flowers/flowers/rose/8960904651_9a0b727258.jpg  \n",
            "  inflating: flowers/flowers/rose/898102603_2d5152f09a.jpg  \n",
            "  inflating: flowers/flowers/rose/8983268106_dc913d17d8_m.jpg  \n",
            "  inflating: flowers/flowers/rose/8987479080_32ab912d10_n.jpg  \n",
            "  inflating: flowers/flowers/rose/909277823_e6fb8cb5c8_n.jpg  \n",
            "  inflating: flowers/flowers/rose/9159362388_c6f4cf3812_n.jpg  \n",
            "  inflating: flowers/flowers/rose/9160289562_ab2718d19b.jpg  \n",
            "  inflating: flowers/flowers/rose/9164900485_605aa12da8.jpg  \n",
            "  inflating: flowers/flowers/rose/9164924345_6b63637acf.jpg  \n",
            "  inflating: flowers/flowers/rose/9167147034_0a66ee3616_n.jpg  \n",
            "  inflating: flowers/flowers/rose/921138131_9e1393eb2b_m.jpg  \n",
            "  inflating: flowers/flowers/rose/9216321995_83df405ea9.jpg  \n",
            "  inflating: flowers/flowers/rose/9216323421_f737c1d50e.jpg  \n",
            "  inflating: flowers/flowers/rose/9216324117_5fa1e2bc25_n.jpg  \n",
            "  inflating: flowers/flowers/rose/921984328_a60076f070_m.jpg  \n",
            "  inflating: flowers/flowers/rose/9298314004_c1a8146521.jpg  \n",
            "  inflating: flowers/flowers/rose/9300754115_dd79670066_n.jpg  \n",
            "  inflating: flowers/flowers/rose/9309388105_12c0b8dd54_m.jpg  \n",
            "  inflating: flowers/flowers/rose/9320934277_4fb95aef5d_n.jpg  \n",
            "  inflating: flowers/flowers/rose/9337528427_3d09b7012b.jpg  \n",
            "  inflating: flowers/flowers/rose/9338237628_4d2547608c.jpg  \n",
            "  inflating: flowers/flowers/rose/9353111163_7a89b2df35_n.jpg  \n",
            "  inflating: flowers/flowers/rose/9355706808_a9a723a8e8_n.jpg  \n",
            "  inflating: flowers/flowers/rose/9369421752_db1ab2a6a4_m.jpg  \n",
            "  inflating: flowers/flowers/rose/9404876600_04f6d37685.jpg  \n",
            "  inflating: flowers/flowers/rose/9423755543_edb35141a3_n.jpg  \n",
            "  inflating: flowers/flowers/rose/9433167170_fa056d3175.jpg  \n",
            "  inflating: flowers/flowers/rose/9458445402_79e4dfa89c.jpg  \n",
            "  inflating: flowers/flowers/rose/9609569441_eeb8566e94.jpg  \n",
            "  inflating: flowers/flowers/rose/9614492283_66020fb4eb_n.jpg  \n",
            "  inflating: flowers/flowers/rose/9633056561_6f1b7e8faf_m.jpg  \n",
            "  inflating: flowers/flowers/rose/9702378513_229a96b754_m.jpg  \n",
            "  inflating: flowers/flowers/rose/99383371_37a5ac12a3_n.jpg  \n",
            "  inflating: flowers/flowers/sunflower/1008566138_6927679c8a.jpg  \n",
            "  inflating: flowers/flowers/sunflower/1022552002_2b93faf9e7_n.jpg  \n",
            "  inflating: flowers/flowers/sunflower/1022552036_67d33d5bd8_n.jpg  \n",
            "  inflating: flowers/flowers/sunflower/10386503264_e05387e1f7_m.jpg  \n",
            "  inflating: flowers/flowers/sunflower/10386522775_4f8c616999_m.jpg  \n",
            "  inflating: flowers/flowers/sunflower/10386525005_fd0b7d6c55_n.jpg  \n",
            "  inflating: flowers/flowers/sunflower/10386525695_2c38fea555_n.jpg  \n",
            "  inflating: flowers/flowers/sunflower/10386540106_1431e73086_m.jpg  \n",
            "  inflating: flowers/flowers/sunflower/10386540696_0a95ee53a8_n.jpg  \n",
            "  inflating: flowers/flowers/sunflower/10386702973_e74a34c806_n.jpg  \n",
            "  inflating: flowers/flowers/sunflower/1043442695_4556c4c13d_n.jpg  \n",
            "  inflating: flowers/flowers/sunflower/1044296388_912143e1d4.jpg  \n",
            "  inflating: flowers/flowers/sunflower/10541580714_ff6b171abd_n.jpg  \n",
            "  inflating: flowers/flowers/sunflower/1064662314_c5a7891b9f_m.jpg  \n",
            "  inflating: flowers/flowers/sunflower/10862313945_e8ed9202d9_m.jpg  \n",
            "  inflating: flowers/flowers/sunflower/11881770944_22b4f2f8f6_n.jpg  \n",
            "  inflating: flowers/flowers/sunflower/1217254584_4b3028b93d.jpg  \n",
            "  inflating: flowers/flowers/sunflower/12282924083_fb80aa17d4_n.jpg  \n",
            "  inflating: flowers/flowers/sunflower/12323859023_447387dbf0_n.jpg  \n",
            "  inflating: flowers/flowers/sunflower/1240624822_4111dde542.jpg  \n",
            "  inflating: flowers/flowers/sunflower/1240625276_fb3bd0c7b1.jpg  \n",
            "  inflating: flowers/flowers/sunflower/1240626292_52cd5d7fb1_m.jpg  \n",
            "  inflating: flowers/flowers/sunflower/1244774242_25a20d99a9.jpg  \n",
            "  inflating: flowers/flowers/sunflower/12471290635_1f9e3aae16_n.jpg  \n",
            "  inflating: flowers/flowers/sunflower/12471441503_d188b5f31a_m.jpg  \n",
            "  inflating: flowers/flowers/sunflower/12471443383_b71e7a7480_m.jpg  \n",
            "  inflating: flowers/flowers/sunflower/12471791574_bb1be83df4.jpg  \n",
            "  inflating: flowers/flowers/sunflower/1267876087_a1b3c63dc9.jpg  \n",
            "  inflating: flowers/flowers/sunflower/127192624_afa3d9cb84.jpg  \n",
            "  inflating: flowers/flowers/sunflower/1297092593_e573c0a3d6.jpg  \n",
            "  inflating: flowers/flowers/sunflower/13095941995_9a66faa713_n.jpg  \n",
            "  inflating: flowers/flowers/sunflower/13096076565_72c2c60875_n.jpg  \n",
            "  inflating: flowers/flowers/sunflower/13117907313_86c99c6441.jpg  \n",
            "  inflating: flowers/flowers/sunflower/1314584013_fe935fdeb1_n.jpg  \n",
            "  inflating: flowers/flowers/sunflower/13568621944_d575324b8c_n.jpg  \n",
            "  inflating: flowers/flowers/sunflower/13648603305_1268eda8b7_n.jpg  \n",
            "  inflating: flowers/flowers/sunflower/1379256773_bb2eb0d95b_n.jpg  \n",
            "  inflating: flowers/flowers/sunflower/13959937305_2f5c532886_n.jpg  \n",
            "  inflating: flowers/flowers/sunflower/14121915990_4b76718077_m.jpg  \n",
            "  inflating: flowers/flowers/sunflower/14144522269_bc20029375_m.jpg  \n",
            "  inflating: flowers/flowers/sunflower/1419608016_707b887337_n.jpg  \n",
            "  inflating: flowers/flowers/sunflower/14244273988_a7484f18b7_m.jpg  \n",
            "  inflating: flowers/flowers/sunflower/14244410747_22691ece4a_n.jpg  \n",
            "  inflating: flowers/flowers/sunflower/14266917699_91b207888e.jpg  \n",
            "  inflating: flowers/flowers/sunflower/14348961225_09bd803317_n.jpg  \n",
            "  inflating: flowers/flowers/sunflower/14397276020_49f9423614.jpg  \n",
            "  inflating: flowers/flowers/sunflower/14460075029_5cd715bb72_m.jpg  \n",
            "  inflating: flowers/flowers/sunflower/14460081668_eda8795693_m.jpg  \n",
            "  inflating: flowers/flowers/sunflower/14472246629_72373111e6_m.jpg  \n",
            "  inflating: flowers/flowers/sunflower/145303599_2627e23815_n.jpg  \n",
            "  inflating: flowers/flowers/sunflower/14623719696_1bb7970208_n.jpg  \n",
            "  inflating: flowers/flowers/sunflower/14623720226_aeeac66e0a_n.jpg  \n",
            "  inflating: flowers/flowers/sunflower/14646279002_9cdf97be97_n.jpg  \n",
            "  inflating: flowers/flowers/sunflower/14646280372_dd50be16e4_n.jpg  \n",
            "  inflating: flowers/flowers/sunflower/14646281372_5f13794b47.jpg  \n",
            "  inflating: flowers/flowers/sunflower/14646282112_447cc7d1f9.jpg  \n",
            "  inflating: flowers/flowers/sunflower/14646283472_50a3ae1395.jpg  \n",
            "  inflating: flowers/flowers/sunflower/14678298676_6db8831ee6_m.jpg  \n",
            "  inflating: flowers/flowers/sunflower/14698136411_23bdcff7bf_n.jpg  \n",
            "  inflating: flowers/flowers/sunflower/14741812319_e1d32ffb84_n.jpg  \n",
            "  inflating: flowers/flowers/sunflower/14741813010_5d44e33088_n.jpg  \n",
            "  inflating: flowers/flowers/sunflower/14741813110_94964c39e2_n.jpg  \n",
            "  inflating: flowers/flowers/sunflower/14741866338_bdc8bfc8d5_n.jpg  \n",
            "  inflating: flowers/flowers/sunflower/14741907467_fab96f3b2b_n.jpg  \n",
            "  inflating: flowers/flowers/sunflower/147804446_ef9244c8ce_m.jpg  \n",
            "  inflating: flowers/flowers/sunflower/14814264272_4b39a102f9_n.jpg  \n",
            "  inflating: flowers/flowers/sunflower/1484598527_579a272f53.jpg  \n",
            "  inflating: flowers/flowers/sunflower/1485456230_58d8e45e88.jpg  \n",
            "  inflating: flowers/flowers/sunflower/14858674096_ed0fc1a130.jpg  \n",
            "  inflating: flowers/flowers/sunflower/14881304632_54a9dfb8be.jpg  \n",
            "  inflating: flowers/flowers/sunflower/14889392928_9742aed45b_m.jpg  \n",
            "  inflating: flowers/flowers/sunflower/14889779907_3d401bbac7_m.jpg  \n",
            "  inflating: flowers/flowers/sunflower/14901528533_ac1ce09063.jpg  \n",
            "  inflating: flowers/flowers/sunflower/14921668662_3ffc5b9db3_n.jpg  \n",
            "  inflating: flowers/flowers/sunflower/14925397351_c7f209d804_n.jpg  \n",
            "  inflating: flowers/flowers/sunflower/14925397651_97dcddc383_n.jpg  \n",
            "  inflating: flowers/flowers/sunflower/14925397761_46ecfa24e0.jpg  \n",
            "  inflating: flowers/flowers/sunflower/14925398301_55a180f919_n.jpg  \n",
            "  inflating: flowers/flowers/sunflower/14925398441_107f3e0304_n.jpg  \n",
            "  inflating: flowers/flowers/sunflower/14928117202_139d2142cc_n.jpg  \n",
            "  inflating: flowers/flowers/sunflower/14932787983_d6e05f2434_m.jpg  \n",
            "  inflating: flowers/flowers/sunflower/14955545254_324cd4ee75.jpg  \n",
            "  inflating: flowers/flowers/sunflower/14969295739_c132a08663_n.jpg  \n",
            "  inflating: flowers/flowers/sunflower/15026703621_e15e9d55f0_n.jpg  \n",
            "  inflating: flowers/flowers/sunflower/15030133005_9728102622_z.jpg  \n",
            "  inflating: flowers/flowers/sunflower/15042911059_b6153d94e7_n.jpg  \n",
            "  inflating: flowers/flowers/sunflower/15043962658_dcf9dff5e9_n.jpg  \n",
            "  inflating: flowers/flowers/sunflower/15054750690_198b6ab0f2_n.jpg  \n",
            "  inflating: flowers/flowers/sunflower/15054751430_5af76f6096_n.jpg  \n",
            "  inflating: flowers/flowers/sunflower/15054752730_fcf54d475e_m.jpg  \n",
            "  inflating: flowers/flowers/sunflower/15054753070_4f6ae0e763_m.jpg  \n",
            "  inflating: flowers/flowers/sunflower/15054864058_2edca122a9_n.jpg  \n",
            "  inflating: flowers/flowers/sunflower/15054864508_0334b892be_m.jpg  \n",
            "  inflating: flowers/flowers/sunflower/15054865217_e398d0dc9f_n.jpg  \n",
            "  inflating: flowers/flowers/sunflower/15054865768_2cc87ac9d4_m.jpg  \n",
            "  inflating: flowers/flowers/sunflower/15054866658_c1a6223403_m.jpg  \n",
            "  inflating: flowers/flowers/sunflower/15054866898_60ee50ec6b_n.jpg  \n",
            "  inflating: flowers/flowers/sunflower/15066430311_fb57fa92b0_m.jpg  \n",
            "  inflating: flowers/flowers/sunflower/15069459615_7e0fd61914_n.jpg  \n",
            "  inflating: flowers/flowers/sunflower/15072973261_73e2912ef2_n.jpg  \n",
            "  inflating: flowers/flowers/sunflower/15081164641_45a7b92b3a_m.jpg  \n",
            "  inflating: flowers/flowers/sunflower/15108515192_f686dce398_n.jpg  \n",
            "  inflating: flowers/flowers/sunflower/15118243470_7e0a7f159c_n.jpg  \n",
            "  inflating: flowers/flowers/sunflower/15118397087_bfb7ea70d5_n.jpg  \n",
            "  inflating: flowers/flowers/sunflower/15122112402_cafa41934f.jpg  \n",
            "  inflating: flowers/flowers/sunflower/15122622946_1707cfd8a5_n.jpg  \n",
            "  inflating: flowers/flowers/sunflower/15122871130_6a7d0b4372_n.jpg  \n",
            "  inflating: flowers/flowers/sunflower/15145607875_e87204d78c_n.jpg  \n",
            "  inflating: flowers/flowers/sunflower/151898652_b5f1c70b98_n.jpg  \n",
            "  inflating: flowers/flowers/sunflower/15191613243_82ee8e0fe8.jpg  \n",
            "  inflating: flowers/flowers/sunflower/15207507116_8b7f894508_m.jpg  \n",
            "  inflating: flowers/flowers/sunflower/15218421476_9d5f38e732_m.jpg  \n",
            "  inflating: flowers/flowers/sunflower/15218871222_c104032ca1.jpg  \n",
            "  inflating: flowers/flowers/sunflower/15238348741_c2fb12ecf2_m.jpg  \n",
            "  inflating: flowers/flowers/sunflower/15240466871_ec45b65554_m.jpg  \n",
            "  inflating: flowers/flowers/sunflower/15243175532_ac28c48e14_m.jpg  \n",
            "  inflating: flowers/flowers/sunflower/15266715291_dfa3f1d49f_n.jpg  \n",
            "  inflating: flowers/flowers/sunflower/15380755137_a2e67839ab_m.jpg  \n",
            "  inflating: flowers/flowers/sunflower/15443139789_5318389b8c_n.jpg  \n",
            "  inflating: flowers/flowers/sunflower/15460162172_014bcce403.jpg  \n",
            "  inflating: flowers/flowers/sunflower/15472217046_2699b25584.jpg  \n",
            "  inflating: flowers/flowers/sunflower/15493195788_60530f2398_m.jpg  \n",
            "  inflating: flowers/flowers/sunflower/15495578821_92c6d14252_n.jpg  \n",
            "  inflating: flowers/flowers/sunflower/15495579081_661cb260d1_n.jpg  \n",
            "  inflating: flowers/flowers/sunflower/15683877266_42e0fe3782_n.jpg  \n",
            "  inflating: flowers/flowers/sunflower/15745084272_36402f5ee6_n.jpg  \n",
            "  inflating: flowers/flowers/sunflower/15839183375_49bf4f75e8_m.jpg  \n",
            "  inflating: flowers/flowers/sunflower/1596293240_2d5b53495a_m.jpg  \n",
            "  inflating: flowers/flowers/sunflower/15973657966_d6f6005539_n.jpg  \n",
            "  inflating: flowers/flowers/sunflower/16143151468_4f3c033e33.jpg  \n",
            "  inflating: flowers/flowers/sunflower/16153267338_2f39906bcb_n.jpg  \n",
            "  inflating: flowers/flowers/sunflower/164668737_aeab0cb55e_n.jpg  \n",
            "  inflating: flowers/flowers/sunflower/164670176_9f5b9c7965.jpg  \n",
            "  inflating: flowers/flowers/sunflower/164670455_29d8e02bbd_n.jpg  \n",
            "  inflating: flowers/flowers/sunflower/164671753_ab36d9cbb7_n.jpg  \n",
            "  inflating: flowers/flowers/sunflower/164672339_f2b5b164f6.jpg  \n",
            "  inflating: flowers/flowers/sunflower/16616096711_12375a0260_n.jpg  \n",
            "  inflating: flowers/flowers/sunflower/16656015339_2ccb7cd18d.jpg  \n",
            "  inflating: flowers/flowers/sunflower/16832961488_5f7e70eb5e_n.jpg  \n",
            "  inflating: flowers/flowers/sunflower/16967372357_15b1b9a812_n.jpg  \n",
            "  inflating: flowers/flowers/sunflower/16975010069_7afd290657_m.jpg  \n",
            "  inflating: flowers/flowers/sunflower/16988605969_570329ff20_n.jpg  \n",
            "  inflating: flowers/flowers/sunflower/17148843706_df148301ac_n.jpg  \n",
            "  inflating: flowers/flowers/sunflower/1715303025_e7065327e2.jpg  \n",
            "  inflating: flowers/flowers/sunflower/17433282043_441b0a07f4_n.jpg  \n",
            "  inflating: flowers/flowers/sunflower/175638423_058c07afb9.jpg  \n",
            "  inflating: flowers/flowers/sunflower/1788133737_b1133d1aa7.jpg  \n",
            "  inflating: flowers/flowers/sunflower/18097401209_910a46fae1_n.jpg  \n",
            "  inflating: flowers/flowers/sunflower/18237156988_9ceb46a8de_n.jpg  \n",
            "  inflating: flowers/flowers/sunflower/18237215308_a158d49f28_n.jpg  \n",
            "  inflating: flowers/flowers/sunflower/18250039435_7654bc11be_n.jpg  \n",
            "  inflating: flowers/flowers/sunflower/184682095_46f8607278.jpg  \n",
            "  inflating: flowers/flowers/sunflower/184682320_73ccf74710.jpg  \n",
            "  inflating: flowers/flowers/sunflower/184682506_8a9b8c662d.jpg  \n",
            "  inflating: flowers/flowers/sunflower/184682652_c927a49226_m.jpg  \n",
            "  inflating: flowers/flowers/sunflower/184682920_97ae41ce60_m.jpg  \n",
            "  inflating: flowers/flowers/sunflower/184683023_737fec5b18.jpg  \n",
            "  inflating: flowers/flowers/sunflower/18766965343_9f42d4bedc_m.jpg  \n",
            "  inflating: flowers/flowers/sunflower/1880606744_23e3dc4f6b_n.jpg  \n",
            "  inflating: flowers/flowers/sunflower/18828277053_1493158b28.jpg  \n",
            "  inflating: flowers/flowers/sunflower/18828283553_e46504ae38.jpg  \n",
            "  inflating: flowers/flowers/sunflower/18843967474_9cb552716b.jpg  \n",
            "  inflating: flowers/flowers/sunflower/18972803569_1a0634f398_m.jpg  \n",
            "  inflating: flowers/flowers/sunflower/19349582128_68a662075e_n.jpg  \n",
            "  inflating: flowers/flowers/sunflower/19359539074_d7e32e6616_n.jpg  \n",
            "  inflating: flowers/flowers/sunflower/193874852_fb633d8d00_n.jpg  \n",
            "  inflating: flowers/flowers/sunflower/193878348_43571127b9_n.jpg  \n",
            "  inflating: flowers/flowers/sunflower/19442589512_e733cfea0f.jpg  \n",
            "  inflating: flowers/flowers/sunflower/19453165201_2aa747e0bf.jpg  \n",
            "  inflating: flowers/flowers/sunflower/19504937128_a4ae90fcbd_m.jpg  \n",
            "  inflating: flowers/flowers/sunflower/19508264965_d1dfb565ea_n.jpg  \n",
            "  inflating: flowers/flowers/sunflower/19519101829_46af0b4547_m.jpg  \n",
            "  inflating: flowers/flowers/sunflower/19595718862_c68896370c_m.jpg  \n",
            "  inflating: flowers/flowers/sunflower/19697910486_0086d893a2.jpg  \n",
            "  inflating: flowers/flowers/sunflower/197011740_21825de2bf.jpg  \n",
            "  inflating: flowers/flowers/sunflower/19710076021_f5bb162540.jpg  \n",
            "  inflating: flowers/flowers/sunflower/19710925313_31682fa22b_m.jpg  \n",
            "  inflating: flowers/flowers/sunflower/19756232959_17cde3b9f0_m.jpg  \n",
            "  inflating: flowers/flowers/sunflower/19784656639_cd7f0a4a26_m.jpg  \n",
            "  inflating: flowers/flowers/sunflower/19915160340_ec904edbdf_n.jpg  \n",
            "  inflating: flowers/flowers/sunflower/200011914_93f57ed68b.jpg  \n",
            "  inflating: flowers/flowers/sunflower/20022771089_3cc7e5086d_m.jpg  \n",
            "  inflating: flowers/flowers/sunflower/200288046_0032f322ff_n.jpg  \n",
            "  inflating: flowers/flowers/sunflower/200557977_bf24d9550b.jpg  \n",
            "  inflating: flowers/flowers/sunflower/200557979_a16112aac1_n.jpg  \n",
            "  inflating: flowers/flowers/sunflower/200557981_f800fa1af9.jpg  \n",
            "  inflating: flowers/flowers/sunflower/200557983_10a88672fc.jpg  \n",
            "  inflating: flowers/flowers/sunflower/20078317834_6e0983c0f5_n.jpg  \n",
            "  inflating: flowers/flowers/sunflower/20078409301_aa8061bd0b_n.jpg  \n",
            "  inflating: flowers/flowers/sunflower/20112366233_d6cb3b6e15_n.jpg  \n",
            "  inflating: flowers/flowers/sunflower/20148493928_9f75a99783.jpg  \n",
            "  inflating: flowers/flowers/sunflower/20156280765_a6baea3176.jpg  \n",
            "  inflating: flowers/flowers/sunflower/20171662239_f69b6c12bd_n.jpg  \n",
            "  inflating: flowers/flowers/sunflower/201809908_0ef84bb351.jpg  \n",
            "  inflating: flowers/flowers/sunflower/20183028616_beb937e75c_m.jpg  \n",
            "  inflating: flowers/flowers/sunflower/20183071136_c297e74fcc_m.jpg  \n",
            "  inflating: flowers/flowers/sunflower/20258015499_93b9951800_m.jpg  \n",
            "  inflating: flowers/flowers/sunflower/20342824594_9740b7b160.jpg  \n",
            "  inflating: flowers/flowers/sunflower/20344282483_05abb0b837.jpg  \n",
            "  inflating: flowers/flowers/sunflower/20344366953_44fb51051b.jpg  \n",
            "  inflating: flowers/flowers/sunflower/20406385204_469f6749e2_n.jpg  \n",
            "  inflating: flowers/flowers/sunflower/20407896403_a50fef58ac_n.jpg  \n",
            "  inflating: flowers/flowers/sunflower/20410533613_56da1cce7c.jpg  \n",
            "  inflating: flowers/flowers/sunflower/20410697750_c43973d1eb.jpg  \n",
            "  inflating: flowers/flowers/sunflower/20481273479_d459834a3e_n.jpg  \n",
            "  inflating: flowers/flowers/sunflower/20621698991_dcb323911d.jpg  \n",
            "  inflating: flowers/flowers/sunflower/20658775992_1619cd0a9b_n.jpg  \n",
            "  inflating: flowers/flowers/sunflower/20667988875_6e73ac2879_n.jpg  \n",
            "  inflating: flowers/flowers/sunflower/2067882323_8de6623ffd.jpg  \n",
            "  inflating: flowers/flowers/sunflower/20704967595_a9c9b8d431.jpg  \n",
            "  inflating: flowers/flowers/sunflower/20753711039_0b11d24b50_n.jpg  \n",
            "  inflating: flowers/flowers/sunflower/20777358950_c63ea569a1.jpg  \n",
            "  inflating: flowers/flowers/sunflower/20777375650_ef854bf645.jpg  \n",
            "  inflating: flowers/flowers/sunflower/20812318934_82f10c45a1_n.jpg  \n",
            "  inflating: flowers/flowers/sunflower/20871601265_daa4be4291_n.jpg  \n",
            "  inflating: flowers/flowers/sunflower/20905163782_312e2c3bda_n.jpg  \n",
            "  inflating: flowers/flowers/sunflower/20938724084_7fe6bf87ae_n.jpg  \n",
            "  inflating: flowers/flowers/sunflower/20965412955_2c640b13bd.jpg  \n",
            "  inflating: flowers/flowers/sunflower/20972862281_5367f4af88.jpg  \n",
            "  inflating: flowers/flowers/sunflower/20972866151_e6a928b00a.jpg  \n",
            "  inflating: flowers/flowers/sunflower/210076535_80951bc5d5.jpg  \n",
            "  inflating: flowers/flowers/sunflower/21134000558_d7d6c9b1fe_n.jpg  \n",
            "  inflating: flowers/flowers/sunflower/21349789961_18ba1af5b7_n.jpg  \n",
            "  inflating: flowers/flowers/sunflower/21374127408_5ffbe87bb2.jpg  \n",
            "  inflating: flowers/flowers/sunflower/21518663809_3d69f5b995_n.jpg  \n",
            "  inflating: flowers/flowers/sunflower/215798352_184d8040d1.jpg  \n",
            "  inflating: flowers/flowers/sunflower/215798354_429de28c2d.jpg  \n",
            "  inflating: flowers/flowers/sunflower/215798357_3f4bfa27b7.jpg  \n",
            "  inflating: flowers/flowers/sunflower/21728822928_9f6817325a_n.jpg  \n",
            "  inflating: flowers/flowers/sunflower/21796333524_38fc8e0ab5_n.jpg  \n",
            "  inflating: flowers/flowers/sunflower/21821266773_7113d34c35_m.jpg  \n",
            "  inflating: flowers/flowers/sunflower/21899501660_7065d1c1fa_n.jpg  \n",
            "  inflating: flowers/flowers/sunflower/21984860006_20dfacea1c_m.jpg  \n",
            "  inflating: flowers/flowers/sunflower/21995435890_e5672244a4_m.jpg  \n",
            "  inflating: flowers/flowers/sunflower/22183521655_56221bf2a4_n.jpg  \n",
            "  inflating: flowers/flowers/sunflower/22183529245_ce13557515_m.jpg  \n",
            "  inflating: flowers/flowers/sunflower/22203670478_9ec5c2700b_n.jpg  \n",
            "  inflating: flowers/flowers/sunflower/22255608949_172d7c8d22_m.jpg  \n",
            "  inflating: flowers/flowers/sunflower/22405882322_d4561f8469_n.jpg  \n",
            "  inflating: flowers/flowers/sunflower/22405887122_75eda1872f_m.jpg  \n",
            "  inflating: flowers/flowers/sunflower/22416421196_caf131c9fa_m.jpg  \n",
            "  inflating: flowers/flowers/sunflower/22419079265_8902cddb7d_n.jpg  \n",
            "  inflating: flowers/flowers/sunflower/22429146402_332fa2fc72_m.jpg  \n",
            "  inflating: flowers/flowers/sunflower/22429946721_e17a12cb39_n.jpg  \n",
            "  inflating: flowers/flowers/sunflower/22478719251_276cb094f9_n.jpg  \n",
            "  inflating: flowers/flowers/sunflower/22686342422_c0b9e2f38e.jpg  \n",
            "  inflating: flowers/flowers/sunflower/22992257000_76dbc599e7_m.jpg  \n",
            "  inflating: flowers/flowers/sunflower/2307673262_e1e1aefd29.jpg  \n",
            "  inflating: flowers/flowers/sunflower/23204123212_ef32fbafbe.jpg  \n",
            "  inflating: flowers/flowers/sunflower/23247483352_0defc7a6dc_n.jpg  \n",
            "  inflating: flowers/flowers/sunflower/2328600790_90e2942557_n.jpg  \n",
            "  inflating: flowers/flowers/sunflower/23286304156_3635f7de05.jpg  \n",
            "  inflating: flowers/flowers/sunflower/23356825566_f5885875f2.jpg  \n",
            "  inflating: flowers/flowers/sunflower/235651658_a7b3e7cbdd.jpg  \n",
            "  inflating: flowers/flowers/sunflower/23645265812_24352ff6bf.jpg  \n",
            "  inflating: flowers/flowers/sunflower/23894449029_bf0f34d35d_n.jpg  \n",
            "  inflating: flowers/flowers/sunflower/2425164088_4a5d2cdf21_n.jpg  \n",
            "  inflating: flowers/flowers/sunflower/244074259_47ce6d3ef9.jpg  \n",
            "  inflating: flowers/flowers/sunflower/2442985637_8748180f69.jpg  \n",
            "  inflating: flowers/flowers/sunflower/2443095419_17b920d155_m.jpg  \n",
            "  inflating: flowers/flowers/sunflower/2443921986_d4582c123a.jpg  \n",
            "  inflating: flowers/flowers/sunflower/24459548_27a783feda.jpg  \n",
            "  inflating: flowers/flowers/sunflower/24459750_eb49f6e4cb_m.jpg  \n",
            "  inflating: flowers/flowers/sunflower/253586685_ee5b5f5232.jpg  \n",
            "  inflating: flowers/flowers/sunflower/2575272111_f04d79b9af_n.jpg  \n",
            "  inflating: flowers/flowers/sunflower/2588234269_c4bfd0d8b9_n.jpg  \n",
            "  inflating: flowers/flowers/sunflower/2588453601_66f2a03cca_n.jpg  \n",
            "  inflating: flowers/flowers/sunflower/2598973480_07de93e91d_n.jpg  \n",
            "  inflating: flowers/flowers/sunflower/2619000556_6634478e64_n.jpg  \n",
            "  inflating: flowers/flowers/sunflower/26254755_1bfc494ef1_n.jpg  \n",
            "  inflating: flowers/flowers/sunflower/265422922_bbbde781d2_m.jpg  \n",
            "  inflating: flowers/flowers/sunflower/265450085_6e9f276e2e.jpg  \n",
            "  inflating: flowers/flowers/sunflower/2678588376_6ca64a4a54_n.jpg  \n",
            "  inflating: flowers/flowers/sunflower/2689228449_e0be72cf00_n.jpg  \n",
            "  inflating: flowers/flowers/sunflower/2694860538_b95d60122c_m.jpg  \n",
            "  inflating: flowers/flowers/sunflower/2697194548_ec8f8de97c_n.jpg  \n",
            "  inflating: flowers/flowers/sunflower/2706304885_4916102704_n.jpg  \n",
            "  inflating: flowers/flowers/sunflower/2706736074_b0fba20b3e.jpg  \n",
            "  inflating: flowers/flowers/sunflower/2720698862_486d3ec079_m.jpg  \n",
            "  inflating: flowers/flowers/sunflower/2721638730_34a9b7a78b.jpg  \n",
            "  inflating: flowers/flowers/sunflower/2723995667_31f32294b4.jpg  \n",
            "  inflating: flowers/flowers/sunflower/2729206569_9dd2b5a3ed.jpg  \n",
            "  inflating: flowers/flowers/sunflower/2733109082_1351f6738a_n.jpg  \n",
            "  inflating: flowers/flowers/sunflower/27465811_9477c9d044.jpg  \n",
            "  inflating: flowers/flowers/sunflower/27466794_57e4fe5656.jpg  \n",
            "  inflating: flowers/flowers/sunflower/274846229_990e976683_n.jpg  \n",
            "  inflating: flowers/flowers/sunflower/274848710_5185cf33b1_n.jpg  \n",
            "  inflating: flowers/flowers/sunflower/2759796022_55bd47bfa2_n.jpg  \n",
            "  inflating: flowers/flowers/sunflower/2767658405_1e2043f44c_n.jpg  \n",
            "  inflating: flowers/flowers/sunflower/2767688889_b176b0c3fb.jpg  \n",
            "  inflating: flowers/flowers/sunflower/2803725948_5fd1f2fc99_n.jpg  \n",
            "  inflating: flowers/flowers/sunflower/2807106374_f422b5f00c.jpg  \n",
            "  inflating: flowers/flowers/sunflower/2816256710_a2d3616fae.jpg  \n",
            "  inflating: flowers/flowers/sunflower/2816503473_580306e772.jpg  \n",
            "  inflating: flowers/flowers/sunflower/2823659190_afdabee45c.jpg  \n",
            "  inflating: flowers/flowers/sunflower/28661674053_44f8034570_n.jpg  \n",
            "  inflating: flowers/flowers/sunflower/28664252816_1f24388ee6_n.jpg  \n",
            "  inflating: flowers/flowers/sunflower/287233531_74d4605814_m.jpg  \n",
            "  inflating: flowers/flowers/sunflower/2883115609_5a69357b5d_m.jpg  \n",
            "  inflating: flowers/flowers/sunflower/2883115621_4837267ea1_m.jpg  \n",
            "  inflating: flowers/flowers/sunflower/2894191705_a1d2d80c80.jpg  \n",
            "  inflating: flowers/flowers/sunflower/2895404754_6d9f9416d7_n.jpg  \n",
            "  inflating: flowers/flowers/sunflower/2927020075_54c9186797_n.jpg  \n",
            "  inflating: flowers/flowers/sunflower/2940221732_3507f3e927_n.jpg  \n",
            "  inflating: flowers/flowers/sunflower/29429430522_b7a22cd3df_n.jpg  \n",
            "  inflating: flowers/flowers/sunflower/2944298800_1984bd4f8a_m.jpg  \n",
            "  inflating: flowers/flowers/sunflower/2949654221_909b0c86a1_n.jpg  \n",
            "  inflating: flowers/flowers/sunflower/2950505226_529e013bf7_m.jpg  \n",
            "  inflating: flowers/flowers/sunflower/2960610406_b61930727f_n.jpg  \n",
            "  inflating: flowers/flowers/sunflower/29744655960_c0868b43da_n.jpg  \n",
            "  inflating: flowers/flowers/sunflower/29744656500_f17578f7e3_n.jpg  \n",
            "  inflating: flowers/flowers/sunflower/2979133707_84aab35b5d.jpg  \n",
            "  inflating: flowers/flowers/sunflower/2979297519_17a08b37f6_m.jpg  \n",
            "  inflating: flowers/flowers/sunflower/2980154410_bffd7a3452_n.jpg  \n",
            "  inflating: flowers/flowers/sunflower/29955482321_2d6269c164_n.jpg  \n",
            "  inflating: flowers/flowers/sunflower/2996573407_5e473b9359.jpg  \n",
            "  inflating: flowers/flowers/sunflower/29972905_4cc537ff4b_n.jpg  \n",
            "  inflating: flowers/flowers/sunflower/3001531316_efae24d37d_n.jpg  \n",
            "  inflating: flowers/flowers/sunflower/3001533700_1c62fb8b4a_n.jpg  \n",
            "  inflating: flowers/flowers/sunflower/3001536784_3bfd101b23_n.jpg  \n",
            "  inflating: flowers/flowers/sunflower/3062794421_295f8c2c4e.jpg  \n",
            "  inflating: flowers/flowers/sunflower/310380634_60e6c79989.jpg  \n",
            "  inflating: flowers/flowers/sunflower/3146795631_d062f233c1.jpg  \n",
            "  inflating: flowers/flowers/sunflower/3154932076_eff5c38231_n.jpg  \n",
            "  inflating: flowers/flowers/sunflower/3154932290_4bf43bd34f_n.jpg  \n",
            "  inflating: flowers/flowers/sunflower/3196753837_411b03682d_n.jpg  \n",
            "  inflating: flowers/flowers/sunflower/3311874685_7b9ef10f7e_m.jpg  \n",
            "  inflating: flowers/flowers/sunflower/3334350831_f8755a2095_n.jpg  \n",
            "  inflating: flowers/flowers/sunflower/34312487015_66a635fd71_n.jpg  \n",
            "  inflating: flowers/flowers/sunflower/34571133752_0a9337993c_n.jpg  \n",
            "  inflating: flowers/flowers/sunflower/34571252122_b3b1f45fac_n.jpg  \n",
            "  inflating: flowers/flowers/sunflower/34572755322_b43e90cae2_n.jpg  \n",
            "  inflating: flowers/flowers/sunflower/3466923719_b4b6df7f8b_n.jpg  \n",
            "  inflating: flowers/flowers/sunflower/34692938506_efda47f39a_n.jpg  \n",
            "  inflating: flowers/flowers/sunflower/34695605616_3b05bb1ef5_n.jpg  \n",
            "  inflating: flowers/flowers/sunflower/3514340206_efb8198a80_n.jpg  \n",
            "  inflating: flowers/flowers/sunflower/35477171_13cb52115c_n.jpg  \n",
            "  inflating: flowers/flowers/sunflower/3568114325_d6b1363497.jpg  \n",
            "  inflating: flowers/flowers/sunflower/3568925290_faf7aec3a0.jpg  \n",
            "  inflating: flowers/flowers/sunflower/3575811488_a31714472a.jpg  \n",
            "  inflating: flowers/flowers/sunflower/3594967811_697184b026_n.jpg  \n",
            "  inflating: flowers/flowers/sunflower/3596902268_049e33a2cb_n.jpg  \n",
            "  inflating: flowers/flowers/sunflower/3665455426_9cd1c3af4a_n.jpg  \n",
            "  inflating: flowers/flowers/sunflower/3681233294_4f06cd8903.jpg  \n",
            "  inflating: flowers/flowers/sunflower/3683873444_be4a609c46.jpg  \n",
            "  inflating: flowers/flowers/sunflower/3731075939_6c92d7fe68_m.jpg  \n",
            "  inflating: flowers/flowers/sunflower/3734999477_7f454081aa_n.jpg  \n",
            "  inflating: flowers/flowers/sunflower/3749090865_b90f28a585_n.jpg  \n",
            "  inflating: flowers/flowers/sunflower/3749091071_c146b33c74_n.jpg  \n",
            "  inflating: flowers/flowers/sunflower/3766264038_ea701c7131_n.jpg  \n",
            "  inflating: flowers/flowers/sunflower/3784815653_5df39aa9c2_m.jpg  \n",
            "  inflating: flowers/flowers/sunflower/3798841385_38142ea3c6_n.jpg  \n",
            "  inflating: flowers/flowers/sunflower/3815322974_52c12dbde3.jpg  \n",
            "  inflating: flowers/flowers/sunflower/3832945398_96509d192b.jpg  \n",
            "  inflating: flowers/flowers/sunflower/3838274225_36010c6254_n.jpg  \n",
            "  inflating: flowers/flowers/sunflower/3840761441_7c648abf4d_n.jpg  \n",
            "  inflating: flowers/flowers/sunflower/3846717708_ea11383ed8.jpg  \n",
            "  inflating: flowers/flowers/sunflower/3846907701_e13b66aa87.jpg  \n",
            "  inflating: flowers/flowers/sunflower/3848405800_8eea982c40.jpg  \n",
            "  inflating: flowers/flowers/sunflower/3858508462_db2b9692d1.jpg  \n",
            "  inflating: flowers/flowers/sunflower/3865206264_5d81584bba.jpg  \n",
            "  inflating: flowers/flowers/sunflower/3883895985_bd20198371.jpg  \n",
            "  inflating: flowers/flowers/sunflower/3884437548_ca8c36be3f_n.jpg  \n",
            "  inflating: flowers/flowers/sunflower/3888908087_462d0045f2_n.jpg  \n",
            "  inflating: flowers/flowers/sunflower/3889694330_6f84d123d5_n.jpg  \n",
            "  inflating: flowers/flowers/sunflower/3889699518_77bf85bf44_n.jpg  \n",
            "  inflating: flowers/flowers/sunflower/3893436870_034b79d118_n.jpg  \n",
            "  inflating: flowers/flowers/sunflower/3894586562_5dbbdc4354_n.jpg  \n",
            "  inflating: flowers/flowers/sunflower/3897174387_07aac6bf5f_n.jpg  \n",
            "  inflating: flowers/flowers/sunflower/3912497870_a2f91c3a65_n.jpg  \n",
            "  inflating: flowers/flowers/sunflower/3912497888_e7a5905bc3_n.jpg  \n",
            "  inflating: flowers/flowers/sunflower/3920137864_e922ab25b4_n.jpg  \n",
            "  inflating: flowers/flowers/sunflower/3922005347_7b6fb82fcd.jpg  \n",
            "  inflating: flowers/flowers/sunflower/39271782_b4335d09ae_n.jpg  \n",
            "  inflating: flowers/flowers/sunflower/3946535195_9382dcb951_n.jpg  \n",
            "  inflating: flowers/flowers/sunflower/3946535709_78613461cb_n.jpg  \n",
            "  inflating: flowers/flowers/sunflower/3950020811_dab89bebc0_n.jpg  \n",
            "  inflating: flowers/flowers/sunflower/3951246342_930138610b_n.jpg  \n",
            "  inflating: flowers/flowers/sunflower/4019748730_ee09b39a43.jpg  \n",
            "  inflating: flowers/flowers/sunflower/40410686_272bc66faf_m.jpg  \n",
            "  inflating: flowers/flowers/sunflower/40410814_fba3837226_n.jpg  \n",
            "  inflating: flowers/flowers/sunflower/40410963_3ac280f23a_n.jpg  \n",
            "  inflating: flowers/flowers/sunflower/40411019_526f3fc8d9_m.jpg  \n",
            "  inflating: flowers/flowers/sunflower/40411100_7fbe10ec0f_n.jpg  \n",
            "  inflating: flowers/flowers/sunflower/4042816698_578a1d599e.jpg  \n",
            "  inflating: flowers/flowers/sunflower/4080112931_cb20b3d51a_n.jpg  \n",
            "  inflating: flowers/flowers/sunflower/4110787181_f73f12d107_m.jpg  \n",
            "  inflating: flowers/flowers/sunflower/4160805260_cf758daeae_n.jpg  \n",
            "  inflating: flowers/flowers/sunflower/417251603_69f0ee57a9_m.jpg  \n",
            "  inflating: flowers/flowers/sunflower/418056361_1dfac1c151_n.jpg  \n",
            "  inflating: flowers/flowers/sunflower/4186808407_06688641e2_n.jpg  \n",
            "  inflating: flowers/flowers/sunflower/4191299785_a4faca9b74_n.jpg  \n",
            "  inflating: flowers/flowers/sunflower/4235259239_21f2eb4f2e.jpg  \n",
            "  inflating: flowers/flowers/sunflower/4271193206_666ef60aa0_m.jpg  \n",
            "  inflating: flowers/flowers/sunflower/4341530649_c17bbc5d01.jpg  \n",
            "  inflating: flowers/flowers/sunflower/4398771472_44f2a0c162_n.jpg  \n",
            "  inflating: flowers/flowers/sunflower/44079668_34dfee3da1_n.jpg  \n",
            "  inflating: flowers/flowers/sunflower/4414080766_5116e8084e.jpg  \n",
            "  inflating: flowers/flowers/sunflower/4414081772_8a0e8a1327.jpg  \n",
            "  inflating: flowers/flowers/sunflower/4414083164_3f285f8ac5.jpg  \n",
            "  inflating: flowers/flowers/sunflower/4414084638_03d2db38ae.jpg  \n",
            "  inflating: flowers/flowers/sunflower/4489516263_e49fe82637_n.jpg  \n",
            "  inflating: flowers/flowers/sunflower/45045003_30bbd0a142_m.jpg  \n",
            "  inflating: flowers/flowers/sunflower/45045005_57354ee844.jpg  \n",
            "  inflating: flowers/flowers/sunflower/4528959364_fa544b0f4e_m.jpg  \n",
            "  inflating: flowers/flowers/sunflower/4623843480_23e3fb8dcc_n.jpg  \n",
            "  inflating: flowers/flowers/sunflower/4625255191_26e17a28c9_n.jpg  \n",
            "  inflating: flowers/flowers/sunflower/4626721387_88f89d5cc9_n.jpg  \n",
            "  inflating: flowers/flowers/sunflower/4664737020_b4c61aacd3_n.jpg  \n",
            "  inflating: flowers/flowers/sunflower/4664767140_fe01231322_n.jpg  \n",
            "  inflating: flowers/flowers/sunflower/4673984698_6ec14d5b79.jpg  \n",
            "  inflating: flowers/flowers/sunflower/4689061249_6498da5013.jpg  \n",
            "  inflating: flowers/flowers/sunflower/4745980581_a0b7585258_n.jpg  \n",
            "  inflating: flowers/flowers/sunflower/4745985619_249078cafa_n.jpg  \n",
            "  inflating: flowers/flowers/sunflower/4745991955_6804568ae0_n.jpg  \n",
            "  inflating: flowers/flowers/sunflower/4746638094_f5336788a0_n.jpg  \n",
            "  inflating: flowers/flowers/sunflower/4746643626_02b2d056a2_n.jpg  \n",
            "  inflating: flowers/flowers/sunflower/4746648726_e37a2de16d_n.jpg  \n",
            "  inflating: flowers/flowers/sunflower/4746668678_0e2693b1b9_n.jpg  \n",
            "  inflating: flowers/flowers/sunflower/4755075329_1fccc69d4e.jpg  \n",
            "  inflating: flowers/flowers/sunflower/4755705724_976621a1e7.jpg  \n",
            "  inflating: flowers/flowers/sunflower/4794180388_c7b9294aef_n.jpg  \n",
            "  inflating: flowers/flowers/sunflower/4795924955_202448d8ea_n.jpg  \n",
            "  inflating: flowers/flowers/sunflower/4798378647_ca199b18c0_n.jpg  \n",
            "  inflating: flowers/flowers/sunflower/4804434999_bf2187e96a_n.jpg  \n",
            "  inflating: flowers/flowers/sunflower/4805544785_a63241f6d0_n.jpg  \n",
            "  inflating: flowers/flowers/sunflower/4806174512_e04475b766_n.jpg  \n",
            "  inflating: flowers/flowers/sunflower/4813483281_f3707a71e7_n.jpg  \n",
            "  inflating: flowers/flowers/sunflower/4814106562_7c3564d2d9_n.jpg  \n",
            "  inflating: flowers/flowers/sunflower/4816636411_0135bfe2c9_n.jpg  \n",
            "  inflating: flowers/flowers/sunflower/4818994715_9d90527d18_n.jpg  \n",
            "  inflating: flowers/flowers/sunflower/4821232343_7e0bcfbfdf_n.jpg  \n",
            "  inflating: flowers/flowers/sunflower/4823873762_5f79b0c656_n.jpg  \n",
            "  inflating: flowers/flowers/sunflower/4831577091_f56157a5d5_n.jpg  \n",
            "  inflating: flowers/flowers/sunflower/4846786944_2832c5c8b8.jpg  \n",
            "  inflating: flowers/flowers/sunflower/4847062576_bae870479c_n.jpg  \n",
            "  inflating: flowers/flowers/sunflower/4848279231_c4960e28b2_n.jpg  \n",
            "  inflating: flowers/flowers/sunflower/4868595281_1e58083785.jpg  \n",
            "  inflating: flowers/flowers/sunflower/4869189730_f47c124cda_n.jpg  \n",
            "  inflating: flowers/flowers/sunflower/4871455214_8b5fb87ab6_n.jpg  \n",
            "  inflating: flowers/flowers/sunflower/4872284527_ff52128b97.jpg  \n",
            "  inflating: flowers/flowers/sunflower/4872892690_52dc25b0b4.jpg  \n",
            "  inflating: flowers/flowers/sunflower/4877195645_791c3a83b9_m.jpg  \n",
            "  inflating: flowers/flowers/sunflower/4878447831_e904c60cf8_n.jpg  \n",
            "  inflating: flowers/flowers/sunflower/4890268276_563f40a193.jpg  \n",
            "  inflating: flowers/flowers/sunflower/4893660821_eb7f02bef3_n.jpg  \n",
            "  inflating: flowers/flowers/sunflower/4895122831_83db2ba2d0_n.jpg  \n",
            "  inflating: flowers/flowers/sunflower/4895124535_11a2bb704c_m.jpg  \n",
            "  inflating: flowers/flowers/sunflower/4895718876_0246882882_n.jpg  \n",
            "  inflating: flowers/flowers/sunflower/4895719476_bd3b6bd6fd_n.jpg  \n",
            "  inflating: flowers/flowers/sunflower/4895720722_8247f2015b_n.jpg  \n",
            "  inflating: flowers/flowers/sunflower/4895721242_89014e723c_n.jpg  \n",
            "  inflating: flowers/flowers/sunflower/4895721788_f10208ab77_n.jpg  \n",
            "  inflating: flowers/flowers/sunflower/4902448474_6850b85765_n.jpg  \n",
            "  inflating: flowers/flowers/sunflower/4914793782_d0ea760791.jpg  \n",
            "  inflating: flowers/flowers/sunflower/4932143849_018486cbf7.jpg  \n",
            "  inflating: flowers/flowers/sunflower/4932144003_cbffc89bf0.jpg  \n",
            "  inflating: flowers/flowers/sunflower/4932735362_6e1017140f.jpg  \n",
            "  inflating: flowers/flowers/sunflower/4932735566_2327bf319a.jpg  \n",
            "  inflating: flowers/flowers/sunflower/4932736136_0115955987.jpg  \n",
            "  inflating: flowers/flowers/sunflower/4932736308_827012cff2.jpg  \n",
            "  inflating: flowers/flowers/sunflower/4933228903_9ae82d0b9d.jpg  \n",
            "  inflating: flowers/flowers/sunflower/4933229357_1c5cc03f65_m.jpg  \n",
            "  inflating: flowers/flowers/sunflower/4933823194_33f6e32c5a.jpg  \n",
            "  inflating: flowers/flowers/sunflower/4940287066_385afd9c18_m.jpg  \n",
            "  inflating: flowers/flowers/sunflower/4942258704_c4146b710a_n.jpg  \n",
            "  inflating: flowers/flowers/sunflower/4977385375_e271e282f9.jpg  \n",
            "  inflating: flowers/flowers/sunflower/4980406384_791774d953.jpg  \n",
            "  inflating: flowers/flowers/sunflower/4989952542_35f2cdd5e2_n.jpg  \n",
            "  inflating: flowers/flowers/sunflower/5004121118_e9393e60d0_n.jpg  \n",
            "  inflating: flowers/flowers/sunflower/5007598545_90e08e81c1_n.jpg  \n",
            "  inflating: flowers/flowers/sunflower/5015462205_440898fe41_n.jpg  \n",
            "  inflating: flowers/flowers/sunflower/5018120483_cc0421b176_m.jpg  \n",
            "  inflating: flowers/flowers/sunflower/5020805135_1219d7523d.jpg  \n",
            "  inflating: flowers/flowers/sunflower/5020805619_6c710793f7.jpg  \n",
            "  inflating: flowers/flowers/sunflower/5025805406_033cb03475_n.jpg  \n",
            "  inflating: flowers/flowers/sunflower/5027895361_ace3b731e5_n.jpg  \n",
            "  inflating: flowers/flowers/sunflower/5028817729_f04d32bac8_n.jpg  \n",
            "  inflating: flowers/flowers/sunflower/5032376020_2ed312306c.jpg  \n",
            "  inflating: flowers/flowers/sunflower/5037531593_e2daf4c7f1.jpg  \n",
            "  inflating: flowers/flowers/sunflower/5037790727_57c527494f.jpg  \n",
            "  inflating: flowers/flowers/sunflower/5042785753_392cc4e74d_n.jpg  \n",
            "  inflating: flowers/flowers/sunflower/5043404000_9bc16cb7e5_m.jpg  \n",
            "  inflating: flowers/flowers/sunflower/5043409092_5b12cc985a_m.jpg  \n",
            "  inflating: flowers/flowers/sunflower/5043409856_395300dbe5_m.jpg  \n",
            "  inflating: flowers/flowers/sunflower/5067864967_19928ca94c_m.jpg  \n",
            "  inflating: flowers/flowers/sunflower/5076821914_c21b58fd4c_m.jpg  \n",
            "  inflating: flowers/flowers/sunflower/5091281256_648c37d7c1_n.jpg  \n",
            "  inflating: flowers/flowers/sunflower/50987813_7484bfbcdf.jpg  \n",
            "  inflating: flowers/flowers/sunflower/5115925320_ed9ca5b2d1_n.jpg  \n",
            "  inflating: flowers/flowers/sunflower/5139969631_743880e01d_n.jpg  \n",
            "  inflating: flowers/flowers/sunflower/5139969871_c9046bdaa7_n.jpg  \n",
            "  inflating: flowers/flowers/sunflower/5139971615_434ff8ed8b_n.jpg  \n",
            "  inflating: flowers/flowers/sunflower/5139977283_530c508603_n.jpg  \n",
            "  inflating: flowers/flowers/sunflower/5139977423_d413b23fde_m.jpg  \n",
            "  inflating: flowers/flowers/sunflower/5139977579_ea2dd6a322_m.jpg  \n",
            "  inflating: flowers/flowers/sunflower/5180260869_1db7ff98e4_n.jpg  \n",
            "  inflating: flowers/flowers/sunflower/5180859236_60aa57ff9b_n.jpg  \n",
            "  inflating: flowers/flowers/sunflower/5180861654_0741222c62_n.jpg  \n",
            "  inflating: flowers/flowers/sunflower/5223643767_d8beb7e410.jpg  \n",
            "  inflating: flowers/flowers/sunflower/5231868667_f0baa71feb_n.jpg  \n",
            "  inflating: flowers/flowers/sunflower/5293283002_9b17f085f7_m.jpg  \n",
            "  inflating: flowers/flowers/sunflower/5330608174_b49f7a4c48_m.jpg  \n",
            "  inflating: flowers/flowers/sunflower/5339004958_a0a6f385fd_m.jpg  \n",
            "  inflating: flowers/flowers/sunflower/5357144886_b78f4782eb.jpg  \n",
            "  inflating: flowers/flowers/sunflower/5437996076_cf7e2ac32e_n.jpg  \n",
            "  inflating: flowers/flowers/sunflower/5492906452_80943bfd04.jpg  \n",
            "  inflating: flowers/flowers/sunflower/5526324308_b333da0e57_n.jpg  \n",
            "  inflating: flowers/flowers/sunflower/5556633113_0a04f5ed8a_n.jpg  \n",
            "  inflating: flowers/flowers/sunflower/5738580862_e128192f75.jpg  \n",
            "  inflating: flowers/flowers/sunflower/5830614551_e460a1215c.jpg  \n",
            "  inflating: flowers/flowers/sunflower/58636535_bc53ef0a21_m.jpg  \n",
            "  inflating: flowers/flowers/sunflower/5896354497_6a19162741.jpg  \n",
            "  inflating: flowers/flowers/sunflower/5917253022_4e3142d48b_n.jpg  \n",
            "  inflating: flowers/flowers/sunflower/5923085671_f81dd1cf6f.jpg  \n",
            "  inflating: flowers/flowers/sunflower/5923085891_27617463fe.jpg  \n",
            "  inflating: flowers/flowers/sunflower/5923649444_a823e534e9.jpg  \n",
            "  inflating: flowers/flowers/sunflower/5927432662_3ffd2461c2_n.jpg  \n",
            "  inflating: flowers/flowers/sunflower/5933438337_b26a81ea81_n.jpg  \n",
            "  inflating: flowers/flowers/sunflower/5933438461_7607cf06e2_n.jpg  \n",
            "  inflating: flowers/flowers/sunflower/5933438547_0dea1fddd6_n.jpg  \n",
            "  inflating: flowers/flowers/sunflower/5937355165_1dc7b2cbf9_n.jpg  \n",
            "  inflating: flowers/flowers/sunflower/5937914300_bfca430439_n.jpg  \n",
            "  inflating: flowers/flowers/sunflower/5951665793_8ae4807cbd_n.jpg  \n",
            "  inflating: flowers/flowers/sunflower/5952223760_85972671d6_n.jpg  \n",
            "  inflating: flowers/flowers/sunflower/5955475577_3d923874d9_n.jpg  \n",
            "  inflating: flowers/flowers/sunflower/5955500463_6c08cb199e.jpg  \n",
            "  inflating: flowers/flowers/sunflower/5955501969_e42f038a6f_n.jpg  \n",
            "  inflating: flowers/flowers/sunflower/5956626941_2885465093_n.jpg  \n",
            "  inflating: flowers/flowers/sunflower/5956627065_075880a1cc_n.jpg  \n",
            "  inflating: flowers/flowers/sunflower/5956627147_4d51393479_n.jpg  \n",
            "  inflating: flowers/flowers/sunflower/5957007921_62333981d2_n.jpg  \n",
            "  inflating: flowers/flowers/sunflower/5957186948_b2afd80d70_n.jpg  \n",
            "  inflating: flowers/flowers/sunflower/5963905278_6a8efc6b27_n.jpg  \n",
            "  inflating: flowers/flowers/sunflower/5966729883_67f4fede93.jpg  \n",
            "  inflating: flowers/flowers/sunflower/5967283168_90dd4daf28_n.jpg  \n",
            "  inflating: flowers/flowers/sunflower/5967284308_85714d8cf7_m.jpg  \n",
            "  inflating: flowers/flowers/sunflower/5970300143_36b42437de_n.jpg  \n",
            "  inflating: flowers/flowers/sunflower/5970301989_fe3a68aac8_m.jpg  \n",
            "  inflating: flowers/flowers/sunflower/5970868068_fe1c8b282e_n.jpg  \n",
            "  inflating: flowers/flowers/sunflower/5970869550_d7d9fabebd_n.jpg  \n",
            "  inflating: flowers/flowers/sunflower/5973935729_2868f2db1f_n.jpg  \n",
            "  inflating: flowers/flowers/sunflower/5979111025_3bcae48ae6_n.jpg  \n",
            "  inflating: flowers/flowers/sunflower/5979111199_495884b578_n.jpg  \n",
            "  inflating: flowers/flowers/sunflower/5979111555_61b400c070_n.jpg  \n",
            "  inflating: flowers/flowers/sunflower/5979668702_fdaec9e164_n.jpg  \n",
            "  inflating: flowers/flowers/sunflower/5979669004_d9736206c9_n.jpg  \n",
            "  inflating: flowers/flowers/sunflower/5991628433_e1d853e40d_n.jpg  \n",
            "  inflating: flowers/flowers/sunflower/5994569021_749d5e2da3_n.jpg  \n",
            "  inflating: flowers/flowers/sunflower/5994572653_ea98afa3af_n.jpg  \n",
            "  inflating: flowers/flowers/sunflower/5994586159_1dd99d66b4_n.jpg  \n",
            "  inflating: flowers/flowers/sunflower/5995136822_8e1eed76f5_n.jpg  \n",
            "  inflating: flowers/flowers/sunflower/5998488415_a6bacd9f83.jpg  \n",
            "  inflating: flowers/flowers/sunflower/5999024446_5721493894.jpg  \n",
            "  inflating: flowers/flowers/sunflower/6002598514_22a9a404c7_n.jpg  \n",
            "  inflating: flowers/flowers/sunflower/6042014768_b57f0bfc79_n.jpg  \n",
            "  inflating: flowers/flowers/sunflower/6050020905_881295ac72_n.jpg  \n",
            "  inflating: flowers/flowers/sunflower/6053739964_a1d9ab3ed1_n.jpg  \n",
            "  inflating: flowers/flowers/sunflower/6056460102_f5569092a6_n.jpg  \n",
            "  inflating: flowers/flowers/sunflower/6061175433_95fdb12f32_n.jpg  \n",
            "  inflating: flowers/flowers/sunflower/6061177447_d8ce96aee0.jpg  \n",
            "  inflating: flowers/flowers/sunflower/6074427492_1b5bab7848_n.jpg  \n",
            "  inflating: flowers/flowers/sunflower/6080086410_17a02dcfb8.jpg  \n",
            "  inflating: flowers/flowers/sunflower/6104713425_8a3277e34a.jpg  \n",
            "  inflating: flowers/flowers/sunflower/6112510436_9fe06e695a_n.jpg  \n",
            "  inflating: flowers/flowers/sunflower/6113021380_7546bf7ac7_n.jpg  \n",
            "  inflating: flowers/flowers/sunflower/6116210027_61923f4b64.jpg  \n",
            "  inflating: flowers/flowers/sunflower/6122711533_2c219f0392_n.jpg  \n",
            "  inflating: flowers/flowers/sunflower/6125761554_4e72819ce4_m.jpg  \n",
            "  inflating: flowers/flowers/sunflower/6133988570_9dc778e622_m.jpg  \n",
            "  inflating: flowers/flowers/sunflower/6140661443_bb48344226.jpg  \n",
            "  inflating: flowers/flowers/sunflower/6140693467_211a135b6d.jpg  \n",
            "  inflating: flowers/flowers/sunflower/6140808687_88df0fd733.jpg  \n",
            "  inflating: flowers/flowers/sunflower/6140892289_92805cc590.jpg  \n",
            "  inflating: flowers/flowers/sunflower/6141150299_b46a64e4de.jpg  \n",
            "  inflating: flowers/flowers/sunflower/6141199476_9b6d383fd9.jpg  \n",
            "  inflating: flowers/flowers/sunflower/6145005439_ef6e07f9c6_n.jpg  \n",
            "  inflating: flowers/flowers/sunflower/6166888942_7058198713_m.jpg  \n",
            "  inflating: flowers/flowers/sunflower/6198569425_e953b9e6cc_m.jpg  \n",
            "  inflating: flowers/flowers/sunflower/6198569587_23c3693328_m.jpg  \n",
            "  inflating: flowers/flowers/sunflower/6199086734_b7ddc65816_m.jpg  \n",
            "  inflating: flowers/flowers/sunflower/6204049536_1ac4f09232_n.jpg  \n",
            "  inflating: flowers/flowers/sunflower/6239758929_50e5e5a476_m.jpg  \n",
            "  inflating: flowers/flowers/sunflower/6250692311_cb60c85ee9_n.jpg  \n",
            "  inflating: flowers/flowers/sunflower/6265084065_7a8b30cc6e_n.jpg  \n",
            "  inflating: flowers/flowers/sunflower/6482016425_d8fab362f6.jpg  \n",
            "  inflating: flowers/flowers/sunflower/6482016439_b0d06dac04.jpg  \n",
            "  inflating: flowers/flowers/sunflower/6495554833_86eb8faa8e_n.jpg  \n",
            "  inflating: flowers/flowers/sunflower/6495559397_61d01c0c57.jpg  \n",
            "  inflating: flowers/flowers/sunflower/6606741847_f0198d83ff.jpg  \n",
            "  inflating: flowers/flowers/sunflower/6606743797_c90c669757.jpg  \n",
            "  inflating: flowers/flowers/sunflower/6606746467_a668c8d417.jpg  \n",
            "  inflating: flowers/flowers/sunflower/6606749757_b98a4ba403.jpg  \n",
            "  inflating: flowers/flowers/sunflower/6606753075_72ee32aa30_m.jpg  \n",
            "  inflating: flowers/flowers/sunflower/6606806621_5267acdd38.jpg  \n",
            "  inflating: flowers/flowers/sunflower/6606809995_edee55b770_m.jpg  \n",
            "  inflating: flowers/flowers/sunflower/6606813305_c992231d29_m.jpg  \n",
            "  inflating: flowers/flowers/sunflower/6606815161_3c4372760f.jpg  \n",
            "  inflating: flowers/flowers/sunflower/6606817351_10f6e43a09.jpg  \n",
            "  inflating: flowers/flowers/sunflower/6606820461_952c450f90_n.jpg  \n",
            "  inflating: flowers/flowers/sunflower/6606823367_e89dc52a95_n.jpg  \n",
            "  inflating: flowers/flowers/sunflower/6627521877_6e43fb3c49_m.jpg  \n",
            "  inflating: flowers/flowers/sunflower/678714585_addc9aaaef.jpg  \n",
            "  inflating: flowers/flowers/sunflower/6866250080_ae80df0cd5_m.jpg  \n",
            "  inflating: flowers/flowers/sunflower/6908789145_814d448bb1_n.jpg  \n",
            "  inflating: flowers/flowers/sunflower/6953297_8576bf4ea3.jpg  \n",
            "  inflating: flowers/flowers/sunflower/6958724008_12259943a7.jpg  \n",
            "  inflating: flowers/flowers/sunflower/7012364067_5ffc7654c9_m.jpg  \n",
            "  inflating: flowers/flowers/sunflower/7012366081_019c8a17a4_m.jpg  \n",
            "  inflating: flowers/flowers/sunflower/7176723954_e41618edc1_n.jpg  \n",
            "  inflating: flowers/flowers/sunflower/7176729016_d73ff2211e.jpg  \n",
            "  inflating: flowers/flowers/sunflower/7176729812_7c053921fb_m.jpg  \n",
            "  inflating: flowers/flowers/sunflower/7176736574_14446539cb_n.jpg  \n",
            "  inflating: flowers/flowers/sunflower/7270375648_79f0caef42_n.jpg  \n",
            "  inflating: flowers/flowers/sunflower/7369484298_332f69bd88_n.jpg  \n",
            "  inflating: flowers/flowers/sunflower/7492109308_bbbb982ebe_n.jpg  \n",
            "  inflating: flowers/flowers/sunflower/7510240282_87554c7418_n.jpg  \n",
            "  inflating: flowers/flowers/sunflower/7510262868_cf7d6f6f25_n.jpg  \n",
            "  inflating: flowers/flowers/sunflower/7510285306_ba8f80c382_n.jpg  \n",
            "  inflating: flowers/flowers/sunflower/7581713708_8eae6794f2.jpg  \n",
            "  inflating: flowers/flowers/sunflower/7586498522_4dcab1c8d2_m.jpg  \n",
            "  inflating: flowers/flowers/sunflower/7603036176_9e8967cd21.jpg  \n",
            "  inflating: flowers/flowers/sunflower/7652532108_01ef94c476.jpg  \n",
            "  inflating: flowers/flowers/sunflower/7654774598_6b715a8d3e.jpg  \n",
            "  inflating: flowers/flowers/sunflower/7721658400_0dec46d225.jpg  \n",
            "  inflating: flowers/flowers/sunflower/7728953426_abd179ab63.jpg  \n",
            "  inflating: flowers/flowers/sunflower/7791014076_07a897cb85_n.jpg  \n",
            "  inflating: flowers/flowers/sunflower/7804213238_1d92ae5edb_m.jpg  \n",
            "  inflating: flowers/flowers/sunflower/7820305664_82148f3bfb_n.jpg  \n",
            "  inflating: flowers/flowers/sunflower/7820398908_4316bbba45.jpg  \n",
            "  inflating: flowers/flowers/sunflower/7820523050_76c8caa025.jpg  \n",
            "  inflating: flowers/flowers/sunflower/7820626738_3be6a52e4e_n.jpg  \n",
            "  inflating: flowers/flowers/sunflower/7857605684_fc86440c23.jpg  \n",
            "  inflating: flowers/flowers/sunflower/7935826214_9b57628203_m.jpg  \n",
            "  inflating: flowers/flowers/sunflower/8014734302_65c6e83bb4_m.jpg  \n",
            "  inflating: flowers/flowers/sunflower/8014735546_3db46bb1fe_n.jpg  \n",
            "  inflating: flowers/flowers/sunflower/8021568040_f891223c44_n.jpg  \n",
            "  inflating: flowers/flowers/sunflower/8038712786_5bdeed3c7f_m.jpg  \n",
            "  inflating: flowers/flowers/sunflower/8041242566_752def876e_n.jpg  \n",
            "  inflating: flowers/flowers/sunflower/8071460469_a7c2c34b97_n.jpg  \n",
            "  inflating: flowers/flowers/sunflower/8081530919_c882d46bb0_n.jpg  \n",
            "  inflating: flowers/flowers/sunflower/8174935013_b16626b49b.jpg  \n",
            "  inflating: flowers/flowers/sunflower/8174935717_d19367d502.jpg  \n",
            "  inflating: flowers/flowers/sunflower/8174941335_56389b53e9_n.jpg  \n",
            "  inflating: flowers/flowers/sunflower/8174970894_7f9a26be7e.jpg  \n",
            "  inflating: flowers/flowers/sunflower/8174972548_0051c2d431.jpg  \n",
            "  inflating: flowers/flowers/sunflower/8192234807_fed4a46f1a_n.jpg  \n",
            "  inflating: flowers/flowers/sunflower/8202034834_ee0ee91e04_n.jpg  \n",
            "  inflating: flowers/flowers/sunflower/821368661_4ab4343f5a.jpg  \n",
            "  inflating: flowers/flowers/sunflower/8234846550_fdaf326dbe.jpg  \n",
            "  inflating: flowers/flowers/sunflower/8249000137_eddfffa380_n.jpg  \n",
            "  inflating: flowers/flowers/sunflower/8265023280_713f2c69d0_m.jpg  \n",
            "  inflating: flowers/flowers/sunflower/8266310743_02095e782d_m.jpg  \n",
            "  inflating: flowers/flowers/sunflower/8292914969_4a76608250_m.jpg  \n",
            "  inflating: flowers/flowers/sunflower/8368015811_2893411cf7_n.jpg  \n",
            "  inflating: flowers/flowers/sunflower/8433716268_8b7b4083bc_n.jpg  \n",
            "  inflating: flowers/flowers/sunflower/8478248531_1a16e232b5.jpg  \n",
            "  inflating: flowers/flowers/sunflower/8480886751_71d88bfdc0_n.jpg  \n",
            "  inflating: flowers/flowers/sunflower/8481979626_98c9f88848_n.jpg  \n",
            "  inflating: flowers/flowers/sunflower/8543642705_b841b0e5f6.jpg  \n",
            "  inflating: flowers/flowers/sunflower/8563099326_8be9177101.jpg  \n",
            "  inflating: flowers/flowers/sunflower/857698097_8068a2c135_n.jpg  \n",
            "  inflating: flowers/flowers/sunflower/864957037_c75373d1c5.jpg  \n",
            "  inflating: flowers/flowers/sunflower/8705462313_4458d64cd4.jpg  \n",
            "  inflating: flowers/flowers/sunflower/877083343_e3338c4125.jpg  \n",
            "  inflating: flowers/flowers/sunflower/8928614683_6c168edcfc.jpg  \n",
            "  inflating: flowers/flowers/sunflower/8928658373_fdca5ff1b8.jpg  \n",
            "  inflating: flowers/flowers/sunflower/8929213942_5544191250_n.jpg  \n",
            "  inflating: flowers/flowers/sunflower/8929274876_17efc1774a_n.jpg  \n",
            "  inflating: flowers/flowers/sunflower/8929288228_6795bcb1fe.jpg  \n",
            "  inflating: flowers/flowers/sunflower/8935252770_263d682fe8_n.jpg  \n",
            "  inflating: flowers/flowers/sunflower/9056495873_66e351b17c_n.jpg  \n",
            "  inflating: flowers/flowers/sunflower/9111896677_ff0b6fa6f6_n.jpg  \n",
            "  inflating: flowers/flowers/sunflower/9206376642_8348ba5c7a.jpg  \n",
            "  inflating: flowers/flowers/sunflower/9213511121_836a458021_m.jpg  \n",
            "  inflating: flowers/flowers/sunflower/9216286162_6ceefdd1b4_m.jpg  \n",
            "  inflating: flowers/flowers/sunflower/9216286876_289a4779f7.jpg  \n",
            "  inflating: flowers/flowers/sunflower/9231555352_d2dd8f8e68_m.jpg  \n",
            "  inflating: flowers/flowers/sunflower/9240005603_6a9b71dcea_n.jpg  \n",
            "  inflating: flowers/flowers/sunflower/9240129413_f240ce7866_n.jpg  \n",
            "  inflating: flowers/flowers/sunflower/9246304620_768d1f54d7_n.jpg  \n",
            "  inflating: flowers/flowers/sunflower/9302733302_2cb92cf275.jpg  \n",
            "  inflating: flowers/flowers/sunflower/9309473873_9d62b9082e.jpg  \n",
            "  inflating: flowers/flowers/sunflower/9339697826_88c9c4dc50.jpg  \n",
            "  inflating: flowers/flowers/sunflower/9359374034_21fb12d613_n.jpg  \n",
            "  inflating: flowers/flowers/sunflower/9375675309_987d32f99e_n.jpg  \n",
            "  inflating: flowers/flowers/sunflower/9381481549_5a5d503e42_n.jpg  \n",
            "  inflating: flowers/flowers/sunflower/9384867134_83af458a19_n.jpg  \n",
            "  inflating: flowers/flowers/sunflower/9399711558_7cb9547cd3_n.jpg  \n",
            "  inflating: flowers/flowers/sunflower/9400904374_37723396e3_n.jpg  \n",
            "  inflating: flowers/flowers/sunflower/9410186154_465642ed35.jpg  \n",
            "  inflating: flowers/flowers/sunflower/9427945592_07a2676945_n.jpg  \n",
            "  inflating: flowers/flowers/sunflower/9431890901_cd11bda584_n.jpg  \n",
            "  inflating: flowers/flowers/sunflower/9431896325_23bf6e8761.jpg  \n",
            "  inflating: flowers/flowers/sunflower/9432335346_e298e47713_n.jpg  \n",
            "  inflating: flowers/flowers/sunflower/9445830851_e9a126fd1d_n.jpg  \n",
            "  inflating: flowers/flowers/sunflower/9448615838_04078d09bf_n.jpg  \n",
            "  inflating: flowers/flowers/sunflower/9460336948_6ae968be93.jpg  \n",
            "  inflating: flowers/flowers/sunflower/9461693602_710f20904f.jpg  \n",
            "  inflating: flowers/flowers/sunflower/9479261399_cebfbff670_n.jpg  \n",
            "  inflating: flowers/flowers/sunflower/9481563239_01b585b41d_n.jpg  \n",
            "  inflating: flowers/flowers/sunflower/9482209981_bf7bf6022b_m.jpg  \n",
            "  inflating: flowers/flowers/sunflower/9483429732_5ae73eb672_n.jpg  \n",
            "  inflating: flowers/flowers/sunflower/9484354480_07ff2ef0a6.jpg  \n",
            "  inflating: flowers/flowers/sunflower/9485002920_59af6f4cac.jpg  \n",
            "  inflating: flowers/flowers/sunflower/9491955955_d0b2c83834.jpg  \n",
            "  inflating: flowers/flowers/sunflower/9497774249_7f5ae70927_m.jpg  \n",
            "  inflating: flowers/flowers/sunflower/9497774935_a7daec5433_n.jpg  \n",
            "  inflating: flowers/flowers/sunflower/9511172241_8aee411e2e.jpg  \n",
            "  inflating: flowers/flowers/sunflower/9535500195_543d0b729b.jpg  \n",
            "  inflating: flowers/flowers/sunflower/9538283930_0faea083bb_n.jpg  \n",
            "  inflating: flowers/flowers/sunflower/9555824387_32b151e9b0_m.jpg  \n",
            "  inflating: flowers/flowers/sunflower/9555827829_74e6f60f1d_m.jpg  \n",
            "  inflating: flowers/flowers/sunflower/9558627290_353a14ba0b_m.jpg  \n",
            "  inflating: flowers/flowers/sunflower/9558628596_722c29ec60_m.jpg  \n",
            "  inflating: flowers/flowers/sunflower/9558630626_52a1b7d702_m.jpg  \n",
            "  inflating: flowers/flowers/sunflower/9558632814_e78a780f4f.jpg  \n",
            "  inflating: flowers/flowers/sunflower/9564240106_0577e919da_n.jpg  \n",
            "  inflating: flowers/flowers/sunflower/9588522189_db6166f67f.jpg  \n",
            "  inflating: flowers/flowers/sunflower/9599534035_ae4df582b6.jpg  \n",
            "  inflating: flowers/flowers/sunflower/9610098411_f1613c8e14.jpg  \n",
            "  inflating: flowers/flowers/sunflower/9610371852_179e7781ce.jpg  \n",
            "  inflating: flowers/flowers/sunflower/9610373158_5250bce6ac_n.jpg  \n",
            "  inflating: flowers/flowers/sunflower/9610373748_b9cb67bd55.jpg  \n",
            "  inflating: flowers/flowers/sunflower/9610374042_bb16cded3d.jpg  \n",
            "  inflating: flowers/flowers/sunflower/9651392844_77f90589ba_n.jpg  \n",
            "  inflating: flowers/flowers/sunflower/9655029591_7a77f87500.jpg  \n",
            "  inflating: flowers/flowers/sunflower/9681915384_b3b646dc92_m.jpg  \n",
            "  inflating: flowers/flowers/sunflower/969913643_9d5cd2fe45_m.jpg  \n",
            "  inflating: flowers/flowers/sunflower/9699724719_a8439cc0fd_n.jpg  \n",
            "  inflating: flowers/flowers/sunflower/9738792160_00cbcc99c8_n.jpg  \n",
            "  inflating: flowers/flowers/sunflower/9783416751_b2a03920f7_n.jpg  \n",
            "  inflating: flowers/flowers/sunflower/9825716455_f12bcc8d4e_n.jpg  \n",
            "  inflating: flowers/flowers/sunflower/9904127656_f76a5a4811_m.jpg  \n",
            "  inflating: flowers/flowers/tulip/100930342_92e8746431_n.jpg  \n",
            "  inflating: flowers/flowers/tulip/10094729603_eeca3f2cb6.jpg  \n",
            "  inflating: flowers/flowers/tulip/10094731133_94a942463c.jpg  \n",
            "  inflating: flowers/flowers/tulip/10128546863_8de70c610d.jpg  \n",
            "  inflating: flowers/flowers/tulip/10163955604_ae0b830975_n.jpg  \n",
            "  inflating: flowers/flowers/tulip/10164073235_f29931d91e.jpg  \n",
            "  inflating: flowers/flowers/tulip/10686568196_b1915544a8.jpg  \n",
            "  inflating: flowers/flowers/tulip/107693873_86021ac4ea_n.jpg  \n",
            "  inflating: flowers/flowers/tulip/10791227_7168491604.jpg  \n",
            "  inflating: flowers/flowers/tulip/10995953955_089572caf0.jpg  \n",
            "  inflating: flowers/flowers/tulip/110147301_ad921e2828.jpg  \n",
            "  inflating: flowers/flowers/tulip/112334842_3ecf7585dd.jpg  \n",
            "  inflating: flowers/flowers/tulip/112428665_d8f3632f36_n.jpg  \n",
            "  inflating: flowers/flowers/tulip/112428919_f0c5ad7d9d_n.jpg  \n",
            "  inflating: flowers/flowers/tulip/112650879_82adc2cc04_n.jpg  \n",
            "  inflating: flowers/flowers/tulip/112651128_7b5d39a346_m.jpg  \n",
            "  inflating: flowers/flowers/tulip/112951022_4892b1348b_n.jpg  \n",
            "  inflating: flowers/flowers/tulip/112951086_150a59d499_n.jpg  \n",
            "  inflating: flowers/flowers/tulip/113291410_1bdc718ed8_n.jpg  \n",
            "  inflating: flowers/flowers/tulip/113902743_8f537f769b_n.jpg  \n",
            "  inflating: flowers/flowers/tulip/113960470_38fab8f2fb_m.jpg  \n",
            "  inflating: flowers/flowers/tulip/11441893003_ab83672800.jpg  \n",
            "  inflating: flowers/flowers/tulip/11614202956_1dcf1c96a1.jpg  \n",
            "  inflating: flowers/flowers/tulip/116343334_9cb4acdc57_n.jpg  \n",
            "  inflating: flowers/flowers/tulip/11746080_963537acdc.jpg  \n",
            "  inflating: flowers/flowers/tulip/11746276_de3dec8201.jpg  \n",
            "  inflating: flowers/flowers/tulip/11746367_d23a35b085_n.jpg  \n",
            "  inflating: flowers/flowers/tulip/11746452_5bc1749a36.jpg  \n",
            "  inflating: flowers/flowers/tulip/11746548_26b3256922_n.jpg  \n",
            "  inflating: flowers/flowers/tulip/12024561754_ce9667e4dc_n.jpg  \n",
            "  inflating: flowers/flowers/tulip/12025038686_7f10811d4b_n.jpg  \n",
            "  inflating: flowers/flowers/tulip/12025042086_78bafc0eb6_n.jpg  \n",
            "  inflating: flowers/flowers/tulip/12163418275_bd6a1edd61.jpg  \n",
            "  inflating: flowers/flowers/tulip/122450705_9885fff3c4_n.jpg  \n",
            "  inflating: flowers/flowers/tulip/12517756805_56b74be742.jpg  \n",
            "  inflating: flowers/flowers/tulip/12548574923_5e90f4ceea.jpg  \n",
            "  inflating: flowers/flowers/tulip/12557176134_ecbf15885b.jpg  \n",
            "  inflating: flowers/flowers/tulip/12584810723_c97d00fcfd.jpg  \n",
            "  inflating: flowers/flowers/tulip/12616825773_9aa4245b57_n.jpg  \n",
            "  inflating: flowers/flowers/tulip/12764617214_12211c6a0c_m.jpg  \n",
            "  inflating: flowers/flowers/tulip/12873145295_438b8197a7_n.jpg  \n",
            "  inflating: flowers/flowers/tulip/12883412424_cb5086b43f_n.jpg  \n",
            "  inflating: flowers/flowers/tulip/12916017805_1cde91a891_n.jpg  \n",
            "  inflating: flowers/flowers/tulip/12916135413_dafcf3089e_n.jpg  \n",
            "  inflating: flowers/flowers/tulip/12916441224_2ed63596f8_n.jpg  \n",
            "  inflating: flowers/flowers/tulip/12934201824_1c8b5171fb_m.jpg  \n",
            "  inflating: flowers/flowers/tulip/12949131454_4d3392f4dd_n.jpg  \n",
            "  inflating: flowers/flowers/tulip/130685040_3c2fcec63e_n.jpg  \n",
            "  inflating: flowers/flowers/tulip/130685347_afbffe3afa_n.jpg  \n",
            "  inflating: flowers/flowers/tulip/13176521023_4d7cc74856_m.jpg  \n",
            "  inflating: flowers/flowers/tulip/13176576813_50e77cc1d9.jpg  \n",
            "  inflating: flowers/flowers/tulip/13197345653_0f685b3c97_n.jpg  \n",
            "  inflating: flowers/flowers/tulip/132538272_63658146d9_n.jpg  \n",
            "  inflating: flowers/flowers/tulip/132538273_335240fe5b_n.jpg  \n",
            "  inflating: flowers/flowers/tulip/13289268363_b9337d751e.jpg  \n",
            "  inflating: flowers/flowers/tulip/133692329_c1150ed811_n.jpg  \n",
            "  inflating: flowers/flowers/tulip/133858239_3eaa8a91fd_n.jpg  \n",
            "  inflating: flowers/flowers/tulip/133960364_d87f883c15_n.jpg  \n",
            "  inflating: flowers/flowers/tulip/134143359_71fa8dd9a4.jpg  \n",
            "  inflating: flowers/flowers/tulip/13471563274_471fc1db33_m.jpg  \n",
            "  inflating: flowers/flowers/tulip/13472141763_f2517e7f0d.jpg  \n",
            "  inflating: flowers/flowers/tulip/13472387874_d844478dbb.jpg  \n",
            "  inflating: flowers/flowers/tulip/13472393854_b2530f7029_n.jpg  \n",
            "  inflating: flowers/flowers/tulip/13509967925_eaaeefa396_m.jpg  \n",
            "  inflating: flowers/flowers/tulip/13509973805_bda5fa8982.jpg  \n",
            "  inflating: flowers/flowers/tulip/13510057763_01b832d919.jpg  \n",
            "  inflating: flowers/flowers/tulip/13510068773_c925c5517c.jpg  \n",
            "  inflating: flowers/flowers/tulip/13513851673_9d813dc7b0.jpg  \n",
            "  inflating: flowers/flowers/tulip/13514131694_d91da4f4fc.jpg  \n",
            "  inflating: flowers/flowers/tulip/13514136074_ab1b827e4f.jpg  \n",
            "  inflating: flowers/flowers/tulip/13529687904_3d60abb479_n.jpg  \n",
            "  inflating: flowers/flowers/tulip/13530687085_9b515735ef_m.jpg  \n",
            "  inflating: flowers/flowers/tulip/13530690445_9f1f5cf43a_n.jpg  \n",
            "  inflating: flowers/flowers/tulip/13530786873_0d34880300_n.jpg  \n",
            "  inflating: flowers/flowers/tulip/13530796853_e5993f57d6_n.jpg  \n",
            "  inflating: flowers/flowers/tulip/13531001134_72052100e1_m.jpg  \n",
            "  inflating: flowers/flowers/tulip/13531007054_c88deaf302_n.jpg  \n",
            "  inflating: flowers/flowers/tulip/1353748522_b9c630b162.jpg  \n",
            "  inflating: flowers/flowers/tulip/13539384593_23449f7332_n.jpg  \n",
            "  inflating: flowers/flowers/tulip/13539404903_cd113e3e9b.jpg  \n",
            "  inflating: flowers/flowers/tulip/13539827514_79b60b6c22_n.jpg  \n",
            "  inflating: flowers/flowers/tulip/13542672763_20c3cb9272.jpg  \n",
            "  inflating: flowers/flowers/tulip/13555215723_cf2c11626b_b.jpg  \n",
            "  inflating: flowers/flowers/tulip/13561908485_7e4f8d508b.jpg  \n",
            "  inflating: flowers/flowers/tulip/13561912705_e5eeb41433_z.jpg  \n",
            "  inflating: flowers/flowers/tulip/13562266594_69b807f90c.jpg  \n",
            "  inflating: flowers/flowers/tulip/13562271714_d534531374.jpg  \n",
            "  inflating: flowers/flowers/tulip/135994133_4f306fe4bf_n.jpg  \n",
            "  inflating: flowers/flowers/tulip/137126311_debe64c6a8_n.jpg  \n",
            "  inflating: flowers/flowers/tulip/13888320717_d2919a879b_m.jpg  \n",
            "  inflating: flowers/flowers/tulip/13900235284_32ce563633_n.jpg  \n",
            "  inflating: flowers/flowers/tulip/13903937027_44b9f2f5b8.jpg  \n",
            "  inflating: flowers/flowers/tulip/13903946578_187f904c9a_n.jpg  \n",
            "  inflating: flowers/flowers/tulip/13903988248_22da33f341.jpg  \n",
            "  inflating: flowers/flowers/tulip/13910028149_6c9d5485ef.jpg  \n",
            "  inflating: flowers/flowers/tulip/13910126337_53faf1d214_n.jpg  \n",
            "  inflating: flowers/flowers/tulip/13910471347_30c8bf4de1_n.jpg  \n",
            "  inflating: flowers/flowers/tulip/13910479407_936fd3122d.jpg  \n",
            "  inflating: flowers/flowers/tulip/13910544560_9140dd547e.jpg  \n",
            "  inflating: flowers/flowers/tulip/13910604778_e5f4588420.jpg  \n",
            "  inflating: flowers/flowers/tulip/13910678178_25e8b1a5e5.jpg  \n",
            "  inflating: flowers/flowers/tulip/13910719110_1b21d1fc81.jpg  \n",
            "  inflating: flowers/flowers/tulip/13910737760_c71c8b6ff2.jpg  \n",
            "  inflating: flowers/flowers/tulip/13911047024_8966d70560_n.jpg  \n",
            "  inflating: flowers/flowers/tulip/13923036338_1ce32c6d4f.jpg  \n",
            "  inflating: flowers/flowers/tulip/13923539227_bdab038dc8.jpg  \n",
            "  inflating: flowers/flowers/tulip/13926327692_a07357ff0d.jpg  \n",
            "  inflating: flowers/flowers/tulip/13953090784_0c7d7a904e.jpg  \n",
            "  inflating: flowers/flowers/tulip/13954659583_03981dea99_n.jpg  \n",
            "  inflating: flowers/flowers/tulip/13956300996_07e64a3dbd_n.jpg  \n",
            "  inflating: flowers/flowers/tulip/13974542496_e4b5d1c913_n.jpg  \n",
            "  inflating: flowers/flowers/tulip/13976191172_6f23a0b313.jpg  \n",
            "  inflating: flowers/flowers/tulip/13976206001_fd1c2cbd60.jpg  \n",
            "  inflating: flowers/flowers/tulip/13976522214_ccec508fe7.jpg  \n",
            "  inflating: flowers/flowers/tulip/13979098015_e8c98fd34e_n.jpg  \n",
            "  inflating: flowers/flowers/tulip/13979098645_50b9eebc02_n.jpg  \n",
            "  inflating: flowers/flowers/tulip/13979840624_28466cb3ec_n.jpg  \n",
            "  inflating: flowers/flowers/tulip/13997627965_22d81601ce_n.jpg  \n",
            "  inflating: flowers/flowers/tulip/13997641965_80d5dab542_n.jpg  \n",
            "  inflating: flowers/flowers/tulip/13999392173_b1411f8b23_n.jpg  \n",
            "  inflating: flowers/flowers/tulip/13999402743_f563f6b685_n.jpg  \n",
            "  inflating: flowers/flowers/tulip/14009216519_b608321cf2_n.jpg  \n",
            "  inflating: flowers/flowers/tulip/14014595475_5892fcda51_n.jpg  \n",
            "  inflating: flowers/flowers/tulip/14015957646_8317a0f1d9_n.jpg  \n",
            "  inflating: flowers/flowers/tulip/14017640283_c417141832_n.jpg  \n",
            "  inflating: flowers/flowers/tulip/14022473102_3b24ca08cb_m.jpg  \n",
            "  inflating: flowers/flowers/tulip/14024864234_713158c27f_n.jpg  \n",
            "  inflating: flowers/flowers/tulip/14025589299_eac64c51af_m.jpg  \n",
            "  inflating: flowers/flowers/tulip/14026857634_500d7b41d6_m.jpg  \n",
            "  inflating: flowers/flowers/tulip/14027372499_30f934d24f_m.jpg  \n",
            "  inflating: flowers/flowers/tulip/14039129738_cc3ac0a623_n.jpg  \n",
            "  inflating: flowers/flowers/tulip/14039130008_f4b2807607_n.jpg  \n",
            "  inflating: flowers/flowers/tulip/14044685976_0064faed21.jpg  \n",
            "  inflating: flowers/flowers/tulip/14046760909_0c73e84a1f_n.jpg  \n",
            "  inflating: flowers/flowers/tulip/14053292975_fdc1093571_n.jpg  \n",
            "  inflating: flowers/flowers/tulip/14054827092_f359f5fcbd_m.jpg  \n",
            "  inflating: flowers/flowers/tulip/14054827391_139fb54432.jpg  \n",
            "  inflating: flowers/flowers/tulip/14055533888_f8e66b5693_n.jpg  \n",
            "  inflating: flowers/flowers/tulip/14055538059_b826e0ac2b_n.jpg  \n",
            "  inflating: flowers/flowers/tulip/14055574740_bb6a11e983_n.jpg  \n",
            "  inflating: flowers/flowers/tulip/14055601247_2e647ba9b0_n.jpg  \n",
            "  inflating: flowers/flowers/tulip/14057246122_8598b665bd.jpg  \n",
            "  inflating: flowers/flowers/tulip/14061132852_89122de5f9_n.jpg  \n",
            "  inflating: flowers/flowers/tulip/14064731501_ea14b58161.jpg  \n",
            "  inflating: flowers/flowers/tulip/14064735842_a946fba1ef_n.jpg  \n",
            "  inflating: flowers/flowers/tulip/14066056226_d8564a083e_m.jpg  \n",
            "  inflating: flowers/flowers/tulip/14067456066_87e15792d0.jpg  \n",
            "  inflating: flowers/flowers/tulip/14067476586_36bcddf111.jpg  \n",
            "  inflating: flowers/flowers/tulip/14067761295_7cfe6a42e9.jpg  \n",
            "  inflating: flowers/flowers/tulip/14067778605_0285b7cc3a.jpg  \n",
            "  inflating: flowers/flowers/tulip/14068200854_5c13668df9_m.jpg  \n",
            "  inflating: flowers/flowers/tulip/14068295074_cd8b85bffa.jpg  \n",
            "  inflating: flowers/flowers/tulip/14068348874_7b36c99f6a.jpg  \n",
            "  inflating: flowers/flowers/tulip/14068378204_7b26baa30d_n.jpg  \n",
            "  inflating: flowers/flowers/tulip/14069837979_5f2d5fec55_n.jpg  \n",
            "  inflating: flowers/flowers/tulip/14069838099_53d9d1f4af_n.jpg  \n",
            "  inflating: flowers/flowers/tulip/14069838529_152b5f559d_n.jpg  \n",
            "  inflating: flowers/flowers/tulip/14069839199_1e3fb92b92_n.jpg  \n",
            "  inflating: flowers/flowers/tulip/14069841138_e2b403f44f_n.jpg  \n",
            "  inflating: flowers/flowers/tulip/14069841698_a5dff9cfd2_n.jpg  \n",
            "  inflating: flowers/flowers/tulip/14069841878_f3ac9d788d_n.jpg  \n",
            "  inflating: flowers/flowers/tulip/14069841968_fdc9c1d3a4_n.jpg  \n",
            "  inflating: flowers/flowers/tulip/14069842098_7a7bd956bf_n.jpg  \n",
            "  inflating: flowers/flowers/tulip/14069874050_62d15f80a5_n.jpg  \n",
            "  inflating: flowers/flowers/tulip/14069874230_b7c742112a_n.jpg  \n",
            "  inflating: flowers/flowers/tulip/14069913627_6e87392642_n.jpg  \n",
            "  inflating: flowers/flowers/tulip/14069914457_6805909b1c_n.jpg  \n",
            "  inflating: flowers/flowers/tulip/14069914547_1fa90bec99_n.jpg  \n",
            "  inflating: flowers/flowers/tulip/14069914647_0296f003c0_n.jpg  \n",
            "  inflating: flowers/flowers/tulip/14069914777_b10856aaf7_n.jpg  \n",
            "  inflating: flowers/flowers/tulip/14071516088_b526946e17_n.jpg  \n",
            "  inflating: flowers/flowers/tulip/14073608876_49db8ac97d_n.jpg  \n",
            "  inflating: flowers/flowers/tulip/14074147406_7ab87aec79_n.jpg  \n",
            "  inflating: flowers/flowers/tulip/14078067843_3573fcfc85_n.jpg  \n",
            "  inflating: flowers/flowers/tulip/14078067903_92f5eb27ff.jpg  \n",
            "  inflating: flowers/flowers/tulip/14084211971_0f921f11fe_n.jpg  \n",
            "  inflating: flowers/flowers/tulip/14084749296_6143c74c72_m.jpg  \n",
            "  inflating: flowers/flowers/tulip/14087326141_1906d5a373_n.jpg  \n",
            "  inflating: flowers/flowers/tulip/14087361621_9fefb8dbef.jpg  \n",
            "  inflating: flowers/flowers/tulip/14087425312_2b5846b570_n.jpg  \n",
            "  inflating: flowers/flowers/tulip/14087439392_969444f56e.jpg  \n",
            "  inflating: flowers/flowers/tulip/14087792403_f34f37ba3b_m.jpg  \n",
            "  inflating: flowers/flowers/tulip/14087860553_bf4f8ec56d.jpg  \n",
            "  inflating: flowers/flowers/tulip/14087892193_653a3ac7ca_n.jpg  \n",
            "  inflating: flowers/flowers/tulip/14088017343_dd158d2eb5.jpg  \n",
            "  inflating: flowers/flowers/tulip/14090534565_5857ce4b7c_n.jpg  \n",
            "  inflating: flowers/flowers/tulip/14090546015_504c8becd1.jpg  \n",
            "  inflating: flowers/flowers/tulip/14093565032_a8f1e349d1.jpg  \n",
            "  inflating: flowers/flowers/tulip/14093884601_c87b5cd663_n.jpg  \n",
            "  inflating: flowers/flowers/tulip/14093907931_dd8f642574.jpg  \n",
            "  inflating: flowers/flowers/tulip/14094114202_4c1d7f1116.jpg  \n",
            "  inflating: flowers/flowers/tulip/14094146241_0b9fa7b3e0.jpg  \n",
            "  inflating: flowers/flowers/tulip/14097111174_87a2e7e0c7_n.jpg  \n",
            "  inflating: flowers/flowers/tulip/14097328354_4f1469a170.jpg  \n",
            "  inflating: flowers/flowers/tulip/14097366955_84ef6369f2.jpg  \n",
            "  inflating: flowers/flowers/tulip/14097676864_4ca8e8b20d_n.jpg  \n",
            "  inflating: flowers/flowers/tulip/14097745904_436c4ba1b4_n.jpg  \n",
            "  inflating: flowers/flowers/tulip/14099204939_60e6ffa4c3_n.jpg  \n",
            "  inflating: flowers/flowers/tulip/14103897845_7986002615.jpg  \n",
            "  inflating: flowers/flowers/tulip/14110615113_bd7b3fcb84.jpg  \n",
            "  inflating: flowers/flowers/tulip/14110616533_e04775e7b1.jpg  \n",
            "  inflating: flowers/flowers/tulip/14116780333_7836f4448c.jpg  \n",
            "  inflating: flowers/flowers/tulip/14116826873_d4bab623bf_n.jpg  \n",
            "  inflating: flowers/flowers/tulip/14122029097_3e3285ca5c_n.jpg  \n",
            "  inflating: flowers/flowers/tulip/14124669683_7fb74f20c3.jpg  \n",
            "  inflating: flowers/flowers/tulip/14127532150_112823a8f6.jpg  \n",
            "  inflating: flowers/flowers/tulip/14149603605_eedfe9678c_n.jpg  \n",
            "  inflating: flowers/flowers/tulip/14171673854_1208c19be3_m.jpg  \n",
            "  inflating: flowers/flowers/tulip/142218310_d06005030a_n.jpg  \n",
            "  inflating: flowers/flowers/tulip/142235017_07816937c6.jpg  \n",
            "  inflating: flowers/flowers/tulip/142235237_da662d925c.jpg  \n",
            "  inflating: flowers/flowers/tulip/142235914_5419ff8a4a.jpg  \n",
            "  inflating: flowers/flowers/tulip/14233348496_134e274d0b_n.jpg  \n",
            "  inflating: flowers/flowers/tulip/14233348826_89949b4784_n.jpg  \n",
            "  inflating: flowers/flowers/tulip/14235021006_dd001ea8ed_n.jpg  \n",
            "  inflating: flowers/flowers/tulip/14238880561_7181ccb9fb_n.jpg  \n",
            "  inflating: flowers/flowers/tulip/14238880681_2b86165b41_n.jpg  \n",
            "  inflating: flowers/flowers/tulip/14238880951_2f62f042be_n.jpg  \n",
            "  inflating: flowers/flowers/tulip/14239946452_b0c8f018fe_n.jpg  \n",
            "  inflating: flowers/flowers/tulip/14241883744_ff69de8b7f_n.jpg  \n",
            "  inflating: flowers/flowers/tulip/14253178581_4dfcedb4d3_n.jpg  \n",
            "  inflating: flowers/flowers/tulip/14253178841_8a637b64f0_n.jpg  \n",
            "  inflating: flowers/flowers/tulip/14254329062_140c0f4f4f_n.jpg  \n",
            "  inflating: flowers/flowers/tulip/14254329512_8b4229b898_n.jpg  \n",
            "  inflating: flowers/flowers/tulip/14254839301_ffb19c6445_n.jpg  \n",
            "  inflating: flowers/flowers/tulip/14255917256_84c23c572b.jpg  \n",
            "  inflating: flowers/flowers/tulip/14256111494_f9985585f5_n.jpg  \n",
            "  inflating: flowers/flowers/tulip/14256112284_5f9d6d1aae_n.jpg  \n",
            "  inflating: flowers/flowers/tulip/14256494455_0718057a48_n.jpg  \n",
            "  inflating: flowers/flowers/tulip/14256494695_741a989ebb_n.jpg  \n",
            "  inflating: flowers/flowers/tulip/14256494935_0ee69cfa03_n.jpg  \n",
            "  inflating: flowers/flowers/tulip/14262354955_cc2ab3b112_m.jpg  \n",
            "  inflating: flowers/flowers/tulip/14266093711_66d18a1e44_n.jpg  \n",
            "  inflating: flowers/flowers/tulip/14270573963_f122c40438.jpg  \n",
            "  inflating: flowers/flowers/tulip/14275234071_6e6f473356.jpg  \n",
            "  inflating: flowers/flowers/tulip/14276668513_f205b5270d_n.jpg  \n",
            "  inflating: flowers/flowers/tulip/14278331403_4c475f9a9b.jpg  \n",
            "  inflating: flowers/flowers/tulip/14487705209_ea723109e1_m.jpg  \n",
            "  inflating: flowers/flowers/tulip/14487712670_aebe715525_m.jpg  \n",
            "  inflating: flowers/flowers/tulip/14487762578_baba13d16a_m.jpg  \n",
            "  inflating: flowers/flowers/tulip/14487943607_651e8062a1_m.jpg  \n",
            "  inflating: flowers/flowers/tulip/14491997336_36ba524713.jpg  \n",
            "  inflating: flowers/flowers/tulip/14651383746_419dc73634_m.jpg  \n",
            "  inflating: flowers/flowers/tulip/14651385476_7ccb20e594_m.jpg  \n",
            "  inflating: flowers/flowers/tulip/14671196461_b725727229_m.jpg  \n",
            "  inflating: flowers/flowers/tulip/14674067742_73c2602aa6_m.jpg  \n",
            "  inflating: flowers/flowers/tulip/14674071872_2df55466d5_m.jpg  \n",
            "  inflating: flowers/flowers/tulip/14674388855_2da18e375a_m.jpg  \n",
            "  inflating: flowers/flowers/tulip/14674389605_df3c0bcfa1_m.jpg  \n",
            "  inflating: flowers/flowers/tulip/146884869_b1a8fa9c4e_n.jpg  \n",
            "  inflating: flowers/flowers/tulip/14746916178_40403cc57e.jpg  \n",
            "  inflating: flowers/flowers/tulip/14836105101_1d07520932_m.jpg  \n",
            "  inflating: flowers/flowers/tulip/14861513337_4ef0bfa40d.jpg  \n",
            "  inflating: flowers/flowers/tulip/14866400927_3a59899df3_m.jpg  \n",
            "  inflating: flowers/flowers/tulip/14957470_6a8c272a87_m.jpg  \n",
            "  inflating: flowers/flowers/tulip/15029962436_3e50c1f30f_n.jpg  \n",
            "  inflating: flowers/flowers/tulip/15049902081_dd85361f8c_m.jpg  \n",
            "  inflating: flowers/flowers/tulip/15052586652_56a82de133_m.jpg  \n",
            "  inflating: flowers/flowers/tulip/15082212714_ff87e8fcb1_m.jpg  \n",
            "  inflating: flowers/flowers/tulip/15090146325_b7e1249e60.jpg  \n",
            "  inflating: flowers/flowers/tulip/15096307668_589504b03f_n.jpg  \n",
            "  inflating: flowers/flowers/tulip/15147464747_594599c855_m.jpg  \n",
            "  inflating: flowers/flowers/tulip/15147473067_7c5498eb0e_m.jpg  \n",
            "  inflating: flowers/flowers/tulip/15149373026_93aacc65c5.jpg  \n",
            "  inflating: flowers/flowers/tulip/15275144259_f9a18ec9cb.jpg  \n",
            "  inflating: flowers/flowers/tulip/15275190769_0ed7bbf490.jpg  \n",
            "  inflating: flowers/flowers/tulip/15275199229_962387f24d.jpg  \n",
            "  inflating: flowers/flowers/tulip/15275478257_fbd5850708_n.jpg  \n",
            "  inflating: flowers/flowers/tulip/15275504998_ca9eb82998.jpg  \n",
            "  inflating: flowers/flowers/tulip/15452909878_0c4941f729_m.jpg  \n",
            "  inflating: flowers/flowers/tulip/15458787091_3edc6cd1eb.jpg  \n",
            "  inflating: flowers/flowers/tulip/155097272_70feb13184.jpg  \n",
            "  inflating: flowers/flowers/tulip/15516715153_08abc9bb20_n.jpg  \n",
            "  inflating: flowers/flowers/tulip/15516736553_b169b67195_n.jpg  \n",
            "  inflating: flowers/flowers/tulip/15632065904_0d9caf174b.jpg  \n",
            "  inflating: flowers/flowers/tulip/15647243236_2778501cf5_n.jpg  \n",
            "  inflating: flowers/flowers/tulip/15756524087_823cf86bd8_m.jpg  \n",
            "  inflating: flowers/flowers/tulip/15881325303_f00807a051_n.jpg  \n",
            "  inflating: flowers/flowers/tulip/15922772266_1167a06620.jpg  \n",
            "  inflating: flowers/flowers/tulip/15976769174_1d50f46ca1_m.jpg  \n",
            "  inflating: flowers/flowers/tulip/16055807744_000bc07afc_m.jpg  \n",
            "  inflating: flowers/flowers/tulip/16062072523_1be3c0b61f.jpg  \n",
            "  inflating: flowers/flowers/tulip/16074109313_2cc14c7d16.jpg  \n",
            "  inflating: flowers/flowers/tulip/16098264209_38fe491093.jpg  \n",
            "  inflating: flowers/flowers/tulip/16110795216_b3e44697b4_m.jpg  \n",
            "  inflating: flowers/flowers/tulip/16133651784_c244d86f82_n.jpg  \n",
            "  inflating: flowers/flowers/tulip/16133917184_b5755756bd_n.jpg  \n",
            "  inflating: flowers/flowers/tulip/16133946004_2e935d9433_n.jpg  \n",
            "  inflating: flowers/flowers/tulip/16138212287_643bf336e1_m.jpg  \n",
            "  inflating: flowers/flowers/tulip/16139439153_fbdee29a10_n.jpg  \n",
            "  inflating: flowers/flowers/tulip/16169741783_deeab1a679_m.jpg  \n",
            "  inflating: flowers/flowers/tulip/16265876844_0a149c4f76.jpg  \n",
            "  inflating: flowers/flowers/tulip/16265883604_92be82b973.jpg  \n",
            "  inflating: flowers/flowers/tulip/16282277874_b92776b194.jpg  \n",
            "  inflating: flowers/flowers/tulip/16283125269_4cfae953f1.jpg  \n",
            "  inflating: flowers/flowers/tulip/16303377824_6e9128b4bd.jpg  \n",
            "  inflating: flowers/flowers/tulip/16309287412_5cc4d58bd1_n.jpg  \n",
            "  inflating: flowers/flowers/tulip/16392425347_2f5232a26d_n.jpg  \n",
            "  inflating: flowers/flowers/tulip/164578909_51f245d3fa_n.jpg  \n",
            "  inflating: flowers/flowers/tulip/16471277547_a0a5509377_n.jpg  \n",
            "  inflating: flowers/flowers/tulip/16485607329_e66d5960bc_m.jpg  \n",
            "  inflating: flowers/flowers/tulip/16506668270_b823935dc3.jpg  \n",
            "  inflating: flowers/flowers/tulip/16548713317_a97b9e543a_n.jpg  \n",
            "  inflating: flowers/flowers/tulip/16568321388_fd07bac92a_n.jpg  \n",
            "  inflating: flowers/flowers/tulip/16568439688_4f166e8d90_n.jpg  \n",
            "  inflating: flowers/flowers/tulip/16568481088_dfcfccefea_n.jpg  \n",
            "  inflating: flowers/flowers/tulip/16568530400_f7e4ffc633_n.jpg  \n",
            "  inflating: flowers/flowers/tulip/16568537758_67eb281aab_n.jpg  \n",
            "  inflating: flowers/flowers/tulip/16568550940_d64ee7898f_n.jpg  \n",
            "  inflating: flowers/flowers/tulip/16568820360_a938311dd3_n.jpg  \n",
            "  inflating: flowers/flowers/tulip/16569932139_4367c92f82_n.jpg  \n",
            "  inflating: flowers/flowers/tulip/16570062929_6c41c66387_n.jpg  \n",
            "  inflating: flowers/flowers/tulip/16582481123_06e8e6b966_n.jpg  \n",
            "  inflating: flowers/flowers/tulip/16594995743_ce72c61201_n.jpg  \n",
            "  inflating: flowers/flowers/tulip/16644790896_7b296ecd67_n.jpg  \n",
            "  inflating: flowers/flowers/tulip/16645809126_613b1e3ebe_m.jpg  \n",
            "  inflating: flowers/flowers/tulip/16670377091_87987f50a4_n.jpg  \n",
            "  inflating: flowers/flowers/tulip/16677199221_eab3f22378_n.jpg  \n",
            "  inflating: flowers/flowers/tulip/16677542612_a78a8ca8b3_m.jpg  \n",
            "  inflating: flowers/flowers/tulip/16680927427_07ca6e4552_n.jpg  \n",
            "  inflating: flowers/flowers/tulip/16680930777_7e7f292fc5_n.jpg  \n",
            "  inflating: flowers/flowers/tulip/16680998737_6f6225fe36.jpg  \n",
            "  inflating: flowers/flowers/tulip/16700863150_ddaa4d89b4_n.jpg  \n",
            "  inflating: flowers/flowers/tulip/16702117379_c25bff70e9.jpg  \n",
            "  inflating: flowers/flowers/tulip/16702188449_3dacce90b2_m.jpg  \n",
            "  inflating: flowers/flowers/tulip/16711791713_e54bc9c1af_n.jpg  \n",
            "  inflating: flowers/flowers/tulip/16717320956_d4b00807f2.jpg  \n",
            "  inflating: flowers/flowers/tulip/16732302779_8aa56f255d_n.jpg  \n",
            "  inflating: flowers/flowers/tulip/16751015081_af2ef77c9a_n.jpg  \n",
            "  inflating: flowers/flowers/tulip/16754984282_3a801bfa50_n.jpg  \n",
            "  inflating: flowers/flowers/tulip/16755061382_f6531150c1_n.jpg  \n",
            "  inflating: flowers/flowers/tulip/16755090222_d6797d51db_n.jpg  \n",
            "  inflating: flowers/flowers/tulip/16756198195_13b54e70b3_n.jpg  \n",
            "  inflating: flowers/flowers/tulip/16756239775_75e84a3d50_n.jpg  \n",
            "  inflating: flowers/flowers/tulip/16765283686_0315ae00a8.jpg  \n",
            "  inflating: flowers/flowers/tulip/16862349256_0a1f91ab53.jpg  \n",
            "  inflating: flowers/flowers/tulip/16862351376_f0fcc6fc91_n.jpg  \n",
            "  inflating: flowers/flowers/tulip/16862374316_4135908d4c_m.jpg  \n",
            "  inflating: flowers/flowers/tulip/16862422576_5226e8d1d0.jpg  \n",
            "  inflating: flowers/flowers/tulip/16904202259_8f45d045c3_m.jpg  \n",
            "  inflating: flowers/flowers/tulip/16907559551_05ded87fb2_n.jpg  \n",
            "  inflating: flowers/flowers/tulip/16930105456_8b826dc4a8_n.jpg  \n",
            "  inflating: flowers/flowers/tulip/16930121391_a4092ecf00_n.jpg  \n",
            "  inflating: flowers/flowers/tulip/16937554595_3e1de22f9c.jpg  \n",
            "  inflating: flowers/flowers/tulip/16938892686_3613ea68e8_n.jpg  \n",
            "  inflating: flowers/flowers/tulip/16951623209_00fb7ec1b1_n.jpg  \n",
            "  inflating: flowers/flowers/tulip/16986144192_55e0e6c152.jpg  \n",
            "  inflating: flowers/flowers/tulip/17012955700_7141d29eee.jpg  \n",
            "  inflating: flowers/flowers/tulip/17066862602_7530f21efe.jpg  \n",
            "  inflating: flowers/flowers/tulip/17066864992_1cbc4fc908.jpg  \n",
            "  inflating: flowers/flowers/tulip/17078576150_6f272ce73f_n.jpg  \n",
            "  inflating: flowers/flowers/tulip/17078716890_68e0723389_n.jpg  \n",
            "  inflating: flowers/flowers/tulip/17094167287_865840060d_n.jpg  \n",
            "  inflating: flowers/flowers/tulip/17104364030_ee31ee279b_n.jpg  \n",
            "  inflating: flowers/flowers/tulip/17105644339_e301a8a6be_n.jpg  \n",
            "  inflating: flowers/flowers/tulip/17113203493_735185295f_n.jpg  \n",
            "  inflating: flowers/flowers/tulip/17146928665_600fa3a1f1_n.jpg  \n",
            "  inflating: flowers/flowers/tulip/17159349572_c0c51599f7_n.jpg  \n",
            "  inflating: flowers/flowers/tulip/17159816388_deafbebdb0.jpg  \n",
            "  inflating: flowers/flowers/tulip/17165583356_38cb1f231d_n.jpg  \n",
            "  inflating: flowers/flowers/tulip/17167151059_a53bfe0b02.jpg  \n",
            "  inflating: flowers/flowers/tulip/17189456156_6fc1067831.jpg  \n",
            "  inflating: flowers/flowers/tulip/17189526216_fa24dd541a_n.jpg  \n",
            "  inflating: flowers/flowers/tulip/17198868382_697b23c715_n.jpg  \n",
            "  inflating: flowers/flowers/tulip/17202535346_ab828e779b.jpg  \n",
            "  inflating: flowers/flowers/tulip/17224410762_402455ed8f.jpg  \n",
            "  inflating: flowers/flowers/tulip/17282288501_e8738c9cfb_n.jpg  \n",
            "  inflating: flowers/flowers/tulip/17291451621_0e39f08b9e_n.jpg  \n",
            "  inflating: flowers/flowers/tulip/17291908295_dc7d45ae9b_n.jpg  \n",
            "  inflating: flowers/flowers/tulip/17291930305_79deae6a90_n.jpg  \n",
            "  inflating: flowers/flowers/tulip/17295127995_62eff434fe_n.jpg  \n",
            "  inflating: flowers/flowers/tulip/17309017866_b6b290b970_n.jpg  \n",
            "  inflating: flowers/flowers/tulip/17318339476_54479b6660_n.jpg  \n",
            "  inflating: flowers/flowers/tulip/17324469461_2b318aff8d_m.jpg  \n",
            "  inflating: flowers/flowers/tulip/17408197905_829c4d7940_m.jpg  \n",
            "  inflating: flowers/flowers/tulip/17469578564_35a8360f58.jpg  \n",
            "  inflating: flowers/flowers/tulip/17545306218_5bf0ee38cd_n.jpg  \n",
            "  inflating: flowers/flowers/tulip/175686816_067a8cb4c5.jpg  \n",
            "  inflating: flowers/flowers/tulip/176458518_f81d4bff8e.jpg  \n",
            "  inflating: flowers/flowers/tulip/17706953166_cc21734d26_n.jpg  \n",
            "  inflating: flowers/flowers/tulip/17719248689_cfd5d2f228_n.jpg  \n",
            "  inflating: flowers/flowers/tulip/17720403638_94cfcd8d5c_n.jpg  \n",
            "  inflating: flowers/flowers/tulip/17730239562_9aa0fc0738_n.jpg  \n",
            "  inflating: flowers/flowers/tulip/17733480801_bffa0a30c0_n.jpg  \n",
            "  inflating: flowers/flowers/tulip/17734051745_9382a7bcba_n.jpg  \n",
            "  inflating: flowers/flowers/tulip/17781940352_a45e4289a5.jpg  \n",
            "  inflating: flowers/flowers/tulip/17844723633_da85357fe3.jpg  \n",
            "  inflating: flowers/flowers/tulip/17862445825_f7031d6f26.jpg  \n",
            "  inflating: flowers/flowers/tulip/17907238905_1ae121f8d9_m.jpg  \n",
            "  inflating: flowers/flowers/tulip/17908793211_ff0f1f81d3_n.jpg  \n",
            "  inflating: flowers/flowers/tulip/17969516345_d0081a5f18_n.jpg  \n",
            "  inflating: flowers/flowers/tulip/17970201501_6ee7401206_n.jpg  \n",
            "  inflating: flowers/flowers/tulip/17994129033_bbd0acba62_n.jpg  \n",
            "  inflating: flowers/flowers/tulip/18245124970_e68fd3f3c3.jpg  \n",
            "  inflating: flowers/flowers/tulip/18270448366_d5676dec64_z.jpg  \n",
            "  inflating: flowers/flowers/tulip/18378581986_5cd1494d08_n.jpg  \n",
            "  inflating: flowers/flowers/tulip/18378582936_ee7085c850.jpg  \n",
            "  inflating: flowers/flowers/tulip/18406629611_4d1edcf23b_n.jpg  \n",
            "  inflating: flowers/flowers/tulip/19268907364_d94a846fc8_n.jpg  \n",
            "  inflating: flowers/flowers/tulip/19315333834_cfed7ae637_n.jpg  \n",
            "  inflating: flowers/flowers/tulip/19317019453_8b24740faf_n.jpg  \n",
            "  inflating: flowers/flowers/tulip/19324610724_1facd379ed_n.jpg  \n",
            "  inflating: flowers/flowers/tulip/19413898445_69344f9956_n.jpg  \n",
            "  inflating: flowers/flowers/tulip/19425920580_cdc8f49aed_n.jpg  \n",
            "  inflating: flowers/flowers/tulip/19660257424_e9080d2ddc_n.jpg  \n",
            "  inflating: flowers/flowers/tulip/19689668684_15089ae2fa_n.jpg  \n",
            "  inflating: flowers/flowers/tulip/19689681344_b05ac361f2_n.jpg  \n",
            "  inflating: flowers/flowers/tulip/19693711100_b98c861433_n.jpg  \n",
            "  inflating: flowers/flowers/tulip/19693717158_af4afcffd2_n.jpg  \n",
            "  inflating: flowers/flowers/tulip/19695087459_dfb18ea181_n.jpg  \n",
            "  inflating: flowers/flowers/tulip/19722589898_233a0235af_n.jpg  \n",
            "  inflating: flowers/flowers/tulip/19732081840_f573a3827d_n.jpg  \n",
            "  inflating: flowers/flowers/tulip/19759207480_679167eacd_n.jpg  \n",
            "  inflating: flowers/flowers/tulip/19860199064_35c14fa8c7_n.jpg  \n",
            "  inflating: flowers/flowers/tulip/19868509504_b2fc173274_n.jpg  \n",
            "  inflating: flowers/flowers/tulip/19884050362_347e5342f2_n.jpg  \n",
            "  inflating: flowers/flowers/tulip/19892310888_9bbdec4ea7_n.jpg  \n",
            "  inflating: flowers/flowers/tulip/19892369060_d1298a9816_n.jpg  \n",
            "  inflating: flowers/flowers/tulip/19903091702_3522e9ef3c_n.jpg  \n",
            "  inflating: flowers/flowers/tulip/19912513252_93d8df17cf_n.jpg  \n",
            "  inflating: flowers/flowers/tulip/19914611213_150f7125a9_n.jpg  \n",
            "  inflating: flowers/flowers/tulip/19915714271_3d8d6a23a5_n.jpg  \n",
            "  inflating: flowers/flowers/tulip/19922971178_a71078f2ed_n.jpg  \n",
            "  inflating: flowers/flowers/tulip/19938037625_f26c4dae34_n.jpg  \n",
            "  inflating: flowers/flowers/tulip/19950169968_a29db804b5_n.jpg  \n",
            "  inflating: flowers/flowers/tulip/20093632966_0d53e13036_n.jpg  \n",
            "  inflating: flowers/flowers/tulip/20093649146_5a93a8f173_n.jpg  \n",
            "  inflating: flowers/flowers/tulip/20096276219_7d16867bcc_n.jpg  \n",
            "  inflating: flowers/flowers/tulip/20111973586_2987a89bed_n.jpg  \n",
            "  inflating: flowers/flowers/tulip/20116517681_2f10db9e82_n.jpg  \n",
            "  inflating: flowers/flowers/tulip/20133942640_0f4442b858_n.jpg  \n",
            "  inflating: flowers/flowers/tulip/20138534672_af5fd5eb32_n.jpg  \n",
            "  inflating: flowers/flowers/tulip/20152653918_009a39f323_n.jpg  \n",
            "  inflating: flowers/flowers/tulip/20246050943_3620c7373f_n.jpg  \n",
            "  inflating: flowers/flowers/tulip/20265958876_edb70c4553_n.jpg  \n",
            "  inflating: flowers/flowers/tulip/20282921225_6033da8cd5_n.jpg  \n",
            "  inflating: flowers/flowers/tulip/20283873362_fece39a33e_n.jpg  \n",
            "  inflating: flowers/flowers/tulip/20295820576_8ed2250b5c_n.jpg  \n",
            "  inflating: flowers/flowers/tulip/20298145571_89ea244c38_n.jpg  \n",
            "  inflating: flowers/flowers/tulip/20304518589_8bac64c536_n.jpg  \n",
            "  inflating: flowers/flowers/tulip/20340657765_ddb2d2154e_n.jpg  \n",
            "  inflating: flowers/flowers/tulip/20340696625_4095592e55_n.jpg  \n",
            "  inflating: flowers/flowers/tulip/20435554843_ba6862f923_n.jpg  \n",
            "  inflating: flowers/flowers/tulip/20488590303_24fa3c9015_n.jpg  \n",
            "  inflating: flowers/flowers/tulip/20489160931_3c445b6b02_n.jpg  \n",
            "  inflating: flowers/flowers/tulip/20495079414_44c6783519_n.jpg  \n",
            "  inflating: flowers/flowers/tulip/20518113476_a43a105f27_n.jpg  \n",
            "  inflating: flowers/flowers/tulip/20526614232_78ac8344bd_n.jpg  \n",
            "  inflating: flowers/flowers/tulip/20535484712_8fc5c2a4e8_n.jpg  \n",
            "  inflating: flowers/flowers/tulip/20692409652_25da3e5839_n.jpg  \n",
            "  inflating: flowers/flowers/tulip/20692436712_75b2deaedf_n.jpg  \n",
            "  inflating: flowers/flowers/tulip/20701823522_43e3f4ba09_n.jpg  \n",
            "  inflating: flowers/flowers/tulip/20706374298_ed1d8cf4bf_n.jpg  \n",
            "  inflating: flowers/flowers/tulip/20708492111_35757c490f_n.jpg  \n",
            "  inflating: flowers/flowers/tulip/20711107885_98d96a705b_n.jpg  \n",
            "  inflating: flowers/flowers/tulip/20733335929_0100f38c4a_n.jpg  \n",
            "  inflating: flowers/flowers/tulip/20742669999_53de71a4c9_n.jpg  \n",
            "  inflating: flowers/flowers/tulip/20868629268_5ded9803b5_n.jpg  \n",
            "  inflating: flowers/flowers/tulip/20876954720_62920b4ce8_n.jpg  \n",
            "  inflating: flowers/flowers/tulip/20877119138_c0fde9d53f_n.jpg  \n",
            "  inflating: flowers/flowers/tulip/2087981909_fd468de5c4_n.jpg  \n",
            "  inflating: flowers/flowers/tulip/20883735451_7aa9c50111_n.jpg  \n",
            "  inflating: flowers/flowers/tulip/20896271018_9f1dc41c93_n.jpg  \n",
            "  inflating: flowers/flowers/tulip/20910465721_fd8dcc8fcc_n.jpg  \n",
            "  inflating: flowers/flowers/tulip/20921546830_1d79fd07f7_n.jpg  \n",
            "  inflating: flowers/flowers/tulip/20929606590_f92d4e59b7_n.jpg  \n",
            "  inflating: flowers/flowers/tulip/21046610012_8942d32007_n.jpg  \n",
            "  inflating: flowers/flowers/tulip/21055041762_5d0a066948_n.jpg  \n",
            "  inflating: flowers/flowers/tulip/21065300966_6be98a8cd0_n.jpg  \n",
            "  inflating: flowers/flowers/tulip/21083449726_2895661dfb_n.jpg  \n",
            "  inflating: flowers/flowers/tulip/21084139365_f44cd2a685_n.jpg  \n",
            "  inflating: flowers/flowers/tulip/21084189635_425ca69aa0_n.jpg  \n",
            "  inflating: flowers/flowers/tulip/21091481475_884cd885c8_n.jpg  \n",
            "  inflating: flowers/flowers/tulip/21091489585_0dcb89e65e_n.jpg  \n",
            "  inflating: flowers/flowers/tulip/21091503556_8b46da140e_n.jpg  \n",
            "  inflating: flowers/flowers/tulip/212720516_df4965ebda_n.jpg  \n",
            "  inflating: flowers/flowers/tulip/2220085701_896054d263_n.jpg  \n",
            "  inflating: flowers/flowers/tulip/2229804138_db9cba3443_n.jpg  \n",
            "  inflating: flowers/flowers/tulip/2232289392_9a79a0c5cb_n.jpg  \n",
            "  inflating: flowers/flowers/tulip/2243427551_809b603992_z.jpg  \n",
            "  inflating: flowers/flowers/tulip/2249756775_02e693beda_n.jpg  \n",
            "  inflating: flowers/flowers/tulip/2254152047_d3bf8903cd_n.jpg  \n",
            "  inflating: flowers/flowers/tulip/2256214682_130c01d9d9.jpg  \n",
            "  inflating: flowers/flowers/tulip/2256230386_08b54ca760.jpg  \n",
            "  inflating: flowers/flowers/tulip/2271507463_15c48d41c4_n.jpg  \n",
            "  inflating: flowers/flowers/tulip/2272006181_785f1be94f_n.jpg  \n",
            "  inflating: flowers/flowers/tulip/2280950463_86510c2789_n.jpg  \n",
            "  inflating: flowers/flowers/tulip/2294116183_a30d2aa2c1_m.jpg  \n",
            "  inflating: flowers/flowers/tulip/2322670828_34115a7050.jpg  \n",
            "  inflating: flowers/flowers/tulip/2333321040_3960b9d67e_n.jpg  \n",
            "  inflating: flowers/flowers/tulip/2336919121_851ebc4754.jpg  \n",
            "  inflating: flowers/flowers/tulip/2344751399_71620039f2_n.jpg  \n",
            "  inflating: flowers/flowers/tulip/2351637471_5dd34fd3ac_n.jpg  \n",
            "  inflating: flowers/flowers/tulip/2361075034_cf730b8682.jpg  \n",
            "  inflating: flowers/flowers/tulip/2374855021_21959b40c0_n.jpg  \n",
            "  inflating: flowers/flowers/tulip/2399982682_16929d1f6d_n.jpg  \n",
            "  inflating: flowers/flowers/tulip/2402342888_dd65677013.jpg  \n",
            "  inflating: flowers/flowers/tulip/2412250315_a04171da51_n.jpg  \n",
            "  inflating: flowers/flowers/tulip/2418823693_72eec80f42_n.jpg  \n",
            "  inflating: flowers/flowers/tulip/2421740440_f82ced8582.jpg  \n",
            "  inflating: flowers/flowers/tulip/2425067141_b27043a800_m.jpg  \n",
            "  inflating: flowers/flowers/tulip/2426847695_4b8409402e_n.jpg  \n",
            "  inflating: flowers/flowers/tulip/2426849837_baefd9a518_n.jpg  \n",
            "  inflating: flowers/flowers/tulip/2427626706_ffdf697f84_n.jpg  \n",
            "  inflating: flowers/flowers/tulip/2430566689_8543552f9b.jpg  \n",
            "  inflating: flowers/flowers/tulip/2431737309_1468526f8b.jpg  \n",
            "  inflating: flowers/flowers/tulip/2432389721_4d14971060_n.jpg  \n",
            "  inflating: flowers/flowers/tulip/2434178332_7fcf85aa95_n.jpg  \n",
            "  inflating: flowers/flowers/tulip/2436998042_4906ea07af.jpg  \n",
            "  inflating: flowers/flowers/tulip/2440874162_27a7030402_n.jpg  \n",
            "  inflating: flowers/flowers/tulip/2447151631_7551e6377b_n.jpg  \n",
            "  inflating: flowers/flowers/tulip/2489638840_72ff3ee527_n.jpg  \n",
            "  inflating: flowers/flowers/tulip/2503489175_f0848d3e8e.jpg  \n",
            "  inflating: flowers/flowers/tulip/251811158_75fa3034ff.jpg  \n",
            "  inflating: flowers/flowers/tulip/2535936698_78cc03df3f_n.jpg  \n",
            "  inflating: flowers/flowers/tulip/25429468133_6bfba75d94_n.jpg  \n",
            "  inflating: flowers/flowers/tulip/25429501953_a1f9ce09e6_n.jpg  \n",
            "  inflating: flowers/flowers/tulip/25759191500_1c0da35828_n.jpg  \n",
            "  inflating: flowers/flowers/tulip/25965526231_941b6a216d_n.jpg  \n",
            "  inflating: flowers/flowers/tulip/25965548411_dbbe26262b_n.jpg  \n",
            "  inflating: flowers/flowers/tulip/26564770956_ac4800ae85_n.jpg  \n",
            "  inflating: flowers/flowers/tulip/26685647236_8211cb3e95_n.jpg  \n",
            "  inflating: flowers/flowers/tulip/26685648806_c76dd583b9_n.jpg  \n",
            "  inflating: flowers/flowers/tulip/2785458179_9130812eef_m.jpg  \n",
            "  inflating: flowers/flowers/tulip/2813649953_2b0f20fe94_n.jpg  \n",
            "  inflating: flowers/flowers/tulip/2834890466_1cf220fba1.jpg  \n",
            "  inflating: flowers/flowers/tulip/2936181186_38ff43492e.jpg  \n",
            "  inflating: flowers/flowers/tulip/3002863623_cd83d6e634.jpg  \n",
            "  inflating: flowers/flowers/tulip/3011223301_09b4e3edb7.jpg  \n",
            "  inflating: flowers/flowers/tulip/303858799_942b9c09e7_m.jpg  \n",
            "  inflating: flowers/flowers/tulip/3143110904_66b4851a58_n.jpg  \n",
            "  inflating: flowers/flowers/tulip/3150964108_24dbec4b23_m.jpg  \n",
            "  inflating: flowers/flowers/tulip/3186520634_30e1c67aa5_n.jpg  \n",
            "  inflating: flowers/flowers/tulip/3210019014_1bbd8bff20_n.jpg  \n",
            "  inflating: flowers/flowers/tulip/3213012716_b4c0f7db88.jpg  \n",
            "  inflating: flowers/flowers/tulip/3238068295_b2a7b17f48_n.jpg  \n",
            "  inflating: flowers/flowers/tulip/32465197894_71dde519ae_n.jpg  \n",
            "  inflating: flowers/flowers/tulip/3253320570_b617f7fd4b.jpg  \n",
            "  inflating: flowers/flowers/tulip/3254533919_cb0b8af26c.jpg  \n",
            "  inflating: flowers/flowers/tulip/3282751630_45c2665034_m.jpg  \n",
            "  inflating: flowers/flowers/tulip/3396033831_bb88d93630.jpg  \n",
            "  inflating: flowers/flowers/tulip/3404038663_f62cf8eba3_n.jpg  \n",
            "  inflating: flowers/flowers/tulip/3421027755_cdb8fef8e8_n.jpg  \n",
            "  inflating: flowers/flowers/tulip/3422915985_9bf7264d36.jpg  \n",
            "  inflating: flowers/flowers/tulip/3430229687_32645b5738.jpg  \n",
            "  inflating: flowers/flowers/tulip/3433265727_0b8022e091.jpg  \n",
            "  inflating: flowers/flowers/tulip/3446285408_4be9c0fded_m.jpg  \n",
            "  inflating: flowers/flowers/tulip/3449794006_8c289840aa.jpg  \n",
            "  inflating: flowers/flowers/tulip/3454461550_64d6e726bf_m.jpg  \n",
            "  inflating: flowers/flowers/tulip/3455026124_d66cafb9fc.jpg  \n",
            "  inflating: flowers/flowers/tulip/3457017604_90e4de7480_m.jpg  \n",
            "  inflating: flowers/flowers/tulip/3459922572_bc8516b5fe_m.jpg  \n",
            "  inflating: flowers/flowers/tulip/3474066174_8d3b3e8f97_n.jpg  \n",
            "  inflating: flowers/flowers/tulip/3476945045_97ff41e8ec_n.jpg  \n",
            "  inflating: flowers/flowers/tulip/3485767306_6db7bdf536.jpg  \n",
            "  inflating: flowers/flowers/tulip/3498663243_42b39b4185_m.jpg  \n",
            "  inflating: flowers/flowers/tulip/3501996215_1c6d1a3386_n.jpg  \n",
            "  inflating: flowers/flowers/tulip/3502085373_edc2c36992_n.jpg  \n",
            "  inflating: flowers/flowers/tulip/3502251824_3be758edc6_m.jpg  \n",
            "  inflating: flowers/flowers/tulip/3502615974_ef4bd13202_n.jpg  \n",
            "  inflating: flowers/flowers/tulip/3502632842_791dd4be18_n.jpg  \n",
            "  inflating: flowers/flowers/tulip/3502685880_f026400dce_n.jpg  \n",
            "  inflating: flowers/flowers/tulip/3502974120_9f1eceaf8b_n.jpg  \n",
            "  inflating: flowers/flowers/tulip/3506615859_9850830cf0.jpg  \n",
            "  inflating: flowers/flowers/tulip/3510294699_bc4c72cb7d_n.jpg  \n",
            "  inflating: flowers/flowers/tulip/3510799169_0ed6ae9669_n.jpg  \n",
            "  inflating: flowers/flowers/tulip/3511104954_54eace015c_n.jpg  \n",
            "  inflating: flowers/flowers/tulip/3511776685_3635087b12_n.jpg  \n",
            "  inflating: flowers/flowers/tulip/3516269489_cef36e87a6.jpg  \n",
            "  inflating: flowers/flowers/tulip/3516271083_fba63b5861.jpg  \n",
            "  inflating: flowers/flowers/tulip/3523398585_376960a611_m.jpg  \n",
            "  inflating: flowers/flowers/tulip/3524204544_7233737b4f_m.jpg  \n",
            "  inflating: flowers/flowers/tulip/3529889389_ab4cb6c43b.jpg  \n",
            "  inflating: flowers/flowers/tulip/3540595981_73f14d1227_n.jpg  \n",
            "  inflating: flowers/flowers/tulip/3558517884_0c7ca8b862_m.jpg  \n",
            "  inflating: flowers/flowers/tulip/3600510954_a51bfc5440_n.jpg  \n",
            "  inflating: flowers/flowers/tulip/3601085193_de1195d3d7_n.jpg  \n",
            "  inflating: flowers/flowers/tulip/3614805920_7a6610aa4b_n.jpg  \n",
            "  inflating: flowers/flowers/tulip/3626132563_d955973447_n.jpg  \n",
            "  inflating: flowers/flowers/tulip/3637371174_a8dfcc1b35.jpg  \n",
            "  inflating: flowers/flowers/tulip/38287568_627de6ca20.jpg  \n",
            "  inflating: flowers/flowers/tulip/3909355648_42cb3a5e09_n.jpg  \n",
            "  inflating: flowers/flowers/tulip/391477275_7c2f50a1a7_m.jpg  \n",
            "  inflating: flowers/flowers/tulip/3990746027_338ee436d2_n.jpg  \n",
            "  inflating: flowers/flowers/tulip/3990989735_59e2751151_n.jpg  \n",
            "  inflating: flowers/flowers/tulip/3991423020_9aaf2b5974_n.jpg  \n",
            "  inflating: flowers/flowers/tulip/3991742794_edebc6c8a0_n.jpg  \n",
            "  inflating: flowers/flowers/tulip/402525114_eaa60c8341_m.jpg  \n",
            "  inflating: flowers/flowers/tulip/4042180234_64cd2859c9_m.jpg  \n",
            "  inflating: flowers/flowers/tulip/405035580_94b793e71d.jpg  \n",
            "  inflating: flowers/flowers/tulip/4117620896_070e5887ae_m.jpg  \n",
            "  inflating: flowers/flowers/tulip/420216121_3ee33723d7_m.jpg  \n",
            "  inflating: flowers/flowers/tulip/4209052442_7e754f617c_n.jpg  \n",
            "  inflating: flowers/flowers/tulip/4263272885_1a49ea5209.jpg  \n",
            "  inflating: flowers/flowers/tulip/4290566894_c7f061583d_m.jpg  \n",
            "  inflating: flowers/flowers/tulip/4300258119_b03f2f956e.jpg  \n",
            "  inflating: flowers/flowers/tulip/430785322_7ddef64c68_m.jpg  \n",
            "  inflating: flowers/flowers/tulip/4312181724_16dab26afb_n.jpg  \n",
            "  inflating: flowers/flowers/tulip/434146736_310a42d9cb_m.jpg  \n",
            "  inflating: flowers/flowers/tulip/4353419275_79d3904074_n.jpg  \n",
            "  inflating: flowers/flowers/tulip/4395433872_e073d8c721_n.jpg  \n",
            "  inflating: flowers/flowers/tulip/440714501_9f8268e1b0.jpg  \n",
            "  inflating: flowers/flowers/tulip/4418204816_018375acd0_m.jpg  \n",
            "  inflating: flowers/flowers/tulip/443600168_cb08d56511.jpg  \n",
            "  inflating: flowers/flowers/tulip/444963906_e41492b692.jpg  \n",
            "  inflating: flowers/flowers/tulip/4497973347_57480ffee9_m.jpg  \n",
            "  inflating: flowers/flowers/tulip/4497976955_3f8c2a21c1_m.jpg  \n",
            "  inflating: flowers/flowers/tulip/450607536_4fd9f5d17c_m.jpg  \n",
            "  inflating: flowers/flowers/tulip/4508346090_a27b988f79_n.jpg  \n",
            "  inflating: flowers/flowers/tulip/4516198427_0e5099cd8e.jpg  \n",
            "  inflating: flowers/flowers/tulip/4520577328_a94c11e806_n.jpg  \n",
            "  inflating: flowers/flowers/tulip/4520582070_d14a14f038.jpg  \n",
            "  inflating: flowers/flowers/tulip/4521037085_70d5802e1d_m.jpg  \n",
            "  inflating: flowers/flowers/tulip/4521496161_2b41d4182e.jpg  \n",
            "  inflating: flowers/flowers/tulip/4522130258_9ee44cf73f_m.jpg  \n",
            "  inflating: flowers/flowers/tulip/4522764992_e9d70b82c1_m.jpg  \n",
            "  inflating: flowers/flowers/tulip/4546299243_23cd58eb43.jpg  \n",
            "  inflating: flowers/flowers/tulip/4546316433_202cc68c55.jpg  \n",
            "  inflating: flowers/flowers/tulip/4550091966_7f3e0f8802_n.jpg  \n",
            "  inflating: flowers/flowers/tulip/4550117239_5907aaba4c.jpg  \n",
            "  inflating: flowers/flowers/tulip/4550278535_dfdf7b74ef.jpg  \n",
            "  inflating: flowers/flowers/tulip/4550805310_5f81c9ba08_n.jpg  \n",
            "  inflating: flowers/flowers/tulip/4553203984_9cb9312240_n.jpg  \n",
            "  inflating: flowers/flowers/tulip/4555842486_dd214a84d7_n.jpg  \n",
            "  inflating: flowers/flowers/tulip/4561670472_0451888e32_n.jpg  \n",
            "  inflating: flowers/flowers/tulip/4562423077_00b16240dc_n.jpg  \n",
            "  inflating: flowers/flowers/tulip/4565139594_b28d260cb9.jpg  \n",
            "  inflating: flowers/flowers/tulip/4571353297_5634177744_n.jpg  \n",
            "  inflating: flowers/flowers/tulip/4571993204_5b3efe0e78.jpg  \n",
            "  inflating: flowers/flowers/tulip/4572955407_87f4805c7b.jpg  \n",
            "  inflating: flowers/flowers/tulip/4573822295_5c5c6a5f6a.jpg  \n",
            "  inflating: flowers/flowers/tulip/4574785121_5d8ec4626e.jpg  \n",
            "  inflating: flowers/flowers/tulip/4575963749_2418ff8768.jpg  \n",
            "  inflating: flowers/flowers/tulip/4579079143_f65b39dd9f.jpg  \n",
            "  inflating: flowers/flowers/tulip/4579128789_1561575458_n.jpg  \n",
            "  inflating: flowers/flowers/tulip/4580206494_9386c81ed8_n.jpg  \n",
            "  inflating: flowers/flowers/tulip/4582198748_20fa7caaa1.jpg  \n",
            "  inflating: flowers/flowers/tulip/4587872443_a86c692cb8.jpg  \n",
            "  inflating: flowers/flowers/tulip/4588904196_3c5825c7f4.jpg  \n",
            "  inflating: flowers/flowers/tulip/4589624702_b6baa83699_m.jpg  \n",
            "  inflating: flowers/flowers/tulip/4590702749_e1df8e0c1b.jpg  \n",
            "  inflating: flowers/flowers/tulip/4590703575_6371c0a186_n.jpg  \n",
            "  inflating: flowers/flowers/tulip/4591323356_030d8b6967_m.jpg  \n",
            "  inflating: flowers/flowers/tulip/4599815420_8ee42c2382.jpg  \n",
            "  inflating: flowers/flowers/tulip/4602809199_d3030cef01_m.jpg  \n",
            "  inflating: flowers/flowers/tulip/4604238410_bcec9da4a0_n.jpg  \n",
            "  inflating: flowers/flowers/tulip/4604272150_0c92385530_n.jpg  \n",
            "  inflating: flowers/flowers/tulip/4612075317_91eefff68c_n.jpg  \n",
            "  inflating: flowers/flowers/tulip/4624404489_11e10fcd33_n.jpg  \n",
            "  inflating: flowers/flowers/tulip/4644110077_ff252cd7c4.jpg  \n",
            "  inflating: flowers/flowers/tulip/466409031_4c10294db5_m.jpg  \n",
            "  inflating: flowers/flowers/tulip/467702445_b8676f60fb_n.jpg  \n",
            "  inflating: flowers/flowers/tulip/4679869990_7c5f28f2fe_n.jpg  \n",
            "  inflating: flowers/flowers/tulip/4681062529_36186617d9.jpg  \n",
            "  inflating: flowers/flowers/tulip/471298577_cc7558bcf1.jpg  \n",
            "  inflating: flowers/flowers/tulip/478765271_6a8ca1cfa1_m.jpg  \n",
            "  inflating: flowers/flowers/tulip/480228053_513791d474.jpg  \n",
            "  inflating: flowers/flowers/tulip/4838669164_ffb6f67139.jpg  \n",
            "  inflating: flowers/flowers/tulip/483880052_19fdb26a9f.jpg  \n",
            "  inflating: flowers/flowers/tulip/485266837_671def8627.jpg  \n",
            "  inflating: flowers/flowers/tulip/485415743_eeb5d7c1a5.jpg  \n",
            "  inflating: flowers/flowers/tulip/4890786831_91bb82a9e4_n.jpg  \n",
            "  inflating: flowers/flowers/tulip/489506904_9b68ba211c.jpg  \n",
            "  inflating: flowers/flowers/tulip/490541142_c37e2b4191_n.jpg  \n",
            "  inflating: flowers/flowers/tulip/4945315538_97bdd873c4.jpg  \n",
            "  inflating: flowers/flowers/tulip/4955884820_7e4ce4d7e5_m.jpg  \n",
            "  inflating: flowers/flowers/tulip/497305666_b5d4348826_n.jpg  \n",
            "  inflating: flowers/flowers/tulip/5012813078_99fb977616_n.jpg  \n",
            "  inflating: flowers/flowers/tulip/503770507_f397245a6a.jpg  \n",
            "  inflating: flowers/flowers/tulip/5043225469_0aa23f3c8f_n.jpg  \n",
            "  inflating: flowers/flowers/tulip/510698601_9f61d6f8d8.jpg  \n",
            "  inflating: flowers/flowers/tulip/518256494_368a72db37.jpg  \n",
            "  inflating: flowers/flowers/tulip/5208680166_c4372477ef_n.jpg  \n",
            "  inflating: flowers/flowers/tulip/5388013398_09a8a0f166_m.jpg  \n",
            "  inflating: flowers/flowers/tulip/5417115048_3b78d6c875_n.jpg  \n",
            "  inflating: flowers/flowers/tulip/5430796647_f21b7b0fea.jpg  \n",
            "  inflating: flowers/flowers/tulip/5433747333_869a2a172d_m.jpg  \n",
            "  inflating: flowers/flowers/tulip/5443985113_54e9f608b3_n.jpg  \n",
            "  inflating: flowers/flowers/tulip/5470898169_52a5ab876c_n.jpg  \n",
            "  inflating: flowers/flowers/tulip/5524946579_307dc74476.jpg  \n",
            "  inflating: flowers/flowers/tulip/5529939805_1679b014e1_n.jpg  \n",
            "  inflating: flowers/flowers/tulip/5543457754_89c44c88de_n.jpg  \n",
            "  inflating: flowers/flowers/tulip/5546723510_39a5a10d3a_n.jpg  \n",
            "  inflating: flowers/flowers/tulip/5552198702_35856ed8ec.jpg  \n",
            "  inflating: flowers/flowers/tulip/5565089564_a30c318f44.jpg  \n",
            "  inflating: flowers/flowers/tulip/5574219476_1f46775487_n.jpg  \n",
            "  inflating: flowers/flowers/tulip/5603625247_e4ff1828af_m.jpg  \n",
            "  inflating: flowers/flowers/tulip/5628970369_54eb9ed31c_n.jpg  \n",
            "  inflating: flowers/flowers/tulip/5631861819_f0eb39a357_m.jpg  \n",
            "  inflating: flowers/flowers/tulip/5632006303_15acd2cf1e_n.jpg  \n",
            "  inflating: flowers/flowers/tulip/5633266048_4f4bfb2cf1_n.jpg  \n",
            "  inflating: flowers/flowers/tulip/5634767665_0ae724774d.jpg  \n",
            "  inflating: flowers/flowers/tulip/5635347336_bc1400e939_n.jpg  \n",
            "  inflating: flowers/flowers/tulip/5635348214_a4e2b19ffe.jpg  \n",
            "  inflating: flowers/flowers/tulip/5637140035_e6c5514f54.jpg  \n",
            "  inflating: flowers/flowers/tulip/5644061265_e02135f028_n.jpg  \n",
            "  inflating: flowers/flowers/tulip/5653364300_bc557236c7_n.jpg  \n",
            "  inflating: flowers/flowers/tulip/5660551500_b57307ef4d_n.jpg  \n",
            "  inflating: flowers/flowers/tulip/5661431592_cea1108261_n.jpg  \n",
            "  inflating: flowers/flowers/tulip/5665080897_0796f726c9_m.jpg  \n",
            "  inflating: flowers/flowers/tulip/5665708521_799585d229_n.jpg  \n",
            "  inflating: flowers/flowers/tulip/5666286130_1dc6f66f09_n.jpg  \n",
            "  inflating: flowers/flowers/tulip/5670916806_df4316006f_n.jpg  \n",
            "  inflating: flowers/flowers/tulip/5674125303_953b0ecf38.jpg  \n",
            "  inflating: flowers/flowers/tulip/5674127693_1ddbd81097.jpg  \n",
            "  inflating: flowers/flowers/tulip/5674132053_b40a7d32ca.jpg  \n",
            "  inflating: flowers/flowers/tulip/5674134129_2db5136cba.jpg  \n",
            "  inflating: flowers/flowers/tulip/5674167473_ac696c8989_n.jpg  \n",
            "  inflating: flowers/flowers/tulip/5674170543_73e3f403fb.jpg  \n",
            "  inflating: flowers/flowers/tulip/5674695558_61397a1584.jpg  \n",
            "  inflating: flowers/flowers/tulip/5674704952_9bd225ed9e_n.jpg  \n",
            "  inflating: flowers/flowers/tulip/5674707464_dc18de05b1.jpg  \n",
            "  inflating: flowers/flowers/tulip/5680695867_baff72fc7c.jpg  \n",
            "  inflating: flowers/flowers/tulip/5682463466_d3e641cb8b.jpg  \n",
            "  inflating: flowers/flowers/tulip/5687705933_55a8c2dbac.jpg  \n",
            "  inflating: flowers/flowers/tulip/5691090657_2f1e9bf49e_n.jpg  \n",
            "  inflating: flowers/flowers/tulip/5691100579_4a2767360a.jpg  \n",
            "  inflating: flowers/flowers/tulip/5691672942_70a93d70fc.jpg  \n",
            "  inflating: flowers/flowers/tulip/5697471591_200ff951fa_n.jpg  \n",
            "  inflating: flowers/flowers/tulip/5698944116_fd35fe6bea.jpg  \n",
            "  inflating: flowers/flowers/tulip/5700394524_dc6f8fa9cd_n.jpg  \n",
            "  inflating: flowers/flowers/tulip/5700466891_2bcb17fa68_n.jpg  \n",
            "  inflating: flowers/flowers/tulip/5704726114_a92f753514.jpg  \n",
            "  inflating: flowers/flowers/tulip/5716293002_a8be6a6dd3_n.jpg  \n",
            "  inflating: flowers/flowers/tulip/5717949231_23e2d4c297_n.jpg  \n",
            "  inflating: flowers/flowers/tulip/5717950215_5d0bf2e8b3_n.jpg  \n",
            "  inflating: flowers/flowers/tulip/5717950291_af2aed83d8_n.jpg  \n",
            "  inflating: flowers/flowers/tulip/5717950375_063b937e29_n.jpg  \n",
            "  inflating: flowers/flowers/tulip/5717950507_087513ecbf_n.jpg  \n",
            "  inflating: flowers/flowers/tulip/5717950705_a5d53872e4_n.jpg  \n",
            "  inflating: flowers/flowers/tulip/5717950861_69c8846479_n.jpg  \n",
            "  inflating: flowers/flowers/tulip/5717951019_739d8307d4_n.jpg  \n",
            "  inflating: flowers/flowers/tulip/5717951105_72b6f58838_n.jpg  \n",
            "  inflating: flowers/flowers/tulip/5717951287_124cac32b1_n.jpg  \n",
            "  inflating: flowers/flowers/tulip/5717951663_048431c2e6_n.jpg  \n",
            "  inflating: flowers/flowers/tulip/5717951743_365f3f64b9_n.jpg  \n",
            "  inflating: flowers/flowers/tulip/5717951871_4af1b319eb_n.jpg  \n",
            "  inflating: flowers/flowers/tulip/5718510894_95990c47af_n.jpg  \n",
            "  inflating: flowers/flowers/tulip/5718510972_9a439aa30a_n.jpg  \n",
            "  inflating: flowers/flowers/tulip/5718511304_9334269df2_n.jpg  \n",
            "  inflating: flowers/flowers/tulip/5718511402_c20cb11cef_n.jpg  \n",
            "  inflating: flowers/flowers/tulip/5718511580_edcfd49782_n.jpg  \n",
            "  inflating: flowers/flowers/tulip/5718511762_43b08f50ff_n.jpg  \n",
            "  inflating: flowers/flowers/tulip/5718512060_b78a25c084_n.jpg  \n",
            "  inflating: flowers/flowers/tulip/5718512292_aa50a9a473_n.jpg  \n",
            "  inflating: flowers/flowers/tulip/5718512462_b48988824a_n.jpg  \n",
            "  inflating: flowers/flowers/tulip/5718512658_f3b1ec76d7_n.jpg  \n",
            "  inflating: flowers/flowers/tulip/5718512892_a175a94c45_n.jpg  \n",
            "  inflating: flowers/flowers/tulip/5718513040_8ea13a3599_n.jpg  \n",
            "  inflating: flowers/flowers/tulip/5718513240_e84d5a7e89_n.jpg  \n",
            "  inflating: flowers/flowers/tulip/5718513354_673b6e8306_n.jpg  \n",
            "  inflating: flowers/flowers/tulip/5718781677_d5e9267115_n.jpg  \n",
            "  inflating: flowers/flowers/tulip/5719416820_3060e3c1f0.jpg  \n",
            "  inflating: flowers/flowers/tulip/5730908127_da871df0f8.jpg  \n",
            "  inflating: flowers/flowers/tulip/5738195260_b3fc107aa7_n.jpg  \n",
            "  inflating: flowers/flowers/tulip/5755467567_903c31e3d0.jpg  \n",
            "  inflating: flowers/flowers/tulip/5757091018_cdfd79dfa6_m.jpg  \n",
            "  inflating: flowers/flowers/tulip/5810456385_b44358a0ae.jpg  \n",
            "  inflating: flowers/flowers/tulip/5811004432_266f0f0c6f.jpg  \n",
            "  inflating: flowers/flowers/tulip/5811022098_2523ca4e82.jpg  \n",
            "  inflating: flowers/flowers/tulip/5813495998_64be1b8ab6_n.jpg  \n",
            "  inflating: flowers/flowers/tulip/5891485349_cce7b99549.jpg  \n",
            "  inflating: flowers/flowers/tulip/6038098425_b3b4fb62cc_m.jpg  \n",
            "  inflating: flowers/flowers/tulip/6187740107_9813ccc41e.jpg  \n",
            "  inflating: flowers/flowers/tulip/6227136437_6117068599_m.jpg  \n",
            "  inflating: flowers/flowers/tulip/6227136683_262c6be56b.jpg  \n",
            "  inflating: flowers/flowers/tulip/6267021825_a8316e0dcc_m.jpg  \n",
            "  inflating: flowers/flowers/tulip/6325571510_7544b27e57_n.jpg  \n",
            "  inflating: flowers/flowers/tulip/65347450_53658c63bd_n.jpg  \n",
            "  inflating: flowers/flowers/tulip/6539831765_c21b68910e_n.jpg  \n",
            "  inflating: flowers/flowers/tulip/6770436217_281da51e49_n.jpg  \n",
            "  inflating: flowers/flowers/tulip/6799076717_575944af91_m.jpg  \n",
            "  inflating: flowers/flowers/tulip/6808860548_53796b90ca_n.jpg  \n",
            "  inflating: flowers/flowers/tulip/6876631336_54bf150990.jpg  \n",
            "  inflating: flowers/flowers/tulip/6903831250_a2757fff82_m.jpg  \n",
            "  inflating: flowers/flowers/tulip/6905876618_12732b74de_b.jpg  \n",
            "  inflating: flowers/flowers/tulip/6931489544_2f35025f7b_m.jpg  \n",
            "  inflating: flowers/flowers/tulip/6931674908_8e93bd4554.jpg  \n",
            "  inflating: flowers/flowers/tulip/6931708704_fccb06fea8.jpg  \n",
            "  inflating: flowers/flowers/tulip/6931715360_34edc5a372_m.jpg  \n",
            "  inflating: flowers/flowers/tulip/6931748252_68f06086b3.jpg  \n",
            "  inflating: flowers/flowers/tulip/6934951920_d43ff8b78d.jpg  \n",
            "  inflating: flowers/flowers/tulip/6936168062_a31c28b77c_m.jpg  \n",
            "  inflating: flowers/flowers/tulip/6948277038_89d7ff42e2_m.jpg  \n",
            "  inflating: flowers/flowers/tulip/6958243974_8851425ddb_n.jpg  \n",
            "  inflating: flowers/flowers/tulip/6958342976_a4a9483488_n.jpg  \n",
            "  inflating: flowers/flowers/tulip/6958343928_7e596da4ed_m.jpg  \n",
            "  inflating: flowers/flowers/tulip/6970683464_f70838ca3a_n.jpg  \n",
            "  inflating: flowers/flowers/tulip/6982913043_3b873c6a25.jpg  \n",
            "  inflating: flowers/flowers/tulip/6989946990_62c639ff16_n.jpg  \n",
            "  inflating: flowers/flowers/tulip/6994351792_343e18cbf6_n.jpg  \n",
            "  inflating: flowers/flowers/tulip/6998661030_46cbb7892a.jpg  \n",
            "  inflating: flowers/flowers/tulip/7002703410_3e97b29da5_n.jpg  \n",
            "  inflating: flowers/flowers/tulip/7003964080_4566470798_n.jpg  \n",
            "  inflating: flowers/flowers/tulip/7042692841_f323799c0d.jpg  \n",
            "  inflating: flowers/flowers/tulip/7046815693_f159e96acd_n.jpg  \n",
            "  inflating: flowers/flowers/tulip/7047408023_6e98fd1e3f.jpg  \n",
            "  inflating: flowers/flowers/tulip/7055500907_dcf2bb50e0.jpg  \n",
            "  inflating: flowers/flowers/tulip/7064778965_ddcc6ee9f2.jpg  \n",
            "  inflating: flowers/flowers/tulip/7064813645_f7f48fb527.jpg  \n",
            "  inflating: flowers/flowers/tulip/7068715863_a534ac7884_n.jpg  \n",
            "  inflating: flowers/flowers/tulip/7069622551_348d41c327_n.jpg  \n",
            "  inflating: flowers/flowers/tulip/7070694881_e9a331fa4e_n.jpg  \n",
            "  inflating: flowers/flowers/tulip/7082608511_f4cf233f59_n.jpg  \n",
            "  inflating: flowers/flowers/tulip/7094271655_79a6f972c1_n.jpg  \n",
            "  inflating: flowers/flowers/tulip/7094415739_6b29e5215c_m.jpg  \n",
            "  inflating: flowers/flowers/tulip/7136973281_b2a935ce20.jpg  \n",
            "  inflating: flowers/flowers/tulip/7144016605_e159b6c06b_m.jpg  \n",
            "  inflating: flowers/flowers/tulip/7145978709_2d1596f462.jpg  \n",
            "  inflating: flowers/flowers/tulip/7166539842_43b7e02883.jpg  \n",
            "  inflating: flowers/flowers/tulip/7166539842_43b7e02883_n.jpg  \n",
            "  inflating: flowers/flowers/tulip/7166544280_9d975c4d9a_n.jpg  \n",
            "  inflating: flowers/flowers/tulip/7166546934_c97b08c9d9_n.jpg  \n",
            "  inflating: flowers/flowers/tulip/7166550328_de0d73cfa9.jpg  \n",
            "  inflating: flowers/flowers/tulip/7166550328_de0d73cfa9_n.jpg  \n",
            "  inflating: flowers/flowers/tulip/7166552648_28b6dce578.jpg  \n",
            "  inflating: flowers/flowers/tulip/7166552648_28b6dce578_n.jpg  \n",
            "  inflating: flowers/flowers/tulip/7166554924_432aaae4b2_n.jpg  \n",
            "  inflating: flowers/flowers/tulip/7166558370_f7f68983ea_n.jpg  \n",
            "  inflating: flowers/flowers/tulip/7166560822_27b1d1d132_n.jpg  \n",
            "  inflating: flowers/flowers/tulip/7166564830_8b34a3fd35_n.jpg  \n",
            "  inflating: flowers/flowers/tulip/7166567320_0a2beb6d42.jpg  \n",
            "  inflating: flowers/flowers/tulip/7166567320_0a2beb6d42_n.jpg  \n",
            "  inflating: flowers/flowers/tulip/7166570828_7c26ca5766_n.jpg  \n",
            "  inflating: flowers/flowers/tulip/7166574936_3d93a510c5_n.jpg  \n",
            "  inflating: flowers/flowers/tulip/7166581866_861cd081b8_n.jpg  \n",
            "  inflating: flowers/flowers/tulip/7166589802_8238cec83b_n.jpg  \n",
            "  inflating: flowers/flowers/tulip/7166591854_93c0dd6f8d_n.jpg  \n",
            "  inflating: flowers/flowers/tulip/7166596680_a01961a618_n.jpg  \n",
            "  inflating: flowers/flowers/tulip/7166598930_18d8686ace_n.jpg  \n",
            "  inflating: flowers/flowers/tulip/7166606598_5d2cd307c3.jpg  \n",
            "  inflating: flowers/flowers/tulip/7166606598_5d2cd307c3_n.jpg  \n",
            "  inflating: flowers/flowers/tulip/7166612682_711e680027_n.jpg  \n",
            "  inflating: flowers/flowers/tulip/7166614014_5f0f8d715b_n.jpg  \n",
            "  inflating: flowers/flowers/tulip/7166616072_1233051d98_n.jpg  \n",
            "  inflating: flowers/flowers/tulip/7166618384_850905fc63_n.jpg  \n",
            "  inflating: flowers/flowers/tulip/7166620850_8a37b95972_n.jpg  \n",
            "  inflating: flowers/flowers/tulip/7166623602_256179ab00_n.jpg  \n",
            "  inflating: flowers/flowers/tulip/7166626128_8e0983ac8e_n.jpg  \n",
            "  inflating: flowers/flowers/tulip/7166632158_666116d770_n.jpg  \n",
            "  inflating: flowers/flowers/tulip/7166635566_ee240b5408_n.jpg  \n",
            "  inflating: flowers/flowers/tulip/7166640338_46b15d9ec8_n.jpg  \n",
            "  inflating: flowers/flowers/tulip/7166644048_b00a14f01b.jpg  \n",
            "  inflating: flowers/flowers/tulip/7166644048_b00a14f01b_n.jpg  \n",
            "  inflating: flowers/flowers/tulip/7166646966_41d83cd703.jpg  \n",
            "  inflating: flowers/flowers/tulip/7177682195_c29265748d_n.jpg  \n",
            "  inflating: flowers/flowers/tulip/7179796338_05e8b1c87b.jpg  \n",
            "  inflating: flowers/flowers/tulip/7205145492_baec4dbb94.jpg  \n",
            "  inflating: flowers/flowers/tulip/7205698252_b972087cc2.jpg  \n",
            "  inflating: flowers/flowers/tulip/7247182064_f8d6759446_n.jpg  \n",
            "  inflating: flowers/flowers/tulip/7266196114_c2a736a15a_m.jpg  \n",
            "  inflating: flowers/flowers/tulip/7342871880_c17fe0eb4f_m.jpg  \n",
            "  inflating: flowers/flowers/tulip/738207467_fc59cfcd9b_z.jpg  \n",
            "  inflating: flowers/flowers/tulip/7447655334_e8f805ab95_m.jpg  \n",
            "  inflating: flowers/flowers/tulip/7448453762_aea8739f1b.jpg  \n",
            "  inflating: flowers/flowers/tulip/7481204112_e3c57dd40a_n.jpg  \n",
            "  inflating: flowers/flowers/tulip/7481215720_73e40f178f_n.jpg  \n",
            "  inflating: flowers/flowers/tulip/7481217920_6f65766a1c_n.jpg  \n",
            "  inflating: flowers/flowers/tulip/7775145448_c42e638a6a_n.jpg  \n",
            "  inflating: flowers/flowers/tulip/779359602_30abcbf5bb_n.jpg  \n",
            "  inflating: flowers/flowers/tulip/7806320016_fcddfc1f8f_n.jpg  \n",
            "  inflating: flowers/flowers/tulip/8394186551_28eed83a94_m.jpg  \n",
            "  inflating: flowers/flowers/tulip/8454707381_453b4862eb_m.jpg  \n",
            "  inflating: flowers/flowers/tulip/8454719295_4276c0e9c5_n.jpg  \n",
            "  inflating: flowers/flowers/tulip/8484905084_6a18c62b13_m.jpg  \n",
            "  inflating: flowers/flowers/tulip/8511683706_4173683d45_m.jpg  \n",
            "  inflating: flowers/flowers/tulip/8520482921_21dd204ebd_n.jpg  \n",
            "  inflating: flowers/flowers/tulip/8520488975_a50d377f91.jpg  \n",
            "  inflating: flowers/flowers/tulip/8521597402_4b6169ba05.jpg  \n",
            "  inflating: flowers/flowers/tulip/8523133474_d2c0845b54.jpg  \n",
            "  inflating: flowers/flowers/tulip/8554190977_37ac747799_m.jpg  \n",
            "  inflating: flowers/flowers/tulip/8555123165_2fe57eff4f.jpg  \n",
            "  inflating: flowers/flowers/tulip/8562853756_73778dac25_n.jpg  \n",
            "  inflating: flowers/flowers/tulip/8572847041_d0cc07861f_n.jpg  \n",
            "  inflating: flowers/flowers/tulip/8585101979_4398146bf1_n.jpg  \n",
            "  inflating: flowers/flowers/tulip/8585102511_fc452e6700_n.jpg  \n",
            "  inflating: flowers/flowers/tulip/8585102913_d80d3e2ff7_n.jpg  \n",
            "  inflating: flowers/flowers/tulip/8585103457_d64697c3cf_n.jpg  \n",
            "  inflating: flowers/flowers/tulip/8586204750_2891bd2ec9_n.jpg  \n",
            "  inflating: flowers/flowers/tulip/8586205168_8294e67195_n.jpg  \n",
            "  inflating: flowers/flowers/tulip/8586205446_8953a6c70e_n.jpg  \n",
            "  inflating: flowers/flowers/tulip/8586205946_cda045f3f8_n.jpg  \n",
            "  inflating: flowers/flowers/tulip/8601596054_33e40c2a7a.jpg  \n",
            "  inflating: flowers/flowers/tulip/8603340662_0779bd87fd.jpg  \n",
            "  inflating: flowers/flowers/tulip/8605564823_7a59d3d92a.jpg  \n",
            "  inflating: flowers/flowers/tulip/8614237582_74417799f4_m.jpg  \n",
            "  inflating: flowers/flowers/tulip/8619064872_dea79a9eb9.jpg  \n",
            "  inflating: flowers/flowers/tulip/8622237974_b362574785_n.jpg  \n",
            "  inflating: flowers/flowers/tulip/8623170936_83f4152431.jpg  \n",
            "  inflating: flowers/flowers/tulip/8623173256_3f0eb4c506.jpg  \n",
            "  inflating: flowers/flowers/tulip/8628453641_6f87755815_m.jpg  \n",
            "  inflating: flowers/flowers/tulip/8659691170_09db83d023.jpg  \n",
            "  inflating: flowers/flowers/tulip/8668973377_c69527db42_m.jpg  \n",
            "  inflating: flowers/flowers/tulip/8668974855_8389ecbdca_m.jpg  \n",
            "  inflating: flowers/flowers/tulip/8669794378_97dda6036f_n.jpg  \n",
            "  inflating: flowers/flowers/tulip/8673412732_f8fd690ee4_n.jpg  \n",
            "  inflating: flowers/flowers/tulip/8673416166_620fc18e2f_n.jpg  \n",
            "  inflating: flowers/flowers/tulip/8673416556_639f5c88f1_n.jpg  \n",
            "  inflating: flowers/flowers/tulip/8677713853_1312f65e71.jpg  \n",
            "  inflating: flowers/flowers/tulip/8681825637_837a63513a_n.jpg  \n",
            "  inflating: flowers/flowers/tulip/8686013485_3c4dfbfd1f_n.jpg  \n",
            "  inflating: flowers/flowers/tulip/8686332852_c6dcb2e86b.jpg  \n",
            "  inflating: flowers/flowers/tulip/8687675254_c93f50d8b0_m.jpg  \n",
            "  inflating: flowers/flowers/tulip/8688502760_1c8d6de921_m.jpg  \n",
            "  inflating: flowers/flowers/tulip/8689672277_b289909f97_n.jpg  \n",
            "  inflating: flowers/flowers/tulip/8690789564_394eb04982_n.jpg  \n",
            "  inflating: flowers/flowers/tulip/8690791226_b1f015259f_n.jpg  \n",
            "  inflating: flowers/flowers/tulip/8695367666_0809529eaf_n.jpg  \n",
            "  inflating: flowers/flowers/tulip/8695372372_302135aeb2.jpg  \n",
            "  inflating: flowers/flowers/tulip/8697784345_e75913d220.jpg  \n",
            "  inflating: flowers/flowers/tulip/8702982836_75222725d7.jpg  \n",
            "  inflating: flowers/flowers/tulip/8706523526_a0f161b72b.jpg  \n",
            "  inflating: flowers/flowers/tulip/8708209606_d3aede4801.jpg  \n",
            "  inflating: flowers/flowers/tulip/8708856019_f3be2353a4_n.jpg  \n",
            "  inflating: flowers/flowers/tulip/8710148289_6fc196a0f8_n.jpg  \n",
            "  inflating: flowers/flowers/tulip/8711277462_b43df5454b_m.jpg  \n",
            "  inflating: flowers/flowers/tulip/8712230357_1298b8513b.jpg  \n",
            "  inflating: flowers/flowers/tulip/8712243901_54d686319e_m.jpg  \n",
            "  inflating: flowers/flowers/tulip/8712244311_da8e90bf8e_n.jpg  \n",
            "  inflating: flowers/flowers/tulip/8712260079_c0ff42e0e2_n.jpg  \n",
            "  inflating: flowers/flowers/tulip/8712263493_3db76c5f82.jpg  \n",
            "  inflating: flowers/flowers/tulip/8712266605_3787e346cd_n.jpg  \n",
            "  inflating: flowers/flowers/tulip/8712267391_c756f18ee7_n.jpg  \n",
            "  inflating: flowers/flowers/tulip/8712267813_f7a9be2ec5.jpg  \n",
            "  inflating: flowers/flowers/tulip/8712268519_f4c2c39a06_n.jpg  \n",
            "  inflating: flowers/flowers/tulip/8712269349_2b933da2b8_n.jpg  \n",
            "  inflating: flowers/flowers/tulip/8712270243_8512cf4fbd.jpg  \n",
            "  inflating: flowers/flowers/tulip/8712270665_57b5bda0a2_n.jpg  \n",
            "  inflating: flowers/flowers/tulip/8712282563_3819afb7bc.jpg  \n",
            "  inflating: flowers/flowers/tulip/8713357842_9964a93473_n.jpg  \n",
            "  inflating: flowers/flowers/tulip/8713387500_6a9138b41b_n.jpg  \n",
            "  inflating: flowers/flowers/tulip/8713388322_e5ae26263b_n.jpg  \n",
            "  inflating: flowers/flowers/tulip/8713389178_66bceb71a8_n.jpg  \n",
            "  inflating: flowers/flowers/tulip/8713390684_041148dd3e_n.jpg  \n",
            "  inflating: flowers/flowers/tulip/8713391394_4b679ea1e3_n.jpg  \n",
            "  inflating: flowers/flowers/tulip/8713392604_90631fb809_n.jpg  \n",
            "  inflating: flowers/flowers/tulip/8713394070_b24561b0a9.jpg  \n",
            "  inflating: flowers/flowers/tulip/8713396140_5af8136136.jpg  \n",
            "  inflating: flowers/flowers/tulip/8713397358_0505cc0176_n.jpg  \n",
            "  inflating: flowers/flowers/tulip/8713397694_bcbcbba2c2_n.jpg  \n",
            "  inflating: flowers/flowers/tulip/8713398114_bc96f1b624_n.jpg  \n",
            "  inflating: flowers/flowers/tulip/8713398614_88202e452e_n.jpg  \n",
            "  inflating: flowers/flowers/tulip/8713398906_28e59a225a_n.jpg  \n",
            "  inflating: flowers/flowers/tulip/8713407768_f880df361f.jpg  \n",
            "  inflating: flowers/flowers/tulip/8717900362_2aa508e9e5.jpg  \n",
            "  inflating: flowers/flowers/tulip/8722514702_7ecc68691c.jpg  \n",
            "  inflating: flowers/flowers/tulip/8723767533_9145dec4bd_n.jpg  \n",
            "  inflating: flowers/flowers/tulip/8729501081_b993185542_m.jpg  \n",
            "  inflating: flowers/flowers/tulip/8733586143_3139db6e9e_n.jpg  \n",
            "  inflating: flowers/flowers/tulip/8748266132_5298a91dcf_n.jpg  \n",
            "  inflating: flowers/flowers/tulip/8750288831_5e49a9f29b.jpg  \n",
            "  inflating: flowers/flowers/tulip/8757486380_90952c5377.jpg  \n",
            "  inflating: flowers/flowers/tulip/8758464923_75a5ffe320_n.jpg  \n",
            "  inflating: flowers/flowers/tulip/8758519201_16e8d2d781_n.jpg  \n",
            "  inflating: flowers/flowers/tulip/8759594528_2534c0ec65_n.jpg  \n",
            "  inflating: flowers/flowers/tulip/8759597778_7fca5d434b_n.jpg  \n",
            "  inflating: flowers/flowers/tulip/8759601388_36e2a50d98_n.jpg  \n",
            "  inflating: flowers/flowers/tulip/8759606166_8e475013fa_n.jpg  \n",
            "  inflating: flowers/flowers/tulip/8759618746_f5e39fdbf8_n.jpg  \n",
            "  inflating: flowers/flowers/tulip/8762189906_8223cef62f.jpg  \n",
            "  inflating: flowers/flowers/tulip/8762193202_0fbf2f6a81.jpg  \n",
            "  inflating: flowers/flowers/tulip/8768645961_8f1e097170_n.jpg  \n",
            "  inflating: flowers/flowers/tulip/8817622133_a42bb90e38_n.jpg  \n",
            "  inflating: flowers/flowers/tulip/8838347159_746d14e6c1_m.jpg  \n",
            "  inflating: flowers/flowers/tulip/8838354855_c474fc66a3_m.jpg  \n",
            "  inflating: flowers/flowers/tulip/8838914676_8ef4db7f50_n.jpg  \n",
            "  inflating: flowers/flowers/tulip/8838975946_f54194894e_m.jpg  \n",
            "  inflating: flowers/flowers/tulip/8838983024_5c1a767878_n.jpg  \n",
            "  inflating: flowers/flowers/tulip/8892851067_79242a7362_n.jpg  \n",
            "  inflating: flowers/flowers/tulip/8904780994_8867d64155_n.jpg  \n",
            "  inflating: flowers/flowers/tulip/8908062479_449200a1b4.jpg  \n",
            "  inflating: flowers/flowers/tulip/8908097235_c3e746d36e_n.jpg  \n",
            "  inflating: flowers/flowers/tulip/9019694597_2d3bbedb17.jpg  \n",
            "  inflating: flowers/flowers/tulip/9030467406_05e93ff171_n.jpg  \n",
            "  inflating: flowers/flowers/tulip/9048307967_40a164a459_m.jpg  \n",
            "  inflating: flowers/flowers/tulip/924782410_94ed7913ca_m.jpg  \n",
            "  inflating: flowers/flowers/tulip/9378657435_89fabf13c9_n.jpg  \n",
            "  inflating: flowers/flowers/tulip/9444202147_405290415b_n.jpg  \n",
            "  inflating: flowers/flowers/tulip/9446982168_06c4d71da3_n.jpg  \n",
            "  inflating: flowers/flowers/tulip/9831362123_5aac525a99_n.jpg  \n",
            "  inflating: flowers/flowers/tulip/9870557734_88eb3b9e3b_n.jpg  \n",
            "  inflating: flowers/flowers/tulip/9947374414_fdf1d0861c_n.jpg  \n",
            "  inflating: flowers/flowers/tulip/9947385346_3a8cacea02_n.jpg  \n",
            "  inflating: flowers/flowers/tulip/9976515506_d496c5e72c.jpg  \n",
            "  inflating: flowers/rose/10090824183_d02c613f10_m.jpg  \n",
            "  inflating: flowers/rose/102501987_3cdb8e5394_n.jpg  \n",
            "  inflating: flowers/rose/10503217854_e66a804309.jpg  \n",
            "  inflating: flowers/rose/10894627425_ec76bbc757_n.jpg  \n",
            "  inflating: flowers/rose/110472418_87b6a3aa98_m.jpg  \n",
            "  inflating: flowers/rose/11102341464_508d558dfc_n.jpg  \n",
            "  inflating: flowers/rose/11233672494_d8bf0a3dbf_n.jpg  \n",
            "  inflating: flowers/rose/11694025703_9a906fedc1_n.jpg  \n",
            "  inflating: flowers/rose/118974357_0faa23cce9_n.jpg  \n",
            "  inflating: flowers/rose/11944957684_2cc806276e.jpg  \n",
            "  inflating: flowers/rose/12165480946_c4a3fe182d_n.jpg  \n",
            "  inflating: flowers/rose/12202373204_34fb07205b.jpg  \n",
            "  inflating: flowers/rose/12238827553_cf427bfd51_n.jpg  \n",
            "  inflating: flowers/rose/12240165555_98625b1e88_n.jpg  \n",
            "  inflating: flowers/rose/12240303_80d87f77a3_n.jpg  \n",
            "  inflating: flowers/rose/12240577184_b0de0e53ea_n.jpg  \n",
            "  inflating: flowers/rose/12243068283_ee4c2683e2_n.jpg  \n",
            "  inflating: flowers/rose/12243069253_e512464095_n.jpg  \n",
            "  inflating: flowers/rose/123128873_546b8b7355_n.jpg  \n",
            "  inflating: flowers/rose/12323085443_8ac0cdb713_n.jpg  \n",
            "  inflating: flowers/rose/12338444334_72fcc2fc58_m.jpg  \n",
            "  inflating: flowers/rose/12395698413_c0388278f7.jpg  \n",
            "  inflating: flowers/rose/12406229175_82e2ac649c_n.jpg  \n",
            "  inflating: flowers/rose/12406418663_af20dc225f_n.jpg  \n",
            "  inflating: flowers/rose/12407768513_3440238148_n.jpg  \n",
            "  inflating: flowers/rose/12434194695_a7c4e73c6b_n.jpg  \n",
            "  inflating: flowers/rose/12562723334_a2e0a9e3c8_n.jpg  \n",
            "  inflating: flowers/rose/12572786553_634868f7f2_n.jpg  \n",
            "  inflating: flowers/rose/13211873833_82b029c8a1_n.jpg  \n",
            "  inflating: flowers/rose/13231224664_4af5293a37.jpg  \n",
            "  inflating: flowers/rose/13235124703_a7e1266e44.jpg  \n",
            "  inflating: flowers/rose/13264214185_d6aa79b3bd.jpg  \n",
            "  inflating: flowers/rose/13279526615_a3b0059bec.jpg  \n",
            "  inflating: flowers/rose/13342823005_16d3df58df_n.jpg  \n",
            "  inflating: flowers/rose/1392579828_ab5a139052.jpg  \n",
            "  inflating: flowers/rose/13929462317_96342a9a44.jpg  \n",
            "  inflating: flowers/rose/13943843842_36aae2e7f5_n.jpg  \n",
            "  inflating: flowers/rose/13979889721_42a59ca9fa_m.jpg  \n",
            "  inflating: flowers/rose/14001990976_bd2da42dbc.jpg  \n",
            "  inflating: flowers/rose/14019883858_e5d2a0ec10_n.jpg  \n",
            "  inflating: flowers/rose/1402130395_0b89d76029.jpg  \n",
            "  inflating: flowers/rose/14107161906_5737e0e4ec.jpg  \n",
            "  inflating: flowers/rose/14127110749_624f5bfde6_n.jpg  \n",
            "  inflating: flowers/rose/14145188939_b4de638bd3_n.jpg  \n",
            "  inflating: flowers/rose/14154164774_3b39d36778.jpg  \n",
            "  inflating: flowers/rose/14166797345_d2ab9da518.jpg  \n",
            "  inflating: flowers/rose/14172324538_2147808483_n.jpg  \n",
            "  inflating: flowers/rose/14176042519_5792b37555.jpg  \n",
            "  inflating: flowers/rose/14221192676_eb8c89a7d6_n.jpg  \n",
            "  inflating: flowers/rose/14267691818_301aceda07.jpg  \n",
            "  inflating: flowers/rose/14312910041_b747240d56_n.jpg  \n",
            "  inflating: flowers/rose/14381787252_e8e12e277a_n.jpg  \n",
            "  inflating: flowers/rose/14406317221_1f2be67201_n.jpg  \n",
            "  inflating: flowers/rose/14408977935_a397e796b8_m.jpg  \n",
            "  inflating: flowers/rose/14414100710_753a36fce9.jpg  \n",
            "  inflating: flowers/rose/14414117598_cf70df30de.jpg  \n",
            "  inflating: flowers/rose/14414123198_24606fb32d.jpg  \n",
            "  inflating: flowers/rose/1445228333_59a07e0801.jpg  \n",
            "  inflating: flowers/rose/14460517566_783dbf23b8_n.jpg  \n",
            "  inflating: flowers/rose/1446090416_f0cad5fde4.jpg  \n",
            "  inflating: flowers/rose/1446097778_97149b8362.jpg  \n",
            "  inflating: flowers/rose/14494590921_3bb1dc7b88_n.jpg  \n",
            "  inflating: flowers/rose/14510185271_b5d75dd98e_n.jpg  \n",
            "  inflating: flowers/rose/14573732424_1bb91e2e42_n.jpg  \n",
            "  inflating: flowers/rose/145862135_ab710de93c_n.jpg  \n",
            "  inflating: flowers/rose/14597445311_8acb60247e.jpg  \n",
            "  inflating: flowers/rose/1461381091_aaaa663bbe_n.jpg  \n",
            "  inflating: flowers/rose/14683774134_6367640585.jpg  \n",
            "  inflating: flowers/rose/14687731322_5613f76353.jpg  \n",
            "  inflating: flowers/rose/1469726748_f359f4a8c5.jpg  \n",
            "  inflating: flowers/rose/14747962886_2bff6bb323_m.jpg  \n",
            "  inflating: flowers/rose/14810868100_87eb739f26_m.jpg  \n",
            "  inflating: flowers/rose/1485142251_ca89254442.jpg  \n",
            "  inflating: flowers/rose/14870567200_80cda4362e_n.jpg  \n",
            "  inflating: flowers/rose/14880561916_79aeb812fd_n.jpg  \n",
            "  inflating: flowers/rose/14943194730_f48b4d4547_n.jpg  \n",
            "  inflating: flowers/rose/14970973709_968910640e_n.jpg  \n",
            "  inflating: flowers/rose/14982802401_a3dfb22afb.jpg  \n",
            "  inflating: flowers/rose/14993880427_95d0f27257.jpg  \n",
            "  inflating: flowers/rose/15011625580_7974c44bce.jpg  \n",
            "  inflating: flowers/rose/15032112248_30c5284e54_n.jpg  \n",
            "  inflating: flowers/rose/15060816740_68e1b2c31b.jpg  \n",
            "  inflating: flowers/rose/15061894841_e5aca59ecd_n.jpg  \n",
            "  inflating: flowers/rose/15094168139_8f636ffa1d_n.jpg  \n",
            "  inflating: flowers/rose/15174615529_144ae28bdb_n.jpg  \n",
            "  inflating: flowers/rose/15184419268_7230e9728e.jpg  \n",
            "  inflating: flowers/rose/15186434972_e353da940a.jpg  \n",
            "  inflating: flowers/rose/15190665092_5c1c37a066_m.jpg  \n",
            "  inflating: flowers/rose/15202632426_d88efb321a_n.jpg  \n",
            "  inflating: flowers/rose/15222804561_0fde5eb4ae_n.jpg  \n",
            "  inflating: flowers/rose/15236835789_6009b8f33d.jpg  \n",
            "  inflating: flowers/rose/15255964274_cf2ecdf702.jpg  \n",
            "  inflating: flowers/rose/15255964454_0a64eb67fa.jpg  \n",
            "  inflating: flowers/rose/15274443248_76b9f3eb24.jpg  \n",
            "  inflating: flowers/rose/15277801151_5ed88f40f0_n.jpg  \n",
            "  inflating: flowers/rose/15312360171_57bde98799_n.jpg  \n",
            "  inflating: flowers/rose/15333843782_060cef3030.jpg  \n",
            "  inflating: flowers/rose/1540738662_7b4152e344_m.jpg  \n",
            "  inflating: flowers/rose/15424480096_45bb574b33.jpg  \n",
            "  inflating: flowers/rose/15498482197_8878cdfb07_n.jpg  \n",
            "  inflating: flowers/rose/15509799653_0562d4a4fa.jpg  \n",
            "  inflating: flowers/rose/15566697073_9a214b700e_n.jpg  \n",
            "  inflating: flowers/rose/15602874619_03fd934bed.jpg  \n",
            "  inflating: flowers/rose/1562198683_8cd8cb5876_n.jpg  \n",
            "  inflating: flowers/rose/15674450867_0ced942941_n.jpg  \n",
            "  inflating: flowers/rose/15681454551_b6f73ce443_n.jpg  \n",
            "  inflating: flowers/rose/15697872479_ed48e9dd73_n.jpg  \n",
            "  inflating: flowers/rose/15699509054_d3e125286f_n.jpg  \n",
            "  inflating: flowers/rose/15811380728_5053455c50_n.jpg  \n",
            "  inflating: flowers/rose/15811411368_f4f2cd8873_n.jpg  \n",
            "  inflating: flowers/rose/15816400548_c551da2212_n.jpg  \n",
            "  inflating: flowers/rose/15818051327_9a44bf6244_n.jpg  \n",
            "  inflating: flowers/rose/15820572326_be2ea4a55c_n.jpg  \n",
            "  inflating: flowers/rose/15821959372_518b9dcf57_n.jpg  \n",
            "  inflating: flowers/rose/15822837396_96b392fda8_m.jpg  \n",
            "  inflating: flowers/rose/15859434664_67bf3ef29f.jpg  \n",
            "  inflating: flowers/rose/15901230359_1819e96b89_n.jpg  \n",
            "  inflating: flowers/rose/159079265_d77a9ac920_n.jpg  \n",
            "  inflating: flowers/rose/15922772266_1167a06620.jpg  \n",
            "  inflating: flowers/rose/15949087094_a8f565295c_m.jpg  \n",
            "  inflating: flowers/rose/15951588433_c0713cbfc6_m.jpg  \n",
            "  inflating: flowers/rose/15965652160_de91389965_m.jpg  \n",
            "  inflating: flowers/rose/15972975956_9a770ca9dd_n.jpg  \n",
            "  inflating: flowers/rose/15972976206_d32feeb79b_n.jpg  \n",
            "  inflating: flowers/rose/15977362155_461030c196_m.jpg  \n",
            "  inflating: flowers/rose/15978010566_5fa5905af1_n.jpg  \n",
            "  inflating: flowers/rose/15978020586_6cb322b120_n.jpg  \n",
            "  inflating: flowers/rose/15996816031_7f2fea25cb_n.jpg  \n",
            "  inflating: flowers/rose/15999816377_4b95e0b538_n.jpg  \n",
            "  inflating: flowers/rose/16001846141_393fdb887e_n.jpg  \n",
            "  inflating: flowers/rose/16018886851_c32746cb72.jpg  \n",
            "  inflating: flowers/rose/16051111039_0f0626a241_n.jpg  \n",
            "  inflating: flowers/rose/16078501836_3ac067e18a.jpg  \n",
            "  inflating: flowers/rose/160954292_6c2b4fda65_n.jpg  \n",
            "  inflating: flowers/rose/16100313047_c2e23cbb3d_n.jpg  \n",
            "  inflating: flowers/rose/16152175716_55d6968e08_n.jpg  \n",
            "  inflating: flowers/rose/16152205512_9d6cb80fb6.jpg  \n",
            "  inflating: flowers/rose/16155980245_6ab8d7b888.jpg  \n",
            "  inflating: flowers/rose/16157873719_bf0bdf8558_n.jpg  \n",
            "  inflating: flowers/rose/16209331331_343c899d38.jpg  \n",
            "  inflating: flowers/rose/16229215579_e7dd808e9c.jpg  \n",
            "  inflating: flowers/rose/16258946661_f9739cdc0a.jpg  \n",
            "  inflating: flowers/rose/16374919860_4e445de29f_n.jpg  \n",
            "  inflating: flowers/rose/16424992340_c1d9eb72b4.jpg  \n",
            "  inflating: flowers/rose/1645761726_2b1be95472.jpg  \n",
            "  inflating: flowers/rose/16476788181_0e2ffc719a.jpg  \n",
            "  inflating: flowers/rose/16484100863_979beacb08.jpg  \n",
            "  inflating: flowers/rose/16525204061_9b47be3726_m.jpg  \n",
            "  inflating: flowers/rose/16545641666_2781e542a0_m.jpg  \n",
            "  inflating: flowers/rose/16552686350_db8db55cd2.jpg  \n",
            "  inflating: flowers/rose/16643785404_284c6c23fe_n.jpg  \n",
            "  inflating: flowers/rose/16643944275_3cd4cd966c.jpg  \n",
            "  inflating: flowers/rose/1666341535_99c6f7509f_n.jpg  \n",
            "  inflating: flowers/rose/16670921315_0fc48d7ab2_n.jpg  \n",
            "  inflating: flowers/rose/1667199972_7ba7d999c1_m.jpg  \n",
            "  inflating: flowers/rose/16691277899_9433f39155_n.jpg  \n",
            "  inflating: flowers/rose/16772483324_09f24813a1_n.jpg  \n",
            "  inflating: flowers/rose/16903172207_2cd7aca66a.jpg  \n",
            "  inflating: flowers/rose/17040847367_b54d05bf52.jpg  \n",
            "  inflating: flowers/rose/17062080069_36ac7907d2_n.jpg  \n",
            "  inflating: flowers/rose/17090993740_fcc8b60b81.jpg  \n",
            "  inflating: flowers/rose/17104364030_ee31ee279b_n.jpg  \n",
            "  inflating: flowers/rose/17105684129_e2cb69ea24_n.jpg  \n",
            "  inflating: flowers/rose/17158274118_00ec99a23c.jpg  \n",
            "  inflating: flowers/rose/17165596357_392a12391f.jpg  \n",
            "  inflating: flowers/rose/172311368_49412f881b.jpg  \n",
            "  inflating: flowers/rose/17291451621_0e39f08b9e_n.jpg  \n",
            "  inflating: flowers/rose/17291930305_79deae6a90_n.jpg  \n",
            "  inflating: flowers/rose/17302463621_d82be11f01_n.jpg  \n",
            "  inflating: flowers/rose/17305246720_1866d6303b.jpg  \n",
            "  inflating: flowers/rose/174109630_3c544b8a2f.jpg  \n",
            "  inflating: flowers/rose/17449165090_dfb27af360_n.jpg  \n",
            "  inflating: flowers/rose/17554868955_35f48516cd_m.jpg  \n",
            "  inflating: flowers/rose/1756973583_4aac7df00d_m.jpg  \n",
            "  inflating: flowers/rose/1757822526_fe30b9b3ca_m.jpg  \n",
            "  inflating: flowers/rose/1775233884_12ff5a124f.jpg  \n",
            "  inflating: flowers/rose/17867791274_25bb3f8a41_n.jpg  \n",
            "  inflating: flowers/rose/17869810353_c0d9902bc3_n.jpg  \n",
            "  inflating: flowers/rose/17869839663_1445f1efd0_n.jpg  \n",
            "  inflating: flowers/rose/17869846573_d6c9c39843_n.jpg  \n",
            "  inflating: flowers/rose/1788484468_f73afa6c32_n.jpg  \n",
            "  inflating: flowers/rose/1793211631_68c31a74dc.jpg  \n",
            "  inflating: flowers/rose/17953368844_be3d18cf30_m.jpg  \n",
            "  inflating: flowers/rose/17990320484_93bba345d2_m.jpg  \n",
            "  inflating: flowers/rose/1801614110_bb9fa46830.jpg  \n",
            "  inflating: flowers/rose/180613732_3a7aba0b80_n.jpg  \n",
            "  inflating: flowers/rose/1813435848_7852708394_n.jpg  \n",
            "  inflating: flowers/rose/18220342690_f1c20134bd.jpg  \n",
            "  inflating: flowers/rose/18302672248_38fe0f70af_n.jpg  \n",
            "  inflating: flowers/rose/18302691898_9dc45afae8_n.jpg  \n",
            "  inflating: flowers/rose/18302701228_2b5790b199_n.jpg  \n",
            "  inflating: flowers/rose/18302780950_9469703544_n.jpg  \n",
            "  inflating: flowers/rose/18302793940_8fcc8b4661_n.jpg  \n",
            "  inflating: flowers/rose/18302796110_02ef47cd43_n.jpg  \n",
            "  inflating: flowers/rose/18302801780_50f9a04639_n.jpg  \n",
            "  inflating: flowers/rose/18304294599_2b0b604a8d_n.jpg  \n",
            "  inflating: flowers/rose/1831404161_d2df86fd70.jpg  \n",
            "  inflating: flowers/rose/18376177250_86060cbdc9.jpg  \n",
            "  inflating: flowers/rose/18464052396_6327841e65_n.jpg  \n",
            "  inflating: flowers/rose/18464055536_709c8af0b7_n.jpg  \n",
            "  inflating: flowers/rose/18464065816_88f194a890_n.jpg  \n",
            "  inflating: flowers/rose/18464075576_4e496e7d42_n.jpg  \n",
            "  inflating: flowers/rose/18464080946_a624ce6376_n.jpg  \n",
            "  inflating: flowers/rose/18464084356_0d2d93f896_n.jpg  \n",
            "  inflating: flowers/rose/18486123042_5c8da68f38_n.jpg  \n",
            "  inflating: flowers/rose/18486124712_17ebe7559b_n.jpg  \n",
            "  inflating: flowers/rose/18486146942_e09ecd0e25_n.jpg  \n",
            "  inflating: flowers/rose/18486151112_6f83e92223_n.jpg  \n",
            "  inflating: flowers/rose/18486171962_c46dbd067d_n.jpg  \n",
            "  inflating: flowers/rose/18490508225_0fc630e963_n.jpg  \n",
            "  inflating: flowers/rose/18492288871_8c9d5657bb_n.jpg  \n",
            "  inflating: flowers/rose/18492296751_0bf021da9b_n.jpg  \n",
            "  inflating: flowers/rose/18492302751_cf6a5a583e_n.jpg  \n",
            "  inflating: flowers/rose/18492322571_3b99e55560_n.jpg  \n",
            "  inflating: flowers/rose/18492342231_c074b4b19c_n.jpg  \n",
            "  inflating: flowers/rose/18563353954_b761d97155_m.jpg  \n",
            "  inflating: flowers/rose/18584002386_cec0df537d_n.jpg  \n",
            "  inflating: flowers/rose/18599603859_f2ec616ddf_n.jpg  \n",
            "  inflating: flowers/rose/18741313803_1bbf842fc6_n.jpg  \n",
            "  inflating: flowers/rose/18760363474_a707331322_n.jpg  \n",
            "  inflating: flowers/rose/18990187093_09f2bff8fc_m.jpg  \n",
            "  inflating: flowers/rose/19027407015_141c10ddcb_n.jpg  \n",
            "  inflating: flowers/rose/19153732586_9de58c8f53_n.jpg  \n",
            "  inflating: flowers/rose/19271410704_932d1f2c97_n.jpg  \n",
            "  inflating: flowers/rose/19440805164_920b28da61_n.jpg  \n",
            "  inflating: flowers/rose/1949195327_75f76c12b1.jpg  \n",
            "  inflating: flowers/rose/19566556880_476c66c5ee_n.jpg  \n",
            "  inflating: flowers/rose/19823402005_2db025dd66_m.jpg  \n",
            "  inflating: flowers/rose/19919867648_043cf02fc3.jpg  \n",
            "  inflating: flowers/rose/19988406792_68201f76e3_n.jpg  \n",
            "  inflating: flowers/rose/20409866779_ac473f55e0_m.jpg  \n",
            "  inflating: flowers/rose/2053476785_c162a3e358.jpg  \n",
            "  inflating: flowers/rose/2059172936_032ffc12aa.jpg  \n",
            "  inflating: flowers/rose/20596941736_f2c5f496cf.jpg  \n",
            "  inflating: flowers/rose/20622485918_90fc000c86_n.jpg  \n",
            "  inflating: flowers/rose/2065522422_cfdd80044a_n.jpg  \n",
            "  inflating: flowers/rose/20825078671_90b0389c70_m.jpg  \n",
            "  inflating: flowers/rose/20851336110_b17107948d_n.jpg  \n",
            "  inflating: flowers/rose/2093263381_afd51358a3.jpg  \n",
            "  inflating: flowers/rose/21039447185_96d59941b2_n.jpg  \n",
            "  inflating: flowers/rose/2122401867_cd86c5f114_n.jpg  \n",
            "  inflating: flowers/rose/21346056089_e6f8074e5f_m.jpg  \n",
            "  inflating: flowers/rose/21347496068_f4d3339607.jpg  \n",
            "  inflating: flowers/rose/21413573151_e681c6a97a.jpg  \n",
            "  inflating: flowers/rose/2141413229_3f0425f972_n.jpg  \n",
            "  inflating: flowers/rose/21522100663_455b77a90c_n.jpg  \n",
            "  inflating: flowers/rose/218630974_5646dafc63_m.jpg  \n",
            "  inflating: flowers/rose/2197754124_5c8a146761_n.jpg  \n",
            "  inflating: flowers/rose/22093190909_77223e6f53_n.jpg  \n",
            "  inflating: flowers/rose/2215318403_06eb99176a.jpg  \n",
            "  inflating: flowers/rose/22325299158_6e32e599f8_m.jpg  \n",
            "  inflating: flowers/rose/22385375599_1faf334f5d_n.jpg  \n",
            "  inflating: flowers/rose/22506717337_0fd63e53e9.jpg  \n",
            "  inflating: flowers/rose/2258973326_03c0145f15_n.jpg  \n",
            "  inflating: flowers/rose/2265390547_2409007cef_n.jpg  \n",
            "  inflating: flowers/rose/2265579414_2e00a8f265_n.jpg  \n",
            "  inflating: flowers/rose/22679076_bdb4c24401_m.jpg  \n",
            "  inflating: flowers/rose/2273917656_6d6c038283.jpg  \n",
            "  inflating: flowers/rose/229488796_21ac6ee16d_n.jpg  \n",
            "  inflating: flowers/rose/22982871191_ec61e36939_n.jpg  \n",
            "  inflating: flowers/rose/23096513535_f41ddfec19_n.jpg  \n",
            "  inflating: flowers/rose/23232710191_cc57620cd5.jpg  \n",
            "  inflating: flowers/rose/2325232198_751645d0bb_n.jpg  \n",
            "  inflating: flowers/rose/2331651885_619653a5d3.jpg  \n",
            "  inflating: flowers/rose/2332478138_28f1d586e4_n.jpg  \n",
            "  inflating: flowers/rose/2347579838_dd6d2aaefc_n.jpg  \n",
            "  inflating: flowers/rose/23891005905_17ce9e6936.jpg  \n",
            "  inflating: flowers/rose/2392457180_f02dab5c65.jpg  \n",
            "  inflating: flowers/rose/2414954629_3708a1a04d.jpg  \n",
            "  inflating: flowers/rose/2423565102_2f1a00bb1b_n.jpg  \n",
            "  inflating: flowers/rose/2471103806_87ba53d997_n.jpg  \n",
            "  inflating: flowers/rose/2491600761_7e9d6776e8_m.jpg  \n",
            "  inflating: flowers/rose/2501297526_cbd66a3f7e_m.jpg  \n",
            "  inflating: flowers/rose/2535466143_5823e48b63.jpg  \n",
            "  inflating: flowers/rose/2535466393_6556afeb2f_m.jpg  \n",
            "  inflating: flowers/rose/2535495431_e6f950443c.jpg  \n",
            "  inflating: flowers/rose/2536282942_b5ca27577e.jpg  \n",
            "  inflating: flowers/rose/2550860627_998a4fc4c1.jpg  \n",
            "  inflating: flowers/rose/2607130050_9c34310004.jpg  \n",
            "  inflating: flowers/rose/2609353769_dc3654f12f.jpg  \n",
            "  inflating: flowers/rose/26605779860_50872b454a_n.jpg  \n",
            "  inflating: flowers/rose/26723815164_d03d4d69cb_n.jpg  \n",
            "  inflating: flowers/rose/2675221506_5286c0595f.jpg  \n",
            "  inflating: flowers/rose/2677417735_a697052d2d_n.jpg  \n",
            "  inflating: flowers/rose/26811158051_8f264eea6b_n.jpg  \n",
            "  inflating: flowers/rose/2682566502_967e7eaa2a.jpg  \n",
            "  inflating: flowers/rose/2713683760_d98cd2a05b_m.jpg  \n",
            "  inflating: flowers/rose/272481307_1eb47ba3e0_n.jpg  \n",
            "  inflating: flowers/rose/2735666555_01d53e74fe.jpg  \n",
            "  inflating: flowers/rose/2756028421_b3d5eea526_n.jpg  \n",
            "  inflating: flowers/rose/27619697563_228f5c4677_n.jpg  \n",
            "  inflating: flowers/rose/2777518561_105abc8cfc_n.jpg  \n",
            "  inflating: flowers/rose/2788276815_8f730bd942.jpg  \n",
            "  inflating: flowers/rose/28131227642_e279b5768b_n.jpg  \n",
            "  inflating: flowers/rose/2850381271_d2f9a470b1_n.jpg  \n",
            "  inflating: flowers/rose/2888138918_402096c7fb.jpg  \n",
            "  inflating: flowers/rose/2949945463_366bc63079_n.jpg  \n",
            "  inflating: flowers/rose/295257304_de893fc94d.jpg  \n",
            "  inflating: flowers/rose/2960709681_e95940c0f0_n.jpg  \n",
            "  inflating: flowers/rose/298670754_f25edda891.jpg  \n",
            "  inflating: flowers/rose/3026375835_a20ecdd140_m.jpg  \n",
            "  inflating: flowers/rose/3045046293_57f6d52065_m.jpg  \n",
            "  inflating: flowers/rose/3052753519_d087aaeacb_n.jpg  \n",
            "  inflating: flowers/rose/3065719996_c16ecd5551.jpg  \n",
            "  inflating: flowers/rose/3072908271_08764c732a_m.jpg  \n",
            "  inflating: flowers/rose/3074406590_91c697c805_n.jpg  \n",
            "  inflating: flowers/rose/31050510212_73d570592a_n.jpg  \n",
            "  inflating: flowers/rose/319298955_0c72bd36bf.jpg  \n",
            "  inflating: flowers/rose/323872063_7264e7e018_m.jpg  \n",
            "  inflating: flowers/rose/32442998706_ba6cacf354_n.jpg  \n",
            "  inflating: flowers/rose/3253243865_435c1f2c2b_m.jpg  \n",
            "  inflating: flowers/rose/3264570182_c7ded528ba_m.jpg  \n",
            "  inflating: flowers/rose/326541992_d542103ca8_n.jpg  \n",
            "  inflating: flowers/rose/3268459296_a7346c6b2c.jpg  \n",
            "  inflating: flowers/rose/32724693914_282ccc4f92_n.jpg  \n",
            "  inflating: flowers/rose/3276552939_8c31b22d3e.jpg  \n",
            "  inflating: flowers/rose/3278709893_ba4956a572_n.jpg  \n",
            "  inflating: flowers/rose/3292434691_392071d702_n.jpg  \n",
            "  inflating: flowers/rose/33184832190_e5411d91a4_n.jpg  \n",
            "  inflating: flowers/rose/33185001420_dc8f571c4f_n.jpg  \n",
            "  inflating: flowers/rose/33411423082_8150d9254e_n.jpg  \n",
            "  inflating: flowers/rose/33568244695_7ec846bcc6_n.jpg  \n",
            "  inflating: flowers/rose/33568345265_e4f7d0fe45_n.jpg  \n",
            "  inflating: flowers/rose/3407482427_49d5c75291_m.jpg  \n",
            "  inflating: flowers/rose/3415176946_248afe9f32.jpg  \n",
            "  inflating: flowers/rose/3422228549_f147d6e642.jpg  \n",
            "  inflating: flowers/rose/3450344423_63ba3190e3.jpg  \n",
            "  inflating: flowers/rose/3451177763_729a4d54af_n.jpg  \n",
            "  inflating: flowers/rose/3465443774_6b0c75a3b1_n.jpg  \n",
            "  inflating: flowers/rose/3475572132_01ae28e834_n.jpg  \n",
            "  inflating: flowers/rose/3494252600_29f26e3ff0_n.jpg  \n",
            "  inflating: flowers/rose/3500121696_5b6a69effb_n.jpg  \n",
            "  inflating: flowers/rose/3526860692_4c551191b1_m.jpg  \n",
            "  inflating: flowers/rose/353897245_5453f35a8e.jpg  \n",
            "  inflating: flowers/rose/3550491463_3eb092054c_m.jpg  \n",
            "  inflating: flowers/rose/3554620445_082dd0bec4_n.jpg  \n",
            "  inflating: flowers/rose/3556123230_936bf084a5_n.jpg  \n",
            "  inflating: flowers/rose/3576488381_611f3446e0_n.jpg  \n",
            "  inflating: flowers/rose/3621011057_0d03bd171b_n.jpg  \n",
            "  inflating: flowers/rose/3624546109_8eb98f0cdb.jpg  \n",
            "  inflating: flowers/rose/3630246240_4fee9a33db.jpg  \n",
            "  inflating: flowers/rose/3634244527_e72c47842c_n.jpg  \n",
            "  inflating: flowers/rose/3654988152_b11178bbcb.jpg  \n",
            "  inflating: flowers/rose/3655527028_0fab2b547d_n.jpg  \n",
            "  inflating: flowers/rose/3661675690_ed2d05fa5f_n.jpg  \n",
            "  inflating: flowers/rose/3663244576_97f595cf4a.jpg  \n",
            "  inflating: flowers/rose/3664842094_5fd60ee26b.jpg  \n",
            "  inflating: flowers/rose/3667366832_7a8017c528_n.jpg  \n",
            "  inflating: flowers/rose/3697780051_83e50a6dd1_m.jpg  \n",
            "  inflating: flowers/rose/3705716290_cb7d803130_n.jpg  \n",
            "  inflating: flowers/rose/3742155164_14b557a51c_n.jpg  \n",
            "  inflating: flowers/rose/3742168238_d961937e68_n.jpg  \n",
            "  inflating: flowers/rose/3751835302_d5a03f55e8_n.jpg  \n",
            "  inflating: flowers/rose/3753920123_c7ebc18ee3.jpg  \n",
            "  inflating: flowers/rose/3871586333_5a708d5cf4_n.jpg  \n",
            "  inflating: flowers/rose/3872230296_6c477309f3_n.jpg  \n",
            "  inflating: flowers/rose/3873271620_1d9d314f01_n.jpg  \n",
            "  inflating: flowers/rose/388405293_4db1d71f21_n.jpg  \n",
            "  inflating: flowers/rose/3903276582_fe05bf84c7_n.jpg  \n",
            "  inflating: flowers/rose/3909587261_f8cd3e7fe7.jpg  \n",
            "  inflating: flowers/rose/3948347096_42261f047a_m.jpg  \n",
            "  inflating: flowers/rose/394990940_7af082cf8d_n.jpg  \n",
            "  inflating: flowers/rose/3971662839_5cb2963b20_n.jpg  \n",
            "  inflating: flowers/rose/3997609936_8db20b7141_n.jpg  \n",
            "  inflating: flowers/rose/4061451210_1650590c6a.jpg  \n",
            "  inflating: flowers/rose/4065283966_9504b98269.jpg  \n",
            "  inflating: flowers/rose/4093390305_4010c736c9.jpg  \n",
            "  inflating: flowers/rose/410421672_563550467c.jpg  \n",
            "  inflating: flowers/rose/410425647_4586667858.jpg  \n",
            "  inflating: flowers/rose/4231745228_ece86330d9.jpg  \n",
            "  inflating: flowers/rose/4242976586_607a8f9843_n.jpg  \n",
            "  inflating: flowers/rose/4243078361_7b92a932cd_n.jpg  \n",
            "  inflating: flowers/rose/4267024012_295e7141a3_n.jpg  \n",
            "  inflating: flowers/rose/4279989256_9a48c0d194_n.jpg  \n",
            "  inflating: flowers/rose/4279990882_031482f8b6_n.jpg  \n",
            "  inflating: flowers/rose/4325834819_ab56661dcc_m.jpg  \n",
            "  inflating: flowers/rose/4356781875_92c5cd93c0.jpg  \n",
            "  inflating: flowers/rose/4360743371_6238b36d8c_m.jpg  \n",
            "  inflating: flowers/rose/4363734507_5cc4ed6e01.jpg  \n",
            "  inflating: flowers/rose/4396642388_3081a38875_n.jpg  \n",
            "  inflating: flowers/rose/4413509121_a62879598a.jpg  \n",
            "  inflating: flowers/rose/4414135084_1ac7e6cd54.jpg  \n",
            "  inflating: flowers/rose/4495885281_fe2a3b671d.jpg  \n",
            "  inflating: flowers/rose/4503599544_3822e7d1be.jpg  \n",
            "  inflating: flowers/rose/4504220673_af754fcb40_n.jpg  \n",
            "  inflating: flowers/rose/4504731519_9a260b6607_n.jpg  \n",
            "  inflating: flowers/rose/4505921907_21c8002fde.jpg  \n",
            "  inflating: flowers/rose/4553266758_09d4dbdac9_n.jpg  \n",
            "  inflating: flowers/rose/4558025386_2c47314528.jpg  \n",
            "  inflating: flowers/rose/4575042086_7674b76297_n.jpg  \n",
            "  inflating: flowers/rose/4588034197_e300b0872a_n.jpg  \n",
            "  inflating: flowers/rose/459042023_6273adc312_n.jpg  \n",
            "  inflating: flowers/rose/4608559939_3487bf3b62_n.jpg  \n",
            "  inflating: flowers/rose/4609166128_b7ed49b40b_m.jpg  \n",
            "  inflating: flowers/rose/4609168052_3d4e1d3804_n.jpg  \n",
            "  inflating: flowers/rose/4612766755_7d3f047db0_n.jpg  \n",
            "  inflating: flowers/rose/4612774939_e26ec1c34d_n.jpg  \n",
            "  inflating: flowers/rose/4612784323_0bcfb978f0_n.jpg  \n",
            "  inflating: flowers/rose/4612826243_7d86870a1b_n.jpg  \n",
            "  inflating: flowers/rose/4612830331_2a44957465_n.jpg  \n",
            "  inflating: flowers/rose/4612833069_8e48b47aa4_n.jpg  \n",
            "  inflating: flowers/rose/4625089819_55c45a189c.jpg  \n",
            "  inflating: flowers/rose/4644336779_acd973528c.jpg  \n",
            "  inflating: flowers/rose/4648680921_80dfc4f12a.jpg  \n",
            "  inflating: flowers/rose/4654893119_45d232016b.jpg  \n",
            "  inflating: flowers/rose/466486216_ab13b55763.jpg  \n",
            "  inflating: flowers/rose/4675532860_890504a4a3_m.jpg  \n",
            "  inflating: flowers/rose/4684127262_6c3346188d.jpg  \n",
            "  inflating: flowers/rose/4694341873_65fe187a4e_n.jpg  \n",
            "  inflating: flowers/rose/4702438868_278b9cf41c_n.jpg  \n",
            "  inflating: flowers/rose/4703837996_d3c1df77cc_n.jpg  \n",
            "  inflating: flowers/rose/4713531680_1110a2fa07_n.jpg  \n",
            "  inflating: flowers/rose/4713533500_fcc295de70_n.jpg  \n",
            "  inflating: flowers/rose/4735314389_94fe1b2a9f_n.jpg  \n",
            "  inflating: flowers/rose/4754734410_94d98463a5.jpg  \n",
            "  inflating: flowers/rose/475936554_a2b38aaa8e.jpg  \n",
            "  inflating: flowers/rose/475947979_554062a608_m.jpg  \n",
            "  inflating: flowers/rose/4764674741_82b8f93359_n.jpg  \n",
            "  inflating: flowers/rose/4765063233_f64440c20b.jpg  \n",
            "  inflating: flowers/rose/4797595918_79887b1229_n.jpg  \n",
            "  inflating: flowers/rose/4809566219_88f9a1aea3.jpg  \n",
            "  inflating: flowers/rose/483444865_65962cea07_m.jpg  \n",
            "  inflating: flowers/rose/4860145119_b1c3cbaa4e_n.jpg  \n",
            "  inflating: flowers/rose/488849503_63a290a8c2_m.jpg  \n",
            "  inflating: flowers/rose/4900231976_f8ced2b42a_n.jpg  \n",
            "  inflating: flowers/rose/4910094611_8c7170fc95_n.jpg  \n",
            "  inflating: flowers/rose/4918137796_21f0922b0c_n.jpg  \n",
            "  inflating: flowers/rose/4921988677_e2eb0c9a24_m.jpg  \n",
            "  inflating: flowers/rose/494803274_f84f21d53a.jpg  \n",
            "  inflating: flowers/rose/4951581805_b049304f1b_n.jpg  \n",
            "  inflating: flowers/rose/4979895172_ca06eba616.jpg  \n",
            "  inflating: flowers/rose/4998708839_c53ee536a8_n.jpg  \n",
            "  inflating: flowers/rose/5001843267_ccc0aa7d4d_n.jpg  \n",
            "  inflating: flowers/rose/5001843683_ac3e5f2c87_n.jpg  \n",
            "  inflating: flowers/rose/5001844187_0a77b2eed6_n.jpg  \n",
            "  inflating: flowers/rose/5001844777_d9e1968119_n.jpg  \n",
            "  inflating: flowers/rose/5001845055_69f04d9779_n.jpg  \n",
            "  inflating: flowers/rose/5001845289_e5740889b0_n.jpg  \n",
            "  inflating: flowers/rose/5001846301_9380fbe900_n.jpg  \n",
            "  inflating: flowers/rose/5001846495_56068de2da_n.jpg  \n",
            "  inflating: flowers/rose/5001846725_7bb1b9fedf_n.jpg  \n",
            "  inflating: flowers/rose/5001846963_595da3a5a3_n.jpg  \n",
            "  inflating: flowers/rose/5001847255_34ff6146ec_n.jpg  \n",
            "  inflating: flowers/rose/5001847439_83e02981e8_n.jpg  \n",
            "  inflating: flowers/rose/5001847693_77a9fb4f3c_n.jpg  \n",
            "  inflating: flowers/rose/5001848135_63300a26a8_n.jpg  \n",
            "  inflating: flowers/rose/5001848317_b33d17ab7a_n.jpg  \n",
            "  inflating: flowers/rose/5001850247_33681cc95c_n.jpg  \n",
            "  inflating: flowers/rose/5001850817_abffea40c9_n.jpg  \n",
            "  inflating: flowers/rose/5001852101_877cb2ae9b_n.jpg  \n",
            "  inflating: flowers/rose/5001852517_6a8713ffe2_n.jpg  \n",
            "  inflating: flowers/rose/5001853739_e293f7b268_n.jpg  \n",
            "  inflating: flowers/rose/5001853887_0623dd2111_n.jpg  \n",
            "  inflating: flowers/rose/5001854143_d868390640_n.jpg  \n",
            "  inflating: flowers/rose/5001854803_cb87747d4a_n.jpg  \n",
            "  inflating: flowers/rose/5001855107_71351ce785_n.jpg  \n",
            "  inflating: flowers/rose/5001855689_e07486c44d_n.jpg  \n",
            "  inflating: flowers/rose/5001856089_4cf8e9c818_n.jpg  \n",
            "  inflating: flowers/rose/5001856549_7e0a640488_n.jpg  \n",
            "  inflating: flowers/rose/5001857501_f8b1e3e987_n.jpg  \n",
            "  inflating: flowers/rose/5001857777_440e725f2f_n.jpg  \n",
            "  inflating: flowers/rose/5001858821_731d128f20_n.jpg  \n",
            "  inflating: flowers/rose/5002446424_b86e3c646f_n.jpg  \n",
            "  inflating: flowers/rose/5002446614_bb2a5b4bc1_n.jpg  \n",
            "  inflating: flowers/rose/5002446908_150a969334_n.jpg  \n",
            "  inflating: flowers/rose/5002447434_9b06760f63_n.jpg  \n",
            "  inflating: flowers/rose/5002447916_8a7b7b689a_n.jpg  \n",
            "  inflating: flowers/rose/5002448396_7ca4d44086_n.jpg  \n",
            "  inflating: flowers/rose/5002449706_647ffe5249_n.jpg  \n",
            "  inflating: flowers/rose/5002450022_33337e895b_n.jpg  \n",
            "  inflating: flowers/rose/5002451854_9cf0096db0_n.jpg  \n",
            "  inflating: flowers/rose/5002452394_22896fb9df_n.jpg  \n",
            "  inflating: flowers/rose/5002452576_f61a48b2e3_n.jpg  \n",
            "  inflating: flowers/rose/5002452834_167883dbcf_n.jpg  \n",
            "  inflating: flowers/rose/5002453148_5a7bbcce64_n.jpg  \n",
            "  inflating: flowers/rose/5002453464_ab2bcb3829_n.jpg  \n",
            "  inflating: flowers/rose/5002453814_cf37b62acd_n.jpg  \n",
            "  inflating: flowers/rose/5002454522_300a419273_n.jpg  \n",
            "  inflating: flowers/rose/5002455332_9de0b1e85f_n.jpg  \n",
            "  inflating: flowers/rose/5002455602_4286b34dde_n.jpg  \n",
            "  inflating: flowers/rose/5002456302_e3d2600c17_n.jpg  \n",
            "  inflating: flowers/rose/5002456992_4da0df247a_n.jpg  \n",
            "  inflating: flowers/rose/5002457330_b77672da1c_n.jpg  \n",
            "  inflating: flowers/rose/5002458392_f465ed905e_n.jpg  \n",
            "  inflating: flowers/rose/5002458616_b1719ccc40_n.jpg  \n",
            "  inflating: flowers/rose/5002459442_81825061e9_n.jpg  \n",
            "  inflating: flowers/rose/5002460330_7286e80967_n.jpg  \n",
            "  inflating: flowers/rose/5002460856_c44a02442f_n.jpg  \n",
            "  inflating: flowers/rose/5002461124_dc5988bbc9_n.jpg  \n",
            "  inflating: flowers/rose/5002462640_5bf92142bf_n.jpg  \n",
            "  inflating: flowers/rose/5050969148_a0090f762a.jpg  \n",
            "  inflating: flowers/rose/505517255_cfbb6f6394.jpg  \n",
            "  inflating: flowers/rose/5060519573_c628547e20_n.jpg  \n",
            "  inflating: flowers/rose/5060536705_b370a5c543_n.jpg  \n",
            "  inflating: flowers/rose/5061135742_2870a7b691_n.jpg  \n",
            "  inflating: flowers/rose/5073473370_bdbb5a99fc.jpg  \n",
            "  inflating: flowers/rose/5083072098_81587295d5.jpg  \n",
            "  inflating: flowers/rose/5086249859_d066b37b8a_m.jpg  \n",
            "  inflating: flowers/rose/5088766459_f81f50e57d_n.jpg  \n",
            "  inflating: flowers/rose/5089363428_2c5a1272ea.jpg  \n",
            "  inflating: flowers/rose/509239741_28e2cfe492_m.jpg  \n",
            "  inflating: flowers/rose/512578026_f6e6f2ad26.jpg  \n",
            "  inflating: flowers/rose/512694812_48ba9c0b49_n.jpg  \n",
            "  inflating: flowers/rose/5148639829_781eb7d346.jpg  \n",
            "  inflating: flowers/rose/515121050_dcb99890be.jpg  \n",
            "  inflating: flowers/rose/5156037859_1673720a11_m.jpg  \n",
            "  inflating: flowers/rose/5159317458_bbb22e2f65_n.jpg  \n",
            "  inflating: flowers/rose/5172171681_5934378f08.jpg  \n",
            "  inflating: flowers/rose/5180896559_b8cfefc21e.jpg  \n",
            "  inflating: flowers/rose/5181899042_0a6ffe0c8a_n.jpg  \n",
            "  inflating: flowers/rose/5182167964_9d1a0be0b8_n.jpg  \n",
            "  inflating: flowers/rose/5193918046_d44e4fcd75_m.jpg  \n",
            "  inflating: flowers/rose/5206847130_ee4bf0e4de_n.jpg  \n",
            "  inflating: flowers/rose/5212877807_a3ddf06a7c_n.jpg  \n",
            "  inflating: flowers/rose/5212885371_fe27c406a2_n.jpg  \n",
            "  inflating: flowers/rose/5223191368_01aedb6547_n.jpg  \n",
            "  inflating: flowers/rose/5231103167_a03280e9f6_n.jpg  \n",
            "  inflating: flowers/rose/5234278003_d827fcd73b_m.jpg  \n",
            "  inflating: flowers/rose/5249439791_196b4e7fc7.jpg  \n",
            "  inflating: flowers/rose/5249566718_6109630c83_m.jpg  \n",
            "  inflating: flowers/rose/5273722065_c85d8543c2_m.jpg  \n",
            "  inflating: flowers/rose/527513005_41497ca4dc.jpg  \n",
            "  inflating: flowers/rose/5292988046_a10f4b0365_n.jpg  \n",
            "  inflating: flowers/rose/5332550500_ab341aefd8.jpg  \n",
            "  inflating: flowers/rose/5333437251_ce0aa6925d_n.jpg  \n",
            "  inflating: flowers/rose/5335930735_f396f37a81_n.jpg  \n",
            "  inflating: flowers/rose/5335931029_74c01d3c35_n.jpg  \n",
            "  inflating: flowers/rose/5335931263_18edb092b0_n.jpg  \n",
            "  inflating: flowers/rose/5335935585_e4a8435aab_n.jpg  \n",
            "  inflating: flowers/rose/5335935851_53634d6aed_n.jpg  \n",
            "  inflating: flowers/rose/5335936115_0292d0beef_n.jpg  \n",
            "  inflating: flowers/rose/5335936311_390e8ed5d9_n.jpg  \n",
            "  inflating: flowers/rose/5335937199_2c83d46a57_n.jpg  \n",
            "  inflating: flowers/rose/5335937417_74a03b52ec_n.jpg  \n",
            "  inflating: flowers/rose/5335944093_a00b28c4ff_n.jpg  \n",
            "  inflating: flowers/rose/5335944839_a3b6168534_n.jpg  \n",
            "  inflating: flowers/rose/5335945309_852d018a27_n.jpg  \n",
            "  inflating: flowers/rose/5335945781_e45852fa49_n.jpg  \n",
            "  inflating: flowers/rose/5335946155_be70e11cf2_n.jpg  \n",
            "  inflating: flowers/rose/5335946401_f49bfbe3f9_n.jpg  \n",
            "  inflating: flowers/rose/5336545886_7b93463c06_n.jpg  \n",
            "  inflating: flowers/rose/5336546068_8fd643243c_n.jpg  \n",
            "  inflating: flowers/rose/5336549532_49c711d49a_n.jpg  \n",
            "  inflating: flowers/rose/5336551122_2df8fee6da_n.jpg  \n",
            "  inflating: flowers/rose/5336551618_16d4eea9c4_n.jpg  \n",
            "  inflating: flowers/rose/5336555402_4f6f03f5a5_n.jpg  \n",
            "  inflating: flowers/rose/5336558870_22d0a6a318_n.jpg  \n",
            "  inflating: flowers/rose/5336559428_71e8b58ab5_n.jpg  \n",
            "  inflating: flowers/rose/5336560370_f994cb35a1_n.jpg  \n",
            "  inflating: flowers/rose/5336561772_61a0ca4b22_n.jpg  \n",
            "  inflating: flowers/rose/5336562212_d014ddf9ca_n.jpg  \n",
            "  inflating: flowers/rose/5336562502_d697a3f0b2_n.jpg  \n",
            "  inflating: flowers/rose/534228982_4afbcece9b_m.jpg  \n",
            "  inflating: flowers/rose/5349248481_6445341842_n.jpg  \n",
            "  inflating: flowers/rose/5349248997_4b23a7344d_n.jpg  \n",
            "  inflating: flowers/rose/5349249357_d4c0523f7e_n.jpg  \n",
            "  inflating: flowers/rose/5349249547_5cde2db97c_n.jpg  \n",
            "  inflating: flowers/rose/5349249729_be6b2cac86_n.jpg  \n",
            "  inflating: flowers/rose/5349249933_f02c8ea7de_n.jpg  \n",
            "  inflating: flowers/rose/5349250145_960c51d4fc_n.jpg  \n",
            "  inflating: flowers/rose/5349250331_05501d6557_n.jpg  \n",
            "  inflating: flowers/rose/5349251139_92539c279a_n.jpg  \n",
            "  inflating: flowers/rose/5349254467_388ff94f8b_n.jpg  \n",
            "  inflating: flowers/rose/5349859602_1ab3356c64_n.jpg  \n",
            "  inflating: flowers/rose/5349860036_389d912fb7_n.jpg  \n",
            "  inflating: flowers/rose/5349861432_96137002c4_n.jpg  \n",
            "  inflating: flowers/rose/5349861636_4101a36923_n.jpg  \n",
            "  inflating: flowers/rose/5349865018_99cd7f985a_n.jpg  \n",
            "  inflating: flowers/rose/5349865556_e3263fbdc0_n.jpg  \n",
            "  inflating: flowers/rose/5360769702_ec28c53b9e_n.jpg  \n",
            "  inflating: flowers/rose/537207677_f96a0507bb.jpg  \n",
            "  inflating: flowers/rose/537625768_791e973b40.jpg  \n",
            "  inflating: flowers/rose/5398569540_7d134c42cb_n.jpg  \n",
            "  inflating: flowers/rose/5398974188_799753449c.jpg  \n",
            "  inflating: flowers/rose/5402157745_a384f0583d_n.jpg  \n",
            "  inflating: flowers/rose/5415173021_ec34517d84_n.jpg  \n",
            "  inflating: flowers/rose/5415782938_6ce6e4a90d_n.jpg  \n",
            "  inflating: flowers/rose/5415783734_b002ebce24_n.jpg  \n",
            "  inflating: flowers/rose/5419629292_2f06e4b295.jpg  \n",
            "  inflating: flowers/rose/5487945052_bcb8e9fc8b_m.jpg  \n",
            "  inflating: flowers/rose/5492988531_574cdc2bf0_n.jpg  \n",
            "  inflating: flowers/rose/5497730366_44d758d8f5.jpg  \n",
            "  inflating: flowers/rose/5502949025_96d11a17ff_n.jpg  \n",
            "  inflating: flowers/rose/5526964611_76ef13025c_n.jpg  \n",
            "  inflating: flowers/rose/5529341024_0c35f2657d.jpg  \n",
            "  inflating: flowers/rose/5537794501_a0767743fd_n.jpg  \n",
            "  inflating: flowers/rose/5570018782_c56bee942f.jpg  \n",
            "  inflating: flowers/rose/5578760521_e54aca6bed_n.jpg  \n",
            "  inflating: flowers/rose/5578766623_542c91dfaa_n.jpg  \n",
            "  inflating: flowers/rose/5602220566_5cdde8fa6c_n.jpg  \n",
            "  inflating: flowers/rose/5628552852_60bbe8d9b0_n.jpg  \n",
            "  inflating: flowers/rose/563847503_89e9756c80.jpg  \n",
            "  inflating: flowers/rose/568715474_bdb64ccc32.jpg  \n",
            "  inflating: flowers/rose/5693486585_cf64d87519_n.jpg  \n",
            "  inflating: flowers/rose/5693489465_2d0b2e4eb2_n.jpg  \n",
            "  inflating: flowers/rose/5693492187_dc46424be3_n.jpg  \n",
            "  inflating: flowers/rose/5693495337_0e42b4d9f0_n.jpg  \n",
            "  inflating: flowers/rose/5693502877_41c11295b6_n.jpg  \n",
            "  inflating: flowers/rose/5694071486_90c2b1aee5_n.jpg  \n",
            "  inflating: flowers/rose/5694090698_1f0c218250_n.jpg  \n",
            "  inflating: flowers/rose/5717319579_190e85c7d1_m.jpg  \n",
            "  inflating: flowers/rose/5721768347_2ec4d2247b_n.jpg  \n",
            "  inflating: flowers/rose/5731750490_ba3325b7ee_n.jpg  \n",
            "  inflating: flowers/rose/5736328472_8f25e6f6e7.jpg  \n",
            "  inflating: flowers/rose/5777669976_a205f61e5b.jpg  \n",
            "  inflating: flowers/rose/5799616059_0ffda02e54.jpg  \n",
            "  inflating: flowers/rose/5835539224_75967fc400_m.jpg  \n",
            "  inflating: flowers/rose/5863698305_04a4277401_n.jpg  \n",
            "  inflating: flowers/rose/5897035797_e67bf68124_n.jpg  \n",
            "  inflating: flowers/rose/5960270643_1b8a94822e_m.jpg  \n",
            "  inflating: flowers/rose/5961803532_9368212949_m.jpg  \n",
            "  inflating: flowers/rose/5979193298_639e877248.jpg  \n",
            "  inflating: flowers/rose/5990626258_697f007308_n.jpg  \n",
            "  inflating: flowers/rose/6053143173_991c011b23.jpg  \n",
            "  inflating: flowers/rose/6108118824_5b0231a56d.jpg  \n",
            "  inflating: flowers/rose/6111589202_8b9555364c_m.jpg  \n",
            "  inflating: flowers/rose/6125332325_b768e08bd9_n.jpg  \n",
            "  inflating: flowers/rose/6163179241_f093f45d95_n.jpg  \n",
            "  inflating: flowers/rose/6209630964_e8de48fe04_m.jpg  \n",
            "  inflating: flowers/rose/6231418894_7946a7712b_n.jpg  \n",
            "  inflating: flowers/rose/6241886381_cc722785af.jpg  \n",
            "  inflating: flowers/rose/6255593451_b8a3aa8f7a_m.jpg  \n",
            "  inflating: flowers/rose/6280787884_141cd7b382_n.jpg  \n",
            "  inflating: flowers/rose/6309548569_932fee8313_m.jpg  \n",
            "  inflating: flowers/rose/6347846687_3f0a7c3176.jpg  \n",
            "  inflating: flowers/rose/6347846935_51e3dc2481_n.jpg  \n",
            "  inflating: flowers/rose/6347847065_83cf87333b_n.jpg  \n",
            "  inflating: flowers/rose/6363951285_a802238d4e.jpg  \n",
            "  inflating: flowers/rose/6363976189_e7155e5f9c.jpg  \n",
            "  inflating: flowers/rose/6409000675_6eb6806e59.jpg  \n",
            "  inflating: flowers/rose/6473543547_4fefdbd5dc.jpg  \n",
            "  inflating: flowers/rose/6653567281_768a1fd160.jpg  \n",
            "  inflating: flowers/rose/6690926183_afedba9f15_n.jpg  \n",
            "  inflating: flowers/rose/6732261031_861a1026fa_n.jpg  \n",
            "  inflating: flowers/rose/685724528_6cd5cbe203.jpg  \n",
            "  inflating: flowers/rose/6864417932_36fa4ceecf_n.jpg  \n",
            "  inflating: flowers/rose/6867597533_d65d1c39fb_n.jpg  \n",
            "  inflating: flowers/rose/6879112993_5a29208438_n.jpg  \n",
            "  inflating: flowers/rose/6936225976_a91b60d8c2_m.jpg  \n",
            "  inflating: flowers/rose/6950609394_c53b8c6ac0_m.jpg  \n",
            "  inflating: flowers/rose/6969041818_a505baa68e_m.jpg  \n",
            "  inflating: flowers/rose/7147367479_f7a6ef0798.jpg  \n",
            "  inflating: flowers/rose/7186509956_c37c02fb43_n.jpg  \n",
            "  inflating: flowers/rose/7187035716_5d0fb95c31_n.jpg  \n",
            "  inflating: flowers/rose/7211616670_2d49ecb3a5_m.jpg  \n",
            "  inflating: flowers/rose/7251352826_69b62cba2c_m.jpg  \n",
            "  inflating: flowers/rose/7285188160_49d84b95a3_m.jpg  \n",
            "  inflating: flowers/rose/7302931078_30054c1970_n.jpg  \n",
            "  inflating: flowers/rose/7304710956_015b41f802_m.jpg  \n",
            "  inflating: flowers/rose/7316409504_7cf3707f8a_m.jpg  \n",
            "  inflating: flowers/rose/7345657862_689366e79a.jpg  \n",
            "  inflating: flowers/rose/7376471712_e1be793f94.jpg  \n",
            "  inflating: flowers/rose/7376473742_532364cee5_n.jpg  \n",
            "  inflating: flowers/rose/7409458444_0bfc9a0682_n.jpg  \n",
            "  inflating: flowers/rose/7419966772_d6c1c22a81.jpg  \n",
            "  inflating: flowers/rose/7420699022_60fa574524_m.jpg  \n",
            "  inflating: flowers/rose/7455236056_b6d71a8dab.jpg  \n",
            "  inflating: flowers/rose/7456196174_f9de97ba73_n.jpg  \n",
            "  inflating: flowers/rose/7456196534_f69c17efa3_n.jpg  \n",
            "  inflating: flowers/rose/7456196908_d34b9b76c4_n.jpg  \n",
            "  inflating: flowers/rose/7456197696_7e1558cc22_n.jpg  \n",
            "  inflating: flowers/rose/7456198272_f5d0c6bc7e_n.jpg  \n",
            "  inflating: flowers/rose/7456439188_c2ba954a5d_n.jpg  \n",
            "  inflating: flowers/rose/7456439862_8b1ae909b7_n.jpg  \n",
            "  inflating: flowers/rose/7456492140_478b48ef8e_n.jpg  \n",
            "  inflating: flowers/rose/7456611336_52fec6b57e_n.jpg  \n",
            "  inflating: flowers/rose/7456771390_c2505e08a2_n.jpg  \n",
            "  inflating: flowers/rose/7456887736_54e4ebac03_n.jpg  \n",
            "  inflating: flowers/rose/7456914664_cdee3170c5_n.jpg  \n",
            "  inflating: flowers/rose/7461878736_a55f749faf_n.jpg  \n",
            "  inflating: flowers/rose/7461896668_cfef58f894_n.jpg  \n",
            "  inflating: flowers/rose/7461897058_3c955efe2a_n.jpg  \n",
            "  inflating: flowers/rose/7461897398_0053093145_n.jpg  \n",
            "  inflating: flowers/rose/7461897646_3203dbe067_n.jpg  \n",
            "  inflating: flowers/rose/7461898018_7e12128f14_n.jpg  \n",
            "  inflating: flowers/rose/7461898754_9032a38963_n.jpg  \n",
            "  inflating: flowers/rose/7461899002_a3b21d0770_n.jpg  \n",
            "  inflating: flowers/rose/7461899330_3b72976570_n.jpg  \n",
            "  inflating: flowers/rose/7470985338_a1f3bba601_n.jpg  \n",
            "  inflating: flowers/rose/7470985688_c1ee9105fa_n.jpg  \n",
            "  inflating: flowers/rose/7470985840_a93e958554_n.jpg  \n",
            "  inflating: flowers/rose/7471890480_498910f3e3_n.jpg  \n",
            "  inflating: flowers/rose/7471890644_92a004ea92_n.jpg  \n",
            "  inflating: flowers/rose/7471890786_aaff777641_n.jpg  \n",
            "  inflating: flowers/rose/7471890996_e61b134867_n.jpg  \n",
            "  inflating: flowers/rose/7471891186_195bb02c98_n.jpg  \n",
            "  inflating: flowers/rose/7471891352_cfd56b4e45_n.jpg  \n",
            "  inflating: flowers/rose/7471891548_40f350dff2_n.jpg  \n",
            "  inflating: flowers/rose/7471891698_072c1de52f_n.jpg  \n",
            "  inflating: flowers/rose/7474124984_ca015e8c10_n.jpg  \n",
            "  inflating: flowers/rose/7474125638_332be2863e_n.jpg  \n",
            "  inflating: flowers/rose/7474126248_889a026929_n.jpg  \n",
            "  inflating: flowers/rose/7474126688_5f888ace5b_n.jpg  \n",
            "  inflating: flowers/rose/7481117422_66e73115ac_n.jpg  \n",
            "  inflating: flowers/rose/7481118128_b2de9538b4_n.jpg  \n",
            "  inflating: flowers/rose/7481118556_6c209b9b7d_n.jpg  \n",
            "  inflating: flowers/rose/7481118926_43fa291306_n.jpg  \n",
            "  inflating: flowers/rose/7481119180_7be71a322a_n.jpg  \n",
            "  inflating: flowers/rose/7481119492_a0016cb059_n.jpg  \n",
            "  inflating: flowers/rose/7481119854_b4bb358f0b_n.jpg  \n",
            "  inflating: flowers/rose/7502389724_85b4a6c855_n.jpg  \n",
            "  inflating: flowers/rose/7525783408_0999483bf4_m.jpg  \n",
            "  inflating: flowers/rose/7551637034_55ae047756_n.jpg  \n",
            "  inflating: flowers/rose/7683456068_02644b8382_m.jpg  \n",
            "  inflating: flowers/rose/7820626638_3e2d712303.jpg  \n",
            "  inflating: flowers/rose/7865295712_bcc94d120c.jpg  \n",
            "  inflating: flowers/rose/8032328803_30afac8b07_m.jpg  \n",
            "  inflating: flowers/rose/8035908422_87220425d2_n.jpg  \n",
            "  inflating: flowers/rose/8035910225_125beceb98_n.jpg  \n",
            "  inflating: flowers/rose/8036594516_69a7da5f73_m.jpg  \n",
            "  inflating: flowers/rose/8050213579_48e1e7109f.jpg  \n",
            "  inflating: flowers/rose/8060338380_eb6c806624_n.jpg  \n",
            "  inflating: flowers/rose/8063462557_e0a8bd6c64_n.jpg  \n",
            "  inflating: flowers/rose/8096324039_4db2555490.jpg  \n",
            "  inflating: flowers/rose/8125886145_ae99f91fd0.jpg  \n",
            "  inflating: flowers/rose/8181940917_1ac63937d5_n.jpg  \n",
            "  inflating: flowers/rose/8209458141_38f38be65c_m.jpg  \n",
            "  inflating: flowers/rose/8241471746_5d81fdd3c0_n.jpg  \n",
            "  inflating: flowers/rose/8269247725_4b56cd860d_n.jpg  \n",
            "  inflating: flowers/rose/8272822550_fc49484186_n.jpg  \n",
            "  inflating: flowers/rose/8273451349_acd4748da6_n.jpg  \n",
            "  inflating: flowers/rose/8279801891_5369a6c3c1_n.jpg  \n",
            "  inflating: flowers/rose/8301512319_45185c447f_n.jpg  \n",
            "  inflating: flowers/rose/8337607102_d9e0fa887e.jpg  \n",
            "  inflating: flowers/rose/8388497874_1fe750cc95_m.jpg  \n",
            "  inflating: flowers/rose/8394286483_69fe04cc7f.jpg  \n",
            "  inflating: flowers/rose/8437935944_aab997560a_n.jpg  \n",
            "  inflating: flowers/rose/850416050_31b3ff7086.jpg  \n",
            "  inflating: flowers/rose/8516036987_8a06dfe1b5_n.jpg  \n",
            "  inflating: flowers/rose/8523394349_61b31fdd8f_m.jpg  \n",
            "  inflating: flowers/rose/8524505682_bda885af3a_n.jpg  \n",
            "  inflating: flowers/rose/8524505868_236f4c94b5.jpg  \n",
            "  inflating: flowers/rose/8562144481_1d629848ff.jpg  \n",
            "  inflating: flowers/rose/8622493424_877ae35ed7.jpg  \n",
            "  inflating: flowers/rose/8642943283_47e44d049d_m.jpg  \n",
            "  inflating: flowers/rose/8644003462_2272de26eb.jpg  \n",
            "  inflating: flowers/rose/8667101118_87ea757b15.jpg  \n",
            "  inflating: flowers/rose/8667746487_781af9e615_n.jpg  \n",
            "  inflating: flowers/rose/8671682526_7058143c99.jpg  \n",
            "  inflating: flowers/rose/8674140377_ae7b0be523.jpg  \n",
            "  inflating: flowers/rose/8692040971_826614516f_n.jpg  \n",
            "  inflating: flowers/rose/8692051081_dffa8709e7_m.jpg  \n",
            "  inflating: flowers/rose/8723767157_c45bfd3ab6.jpg  \n",
            "  inflating: flowers/rose/873660804_37f5c6a46e_n.jpg  \n",
            "  inflating: flowers/rose/8742493617_c2a9bf854f_m.jpg  \n",
            "  inflating: flowers/rose/8742493689_fb852f0228_n.jpg  \n",
            "  inflating: flowers/rose/8747396730_966149e6fe_n.jpg  \n",
            "  inflating: flowers/rose/8775267816_726ddc6d92_n.jpg  \n",
            "  inflating: flowers/rose/8853083579_dd1dfa3188.jpg  \n",
            "  inflating: flowers/rose/8926641787_d2515dfe8f_m.jpg  \n",
            "  inflating: flowers/rose/8949720453_66e8304c30.jpg  \n",
            "  inflating: flowers/rose/8960904651_9a0b727258.jpg  \n",
            "  inflating: flowers/rose/898102603_2d5152f09a.jpg  \n",
            "  inflating: flowers/rose/8983268106_dc913d17d8_m.jpg  \n",
            "  inflating: flowers/rose/8987479080_32ab912d10_n.jpg  \n",
            "  inflating: flowers/rose/909277823_e6fb8cb5c8_n.jpg  \n",
            "  inflating: flowers/rose/9159362388_c6f4cf3812_n.jpg  \n",
            "  inflating: flowers/rose/9160289562_ab2718d19b.jpg  \n",
            "  inflating: flowers/rose/9164900485_605aa12da8.jpg  \n",
            "  inflating: flowers/rose/9164924345_6b63637acf.jpg  \n",
            "  inflating: flowers/rose/9167147034_0a66ee3616_n.jpg  \n",
            "  inflating: flowers/rose/921138131_9e1393eb2b_m.jpg  \n",
            "  inflating: flowers/rose/9216321995_83df405ea9.jpg  \n",
            "  inflating: flowers/rose/9216323421_f737c1d50e.jpg  \n",
            "  inflating: flowers/rose/9216324117_5fa1e2bc25_n.jpg  \n",
            "  inflating: flowers/rose/921984328_a60076f070_m.jpg  \n",
            "  inflating: flowers/rose/9298314004_c1a8146521.jpg  \n",
            "  inflating: flowers/rose/9300754115_dd79670066_n.jpg  \n",
            "  inflating: flowers/rose/9309388105_12c0b8dd54_m.jpg  \n",
            "  inflating: flowers/rose/9320934277_4fb95aef5d_n.jpg  \n",
            "  inflating: flowers/rose/9337528427_3d09b7012b.jpg  \n",
            "  inflating: flowers/rose/9338237628_4d2547608c.jpg  \n",
            "  inflating: flowers/rose/9353111163_7a89b2df35_n.jpg  \n",
            "  inflating: flowers/rose/9355706808_a9a723a8e8_n.jpg  \n",
            "  inflating: flowers/rose/9369421752_db1ab2a6a4_m.jpg  \n",
            "  inflating: flowers/rose/9404876600_04f6d37685.jpg  \n",
            "  inflating: flowers/rose/9423755543_edb35141a3_n.jpg  \n",
            "  inflating: flowers/rose/9433167170_fa056d3175.jpg  \n",
            "  inflating: flowers/rose/9458445402_79e4dfa89c.jpg  \n",
            "  inflating: flowers/rose/9609569441_eeb8566e94.jpg  \n",
            "  inflating: flowers/rose/9614492283_66020fb4eb_n.jpg  \n",
            "  inflating: flowers/rose/9633056561_6f1b7e8faf_m.jpg  \n",
            "  inflating: flowers/rose/9702378513_229a96b754_m.jpg  \n",
            "  inflating: flowers/rose/99383371_37a5ac12a3_n.jpg  \n",
            "  inflating: flowers/sunflower/1008566138_6927679c8a.jpg  \n",
            "  inflating: flowers/sunflower/1022552002_2b93faf9e7_n.jpg  \n",
            "  inflating: flowers/sunflower/1022552036_67d33d5bd8_n.jpg  \n",
            "  inflating: flowers/sunflower/10386503264_e05387e1f7_m.jpg  \n",
            "  inflating: flowers/sunflower/10386522775_4f8c616999_m.jpg  \n",
            "  inflating: flowers/sunflower/10386525005_fd0b7d6c55_n.jpg  \n",
            "  inflating: flowers/sunflower/10386525695_2c38fea555_n.jpg  \n",
            "  inflating: flowers/sunflower/10386540106_1431e73086_m.jpg  \n",
            "  inflating: flowers/sunflower/10386540696_0a95ee53a8_n.jpg  \n",
            "  inflating: flowers/sunflower/10386702973_e74a34c806_n.jpg  \n",
            "  inflating: flowers/sunflower/1043442695_4556c4c13d_n.jpg  \n",
            "  inflating: flowers/sunflower/1044296388_912143e1d4.jpg  \n",
            "  inflating: flowers/sunflower/10541580714_ff6b171abd_n.jpg  \n",
            "  inflating: flowers/sunflower/1064662314_c5a7891b9f_m.jpg  \n",
            "  inflating: flowers/sunflower/10862313945_e8ed9202d9_m.jpg  \n",
            "  inflating: flowers/sunflower/11881770944_22b4f2f8f6_n.jpg  \n",
            "  inflating: flowers/sunflower/1217254584_4b3028b93d.jpg  \n",
            "  inflating: flowers/sunflower/12282924083_fb80aa17d4_n.jpg  \n",
            "  inflating: flowers/sunflower/12323859023_447387dbf0_n.jpg  \n",
            "  inflating: flowers/sunflower/1240624822_4111dde542.jpg  \n",
            "  inflating: flowers/sunflower/1240625276_fb3bd0c7b1.jpg  \n",
            "  inflating: flowers/sunflower/1240626292_52cd5d7fb1_m.jpg  \n",
            "  inflating: flowers/sunflower/1244774242_25a20d99a9.jpg  \n",
            "  inflating: flowers/sunflower/12471290635_1f9e3aae16_n.jpg  \n",
            "  inflating: flowers/sunflower/12471441503_d188b5f31a_m.jpg  \n",
            "  inflating: flowers/sunflower/12471443383_b71e7a7480_m.jpg  \n",
            "  inflating: flowers/sunflower/12471791574_bb1be83df4.jpg  \n",
            "  inflating: flowers/sunflower/1267876087_a1b3c63dc9.jpg  \n",
            "  inflating: flowers/sunflower/127192624_afa3d9cb84.jpg  \n",
            "  inflating: flowers/sunflower/1297092593_e573c0a3d6.jpg  \n",
            "  inflating: flowers/sunflower/13095941995_9a66faa713_n.jpg  \n",
            "  inflating: flowers/sunflower/13096076565_72c2c60875_n.jpg  \n",
            "  inflating: flowers/sunflower/13117907313_86c99c6441.jpg  \n",
            "  inflating: flowers/sunflower/1314584013_fe935fdeb1_n.jpg  \n",
            "  inflating: flowers/sunflower/13568621944_d575324b8c_n.jpg  \n",
            "  inflating: flowers/sunflower/13648603305_1268eda8b7_n.jpg  \n",
            "  inflating: flowers/sunflower/1379256773_bb2eb0d95b_n.jpg  \n",
            "  inflating: flowers/sunflower/13959937305_2f5c532886_n.jpg  \n",
            "  inflating: flowers/sunflower/14121915990_4b76718077_m.jpg  \n",
            "  inflating: flowers/sunflower/14144522269_bc20029375_m.jpg  \n",
            "  inflating: flowers/sunflower/1419608016_707b887337_n.jpg  \n",
            "  inflating: flowers/sunflower/14244273988_a7484f18b7_m.jpg  \n",
            "  inflating: flowers/sunflower/14244410747_22691ece4a_n.jpg  \n",
            "  inflating: flowers/sunflower/14266917699_91b207888e.jpg  \n",
            "  inflating: flowers/sunflower/14348961225_09bd803317_n.jpg  \n",
            "  inflating: flowers/sunflower/14397276020_49f9423614.jpg  \n",
            "  inflating: flowers/sunflower/14460075029_5cd715bb72_m.jpg  \n",
            "  inflating: flowers/sunflower/14460081668_eda8795693_m.jpg  \n",
            "  inflating: flowers/sunflower/14472246629_72373111e6_m.jpg  \n",
            "  inflating: flowers/sunflower/145303599_2627e23815_n.jpg  \n",
            "  inflating: flowers/sunflower/14623719696_1bb7970208_n.jpg  \n",
            "  inflating: flowers/sunflower/14623720226_aeeac66e0a_n.jpg  \n",
            "  inflating: flowers/sunflower/14646279002_9cdf97be97_n.jpg  \n",
            "  inflating: flowers/sunflower/14646280372_dd50be16e4_n.jpg  \n",
            "  inflating: flowers/sunflower/14646281372_5f13794b47.jpg  \n",
            "  inflating: flowers/sunflower/14646282112_447cc7d1f9.jpg  \n",
            "  inflating: flowers/sunflower/14646283472_50a3ae1395.jpg  \n",
            "  inflating: flowers/sunflower/14678298676_6db8831ee6_m.jpg  \n",
            "  inflating: flowers/sunflower/14698136411_23bdcff7bf_n.jpg  \n",
            "  inflating: flowers/sunflower/14741812319_e1d32ffb84_n.jpg  \n",
            "  inflating: flowers/sunflower/14741813010_5d44e33088_n.jpg  \n",
            "  inflating: flowers/sunflower/14741813110_94964c39e2_n.jpg  \n",
            "  inflating: flowers/sunflower/14741866338_bdc8bfc8d5_n.jpg  \n",
            "  inflating: flowers/sunflower/14741907467_fab96f3b2b_n.jpg  \n",
            "  inflating: flowers/sunflower/147804446_ef9244c8ce_m.jpg  \n",
            "  inflating: flowers/sunflower/14814264272_4b39a102f9_n.jpg  \n",
            "  inflating: flowers/sunflower/1484598527_579a272f53.jpg  \n",
            "  inflating: flowers/sunflower/1485456230_58d8e45e88.jpg  \n",
            "  inflating: flowers/sunflower/14858674096_ed0fc1a130.jpg  \n",
            "  inflating: flowers/sunflower/14881304632_54a9dfb8be.jpg  \n",
            "  inflating: flowers/sunflower/14889392928_9742aed45b_m.jpg  \n",
            "  inflating: flowers/sunflower/14889779907_3d401bbac7_m.jpg  \n",
            "  inflating: flowers/sunflower/14901528533_ac1ce09063.jpg  \n",
            "  inflating: flowers/sunflower/14921668662_3ffc5b9db3_n.jpg  \n",
            "  inflating: flowers/sunflower/14925397351_c7f209d804_n.jpg  \n",
            "  inflating: flowers/sunflower/14925397651_97dcddc383_n.jpg  \n",
            "  inflating: flowers/sunflower/14925397761_46ecfa24e0.jpg  \n",
            "  inflating: flowers/sunflower/14925398301_55a180f919_n.jpg  \n",
            "  inflating: flowers/sunflower/14925398441_107f3e0304_n.jpg  \n",
            "  inflating: flowers/sunflower/14928117202_139d2142cc_n.jpg  \n",
            "  inflating: flowers/sunflower/14932787983_d6e05f2434_m.jpg  \n",
            "  inflating: flowers/sunflower/14955545254_324cd4ee75.jpg  \n",
            "  inflating: flowers/sunflower/14969295739_c132a08663_n.jpg  \n",
            "  inflating: flowers/sunflower/15026703621_e15e9d55f0_n.jpg  \n",
            "  inflating: flowers/sunflower/15030133005_9728102622_z.jpg  \n",
            "  inflating: flowers/sunflower/15042911059_b6153d94e7_n.jpg  \n",
            "  inflating: flowers/sunflower/15043962658_dcf9dff5e9_n.jpg  \n",
            "  inflating: flowers/sunflower/15054750690_198b6ab0f2_n.jpg  \n",
            "  inflating: flowers/sunflower/15054751430_5af76f6096_n.jpg  \n",
            "  inflating: flowers/sunflower/15054752730_fcf54d475e_m.jpg  \n",
            "  inflating: flowers/sunflower/15054753070_4f6ae0e763_m.jpg  \n",
            "  inflating: flowers/sunflower/15054864058_2edca122a9_n.jpg  \n",
            "  inflating: flowers/sunflower/15054864508_0334b892be_m.jpg  \n",
            "  inflating: flowers/sunflower/15054865217_e398d0dc9f_n.jpg  \n",
            "  inflating: flowers/sunflower/15054865768_2cc87ac9d4_m.jpg  \n",
            "  inflating: flowers/sunflower/15054866658_c1a6223403_m.jpg  \n",
            "  inflating: flowers/sunflower/15054866898_60ee50ec6b_n.jpg  \n",
            "  inflating: flowers/sunflower/15066430311_fb57fa92b0_m.jpg  \n",
            "  inflating: flowers/sunflower/15069459615_7e0fd61914_n.jpg  \n",
            "  inflating: flowers/sunflower/15072973261_73e2912ef2_n.jpg  \n",
            "  inflating: flowers/sunflower/15081164641_45a7b92b3a_m.jpg  \n",
            "  inflating: flowers/sunflower/15108515192_f686dce398_n.jpg  \n",
            "  inflating: flowers/sunflower/15118243470_7e0a7f159c_n.jpg  \n",
            "  inflating: flowers/sunflower/15118397087_bfb7ea70d5_n.jpg  \n",
            "  inflating: flowers/sunflower/15122112402_cafa41934f.jpg  \n",
            "  inflating: flowers/sunflower/15122622946_1707cfd8a5_n.jpg  \n",
            "  inflating: flowers/sunflower/15122871130_6a7d0b4372_n.jpg  \n",
            "  inflating: flowers/sunflower/15145607875_e87204d78c_n.jpg  \n",
            "  inflating: flowers/sunflower/151898652_b5f1c70b98_n.jpg  \n",
            "  inflating: flowers/sunflower/15191613243_82ee8e0fe8.jpg  \n",
            "  inflating: flowers/sunflower/15207507116_8b7f894508_m.jpg  \n",
            "  inflating: flowers/sunflower/15218421476_9d5f38e732_m.jpg  \n",
            "  inflating: flowers/sunflower/15218871222_c104032ca1.jpg  \n",
            "  inflating: flowers/sunflower/15238348741_c2fb12ecf2_m.jpg  \n",
            "  inflating: flowers/sunflower/15240466871_ec45b65554_m.jpg  \n",
            "  inflating: flowers/sunflower/15243175532_ac28c48e14_m.jpg  \n",
            "  inflating: flowers/sunflower/15266715291_dfa3f1d49f_n.jpg  \n",
            "  inflating: flowers/sunflower/15380755137_a2e67839ab_m.jpg  \n",
            "  inflating: flowers/sunflower/15443139789_5318389b8c_n.jpg  \n",
            "  inflating: flowers/sunflower/15460162172_014bcce403.jpg  \n",
            "  inflating: flowers/sunflower/15472217046_2699b25584.jpg  \n",
            "  inflating: flowers/sunflower/15493195788_60530f2398_m.jpg  \n",
            "  inflating: flowers/sunflower/15495578821_92c6d14252_n.jpg  \n",
            "  inflating: flowers/sunflower/15495579081_661cb260d1_n.jpg  \n",
            "  inflating: flowers/sunflower/15683877266_42e0fe3782_n.jpg  \n",
            "  inflating: flowers/sunflower/15745084272_36402f5ee6_n.jpg  \n",
            "  inflating: flowers/sunflower/15839183375_49bf4f75e8_m.jpg  \n",
            "  inflating: flowers/sunflower/1596293240_2d5b53495a_m.jpg  \n",
            "  inflating: flowers/sunflower/15973657966_d6f6005539_n.jpg  \n",
            "  inflating: flowers/sunflower/16143151468_4f3c033e33.jpg  \n",
            "  inflating: flowers/sunflower/16153267338_2f39906bcb_n.jpg  \n",
            "  inflating: flowers/sunflower/164668737_aeab0cb55e_n.jpg  \n",
            "  inflating: flowers/sunflower/164670176_9f5b9c7965.jpg  \n",
            "  inflating: flowers/sunflower/164670455_29d8e02bbd_n.jpg  \n",
            "  inflating: flowers/sunflower/164671753_ab36d9cbb7_n.jpg  \n",
            "  inflating: flowers/sunflower/164672339_f2b5b164f6.jpg  \n",
            "  inflating: flowers/sunflower/16616096711_12375a0260_n.jpg  \n",
            "  inflating: flowers/sunflower/16656015339_2ccb7cd18d.jpg  \n",
            "  inflating: flowers/sunflower/16832961488_5f7e70eb5e_n.jpg  \n",
            "  inflating: flowers/sunflower/16967372357_15b1b9a812_n.jpg  \n",
            "  inflating: flowers/sunflower/16975010069_7afd290657_m.jpg  \n",
            "  inflating: flowers/sunflower/16988605969_570329ff20_n.jpg  \n",
            "  inflating: flowers/sunflower/17148843706_df148301ac_n.jpg  \n",
            "  inflating: flowers/sunflower/1715303025_e7065327e2.jpg  \n",
            "  inflating: flowers/sunflower/17433282043_441b0a07f4_n.jpg  \n",
            "  inflating: flowers/sunflower/175638423_058c07afb9.jpg  \n",
            "  inflating: flowers/sunflower/1788133737_b1133d1aa7.jpg  \n",
            "  inflating: flowers/sunflower/18097401209_910a46fae1_n.jpg  \n",
            "  inflating: flowers/sunflower/18237156988_9ceb46a8de_n.jpg  \n",
            "  inflating: flowers/sunflower/18237215308_a158d49f28_n.jpg  \n",
            "  inflating: flowers/sunflower/18250039435_7654bc11be_n.jpg  \n",
            "  inflating: flowers/sunflower/184682095_46f8607278.jpg  \n",
            "  inflating: flowers/sunflower/184682320_73ccf74710.jpg  \n",
            "  inflating: flowers/sunflower/184682506_8a9b8c662d.jpg  \n",
            "  inflating: flowers/sunflower/184682652_c927a49226_m.jpg  \n",
            "  inflating: flowers/sunflower/184682920_97ae41ce60_m.jpg  \n",
            "  inflating: flowers/sunflower/184683023_737fec5b18.jpg  \n",
            "  inflating: flowers/sunflower/18766965343_9f42d4bedc_m.jpg  \n",
            "  inflating: flowers/sunflower/1880606744_23e3dc4f6b_n.jpg  \n",
            "  inflating: flowers/sunflower/18828277053_1493158b28.jpg  \n",
            "  inflating: flowers/sunflower/18828283553_e46504ae38.jpg  \n",
            "  inflating: flowers/sunflower/18843967474_9cb552716b.jpg  \n",
            "  inflating: flowers/sunflower/18972803569_1a0634f398_m.jpg  \n",
            "  inflating: flowers/sunflower/19349582128_68a662075e_n.jpg  \n",
            "  inflating: flowers/sunflower/19359539074_d7e32e6616_n.jpg  \n",
            "  inflating: flowers/sunflower/193874852_fb633d8d00_n.jpg  \n",
            "  inflating: flowers/sunflower/193878348_43571127b9_n.jpg  \n",
            "  inflating: flowers/sunflower/19442589512_e733cfea0f.jpg  \n",
            "  inflating: flowers/sunflower/19453165201_2aa747e0bf.jpg  \n",
            "  inflating: flowers/sunflower/19504937128_a4ae90fcbd_m.jpg  \n",
            "  inflating: flowers/sunflower/19508264965_d1dfb565ea_n.jpg  \n",
            "  inflating: flowers/sunflower/19519101829_46af0b4547_m.jpg  \n",
            "  inflating: flowers/sunflower/19595718862_c68896370c_m.jpg  \n",
            "  inflating: flowers/sunflower/19697910486_0086d893a2.jpg  \n",
            "  inflating: flowers/sunflower/197011740_21825de2bf.jpg  \n",
            "  inflating: flowers/sunflower/19710076021_f5bb162540.jpg  \n",
            "  inflating: flowers/sunflower/19710925313_31682fa22b_m.jpg  \n",
            "  inflating: flowers/sunflower/19756232959_17cde3b9f0_m.jpg  \n",
            "  inflating: flowers/sunflower/19784656639_cd7f0a4a26_m.jpg  \n",
            "  inflating: flowers/sunflower/19915160340_ec904edbdf_n.jpg  \n",
            "  inflating: flowers/sunflower/200011914_93f57ed68b.jpg  \n",
            "  inflating: flowers/sunflower/20022771089_3cc7e5086d_m.jpg  \n",
            "  inflating: flowers/sunflower/200288046_0032f322ff_n.jpg  \n",
            "  inflating: flowers/sunflower/200557977_bf24d9550b.jpg  \n",
            "  inflating: flowers/sunflower/200557979_a16112aac1_n.jpg  \n",
            "  inflating: flowers/sunflower/200557981_f800fa1af9.jpg  \n",
            "  inflating: flowers/sunflower/200557983_10a88672fc.jpg  \n",
            "  inflating: flowers/sunflower/20078317834_6e0983c0f5_n.jpg  \n",
            "  inflating: flowers/sunflower/20078409301_aa8061bd0b_n.jpg  \n",
            "  inflating: flowers/sunflower/20112366233_d6cb3b6e15_n.jpg  \n",
            "  inflating: flowers/sunflower/20148493928_9f75a99783.jpg  \n",
            "  inflating: flowers/sunflower/20156280765_a6baea3176.jpg  \n",
            "  inflating: flowers/sunflower/20171662239_f69b6c12bd_n.jpg  \n",
            "  inflating: flowers/sunflower/201809908_0ef84bb351.jpg  \n",
            "  inflating: flowers/sunflower/20183028616_beb937e75c_m.jpg  \n",
            "  inflating: flowers/sunflower/20183071136_c297e74fcc_m.jpg  \n",
            "  inflating: flowers/sunflower/20258015499_93b9951800_m.jpg  \n",
            "  inflating: flowers/sunflower/20342824594_9740b7b160.jpg  \n",
            "  inflating: flowers/sunflower/20344282483_05abb0b837.jpg  \n",
            "  inflating: flowers/sunflower/20344366953_44fb51051b.jpg  \n",
            "  inflating: flowers/sunflower/20406385204_469f6749e2_n.jpg  \n",
            "  inflating: flowers/sunflower/20407896403_a50fef58ac_n.jpg  \n",
            "  inflating: flowers/sunflower/20410533613_56da1cce7c.jpg  \n",
            "  inflating: flowers/sunflower/20410697750_c43973d1eb.jpg  \n",
            "  inflating: flowers/sunflower/20481273479_d459834a3e_n.jpg  \n",
            "  inflating: flowers/sunflower/20621698991_dcb323911d.jpg  \n",
            "  inflating: flowers/sunflower/20658775992_1619cd0a9b_n.jpg  \n",
            "  inflating: flowers/sunflower/20667988875_6e73ac2879_n.jpg  \n",
            "  inflating: flowers/sunflower/2067882323_8de6623ffd.jpg  \n",
            "  inflating: flowers/sunflower/20704967595_a9c9b8d431.jpg  \n",
            "  inflating: flowers/sunflower/20753711039_0b11d24b50_n.jpg  \n",
            "  inflating: flowers/sunflower/20777358950_c63ea569a1.jpg  \n",
            "  inflating: flowers/sunflower/20777375650_ef854bf645.jpg  \n",
            "  inflating: flowers/sunflower/20812318934_82f10c45a1_n.jpg  \n",
            "  inflating: flowers/sunflower/20871601265_daa4be4291_n.jpg  \n",
            "  inflating: flowers/sunflower/20905163782_312e2c3bda_n.jpg  \n",
            "  inflating: flowers/sunflower/20938724084_7fe6bf87ae_n.jpg  \n",
            "  inflating: flowers/sunflower/20965412955_2c640b13bd.jpg  \n",
            "  inflating: flowers/sunflower/20972862281_5367f4af88.jpg  \n",
            "  inflating: flowers/sunflower/20972866151_e6a928b00a.jpg  \n",
            "  inflating: flowers/sunflower/210076535_80951bc5d5.jpg  \n",
            "  inflating: flowers/sunflower/21134000558_d7d6c9b1fe_n.jpg  \n",
            "  inflating: flowers/sunflower/21349789961_18ba1af5b7_n.jpg  \n",
            "  inflating: flowers/sunflower/21374127408_5ffbe87bb2.jpg  \n",
            "  inflating: flowers/sunflower/21518663809_3d69f5b995_n.jpg  \n",
            "  inflating: flowers/sunflower/215798352_184d8040d1.jpg  \n",
            "  inflating: flowers/sunflower/215798354_429de28c2d.jpg  \n",
            "  inflating: flowers/sunflower/215798357_3f4bfa27b7.jpg  \n",
            "  inflating: flowers/sunflower/21728822928_9f6817325a_n.jpg  \n",
            "  inflating: flowers/sunflower/21796333524_38fc8e0ab5_n.jpg  \n",
            "  inflating: flowers/sunflower/21821266773_7113d34c35_m.jpg  \n",
            "  inflating: flowers/sunflower/21899501660_7065d1c1fa_n.jpg  \n",
            "  inflating: flowers/sunflower/21984860006_20dfacea1c_m.jpg  \n",
            "  inflating: flowers/sunflower/21995435890_e5672244a4_m.jpg  \n",
            "  inflating: flowers/sunflower/22183521655_56221bf2a4_n.jpg  \n",
            "  inflating: flowers/sunflower/22183529245_ce13557515_m.jpg  \n",
            "  inflating: flowers/sunflower/22203670478_9ec5c2700b_n.jpg  \n",
            "  inflating: flowers/sunflower/22255608949_172d7c8d22_m.jpg  \n",
            "  inflating: flowers/sunflower/22405882322_d4561f8469_n.jpg  \n",
            "  inflating: flowers/sunflower/22405887122_75eda1872f_m.jpg  \n",
            "  inflating: flowers/sunflower/22416421196_caf131c9fa_m.jpg  \n",
            "  inflating: flowers/sunflower/22419079265_8902cddb7d_n.jpg  \n",
            "  inflating: flowers/sunflower/22429146402_332fa2fc72_m.jpg  \n",
            "  inflating: flowers/sunflower/22429946721_e17a12cb39_n.jpg  \n",
            "  inflating: flowers/sunflower/22478719251_276cb094f9_n.jpg  \n",
            "  inflating: flowers/sunflower/22686342422_c0b9e2f38e.jpg  \n",
            "  inflating: flowers/sunflower/22992257000_76dbc599e7_m.jpg  \n",
            "  inflating: flowers/sunflower/2307673262_e1e1aefd29.jpg  \n",
            "  inflating: flowers/sunflower/23204123212_ef32fbafbe.jpg  \n",
            "  inflating: flowers/sunflower/23247483352_0defc7a6dc_n.jpg  \n",
            "  inflating: flowers/sunflower/2328600790_90e2942557_n.jpg  \n",
            "  inflating: flowers/sunflower/23286304156_3635f7de05.jpg  \n",
            "  inflating: flowers/sunflower/23356825566_f5885875f2.jpg  \n",
            "  inflating: flowers/sunflower/235651658_a7b3e7cbdd.jpg  \n",
            "  inflating: flowers/sunflower/23645265812_24352ff6bf.jpg  \n",
            "  inflating: flowers/sunflower/23894449029_bf0f34d35d_n.jpg  \n",
            "  inflating: flowers/sunflower/2425164088_4a5d2cdf21_n.jpg  \n",
            "  inflating: flowers/sunflower/244074259_47ce6d3ef9.jpg  \n",
            "  inflating: flowers/sunflower/2442985637_8748180f69.jpg  \n",
            "  inflating: flowers/sunflower/2443095419_17b920d155_m.jpg  \n",
            "  inflating: flowers/sunflower/2443921986_d4582c123a.jpg  \n",
            "  inflating: flowers/sunflower/24459548_27a783feda.jpg  \n",
            "  inflating: flowers/sunflower/24459750_eb49f6e4cb_m.jpg  \n",
            "  inflating: flowers/sunflower/253586685_ee5b5f5232.jpg  \n",
            "  inflating: flowers/sunflower/2575272111_f04d79b9af_n.jpg  \n",
            "  inflating: flowers/sunflower/2588234269_c4bfd0d8b9_n.jpg  \n",
            "  inflating: flowers/sunflower/2588453601_66f2a03cca_n.jpg  \n",
            "  inflating: flowers/sunflower/2598973480_07de93e91d_n.jpg  \n",
            "  inflating: flowers/sunflower/2619000556_6634478e64_n.jpg  \n",
            "  inflating: flowers/sunflower/26254755_1bfc494ef1_n.jpg  \n",
            "  inflating: flowers/sunflower/265422922_bbbde781d2_m.jpg  \n",
            "  inflating: flowers/sunflower/265450085_6e9f276e2e.jpg  \n",
            "  inflating: flowers/sunflower/2678588376_6ca64a4a54_n.jpg  \n",
            "  inflating: flowers/sunflower/2689228449_e0be72cf00_n.jpg  \n",
            "  inflating: flowers/sunflower/2694860538_b95d60122c_m.jpg  \n",
            "  inflating: flowers/sunflower/2697194548_ec8f8de97c_n.jpg  \n",
            "  inflating: flowers/sunflower/2706304885_4916102704_n.jpg  \n",
            "  inflating: flowers/sunflower/2706736074_b0fba20b3e.jpg  \n",
            "  inflating: flowers/sunflower/2720698862_486d3ec079_m.jpg  \n",
            "  inflating: flowers/sunflower/2721638730_34a9b7a78b.jpg  \n",
            "  inflating: flowers/sunflower/2723995667_31f32294b4.jpg  \n",
            "  inflating: flowers/sunflower/2729206569_9dd2b5a3ed.jpg  \n",
            "  inflating: flowers/sunflower/2733109082_1351f6738a_n.jpg  \n",
            "  inflating: flowers/sunflower/27465811_9477c9d044.jpg  \n",
            "  inflating: flowers/sunflower/27466794_57e4fe5656.jpg  \n",
            "  inflating: flowers/sunflower/274846229_990e976683_n.jpg  \n",
            "  inflating: flowers/sunflower/274848710_5185cf33b1_n.jpg  \n",
            "  inflating: flowers/sunflower/2759796022_55bd47bfa2_n.jpg  \n",
            "  inflating: flowers/sunflower/2767658405_1e2043f44c_n.jpg  \n",
            "  inflating: flowers/sunflower/2767688889_b176b0c3fb.jpg  \n",
            "  inflating: flowers/sunflower/2803725948_5fd1f2fc99_n.jpg  \n",
            "  inflating: flowers/sunflower/2807106374_f422b5f00c.jpg  \n",
            "  inflating: flowers/sunflower/2816256710_a2d3616fae.jpg  \n",
            "  inflating: flowers/sunflower/2816503473_580306e772.jpg  \n",
            "  inflating: flowers/sunflower/2823659190_afdabee45c.jpg  \n",
            "  inflating: flowers/sunflower/28661674053_44f8034570_n.jpg  \n",
            "  inflating: flowers/sunflower/28664252816_1f24388ee6_n.jpg  \n",
            "  inflating: flowers/sunflower/287233531_74d4605814_m.jpg  \n",
            "  inflating: flowers/sunflower/2883115609_5a69357b5d_m.jpg  \n",
            "  inflating: flowers/sunflower/2883115621_4837267ea1_m.jpg  \n",
            "  inflating: flowers/sunflower/2894191705_a1d2d80c80.jpg  \n",
            "  inflating: flowers/sunflower/2895404754_6d9f9416d7_n.jpg  \n",
            "  inflating: flowers/sunflower/2927020075_54c9186797_n.jpg  \n",
            "  inflating: flowers/sunflower/2940221732_3507f3e927_n.jpg  \n",
            "  inflating: flowers/sunflower/29429430522_b7a22cd3df_n.jpg  \n",
            "  inflating: flowers/sunflower/2944298800_1984bd4f8a_m.jpg  \n",
            "  inflating: flowers/sunflower/2949654221_909b0c86a1_n.jpg  \n",
            "  inflating: flowers/sunflower/2950505226_529e013bf7_m.jpg  \n",
            "  inflating: flowers/sunflower/2960610406_b61930727f_n.jpg  \n",
            "  inflating: flowers/sunflower/29744655960_c0868b43da_n.jpg  \n",
            "  inflating: flowers/sunflower/29744656500_f17578f7e3_n.jpg  \n",
            "  inflating: flowers/sunflower/2979133707_84aab35b5d.jpg  \n",
            "  inflating: flowers/sunflower/2979297519_17a08b37f6_m.jpg  \n",
            "  inflating: flowers/sunflower/2980154410_bffd7a3452_n.jpg  \n",
            "  inflating: flowers/sunflower/29955482321_2d6269c164_n.jpg  \n",
            "  inflating: flowers/sunflower/2996573407_5e473b9359.jpg  \n",
            "  inflating: flowers/sunflower/29972905_4cc537ff4b_n.jpg  \n",
            "  inflating: flowers/sunflower/3001531316_efae24d37d_n.jpg  \n",
            "  inflating: flowers/sunflower/3001533700_1c62fb8b4a_n.jpg  \n",
            "  inflating: flowers/sunflower/3001536784_3bfd101b23_n.jpg  \n",
            "  inflating: flowers/sunflower/3062794421_295f8c2c4e.jpg  \n",
            "  inflating: flowers/sunflower/310380634_60e6c79989.jpg  \n",
            "  inflating: flowers/sunflower/3146795631_d062f233c1.jpg  \n",
            "  inflating: flowers/sunflower/3154932076_eff5c38231_n.jpg  \n",
            "  inflating: flowers/sunflower/3154932290_4bf43bd34f_n.jpg  \n",
            "  inflating: flowers/sunflower/3196753837_411b03682d_n.jpg  \n",
            "  inflating: flowers/sunflower/3311874685_7b9ef10f7e_m.jpg  \n",
            "  inflating: flowers/sunflower/3334350831_f8755a2095_n.jpg  \n",
            "  inflating: flowers/sunflower/34312487015_66a635fd71_n.jpg  \n",
            "  inflating: flowers/sunflower/34571133752_0a9337993c_n.jpg  \n",
            "  inflating: flowers/sunflower/34571252122_b3b1f45fac_n.jpg  \n",
            "  inflating: flowers/sunflower/34572755322_b43e90cae2_n.jpg  \n",
            "  inflating: flowers/sunflower/3466923719_b4b6df7f8b_n.jpg  \n",
            "  inflating: flowers/sunflower/34692938506_efda47f39a_n.jpg  \n",
            "  inflating: flowers/sunflower/34695605616_3b05bb1ef5_n.jpg  \n",
            "  inflating: flowers/sunflower/3514340206_efb8198a80_n.jpg  \n",
            "  inflating: flowers/sunflower/35477171_13cb52115c_n.jpg  \n",
            "  inflating: flowers/sunflower/3568114325_d6b1363497.jpg  \n",
            "  inflating: flowers/sunflower/3568925290_faf7aec3a0.jpg  \n",
            "  inflating: flowers/sunflower/3575811488_a31714472a.jpg  \n",
            "  inflating: flowers/sunflower/3594967811_697184b026_n.jpg  \n",
            "  inflating: flowers/sunflower/3596902268_049e33a2cb_n.jpg  \n",
            "  inflating: flowers/sunflower/3665455426_9cd1c3af4a_n.jpg  \n",
            "  inflating: flowers/sunflower/3681233294_4f06cd8903.jpg  \n",
            "  inflating: flowers/sunflower/3683873444_be4a609c46.jpg  \n",
            "  inflating: flowers/sunflower/3731075939_6c92d7fe68_m.jpg  \n",
            "  inflating: flowers/sunflower/3734999477_7f454081aa_n.jpg  \n",
            "  inflating: flowers/sunflower/3749090865_b90f28a585_n.jpg  \n",
            "  inflating: flowers/sunflower/3749091071_c146b33c74_n.jpg  \n",
            "  inflating: flowers/sunflower/3766264038_ea701c7131_n.jpg  \n",
            "  inflating: flowers/sunflower/3784815653_5df39aa9c2_m.jpg  \n",
            "  inflating: flowers/sunflower/3798841385_38142ea3c6_n.jpg  \n",
            "  inflating: flowers/sunflower/3815322974_52c12dbde3.jpg  \n",
            "  inflating: flowers/sunflower/3832945398_96509d192b.jpg  \n",
            "  inflating: flowers/sunflower/3838274225_36010c6254_n.jpg  \n",
            "  inflating: flowers/sunflower/3840761441_7c648abf4d_n.jpg  \n",
            "  inflating: flowers/sunflower/3846717708_ea11383ed8.jpg  \n",
            "  inflating: flowers/sunflower/3846907701_e13b66aa87.jpg  \n",
            "  inflating: flowers/sunflower/3848405800_8eea982c40.jpg  \n",
            "  inflating: flowers/sunflower/3858508462_db2b9692d1.jpg  \n",
            "  inflating: flowers/sunflower/3865206264_5d81584bba.jpg  \n",
            "  inflating: flowers/sunflower/3883895985_bd20198371.jpg  \n",
            "  inflating: flowers/sunflower/3884437548_ca8c36be3f_n.jpg  \n",
            "  inflating: flowers/sunflower/3888908087_462d0045f2_n.jpg  \n",
            "  inflating: flowers/sunflower/3889694330_6f84d123d5_n.jpg  \n",
            "  inflating: flowers/sunflower/3889699518_77bf85bf44_n.jpg  \n",
            "  inflating: flowers/sunflower/3893436870_034b79d118_n.jpg  \n",
            "  inflating: flowers/sunflower/3894586562_5dbbdc4354_n.jpg  \n",
            "  inflating: flowers/sunflower/3897174387_07aac6bf5f_n.jpg  \n",
            "  inflating: flowers/sunflower/3912497870_a2f91c3a65_n.jpg  \n",
            "  inflating: flowers/sunflower/3912497888_e7a5905bc3_n.jpg  \n",
            "  inflating: flowers/sunflower/3920137864_e922ab25b4_n.jpg  \n",
            "  inflating: flowers/sunflower/3922005347_7b6fb82fcd.jpg  \n",
            "  inflating: flowers/sunflower/39271782_b4335d09ae_n.jpg  \n",
            "  inflating: flowers/sunflower/3946535195_9382dcb951_n.jpg  \n",
            "  inflating: flowers/sunflower/3946535709_78613461cb_n.jpg  \n",
            "  inflating: flowers/sunflower/3950020811_dab89bebc0_n.jpg  \n",
            "  inflating: flowers/sunflower/3951246342_930138610b_n.jpg  \n",
            "  inflating: flowers/sunflower/4019748730_ee09b39a43.jpg  \n",
            "  inflating: flowers/sunflower/40410686_272bc66faf_m.jpg  \n",
            "  inflating: flowers/sunflower/40410814_fba3837226_n.jpg  \n",
            "  inflating: flowers/sunflower/40410963_3ac280f23a_n.jpg  \n",
            "  inflating: flowers/sunflower/40411019_526f3fc8d9_m.jpg  \n",
            "  inflating: flowers/sunflower/40411100_7fbe10ec0f_n.jpg  \n",
            "  inflating: flowers/sunflower/4042816698_578a1d599e.jpg  \n",
            "  inflating: flowers/sunflower/4080112931_cb20b3d51a_n.jpg  \n",
            "  inflating: flowers/sunflower/4110787181_f73f12d107_m.jpg  \n",
            "  inflating: flowers/sunflower/4160805260_cf758daeae_n.jpg  \n",
            "  inflating: flowers/sunflower/417251603_69f0ee57a9_m.jpg  \n",
            "  inflating: flowers/sunflower/418056361_1dfac1c151_n.jpg  \n",
            "  inflating: flowers/sunflower/4186808407_06688641e2_n.jpg  \n",
            "  inflating: flowers/sunflower/4191299785_a4faca9b74_n.jpg  \n",
            "  inflating: flowers/sunflower/4235259239_21f2eb4f2e.jpg  \n",
            "  inflating: flowers/sunflower/4271193206_666ef60aa0_m.jpg  \n",
            "  inflating: flowers/sunflower/4341530649_c17bbc5d01.jpg  \n",
            "  inflating: flowers/sunflower/4398771472_44f2a0c162_n.jpg  \n",
            "  inflating: flowers/sunflower/44079668_34dfee3da1_n.jpg  \n",
            "  inflating: flowers/sunflower/4414080766_5116e8084e.jpg  \n",
            "  inflating: flowers/sunflower/4414081772_8a0e8a1327.jpg  \n",
            "  inflating: flowers/sunflower/4414083164_3f285f8ac5.jpg  \n",
            "  inflating: flowers/sunflower/4414084638_03d2db38ae.jpg  \n",
            "  inflating: flowers/sunflower/4489516263_e49fe82637_n.jpg  \n",
            "  inflating: flowers/sunflower/45045003_30bbd0a142_m.jpg  \n",
            "  inflating: flowers/sunflower/45045005_57354ee844.jpg  \n",
            "  inflating: flowers/sunflower/4528959364_fa544b0f4e_m.jpg  \n",
            "  inflating: flowers/sunflower/4623843480_23e3fb8dcc_n.jpg  \n",
            "  inflating: flowers/sunflower/4625255191_26e17a28c9_n.jpg  \n",
            "  inflating: flowers/sunflower/4626721387_88f89d5cc9_n.jpg  \n",
            "  inflating: flowers/sunflower/4664737020_b4c61aacd3_n.jpg  \n",
            "  inflating: flowers/sunflower/4664767140_fe01231322_n.jpg  \n",
            "  inflating: flowers/sunflower/4673984698_6ec14d5b79.jpg  \n",
            "  inflating: flowers/sunflower/4689061249_6498da5013.jpg  \n",
            "  inflating: flowers/sunflower/4745980581_a0b7585258_n.jpg  \n",
            "  inflating: flowers/sunflower/4745985619_249078cafa_n.jpg  \n",
            "  inflating: flowers/sunflower/4745991955_6804568ae0_n.jpg  \n",
            "  inflating: flowers/sunflower/4746638094_f5336788a0_n.jpg  \n",
            "  inflating: flowers/sunflower/4746643626_02b2d056a2_n.jpg  \n",
            "  inflating: flowers/sunflower/4746648726_e37a2de16d_n.jpg  \n",
            "  inflating: flowers/sunflower/4746668678_0e2693b1b9_n.jpg  \n",
            "  inflating: flowers/sunflower/4755075329_1fccc69d4e.jpg  \n",
            "  inflating: flowers/sunflower/4755705724_976621a1e7.jpg  \n",
            "  inflating: flowers/sunflower/4794180388_c7b9294aef_n.jpg  \n",
            "  inflating: flowers/sunflower/4795924955_202448d8ea_n.jpg  \n",
            "  inflating: flowers/sunflower/4798378647_ca199b18c0_n.jpg  \n",
            "  inflating: flowers/sunflower/4804434999_bf2187e96a_n.jpg  \n",
            "  inflating: flowers/sunflower/4805544785_a63241f6d0_n.jpg  \n",
            "  inflating: flowers/sunflower/4806174512_e04475b766_n.jpg  \n",
            "  inflating: flowers/sunflower/4813483281_f3707a71e7_n.jpg  \n",
            "  inflating: flowers/sunflower/4814106562_7c3564d2d9_n.jpg  \n",
            "  inflating: flowers/sunflower/4816636411_0135bfe2c9_n.jpg  \n",
            "  inflating: flowers/sunflower/4818994715_9d90527d18_n.jpg  \n",
            "  inflating: flowers/sunflower/4821232343_7e0bcfbfdf_n.jpg  \n",
            "  inflating: flowers/sunflower/4823873762_5f79b0c656_n.jpg  \n",
            "  inflating: flowers/sunflower/4831577091_f56157a5d5_n.jpg  \n",
            "  inflating: flowers/sunflower/4846786944_2832c5c8b8.jpg  \n",
            "  inflating: flowers/sunflower/4847062576_bae870479c_n.jpg  \n",
            "  inflating: flowers/sunflower/4848279231_c4960e28b2_n.jpg  \n",
            "  inflating: flowers/sunflower/4868595281_1e58083785.jpg  \n",
            "  inflating: flowers/sunflower/4869189730_f47c124cda_n.jpg  \n",
            "  inflating: flowers/sunflower/4871455214_8b5fb87ab6_n.jpg  \n",
            "  inflating: flowers/sunflower/4872284527_ff52128b97.jpg  \n",
            "  inflating: flowers/sunflower/4872892690_52dc25b0b4.jpg  \n",
            "  inflating: flowers/sunflower/4877195645_791c3a83b9_m.jpg  \n",
            "  inflating: flowers/sunflower/4878447831_e904c60cf8_n.jpg  \n",
            "  inflating: flowers/sunflower/4890268276_563f40a193.jpg  \n",
            "  inflating: flowers/sunflower/4893660821_eb7f02bef3_n.jpg  \n",
            "  inflating: flowers/sunflower/4895122831_83db2ba2d0_n.jpg  \n",
            "  inflating: flowers/sunflower/4895124535_11a2bb704c_m.jpg  \n",
            "  inflating: flowers/sunflower/4895718876_0246882882_n.jpg  \n",
            "  inflating: flowers/sunflower/4895719476_bd3b6bd6fd_n.jpg  \n",
            "  inflating: flowers/sunflower/4895720722_8247f2015b_n.jpg  \n",
            "  inflating: flowers/sunflower/4895721242_89014e723c_n.jpg  \n",
            "  inflating: flowers/sunflower/4895721788_f10208ab77_n.jpg  \n",
            "  inflating: flowers/sunflower/4902448474_6850b85765_n.jpg  \n",
            "  inflating: flowers/sunflower/4914793782_d0ea760791.jpg  \n",
            "  inflating: flowers/sunflower/4932143849_018486cbf7.jpg  \n",
            "  inflating: flowers/sunflower/4932144003_cbffc89bf0.jpg  \n",
            "  inflating: flowers/sunflower/4932735362_6e1017140f.jpg  \n",
            "  inflating: flowers/sunflower/4932735566_2327bf319a.jpg  \n",
            "  inflating: flowers/sunflower/4932736136_0115955987.jpg  \n",
            "  inflating: flowers/sunflower/4932736308_827012cff2.jpg  \n",
            "  inflating: flowers/sunflower/4933228903_9ae82d0b9d.jpg  \n",
            "  inflating: flowers/sunflower/4933229357_1c5cc03f65_m.jpg  \n",
            "  inflating: flowers/sunflower/4933823194_33f6e32c5a.jpg  \n",
            "  inflating: flowers/sunflower/4940287066_385afd9c18_m.jpg  \n",
            "  inflating: flowers/sunflower/4942258704_c4146b710a_n.jpg  \n",
            "  inflating: flowers/sunflower/4977385375_e271e282f9.jpg  \n",
            "  inflating: flowers/sunflower/4980406384_791774d953.jpg  \n",
            "  inflating: flowers/sunflower/4989952542_35f2cdd5e2_n.jpg  \n",
            "  inflating: flowers/sunflower/5004121118_e9393e60d0_n.jpg  \n",
            "  inflating: flowers/sunflower/5007598545_90e08e81c1_n.jpg  \n",
            "  inflating: flowers/sunflower/5015462205_440898fe41_n.jpg  \n",
            "  inflating: flowers/sunflower/5018120483_cc0421b176_m.jpg  \n",
            "  inflating: flowers/sunflower/5020805135_1219d7523d.jpg  \n",
            "  inflating: flowers/sunflower/5020805619_6c710793f7.jpg  \n",
            "  inflating: flowers/sunflower/5025805406_033cb03475_n.jpg  \n",
            "  inflating: flowers/sunflower/5027895361_ace3b731e5_n.jpg  \n",
            "  inflating: flowers/sunflower/5028817729_f04d32bac8_n.jpg  \n",
            "  inflating: flowers/sunflower/5032376020_2ed312306c.jpg  \n",
            "  inflating: flowers/sunflower/5037531593_e2daf4c7f1.jpg  \n",
            "  inflating: flowers/sunflower/5037790727_57c527494f.jpg  \n",
            "  inflating: flowers/sunflower/5042785753_392cc4e74d_n.jpg  \n",
            "  inflating: flowers/sunflower/5043404000_9bc16cb7e5_m.jpg  \n",
            "  inflating: flowers/sunflower/5043409092_5b12cc985a_m.jpg  \n",
            "  inflating: flowers/sunflower/5043409856_395300dbe5_m.jpg  \n",
            "  inflating: flowers/sunflower/5067864967_19928ca94c_m.jpg  \n",
            "  inflating: flowers/sunflower/5076821914_c21b58fd4c_m.jpg  \n",
            "  inflating: flowers/sunflower/5091281256_648c37d7c1_n.jpg  \n",
            "  inflating: flowers/sunflower/50987813_7484bfbcdf.jpg  \n",
            "  inflating: flowers/sunflower/5115925320_ed9ca5b2d1_n.jpg  \n",
            "  inflating: flowers/sunflower/5139969631_743880e01d_n.jpg  \n",
            "  inflating: flowers/sunflower/5139969871_c9046bdaa7_n.jpg  \n",
            "  inflating: flowers/sunflower/5139971615_434ff8ed8b_n.jpg  \n",
            "  inflating: flowers/sunflower/5139977283_530c508603_n.jpg  \n",
            "  inflating: flowers/sunflower/5139977423_d413b23fde_m.jpg  \n",
            "  inflating: flowers/sunflower/5139977579_ea2dd6a322_m.jpg  \n",
            "  inflating: flowers/sunflower/5180260869_1db7ff98e4_n.jpg  \n",
            "  inflating: flowers/sunflower/5180859236_60aa57ff9b_n.jpg  \n",
            "  inflating: flowers/sunflower/5180861654_0741222c62_n.jpg  \n",
            "  inflating: flowers/sunflower/5223643767_d8beb7e410.jpg  \n",
            "  inflating: flowers/sunflower/5231868667_f0baa71feb_n.jpg  \n",
            "  inflating: flowers/sunflower/5293283002_9b17f085f7_m.jpg  \n",
            "  inflating: flowers/sunflower/5330608174_b49f7a4c48_m.jpg  \n",
            "  inflating: flowers/sunflower/5339004958_a0a6f385fd_m.jpg  \n",
            "  inflating: flowers/sunflower/5357144886_b78f4782eb.jpg  \n",
            "  inflating: flowers/sunflower/5437996076_cf7e2ac32e_n.jpg  \n",
            "  inflating: flowers/sunflower/5492906452_80943bfd04.jpg  \n",
            "  inflating: flowers/sunflower/5526324308_b333da0e57_n.jpg  \n",
            "  inflating: flowers/sunflower/5556633113_0a04f5ed8a_n.jpg  \n",
            "  inflating: flowers/sunflower/5738580862_e128192f75.jpg  \n",
            "  inflating: flowers/sunflower/5830614551_e460a1215c.jpg  \n",
            "  inflating: flowers/sunflower/58636535_bc53ef0a21_m.jpg  \n",
            "  inflating: flowers/sunflower/5896354497_6a19162741.jpg  \n",
            "  inflating: flowers/sunflower/5917253022_4e3142d48b_n.jpg  \n",
            "  inflating: flowers/sunflower/5923085671_f81dd1cf6f.jpg  \n",
            "  inflating: flowers/sunflower/5923085891_27617463fe.jpg  \n",
            "  inflating: flowers/sunflower/5923649444_a823e534e9.jpg  \n",
            "  inflating: flowers/sunflower/5927432662_3ffd2461c2_n.jpg  \n",
            "  inflating: flowers/sunflower/5933438337_b26a81ea81_n.jpg  \n",
            "  inflating: flowers/sunflower/5933438461_7607cf06e2_n.jpg  \n",
            "  inflating: flowers/sunflower/5933438547_0dea1fddd6_n.jpg  \n",
            "  inflating: flowers/sunflower/5937355165_1dc7b2cbf9_n.jpg  \n",
            "  inflating: flowers/sunflower/5937914300_bfca430439_n.jpg  \n",
            "  inflating: flowers/sunflower/5951665793_8ae4807cbd_n.jpg  \n",
            "  inflating: flowers/sunflower/5952223760_85972671d6_n.jpg  \n",
            "  inflating: flowers/sunflower/5955475577_3d923874d9_n.jpg  \n",
            "  inflating: flowers/sunflower/5955500463_6c08cb199e.jpg  \n",
            "  inflating: flowers/sunflower/5955501969_e42f038a6f_n.jpg  \n",
            "  inflating: flowers/sunflower/5956626941_2885465093_n.jpg  \n",
            "  inflating: flowers/sunflower/5956627065_075880a1cc_n.jpg  \n",
            "  inflating: flowers/sunflower/5956627147_4d51393479_n.jpg  \n",
            "  inflating: flowers/sunflower/5957007921_62333981d2_n.jpg  \n",
            "  inflating: flowers/sunflower/5957186948_b2afd80d70_n.jpg  \n",
            "  inflating: flowers/sunflower/5963905278_6a8efc6b27_n.jpg  \n",
            "  inflating: flowers/sunflower/5966729883_67f4fede93.jpg  \n",
            "  inflating: flowers/sunflower/5967283168_90dd4daf28_n.jpg  \n",
            "  inflating: flowers/sunflower/5967284308_85714d8cf7_m.jpg  \n",
            "  inflating: flowers/sunflower/5970300143_36b42437de_n.jpg  \n",
            "  inflating: flowers/sunflower/5970301989_fe3a68aac8_m.jpg  \n",
            "  inflating: flowers/sunflower/5970868068_fe1c8b282e_n.jpg  \n",
            "  inflating: flowers/sunflower/5970869550_d7d9fabebd_n.jpg  \n",
            "  inflating: flowers/sunflower/5973935729_2868f2db1f_n.jpg  \n",
            "  inflating: flowers/sunflower/5979111025_3bcae48ae6_n.jpg  \n",
            "  inflating: flowers/sunflower/5979111199_495884b578_n.jpg  \n",
            "  inflating: flowers/sunflower/5979111555_61b400c070_n.jpg  \n",
            "  inflating: flowers/sunflower/5979668702_fdaec9e164_n.jpg  \n",
            "  inflating: flowers/sunflower/5979669004_d9736206c9_n.jpg  \n",
            "  inflating: flowers/sunflower/5991628433_e1d853e40d_n.jpg  \n",
            "  inflating: flowers/sunflower/5994569021_749d5e2da3_n.jpg  \n",
            "  inflating: flowers/sunflower/5994572653_ea98afa3af_n.jpg  \n",
            "  inflating: flowers/sunflower/5994586159_1dd99d66b4_n.jpg  \n",
            "  inflating: flowers/sunflower/5995136822_8e1eed76f5_n.jpg  \n",
            "  inflating: flowers/sunflower/5998488415_a6bacd9f83.jpg  \n",
            "  inflating: flowers/sunflower/5999024446_5721493894.jpg  \n",
            "  inflating: flowers/sunflower/6002598514_22a9a404c7_n.jpg  \n",
            "  inflating: flowers/sunflower/6042014768_b57f0bfc79_n.jpg  \n",
            "  inflating: flowers/sunflower/6050020905_881295ac72_n.jpg  \n",
            "  inflating: flowers/sunflower/6053739964_a1d9ab3ed1_n.jpg  \n",
            "  inflating: flowers/sunflower/6056460102_f5569092a6_n.jpg  \n",
            "  inflating: flowers/sunflower/6061175433_95fdb12f32_n.jpg  \n",
            "  inflating: flowers/sunflower/6061177447_d8ce96aee0.jpg  \n",
            "  inflating: flowers/sunflower/6074427492_1b5bab7848_n.jpg  \n",
            "  inflating: flowers/sunflower/6080086410_17a02dcfb8.jpg  \n",
            "  inflating: flowers/sunflower/6104713425_8a3277e34a.jpg  \n",
            "  inflating: flowers/sunflower/6112510436_9fe06e695a_n.jpg  \n",
            "  inflating: flowers/sunflower/6113021380_7546bf7ac7_n.jpg  \n",
            "  inflating: flowers/sunflower/6116210027_61923f4b64.jpg  \n",
            "  inflating: flowers/sunflower/6122711533_2c219f0392_n.jpg  \n",
            "  inflating: flowers/sunflower/6125761554_4e72819ce4_m.jpg  \n",
            "  inflating: flowers/sunflower/6133988570_9dc778e622_m.jpg  \n",
            "  inflating: flowers/sunflower/6140661443_bb48344226.jpg  \n",
            "  inflating: flowers/sunflower/6140693467_211a135b6d.jpg  \n",
            "  inflating: flowers/sunflower/6140808687_88df0fd733.jpg  \n",
            "  inflating: flowers/sunflower/6140892289_92805cc590.jpg  \n",
            "  inflating: flowers/sunflower/6141150299_b46a64e4de.jpg  \n",
            "  inflating: flowers/sunflower/6141199476_9b6d383fd9.jpg  \n",
            "  inflating: flowers/sunflower/6145005439_ef6e07f9c6_n.jpg  \n",
            "  inflating: flowers/sunflower/6166888942_7058198713_m.jpg  \n",
            "  inflating: flowers/sunflower/6198569425_e953b9e6cc_m.jpg  \n",
            "  inflating: flowers/sunflower/6198569587_23c3693328_m.jpg  \n",
            "  inflating: flowers/sunflower/6199086734_b7ddc65816_m.jpg  \n",
            "  inflating: flowers/sunflower/6204049536_1ac4f09232_n.jpg  \n",
            "  inflating: flowers/sunflower/6239758929_50e5e5a476_m.jpg  \n",
            "  inflating: flowers/sunflower/6250692311_cb60c85ee9_n.jpg  \n",
            "  inflating: flowers/sunflower/6265084065_7a8b30cc6e_n.jpg  \n",
            "  inflating: flowers/sunflower/6482016425_d8fab362f6.jpg  \n",
            "  inflating: flowers/sunflower/6482016439_b0d06dac04.jpg  \n",
            "  inflating: flowers/sunflower/6495554833_86eb8faa8e_n.jpg  \n",
            "  inflating: flowers/sunflower/6495559397_61d01c0c57.jpg  \n",
            "  inflating: flowers/sunflower/6606741847_f0198d83ff.jpg  \n",
            "  inflating: flowers/sunflower/6606743797_c90c669757.jpg  \n",
            "  inflating: flowers/sunflower/6606746467_a668c8d417.jpg  \n",
            "  inflating: flowers/sunflower/6606749757_b98a4ba403.jpg  \n",
            "  inflating: flowers/sunflower/6606753075_72ee32aa30_m.jpg  \n",
            "  inflating: flowers/sunflower/6606806621_5267acdd38.jpg  \n",
            "  inflating: flowers/sunflower/6606809995_edee55b770_m.jpg  \n",
            "  inflating: flowers/sunflower/6606813305_c992231d29_m.jpg  \n",
            "  inflating: flowers/sunflower/6606815161_3c4372760f.jpg  \n",
            "  inflating: flowers/sunflower/6606817351_10f6e43a09.jpg  \n",
            "  inflating: flowers/sunflower/6606820461_952c450f90_n.jpg  \n",
            "  inflating: flowers/sunflower/6606823367_e89dc52a95_n.jpg  \n",
            "  inflating: flowers/sunflower/6627521877_6e43fb3c49_m.jpg  \n",
            "  inflating: flowers/sunflower/678714585_addc9aaaef.jpg  \n",
            "  inflating: flowers/sunflower/6866250080_ae80df0cd5_m.jpg  \n",
            "  inflating: flowers/sunflower/6908789145_814d448bb1_n.jpg  \n",
            "  inflating: flowers/sunflower/6953297_8576bf4ea3.jpg  \n",
            "  inflating: flowers/sunflower/6958724008_12259943a7.jpg  \n",
            "  inflating: flowers/sunflower/7012364067_5ffc7654c9_m.jpg  \n",
            "  inflating: flowers/sunflower/7012366081_019c8a17a4_m.jpg  \n",
            "  inflating: flowers/sunflower/7176723954_e41618edc1_n.jpg  \n",
            "  inflating: flowers/sunflower/7176729016_d73ff2211e.jpg  \n",
            "  inflating: flowers/sunflower/7176729812_7c053921fb_m.jpg  \n",
            "  inflating: flowers/sunflower/7176736574_14446539cb_n.jpg  \n",
            "  inflating: flowers/sunflower/7270375648_79f0caef42_n.jpg  \n",
            "  inflating: flowers/sunflower/7369484298_332f69bd88_n.jpg  \n",
            "  inflating: flowers/sunflower/7492109308_bbbb982ebe_n.jpg  \n",
            "  inflating: flowers/sunflower/7510240282_87554c7418_n.jpg  \n",
            "  inflating: flowers/sunflower/7510262868_cf7d6f6f25_n.jpg  \n",
            "  inflating: flowers/sunflower/7510285306_ba8f80c382_n.jpg  \n",
            "  inflating: flowers/sunflower/7581713708_8eae6794f2.jpg  \n",
            "  inflating: flowers/sunflower/7586498522_4dcab1c8d2_m.jpg  \n",
            "  inflating: flowers/sunflower/7603036176_9e8967cd21.jpg  \n",
            "  inflating: flowers/sunflower/7652532108_01ef94c476.jpg  \n",
            "  inflating: flowers/sunflower/7654774598_6b715a8d3e.jpg  \n",
            "  inflating: flowers/sunflower/7721658400_0dec46d225.jpg  \n",
            "  inflating: flowers/sunflower/7728953426_abd179ab63.jpg  \n",
            "  inflating: flowers/sunflower/7791014076_07a897cb85_n.jpg  \n",
            "  inflating: flowers/sunflower/7804213238_1d92ae5edb_m.jpg  \n",
            "  inflating: flowers/sunflower/7820305664_82148f3bfb_n.jpg  \n",
            "  inflating: flowers/sunflower/7820398908_4316bbba45.jpg  \n",
            "  inflating: flowers/sunflower/7820523050_76c8caa025.jpg  \n",
            "  inflating: flowers/sunflower/7820626738_3be6a52e4e_n.jpg  \n",
            "  inflating: flowers/sunflower/7857605684_fc86440c23.jpg  \n",
            "  inflating: flowers/sunflower/7935826214_9b57628203_m.jpg  \n",
            "  inflating: flowers/sunflower/8014734302_65c6e83bb4_m.jpg  \n",
            "  inflating: flowers/sunflower/8014735546_3db46bb1fe_n.jpg  \n",
            "  inflating: flowers/sunflower/8021568040_f891223c44_n.jpg  \n",
            "  inflating: flowers/sunflower/8038712786_5bdeed3c7f_m.jpg  \n",
            "  inflating: flowers/sunflower/8041242566_752def876e_n.jpg  \n",
            "  inflating: flowers/sunflower/8071460469_a7c2c34b97_n.jpg  \n",
            "  inflating: flowers/sunflower/8081530919_c882d46bb0_n.jpg  \n",
            "  inflating: flowers/sunflower/8174935013_b16626b49b.jpg  \n",
            "  inflating: flowers/sunflower/8174935717_d19367d502.jpg  \n",
            "  inflating: flowers/sunflower/8174941335_56389b53e9_n.jpg  \n",
            "  inflating: flowers/sunflower/8174970894_7f9a26be7e.jpg  \n",
            "  inflating: flowers/sunflower/8174972548_0051c2d431.jpg  \n",
            "  inflating: flowers/sunflower/8192234807_fed4a46f1a_n.jpg  \n",
            "  inflating: flowers/sunflower/8202034834_ee0ee91e04_n.jpg  \n",
            "  inflating: flowers/sunflower/821368661_4ab4343f5a.jpg  \n",
            "  inflating: flowers/sunflower/8234846550_fdaf326dbe.jpg  \n",
            "  inflating: flowers/sunflower/8249000137_eddfffa380_n.jpg  \n",
            "  inflating: flowers/sunflower/8265023280_713f2c69d0_m.jpg  \n",
            "  inflating: flowers/sunflower/8266310743_02095e782d_m.jpg  \n",
            "  inflating: flowers/sunflower/8292914969_4a76608250_m.jpg  \n",
            "  inflating: flowers/sunflower/8368015811_2893411cf7_n.jpg  \n",
            "  inflating: flowers/sunflower/8433716268_8b7b4083bc_n.jpg  \n",
            "  inflating: flowers/sunflower/8478248531_1a16e232b5.jpg  \n",
            "  inflating: flowers/sunflower/8480886751_71d88bfdc0_n.jpg  \n",
            "  inflating: flowers/sunflower/8481979626_98c9f88848_n.jpg  \n",
            "  inflating: flowers/sunflower/8543642705_b841b0e5f6.jpg  \n",
            "  inflating: flowers/sunflower/8563099326_8be9177101.jpg  \n",
            "  inflating: flowers/sunflower/857698097_8068a2c135_n.jpg  \n",
            "  inflating: flowers/sunflower/864957037_c75373d1c5.jpg  \n",
            "  inflating: flowers/sunflower/8705462313_4458d64cd4.jpg  \n",
            "  inflating: flowers/sunflower/877083343_e3338c4125.jpg  \n",
            "  inflating: flowers/sunflower/8928614683_6c168edcfc.jpg  \n",
            "  inflating: flowers/sunflower/8928658373_fdca5ff1b8.jpg  \n",
            "  inflating: flowers/sunflower/8929213942_5544191250_n.jpg  \n",
            "  inflating: flowers/sunflower/8929274876_17efc1774a_n.jpg  \n",
            "  inflating: flowers/sunflower/8929288228_6795bcb1fe.jpg  \n",
            "  inflating: flowers/sunflower/8935252770_263d682fe8_n.jpg  \n",
            "  inflating: flowers/sunflower/9056495873_66e351b17c_n.jpg  \n",
            "  inflating: flowers/sunflower/9111896677_ff0b6fa6f6_n.jpg  \n",
            "  inflating: flowers/sunflower/9206376642_8348ba5c7a.jpg  \n",
            "  inflating: flowers/sunflower/9213511121_836a458021_m.jpg  \n",
            "  inflating: flowers/sunflower/9216286162_6ceefdd1b4_m.jpg  \n",
            "  inflating: flowers/sunflower/9216286876_289a4779f7.jpg  \n",
            "  inflating: flowers/sunflower/9231555352_d2dd8f8e68_m.jpg  \n",
            "  inflating: flowers/sunflower/9240005603_6a9b71dcea_n.jpg  \n",
            "  inflating: flowers/sunflower/9240129413_f240ce7866_n.jpg  \n",
            "  inflating: flowers/sunflower/9246304620_768d1f54d7_n.jpg  \n",
            "  inflating: flowers/sunflower/9302733302_2cb92cf275.jpg  \n",
            "  inflating: flowers/sunflower/9309473873_9d62b9082e.jpg  \n",
            "  inflating: flowers/sunflower/9339697826_88c9c4dc50.jpg  \n",
            "  inflating: flowers/sunflower/9359374034_21fb12d613_n.jpg  \n",
            "  inflating: flowers/sunflower/9375675309_987d32f99e_n.jpg  \n",
            "  inflating: flowers/sunflower/9381481549_5a5d503e42_n.jpg  \n",
            "  inflating: flowers/sunflower/9384867134_83af458a19_n.jpg  \n",
            "  inflating: flowers/sunflower/9399711558_7cb9547cd3_n.jpg  \n",
            "  inflating: flowers/sunflower/9400904374_37723396e3_n.jpg  \n",
            "  inflating: flowers/sunflower/9410186154_465642ed35.jpg  \n",
            "  inflating: flowers/sunflower/9427945592_07a2676945_n.jpg  \n",
            "  inflating: flowers/sunflower/9431890901_cd11bda584_n.jpg  \n",
            "  inflating: flowers/sunflower/9431896325_23bf6e8761.jpg  \n",
            "  inflating: flowers/sunflower/9432335346_e298e47713_n.jpg  \n",
            "  inflating: flowers/sunflower/9445830851_e9a126fd1d_n.jpg  \n",
            "  inflating: flowers/sunflower/9448615838_04078d09bf_n.jpg  \n",
            "  inflating: flowers/sunflower/9460336948_6ae968be93.jpg  \n",
            "  inflating: flowers/sunflower/9461693602_710f20904f.jpg  \n",
            "  inflating: flowers/sunflower/9479261399_cebfbff670_n.jpg  \n",
            "  inflating: flowers/sunflower/9481563239_01b585b41d_n.jpg  \n",
            "  inflating: flowers/sunflower/9482209981_bf7bf6022b_m.jpg  \n",
            "  inflating: flowers/sunflower/9483429732_5ae73eb672_n.jpg  \n",
            "  inflating: flowers/sunflower/9484354480_07ff2ef0a6.jpg  \n",
            "  inflating: flowers/sunflower/9485002920_59af6f4cac.jpg  \n",
            "  inflating: flowers/sunflower/9491955955_d0b2c83834.jpg  \n",
            "  inflating: flowers/sunflower/9497774249_7f5ae70927_m.jpg  \n",
            "  inflating: flowers/sunflower/9497774935_a7daec5433_n.jpg  \n",
            "  inflating: flowers/sunflower/9511172241_8aee411e2e.jpg  \n",
            "  inflating: flowers/sunflower/9535500195_543d0b729b.jpg  \n",
            "  inflating: flowers/sunflower/9538283930_0faea083bb_n.jpg  \n",
            "  inflating: flowers/sunflower/9555824387_32b151e9b0_m.jpg  \n",
            "  inflating: flowers/sunflower/9555827829_74e6f60f1d_m.jpg  \n",
            "  inflating: flowers/sunflower/9558627290_353a14ba0b_m.jpg  \n",
            "  inflating: flowers/sunflower/9558628596_722c29ec60_m.jpg  \n",
            "  inflating: flowers/sunflower/9558630626_52a1b7d702_m.jpg  \n",
            "  inflating: flowers/sunflower/9558632814_e78a780f4f.jpg  \n",
            "  inflating: flowers/sunflower/9564240106_0577e919da_n.jpg  \n",
            "  inflating: flowers/sunflower/9588522189_db6166f67f.jpg  \n",
            "  inflating: flowers/sunflower/9599534035_ae4df582b6.jpg  \n",
            "  inflating: flowers/sunflower/9610098411_f1613c8e14.jpg  \n",
            "  inflating: flowers/sunflower/9610371852_179e7781ce.jpg  \n",
            "  inflating: flowers/sunflower/9610373158_5250bce6ac_n.jpg  \n",
            "  inflating: flowers/sunflower/9610373748_b9cb67bd55.jpg  \n",
            "  inflating: flowers/sunflower/9610374042_bb16cded3d.jpg  \n",
            "  inflating: flowers/sunflower/9651392844_77f90589ba_n.jpg  \n",
            "  inflating: flowers/sunflower/9655029591_7a77f87500.jpg  \n",
            "  inflating: flowers/sunflower/9681915384_b3b646dc92_m.jpg  \n",
            "  inflating: flowers/sunflower/969913643_9d5cd2fe45_m.jpg  \n",
            "  inflating: flowers/sunflower/9699724719_a8439cc0fd_n.jpg  \n",
            "  inflating: flowers/sunflower/9738792160_00cbcc99c8_n.jpg  \n",
            "  inflating: flowers/sunflower/9783416751_b2a03920f7_n.jpg  \n",
            "  inflating: flowers/sunflower/9825716455_f12bcc8d4e_n.jpg  \n",
            "  inflating: flowers/sunflower/9904127656_f76a5a4811_m.jpg  \n",
            "  inflating: flowers/tulip/100930342_92e8746431_n.jpg  \n",
            "  inflating: flowers/tulip/10094729603_eeca3f2cb6.jpg  \n",
            "  inflating: flowers/tulip/10094731133_94a942463c.jpg  \n",
            "  inflating: flowers/tulip/10128546863_8de70c610d.jpg  \n",
            "  inflating: flowers/tulip/10163955604_ae0b830975_n.jpg  \n",
            "  inflating: flowers/tulip/10164073235_f29931d91e.jpg  \n",
            "  inflating: flowers/tulip/10686568196_b1915544a8.jpg  \n",
            "  inflating: flowers/tulip/107693873_86021ac4ea_n.jpg  \n",
            "  inflating: flowers/tulip/10791227_7168491604.jpg  \n",
            "  inflating: flowers/tulip/10995953955_089572caf0.jpg  \n",
            "  inflating: flowers/tulip/110147301_ad921e2828.jpg  \n",
            "  inflating: flowers/tulip/112334842_3ecf7585dd.jpg  \n",
            "  inflating: flowers/tulip/112428665_d8f3632f36_n.jpg  \n",
            "  inflating: flowers/tulip/112428919_f0c5ad7d9d_n.jpg  \n",
            "  inflating: flowers/tulip/112650879_82adc2cc04_n.jpg  \n",
            "  inflating: flowers/tulip/112651128_7b5d39a346_m.jpg  \n",
            "  inflating: flowers/tulip/112951022_4892b1348b_n.jpg  \n",
            "  inflating: flowers/tulip/112951086_150a59d499_n.jpg  \n",
            "  inflating: flowers/tulip/113291410_1bdc718ed8_n.jpg  \n",
            "  inflating: flowers/tulip/113902743_8f537f769b_n.jpg  \n",
            "  inflating: flowers/tulip/113960470_38fab8f2fb_m.jpg  \n",
            "  inflating: flowers/tulip/11441893003_ab83672800.jpg  \n",
            "  inflating: flowers/tulip/11614202956_1dcf1c96a1.jpg  \n",
            "  inflating: flowers/tulip/116343334_9cb4acdc57_n.jpg  \n",
            "  inflating: flowers/tulip/11746080_963537acdc.jpg  \n",
            "  inflating: flowers/tulip/11746276_de3dec8201.jpg  \n",
            "  inflating: flowers/tulip/11746367_d23a35b085_n.jpg  \n",
            "  inflating: flowers/tulip/11746452_5bc1749a36.jpg  \n",
            "  inflating: flowers/tulip/11746548_26b3256922_n.jpg  \n",
            "  inflating: flowers/tulip/12024561754_ce9667e4dc_n.jpg  \n",
            "  inflating: flowers/tulip/12025038686_7f10811d4b_n.jpg  \n",
            "  inflating: flowers/tulip/12025042086_78bafc0eb6_n.jpg  \n",
            "  inflating: flowers/tulip/12163418275_bd6a1edd61.jpg  \n",
            "  inflating: flowers/tulip/122450705_9885fff3c4_n.jpg  \n",
            "  inflating: flowers/tulip/12517756805_56b74be742.jpg  \n",
            "  inflating: flowers/tulip/12548574923_5e90f4ceea.jpg  \n",
            "  inflating: flowers/tulip/12557176134_ecbf15885b.jpg  \n",
            "  inflating: flowers/tulip/12584810723_c97d00fcfd.jpg  \n",
            "  inflating: flowers/tulip/12616825773_9aa4245b57_n.jpg  \n",
            "  inflating: flowers/tulip/12764617214_12211c6a0c_m.jpg  \n",
            "  inflating: flowers/tulip/12873145295_438b8197a7_n.jpg  \n",
            "  inflating: flowers/tulip/12883412424_cb5086b43f_n.jpg  \n",
            "  inflating: flowers/tulip/12916017805_1cde91a891_n.jpg  \n",
            "  inflating: flowers/tulip/12916135413_dafcf3089e_n.jpg  \n",
            "  inflating: flowers/tulip/12916441224_2ed63596f8_n.jpg  \n",
            "  inflating: flowers/tulip/12934201824_1c8b5171fb_m.jpg  \n",
            "  inflating: flowers/tulip/12949131454_4d3392f4dd_n.jpg  \n",
            "  inflating: flowers/tulip/130685040_3c2fcec63e_n.jpg  \n",
            "  inflating: flowers/tulip/130685347_afbffe3afa_n.jpg  \n",
            "  inflating: flowers/tulip/13176521023_4d7cc74856_m.jpg  \n",
            "  inflating: flowers/tulip/13176576813_50e77cc1d9.jpg  \n",
            "  inflating: flowers/tulip/13197345653_0f685b3c97_n.jpg  \n",
            "  inflating: flowers/tulip/132538272_63658146d9_n.jpg  \n",
            "  inflating: flowers/tulip/132538273_335240fe5b_n.jpg  \n",
            "  inflating: flowers/tulip/13289268363_b9337d751e.jpg  \n",
            "  inflating: flowers/tulip/133692329_c1150ed811_n.jpg  \n",
            "  inflating: flowers/tulip/133858239_3eaa8a91fd_n.jpg  \n",
            "  inflating: flowers/tulip/133960364_d87f883c15_n.jpg  \n",
            "  inflating: flowers/tulip/134143359_71fa8dd9a4.jpg  \n",
            "  inflating: flowers/tulip/13471563274_471fc1db33_m.jpg  \n",
            "  inflating: flowers/tulip/13472141763_f2517e7f0d.jpg  \n",
            "  inflating: flowers/tulip/13472387874_d844478dbb.jpg  \n",
            "  inflating: flowers/tulip/13472393854_b2530f7029_n.jpg  \n",
            "  inflating: flowers/tulip/13509967925_eaaeefa396_m.jpg  \n",
            "  inflating: flowers/tulip/13509973805_bda5fa8982.jpg  \n",
            "  inflating: flowers/tulip/13510057763_01b832d919.jpg  \n",
            "  inflating: flowers/tulip/13510068773_c925c5517c.jpg  \n",
            "  inflating: flowers/tulip/13513851673_9d813dc7b0.jpg  \n",
            "  inflating: flowers/tulip/13514131694_d91da4f4fc.jpg  \n",
            "  inflating: flowers/tulip/13514136074_ab1b827e4f.jpg  \n",
            "  inflating: flowers/tulip/13529687904_3d60abb479_n.jpg  \n",
            "  inflating: flowers/tulip/13530687085_9b515735ef_m.jpg  \n",
            "  inflating: flowers/tulip/13530690445_9f1f5cf43a_n.jpg  \n",
            "  inflating: flowers/tulip/13530786873_0d34880300_n.jpg  \n",
            "  inflating: flowers/tulip/13530796853_e5993f57d6_n.jpg  \n",
            "  inflating: flowers/tulip/13531001134_72052100e1_m.jpg  \n",
            "  inflating: flowers/tulip/13531007054_c88deaf302_n.jpg  \n",
            "  inflating: flowers/tulip/1353748522_b9c630b162.jpg  \n",
            "  inflating: flowers/tulip/13539384593_23449f7332_n.jpg  \n",
            "  inflating: flowers/tulip/13539404903_cd113e3e9b.jpg  \n",
            "  inflating: flowers/tulip/13539827514_79b60b6c22_n.jpg  \n",
            "  inflating: flowers/tulip/13542672763_20c3cb9272.jpg  \n",
            "  inflating: flowers/tulip/13555215723_cf2c11626b_b.jpg  \n",
            "  inflating: flowers/tulip/13561908485_7e4f8d508b.jpg  \n",
            "  inflating: flowers/tulip/13561912705_e5eeb41433_z.jpg  \n",
            "  inflating: flowers/tulip/13562266594_69b807f90c.jpg  \n",
            "  inflating: flowers/tulip/13562271714_d534531374.jpg  \n",
            "  inflating: flowers/tulip/135994133_4f306fe4bf_n.jpg  \n",
            "  inflating: flowers/tulip/137126311_debe64c6a8_n.jpg  \n",
            "  inflating: flowers/tulip/13888320717_d2919a879b_m.jpg  \n",
            "  inflating: flowers/tulip/13900235284_32ce563633_n.jpg  \n",
            "  inflating: flowers/tulip/13903937027_44b9f2f5b8.jpg  \n",
            "  inflating: flowers/tulip/13903946578_187f904c9a_n.jpg  \n",
            "  inflating: flowers/tulip/13903988248_22da33f341.jpg  \n",
            "  inflating: flowers/tulip/13910028149_6c9d5485ef.jpg  \n",
            "  inflating: flowers/tulip/13910126337_53faf1d214_n.jpg  \n",
            "  inflating: flowers/tulip/13910471347_30c8bf4de1_n.jpg  \n",
            "  inflating: flowers/tulip/13910479407_936fd3122d.jpg  \n",
            "  inflating: flowers/tulip/13910544560_9140dd547e.jpg  \n",
            "  inflating: flowers/tulip/13910604778_e5f4588420.jpg  \n",
            "  inflating: flowers/tulip/13910678178_25e8b1a5e5.jpg  \n",
            "  inflating: flowers/tulip/13910719110_1b21d1fc81.jpg  \n",
            "  inflating: flowers/tulip/13910737760_c71c8b6ff2.jpg  \n",
            "  inflating: flowers/tulip/13911047024_8966d70560_n.jpg  \n",
            "  inflating: flowers/tulip/13923036338_1ce32c6d4f.jpg  \n",
            "  inflating: flowers/tulip/13923539227_bdab038dc8.jpg  \n",
            "  inflating: flowers/tulip/13926327692_a07357ff0d.jpg  \n",
            "  inflating: flowers/tulip/13953090784_0c7d7a904e.jpg  \n",
            "  inflating: flowers/tulip/13954659583_03981dea99_n.jpg  \n",
            "  inflating: flowers/tulip/13956300996_07e64a3dbd_n.jpg  \n",
            "  inflating: flowers/tulip/13974542496_e4b5d1c913_n.jpg  \n",
            "  inflating: flowers/tulip/13976191172_6f23a0b313.jpg  \n",
            "  inflating: flowers/tulip/13976206001_fd1c2cbd60.jpg  \n",
            "  inflating: flowers/tulip/13976522214_ccec508fe7.jpg  \n",
            "  inflating: flowers/tulip/13979098015_e8c98fd34e_n.jpg  \n",
            "  inflating: flowers/tulip/13979098645_50b9eebc02_n.jpg  \n",
            "  inflating: flowers/tulip/13979840624_28466cb3ec_n.jpg  \n",
            "  inflating: flowers/tulip/13997627965_22d81601ce_n.jpg  \n",
            "  inflating: flowers/tulip/13997641965_80d5dab542_n.jpg  \n",
            "  inflating: flowers/tulip/13999392173_b1411f8b23_n.jpg  \n",
            "  inflating: flowers/tulip/13999402743_f563f6b685_n.jpg  \n",
            "  inflating: flowers/tulip/14009216519_b608321cf2_n.jpg  \n",
            "  inflating: flowers/tulip/14014595475_5892fcda51_n.jpg  \n",
            "  inflating: flowers/tulip/14015957646_8317a0f1d9_n.jpg  \n",
            "  inflating: flowers/tulip/14017640283_c417141832_n.jpg  \n",
            "  inflating: flowers/tulip/14022473102_3b24ca08cb_m.jpg  \n",
            "  inflating: flowers/tulip/14024864234_713158c27f_n.jpg  \n",
            "  inflating: flowers/tulip/14025589299_eac64c51af_m.jpg  \n",
            "  inflating: flowers/tulip/14026857634_500d7b41d6_m.jpg  \n",
            "  inflating: flowers/tulip/14027372499_30f934d24f_m.jpg  \n",
            "  inflating: flowers/tulip/14039129738_cc3ac0a623_n.jpg  \n",
            "  inflating: flowers/tulip/14039130008_f4b2807607_n.jpg  \n",
            "  inflating: flowers/tulip/14044685976_0064faed21.jpg  \n",
            "  inflating: flowers/tulip/14046760909_0c73e84a1f_n.jpg  \n",
            "  inflating: flowers/tulip/14053292975_fdc1093571_n.jpg  \n",
            "  inflating: flowers/tulip/14054827092_f359f5fcbd_m.jpg  \n",
            "  inflating: flowers/tulip/14054827391_139fb54432.jpg  \n",
            "  inflating: flowers/tulip/14055533888_f8e66b5693_n.jpg  \n",
            "  inflating: flowers/tulip/14055538059_b826e0ac2b_n.jpg  \n",
            "  inflating: flowers/tulip/14055574740_bb6a11e983_n.jpg  \n",
            "  inflating: flowers/tulip/14055601247_2e647ba9b0_n.jpg  \n",
            "  inflating: flowers/tulip/14057246122_8598b665bd.jpg  \n",
            "  inflating: flowers/tulip/14061132852_89122de5f9_n.jpg  \n",
            "  inflating: flowers/tulip/14064731501_ea14b58161.jpg  \n",
            "  inflating: flowers/tulip/14064735842_a946fba1ef_n.jpg  \n",
            "  inflating: flowers/tulip/14066056226_d8564a083e_m.jpg  \n",
            "  inflating: flowers/tulip/14067456066_87e15792d0.jpg  \n",
            "  inflating: flowers/tulip/14067476586_36bcddf111.jpg  \n",
            "  inflating: flowers/tulip/14067761295_7cfe6a42e9.jpg  \n",
            "  inflating: flowers/tulip/14067778605_0285b7cc3a.jpg  \n",
            "  inflating: flowers/tulip/14068200854_5c13668df9_m.jpg  \n",
            "  inflating: flowers/tulip/14068295074_cd8b85bffa.jpg  \n",
            "  inflating: flowers/tulip/14068348874_7b36c99f6a.jpg  \n",
            "  inflating: flowers/tulip/14068378204_7b26baa30d_n.jpg  \n",
            "  inflating: flowers/tulip/14069837979_5f2d5fec55_n.jpg  \n",
            "  inflating: flowers/tulip/14069838099_53d9d1f4af_n.jpg  \n",
            "  inflating: flowers/tulip/14069838529_152b5f559d_n.jpg  \n",
            "  inflating: flowers/tulip/14069839199_1e3fb92b92_n.jpg  \n",
            "  inflating: flowers/tulip/14069841138_e2b403f44f_n.jpg  \n",
            "  inflating: flowers/tulip/14069841698_a5dff9cfd2_n.jpg  \n",
            "  inflating: flowers/tulip/14069841878_f3ac9d788d_n.jpg  \n",
            "  inflating: flowers/tulip/14069841968_fdc9c1d3a4_n.jpg  \n",
            "  inflating: flowers/tulip/14069842098_7a7bd956bf_n.jpg  \n",
            "  inflating: flowers/tulip/14069874050_62d15f80a5_n.jpg  \n",
            "  inflating: flowers/tulip/14069874230_b7c742112a_n.jpg  \n",
            "  inflating: flowers/tulip/14069913627_6e87392642_n.jpg  \n",
            "  inflating: flowers/tulip/14069914457_6805909b1c_n.jpg  \n",
            "  inflating: flowers/tulip/14069914547_1fa90bec99_n.jpg  \n",
            "  inflating: flowers/tulip/14069914647_0296f003c0_n.jpg  \n",
            "  inflating: flowers/tulip/14069914777_b10856aaf7_n.jpg  \n",
            "  inflating: flowers/tulip/14071516088_b526946e17_n.jpg  \n",
            "  inflating: flowers/tulip/14073608876_49db8ac97d_n.jpg  \n",
            "  inflating: flowers/tulip/14074147406_7ab87aec79_n.jpg  \n",
            "  inflating: flowers/tulip/14078067843_3573fcfc85_n.jpg  \n",
            "  inflating: flowers/tulip/14078067903_92f5eb27ff.jpg  \n",
            "  inflating: flowers/tulip/14084211971_0f921f11fe_n.jpg  \n",
            "  inflating: flowers/tulip/14084749296_6143c74c72_m.jpg  \n",
            "  inflating: flowers/tulip/14087326141_1906d5a373_n.jpg  \n",
            "  inflating: flowers/tulip/14087361621_9fefb8dbef.jpg  \n",
            "  inflating: flowers/tulip/14087425312_2b5846b570_n.jpg  \n",
            "  inflating: flowers/tulip/14087439392_969444f56e.jpg  \n",
            "  inflating: flowers/tulip/14087792403_f34f37ba3b_m.jpg  \n",
            "  inflating: flowers/tulip/14087860553_bf4f8ec56d.jpg  \n",
            "  inflating: flowers/tulip/14087892193_653a3ac7ca_n.jpg  \n",
            "  inflating: flowers/tulip/14088017343_dd158d2eb5.jpg  \n",
            "  inflating: flowers/tulip/14090534565_5857ce4b7c_n.jpg  \n",
            "  inflating: flowers/tulip/14090546015_504c8becd1.jpg  \n",
            "  inflating: flowers/tulip/14093565032_a8f1e349d1.jpg  \n",
            "  inflating: flowers/tulip/14093884601_c87b5cd663_n.jpg  \n",
            "  inflating: flowers/tulip/14093907931_dd8f642574.jpg  \n",
            "  inflating: flowers/tulip/14094114202_4c1d7f1116.jpg  \n",
            "  inflating: flowers/tulip/14094146241_0b9fa7b3e0.jpg  \n",
            "  inflating: flowers/tulip/14097111174_87a2e7e0c7_n.jpg  \n",
            "  inflating: flowers/tulip/14097328354_4f1469a170.jpg  \n",
            "  inflating: flowers/tulip/14097366955_84ef6369f2.jpg  \n",
            "  inflating: flowers/tulip/14097676864_4ca8e8b20d_n.jpg  \n",
            "  inflating: flowers/tulip/14097745904_436c4ba1b4_n.jpg  \n",
            "  inflating: flowers/tulip/14099204939_60e6ffa4c3_n.jpg  \n",
            "  inflating: flowers/tulip/14103897845_7986002615.jpg  \n",
            "  inflating: flowers/tulip/14110615113_bd7b3fcb84.jpg  \n",
            "  inflating: flowers/tulip/14110616533_e04775e7b1.jpg  \n",
            "  inflating: flowers/tulip/14116780333_7836f4448c.jpg  \n",
            "  inflating: flowers/tulip/14116826873_d4bab623bf_n.jpg  \n",
            "  inflating: flowers/tulip/14122029097_3e3285ca5c_n.jpg  \n",
            "  inflating: flowers/tulip/14124669683_7fb74f20c3.jpg  \n",
            "  inflating: flowers/tulip/14127532150_112823a8f6.jpg  \n",
            "  inflating: flowers/tulip/14149603605_eedfe9678c_n.jpg  \n",
            "  inflating: flowers/tulip/14171673854_1208c19be3_m.jpg  \n",
            "  inflating: flowers/tulip/142218310_d06005030a_n.jpg  \n",
            "  inflating: flowers/tulip/142235017_07816937c6.jpg  \n",
            "  inflating: flowers/tulip/142235237_da662d925c.jpg  \n",
            "  inflating: flowers/tulip/142235914_5419ff8a4a.jpg  \n",
            "  inflating: flowers/tulip/14233348496_134e274d0b_n.jpg  \n",
            "  inflating: flowers/tulip/14233348826_89949b4784_n.jpg  \n",
            "  inflating: flowers/tulip/14235021006_dd001ea8ed_n.jpg  \n",
            "  inflating: flowers/tulip/14238880561_7181ccb9fb_n.jpg  \n",
            "  inflating: flowers/tulip/14238880681_2b86165b41_n.jpg  \n",
            "  inflating: flowers/tulip/14238880951_2f62f042be_n.jpg  \n",
            "  inflating: flowers/tulip/14239946452_b0c8f018fe_n.jpg  \n",
            "  inflating: flowers/tulip/14241883744_ff69de8b7f_n.jpg  \n",
            "  inflating: flowers/tulip/14253178581_4dfcedb4d3_n.jpg  \n",
            "  inflating: flowers/tulip/14253178841_8a637b64f0_n.jpg  \n",
            "  inflating: flowers/tulip/14254329062_140c0f4f4f_n.jpg  \n",
            "  inflating: flowers/tulip/14254329512_8b4229b898_n.jpg  \n",
            "  inflating: flowers/tulip/14254839301_ffb19c6445_n.jpg  \n",
            "  inflating: flowers/tulip/14255917256_84c23c572b.jpg  \n",
            "  inflating: flowers/tulip/14256111494_f9985585f5_n.jpg  \n",
            "  inflating: flowers/tulip/14256112284_5f9d6d1aae_n.jpg  \n",
            "  inflating: flowers/tulip/14256494455_0718057a48_n.jpg  \n",
            "  inflating: flowers/tulip/14256494695_741a989ebb_n.jpg  \n",
            "  inflating: flowers/tulip/14256494935_0ee69cfa03_n.jpg  \n",
            "  inflating: flowers/tulip/14262354955_cc2ab3b112_m.jpg  \n",
            "  inflating: flowers/tulip/14266093711_66d18a1e44_n.jpg  \n",
            "  inflating: flowers/tulip/14270573963_f122c40438.jpg  \n",
            "  inflating: flowers/tulip/14275234071_6e6f473356.jpg  \n",
            "  inflating: flowers/tulip/14276668513_f205b5270d_n.jpg  \n",
            "  inflating: flowers/tulip/14278331403_4c475f9a9b.jpg  \n",
            "  inflating: flowers/tulip/14487705209_ea723109e1_m.jpg  \n",
            "  inflating: flowers/tulip/14487712670_aebe715525_m.jpg  \n",
            "  inflating: flowers/tulip/14487762578_baba13d16a_m.jpg  \n",
            "  inflating: flowers/tulip/14487943607_651e8062a1_m.jpg  \n",
            "  inflating: flowers/tulip/14491997336_36ba524713.jpg  \n",
            "  inflating: flowers/tulip/14651383746_419dc73634_m.jpg  \n",
            "  inflating: flowers/tulip/14651385476_7ccb20e594_m.jpg  \n",
            "  inflating: flowers/tulip/14671196461_b725727229_m.jpg  \n",
            "  inflating: flowers/tulip/14674067742_73c2602aa6_m.jpg  \n",
            "  inflating: flowers/tulip/14674071872_2df55466d5_m.jpg  \n",
            "  inflating: flowers/tulip/14674388855_2da18e375a_m.jpg  \n",
            "  inflating: flowers/tulip/14674389605_df3c0bcfa1_m.jpg  \n",
            "  inflating: flowers/tulip/146884869_b1a8fa9c4e_n.jpg  \n",
            "  inflating: flowers/tulip/14746916178_40403cc57e.jpg  \n",
            "  inflating: flowers/tulip/14836105101_1d07520932_m.jpg  \n",
            "  inflating: flowers/tulip/14861513337_4ef0bfa40d.jpg  \n",
            "  inflating: flowers/tulip/14866400927_3a59899df3_m.jpg  \n",
            "  inflating: flowers/tulip/14957470_6a8c272a87_m.jpg  \n",
            "  inflating: flowers/tulip/15029962436_3e50c1f30f_n.jpg  \n",
            "  inflating: flowers/tulip/15049902081_dd85361f8c_m.jpg  \n",
            "  inflating: flowers/tulip/15052586652_56a82de133_m.jpg  \n",
            "  inflating: flowers/tulip/15082212714_ff87e8fcb1_m.jpg  \n",
            "  inflating: flowers/tulip/15090146325_b7e1249e60.jpg  \n",
            "  inflating: flowers/tulip/15096307668_589504b03f_n.jpg  \n",
            "  inflating: flowers/tulip/15147464747_594599c855_m.jpg  \n",
            "  inflating: flowers/tulip/15147473067_7c5498eb0e_m.jpg  \n",
            "  inflating: flowers/tulip/15149373026_93aacc65c5.jpg  \n",
            "  inflating: flowers/tulip/15275144259_f9a18ec9cb.jpg  \n",
            "  inflating: flowers/tulip/15275190769_0ed7bbf490.jpg  \n",
            "  inflating: flowers/tulip/15275199229_962387f24d.jpg  \n",
            "  inflating: flowers/tulip/15275478257_fbd5850708_n.jpg  \n",
            "  inflating: flowers/tulip/15275504998_ca9eb82998.jpg  \n",
            "  inflating: flowers/tulip/15452909878_0c4941f729_m.jpg  \n",
            "  inflating: flowers/tulip/15458787091_3edc6cd1eb.jpg  \n",
            "  inflating: flowers/tulip/155097272_70feb13184.jpg  \n",
            "  inflating: flowers/tulip/15516715153_08abc9bb20_n.jpg  \n",
            "  inflating: flowers/tulip/15516736553_b169b67195_n.jpg  \n",
            "  inflating: flowers/tulip/15632065904_0d9caf174b.jpg  \n",
            "  inflating: flowers/tulip/15647243236_2778501cf5_n.jpg  \n",
            "  inflating: flowers/tulip/15756524087_823cf86bd8_m.jpg  \n",
            "  inflating: flowers/tulip/15881325303_f00807a051_n.jpg  \n",
            "  inflating: flowers/tulip/15922772266_1167a06620.jpg  \n",
            "  inflating: flowers/tulip/15976769174_1d50f46ca1_m.jpg  \n",
            "  inflating: flowers/tulip/16055807744_000bc07afc_m.jpg  \n",
            "  inflating: flowers/tulip/16062072523_1be3c0b61f.jpg  \n",
            "  inflating: flowers/tulip/16074109313_2cc14c7d16.jpg  \n",
            "  inflating: flowers/tulip/16098264209_38fe491093.jpg  \n",
            "  inflating: flowers/tulip/16110795216_b3e44697b4_m.jpg  \n",
            "  inflating: flowers/tulip/16133651784_c244d86f82_n.jpg  \n",
            "  inflating: flowers/tulip/16133917184_b5755756bd_n.jpg  \n",
            "  inflating: flowers/tulip/16133946004_2e935d9433_n.jpg  \n",
            "  inflating: flowers/tulip/16138212287_643bf336e1_m.jpg  \n",
            "  inflating: flowers/tulip/16139439153_fbdee29a10_n.jpg  \n",
            "  inflating: flowers/tulip/16169741783_deeab1a679_m.jpg  \n",
            "  inflating: flowers/tulip/16265876844_0a149c4f76.jpg  \n",
            "  inflating: flowers/tulip/16265883604_92be82b973.jpg  \n",
            "  inflating: flowers/tulip/16282277874_b92776b194.jpg  \n",
            "  inflating: flowers/tulip/16283125269_4cfae953f1.jpg  \n",
            "  inflating: flowers/tulip/16303377824_6e9128b4bd.jpg  \n",
            "  inflating: flowers/tulip/16309287412_5cc4d58bd1_n.jpg  \n",
            "  inflating: flowers/tulip/16392425347_2f5232a26d_n.jpg  \n",
            "  inflating: flowers/tulip/164578909_51f245d3fa_n.jpg  \n",
            "  inflating: flowers/tulip/16471277547_a0a5509377_n.jpg  \n",
            "  inflating: flowers/tulip/16485607329_e66d5960bc_m.jpg  \n",
            "  inflating: flowers/tulip/16506668270_b823935dc3.jpg  \n",
            "  inflating: flowers/tulip/16548713317_a97b9e543a_n.jpg  \n",
            "  inflating: flowers/tulip/16568321388_fd07bac92a_n.jpg  \n",
            "  inflating: flowers/tulip/16568439688_4f166e8d90_n.jpg  \n",
            "  inflating: flowers/tulip/16568481088_dfcfccefea_n.jpg  \n",
            "  inflating: flowers/tulip/16568530400_f7e4ffc633_n.jpg  \n",
            "  inflating: flowers/tulip/16568537758_67eb281aab_n.jpg  \n",
            "  inflating: flowers/tulip/16568550940_d64ee7898f_n.jpg  \n",
            "  inflating: flowers/tulip/16568820360_a938311dd3_n.jpg  \n",
            "  inflating: flowers/tulip/16569932139_4367c92f82_n.jpg  \n",
            "  inflating: flowers/tulip/16570062929_6c41c66387_n.jpg  \n",
            "  inflating: flowers/tulip/16582481123_06e8e6b966_n.jpg  \n",
            "  inflating: flowers/tulip/16594995743_ce72c61201_n.jpg  \n",
            "  inflating: flowers/tulip/16644790896_7b296ecd67_n.jpg  \n",
            "  inflating: flowers/tulip/16645809126_613b1e3ebe_m.jpg  \n",
            "  inflating: flowers/tulip/16670377091_87987f50a4_n.jpg  \n",
            "  inflating: flowers/tulip/16677199221_eab3f22378_n.jpg  \n",
            "  inflating: flowers/tulip/16677542612_a78a8ca8b3_m.jpg  \n",
            "  inflating: flowers/tulip/16680927427_07ca6e4552_n.jpg  \n",
            "  inflating: flowers/tulip/16680930777_7e7f292fc5_n.jpg  \n",
            "  inflating: flowers/tulip/16680998737_6f6225fe36.jpg  \n",
            "  inflating: flowers/tulip/16700863150_ddaa4d89b4_n.jpg  \n",
            "  inflating: flowers/tulip/16702117379_c25bff70e9.jpg  \n",
            "  inflating: flowers/tulip/16702188449_3dacce90b2_m.jpg  \n",
            "  inflating: flowers/tulip/16711791713_e54bc9c1af_n.jpg  \n",
            "  inflating: flowers/tulip/16717320956_d4b00807f2.jpg  \n",
            "  inflating: flowers/tulip/16732302779_8aa56f255d_n.jpg  \n",
            "  inflating: flowers/tulip/16751015081_af2ef77c9a_n.jpg  \n",
            "  inflating: flowers/tulip/16754984282_3a801bfa50_n.jpg  \n",
            "  inflating: flowers/tulip/16755061382_f6531150c1_n.jpg  \n",
            "  inflating: flowers/tulip/16755090222_d6797d51db_n.jpg  \n",
            "  inflating: flowers/tulip/16756198195_13b54e70b3_n.jpg  \n",
            "  inflating: flowers/tulip/16756239775_75e84a3d50_n.jpg  \n",
            "  inflating: flowers/tulip/16765283686_0315ae00a8.jpg  \n",
            "  inflating: flowers/tulip/16862349256_0a1f91ab53.jpg  \n",
            "  inflating: flowers/tulip/16862351376_f0fcc6fc91_n.jpg  \n",
            "  inflating: flowers/tulip/16862374316_4135908d4c_m.jpg  \n",
            "  inflating: flowers/tulip/16862422576_5226e8d1d0.jpg  \n",
            "  inflating: flowers/tulip/16904202259_8f45d045c3_m.jpg  \n",
            "  inflating: flowers/tulip/16907559551_05ded87fb2_n.jpg  \n",
            "  inflating: flowers/tulip/16930105456_8b826dc4a8_n.jpg  \n",
            "  inflating: flowers/tulip/16930121391_a4092ecf00_n.jpg  \n",
            "  inflating: flowers/tulip/16937554595_3e1de22f9c.jpg  \n",
            "  inflating: flowers/tulip/16938892686_3613ea68e8_n.jpg  \n",
            "  inflating: flowers/tulip/16951623209_00fb7ec1b1_n.jpg  \n",
            "  inflating: flowers/tulip/16986144192_55e0e6c152.jpg  \n",
            "  inflating: flowers/tulip/17012955700_7141d29eee.jpg  \n",
            "  inflating: flowers/tulip/17066862602_7530f21efe.jpg  \n",
            "  inflating: flowers/tulip/17066864992_1cbc4fc908.jpg  \n",
            "  inflating: flowers/tulip/17078576150_6f272ce73f_n.jpg  \n",
            "  inflating: flowers/tulip/17078716890_68e0723389_n.jpg  \n",
            "  inflating: flowers/tulip/17094167287_865840060d_n.jpg  \n",
            "  inflating: flowers/tulip/17104364030_ee31ee279b_n.jpg  \n",
            "  inflating: flowers/tulip/17105644339_e301a8a6be_n.jpg  \n",
            "  inflating: flowers/tulip/17113203493_735185295f_n.jpg  \n",
            "  inflating: flowers/tulip/17146928665_600fa3a1f1_n.jpg  \n",
            "  inflating: flowers/tulip/17159349572_c0c51599f7_n.jpg  \n",
            "  inflating: flowers/tulip/17159816388_deafbebdb0.jpg  \n",
            "  inflating: flowers/tulip/17165583356_38cb1f231d_n.jpg  \n",
            "  inflating: flowers/tulip/17167151059_a53bfe0b02.jpg  \n",
            "  inflating: flowers/tulip/17189456156_6fc1067831.jpg  \n",
            "  inflating: flowers/tulip/17189526216_fa24dd541a_n.jpg  \n",
            "  inflating: flowers/tulip/17198868382_697b23c715_n.jpg  \n",
            "  inflating: flowers/tulip/17202535346_ab828e779b.jpg  \n",
            "  inflating: flowers/tulip/17224410762_402455ed8f.jpg  \n",
            "  inflating: flowers/tulip/17282288501_e8738c9cfb_n.jpg  \n",
            "  inflating: flowers/tulip/17291451621_0e39f08b9e_n.jpg  \n",
            "  inflating: flowers/tulip/17291908295_dc7d45ae9b_n.jpg  \n",
            "  inflating: flowers/tulip/17291930305_79deae6a90_n.jpg  \n",
            "  inflating: flowers/tulip/17295127995_62eff434fe_n.jpg  \n",
            "  inflating: flowers/tulip/17309017866_b6b290b970_n.jpg  \n",
            "  inflating: flowers/tulip/17318339476_54479b6660_n.jpg  \n",
            "  inflating: flowers/tulip/17324469461_2b318aff8d_m.jpg  \n",
            "  inflating: flowers/tulip/17408197905_829c4d7940_m.jpg  \n",
            "  inflating: flowers/tulip/17469578564_35a8360f58.jpg  \n",
            "  inflating: flowers/tulip/17545306218_5bf0ee38cd_n.jpg  \n",
            "  inflating: flowers/tulip/175686816_067a8cb4c5.jpg  \n",
            "  inflating: flowers/tulip/176458518_f81d4bff8e.jpg  \n",
            "  inflating: flowers/tulip/17706953166_cc21734d26_n.jpg  \n",
            "  inflating: flowers/tulip/17719248689_cfd5d2f228_n.jpg  \n",
            "  inflating: flowers/tulip/17720403638_94cfcd8d5c_n.jpg  \n",
            "  inflating: flowers/tulip/17730239562_9aa0fc0738_n.jpg  \n",
            "  inflating: flowers/tulip/17733480801_bffa0a30c0_n.jpg  \n",
            "  inflating: flowers/tulip/17734051745_9382a7bcba_n.jpg  \n",
            "  inflating: flowers/tulip/17781940352_a45e4289a5.jpg  \n",
            "  inflating: flowers/tulip/17844723633_da85357fe3.jpg  \n",
            "  inflating: flowers/tulip/17862445825_f7031d6f26.jpg  \n",
            "  inflating: flowers/tulip/17907238905_1ae121f8d9_m.jpg  \n",
            "  inflating: flowers/tulip/17908793211_ff0f1f81d3_n.jpg  \n",
            "  inflating: flowers/tulip/17969516345_d0081a5f18_n.jpg  \n",
            "  inflating: flowers/tulip/17970201501_6ee7401206_n.jpg  \n",
            "  inflating: flowers/tulip/17994129033_bbd0acba62_n.jpg  \n",
            "  inflating: flowers/tulip/18245124970_e68fd3f3c3.jpg  \n",
            "  inflating: flowers/tulip/18270448366_d5676dec64_z.jpg  \n",
            "  inflating: flowers/tulip/18378581986_5cd1494d08_n.jpg  \n",
            "  inflating: flowers/tulip/18378582936_ee7085c850.jpg  \n",
            "  inflating: flowers/tulip/18406629611_4d1edcf23b_n.jpg  \n",
            "  inflating: flowers/tulip/19268907364_d94a846fc8_n.jpg  \n",
            "  inflating: flowers/tulip/19315333834_cfed7ae637_n.jpg  \n",
            "  inflating: flowers/tulip/19317019453_8b24740faf_n.jpg  \n",
            "  inflating: flowers/tulip/19324610724_1facd379ed_n.jpg  \n",
            "  inflating: flowers/tulip/19413898445_69344f9956_n.jpg  \n",
            "  inflating: flowers/tulip/19425920580_cdc8f49aed_n.jpg  \n",
            "  inflating: flowers/tulip/19660257424_e9080d2ddc_n.jpg  \n",
            "  inflating: flowers/tulip/19689668684_15089ae2fa_n.jpg  \n",
            "  inflating: flowers/tulip/19689681344_b05ac361f2_n.jpg  \n",
            "  inflating: flowers/tulip/19693711100_b98c861433_n.jpg  \n",
            "  inflating: flowers/tulip/19693717158_af4afcffd2_n.jpg  \n",
            "  inflating: flowers/tulip/19695087459_dfb18ea181_n.jpg  \n",
            "  inflating: flowers/tulip/19722589898_233a0235af_n.jpg  \n",
            "  inflating: flowers/tulip/19732081840_f573a3827d_n.jpg  \n",
            "  inflating: flowers/tulip/19759207480_679167eacd_n.jpg  \n",
            "  inflating: flowers/tulip/19860199064_35c14fa8c7_n.jpg  \n",
            "  inflating: flowers/tulip/19868509504_b2fc173274_n.jpg  \n",
            "  inflating: flowers/tulip/19884050362_347e5342f2_n.jpg  \n",
            "  inflating: flowers/tulip/19892310888_9bbdec4ea7_n.jpg  \n",
            "  inflating: flowers/tulip/19892369060_d1298a9816_n.jpg  \n",
            "  inflating: flowers/tulip/19903091702_3522e9ef3c_n.jpg  \n",
            "  inflating: flowers/tulip/19912513252_93d8df17cf_n.jpg  \n",
            "  inflating: flowers/tulip/19914611213_150f7125a9_n.jpg  \n",
            "  inflating: flowers/tulip/19915714271_3d8d6a23a5_n.jpg  \n",
            "  inflating: flowers/tulip/19922971178_a71078f2ed_n.jpg  \n",
            "  inflating: flowers/tulip/19938037625_f26c4dae34_n.jpg  \n",
            "  inflating: flowers/tulip/19950169968_a29db804b5_n.jpg  \n",
            "  inflating: flowers/tulip/20093632966_0d53e13036_n.jpg  \n",
            "  inflating: flowers/tulip/20093649146_5a93a8f173_n.jpg  \n",
            "  inflating: flowers/tulip/20096276219_7d16867bcc_n.jpg  \n",
            "  inflating: flowers/tulip/20111973586_2987a89bed_n.jpg  \n",
            "  inflating: flowers/tulip/20116517681_2f10db9e82_n.jpg  \n",
            "  inflating: flowers/tulip/20133942640_0f4442b858_n.jpg  \n",
            "  inflating: flowers/tulip/20138534672_af5fd5eb32_n.jpg  \n",
            "  inflating: flowers/tulip/20152653918_009a39f323_n.jpg  \n",
            "  inflating: flowers/tulip/20246050943_3620c7373f_n.jpg  \n",
            "  inflating: flowers/tulip/20265958876_edb70c4553_n.jpg  \n",
            "  inflating: flowers/tulip/20282921225_6033da8cd5_n.jpg  \n",
            "  inflating: flowers/tulip/20283873362_fece39a33e_n.jpg  \n",
            "  inflating: flowers/tulip/20295820576_8ed2250b5c_n.jpg  \n",
            "  inflating: flowers/tulip/20298145571_89ea244c38_n.jpg  \n",
            "  inflating: flowers/tulip/20304518589_8bac64c536_n.jpg  \n",
            "  inflating: flowers/tulip/20340657765_ddb2d2154e_n.jpg  \n",
            "  inflating: flowers/tulip/20340696625_4095592e55_n.jpg  \n",
            "  inflating: flowers/tulip/20435554843_ba6862f923_n.jpg  \n",
            "  inflating: flowers/tulip/20488590303_24fa3c9015_n.jpg  \n",
            "  inflating: flowers/tulip/20489160931_3c445b6b02_n.jpg  \n",
            "  inflating: flowers/tulip/20495079414_44c6783519_n.jpg  \n",
            "  inflating: flowers/tulip/20518113476_a43a105f27_n.jpg  \n",
            "  inflating: flowers/tulip/20526614232_78ac8344bd_n.jpg  \n",
            "  inflating: flowers/tulip/20535484712_8fc5c2a4e8_n.jpg  \n",
            "  inflating: flowers/tulip/20692409652_25da3e5839_n.jpg  \n",
            "  inflating: flowers/tulip/20692436712_75b2deaedf_n.jpg  \n",
            "  inflating: flowers/tulip/20701823522_43e3f4ba09_n.jpg  \n",
            "  inflating: flowers/tulip/20706374298_ed1d8cf4bf_n.jpg  \n",
            "  inflating: flowers/tulip/20708492111_35757c490f_n.jpg  \n",
            "  inflating: flowers/tulip/20711107885_98d96a705b_n.jpg  \n",
            "  inflating: flowers/tulip/20733335929_0100f38c4a_n.jpg  \n",
            "  inflating: flowers/tulip/20742669999_53de71a4c9_n.jpg  \n",
            "  inflating: flowers/tulip/20868629268_5ded9803b5_n.jpg  \n",
            "  inflating: flowers/tulip/20876954720_62920b4ce8_n.jpg  \n",
            "  inflating: flowers/tulip/20877119138_c0fde9d53f_n.jpg  \n",
            "  inflating: flowers/tulip/2087981909_fd468de5c4_n.jpg  \n",
            "  inflating: flowers/tulip/20883735451_7aa9c50111_n.jpg  \n",
            "  inflating: flowers/tulip/20896271018_9f1dc41c93_n.jpg  \n",
            "  inflating: flowers/tulip/20910465721_fd8dcc8fcc_n.jpg  \n",
            "  inflating: flowers/tulip/20921546830_1d79fd07f7_n.jpg  \n",
            "  inflating: flowers/tulip/20929606590_f92d4e59b7_n.jpg  \n",
            "  inflating: flowers/tulip/21046610012_8942d32007_n.jpg  \n",
            "  inflating: flowers/tulip/21055041762_5d0a066948_n.jpg  \n",
            "  inflating: flowers/tulip/21065300966_6be98a8cd0_n.jpg  \n",
            "  inflating: flowers/tulip/21083449726_2895661dfb_n.jpg  \n",
            "  inflating: flowers/tulip/21084139365_f44cd2a685_n.jpg  \n",
            "  inflating: flowers/tulip/21084189635_425ca69aa0_n.jpg  \n",
            "  inflating: flowers/tulip/21091481475_884cd885c8_n.jpg  \n",
            "  inflating: flowers/tulip/21091489585_0dcb89e65e_n.jpg  \n",
            "  inflating: flowers/tulip/21091503556_8b46da140e_n.jpg  \n",
            "  inflating: flowers/tulip/212720516_df4965ebda_n.jpg  \n",
            "  inflating: flowers/tulip/2220085701_896054d263_n.jpg  \n",
            "  inflating: flowers/tulip/2229804138_db9cba3443_n.jpg  \n",
            "  inflating: flowers/tulip/2232289392_9a79a0c5cb_n.jpg  \n",
            "  inflating: flowers/tulip/2243427551_809b603992_z.jpg  \n",
            "  inflating: flowers/tulip/2249756775_02e693beda_n.jpg  \n",
            "  inflating: flowers/tulip/2254152047_d3bf8903cd_n.jpg  \n",
            "  inflating: flowers/tulip/2256214682_130c01d9d9.jpg  \n",
            "  inflating: flowers/tulip/2256230386_08b54ca760.jpg  \n",
            "  inflating: flowers/tulip/2271507463_15c48d41c4_n.jpg  \n",
            "  inflating: flowers/tulip/2272006181_785f1be94f_n.jpg  \n",
            "  inflating: flowers/tulip/2280950463_86510c2789_n.jpg  \n",
            "  inflating: flowers/tulip/2294116183_a30d2aa2c1_m.jpg  \n",
            "  inflating: flowers/tulip/2322670828_34115a7050.jpg  \n",
            "  inflating: flowers/tulip/2333321040_3960b9d67e_n.jpg  \n",
            "  inflating: flowers/tulip/2336919121_851ebc4754.jpg  \n",
            "  inflating: flowers/tulip/2344751399_71620039f2_n.jpg  \n",
            "  inflating: flowers/tulip/2351637471_5dd34fd3ac_n.jpg  \n",
            "  inflating: flowers/tulip/2361075034_cf730b8682.jpg  \n",
            "  inflating: flowers/tulip/2374855021_21959b40c0_n.jpg  \n",
            "  inflating: flowers/tulip/2399982682_16929d1f6d_n.jpg  \n",
            "  inflating: flowers/tulip/2402342888_dd65677013.jpg  \n",
            "  inflating: flowers/tulip/2412250315_a04171da51_n.jpg  \n",
            "  inflating: flowers/tulip/2418823693_72eec80f42_n.jpg  \n",
            "  inflating: flowers/tulip/2421740440_f82ced8582.jpg  \n",
            "  inflating: flowers/tulip/2425067141_b27043a800_m.jpg  \n",
            "  inflating: flowers/tulip/2426847695_4b8409402e_n.jpg  \n",
            "  inflating: flowers/tulip/2426849837_baefd9a518_n.jpg  \n",
            "  inflating: flowers/tulip/2427626706_ffdf697f84_n.jpg  \n",
            "  inflating: flowers/tulip/2430566689_8543552f9b.jpg  \n",
            "  inflating: flowers/tulip/2431737309_1468526f8b.jpg  \n",
            "  inflating: flowers/tulip/2432389721_4d14971060_n.jpg  \n",
            "  inflating: flowers/tulip/2434178332_7fcf85aa95_n.jpg  \n",
            "  inflating: flowers/tulip/2436998042_4906ea07af.jpg  \n",
            "  inflating: flowers/tulip/2440874162_27a7030402_n.jpg  \n",
            "  inflating: flowers/tulip/2447151631_7551e6377b_n.jpg  \n",
            "  inflating: flowers/tulip/2489638840_72ff3ee527_n.jpg  \n",
            "  inflating: flowers/tulip/2503489175_f0848d3e8e.jpg  \n",
            "  inflating: flowers/tulip/251811158_75fa3034ff.jpg  \n",
            "  inflating: flowers/tulip/2535936698_78cc03df3f_n.jpg  \n",
            "  inflating: flowers/tulip/25429468133_6bfba75d94_n.jpg  \n",
            "  inflating: flowers/tulip/25429501953_a1f9ce09e6_n.jpg  \n",
            "  inflating: flowers/tulip/25759191500_1c0da35828_n.jpg  \n",
            "  inflating: flowers/tulip/25965526231_941b6a216d_n.jpg  \n",
            "  inflating: flowers/tulip/25965548411_dbbe26262b_n.jpg  \n",
            "  inflating: flowers/tulip/26564770956_ac4800ae85_n.jpg  \n",
            "  inflating: flowers/tulip/26685647236_8211cb3e95_n.jpg  \n",
            "  inflating: flowers/tulip/26685648806_c76dd583b9_n.jpg  \n",
            "  inflating: flowers/tulip/2785458179_9130812eef_m.jpg  \n",
            "  inflating: flowers/tulip/2813649953_2b0f20fe94_n.jpg  \n",
            "  inflating: flowers/tulip/2834890466_1cf220fba1.jpg  \n",
            "  inflating: flowers/tulip/2936181186_38ff43492e.jpg  \n",
            "  inflating: flowers/tulip/3002863623_cd83d6e634.jpg  \n",
            "  inflating: flowers/tulip/3011223301_09b4e3edb7.jpg  \n",
            "  inflating: flowers/tulip/303858799_942b9c09e7_m.jpg  \n",
            "  inflating: flowers/tulip/3143110904_66b4851a58_n.jpg  \n",
            "  inflating: flowers/tulip/3150964108_24dbec4b23_m.jpg  \n",
            "  inflating: flowers/tulip/3186520634_30e1c67aa5_n.jpg  \n",
            "  inflating: flowers/tulip/3210019014_1bbd8bff20_n.jpg  \n",
            "  inflating: flowers/tulip/3213012716_b4c0f7db88.jpg  \n",
            "  inflating: flowers/tulip/3238068295_b2a7b17f48_n.jpg  \n",
            "  inflating: flowers/tulip/32465197894_71dde519ae_n.jpg  \n",
            "  inflating: flowers/tulip/3253320570_b617f7fd4b.jpg  \n",
            "  inflating: flowers/tulip/3254533919_cb0b8af26c.jpg  \n",
            "  inflating: flowers/tulip/3282751630_45c2665034_m.jpg  \n",
            "  inflating: flowers/tulip/3396033831_bb88d93630.jpg  \n",
            "  inflating: flowers/tulip/3404038663_f62cf8eba3_n.jpg  \n",
            "  inflating: flowers/tulip/3421027755_cdb8fef8e8_n.jpg  \n",
            "  inflating: flowers/tulip/3422915985_9bf7264d36.jpg  \n",
            "  inflating: flowers/tulip/3430229687_32645b5738.jpg  \n",
            "  inflating: flowers/tulip/3433265727_0b8022e091.jpg  \n",
            "  inflating: flowers/tulip/3446285408_4be9c0fded_m.jpg  \n",
            "  inflating: flowers/tulip/3449794006_8c289840aa.jpg  \n",
            "  inflating: flowers/tulip/3454461550_64d6e726bf_m.jpg  \n",
            "  inflating: flowers/tulip/3455026124_d66cafb9fc.jpg  \n",
            "  inflating: flowers/tulip/3457017604_90e4de7480_m.jpg  \n",
            "  inflating: flowers/tulip/3459922572_bc8516b5fe_m.jpg  \n",
            "  inflating: flowers/tulip/3474066174_8d3b3e8f97_n.jpg  \n",
            "  inflating: flowers/tulip/3476945045_97ff41e8ec_n.jpg  \n",
            "  inflating: flowers/tulip/3485767306_6db7bdf536.jpg  \n",
            "  inflating: flowers/tulip/3498663243_42b39b4185_m.jpg  \n",
            "  inflating: flowers/tulip/3501996215_1c6d1a3386_n.jpg  \n",
            "  inflating: flowers/tulip/3502085373_edc2c36992_n.jpg  \n",
            "  inflating: flowers/tulip/3502251824_3be758edc6_m.jpg  \n",
            "  inflating: flowers/tulip/3502615974_ef4bd13202_n.jpg  \n",
            "  inflating: flowers/tulip/3502632842_791dd4be18_n.jpg  \n",
            "  inflating: flowers/tulip/3502685880_f026400dce_n.jpg  \n",
            "  inflating: flowers/tulip/3502974120_9f1eceaf8b_n.jpg  \n",
            "  inflating: flowers/tulip/3506615859_9850830cf0.jpg  \n",
            "  inflating: flowers/tulip/3510294699_bc4c72cb7d_n.jpg  \n",
            "  inflating: flowers/tulip/3510799169_0ed6ae9669_n.jpg  \n",
            "  inflating: flowers/tulip/3511104954_54eace015c_n.jpg  \n",
            "  inflating: flowers/tulip/3511776685_3635087b12_n.jpg  \n",
            "  inflating: flowers/tulip/3516269489_cef36e87a6.jpg  \n",
            "  inflating: flowers/tulip/3516271083_fba63b5861.jpg  \n",
            "  inflating: flowers/tulip/3523398585_376960a611_m.jpg  \n",
            "  inflating: flowers/tulip/3524204544_7233737b4f_m.jpg  \n",
            "  inflating: flowers/tulip/3529889389_ab4cb6c43b.jpg  \n",
            "  inflating: flowers/tulip/3540595981_73f14d1227_n.jpg  \n",
            "  inflating: flowers/tulip/3558517884_0c7ca8b862_m.jpg  \n",
            "  inflating: flowers/tulip/3600510954_a51bfc5440_n.jpg  \n",
            "  inflating: flowers/tulip/3601085193_de1195d3d7_n.jpg  \n",
            "  inflating: flowers/tulip/3614805920_7a6610aa4b_n.jpg  \n",
            "  inflating: flowers/tulip/3626132563_d955973447_n.jpg  \n",
            "  inflating: flowers/tulip/3637371174_a8dfcc1b35.jpg  \n",
            "  inflating: flowers/tulip/38287568_627de6ca20.jpg  \n",
            "  inflating: flowers/tulip/3909355648_42cb3a5e09_n.jpg  \n",
            "  inflating: flowers/tulip/391477275_7c2f50a1a7_m.jpg  \n",
            "  inflating: flowers/tulip/3990746027_338ee436d2_n.jpg  \n",
            "  inflating: flowers/tulip/3990989735_59e2751151_n.jpg  \n",
            "  inflating: flowers/tulip/3991423020_9aaf2b5974_n.jpg  \n",
            "  inflating: flowers/tulip/3991742794_edebc6c8a0_n.jpg  \n",
            "  inflating: flowers/tulip/402525114_eaa60c8341_m.jpg  \n",
            "  inflating: flowers/tulip/4042180234_64cd2859c9_m.jpg  \n",
            "  inflating: flowers/tulip/405035580_94b793e71d.jpg  \n",
            "  inflating: flowers/tulip/4117620896_070e5887ae_m.jpg  \n",
            "  inflating: flowers/tulip/420216121_3ee33723d7_m.jpg  \n",
            "  inflating: flowers/tulip/4209052442_7e754f617c_n.jpg  \n",
            "  inflating: flowers/tulip/4263272885_1a49ea5209.jpg  \n",
            "  inflating: flowers/tulip/4290566894_c7f061583d_m.jpg  \n",
            "  inflating: flowers/tulip/4300258119_b03f2f956e.jpg  \n",
            "  inflating: flowers/tulip/430785322_7ddef64c68_m.jpg  \n",
            "  inflating: flowers/tulip/4312181724_16dab26afb_n.jpg  \n",
            "  inflating: flowers/tulip/434146736_310a42d9cb_m.jpg  \n",
            "  inflating: flowers/tulip/4353419275_79d3904074_n.jpg  \n",
            "  inflating: flowers/tulip/4395433872_e073d8c721_n.jpg  \n",
            "  inflating: flowers/tulip/440714501_9f8268e1b0.jpg  \n",
            "  inflating: flowers/tulip/4418204816_018375acd0_m.jpg  \n",
            "  inflating: flowers/tulip/443600168_cb08d56511.jpg  \n",
            "  inflating: flowers/tulip/444963906_e41492b692.jpg  \n",
            "  inflating: flowers/tulip/4497973347_57480ffee9_m.jpg  \n",
            "  inflating: flowers/tulip/4497976955_3f8c2a21c1_m.jpg  \n",
            "  inflating: flowers/tulip/450607536_4fd9f5d17c_m.jpg  \n",
            "  inflating: flowers/tulip/4508346090_a27b988f79_n.jpg  \n",
            "  inflating: flowers/tulip/4516198427_0e5099cd8e.jpg  \n",
            "  inflating: flowers/tulip/4520577328_a94c11e806_n.jpg  \n",
            "  inflating: flowers/tulip/4520582070_d14a14f038.jpg  \n",
            "  inflating: flowers/tulip/4521037085_70d5802e1d_m.jpg  \n",
            "  inflating: flowers/tulip/4521496161_2b41d4182e.jpg  \n",
            "  inflating: flowers/tulip/4522130258_9ee44cf73f_m.jpg  \n",
            "  inflating: flowers/tulip/4522764992_e9d70b82c1_m.jpg  \n",
            "  inflating: flowers/tulip/4546299243_23cd58eb43.jpg  \n",
            "  inflating: flowers/tulip/4546316433_202cc68c55.jpg  \n",
            "  inflating: flowers/tulip/4550091966_7f3e0f8802_n.jpg  \n",
            "  inflating: flowers/tulip/4550117239_5907aaba4c.jpg  \n",
            "  inflating: flowers/tulip/4550278535_dfdf7b74ef.jpg  \n",
            "  inflating: flowers/tulip/4550805310_5f81c9ba08_n.jpg  \n",
            "  inflating: flowers/tulip/4553203984_9cb9312240_n.jpg  \n",
            "  inflating: flowers/tulip/4555842486_dd214a84d7_n.jpg  \n",
            "  inflating: flowers/tulip/4561670472_0451888e32_n.jpg  \n",
            "  inflating: flowers/tulip/4562423077_00b16240dc_n.jpg  \n",
            "  inflating: flowers/tulip/4565139594_b28d260cb9.jpg  \n",
            "  inflating: flowers/tulip/4571353297_5634177744_n.jpg  \n",
            "  inflating: flowers/tulip/4571993204_5b3efe0e78.jpg  \n",
            "  inflating: flowers/tulip/4572955407_87f4805c7b.jpg  \n",
            "  inflating: flowers/tulip/4573822295_5c5c6a5f6a.jpg  \n",
            "  inflating: flowers/tulip/4574785121_5d8ec4626e.jpg  \n",
            "  inflating: flowers/tulip/4575963749_2418ff8768.jpg  \n",
            "  inflating: flowers/tulip/4579079143_f65b39dd9f.jpg  \n",
            "  inflating: flowers/tulip/4579128789_1561575458_n.jpg  \n",
            "  inflating: flowers/tulip/4580206494_9386c81ed8_n.jpg  \n",
            "  inflating: flowers/tulip/4582198748_20fa7caaa1.jpg  \n",
            "  inflating: flowers/tulip/4587872443_a86c692cb8.jpg  \n",
            "  inflating: flowers/tulip/4588904196_3c5825c7f4.jpg  \n",
            "  inflating: flowers/tulip/4589624702_b6baa83699_m.jpg  \n",
            "  inflating: flowers/tulip/4590702749_e1df8e0c1b.jpg  \n",
            "  inflating: flowers/tulip/4590703575_6371c0a186_n.jpg  \n",
            "  inflating: flowers/tulip/4591323356_030d8b6967_m.jpg  \n",
            "  inflating: flowers/tulip/4599815420_8ee42c2382.jpg  \n",
            "  inflating: flowers/tulip/4602809199_d3030cef01_m.jpg  \n",
            "  inflating: flowers/tulip/4604238410_bcec9da4a0_n.jpg  \n",
            "  inflating: flowers/tulip/4604272150_0c92385530_n.jpg  \n",
            "  inflating: flowers/tulip/4612075317_91eefff68c_n.jpg  \n",
            "  inflating: flowers/tulip/4624404489_11e10fcd33_n.jpg  \n",
            "  inflating: flowers/tulip/4644110077_ff252cd7c4.jpg  \n",
            "  inflating: flowers/tulip/466409031_4c10294db5_m.jpg  \n",
            "  inflating: flowers/tulip/467702445_b8676f60fb_n.jpg  \n",
            "  inflating: flowers/tulip/4679869990_7c5f28f2fe_n.jpg  \n",
            "  inflating: flowers/tulip/4681062529_36186617d9.jpg  \n",
            "  inflating: flowers/tulip/471298577_cc7558bcf1.jpg  \n",
            "  inflating: flowers/tulip/478765271_6a8ca1cfa1_m.jpg  \n",
            "  inflating: flowers/tulip/480228053_513791d474.jpg  \n",
            "  inflating: flowers/tulip/4838669164_ffb6f67139.jpg  \n",
            "  inflating: flowers/tulip/483880052_19fdb26a9f.jpg  \n",
            "  inflating: flowers/tulip/485266837_671def8627.jpg  \n",
            "  inflating: flowers/tulip/485415743_eeb5d7c1a5.jpg  \n",
            "  inflating: flowers/tulip/4890786831_91bb82a9e4_n.jpg  \n",
            "  inflating: flowers/tulip/489506904_9b68ba211c.jpg  \n",
            "  inflating: flowers/tulip/490541142_c37e2b4191_n.jpg  \n",
            "  inflating: flowers/tulip/4945315538_97bdd873c4.jpg  \n",
            "  inflating: flowers/tulip/4955884820_7e4ce4d7e5_m.jpg  \n",
            "  inflating: flowers/tulip/497305666_b5d4348826_n.jpg  \n",
            "  inflating: flowers/tulip/5012813078_99fb977616_n.jpg  \n",
            "  inflating: flowers/tulip/503770507_f397245a6a.jpg  \n",
            "  inflating: flowers/tulip/5043225469_0aa23f3c8f_n.jpg  \n",
            "  inflating: flowers/tulip/510698601_9f61d6f8d8.jpg  \n",
            "  inflating: flowers/tulip/518256494_368a72db37.jpg  \n",
            "  inflating: flowers/tulip/5208680166_c4372477ef_n.jpg  \n",
            "  inflating: flowers/tulip/5388013398_09a8a0f166_m.jpg  \n",
            "  inflating: flowers/tulip/5417115048_3b78d6c875_n.jpg  \n",
            "  inflating: flowers/tulip/5430796647_f21b7b0fea.jpg  \n",
            "  inflating: flowers/tulip/5433747333_869a2a172d_m.jpg  \n",
            "  inflating: flowers/tulip/5443985113_54e9f608b3_n.jpg  \n",
            "  inflating: flowers/tulip/5470898169_52a5ab876c_n.jpg  \n",
            "  inflating: flowers/tulip/5524946579_307dc74476.jpg  \n",
            "  inflating: flowers/tulip/5529939805_1679b014e1_n.jpg  \n",
            "  inflating: flowers/tulip/5543457754_89c44c88de_n.jpg  \n",
            "  inflating: flowers/tulip/5546723510_39a5a10d3a_n.jpg  \n",
            "  inflating: flowers/tulip/5552198702_35856ed8ec.jpg  \n",
            "  inflating: flowers/tulip/5565089564_a30c318f44.jpg  \n",
            "  inflating: flowers/tulip/5574219476_1f46775487_n.jpg  \n",
            "  inflating: flowers/tulip/5603625247_e4ff1828af_m.jpg  \n",
            "  inflating: flowers/tulip/5628970369_54eb9ed31c_n.jpg  \n",
            "  inflating: flowers/tulip/5631861819_f0eb39a357_m.jpg  \n",
            "  inflating: flowers/tulip/5632006303_15acd2cf1e_n.jpg  \n",
            "  inflating: flowers/tulip/5633266048_4f4bfb2cf1_n.jpg  \n",
            "  inflating: flowers/tulip/5634767665_0ae724774d.jpg  \n",
            "  inflating: flowers/tulip/5635347336_bc1400e939_n.jpg  \n",
            "  inflating: flowers/tulip/5635348214_a4e2b19ffe.jpg  \n",
            "  inflating: flowers/tulip/5637140035_e6c5514f54.jpg  \n",
            "  inflating: flowers/tulip/5644061265_e02135f028_n.jpg  \n",
            "  inflating: flowers/tulip/5653364300_bc557236c7_n.jpg  \n",
            "  inflating: flowers/tulip/5660551500_b57307ef4d_n.jpg  \n",
            "  inflating: flowers/tulip/5661431592_cea1108261_n.jpg  \n",
            "  inflating: flowers/tulip/5665080897_0796f726c9_m.jpg  \n",
            "  inflating: flowers/tulip/5665708521_799585d229_n.jpg  \n",
            "  inflating: flowers/tulip/5666286130_1dc6f66f09_n.jpg  \n",
            "  inflating: flowers/tulip/5670916806_df4316006f_n.jpg  \n",
            "  inflating: flowers/tulip/5674125303_953b0ecf38.jpg  \n",
            "  inflating: flowers/tulip/5674127693_1ddbd81097.jpg  \n",
            "  inflating: flowers/tulip/5674132053_b40a7d32ca.jpg  \n",
            "  inflating: flowers/tulip/5674134129_2db5136cba.jpg  \n",
            "  inflating: flowers/tulip/5674167473_ac696c8989_n.jpg  \n",
            "  inflating: flowers/tulip/5674170543_73e3f403fb.jpg  \n",
            "  inflating: flowers/tulip/5674695558_61397a1584.jpg  \n",
            "  inflating: flowers/tulip/5674704952_9bd225ed9e_n.jpg  \n",
            "  inflating: flowers/tulip/5674707464_dc18de05b1.jpg  \n",
            "  inflating: flowers/tulip/5680695867_baff72fc7c.jpg  \n",
            "  inflating: flowers/tulip/5682463466_d3e641cb8b.jpg  \n",
            "  inflating: flowers/tulip/5687705933_55a8c2dbac.jpg  \n",
            "  inflating: flowers/tulip/5691090657_2f1e9bf49e_n.jpg  \n",
            "  inflating: flowers/tulip/5691100579_4a2767360a.jpg  \n",
            "  inflating: flowers/tulip/5691672942_70a93d70fc.jpg  \n",
            "  inflating: flowers/tulip/5697471591_200ff951fa_n.jpg  \n",
            "  inflating: flowers/tulip/5698944116_fd35fe6bea.jpg  \n",
            "  inflating: flowers/tulip/5700394524_dc6f8fa9cd_n.jpg  \n",
            "  inflating: flowers/tulip/5700466891_2bcb17fa68_n.jpg  \n",
            "  inflating: flowers/tulip/5704726114_a92f753514.jpg  \n",
            "  inflating: flowers/tulip/5716293002_a8be6a6dd3_n.jpg  \n",
            "  inflating: flowers/tulip/5717949231_23e2d4c297_n.jpg  \n",
            "  inflating: flowers/tulip/5717950215_5d0bf2e8b3_n.jpg  \n",
            "  inflating: flowers/tulip/5717950291_af2aed83d8_n.jpg  \n",
            "  inflating: flowers/tulip/5717950375_063b937e29_n.jpg  \n",
            "  inflating: flowers/tulip/5717950507_087513ecbf_n.jpg  \n",
            "  inflating: flowers/tulip/5717950705_a5d53872e4_n.jpg  \n",
            "  inflating: flowers/tulip/5717950861_69c8846479_n.jpg  \n",
            "  inflating: flowers/tulip/5717951019_739d8307d4_n.jpg  \n",
            "  inflating: flowers/tulip/5717951105_72b6f58838_n.jpg  \n",
            "  inflating: flowers/tulip/5717951287_124cac32b1_n.jpg  \n",
            "  inflating: flowers/tulip/5717951663_048431c2e6_n.jpg  \n",
            "  inflating: flowers/tulip/5717951743_365f3f64b9_n.jpg  \n",
            "  inflating: flowers/tulip/5717951871_4af1b319eb_n.jpg  \n",
            "  inflating: flowers/tulip/5718510894_95990c47af_n.jpg  \n",
            "  inflating: flowers/tulip/5718510972_9a439aa30a_n.jpg  \n",
            "  inflating: flowers/tulip/5718511304_9334269df2_n.jpg  \n",
            "  inflating: flowers/tulip/5718511402_c20cb11cef_n.jpg  \n",
            "  inflating: flowers/tulip/5718511580_edcfd49782_n.jpg  \n",
            "  inflating: flowers/tulip/5718511762_43b08f50ff_n.jpg  \n",
            "  inflating: flowers/tulip/5718512060_b78a25c084_n.jpg  \n",
            "  inflating: flowers/tulip/5718512292_aa50a9a473_n.jpg  \n",
            "  inflating: flowers/tulip/5718512462_b48988824a_n.jpg  \n",
            "  inflating: flowers/tulip/5718512658_f3b1ec76d7_n.jpg  \n",
            "  inflating: flowers/tulip/5718512892_a175a94c45_n.jpg  \n",
            "  inflating: flowers/tulip/5718513040_8ea13a3599_n.jpg  \n",
            "  inflating: flowers/tulip/5718513240_e84d5a7e89_n.jpg  \n",
            "  inflating: flowers/tulip/5718513354_673b6e8306_n.jpg  \n",
            "  inflating: flowers/tulip/5718781677_d5e9267115_n.jpg  \n",
            "  inflating: flowers/tulip/5719416820_3060e3c1f0.jpg  \n",
            "  inflating: flowers/tulip/5730908127_da871df0f8.jpg  \n",
            "  inflating: flowers/tulip/5738195260_b3fc107aa7_n.jpg  \n",
            "  inflating: flowers/tulip/5755467567_903c31e3d0.jpg  \n",
            "  inflating: flowers/tulip/5757091018_cdfd79dfa6_m.jpg  \n",
            "  inflating: flowers/tulip/5810456385_b44358a0ae.jpg  \n",
            "  inflating: flowers/tulip/5811004432_266f0f0c6f.jpg  \n",
            "  inflating: flowers/tulip/5811022098_2523ca4e82.jpg  \n",
            "  inflating: flowers/tulip/5813495998_64be1b8ab6_n.jpg  \n",
            "  inflating: flowers/tulip/5891485349_cce7b99549.jpg  \n",
            "  inflating: flowers/tulip/6038098425_b3b4fb62cc_m.jpg  \n",
            "  inflating: flowers/tulip/6187740107_9813ccc41e.jpg  \n",
            "  inflating: flowers/tulip/6227136437_6117068599_m.jpg  \n",
            "  inflating: flowers/tulip/6227136683_262c6be56b.jpg  \n",
            "  inflating: flowers/tulip/6267021825_a8316e0dcc_m.jpg  \n",
            "  inflating: flowers/tulip/6325571510_7544b27e57_n.jpg  \n",
            "  inflating: flowers/tulip/65347450_53658c63bd_n.jpg  \n",
            "  inflating: flowers/tulip/6539831765_c21b68910e_n.jpg  \n",
            "  inflating: flowers/tulip/6770436217_281da51e49_n.jpg  \n",
            "  inflating: flowers/tulip/6799076717_575944af91_m.jpg  \n",
            "  inflating: flowers/tulip/6808860548_53796b90ca_n.jpg  \n",
            "  inflating: flowers/tulip/6876631336_54bf150990.jpg  \n",
            "  inflating: flowers/tulip/6903831250_a2757fff82_m.jpg  \n",
            "  inflating: flowers/tulip/6905876618_12732b74de_b.jpg  \n",
            "  inflating: flowers/tulip/6931489544_2f35025f7b_m.jpg  \n",
            "  inflating: flowers/tulip/6931674908_8e93bd4554.jpg  \n",
            "  inflating: flowers/tulip/6931708704_fccb06fea8.jpg  \n",
            "  inflating: flowers/tulip/6931715360_34edc5a372_m.jpg  \n",
            "  inflating: flowers/tulip/6931748252_68f06086b3.jpg  \n",
            "  inflating: flowers/tulip/6934951920_d43ff8b78d.jpg  \n",
            "  inflating: flowers/tulip/6936168062_a31c28b77c_m.jpg  \n",
            "  inflating: flowers/tulip/6948277038_89d7ff42e2_m.jpg  \n",
            "  inflating: flowers/tulip/6958243974_8851425ddb_n.jpg  \n",
            "  inflating: flowers/tulip/6958342976_a4a9483488_n.jpg  \n",
            "  inflating: flowers/tulip/6958343928_7e596da4ed_m.jpg  \n",
            "  inflating: flowers/tulip/6970683464_f70838ca3a_n.jpg  \n",
            "  inflating: flowers/tulip/6982913043_3b873c6a25.jpg  \n",
            "  inflating: flowers/tulip/6989946990_62c639ff16_n.jpg  \n",
            "  inflating: flowers/tulip/6994351792_343e18cbf6_n.jpg  \n",
            "  inflating: flowers/tulip/6998661030_46cbb7892a.jpg  \n",
            "  inflating: flowers/tulip/7002703410_3e97b29da5_n.jpg  \n",
            "  inflating: flowers/tulip/7003964080_4566470798_n.jpg  \n",
            "  inflating: flowers/tulip/7042692841_f323799c0d.jpg  \n",
            "  inflating: flowers/tulip/7046815693_f159e96acd_n.jpg  \n",
            "  inflating: flowers/tulip/7047408023_6e98fd1e3f.jpg  \n",
            "  inflating: flowers/tulip/7055500907_dcf2bb50e0.jpg  \n",
            "  inflating: flowers/tulip/7064778965_ddcc6ee9f2.jpg  \n",
            "  inflating: flowers/tulip/7064813645_f7f48fb527.jpg  \n",
            "  inflating: flowers/tulip/7068715863_a534ac7884_n.jpg  \n",
            "  inflating: flowers/tulip/7069622551_348d41c327_n.jpg  \n",
            "  inflating: flowers/tulip/7070694881_e9a331fa4e_n.jpg  \n",
            "  inflating: flowers/tulip/7082608511_f4cf233f59_n.jpg  \n",
            "  inflating: flowers/tulip/7094271655_79a6f972c1_n.jpg  \n",
            "  inflating: flowers/tulip/7094415739_6b29e5215c_m.jpg  \n",
            "  inflating: flowers/tulip/7136973281_b2a935ce20.jpg  \n",
            "  inflating: flowers/tulip/7144016605_e159b6c06b_m.jpg  \n",
            "  inflating: flowers/tulip/7145978709_2d1596f462.jpg  \n",
            "  inflating: flowers/tulip/7166539842_43b7e02883.jpg  \n",
            "  inflating: flowers/tulip/7166539842_43b7e02883_n.jpg  \n",
            "  inflating: flowers/tulip/7166544280_9d975c4d9a_n.jpg  \n",
            "  inflating: flowers/tulip/7166546934_c97b08c9d9_n.jpg  \n",
            "  inflating: flowers/tulip/7166550328_de0d73cfa9.jpg  \n",
            "  inflating: flowers/tulip/7166550328_de0d73cfa9_n.jpg  \n",
            "  inflating: flowers/tulip/7166552648_28b6dce578.jpg  \n",
            "  inflating: flowers/tulip/7166552648_28b6dce578_n.jpg  \n",
            "  inflating: flowers/tulip/7166554924_432aaae4b2_n.jpg  \n",
            "  inflating: flowers/tulip/7166558370_f7f68983ea_n.jpg  \n",
            "  inflating: flowers/tulip/7166560822_27b1d1d132_n.jpg  \n",
            "  inflating: flowers/tulip/7166564830_8b34a3fd35_n.jpg  \n",
            "  inflating: flowers/tulip/7166567320_0a2beb6d42.jpg  \n",
            "  inflating: flowers/tulip/7166567320_0a2beb6d42_n.jpg  \n",
            "  inflating: flowers/tulip/7166570828_7c26ca5766_n.jpg  \n",
            "  inflating: flowers/tulip/7166574936_3d93a510c5_n.jpg  \n",
            "  inflating: flowers/tulip/7166581866_861cd081b8_n.jpg  \n",
            "  inflating: flowers/tulip/7166589802_8238cec83b_n.jpg  \n",
            "  inflating: flowers/tulip/7166591854_93c0dd6f8d_n.jpg  \n",
            "  inflating: flowers/tulip/7166596680_a01961a618_n.jpg  \n",
            "  inflating: flowers/tulip/7166598930_18d8686ace_n.jpg  \n",
            "  inflating: flowers/tulip/7166606598_5d2cd307c3.jpg  \n",
            "  inflating: flowers/tulip/7166606598_5d2cd307c3_n.jpg  \n",
            "  inflating: flowers/tulip/7166612682_711e680027_n.jpg  \n",
            "  inflating: flowers/tulip/7166614014_5f0f8d715b_n.jpg  \n",
            "  inflating: flowers/tulip/7166616072_1233051d98_n.jpg  \n",
            "  inflating: flowers/tulip/7166618384_850905fc63_n.jpg  \n",
            "  inflating: flowers/tulip/7166620850_8a37b95972_n.jpg  \n",
            "  inflating: flowers/tulip/7166623602_256179ab00_n.jpg  \n",
            "  inflating: flowers/tulip/7166626128_8e0983ac8e_n.jpg  \n",
            "  inflating: flowers/tulip/7166632158_666116d770_n.jpg  \n",
            "  inflating: flowers/tulip/7166635566_ee240b5408_n.jpg  \n",
            "  inflating: flowers/tulip/7166640338_46b15d9ec8_n.jpg  \n",
            "  inflating: flowers/tulip/7166644048_b00a14f01b.jpg  \n",
            "  inflating: flowers/tulip/7166644048_b00a14f01b_n.jpg  \n",
            "  inflating: flowers/tulip/7166646966_41d83cd703.jpg  \n",
            "  inflating: flowers/tulip/7177682195_c29265748d_n.jpg  \n",
            "  inflating: flowers/tulip/7179796338_05e8b1c87b.jpg  \n",
            "  inflating: flowers/tulip/7205145492_baec4dbb94.jpg  \n",
            "  inflating: flowers/tulip/7205698252_b972087cc2.jpg  \n",
            "  inflating: flowers/tulip/7247182064_f8d6759446_n.jpg  \n",
            "  inflating: flowers/tulip/7266196114_c2a736a15a_m.jpg  \n",
            "  inflating: flowers/tulip/7342871880_c17fe0eb4f_m.jpg  \n",
            "  inflating: flowers/tulip/738207467_fc59cfcd9b_z.jpg  \n",
            "  inflating: flowers/tulip/7447655334_e8f805ab95_m.jpg  \n",
            "  inflating: flowers/tulip/7448453762_aea8739f1b.jpg  \n",
            "  inflating: flowers/tulip/7481204112_e3c57dd40a_n.jpg  \n",
            "  inflating: flowers/tulip/7481215720_73e40f178f_n.jpg  \n",
            "  inflating: flowers/tulip/7481217920_6f65766a1c_n.jpg  \n",
            "  inflating: flowers/tulip/7775145448_c42e638a6a_n.jpg  \n",
            "  inflating: flowers/tulip/779359602_30abcbf5bb_n.jpg  \n",
            "  inflating: flowers/tulip/7806320016_fcddfc1f8f_n.jpg  \n",
            "  inflating: flowers/tulip/8394186551_28eed83a94_m.jpg  \n",
            "  inflating: flowers/tulip/8454707381_453b4862eb_m.jpg  \n",
            "  inflating: flowers/tulip/8454719295_4276c0e9c5_n.jpg  \n",
            "  inflating: flowers/tulip/8484905084_6a18c62b13_m.jpg  \n",
            "  inflating: flowers/tulip/8511683706_4173683d45_m.jpg  \n",
            "  inflating: flowers/tulip/8520482921_21dd204ebd_n.jpg  \n",
            "  inflating: flowers/tulip/8520488975_a50d377f91.jpg  \n",
            "  inflating: flowers/tulip/8521597402_4b6169ba05.jpg  \n",
            "  inflating: flowers/tulip/8523133474_d2c0845b54.jpg  \n",
            "  inflating: flowers/tulip/8554190977_37ac747799_m.jpg  \n",
            "  inflating: flowers/tulip/8555123165_2fe57eff4f.jpg  \n",
            "  inflating: flowers/tulip/8562853756_73778dac25_n.jpg  \n",
            "  inflating: flowers/tulip/8572847041_d0cc07861f_n.jpg  \n",
            "  inflating: flowers/tulip/8585101979_4398146bf1_n.jpg  \n",
            "  inflating: flowers/tulip/8585102511_fc452e6700_n.jpg  \n",
            "  inflating: flowers/tulip/8585102913_d80d3e2ff7_n.jpg  \n",
            "  inflating: flowers/tulip/8585103457_d64697c3cf_n.jpg  \n",
            "  inflating: flowers/tulip/8586204750_2891bd2ec9_n.jpg  \n",
            "  inflating: flowers/tulip/8586205168_8294e67195_n.jpg  \n",
            "  inflating: flowers/tulip/8586205446_8953a6c70e_n.jpg  \n",
            "  inflating: flowers/tulip/8586205946_cda045f3f8_n.jpg  \n",
            "  inflating: flowers/tulip/8601596054_33e40c2a7a.jpg  \n",
            "  inflating: flowers/tulip/8603340662_0779bd87fd.jpg  \n",
            "  inflating: flowers/tulip/8605564823_7a59d3d92a.jpg  \n",
            "  inflating: flowers/tulip/8614237582_74417799f4_m.jpg  \n",
            "  inflating: flowers/tulip/8619064872_dea79a9eb9.jpg  \n",
            "  inflating: flowers/tulip/8622237974_b362574785_n.jpg  \n",
            "  inflating: flowers/tulip/8623170936_83f4152431.jpg  \n",
            "  inflating: flowers/tulip/8623173256_3f0eb4c506.jpg  \n",
            "  inflating: flowers/tulip/8628453641_6f87755815_m.jpg  \n",
            "  inflating: flowers/tulip/8659691170_09db83d023.jpg  \n",
            "  inflating: flowers/tulip/8668973377_c69527db42_m.jpg  \n",
            "  inflating: flowers/tulip/8668974855_8389ecbdca_m.jpg  \n",
            "  inflating: flowers/tulip/8669794378_97dda6036f_n.jpg  \n",
            "  inflating: flowers/tulip/8673412732_f8fd690ee4_n.jpg  \n",
            "  inflating: flowers/tulip/8673416166_620fc18e2f_n.jpg  \n",
            "  inflating: flowers/tulip/8673416556_639f5c88f1_n.jpg  \n",
            "  inflating: flowers/tulip/8677713853_1312f65e71.jpg  \n",
            "  inflating: flowers/tulip/8681825637_837a63513a_n.jpg  \n",
            "  inflating: flowers/tulip/8686013485_3c4dfbfd1f_n.jpg  \n",
            "  inflating: flowers/tulip/8686332852_c6dcb2e86b.jpg  \n",
            "  inflating: flowers/tulip/8687675254_c93f50d8b0_m.jpg  \n",
            "  inflating: flowers/tulip/8688502760_1c8d6de921_m.jpg  \n",
            "  inflating: flowers/tulip/8689672277_b289909f97_n.jpg  \n",
            "  inflating: flowers/tulip/8690789564_394eb04982_n.jpg  \n",
            "  inflating: flowers/tulip/8690791226_b1f015259f_n.jpg  \n",
            "  inflating: flowers/tulip/8695367666_0809529eaf_n.jpg  \n",
            "  inflating: flowers/tulip/8695372372_302135aeb2.jpg  \n",
            "  inflating: flowers/tulip/8697784345_e75913d220.jpg  \n",
            "  inflating: flowers/tulip/8702982836_75222725d7.jpg  \n",
            "  inflating: flowers/tulip/8706523526_a0f161b72b.jpg  \n",
            "  inflating: flowers/tulip/8708209606_d3aede4801.jpg  \n",
            "  inflating: flowers/tulip/8708856019_f3be2353a4_n.jpg  \n",
            "  inflating: flowers/tulip/8710148289_6fc196a0f8_n.jpg  \n",
            "  inflating: flowers/tulip/8711277462_b43df5454b_m.jpg  \n",
            "  inflating: flowers/tulip/8712230357_1298b8513b.jpg  \n",
            "  inflating: flowers/tulip/8712243901_54d686319e_m.jpg  \n",
            "  inflating: flowers/tulip/8712244311_da8e90bf8e_n.jpg  \n",
            "  inflating: flowers/tulip/8712260079_c0ff42e0e2_n.jpg  \n",
            "  inflating: flowers/tulip/8712263493_3db76c5f82.jpg  \n",
            "  inflating: flowers/tulip/8712266605_3787e346cd_n.jpg  \n",
            "  inflating: flowers/tulip/8712267391_c756f18ee7_n.jpg  \n",
            "  inflating: flowers/tulip/8712267813_f7a9be2ec5.jpg  \n",
            "  inflating: flowers/tulip/8712268519_f4c2c39a06_n.jpg  \n",
            "  inflating: flowers/tulip/8712269349_2b933da2b8_n.jpg  \n",
            "  inflating: flowers/tulip/8712270243_8512cf4fbd.jpg  \n",
            "  inflating: flowers/tulip/8712270665_57b5bda0a2_n.jpg  \n",
            "  inflating: flowers/tulip/8712282563_3819afb7bc.jpg  \n",
            "  inflating: flowers/tulip/8713357842_9964a93473_n.jpg  \n",
            "  inflating: flowers/tulip/8713387500_6a9138b41b_n.jpg  \n",
            "  inflating: flowers/tulip/8713388322_e5ae26263b_n.jpg  \n",
            "  inflating: flowers/tulip/8713389178_66bceb71a8_n.jpg  \n",
            "  inflating: flowers/tulip/8713390684_041148dd3e_n.jpg  \n",
            "  inflating: flowers/tulip/8713391394_4b679ea1e3_n.jpg  \n",
            "  inflating: flowers/tulip/8713392604_90631fb809_n.jpg  \n",
            "  inflating: flowers/tulip/8713394070_b24561b0a9.jpg  \n",
            "  inflating: flowers/tulip/8713396140_5af8136136.jpg  \n",
            "  inflating: flowers/tulip/8713397358_0505cc0176_n.jpg  \n",
            "  inflating: flowers/tulip/8713397694_bcbcbba2c2_n.jpg  \n",
            "  inflating: flowers/tulip/8713398114_bc96f1b624_n.jpg  \n",
            "  inflating: flowers/tulip/8713398614_88202e452e_n.jpg  \n",
            "  inflating: flowers/tulip/8713398906_28e59a225a_n.jpg  \n",
            "  inflating: flowers/tulip/8713407768_f880df361f.jpg  \n",
            "  inflating: flowers/tulip/8717900362_2aa508e9e5.jpg  \n",
            "  inflating: flowers/tulip/8722514702_7ecc68691c.jpg  \n",
            "  inflating: flowers/tulip/8723767533_9145dec4bd_n.jpg  \n",
            "  inflating: flowers/tulip/8729501081_b993185542_m.jpg  \n",
            "  inflating: flowers/tulip/8733586143_3139db6e9e_n.jpg  \n",
            "  inflating: flowers/tulip/8748266132_5298a91dcf_n.jpg  \n",
            "  inflating: flowers/tulip/8750288831_5e49a9f29b.jpg  \n",
            "  inflating: flowers/tulip/8757486380_90952c5377.jpg  \n",
            "  inflating: flowers/tulip/8758464923_75a5ffe320_n.jpg  \n",
            "  inflating: flowers/tulip/8758519201_16e8d2d781_n.jpg  \n",
            "  inflating: flowers/tulip/8759594528_2534c0ec65_n.jpg  \n",
            "  inflating: flowers/tulip/8759597778_7fca5d434b_n.jpg  \n",
            "  inflating: flowers/tulip/8759601388_36e2a50d98_n.jpg  \n",
            "  inflating: flowers/tulip/8759606166_8e475013fa_n.jpg  \n",
            "  inflating: flowers/tulip/8759618746_f5e39fdbf8_n.jpg  \n",
            "  inflating: flowers/tulip/8762189906_8223cef62f.jpg  \n",
            "  inflating: flowers/tulip/8762193202_0fbf2f6a81.jpg  \n",
            "  inflating: flowers/tulip/8768645961_8f1e097170_n.jpg  \n",
            "  inflating: flowers/tulip/8817622133_a42bb90e38_n.jpg  \n",
            "  inflating: flowers/tulip/8838347159_746d14e6c1_m.jpg  \n",
            "  inflating: flowers/tulip/8838354855_c474fc66a3_m.jpg  \n",
            "  inflating: flowers/tulip/8838914676_8ef4db7f50_n.jpg  \n",
            "  inflating: flowers/tulip/8838975946_f54194894e_m.jpg  \n",
            "  inflating: flowers/tulip/8838983024_5c1a767878_n.jpg  \n",
            "  inflating: flowers/tulip/8892851067_79242a7362_n.jpg  \n",
            "  inflating: flowers/tulip/8904780994_8867d64155_n.jpg  \n",
            "  inflating: flowers/tulip/8908062479_449200a1b4.jpg  \n",
            "  inflating: flowers/tulip/8908097235_c3e746d36e_n.jpg  \n",
            "  inflating: flowers/tulip/9019694597_2d3bbedb17.jpg  \n",
            "  inflating: flowers/tulip/9030467406_05e93ff171_n.jpg  \n",
            "  inflating: flowers/tulip/9048307967_40a164a459_m.jpg  \n",
            "  inflating: flowers/tulip/924782410_94ed7913ca_m.jpg  \n",
            "  inflating: flowers/tulip/9378657435_89fabf13c9_n.jpg  \n",
            "  inflating: flowers/tulip/9444202147_405290415b_n.jpg  \n",
            "  inflating: flowers/tulip/9446982168_06c4d71da3_n.jpg  \n",
            "  inflating: flowers/tulip/9831362123_5aac525a99_n.jpg  \n",
            "  inflating: flowers/tulip/9870557734_88eb3b9e3b_n.jpg  \n",
            "  inflating: flowers/tulip/9947374414_fdf1d0861c_n.jpg  \n",
            "  inflating: flowers/tulip/9947385346_3a8cacea02_n.jpg  \n",
            "  inflating: flowers/tulip/9976515506_d496c5e72c.jpg  \n"
          ],
          "name": "stdout"
        }
      ]
    },
    {
      "cell_type": "code",
      "metadata": {
        "id": "l0sOke4dLwne"
      },
      "source": [
        "# Inspect the directory structure\n",
        "\n",
        "#train_path = 'path/to/flowers-recognition-split/train'\n",
        "#val_path = 'path/to/flowers-recognition-split/val'\n",
        "\n",
        "#train_path = '/content/gdrive/My Drive/mydata/Kaggle/flowers'\n",
        "full_dataset = '/content/gdrive/My Drive/mydata/Kaggle/flowers'"
      ],
      "execution_count": 34,
      "outputs": []
    },
    {
      "cell_type": "code",
      "metadata": {
        "id": "nU_0lGLnLwnf"
      },
      "source": [
        "# Create an ImageDataGenerator object\n",
        "\n",
        "#datagenerator = ImageDataGenerator(rescale=(1/255.0))\n",
        "\n",
        "datagenerator = ImageDataGenerator(rescale=(1/255.0), validation_split=0.2)"
      ],
      "execution_count": 37,
      "outputs": []
    },
    {
      "cell_type": "code",
      "metadata": {
        "id": "rNSTFnZpLwng"
      },
      "source": [
        "classes = ['daisy', 'dandelion', 'rose', 'sunflower', 'tulip']\n",
        "chamomile, tulip, rose, sunflower, dandelion"
      ],
      "execution_count": 38,
      "outputs": []
    },
    {
      "cell_type": "code",
      "metadata": {
        "id": "DoSrRM2vLwni",
        "outputId": "b02fe6f7-63f0-429c-9730-c488dddb2f6a",
        "colab": {
          "base_uri": "https://localhost:8080/",
          "height": 34
        }
      },
      "source": [
        "# Create a training data generator\n",
        "\n",
        "train_generator = datagenerator.flow_from_directory(full_dataset, target_size=(16, 16), batch_size=64, classes=classes, subset='training')"
      ],
      "execution_count": 76,
      "outputs": [
        {
          "output_type": "stream",
          "text": [
            "Found 3462 images belonging to 5 classes.\n"
          ],
          "name": "stdout"
        }
      ]
    },
    {
      "cell_type": "code",
      "metadata": {
        "id": "I4iABrtkLwnj",
        "outputId": "35832af9-596a-4337-c05d-f097a73f04a3",
        "colab": {
          "base_uri": "https://localhost:8080/",
          "height": 34
        }
      },
      "source": [
        "# Create a validation data generator\n",
        "\n",
        "val_generator = datagenerator.flow_from_directory(full_dataset, target_size=(16, 16), batch_size=64, classes=classes, subset='validation')"
      ],
      "execution_count": 77,
      "outputs": [
        {
          "output_type": "stream",
          "text": [
            "Found 861 images belonging to 5 classes.\n"
          ],
          "name": "stdout"
        }
      ]
    },
    {
      "cell_type": "code",
      "metadata": {
        "id": "xttbpzhiLwnn",
        "outputId": "162b4b6d-d9cd-46a2-a530-efc63e95b027",
        "colab": {
          "base_uri": "https://localhost:8080/",
          "height": 282
        }
      },
      "source": [
        "# Get and display an image and label from the training generator\n",
        "\n",
        "x = next(train_generator)\n",
        "imshow(x[0][4])\n",
        "print(x[1][4])\n"
      ],
      "execution_count": 78,
      "outputs": [
        {
          "output_type": "stream",
          "text": [
            "[0. 0. 0. 0. 1.]\n"
          ],
          "name": "stdout"
        },
        {
          "output_type": "display_data",
          "data": {
            "image/png": "[encoded data removed]",
            "text/plain": [
              "<Figure size 432x288 with 1 Axes>"
            ]
          },
          "metadata": {
            "tags": [],
            "needs_background": "light"
          }
        }
      ]
    },
    {
      "cell_type": "code",
      "metadata": {
        "id": "aXWyh-28flLr",
        "outputId": "e731ae91-f13d-4d2e-8353-be2eaf1103d2",
        "colab": {
          "base_uri": "https://localhost:8080/",
          "height": 282
        }
      },
      "source": [
        "imshow(x[0][0])\n",
        "print(x[1][0])"
      ],
      "execution_count": 105,
      "outputs": [
        {
          "output_type": "stream",
          "text": [
            "[0. 0. 0. 1. 0.]\n"
          ],
          "name": "stdout"
        },
        {
          "output_type": "display_data",
          "data": {
            "image/png": "[encoded data removed]",
            "text/plain": [
              "<Figure size 432x288 with 1 Axes>"
            ]
          },
          "metadata": {
            "tags": [],
            "needs_background": "light"
          }
        }
      ]
    },
    {
      "cell_type": "code",
      "metadata": {
        "id": "eubMyZu7Lwnu",
        "outputId": "95e290e3-e5a9-4a09-992e-5f7de91f057f",
        "colab": {
          "base_uri": "https://localhost:8080/",
          "height": 34
        }
      },
      "source": [
        "# Reset the training generator\n",
        "train_generator = datagenerator.flow_from_directory(full_dataset, target_size=(16, 16), batch_size=64, classes=classes, subset='training')"
      ],
      "execution_count": 48,
      "outputs": [
        {
          "output_type": "stream",
          "text": [
            "Found 3462 images belonging to 5 classes.\n"
          ],
          "name": "stdout"
        }
      ]
    },
    {
      "cell_type": "markdown",
      "metadata": {
        "id": "IuICkLdgLwnv"
      },
      "source": [
        "#### Create a model to train"
      ]
    },
    {
      "cell_type": "code",
      "metadata": {
        "scrolled": false,
        "id": "Vli6KboxLwnv"
      },
      "source": [
        "# Build a CNN model\n",
        "\n",
        "from tensorflow.keras.layers import Conv2D, MaxPooling2D, Input, Flatten, Dense\n",
        "\n",
        "model = tf.keras.Sequential()\n",
        "model.add(Input((16,16,3)))\n",
        "model.add(Conv2D(8, (8, 8), padding='same', activation='relu'))\n",
        "model.add(MaxPooling2D((4,4)))\n",
        "model.add(Conv2D(8, (8, 8), padding='same', activation='relu'))\n",
        "model.add(MaxPooling2D((2,2)))\n",
        "model.add(Conv2D(4, (4, 4), padding='same', activation='relu'))\n",
        "model.add(Flatten())\n",
        "model.add(Dense(16, activation='relu'))\n",
        "model.add(Dense(8, activation='relu'))\n",
        "model.add(Dense(5, activation='softmax'))"
      ],
      "execution_count": 49,
      "outputs": []
    },
    {
      "cell_type": "code",
      "metadata": {
        "id": "1EpyPWDtLwnw"
      },
      "source": [
        "# Create an optimizer object\n",
        "\n",
        "optimizer = tf.keras.optimizers.Adam(1e-3)"
      ],
      "execution_count": 50,
      "outputs": []
    },
    {
      "cell_type": "code",
      "metadata": {
        "id": "KkzxS4w8Lwny"
      },
      "source": [
        "# Compile the model\n",
        "\n",
        "model.compile(optimizer=optimizer, loss='categorical_crossentropy', metrics=['accuracy'])"
      ],
      "execution_count": 51,
      "outputs": []
    },
    {
      "cell_type": "code",
      "metadata": {
        "id": "KRFuAO0dLwnz",
        "outputId": "b169b187-17bd-43b8-bc87-bfc51fdd171d",
        "colab": {
          "base_uri": "https://localhost:8080/",
          "height": 469
        }
      },
      "source": [
        "# Print the model summary\n",
        "\n",
        "model.summary()"
      ],
      "execution_count": 52,
      "outputs": [
        {
          "output_type": "stream",
          "text": [
            "Model: \"sequential\"\n",
            "_________________________________________________________________\n",
            "Layer (type)                 Output Shape              Param #   \n",
            "=================================================================\n",
            "conv2d (Conv2D)              (None, 16, 16, 8)         1544      \n",
            "_________________________________________________________________\n",
            "max_pooling2d (MaxPooling2D) (None, 4, 4, 8)           0         \n",
            "_________________________________________________________________\n",
            "conv2d_1 (Conv2D)            (None, 4, 4, 8)           4104      \n",
            "_________________________________________________________________\n",
            "max_pooling2d_1 (MaxPooling2 (None, 2, 2, 8)           0         \n",
            "_________________________________________________________________\n",
            "conv2d_2 (Conv2D)            (None, 2, 2, 4)           516       \n",
            "_________________________________________________________________\n",
            "flatten (Flatten)            (None, 16)                0         \n",
            "_________________________________________________________________\n",
            "dense (Dense)                (None, 16)                272       \n",
            "_________________________________________________________________\n",
            "dense_1 (Dense)              (None, 8)                 136       \n",
            "_________________________________________________________________\n",
            "dense_2 (Dense)              (None, 5)                 45        \n",
            "=================================================================\n",
            "Total params: 6,617\n",
            "Trainable params: 6,617\n",
            "Non-trainable params: 0\n",
            "_________________________________________________________________\n"
          ],
          "name": "stdout"
        }
      ]
    },
    {
      "cell_type": "markdown",
      "metadata": {
        "id": "EdlrTTxkLwn1"
      },
      "source": [
        "#### Train the model"
      ]
    },
    {
      "cell_type": "code",
      "metadata": {
        "id": "8cXhw2VhLwn1",
        "outputId": "c27da7ca-5d63-4d94-c2ee-e9ac7ddd3f14",
        "colab": {
          "base_uri": "https://localhost:8080/",
          "height": 34
        }
      },
      "source": [
        "# Calculate the training generator and test generator steps per epoch\n",
        "\n",
        "train_steps_per_epoch = train_generator.n // train_generator.batch_size\n",
        "val_steps = val_generator.n // val_generator.batch_size\n",
        "print(train_steps_per_epoch, val_steps)"
      ],
      "execution_count": 53,
      "outputs": [
        {
          "output_type": "stream",
          "text": [
            "54 13\n"
          ],
          "name": "stdout"
        }
      ]
    },
    {
      "cell_type": "code",
      "metadata": {
        "id": "Jj_RYA1_Qskt",
        "outputId": "c72e73a0-d4be-4648-bb5e-cbbaef9602cc",
        "colab": {
          "base_uri": "https://localhost:8080/",
          "height": 34
        }
      },
      "source": [
        "print(3462//64, 861//64)"
      ],
      "execution_count": 56,
      "outputs": [
        {
          "output_type": "stream",
          "text": [
            "54 13\n"
          ],
          "name": "stdout"
        }
      ]
    },
    {
      "cell_type": "code",
      "metadata": {
        "id": "Q3daJBkILwn4",
        "outputId": "147a30c2-f4c2-4428-b267-6c07491f24cc",
        "colab": {
          "base_uri": "https://localhost:8080/",
          "height": 208
        }
      },
      "source": [
        "# Fit the model\n",
        "\n",
        "model.fit_generator(train_generator, steps_per_epoch=train_steps_per_epoch, epochs=5)"
      ],
      "execution_count": 58,
      "outputs": [
        {
          "output_type": "stream",
          "text": [
            "Epoch 1/5\n",
            "54/54 [==============================] - 14s 251ms/step - loss: 1.5496 - accuracy: 0.3358\n",
            "Epoch 2/5\n",
            "54/54 [==============================] - 14s 251ms/step - loss: 1.4506 - accuracy: 0.3976\n",
            "Epoch 3/5\n",
            "54/54 [==============================] - 14s 251ms/step - loss: 1.3902 - accuracy: 0.4244\n",
            "Epoch 4/5\n",
            "54/54 [==============================] - 14s 251ms/step - loss: 1.3599 - accuracy: 0.4241\n",
            "Epoch 5/5\n",
            "54/54 [==============================] - 14s 251ms/step - loss: 1.3210 - accuracy: 0.4356\n"
          ],
          "name": "stdout"
        },
        {
          "output_type": "execute_result",
          "data": {
            "text/plain": [
              "<tensorflow.python.keras.callbacks.History at 0x7fb02b2550f0>"
            ]
          },
          "metadata": {
            "tags": []
          },
          "execution_count": 58
        }
      ]
    },
    {
      "cell_type": "markdown",
      "metadata": {
        "id": "LoxWasQKLwn5"
      },
      "source": [
        "#### Evaluate the model"
      ]
    },
    {
      "cell_type": "code",
      "metadata": {
        "id": "-85jqQXiLwn6",
        "outputId": "ecf39dfe-3a46-4f24-c7fe-efb6f10db0b6",
        "colab": {
          "base_uri": "https://localhost:8080/",
          "height": 106
        }
      },
      "source": [
        "# Evaluate the model\n",
        "\n",
        "model.evaluate_generator(val_generator, steps=val_steps)"
      ],
      "execution_count": 59,
      "outputs": [
        {
          "output_type": "stream",
          "text": [
            "WARNING:tensorflow:From <ipython-input-59-59c8ec21c885>:3: Model.evaluate_generator (from tensorflow.python.keras.engine.training) is deprecated and will be removed in a future version.\n",
            "Instructions for updating:\n",
            "Please use Model.evaluate, which supports generators.\n"
          ],
          "name": "stdout"
        },
        {
          "output_type": "execute_result",
          "data": {
            "text/plain": [
              "[1.3041774034500122, 0.453125]"
            ]
          },
          "metadata": {
            "tags": []
          },
          "execution_count": 59
        }
      ]
    },
    {
      "cell_type": "markdown",
      "metadata": {
        "id": "zS5yD7TaLwn7"
      },
      "source": [
        "#### Predict using the generator"
      ]
    },
    {
      "cell_type": "code",
      "metadata": {
        "id": "Rz3CsLtgLwn8",
        "outputId": "cf02052c-f85a-48e0-e25f-416ffc72e4eb",
        "colab": {
          "base_uri": "https://localhost:8080/",
          "height": 1000
        }
      },
      "source": [
        "# Predict labels with the model\n",
        "predictions = model.predict(val_generator, steps=1)\n",
        "print(np.round(predictions, 0))"
      ],
      "execution_count": 63,
      "outputs": [
        {
          "output_type": "stream",
          "text": [
            "[[0. 0. 0. 0. 0.]\n",
            " [0. 0. 0. 0. 0.]\n",
            " [0. 1. 0. 0. 0.]\n",
            " [0. 0. 0. 0. 0.]\n",
            " [0. 1. 0. 0. 0.]\n",
            " [0. 0. 0. 0. 0.]\n",
            " [0. 0. 0. 0. 0.]\n",
            " [0. 0. 0. 0. 0.]\n",
            " [0. 1. 0. 0. 0.]\n",
            " [0. 0. 0. 0. 0.]\n",
            " [0. 0. 0. 0. 0.]\n",
            " [0. 1. 0. 0. 0.]\n",
            " [0. 0. 0. 0. 0.]\n",
            " [0. 0. 0. 0. 0.]\n",
            " [0. 0. 0. 0. 0.]\n",
            " [0. 0. 0. 0. 0.]\n",
            " [0. 0. 0. 0. 0.]\n",
            " [0. 0. 0. 0. 0.]\n",
            " [0. 0. 0. 0. 0.]\n",
            " [0. 0. 0. 0. 0.]\n",
            " [0. 1. 0. 0. 0.]\n",
            " [0. 0. 0. 0. 0.]\n",
            " [0. 1. 0. 0. 0.]\n",
            " [0. 1. 0. 0. 0.]\n",
            " [0. 0. 0. 0. 0.]\n",
            " [0. 0. 0. 0. 1.]\n",
            " [0. 0. 0. 0. 0.]\n",
            " [0. 0. 0. 0. 0.]\n",
            " [0. 0. 0. 0. 1.]\n",
            " [0. 0. 0. 1. 0.]\n",
            " [0. 0. 0. 0. 1.]\n",
            " [0. 0. 0. 0. 0.]\n",
            " [0. 0. 0. 0. 0.]\n",
            " [0. 0. 0. 0. 0.]\n",
            " [0. 0. 0. 0. 0.]\n",
            " [0. 1. 0. 0. 0.]\n",
            " [0. 0. 0. 0. 0.]\n",
            " [0. 0. 0. 0. 0.]\n",
            " [0. 1. 0. 0. 0.]\n",
            " [0. 0. 0. 0. 0.]\n",
            " [0. 0. 0. 0. 0.]\n",
            " [0. 1. 0. 0. 0.]\n",
            " [0. 0. 0. 1. 0.]\n",
            " [0. 0. 0. 0. 0.]\n",
            " [0. 0. 0. 0. 0.]\n",
            " [0. 0. 0. 0. 0.]\n",
            " [0. 0. 0. 0. 0.]\n",
            " [0. 0. 0. 0. 0.]\n",
            " [0. 1. 0. 0. 0.]\n",
            " [0. 1. 0. 0. 0.]\n",
            " [0. 0. 0. 0. 0.]\n",
            " [0. 0. 0. 0. 0.]\n",
            " [0. 0. 0. 0. 0.]\n",
            " [0. 0. 0. 0. 0.]\n",
            " [0. 0. 0. 0. 0.]\n",
            " [0. 0. 0. 0. 0.]\n",
            " [0. 0. 0. 0. 0.]\n",
            " [0. 0. 0. 0. 0.]\n",
            " [0. 0. 0. 0. 0.]\n",
            " [0. 1. 0. 0. 0.]\n",
            " [0. 0. 0. 0. 0.]\n",
            " [0. 0. 0. 0. 0.]\n",
            " [0. 0. 0. 0. 0.]\n",
            " [0. 0. 0. 0. 0.]]\n"
          ],
          "name": "stdout"
        }
      ]
    },
    {
      "cell_type": "markdown",
      "metadata": {
        "id": "JW1KSTrfLwn_"
      },
      "source": [
        "***\n",
        "<a id=\"coding_tutorial_4\"></a>\n",
        "## The Dataset Class"
      ]
    },
    {
      "cell_type": "markdown",
      "metadata": {
        "id": "sB1fIrr8lmUb"
      },
      "source": [
        "#### Import the data\n",
        "\n",
        "The dataset required for this tutorial can be downloaded from the following link:\n",
        "\n",
        "https://drive.google.com/open?id=1BAjGPFlpqsDdWof50Ng3Fmju5O8F1_uZ\n",
        "\n",
        "You should store these files in Drive for use in this Colab notebook."
      ]
    },
    {
      "cell_type": "code",
      "metadata": {
        "id": "xfnXkSB3lmek"
      },
      "source": [
        "# Run this cell to connect to your Drive folder\n",
        "\n",
        "from google.colab import drive\n",
        "drive.mount('/content/gdrive')"
      ],
      "execution_count": null,
      "outputs": []
    },
    {
      "cell_type": "code",
      "metadata": {
        "id": "_xONz3oFLwn_"
      },
      "source": [
        "import matplotlib.pyplot as plt\n",
        "import numpy as np\n",
        "import os"
      ],
      "execution_count": null,
      "outputs": []
    },
    {
      "cell_type": "markdown",
      "metadata": {
        "id": "vqqV3Ox9LwoA"
      },
      "source": [
        "#### Create a simple dataset"
      ]
    },
    {
      "cell_type": "code",
      "metadata": {
        "id": "p7i5Nkm6LwoA"
      },
      "source": [
        "x = np.zeros((100,10,2,2))"
      ],
      "execution_count": null,
      "outputs": []
    },
    {
      "cell_type": "code",
      "metadata": {
        "id": "VRIbPGW0LwoC"
      },
      "source": [
        "# Create a dataset from the tensor x\n",
        "\n"
      ],
      "execution_count": null,
      "outputs": []
    },
    {
      "cell_type": "code",
      "metadata": {
        "id": "CPIBuRAPLwoE"
      },
      "source": [
        "# Inspect the Dataset object\n",
        "\n"
      ],
      "execution_count": null,
      "outputs": []
    },
    {
      "cell_type": "code",
      "metadata": {
        "id": "cwXTdMGYLwoF"
      },
      "source": [
        "x2 = [np.zeros((10,2,2)), np.zeros((5,2,2))]"
      ],
      "execution_count": null,
      "outputs": []
    },
    {
      "cell_type": "code",
      "metadata": {
        "id": "u33v-mOtLwoG"
      },
      "source": [
        "# Try creating a dataset from the tensor x2\n",
        "\n"
      ],
      "execution_count": null,
      "outputs": []
    },
    {
      "cell_type": "code",
      "metadata": {
        "id": "VlwcxydiLwoH"
      },
      "source": [
        "x2 = [np.zeros((10,1)), np.zeros((10,1)), np.zeros((10,1))]"
      ],
      "execution_count": null,
      "outputs": []
    },
    {
      "cell_type": "code",
      "metadata": {
        "id": "MWA_WwA9LwoI"
      },
      "source": [
        "# Create another dataset from the new x2 and inspect the Dataset object\n",
        "\n"
      ],
      "execution_count": null,
      "outputs": []
    },
    {
      "cell_type": "code",
      "metadata": {
        "id": "RaAx8T-8LwoK"
      },
      "source": [
        "# Print the element_spec\n",
        "\n",
        "print(dataset2.element_spec)"
      ],
      "execution_count": null,
      "outputs": []
    },
    {
      "cell_type": "markdown",
      "metadata": {
        "id": "5d8X74-yLwoL"
      },
      "source": [
        "#### Create a zipped dataset"
      ]
    },
    {
      "cell_type": "code",
      "metadata": {
        "id": "pll2VDVALwoM"
      },
      "source": [
        "# Combine the two datasets into one larger dataset\n",
        "\n"
      ],
      "execution_count": null,
      "outputs": []
    },
    {
      "cell_type": "code",
      "metadata": {
        "id": "YFMyovAFLwoO"
      },
      "source": [
        "# Print the element_spec\n",
        "\n",
        "print(dataset_zipped.element_spec)"
      ],
      "execution_count": null,
      "outputs": []
    },
    {
      "cell_type": "code",
      "metadata": {
        "id": "AKlzGVR-LwoQ"
      },
      "source": [
        "# Define a function to find the number of batches in a dataset\n",
        "\n",
        "def get_batches(dataset):\n",
        "    iter_dataset = iter(dataset)\n",
        "    i = 0\n",
        "    try:\n",
        "        while next(iter_dataset):\n",
        "            i = i+1\n",
        "    except:\n",
        "        return i"
      ],
      "execution_count": null,
      "outputs": []
    },
    {
      "cell_type": "code",
      "metadata": {
        "id": "7pN5h3VbLwoS"
      },
      "source": [
        "# Find the number of batches in the zipped Dataset\n",
        "\n",
        "get_batches(dataset_zipped)"
      ],
      "execution_count": null,
      "outputs": []
    },
    {
      "cell_type": "markdown",
      "metadata": {
        "id": "agL_w4bhLwoU"
      },
      "source": [
        "#### Create a dataset from numpy arrays"
      ]
    },
    {
      "cell_type": "code",
      "metadata": {
        "id": "u8BG27uVLwoU"
      },
      "source": [
        "# Load the MNIST dataset\n",
        "\n",
        "(train_features, train_labels), (test_features, test_labels) = tf.keras.datasets.mnist.load_data()\n",
        "\n",
        "print(type(train_features), type(train_labels))"
      ],
      "execution_count": null,
      "outputs": []
    },
    {
      "cell_type": "code",
      "metadata": {
        "id": "n9z_XKC5LwoX"
      },
      "source": [
        "# Create a Dataset from the MNIST data\n",
        "\n"
      ],
      "execution_count": null,
      "outputs": []
    },
    {
      "cell_type": "code",
      "metadata": {
        "id": "X2huRDyELwob"
      },
      "source": [
        "# Inspect the Dataset object\n",
        "\n",
        "print(mnist_dataset.element_spec)"
      ],
      "execution_count": null,
      "outputs": []
    },
    {
      "cell_type": "code",
      "metadata": {
        "id": "fYy7jUxxLwog"
      },
      "source": [
        "# Inspect the length of an element using the take method\n",
        "\n"
      ],
      "execution_count": null,
      "outputs": []
    },
    {
      "cell_type": "code",
      "metadata": {
        "id": "vmU3DT_0Lwok"
      },
      "source": [
        "# Examine the shapes of the data\n",
        "\n",
        "print(element[0].shape)\n",
        "print(element[1].shape)"
      ],
      "execution_count": null,
      "outputs": []
    },
    {
      "cell_type": "markdown",
      "metadata": {
        "id": "EgdUwwomLwom"
      },
      "source": [
        "#### Create a dataset from text data"
      ]
    },
    {
      "cell_type": "code",
      "metadata": {
        "id": "zc2ox0fXLwon"
      },
      "source": [
        "# Print the list of text files\n",
        "\n",
        "text_files = sorted([f.path for f in os.scandir('path/to/shakespeare')])\n",
        "\n",
        "print(text_files)"
      ],
      "execution_count": null,
      "outputs": []
    },
    {
      "cell_type": "code",
      "metadata": {
        "id": "K91kV97kLwoo"
      },
      "source": [
        "# Load the first file using python and print the first 5 lines.\n",
        "\n",
        "with open(text_files[0], 'r') as fil:\n",
        "    contents = [fil.readline() for i in range(5)]\n",
        "    for line in contents:\n",
        "        print(line)"
      ],
      "execution_count": null,
      "outputs": []
    },
    {
      "cell_type": "code",
      "metadata": {
        "id": "5MMqVhxNLwop"
      },
      "source": [
        "# Load the lines from the files into a dataset using TextLineDataset\n",
        "\n"
      ],
      "execution_count": null,
      "outputs": []
    },
    {
      "cell_type": "code",
      "metadata": {
        "id": "sEM2up5CLwoq"
      },
      "source": [
        "# Use the take method to get and print the first 5 lines of the dataset\n",
        "\n",
        "first_5_lines_dataset = iter(shakespeare_dataset.take(5))\n",
        "lines = [line for line in first_5_lines_dataset]\n",
        "for line in lines:\n",
        "    print(line)"
      ],
      "execution_count": null,
      "outputs": []
    },
    {
      "cell_type": "code",
      "metadata": {
        "id": "t06mXu1oLwor"
      },
      "source": [
        "# Compute the number of lines in the first file\n",
        "\n",
        "lines = []\n",
        "with open(text_files[0], 'r') as fil:\n",
        "    line = fil.readline()\n",
        "    while line:\n",
        "        lines.append(line)\n",
        "        line = fil.readline()\n",
        "    print(len(lines))"
      ],
      "execution_count": null,
      "outputs": []
    },
    {
      "cell_type": "code",
      "metadata": {
        "id": "GS3TysHqLwot"
      },
      "source": [
        "# Compute the number of lines in the shakespeare dataset we created\n",
        "\n",
        "shakespeare_dataset_iterator = iter(shakespeare_dataset)\n",
        "lines = [line for line in shakespeare_dataset_iterator]\n",
        "print(len(lines))"
      ],
      "execution_count": null,
      "outputs": []
    },
    {
      "cell_type": "markdown",
      "metadata": {
        "id": "FJWNhXxMLwov"
      },
      "source": [
        "#### Interleave lines from the text data files"
      ]
    },
    {
      "cell_type": "code",
      "metadata": {
        "scrolled": true,
        "id": "n7ukqFrcLwov"
      },
      "source": [
        "# Create a dataset of the text file strings\n",
        "\n",
        "text_files_dataset = tf.data.Dataset.from_tensor_slices(text_files)\n",
        "files = [file for file in text_files_dataset]\n",
        "for file in files:\n",
        "    print(file)"
      ],
      "execution_count": null,
      "outputs": []
    },
    {
      "cell_type": "code",
      "metadata": {
        "id": "UGgRFvR_Lwox"
      },
      "source": [
        "# Interleave the lines from the text files\n",
        "\n"
      ],
      "execution_count": null,
      "outputs": []
    },
    {
      "cell_type": "code",
      "metadata": {
        "id": "x88YAMsuLwoz"
      },
      "source": [
        "# Print the first 10 elements of the interleaved dataset\n",
        "\n",
        "lines = [line for line in iter(interleaved_shakespeare_dataset.take(10))]\n",
        "for line in lines:\n",
        "    print(line)"
      ],
      "execution_count": null,
      "outputs": []
    },
    {
      "cell_type": "markdown",
      "metadata": {
        "id": "3Px88RXmLwo0"
      },
      "source": [
        "***\n",
        "<a id=\"coding_tutorial_5\"></a>\n",
        "## Training with Datasets"
      ]
    },
    {
      "cell_type": "code",
      "metadata": {
        "id": "TfCscLFLLwo1"
      },
      "source": [
        "import matplotlib.pyplot as plt\n",
        "import numpy as np\n",
        "import os\n",
        "import pandas as pd"
      ],
      "execution_count": null,
      "outputs": []
    },
    {
      "cell_type": "markdown",
      "metadata": {
        "id": "hEq4s3oHLwo3"
      },
      "source": [
        "#### Load the UCI Bank Marketing Dataset"
      ]
    },
    {
      "cell_type": "markdown",
      "metadata": {
        "id": "NukSa_ESmgRg"
      },
      "source": [
        "#### Import the data\n",
        "\n",
        "The dataset required for this tutorial can be downloaded from the following link:\n",
        "\n",
        "https://drive.google.com/open?id=1cNtP4iDyGhF620ZbmJdmJWYQrRgJTCum\n",
        "\n",
        "You should store these files in Drive for use in this Colab notebook."
      ]
    },
    {
      "cell_type": "code",
      "metadata": {
        "id": "1TD43V9imgeD"
      },
      "source": [
        "# Run this cell to connect to your Drive folder\n",
        "\n",
        "from google.colab import drive\n",
        "drive.mount('/content/gdrive')"
      ],
      "execution_count": null,
      "outputs": []
    },
    {
      "cell_type": "code",
      "metadata": {
        "id": "8mWVTUMGLwo4"
      },
      "source": [
        "# Load the CSV file into a pandas DataFrame\n",
        "\n",
        "bank_dataframe = pd.read_csv('path/to/bank/bank-full.csv', delimiter=';')"
      ],
      "execution_count": null,
      "outputs": []
    },
    {
      "cell_type": "code",
      "metadata": {
        "scrolled": true,
        "id": "yhXvshyRLwo6"
      },
      "source": [
        "# Show the head of the DataFrame\n",
        "\n",
        "bank_dataframe.head()"
      ],
      "execution_count": null,
      "outputs": []
    },
    {
      "cell_type": "code",
      "metadata": {
        "id": "wTEQWdkfLwo9"
      },
      "source": [
        "# Print the shape of the DataFrame\n",
        "\n",
        "print(bank_dataframe.shape)"
      ],
      "execution_count": null,
      "outputs": []
    },
    {
      "cell_type": "code",
      "metadata": {
        "id": "M8ORhBIMLwo_"
      },
      "source": [
        "# Select features from the DataFrame\n",
        "\n",
        "features = ['age', 'job', 'marital', 'education', 'default', 'balance', 'housing',\n",
        "            'loan', 'contact', 'campaign', 'pdays', 'poutcome']\n",
        "labels = ['y']\n",
        "\n",
        "bank_dataframe = bank_dataframe.filter(features + labels)"
      ],
      "execution_count": null,
      "outputs": []
    },
    {
      "cell_type": "code",
      "metadata": {
        "scrolled": true,
        "id": "OvhQZha0LwpA"
      },
      "source": [
        "# Show the head of the DataFrame\n",
        "\n",
        "bank_dataframe.head()"
      ],
      "execution_count": null,
      "outputs": []
    },
    {
      "cell_type": "markdown",
      "metadata": {
        "id": "WDGZ4VF-LwpC"
      },
      "source": [
        "#### Preprocess the data"
      ]
    },
    {
      "cell_type": "code",
      "metadata": {
        "id": "l5OJBhpHLwpC"
      },
      "source": [
        "# Convert the categorical features in the DataFrame to one-hot encodings\n",
        "\n",
        "from sklearn.preprocessing import LabelBinarizer\n",
        "\n",
        "encoder = LabelBinarizer()\n",
        "categorical_features = ['default', 'housing', 'job', 'loan', 'education', 'contact', 'poutcome']\n",
        "\n",
        "for feature in categorical_features:\n",
        "    bank_dataframe[feature] = tuple(encoder.fit_transform(bank_dataframe[feature]))"
      ],
      "execution_count": null,
      "outputs": []
    },
    {
      "cell_type": "code",
      "metadata": {
        "scrolled": true,
        "id": "_H29rfTRLwpD"
      },
      "source": [
        "# Show the head of the DataFrame\n",
        "\n",
        "bank_dataframe.head()"
      ],
      "execution_count": null,
      "outputs": []
    },
    {
      "cell_type": "code",
      "metadata": {
        "id": "HzA8Yfl7LwpE"
      },
      "source": [
        "# Shuffle the DataFrame\n",
        "\n",
        "bank_dataframe = bank_dataframe.sample(frac=1).reset_index(drop=True)"
      ],
      "execution_count": null,
      "outputs": []
    },
    {
      "cell_type": "markdown",
      "metadata": {
        "id": "PDCxC62VLwpF"
      },
      "source": [
        "#### Create the Dataset object"
      ]
    },
    {
      "cell_type": "code",
      "metadata": {
        "id": "58t232NWLwpF"
      },
      "source": [
        "# Convert the DataFrame to a Dataset\n",
        "\n"
      ],
      "execution_count": null,
      "outputs": []
    },
    {
      "cell_type": "code",
      "metadata": {
        "id": "wIam8gBSLwpH"
      },
      "source": [
        "# Inspect the Dataset object\n",
        "\n"
      ],
      "execution_count": null,
      "outputs": []
    },
    {
      "cell_type": "markdown",
      "metadata": {
        "id": "B0IxwSLpLwpN"
      },
      "source": [
        "#### Filter the Dataset"
      ]
    },
    {
      "cell_type": "code",
      "metadata": {
        "id": "s0m_HNo6LwpO"
      },
      "source": [
        "# First check that there are records in the dataset for non-married individuals\n",
        "\n",
        "def check_divorced():\n",
        "    bank_dataset_iterable = iter(bank_dataset)\n",
        "    for x in bank_dataset_iterable:\n",
        "        if x['marital'] != 'divorced':\n",
        "            print('Found a person with marital status: {}'.format(x['marital']))\n",
        "            return\n",
        "    print('No non-divorced people were found!')\n",
        "\n",
        "check_divorced()"
      ],
      "execution_count": null,
      "outputs": []
    },
    {
      "cell_type": "code",
      "metadata": {
        "id": "1dpKPS8vLwpP"
      },
      "source": [
        "# Filter the Dataset to retain only entries with a 'divorced' marital status\n",
        "\n",
        "bank_dataset = bank_dataset.filter(lambda x : tf.equal(x['marital'], tf.constant([b'divorced']))[0] )"
      ],
      "execution_count": null,
      "outputs": []
    },
    {
      "cell_type": "code",
      "metadata": {
        "id": "xDqnULCjLwpR"
      },
      "source": [
        "# Check the records in the dataset again\n",
        "\n",
        "check_divorced()"
      ],
      "execution_count": null,
      "outputs": []
    },
    {
      "cell_type": "markdown",
      "metadata": {
        "id": "8Ljy2Ro9LwpS"
      },
      "source": [
        "#### Map a function over the dataset"
      ]
    },
    {
      "cell_type": "code",
      "metadata": {
        "id": "qakJuUiNLwpS"
      },
      "source": [
        "# Convert the label ('y') to an integer instead of 'yes' or 'no'\n",
        "\n"
      ],
      "execution_count": null,
      "outputs": []
    },
    {
      "cell_type": "code",
      "metadata": {
        "id": "W1YcLNq7LwpT"
      },
      "source": [
        "# Inspect the Dataset object\n",
        "\n",
        "bank_dataset.element_spec"
      ],
      "execution_count": null,
      "outputs": []
    },
    {
      "cell_type": "code",
      "metadata": {
        "id": "6bSkBnzlLwpV"
      },
      "source": [
        "# Remove the 'marital' column\n",
        "\n"
      ],
      "execution_count": null,
      "outputs": []
    },
    {
      "cell_type": "code",
      "metadata": {
        "id": "_lK3OmJ4LwpW"
      },
      "source": [
        "# Inspect the Dataset object\n",
        "\n",
        "bank_dataset.element_spec"
      ],
      "execution_count": null,
      "outputs": []
    },
    {
      "cell_type": "markdown",
      "metadata": {
        "id": "5z_etyCZLwpZ"
      },
      "source": [
        "#### Create input and output data tuples"
      ]
    },
    {
      "cell_type": "code",
      "metadata": {
        "id": "6PStTjmKLwpZ"
      },
      "source": [
        "# Create an input and output tuple for the dataset\n",
        "\n",
        "def map_feature_label(x):\n",
        "    features = [[x['age']], [x['balance']], [x['campaign']], x['contact'], x['default'],\n",
        "                x['education'], x['housing'], x['job'], x['loan'], [x['pdays']], x['poutcome']]\n",
        "    return (tf.concat(features, axis=0), x['y'])"
      ],
      "execution_count": null,
      "outputs": []
    },
    {
      "cell_type": "code",
      "metadata": {
        "scrolled": true,
        "id": "pKehf3i-Lwpc"
      },
      "source": [
        "# Map this function over the dataset\n",
        "\n"
      ],
      "execution_count": null,
      "outputs": []
    },
    {
      "cell_type": "code",
      "metadata": {
        "id": "yet0K8SjLwpd"
      },
      "source": [
        "# Inspect the Dataset object\n",
        "\n"
      ],
      "execution_count": null,
      "outputs": []
    },
    {
      "cell_type": "markdown",
      "metadata": {
        "id": "H7rFrXSkLwpf"
      },
      "source": [
        "#### Split into a training and a validation set"
      ]
    },
    {
      "cell_type": "code",
      "metadata": {
        "id": "u16htz4qLwpg"
      },
      "source": [
        "# Determine the length of the Dataset\n",
        "\n",
        "dataset_length = 0\n",
        "for _ in bank_dataset:\n",
        "    dataset_length += 1\n",
        "print(dataset_length)"
      ],
      "execution_count": null,
      "outputs": []
    },
    {
      "cell_type": "code",
      "metadata": {
        "id": "AFo3xsyQLwph"
      },
      "source": [
        "# Make training and validation sets from the dataset\n",
        "\n"
      ],
      "execution_count": null,
      "outputs": []
    },
    {
      "cell_type": "markdown",
      "metadata": {
        "id": "waZerBcdLwpj"
      },
      "source": [
        "#### Build a classification model\n",
        "\n",
        "Now let's build a model to classify the features."
      ]
    },
    {
      "cell_type": "code",
      "metadata": {
        "id": "AMFNjG7PLwpj"
      },
      "source": [
        "# Build a classifier model\n",
        "\n",
        "from tensorflow.keras.layers import Dense, Input, Concatenate, BatchNormalization\n",
        "from tensorflow.keras import Sequential\n",
        "\n",
        "model = Sequential()\n",
        "model.add(Input(shape=(30,)))\n",
        "model.add(BatchNormalization(momentum=0.8))\n",
        "model.add(Dense(400, activation='relu'))\n",
        "model.add(BatchNormalization(momentum=0.8))\n",
        "model.add(Dense(400, activation='relu'))\n",
        "model.add(BatchNormalization(momentum=0.8))\n",
        "model.add(Dense(1, activation='sigmoid'))"
      ],
      "execution_count": null,
      "outputs": []
    },
    {
      "cell_type": "code",
      "metadata": {
        "id": "4Ov8EijXLwpk"
      },
      "source": [
        "# Compile the model\n",
        "\n",
        "optimizer = tf.keras.optimizers.Adam(1e-4)\n",
        "model.compile(optimizer=optimizer, loss='binary_crossentropy', metrics=['accuracy'])"
      ],
      "execution_count": null,
      "outputs": []
    },
    {
      "cell_type": "code",
      "metadata": {
        "scrolled": true,
        "id": "VtbN-lMbLwpl"
      },
      "source": [
        "# Show the model summary\n",
        "\n",
        "model.summary()"
      ],
      "execution_count": null,
      "outputs": []
    },
    {
      "cell_type": "markdown",
      "metadata": {
        "id": "6euItJ8bLwpn"
      },
      "source": [
        "#### Train the model"
      ]
    },
    {
      "cell_type": "code",
      "metadata": {
        "id": "O0-gu3b4Lwpo"
      },
      "source": [
        "# Create batched training and validation datasets\n",
        "\n"
      ],
      "execution_count": null,
      "outputs": []
    },
    {
      "cell_type": "code",
      "metadata": {
        "id": "tSc4I6lhLwpp"
      },
      "source": [
        "# Shuffle the training data\n",
        "\n"
      ],
      "execution_count": null,
      "outputs": []
    },
    {
      "cell_type": "code",
      "metadata": {
        "scrolled": true,
        "id": "BBzjSPpLLwpr"
      },
      "source": [
        "# Fit the model\n",
        "\n"
      ],
      "execution_count": null,
      "outputs": []
    },
    {
      "cell_type": "code",
      "metadata": {
        "id": "OKUL_6uvLwps"
      },
      "source": [
        "# Plot the training and validation accuracy\n",
        "\n"
      ],
      "execution_count": null,
      "outputs": []
    }
  ]
}