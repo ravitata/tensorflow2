{
  "nbformat": 4,
  "nbformat_minor": 0,
  "metadata": {
    "colab": {
      "name": "Untitled0.ipynb",
      "provenance": [],
      "authorship_tag": "ABX9TyPoAvzETPWBbPbe28WPGdO+",
      "include_colab_link": true
    },
    "kernelspec": {
      "name": "python3",
      "display_name": "Python 3"
    },
    "accelerator": "GPU"
  },
  "cells": [
    {
      "cell_type": "markdown",
      "metadata": {
        "id": "view-in-github",
        "colab_type": "text"
      },
      "source": [
        "<a href=\"https://colab.research.google.com/github/ravitata/tensorflow2/blob/master/tf-data-learn.ipynb\" target=\"_parent\"><img src=\"https://colab.research.google.com/assets/colab-badge.svg\" alt=\"Open In Colab\"/></a>"
      ]
    },
    {
      "cell_type": "code",
      "metadata": {
        "id": "UCxPIznN4vtK",
        "outputId": "d36d2c6f-c007-4a71-ba1d-ed8f08748242",
        "colab": {
          "base_uri": "https://localhost:8080/"
        }
      },
      "source": [
        "import tensorflow as tf\n",
        "print (tf.__version__)"
      ],
      "execution_count": 1,
      "outputs": [
        {
          "output_type": "stream",
          "text": [
            "2.3.0\n"
          ],
          "name": "stdout"
        }
      ]
    },
    {
      "cell_type": "code",
      "metadata": {
        "id": "edEfXBDC45XL",
        "outputId": "6bb1c416-a245-4868-bd7a-cf0d3051bfc9",
        "colab": {
          "base_uri": "https://localhost:8080/"
        }
      },
      "source": [
        "#output is scalar\n",
        "dataset = tf.data.Dataset.from_tensor_slices([1,2,3,4,5]) # 1D\n",
        "print(dataset)"
      ],
      "execution_count": null,
      "outputs": [
        {
          "output_type": "stream",
          "text": [
            "<TensorSliceDataset shapes: (), types: tf.int32>\n"
          ],
          "name": "stdout"
        }
      ]
    },
    {
      "cell_type": "code",
      "metadata": {
        "id": "vLfwEbEC65Fd",
        "outputId": "a1340a8d-2086-4ce6-9aac-cdd695faf7a6",
        "colab": {
          "base_uri": "https://localhost:8080/"
        }
      },
      "source": [
        "#output is 1D tensor\n",
        "dataset = tf.data.Dataset.from_tensor_slices([[1,2],[3,4],[5, 6]]) # 2D 3*2\n",
        "print(dataset)\n",
        "print(\"\")\n",
        "print(list(dataset.as_numpy_iterator()))\n",
        "print(\"\")\n",
        "for ele in dataset:\n",
        "  print(ele)\n",
        "  print(ele.numpy())"
      ],
      "execution_count": null,
      "outputs": [
        {
          "output_type": "stream",
          "text": [
            "<TensorSliceDataset shapes: (2,), types: tf.int32>\n",
            "\n",
            "[array([1, 2], dtype=int32), array([3, 4], dtype=int32), array([5, 6], dtype=int32)]\n",
            "\n",
            "tf.Tensor([1 2], shape=(2,), dtype=int32)\n",
            "[1 2]\n",
            "tf.Tensor([3 4], shape=(2,), dtype=int32)\n",
            "[3 4]\n",
            "tf.Tensor([5 6], shape=(2,), dtype=int32)\n",
            "[5 6]\n"
          ],
          "name": "stdout"
        }
      ]
    },
    {
      "cell_type": "code",
      "metadata": {
        "id": "yZwsRoN08wgI",
        "outputId": "c35fe3b1-d7ca-424d-c42a-4c9b4779263d",
        "colab": {
          "base_uri": "https://localhost:8080/"
        }
      },
      "source": [
        "dataset = tf.data.Dataset.from_tensor_slices(tf.random.normal([3, 2])) #1D tensor\n",
        "print(dataset)\n",
        "print(\"\")\n",
        "print(dataset.element_spec)\n",
        "print(\"\")\n",
        "print(dataset.cardinality()) #Return number of elements"
      ],
      "execution_count": null,
      "outputs": [
        {
          "output_type": "stream",
          "text": [
            "<TensorSliceDataset shapes: (2,), types: tf.float32>\n",
            "\n",
            "TensorSpec(shape=(2,), dtype=tf.float32, name=None)\n",
            "\n",
            "tf.Tensor(3, shape=(), dtype=int64)\n"
          ],
          "name": "stdout"
        }
      ]
    },
    {
      "cell_type": "code",
      "metadata": {
        "id": "XXM-sS8DBOpW",
        "outputId": "88ed4137-4d88-4b11-b107-f26c070a3577",
        "colab": {
          "base_uri": "https://localhost:8080/"
        }
      },
      "source": [
        "dataset = tf.data.Dataset.from_tensor_slices(\n",
        "    (\n",
        "        [[1,2], [3,4], [5,6]],\n",
        "        ['A', 'B','C']\n",
        "    )\n",
        ")\n",
        "print(dataset.element_spec)\n",
        "print(\"\")\n",
        "\n",
        "for elem in dataset:\n",
        "  print(elem)\n",
        "print(\"\")\n",
        "\n",
        "for elem in dataset.take(2):\n",
        "  print(elem)"
      ],
      "execution_count": null,
      "outputs": [
        {
          "output_type": "stream",
          "text": [
            "(TensorSpec(shape=(2,), dtype=tf.int32, name=None), TensorSpec(shape=(), dtype=tf.string, name=None))\n",
            "\n",
            "(<tf.Tensor: shape=(2,), dtype=int32, numpy=array([1, 2], dtype=int32)>, <tf.Tensor: shape=(), dtype=string, numpy=b'A'>)\n",
            "(<tf.Tensor: shape=(2,), dtype=int32, numpy=array([3, 4], dtype=int32)>, <tf.Tensor: shape=(), dtype=string, numpy=b'B'>)\n",
            "(<tf.Tensor: shape=(2,), dtype=int32, numpy=array([5, 6], dtype=int32)>, <tf.Tensor: shape=(), dtype=string, numpy=b'C'>)\n",
            "\n",
            "(<tf.Tensor: shape=(2,), dtype=int32, numpy=array([1, 2], dtype=int32)>, <tf.Tensor: shape=(), dtype=string, numpy=b'A'>)\n",
            "(<tf.Tensor: shape=(2,), dtype=int32, numpy=array([3, 4], dtype=int32)>, <tf.Tensor: shape=(), dtype=string, numpy=b'B'>)\n"
          ],
          "name": "stdout"
        }
      ]
    },
    {
      "cell_type": "code",
      "metadata": {
        "id": "fvDxyBP1CTCH",
        "outputId": "b1d6a5a8-9dcd-4f0b-ef5a-7d74298fe4cd",
        "colab": {
          "base_uri": "https://localhost:8080/"
        }
      },
      "source": [
        "from tensorflow.keras.datasets import cifar10\n",
        "\n",
        "(x_train, y_train), (x_test, y_test) = cifar10.load_data()\n",
        "\n",
        "num_classes = 10 \n",
        "y_train = tf.keras.utils.to_categorical(y_train, num_classes = num_classes)\n",
        "y_test = tf.keras.utils.to_categorical(y_test, num_classes = num_classes )\n",
        "\n",
        "dataset = tf.data.Dataset.from_tensor_slices((x_train, y_train))\n",
        "print(dataset.element_spec)\n",
        "print('')\n",
        "print(dataset.cardinality())\n"
      ],
      "execution_count": null,
      "outputs": [
        {
          "output_type": "stream",
          "text": [
            "(TensorSpec(shape=(32, 32, 3), dtype=tf.uint8, name=None), TensorSpec(shape=(10,), dtype=tf.float32, name=None))\n",
            "\n",
            "tf.Tensor(50000, shape=(), dtype=int64)\n"
          ],
          "name": "stdout"
        }
      ]
    },
    {
      "cell_type": "code",
      "metadata": {
        "id": "h6ptpP_wjZXV"
      },
      "source": [
        "dataset = dataset.batch(64)"
      ],
      "execution_count": null,
      "outputs": []
    },
    {
      "cell_type": "code",
      "metadata": {
        "id": "ceL2GDUBEqHH"
      },
      "source": [
        "import numpy as np\n",
        "from tensorflow.keras.models import Sequential, Model\n",
        "from tensorflow.keras.layers import Input, Conv2D, Dense, Flatten\n",
        "from tensorflow.keras.optimizers import RMSprop\n",
        "from tensorflow.keras.preprocessing.image import ImageDataGenerator"
      ],
      "execution_count": null,
      "outputs": []
    },
    {
      "cell_type": "code",
      "metadata": {
        "id": "2ObZwP5KR3Oj"
      },
      "source": [
        "inputs = Input((32,32,3))\n",
        "h = Conv2D(8, kernel_size=3,activation='relu')(inputs)\n",
        "h = Conv2D(18, kernel_size=3, activation='relu')(h)\n",
        "h = Flatten()(h)\n",
        "outputs = Dense(10, activation='softmax')(h)\n",
        "model = Model(inputs=inputs, outputs=outputs)\n",
        "\n",
        "rmsprop = RMSprop(learning_rate=1e-3)\n",
        "model.compile(optimizer=rmsprop, loss='categorical_crossentropy', metrics=['accuracy'])"
      ],
      "execution_count": null,
      "outputs": []
    },
    {
      "cell_type": "code",
      "metadata": {
        "id": "PAvfQdprSDWz",
        "outputId": "7fcc2356-c0b7-4d8e-8940-d5c5a6ca629e",
        "colab": {
          "base_uri": "https://localhost:8080/"
        }
      },
      "source": [
        "model.summary()"
      ],
      "execution_count": null,
      "outputs": [
        {
          "output_type": "stream",
          "text": [
            "Model: \"functional_1\"\n",
            "_________________________________________________________________\n",
            "Layer (type)                 Output Shape              Param #   \n",
            "=================================================================\n",
            "input_1 (InputLayer)         [(None, 32, 32, 3)]       0         \n",
            "_________________________________________________________________\n",
            "conv2d (Conv2D)              (None, 30, 30, 8)         224       \n",
            "_________________________________________________________________\n",
            "conv2d_1 (Conv2D)            (None, 28, 28, 18)        1314      \n",
            "_________________________________________________________________\n",
            "flatten (Flatten)            (None, 14112)             0         \n",
            "_________________________________________________________________\n",
            "dense (Dense)                (None, 10)                141130    \n",
            "=================================================================\n",
            "Total params: 142,668\n",
            "Trainable params: 142,668\n",
            "Non-trainable params: 0\n",
            "_________________________________________________________________\n"
          ],
          "name": "stdout"
        }
      ]
    },
    {
      "cell_type": "code",
      "metadata": {
        "id": "NLczV215b81Z",
        "outputId": "0589f8bb-d792-41da-f4a7-179aa8feb745",
        "colab": {
          "base_uri": "https://localhost:8080/"
        }
      },
      "source": [
        "print(x_train.shape)\n",
        "print(y_train.shape)"
      ],
      "execution_count": null,
      "outputs": [
        {
          "output_type": "stream",
          "text": [
            "(50000, 32, 32, 3)\n",
            "(50000, 10)\n"
          ],
          "name": "stdout"
        }
      ]
    },
    {
      "cell_type": "code",
      "metadata": {
        "id": "8cXhw2VhLwn1",
        "outputId": "2dc705e3-30e2-4b2b-9e87-779dc2410416",
        "colab": {
          "base_uri": "https://localhost:8080/"
        }
      },
      "source": [
        "# Calculate the training generator and test generator steps per epoch\n",
        "batch_size=64\n",
        "train_steps_per_epoch = x_train.shape[0] // batch_size\n",
        "#val_steps = val_generator.n // val_generator.batch_size\n",
        "#print(train_steps_per_epoch, val_steps)\n",
        "print(train_steps_per_epoch)"
      ],
      "execution_count": null,
      "outputs": [
        {
          "output_type": "stream",
          "text": [
            "781\n"
          ],
          "name": "stdout"
        }
      ]
    },
    {
      "cell_type": "code",
      "metadata": {
        "id": "7rI9RzCjgSBg",
        "outputId": "a011e39b-6f0c-493f-f372-f850f0baf140",
        "colab": {
          "base_uri": "https://localhost:8080/"
        }
      },
      "source": [
        "print(dataset.element_spec)"
      ],
      "execution_count": null,
      "outputs": [
        {
          "output_type": "stream",
          "text": [
            "(TensorSpec(shape=(None, 32, 32, 3), dtype=tf.uint8, name=None), TensorSpec(shape=(None, 10), dtype=tf.float32, name=None))\n"
          ],
          "name": "stdout"
        }
      ]
    },
    {
      "cell_type": "code",
      "metadata": {
        "id": "jVs8zvQyVKH7",
        "outputId": "382b7545-00c0-4fac-97b3-eb3cea8dbacf",
        "colab": {
          "base_uri": "https://localhost:8080/"
        }
      },
      "source": [
        "model.fit(dataset, epochs=1, steps_per_epoch = train_steps_per_epoch)"
      ],
      "execution_count": null,
      "outputs": [
        {
          "output_type": "stream",
          "text": [
            "781/781 [==============================] - 3s 3ms/step - loss: 4.5506 - accuracy: 0.2520\n"
          ],
          "name": "stdout"
        },
        {
          "output_type": "execute_result",
          "data": {
            "text/plain": [
              "<tensorflow.python.keras.callbacks.History at 0x7f247aacada0>"
            ]
          },
          "metadata": {
            "tags": []
          },
          "execution_count": 15
        }
      ]
    },
    {
      "cell_type": "code",
      "metadata": {
        "id": "ixVihWXhWCCS"
      },
      "source": [
        "img_datagen = ImageDataGenerator(rotation_range=20, width_shift_range=0.2)\n",
        "img_datagen.fit(x_train)\n",
        "\n",
        "dataset_1 = tf.data.Dataset.from_generator(img_datagen.flow,\n",
        "                                         args = [x_train, y_train, batch_size],\n",
        "                                         output_types = (tf.float32, tf.int32),\n",
        "                                         output_shapes = ([batch_size, 32,32,3], [batch_size,10])\n",
        "                                         ) \n",
        "                                    "
      ],
      "execution_count": null,
      "outputs": []
    },
    {
      "cell_type": "code",
      "metadata": {
        "id": "hhMZvYmuhGIt",
        "outputId": "ce527422-7e43-4bb2-9685-26e8670aa13c",
        "colab": {
          "base_uri": "https://localhost:8080/"
        }
      },
      "source": [
        "model.fit(dataset_1, epochs=1, steps_per_epoch = train_steps_per_epoch)"
      ],
      "execution_count": null,
      "outputs": [
        {
          "output_type": "stream",
          "text": [
            "781/781 [==============================] - 23s 29ms/step - loss: 1.9874 - accuracy: 0.2989\n"
          ],
          "name": "stdout"
        },
        {
          "output_type": "execute_result",
          "data": {
            "text/plain": [
              "<tensorflow.python.keras.callbacks.History at 0x7f247aaca9e8>"
            ]
          },
          "metadata": {
            "tags": []
          },
          "execution_count": 17
        }
      ]
    },
    {
      "cell_type": "markdown",
      "metadata": {
        "id": "XDqSWEJqHyjX"
      },
      "source": [
        "## Using map and filter functions"
      ]
    },
    {
      "cell_type": "code",
      "metadata": {
        "id": "7jx5J-0q7jQz",
        "outputId": "23102513-6f28-4fb7-bf80-b6822b6a4fc2",
        "colab": {
          "base_uri": "https://localhost:8080/"
        }
      },
      "source": [
        "from tensorflow.keras.datasets import cifar10\n",
        "\n",
        "(x_train, y_train), (x_test, y_test) = cifar10.load_data()\n",
        "#dataset = tf.data.Dataset.from_tensor_slices((x_train, y_train))\n",
        "\n",
        "num_classes = 10 \n",
        "y_train = tf.keras.utils.to_categorical(y_train, num_classes = num_classes)\n",
        "y_test = tf.keras.utils.to_categorical(y_test, num_classes = num_classes )\n",
        "\n",
        "dataset = tf.data.Dataset.from_tensor_slices((x_train, y_train))\n",
        "\n",
        "print(dataset.element_spec)\n",
        "print('')\n",
        "print(dataset.cardinality())"
      ],
      "execution_count": 28,
      "outputs": [
        {
          "output_type": "stream",
          "text": [
            "(TensorSpec(shape=(32, 32, 3), dtype=tf.uint8, name=None), TensorSpec(shape=(10,), dtype=tf.float32, name=None))\n",
            "\n",
            "tf.Tensor(50000, shape=(), dtype=int64)\n"
          ],
          "name": "stdout"
        }
      ]
    },
    {
      "cell_type": "code",
      "metadata": {
        "id": "QZAM5uLXVWJQ",
        "outputId": "b4a1ce4e-c143-437d-cdb3-676cee07e330",
        "colab": {
          "base_uri": "https://localhost:8080/"
        }
      },
      "source": [
        "dataset=dataset.batch(16)\n",
        "print(dataset.element_spec)"
      ],
      "execution_count": 29,
      "outputs": [
        {
          "output_type": "stream",
          "text": [
            "(TensorSpec(shape=(None, 32, 32, 3), dtype=tf.uint8, name=None), TensorSpec(shape=(None, 10), dtype=tf.float32, name=None))\n"
          ],
          "name": "stdout"
        }
      ]
    },
    {
      "cell_type": "code",
      "metadata": {
        "id": "tDfH5nriLvA6"
      },
      "source": [
        "def rescale(image, label):\n",
        "  return image/255, label\n",
        "\n",
        "def label_filter(image, label):\n",
        "  x = tf.constant([0,0,0,0,0,0,0,0,0,1], dtype=tf.float32) #ignores label=9\n",
        "  return (tf.reduce_all(tf.equal(label, x)))\n"
      ],
      "execution_count": 30,
      "outputs": []
    },
    {
      "cell_type": "code",
      "metadata": {
        "id": "0bJ84-zCIA6d",
        "outputId": "6baaf843-2a5a-4579-b3d4-b4bf3b521b60",
        "colab": {
          "base_uri": "https://localhost:8080/"
        }
      },
      "source": [
        "dataset=dataset.map(rescale)\n",
        "#dataset = dataset.filter(label_filter)\n",
        "\n",
        "#dataset = dataset.shuffle(256)\n",
        "#dataset = dataset.batch(64,drop_remainder=True )\n",
        "#dataset = dataset.repeat(5) #epochs\n",
        "\n",
        "print(dataset.element_spec)\n",
        "print('')\n",
        "print(dataset.cardinality())"
      ],
      "execution_count": 31,
      "outputs": [
        {
          "output_type": "stream",
          "text": [
            "(TensorSpec(shape=(None, 32, 32, 3), dtype=tf.float32, name=None), TensorSpec(shape=(None, 10), dtype=tf.float32, name=None))\n",
            "\n",
            "tf.Tensor(3125, shape=(), dtype=int64)\n"
          ],
          "name": "stdout"
        }
      ]
    },
    {
      "cell_type": "code",
      "metadata": {
        "id": "1fMGVfGSKPyw",
        "outputId": "554fee03-e88e-49e6-dc10-5b75e26c3ed6",
        "colab": {
          "base_uri": "https://localhost:8080/"
        }
      },
      "source": [
        "rec = 0\n",
        "for elem in dataset:\n",
        "  rec = rec + 1\n",
        "\n",
        "#This would give 3125 because the batch size is set to 16 above. 3125*16=50000!!\n",
        "print('Number of rows = ',rec)"
      ],
      "execution_count": 32,
      "outputs": [
        {
          "output_type": "stream",
          "text": [
            "Number of rows =  3125\n"
          ],
          "name": "stdout"
        }
      ]
    },
    {
      "cell_type": "code",
      "metadata": {
        "id": "w5MWRcZJbp6c",
        "outputId": "6001025a-fdf5-4812-b8da-02f1ae65c351",
        "colab": {
          "base_uri": "https://localhost:8080/"
        }
      },
      "source": [
        "print(tf.data.experimental.INFINITE_CARDINALITY)\n",
        "print(tf.data.experimental.UNKNOWN_CARDINALITY)"
      ],
      "execution_count": 33,
      "outputs": [
        {
          "output_type": "stream",
          "text": [
            "-1\n",
            "-2\n"
          ],
          "name": "stdout"
        }
      ]
    },
    {
      "cell_type": "code",
      "metadata": {
        "id": "4L9shBsGLWXP"
      },
      "source": [
        "import numpy as np\n",
        "from tensorflow.keras.models import Sequential, Model\n",
        "from tensorflow.keras.layers import Input, Conv2D, Dense, Flatten\n",
        "from tensorflow.keras.optimizers import RMSprop\n",
        "from tensorflow.keras.preprocessing.image import ImageDataGenerator"
      ],
      "execution_count": 34,
      "outputs": []
    },
    {
      "cell_type": "code",
      "metadata": {
        "id": "9WAOuL5PLYYH",
        "outputId": "87924dac-02ee-440d-d1e0-1f730ef26534",
        "colab": {
          "base_uri": "https://localhost:8080/"
        }
      },
      "source": [
        "inputs = Input((32,32,3))\n",
        "h = Conv2D(8, kernel_size=3,activation='relu')(inputs)\n",
        "h = Conv2D(18, kernel_size=3, activation='relu')(h)\n",
        "h = Flatten()(h)\n",
        "outputs = Dense(10, activation='softmax')(h)\n",
        "model = Model(inputs=inputs, outputs=outputs)\n",
        "\n",
        "rmsprop = RMSprop(learning_rate=1e-3)\n",
        "model.compile(optimizer=rmsprop, loss='categorical_crossentropy', metrics=['accuracy'])\n",
        "model.summary()"
      ],
      "execution_count": 35,
      "outputs": [
        {
          "output_type": "stream",
          "text": [
            "Model: \"functional_3\"\n",
            "_________________________________________________________________\n",
            "Layer (type)                 Output Shape              Param #   \n",
            "=================================================================\n",
            "input_2 (InputLayer)         [(None, 32, 32, 3)]       0         \n",
            "_________________________________________________________________\n",
            "conv2d_2 (Conv2D)            (None, 30, 30, 8)         224       \n",
            "_________________________________________________________________\n",
            "conv2d_3 (Conv2D)            (None, 28, 28, 18)        1314      \n",
            "_________________________________________________________________\n",
            "flatten_1 (Flatten)          (None, 14112)             0         \n",
            "_________________________________________________________________\n",
            "dense_1 (Dense)              (None, 10)                141130    \n",
            "=================================================================\n",
            "Total params: 142,668\n",
            "Trainable params: 142,668\n",
            "Non-trainable params: 0\n",
            "_________________________________________________________________\n"
          ],
          "name": "stdout"
        }
      ]
    },
    {
      "cell_type": "code",
      "metadata": {
        "id": "P7ivmABWIG1M",
        "outputId": "bfb353fc-40eb-47ff-ba15-b7ece9a66e41",
        "colab": {
          "base_uri": "https://localhost:8080/"
        }
      },
      "source": [
        "dataset.repeat(5)  #The repeat 5 is same as training the model for 5 epochs\n",
        "history = model.fit(dataset)"
      ],
      "execution_count": 36,
      "outputs": [
        {
          "output_type": "stream",
          "text": [
            "3125/3125 [==============================] - 10s 3ms/step - loss: 1.4791 - accuracy: 0.4783\n"
          ],
          "name": "stdout"
        }
      ]
    },
    {
      "cell_type": "code",
      "metadata": {
        "id": "64P80cdfJEln",
        "outputId": "393fdbed-bd75-45d5-f39d-c612f680ad9d",
        "colab": {
          "base_uri": "https://localhost:8080/"
        }
      },
      "source": [
        "#Training explictly a model passing epochs then it should be like below\n",
        "cnt = 0\n",
        "for elem in dataset:\n",
        "  cnt += 1\n",
        "\n",
        "#This would give 3125 because the batch size is set to 16 above. 3125*16=50000!!\n",
        "print('Number of rows = ', cnt)"
      ],
      "execution_count": 37,
      "outputs": [
        {
          "output_type": "stream",
          "text": [
            "Number of rows =  3125\n"
          ],
          "name": "stdout"
        }
      ]
    },
    {
      "cell_type": "code",
      "metadata": {
        "id": "kz5qwkPOV3B5",
        "outputId": "bd2c35c9-ebe8-4ee0-9c5e-b1e81cef7aff",
        "colab": {
          "base_uri": "https://localhost:8080/"
        }
      },
      "source": [
        "dataset = dataset.repeat() #This mean dataset repeats infinitely\n",
        "steps_per_epoch = cnt*16//5\n",
        "history = model.fit(dataset, steps_per_epoch=steps_per_epoch, epochs=5)\n"
      ],
      "execution_count": 39,
      "outputs": [
        {
          "output_type": "stream",
          "text": [
            "Epoch 1/5\n",
            "10000/10000 [==============================] - 31s 3ms/step - loss: 1.0989 - accuracy: 0.6249\n",
            "Epoch 2/5\n",
            "10000/10000 [==============================] - 31s 3ms/step - loss: 0.9018 - accuracy: 0.7026\n",
            "Epoch 3/5\n",
            "10000/10000 [==============================] - 29s 3ms/step - loss: 0.7847 - accuracy: 0.7484\n",
            "Epoch 4/5\n",
            "10000/10000 [==============================] - 30s 3ms/step - loss: 0.6991 - accuracy: 0.7828\n",
            "Epoch 5/5\n",
            "10000/10000 [==============================] - 31s 3ms/step - loss: 0.6283 - accuracy: 0.8090\n"
          ],
          "name": "stdout"
        }
      ]
    },
    {
      "cell_type": "code",
      "metadata": {
        "id": "aJ1LWeHOnZwg"
      },
      "source": [
        ""
      ],
      "execution_count": null,
      "outputs": []
    }
  ]
}