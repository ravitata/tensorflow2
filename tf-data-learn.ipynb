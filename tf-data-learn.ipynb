{
  "nbformat": 4,
  "nbformat_minor": 0,
  "metadata": {
    "colab": {
      "name": "Untitled0.ipynb",
      "provenance": [],
      "authorship_tag": "ABX9TyNV3tHAhmGLjcuF2psuNYQj",
      "include_colab_link": true
    },
    "kernelspec": {
      "name": "python3",
      "display_name": "Python 3"
    }
  },
  "cells": [
    {
      "cell_type": "markdown",
      "metadata": {
        "id": "view-in-github",
        "colab_type": "text"
      },
      "source": [
        "<a href=\"https://colab.research.google.com/github/ravitata/tensorflow2/blob/master/tf-data-learn.ipynb\" target=\"_parent\"><img src=\"https://colab.research.google.com/assets/colab-badge.svg\" alt=\"Open In Colab\"/></a>"
      ]
    },
    {
      "cell_type": "code",
      "metadata": {
        "id": "UCxPIznN4vtK",
        "outputId": "54797d5d-6f58-4cda-d412-c700c9a75cc3",
        "colab": {
          "base_uri": "https://localhost:8080/"
        }
      },
      "source": [
        "import tensorflow as tf\n",
        "print (tf.__version__)"
      ],
      "execution_count": 1,
      "outputs": [
        {
          "output_type": "stream",
          "text": [
            "2.3.0\n"
          ],
          "name": "stdout"
        }
      ]
    },
    {
      "cell_type": "code",
      "metadata": {
        "id": "edEfXBDC45XL",
        "outputId": "23130b88-cb2a-4d7d-cfc4-661787f131df",
        "colab": {
          "base_uri": "https://localhost:8080/"
        }
      },
      "source": [
        "#output is scalar\n",
        "dataset = tf.data.Dataset.from_tensor_slices([1,2,3,4,5]) # 1D\n",
        "print(dataset)"
      ],
      "execution_count": 2,
      "outputs": [
        {
          "output_type": "stream",
          "text": [
            "<TensorSliceDataset shapes: (), types: tf.int32>\n"
          ],
          "name": "stdout"
        }
      ]
    },
    {
      "cell_type": "code",
      "metadata": {
        "id": "vLfwEbEC65Fd",
        "outputId": "4e39f21e-251f-4cd4-d820-4ae87db2911d",
        "colab": {
          "base_uri": "https://localhost:8080/"
        }
      },
      "source": [
        "#output is 1D tensor\n",
        "dataset = tf.data.Dataset.from_tensor_slices([[1,2],[3,4],[5, 6]]) # 2D 3*2\n",
        "print(dataset)\n",
        "print(\"\")\n",
        "print(list(dataset.as_numpy_iterator()))\n",
        "print(\"\")\n",
        "for ele in dataset:\n",
        "  print(ele)\n",
        "  print(ele.numpy())"
      ],
      "execution_count": 3,
      "outputs": [
        {
          "output_type": "stream",
          "text": [
            "<TensorSliceDataset shapes: (2,), types: tf.int32>\n",
            "\n",
            "[array([1, 2], dtype=int32), array([3, 4], dtype=int32), array([5, 6], dtype=int32)]\n",
            "\n",
            "tf.Tensor([1 2], shape=(2,), dtype=int32)\n",
            "[1 2]\n",
            "tf.Tensor([3 4], shape=(2,), dtype=int32)\n",
            "[3 4]\n",
            "tf.Tensor([5 6], shape=(2,), dtype=int32)\n",
            "[5 6]\n"
          ],
          "name": "stdout"
        }
      ]
    },
    {
      "cell_type": "code",
      "metadata": {
        "id": "yZwsRoN08wgI",
        "outputId": "0ea60874-c4a7-4725-b43d-f806957ae35b",
        "colab": {
          "base_uri": "https://localhost:8080/"
        }
      },
      "source": [
        "dataset = tf.data.Dataset.from_tensor_slices(tf.random.normal([3, 2])) #1D tensor\n",
        "print(dataset)\n",
        "print(\"\")\n",
        "print(dataset.element_spec)\n",
        "print(\"\")\n",
        "print(dataset.cardinality()) #Return number of elements"
      ],
      "execution_count": 4,
      "outputs": [
        {
          "output_type": "stream",
          "text": [
            "<TensorSliceDataset shapes: (2,), types: tf.float32>\n",
            "\n",
            "TensorSpec(shape=(2,), dtype=tf.float32, name=None)\n",
            "\n",
            "tf.Tensor(3, shape=(), dtype=int64)\n"
          ],
          "name": "stdout"
        }
      ]
    },
    {
      "cell_type": "code",
      "metadata": {
        "id": "XXM-sS8DBOpW",
        "outputId": "224f24cb-dc7b-4274-a206-230b81e058f9",
        "colab": {
          "base_uri": "https://localhost:8080/"
        }
      },
      "source": [
        "dataset = tf.data.Dataset.from_tensor_slices(\n",
        "    (\n",
        "        [[1,2], [3,4], [5,6]],\n",
        "        ['A', 'B','C']\n",
        "    )\n",
        ")\n",
        "print(dataset.element_spec)\n",
        "print(\"\")\n",
        "\n",
        "for elem in dataset:\n",
        "  print(elem)\n",
        "print(\"\")\n",
        "\n",
        "for elem in dataset.take(2):\n",
        "  print(elem)"
      ],
      "execution_count": 10,
      "outputs": [
        {
          "output_type": "stream",
          "text": [
            "(TensorSpec(shape=(2,), dtype=tf.int32, name=None), TensorSpec(shape=(), dtype=tf.string, name=None))\n",
            "\n",
            "(<tf.Tensor: shape=(2,), dtype=int32, numpy=array([1, 2], dtype=int32)>, <tf.Tensor: shape=(), dtype=string, numpy=b'A'>)\n",
            "(<tf.Tensor: shape=(2,), dtype=int32, numpy=array([3, 4], dtype=int32)>, <tf.Tensor: shape=(), dtype=string, numpy=b'B'>)\n",
            "(<tf.Tensor: shape=(2,), dtype=int32, numpy=array([5, 6], dtype=int32)>, <tf.Tensor: shape=(), dtype=string, numpy=b'C'>)\n",
            "\n",
            "(<tf.Tensor: shape=(2,), dtype=int32, numpy=array([1, 2], dtype=int32)>, <tf.Tensor: shape=(), dtype=string, numpy=b'A'>)\n",
            "(<tf.Tensor: shape=(2,), dtype=int32, numpy=array([3, 4], dtype=int32)>, <tf.Tensor: shape=(), dtype=string, numpy=b'B'>)\n"
          ],
          "name": "stdout"
        }
      ]
    },
    {
      "cell_type": "code",
      "metadata": {
        "id": "fvDxyBP1CTCH",
        "outputId": "ff9fe5bb-078f-4a99-8f14-9a703b50fc58",
        "colab": {
          "base_uri": "https://localhost:8080/"
        }
      },
      "source": [
        "from tensorflow.keras.datasets import cifar10\n",
        "\n",
        "(x_train, y_train), (x_test, y_test) = cifar10.load_data()\n",
        "\n",
        "dataset = tf.data.Dataset.from_tensor_slices((x_train, y_train))\n",
        "print(dataset.element_spec)\n",
        "print('')\n",
        "print(dataset.cardinality())\n"
      ],
      "execution_count": 40,
      "outputs": [
        {
          "output_type": "stream",
          "text": [
            "(TensorSpec(shape=(32, 32, 3), dtype=tf.uint8, name=None), TensorSpec(shape=(1,), dtype=tf.uint8, name=None))\n",
            "\n",
            "tf.Tensor(50000, shape=(), dtype=int64)\n"
          ],
          "name": "stdout"
        }
      ]
    },
    {
      "cell_type": "code",
      "metadata": {
        "id": "ceL2GDUBEqHH"
      },
      "source": [
        "import numpy as np\n",
        "from tensorflow.keras.models import Sequential, Model\n",
        "from tensorflow.keras.layers import Input, Conv2D, Dense, Flatten\n",
        "from tensorflow.keras.optimizers import RMSprop\n",
        "from tensorflow.keras.preprocessing.image import ImageDataGenerator"
      ],
      "execution_count": 59,
      "outputs": []
    },
    {
      "cell_type": "code",
      "metadata": {
        "id": "2ObZwP5KR3Oj"
      },
      "source": [
        "inputs = Input((32,32,3))\n",
        "h = Conv2D(8, kernel_size=3,activation='relu')(inputs)\n",
        "h = Conv2D(18, kernel_size=3, activation='relu')(h)\n",
        "h = Flatten()(h)\n",
        "outputs = Dense(1, activation='sigmoid')(h)\n",
        "model = Model(inputs=inputs, outputs=outputs)\n",
        "\n",
        "rmsprop = RMSprop(learning_rate=1e-3)\n",
        "model.compile(optimizer=rmsprop, loss='categorical_crossentropy', metrics=['accuracy'])"
      ],
      "execution_count": 49,
      "outputs": []
    },
    {
      "cell_type": "code",
      "metadata": {
        "id": "PAvfQdprSDWz",
        "outputId": "ffb990a0-0657-4d6a-e637-6311591a1331",
        "colab": {
          "base_uri": "https://localhost:8080/"
        }
      },
      "source": [
        "model.summary()"
      ],
      "execution_count": 50,
      "outputs": [
        {
          "output_type": "stream",
          "text": [
            "Model: \"functional_6\"\n",
            "_________________________________________________________________\n",
            "Layer (type)                 Output Shape              Param #   \n",
            "=================================================================\n",
            "input_5 (InputLayer)         [(None, 32, 32, 3)]       0         \n",
            "_________________________________________________________________\n",
            "conv2d_7 (Conv2D)            (None, 30, 30, 8)         224       \n",
            "_________________________________________________________________\n",
            "conv2d_8 (Conv2D)            (None, 28, 28, 18)        1314      \n",
            "_________________________________________________________________\n",
            "flatten_3 (Flatten)          (None, 14112)             0         \n",
            "_________________________________________________________________\n",
            "dense_3 (Dense)              (None, 1)                 14113     \n",
            "=================================================================\n",
            "Total params: 15,651\n",
            "Trainable params: 15,651\n",
            "Non-trainable params: 0\n",
            "_________________________________________________________________\n"
          ],
          "name": "stdout"
        }
      ]
    },
    {
      "cell_type": "code",
      "metadata": {
        "id": "ixVihWXhWCCS",
        "outputId": "b5d7bb61-50e9-450a-dda6-63fcce8fc9d4",
        "colab": {
          "base_uri": "https://localhost:8080/",
          "height": 53
        }
      },
      "source": [
        "'''\n",
        "img_datagen = ImageDataGenerator()\n",
        "dataset = tf.data.Dataset.from_generator(img_datagen.flow,\n",
        "                                         args = [x_train, y_train],\n",
        "                                         output_types = (tf.float32, tf.int32),\n",
        "                                         output_shapes = ([32,32,32,3], [32,10])\n",
        "                                         ) \n",
        "'''                                    "
      ],
      "execution_count": 51,
      "outputs": [
        {
          "output_type": "execute_result",
          "data": {
            "application/vnd.google.colaboratory.intrinsic+json": {
              "type": "string"
            },
            "text/plain": [
              "'\\nimg_datagen = ImageDataGenerator()\\ndataset = tf.data.Dataset.from_generator(img_datagen.flow,\\n                                         args = [x_train, y_train],\\n                                         output_types = (tf.float32, tf.int32),\\n                                         output_shapes = ([32,32,32,3], [32,10])\\n                                         ) \\n'"
            ]
          },
          "metadata": {
            "tags": []
          },
          "execution_count": 51
        }
      ]
    },
    {
      "cell_type": "code",
      "metadata": {
        "id": "NLczV215b81Z",
        "outputId": "853c65f2-3293-4493-a94c-7e88b7b5e0d8",
        "colab": {
          "base_uri": "https://localhost:8080/"
        }
      },
      "source": [
        "print(x_train.shape)\n",
        "print(y_train.shape)"
      ],
      "execution_count": 52,
      "outputs": [
        {
          "output_type": "stream",
          "text": [
            "(50000, 32, 32, 3)\n",
            "(50000, 1)\n"
          ],
          "name": "stdout"
        }
      ]
    },
    {
      "cell_type": "code",
      "metadata": {
        "id": "8cXhw2VhLwn1",
        "outputId": "d2bacbfe-a034-43ee-f32c-cfb899238c6c",
        "colab": {
          "base_uri": "https://localhost:8080/"
        }
      },
      "source": [
        "# Calculate the training generator and test generator steps per epoch\n",
        "batch_size=32\n",
        "train_steps_per_epoch = x_train.shape[0] // batch_size\n",
        "#val_steps = val_generator.n // val_generator.batch_size\n",
        "#print(train_steps_per_epoch, val_steps)\n",
        "print(train_steps_per_epoch)"
      ],
      "execution_count": 53,
      "outputs": [
        {
          "output_type": "stream",
          "text": [
            "1562\n"
          ],
          "name": "stdout"
        }
      ]
    },
    {
      "cell_type": "code",
      "metadata": {
        "id": "7rI9RzCjgSBg",
        "outputId": "c644b0f8-6cf8-4a9c-d0fa-a995a0fc14b8",
        "colab": {
          "base_uri": "https://localhost:8080/"
        }
      },
      "source": [
        "print(dataset.element_spec)"
      ],
      "execution_count": 55,
      "outputs": [
        {
          "output_type": "stream",
          "text": [
            "(TensorSpec(shape=(32, 32, 3), dtype=tf.uint8, name=None), TensorSpec(shape=(1,), dtype=tf.uint8, name=None))\n"
          ],
          "name": "stdout"
        }
      ]
    },
    {
      "cell_type": "code",
      "metadata": {
        "id": "h6ptpP_wjZXV"
      },
      "source": [
        "dataset = dataset.batch(64)"
      ],
      "execution_count": 64,
      "outputs": []
    },
    {
      "cell_type": "code",
      "metadata": {
        "id": "jVs8zvQyVKH7",
        "outputId": "df673254-d527-4a01-e955-6e1a59fc58c4",
        "colab": {
          "base_uri": "https://localhost:8080/"
        }
      },
      "source": [
        "\n",
        "model.fit(dataset, epochs=1, steps_per_epoch = train_steps_per_epoch)"
      ],
      "execution_count": 65,
      "outputs": [
        {
          "output_type": "stream",
          "text": [
            "WARNING:tensorflow:Model was constructed with shape (None, 32) for input Tensor(\"input_8:0\", shape=(None, 32), dtype=float32), but it was called on an input with incompatible shape (None, None, 32).\n",
            "WARNING:tensorflow:Model was constructed with shape (None, 32) for input Tensor(\"input_8:0\", shape=(None, 32), dtype=float32), but it was called on an input with incompatible shape (None, None, 32).\n",
            "1562/1562 [==============================] - 6s 4ms/step - loss: 11.3882 - accuracy: 0.1161\n"
          ],
          "name": "stdout"
        },
        {
          "output_type": "execute_result",
          "data": {
            "text/plain": [
              "<tensorflow.python.keras.callbacks.History at 0x7f95e9768860>"
            ]
          },
          "metadata": {
            "tags": []
          },
          "execution_count": 65
        }
      ]
    },
    {
      "cell_type": "code",
      "metadata": {
        "id": "hhMZvYmuhGIt"
      },
      "source": [
        ""
      ],
      "execution_count": null,
      "outputs": []
    }
  ]
}