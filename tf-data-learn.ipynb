{
  "nbformat": 4,
  "nbformat_minor": 0,
  "metadata": {
    "colab": {
      "name": "Untitled0.ipynb",
      "provenance": [],
      "authorship_tag": "ABX9TyMd/6YlFc99IiWQCJsnqYNN",
      "include_colab_link": true
    },
    "kernelspec": {
      "name": "python3",
      "display_name": "Python 3"
    }
  },
  "cells": [
    {
      "cell_type": "markdown",
      "metadata": {
        "id": "view-in-github",
        "colab_type": "text"
      },
      "source": [
        "<a href=\"https://colab.research.google.com/github/ravitata/tensorflow2/blob/master/tf-data-learn.ipynb\" target=\"_parent\"><img src=\"https://colab.research.google.com/assets/colab-badge.svg\" alt=\"Open In Colab\"/></a>"
      ]
    },
    {
      "cell_type": "code",
      "metadata": {
        "id": "UCxPIznN4vtK",
        "outputId": "e806b48e-a531-4460-a04c-735262c1cac5",
        "colab": {
          "base_uri": "https://localhost:8080/"
        }
      },
      "source": [
        "import tensorflow as tf\n",
        "print (tf.__version__)"
      ],
      "execution_count": 1,
      "outputs": [
        {
          "output_type": "stream",
          "text": [
            "2.3.0\n"
          ],
          "name": "stdout"
        }
      ]
    },
    {
      "cell_type": "code",
      "metadata": {
        "id": "edEfXBDC45XL",
        "outputId": "46c4292a-8b97-4092-fba1-c2fbdc855328",
        "colab": {
          "base_uri": "https://localhost:8080/"
        }
      },
      "source": [
        "#output is scalar\n",
        "dataset = tf.data.Dataset.from_tensor_slices([1,2,3,4,5]) # 1D\n",
        "print(dataset)"
      ],
      "execution_count": 4,
      "outputs": [
        {
          "output_type": "stream",
          "text": [
            "<TensorSliceDataset shapes: (), types: tf.int32>\n"
          ],
          "name": "stdout"
        }
      ]
    },
    {
      "cell_type": "code",
      "metadata": {
        "id": "vLfwEbEC65Fd",
        "outputId": "fe1f2880-07f0-44ca-99a5-b0412067c6e3",
        "colab": {
          "base_uri": "https://localhost:8080/"
        }
      },
      "source": [
        "#output is 1D tensor\n",
        "dataset = tf.data.Dataset.from_tensor_slices([[1,2],[3,4],[5, 6]]) # 2D 3*2\n",
        "print(dataset)\n",
        "print(\"\")\n",
        "print(list(dataset.as_numpy_iterator()))\n",
        "print(\"\")\n",
        "for ele in dataset:\n",
        "  print(ele)\n",
        "  print(ele.numpy())"
      ],
      "execution_count": 10,
      "outputs": [
        {
          "output_type": "stream",
          "text": [
            "<TensorSliceDataset shapes: (2,), types: tf.int32>\n",
            "\n",
            "[array([1, 2], dtype=int32), array([3, 4], dtype=int32), array([5, 6], dtype=int32)]\n",
            "\n",
            "tf.Tensor([1 2], shape=(2,), dtype=int32)\n",
            "[1 2]\n",
            "tf.Tensor([3 4], shape=(2,), dtype=int32)\n",
            "[3 4]\n",
            "tf.Tensor([5 6], shape=(2,), dtype=int32)\n",
            "[5 6]\n"
          ],
          "name": "stdout"
        }
      ]
    },
    {
      "cell_type": "code",
      "metadata": {
        "id": "yZwsRoN08wgI",
        "outputId": "6731e41b-77ae-486f-c030-c57fd14afed5",
        "colab": {
          "base_uri": "https://localhost:8080/"
        }
      },
      "source": [
        "dataset = tf.data.Dataset.from_tensor_slices(tf.random.normal([3, 2])) #1D tensor\n",
        "print(dataset)\n",
        "print(\"\")\n",
        "print(dataset.element_spec)\n",
        "print(\"\")\n",
        "print(dataset.cardinality()) #Return number of elements"
      ],
      "execution_count": 18,
      "outputs": [
        {
          "output_type": "stream",
          "text": [
            "<TensorSliceDataset shapes: (2,), types: tf.float32>\n",
            "\n",
            "TensorSpec(shape=(2,), dtype=tf.float32, name=None)\n",
            "\n",
            "tf.Tensor(3, shape=(), dtype=int64)\n"
          ],
          "name": "stdout"
        }
      ]
    },
    {
      "cell_type": "code",
      "metadata": {
        "id": "XXM-sS8DBOpW",
        "outputId": "9c862dac-784a-4d7d-8950-5158de0175a3",
        "colab": {
          "base_uri": "https://localhost:8080/"
        }
      },
      "source": [
        "dataset = tf.data.Dataset.from_tensor_slices(\n",
        "    (\n",
        "        [[1,2], [3,4], [5,6]],\n",
        "        ['A', 'B','C']\n",
        "    )\n",
        ")\n",
        "print(dataset.element_spec)\n",
        "print(\"\")\n",
        "\n",
        "for elem in dataset:\n",
        "  print(elem)\n",
        "print(\"\")\n",
        "\n",
        "for elem in dataset.take(2):\n",
        "  print(elem)"
      ],
      "execution_count": 27,
      "outputs": [
        {
          "output_type": "stream",
          "text": [
            "(TensorSpec(shape=(2,), dtype=tf.int32, name=None), TensorSpec(shape=(), dtype=tf.string, name=None))\n",
            "\n",
            "(<tf.Tensor: shape=(2,), dtype=int32, numpy=array([1, 2], dtype=int32)>, <tf.Tensor: shape=(), dtype=string, numpy=b'A'>)\n",
            "(<tf.Tensor: shape=(2,), dtype=int32, numpy=array([3, 4], dtype=int32)>, <tf.Tensor: shape=(), dtype=string, numpy=b'B'>)\n",
            "(<tf.Tensor: shape=(2,), dtype=int32, numpy=array([5, 6], dtype=int32)>, <tf.Tensor: shape=(), dtype=string, numpy=b'C'>)\n",
            "\n",
            "(<tf.Tensor: shape=(2,), dtype=int32, numpy=array([1, 2], dtype=int32)>, <tf.Tensor: shape=(), dtype=string, numpy=b'A'>)\n",
            "(<tf.Tensor: shape=(2,), dtype=int32, numpy=array([3, 4], dtype=int32)>, <tf.Tensor: shape=(), dtype=string, numpy=b'B'>)\n"
          ],
          "name": "stdout"
        }
      ]
    },
    {
      "cell_type": "code",
      "metadata": {
        "id": "fvDxyBP1CTCH",
        "outputId": "3388e050-928b-4482-e05b-105116861572",
        "colab": {
          "base_uri": "https://localhost:8080/"
        }
      },
      "source": [
        "from tensorflow.keras.datasets import cifar10\n",
        "\n",
        "(x_train, y_train), (x_test, y_test) = cifar10.load_data()\n"
      ],
      "execution_count": 28,
      "outputs": [
        {
          "output_type": "stream",
          "text": [
            "Downloading data from https://www.cs.toronto.edu/~kriz/cifar-10-python.tar.gz\n",
            "170500096/170498071 [==============================] - 11s 0us/step\n"
          ],
          "name": "stdout"
        }
      ]
    },
    {
      "cell_type": "code",
      "metadata": {
        "id": "ceL2GDUBEqHH"
      },
      "source": [
        ""
      ],
      "execution_count": null,
      "outputs": []
    }
  ]
}