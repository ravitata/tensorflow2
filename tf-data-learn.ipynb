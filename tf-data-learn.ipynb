{
  "nbformat": 4,
  "nbformat_minor": 0,
  "metadata": {
    "colab": {
      "name": "Untitled0.ipynb",
      "provenance": [],
      "authorship_tag": "ABX9TyOU3KFmWgOq0C2UMAKE7UUB",
      "include_colab_link": true
    },
    "kernelspec": {
      "name": "python3",
      "display_name": "Python 3"
    },
    "accelerator": "GPU"
  },
  "cells": [
    {
      "cell_type": "markdown",
      "metadata": {
        "id": "view-in-github",
        "colab_type": "text"
      },
      "source": [
        "<a href=\"https://colab.research.google.com/github/ravitata/tensorflow2/blob/master/tf-data-learn.ipynb\" target=\"_parent\"><img src=\"https://colab.research.google.com/assets/colab-badge.svg\" alt=\"Open In Colab\"/></a>"
      ]
    },
    {
      "cell_type": "code",
      "metadata": {
        "id": "UCxPIznN4vtK",
        "outputId": "a5d4acc6-72bf-496b-c859-dd68a74f3864",
        "colab": {
          "base_uri": "https://localhost:8080/"
        }
      },
      "source": [
        "import tensorflow as tf\n",
        "print (tf.__version__)"
      ],
      "execution_count": 1,
      "outputs": [
        {
          "output_type": "stream",
          "text": [
            "2.3.0\n"
          ],
          "name": "stdout"
        }
      ]
    },
    {
      "cell_type": "code",
      "metadata": {
        "id": "edEfXBDC45XL",
        "outputId": "5c2f8a03-d901-4b97-f4f6-dc2ae75ee6cb",
        "colab": {
          "base_uri": "https://localhost:8080/"
        }
      },
      "source": [
        "#output is scalar\n",
        "dataset = tf.data.Dataset.from_tensor_slices([1,2,3,4,5]) # 1D\n",
        "print(dataset)"
      ],
      "execution_count": 2,
      "outputs": [
        {
          "output_type": "stream",
          "text": [
            "<TensorSliceDataset shapes: (), types: tf.int32>\n"
          ],
          "name": "stdout"
        }
      ]
    },
    {
      "cell_type": "code",
      "metadata": {
        "id": "vLfwEbEC65Fd",
        "outputId": "817f80a0-05da-40af-a9c0-a2cca87ee304",
        "colab": {
          "base_uri": "https://localhost:8080/"
        }
      },
      "source": [
        "#output is 1D tensor\n",
        "dataset = tf.data.Dataset.from_tensor_slices([[1,2],[3,4],[5, 6]]) # 2D 3*2\n",
        "print(dataset)\n",
        "print(\"\")\n",
        "print(list(dataset.as_numpy_iterator()))\n",
        "print(\"\")\n",
        "for ele in dataset:\n",
        "  print(ele)\n",
        "  print(ele.numpy())"
      ],
      "execution_count": 3,
      "outputs": [
        {
          "output_type": "stream",
          "text": [
            "<TensorSliceDataset shapes: (2,), types: tf.int32>\n",
            "\n",
            "[array([1, 2], dtype=int32), array([3, 4], dtype=int32), array([5, 6], dtype=int32)]\n",
            "\n",
            "tf.Tensor([1 2], shape=(2,), dtype=int32)\n",
            "[1 2]\n",
            "tf.Tensor([3 4], shape=(2,), dtype=int32)\n",
            "[3 4]\n",
            "tf.Tensor([5 6], shape=(2,), dtype=int32)\n",
            "[5 6]\n"
          ],
          "name": "stdout"
        }
      ]
    },
    {
      "cell_type": "code",
      "metadata": {
        "id": "yZwsRoN08wgI",
        "outputId": "164c44a5-95d6-42dd-ce67-b90469ed88f9",
        "colab": {
          "base_uri": "https://localhost:8080/"
        }
      },
      "source": [
        "dataset = tf.data.Dataset.from_tensor_slices(tf.random.normal([3, 2])) #1D tensor\n",
        "print(dataset)\n",
        "print(\"\")\n",
        "print(dataset.element_spec)\n",
        "print(\"\")\n",
        "print(dataset.cardinality()) #Return number of elements"
      ],
      "execution_count": 4,
      "outputs": [
        {
          "output_type": "stream",
          "text": [
            "<TensorSliceDataset shapes: (2,), types: tf.float32>\n",
            "\n",
            "TensorSpec(shape=(2,), dtype=tf.float32, name=None)\n",
            "\n",
            "tf.Tensor(3, shape=(), dtype=int64)\n"
          ],
          "name": "stdout"
        }
      ]
    },
    {
      "cell_type": "code",
      "metadata": {
        "id": "XXM-sS8DBOpW",
        "outputId": "1687544a-ccbf-466a-9888-bac0b7bf2fa1",
        "colab": {
          "base_uri": "https://localhost:8080/"
        }
      },
      "source": [
        "dataset = tf.data.Dataset.from_tensor_slices(\n",
        "    (\n",
        "        [[1,2], [3,4], [5,6]],\n",
        "        ['A', 'B','C']\n",
        "    )\n",
        ")\n",
        "print(dataset.element_spec)\n",
        "print(\"\")\n",
        "\n",
        "for elem in dataset:\n",
        "  print(elem)\n",
        "print(\"\")\n",
        "\n",
        "for elem in dataset.take(2):\n",
        "  print(elem)"
      ],
      "execution_count": 5,
      "outputs": [
        {
          "output_type": "stream",
          "text": [
            "(TensorSpec(shape=(2,), dtype=tf.int32, name=None), TensorSpec(shape=(), dtype=tf.string, name=None))\n",
            "\n",
            "(<tf.Tensor: shape=(2,), dtype=int32, numpy=array([1, 2], dtype=int32)>, <tf.Tensor: shape=(), dtype=string, numpy=b'A'>)\n",
            "(<tf.Tensor: shape=(2,), dtype=int32, numpy=array([3, 4], dtype=int32)>, <tf.Tensor: shape=(), dtype=string, numpy=b'B'>)\n",
            "(<tf.Tensor: shape=(2,), dtype=int32, numpy=array([5, 6], dtype=int32)>, <tf.Tensor: shape=(), dtype=string, numpy=b'C'>)\n",
            "\n",
            "(<tf.Tensor: shape=(2,), dtype=int32, numpy=array([1, 2], dtype=int32)>, <tf.Tensor: shape=(), dtype=string, numpy=b'A'>)\n",
            "(<tf.Tensor: shape=(2,), dtype=int32, numpy=array([3, 4], dtype=int32)>, <tf.Tensor: shape=(), dtype=string, numpy=b'B'>)\n"
          ],
          "name": "stdout"
        }
      ]
    },
    {
      "cell_type": "code",
      "metadata": {
        "id": "fvDxyBP1CTCH",
        "outputId": "d9920ce5-426f-430c-cae6-2c90f6dc05a4",
        "colab": {
          "base_uri": "https://localhost:8080/"
        }
      },
      "source": [
        "from tensorflow.keras.datasets import cifar10\n",
        "\n",
        "(x_train, y_train), (x_test, y_test) = cifar10.load_data()\n",
        "\n",
        "num_classes = 10 \n",
        "y_train = tf.keras.utils.to_categorical(y_train, num_classes = num_classes)\n",
        "y_test = tf.keras.utils.to_categorical(y_test, num_classes = num_classes )\n",
        "\n",
        "dataset = tf.data.Dataset.from_tensor_slices((x_train, y_train))\n",
        "print(dataset.element_spec)\n",
        "print('')\n",
        "print(dataset.cardinality())\n"
      ],
      "execution_count": 6,
      "outputs": [
        {
          "output_type": "stream",
          "text": [
            "Downloading data from https://www.cs.toronto.edu/~kriz/cifar-10-python.tar.gz\n",
            "170500096/170498071 [==============================] - 2s 0us/step\n",
            "(TensorSpec(shape=(32, 32, 3), dtype=tf.uint8, name=None), TensorSpec(shape=(10,), dtype=tf.float32, name=None))\n",
            "\n",
            "tf.Tensor(50000, shape=(), dtype=int64)\n"
          ],
          "name": "stdout"
        }
      ]
    },
    {
      "cell_type": "code",
      "metadata": {
        "id": "h6ptpP_wjZXV"
      },
      "source": [
        "dataset = dataset.batch(64)"
      ],
      "execution_count": 7,
      "outputs": []
    },
    {
      "cell_type": "code",
      "metadata": {
        "id": "ceL2GDUBEqHH"
      },
      "source": [
        "import numpy as np\n",
        "from tensorflow.keras.models import Sequential, Model\n",
        "from tensorflow.keras.layers import Input, Conv2D, Dense, Flatten\n",
        "from tensorflow.keras.optimizers import RMSprop\n",
        "from tensorflow.keras.preprocessing.image import ImageDataGenerator"
      ],
      "execution_count": 8,
      "outputs": []
    },
    {
      "cell_type": "code",
      "metadata": {
        "id": "2ObZwP5KR3Oj"
      },
      "source": [
        "inputs = Input((32,32,3))\n",
        "h = Conv2D(8, kernel_size=3,activation='relu')(inputs)\n",
        "h = Conv2D(18, kernel_size=3, activation='relu')(h)\n",
        "h = Flatten()(h)\n",
        "outputs = Dense(10, activation='softmax')(h)\n",
        "model = Model(inputs=inputs, outputs=outputs)\n",
        "\n",
        "rmsprop = RMSprop(learning_rate=1e-3)\n",
        "model.compile(optimizer=rmsprop, loss='categorical_crossentropy', metrics=['accuracy'])"
      ],
      "execution_count": 9,
      "outputs": []
    },
    {
      "cell_type": "code",
      "metadata": {
        "id": "PAvfQdprSDWz",
        "outputId": "33c0845b-9648-4106-fc2a-1b1dcb9fe7bf",
        "colab": {
          "base_uri": "https://localhost:8080/"
        }
      },
      "source": [
        "model.summary()"
      ],
      "execution_count": 10,
      "outputs": [
        {
          "output_type": "stream",
          "text": [
            "Model: \"functional_1\"\n",
            "_________________________________________________________________\n",
            "Layer (type)                 Output Shape              Param #   \n",
            "=================================================================\n",
            "input_1 (InputLayer)         [(None, 32, 32, 3)]       0         \n",
            "_________________________________________________________________\n",
            "conv2d (Conv2D)              (None, 30, 30, 8)         224       \n",
            "_________________________________________________________________\n",
            "conv2d_1 (Conv2D)            (None, 28, 28, 18)        1314      \n",
            "_________________________________________________________________\n",
            "flatten (Flatten)            (None, 14112)             0         \n",
            "_________________________________________________________________\n",
            "dense (Dense)                (None, 10)                141130    \n",
            "=================================================================\n",
            "Total params: 142,668\n",
            "Trainable params: 142,668\n",
            "Non-trainable params: 0\n",
            "_________________________________________________________________\n"
          ],
          "name": "stdout"
        }
      ]
    },
    {
      "cell_type": "code",
      "metadata": {
        "id": "NLczV215b81Z",
        "outputId": "aaeacda5-c894-4af4-96db-d27fcb3b80ce",
        "colab": {
          "base_uri": "https://localhost:8080/"
        }
      },
      "source": [
        "print(x_train.shape)\n",
        "print(y_train.shape)"
      ],
      "execution_count": 11,
      "outputs": [
        {
          "output_type": "stream",
          "text": [
            "(50000, 32, 32, 3)\n",
            "(50000, 10)\n"
          ],
          "name": "stdout"
        }
      ]
    },
    {
      "cell_type": "code",
      "metadata": {
        "id": "8cXhw2VhLwn1",
        "outputId": "f240bd14-993c-4da2-8677-443b8093b327",
        "colab": {
          "base_uri": "https://localhost:8080/"
        }
      },
      "source": [
        "# Calculate the training generator and test generator steps per epoch\n",
        "batch_size=64\n",
        "train_steps_per_epoch = x_train.shape[0] // batch_size\n",
        "#val_steps = val_generator.n // val_generator.batch_size\n",
        "#print(train_steps_per_epoch, val_steps)\n",
        "print(train_steps_per_epoch)"
      ],
      "execution_count": 12,
      "outputs": [
        {
          "output_type": "stream",
          "text": [
            "781\n"
          ],
          "name": "stdout"
        }
      ]
    },
    {
      "cell_type": "code",
      "metadata": {
        "id": "7rI9RzCjgSBg",
        "outputId": "3f76101a-0190-4601-8ff8-5a9c0be411cf",
        "colab": {
          "base_uri": "https://localhost:8080/"
        }
      },
      "source": [
        "print(dataset.element_spec)"
      ],
      "execution_count": 13,
      "outputs": [
        {
          "output_type": "stream",
          "text": [
            "(TensorSpec(shape=(None, 32, 32, 3), dtype=tf.uint8, name=None), TensorSpec(shape=(None, 10), dtype=tf.float32, name=None))\n"
          ],
          "name": "stdout"
        }
      ]
    },
    {
      "cell_type": "code",
      "metadata": {
        "id": "jVs8zvQyVKH7",
        "outputId": "8b1a1e27-760b-4e3e-ab12-f512c4eee20d",
        "colab": {
          "base_uri": "https://localhost:8080/"
        }
      },
      "source": [
        "model.fit(dataset, epochs=1, steps_per_epoch = train_steps_per_epoch)"
      ],
      "execution_count": 14,
      "outputs": [
        {
          "output_type": "stream",
          "text": [
            "781/781 [==============================] - 3s 4ms/step - loss: 6.3730 - accuracy: 0.3358\n"
          ],
          "name": "stdout"
        },
        {
          "output_type": "execute_result",
          "data": {
            "text/plain": [
              "<tensorflow.python.keras.callbacks.History at 0x7fd390bd5d68>"
            ]
          },
          "metadata": {
            "tags": []
          },
          "execution_count": 14
        }
      ]
    },
    {
      "cell_type": "code",
      "metadata": {
        "id": "ixVihWXhWCCS"
      },
      "source": [
        "img_datagen = ImageDataGenerator(rotation_range=20, width_shift_range=0.2)\n",
        "img_datagen.fit(x_train)\n",
        "\n",
        "dataset_1 = tf.data.Dataset.from_generator(img_datagen.flow,\n",
        "                                         args = [x_train, y_train, batch_size],\n",
        "                                         output_types = (tf.float32, tf.int32),\n",
        "                                         output_shapes = ([batch_size, 32,32,3], [batch_size,10])\n",
        "                                         ) \n",
        "                                    "
      ],
      "execution_count": 22,
      "outputs": []
    },
    {
      "cell_type": "code",
      "metadata": {
        "id": "hhMZvYmuhGIt",
        "outputId": "f173f3df-2d72-4d6c-e69b-6a563e70faad",
        "colab": {
          "base_uri": "https://localhost:8080/"
        }
      },
      "source": [
        "model.fit(dataset_1, epochs=1, steps_per_epoch = train_steps_per_epoch)"
      ],
      "execution_count": 21,
      "outputs": [
        {
          "output_type": "stream",
          "text": [
            "781/781 [==============================] - 23s 30ms/step - loss: 1.7262 - accuracy: 0.3971\n"
          ],
          "name": "stdout"
        },
        {
          "output_type": "execute_result",
          "data": {
            "text/plain": [
              "<tensorflow.python.keras.callbacks.History at 0x7fd2c6d9b358>"
            ]
          },
          "metadata": {
            "tags": []
          },
          "execution_count": 21
        }
      ]
    },
    {
      "cell_type": "code",
      "metadata": {
        "id": "7jx5J-0q7jQz"
      },
      "source": [
        ""
      ],
      "execution_count": null,
      "outputs": []
    }
  ]
}