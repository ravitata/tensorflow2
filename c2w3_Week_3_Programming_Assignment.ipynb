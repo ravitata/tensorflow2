{
  "nbformat": 4,
  "nbformat_minor": 0,
  "metadata": {
    "coursera": {
      "course_slug": "tensor-flow-2-2",
      "graded_item_id": "4eYSM",
      "launcher_item_id": "HEV6h"
    },
    "kernelspec": {
      "display_name": "Python 3",
      "language": "python",
      "name": "python3"
    },
    "language_info": {
      "codemirror_mode": {
        "name": "ipython",
        "version": 3
      },
      "file_extension": ".py",
      "mimetype": "text/x-python",
      "name": "python",
      "nbconvert_exporter": "python",
      "pygments_lexer": "ipython3",
      "version": "3.7.1"
    },
    "colab": {
      "name": "Week 3 Programming Assignment.ipynb",
      "provenance": [],
      "collapsed_sections": [
        "gWObVg6DRfSi",
        "iRCN70xkRfSt",
        "U-4W2iICRfS3",
        "YFTEK7hnRfTJ",
        "Rm8gNoNJRfTT",
        "FQ_mAEoPRfTX",
        "IKfaWcCCRfTf",
        "4PJ4cU0YRfTo",
        "upDpsmf9RfT2",
        "2msBeLSoRfT7",
        "7A0FOxOTRfUc"
      ],
      "toc_visible": true,
      "include_colab_link": true
    },
    "accelerator": "GPU"
  },
  "cells": [
    {
      "cell_type": "markdown",
      "metadata": {
        "id": "view-in-github",
        "colab_type": "text"
      },
      "source": [
        "<a href=\"https://colab.research.google.com/github/ravitata/tensorflow2/blob/master/c2w3_Week_3_Programming_Assignment.ipynb\" target=\"_parent\"><img src=\"https://colab.research.google.com/assets/colab-badge.svg\" alt=\"Open In Colab\"/></a>"
      ]
    },
    {
      "cell_type": "markdown",
      "metadata": {
        "id": "wJQu9UWtRfRx"
      },
      "source": [
        "# Programming Assignment"
      ]
    },
    {
      "cell_type": "markdown",
      "metadata": {
        "id": "pFRRArflRfR1"
      },
      "source": [
        "## Language model for the Shakespeare dataset"
      ]
    },
    {
      "cell_type": "markdown",
      "metadata": {
        "id": "iPU9O33bRfR3"
      },
      "source": [
        "### Instructions\n",
        "\n",
        "In this notebook, you will use the text preprocessing tools and RNN models to build a character-level language model. You will then train your model on the works of Shakespeare, and use the network to generate your own text.\n",
        "\n",
        "Some code cells are provided you in the notebook. You should avoid editing provided code, and make sure to execute the cells in order to avoid unexpected errors. Some cells begin with the line: \n",
        "\n",
        "`#### GRADED CELL ####`\n",
        "\n",
        "Don't move or edit this first line - this is what the automatic grader looks for to recognise graded cells. These cells require you to write your own code to complete them, and are automatically graded when you submit the notebook. Don't edit the function name or signature provided in these cells, otherwise the automatic grader might not function properly. Inside these graded cells, you can use any functions or classes that are imported below, but make sure you don't use any variables that are outside the scope of the function.\n",
        "\n",
        "### How to submit\n",
        "\n",
        "Complete all the tasks you are asked for in the worksheet. When you have finished and are happy with your code, press the **Submit Assignment** button at the top of this notebook.\n",
        "\n",
        "### Let's get started!\n",
        "\n",
        "We'll start running some imports, and loading the dataset. Do not edit the existing imports in the following cell. If you would like to make further Tensorflow imports, you should add them here."
      ]
    },
    {
      "cell_type": "code",
      "metadata": {
        "id": "2j_QtDXtRfR4"
      },
      "source": [
        "#### PACKAGE IMPORTS ####\n",
        "\n",
        "# Run this cell first to import all required packages. Do not make any imports elsewhere in the notebook\n",
        "\n",
        "import tensorflow as tf\n",
        "import numpy as np\n",
        "import json\n",
        "import matplotlib.pyplot as plt\n",
        "%matplotlib inline\n",
        "\n",
        "# If you would like to make further imports from tensorflow, add them here\n",
        "from tensorflow.keras.preprocessing.text import Tokenizer\n",
        "from tensorflow.keras.preprocessing.sequence import pad_sequences\n",
        "from tensorflow.keras.models import Sequential\n",
        "from tensorflow.keras.layers import GRU, Dense, Embedding\n"
      ],
      "execution_count": 1,
      "outputs": []
    },
    {
      "cell_type": "markdown",
      "metadata": {
        "id": "r3wpZrx7RfR-"
      },
      "source": [
        "#### The Shakespeare dataset\n",
        "\n",
        "In this assignment, you will use a subset of the [Shakespeare dataset](http://shakespeare.mit.edu). It consists of a single text file with several excerpts concatenated together. The data is in raw text form, and so far has not yet had any preprocessing. \n",
        "\n",
        "Your goal is to construct an unsupervised character-level sequence model that can generate text according to a distribution learned from the dataset."
      ]
    },
    {
      "cell_type": "markdown",
      "metadata": {
        "id": "2XZu3DSPRkE4"
      },
      "source": [
        "#### Import the data\n",
        "\n",
        "The dataset required for this project can be downloaded from the following link:\n",
        "\n",
        "https://drive.google.com/open?id=1pQI1ryDnuMKl5FtgBI9k9vXQ65S8xLv2\n",
        "\n",
        "You should store this file in Drive for use in this Colab notebook."
      ]
    },
    {
      "cell_type": "code",
      "metadata": {
        "id": "3fRagWNBR0-E",
        "colab": {
          "base_uri": "https://localhost:8080/"
        },
        "outputId": "ed513e56-7fba-466a-93b0-eb7c6724163b"
      },
      "source": [
        "# Run this cell to connect to your Drive folder\n",
        "\n",
        "from google.colab import drive\n",
        "drive.mount('/content/gdrive')"
      ],
      "execution_count": 2,
      "outputs": [
        {
          "output_type": "stream",
          "text": [
            "Mounted at /content/gdrive\n"
          ],
          "name": "stdout"
        }
      ]
    },
    {
      "cell_type": "markdown",
      "metadata": {
        "id": "ppOL7TDHRfSA"
      },
      "source": [
        "#### Load and inspect the dataset"
      ]
    },
    {
      "cell_type": "code",
      "metadata": {
        "id": "XXwzWcB-RfSD"
      },
      "source": [
        "# Load the text file into a string\n",
        "\n",
        "with open('/content/gdrive/MyDrive/mydata/shakespeare/Shakespeare.txt', 'r', encoding='utf-8') as file:\n",
        "    text = file.read()"
      ],
      "execution_count": 3,
      "outputs": []
    },
    {
      "cell_type": "code",
      "metadata": {
        "id": "YzHw4wbCRfSH"
      },
      "source": [
        "# Create a list of chunks of text\n",
        "\n",
        "text_chunks = text.split('.')"
      ],
      "execution_count": 4,
      "outputs": []
    },
    {
      "cell_type": "markdown",
      "metadata": {
        "id": "pik73Zq2RfSO"
      },
      "source": [
        "To give you a feel for what the text looks like, we will print a few chunks from the list."
      ]
    },
    {
      "cell_type": "code",
      "metadata": {
        "id": "CMZj2MIYRfSP",
        "colab": {
          "base_uri": "https://localhost:8080/"
        },
        "outputId": "57cec884-2d09-4a93-83d7-be0d6a96fc6d"
      },
      "source": [
        "# Display some randomly selected text samples\n",
        "\n",
        "num_samples = 5\n",
        "inx = np.random.choice(len(text_chunks), num_samples, replace=False)\n",
        "for chunk in np.array(text_chunks)[inx]:\n",
        "    print(chunk)"
      ],
      "execution_count": 5,
      "outputs": [
        {
          "output_type": "stream",
          "text": [
            "\n",
            "So shall you quietly enjoy your hope,\n",
            "And marry sweet Bianca with consent\n",
            "\n",
            "\n",
            "RIVERS:\n",
            "My Lord of Gloucester, in those busy days\n",
            "Which here you urge to prove us enemies,\n",
            "We follow'd then our lord, our lawful king:\n",
            "So should we you, if you should be our king\n",
            "\n",
            "\n",
            "HORTENSIA:\n",
            "From all such devils, good Lord deliver us!\n",
            "\n",
            "GREMIO:\n",
            "And me too, good Lord!\n",
            "\n",
            "TRANIO:\n",
            "Hush, master! here's some good pastime toward:\n",
            "That wench is stark mad or wonderful froward\n",
            "\n",
            "Hail, noble Marcius!\n",
            "\n",
            "MARCIUS:\n",
            "Thanks\n",
            "\n",
            "\n",
            "GRUMIO:\n",
            "What say you to a neat's foot?\n",
            "\n",
            "KATHARINA:\n",
            "'Tis passing good: I prithee let me have it\n"
          ],
          "name": "stdout"
        }
      ]
    },
    {
      "cell_type": "markdown",
      "metadata": {
        "id": "QSxfAsFARfSX"
      },
      "source": [
        "#### Create a character-level tokenizer"
      ]
    },
    {
      "cell_type": "markdown",
      "metadata": {
        "id": "SBukx3SDRfSY"
      },
      "source": [
        "You should now write a function that returns a `Tokenizer` object. The function takes a list of strings as an argument, and should create a `Tokenizer` according to the following specification:\n",
        "\n",
        "* The number of tokens should be unlimited (there should be as many as required by the dataset).\n",
        "* Tokens should be created at the character level (not at the word level, which is the default behaviour).\n",
        "* No characters should be filtered out or ignored.\n",
        "* The original capitalization should be retained (do not convert the text to lower case)\n",
        "\n",
        "The `Tokenizer` should be fit to the `list_of_strings` argument and returned by the function. \n",
        "\n",
        "**Hint:** you may need to refer to the [documentation](https://www.tensorflow.org/api_docs/python/tf/keras/preprocessing/text/Tokenizer) for the `Tokenizer`."
      ]
    },
    {
      "cell_type": "code",
      "metadata": {
        "id": "Q8s2aR4oRfSb"
      },
      "source": [
        "#### GRADED CELL ####\n",
        "\n",
        "# Complete the following function.\n",
        "# Make sure not to change the function name or arguments.\n",
        "\n",
        "def create_character_tokenizer(list_of_strings):\n",
        "    \"\"\"\n",
        "    This function takes a list of strings as its argument. It should create \n",
        "    and return a Tokenizer according to the above specifications. \n",
        "    \"\"\"\n",
        "    tokenizer = Tokenizer(char_level=True, lower=False)\n",
        "\n",
        "    tokenizer.fit_on_texts(list_of_strings)\n",
        "    return tokenizer\n",
        "    "
      ],
      "execution_count": 6,
      "outputs": []
    },
    {
      "cell_type": "code",
      "metadata": {
        "id": "aKZpIcn_RfSf"
      },
      "source": [
        "# Get the tokenizer\n",
        "\n",
        "tokenizer = create_character_tokenizer(text_chunks)"
      ],
      "execution_count": 7,
      "outputs": []
    },
    {
      "cell_type": "code",
      "metadata": {
        "colab": {
          "base_uri": "https://localhost:8080/"
        },
        "id": "4FD317fym_cX",
        "outputId": "1e674d0c-b994-474c-9c18-dd9d45ad796f"
      },
      "source": [
        "tokenizer_config = tokenizer.get_config()\n",
        "print(tokenizer_config.keys())\n",
        "\n",
        "print(tokenizer_config['word_index'])\n",
        "print(tokenizer_config['word_counts'])"
      ],
      "execution_count": 8,
      "outputs": [
        {
          "output_type": "stream",
          "text": [
            "dict_keys(['num_words', 'filters', 'lower', 'split', 'char_level', 'oov_token', 'document_count', 'word_counts', 'word_docs', 'index_docs', 'index_word', 'word_index'])\n",
            "{\" \": 1, \"e\": 2, \"t\": 3, \"o\": 4, \"a\": 5, \"h\": 6, \"s\": 7, \"r\": 8, \"n\": 9, \"i\": 10, \"\\n\": 11, \"l\": 12, \"d\": 13, \"u\": 14, \"m\": 15, \"y\": 16, \",\": 17, \"w\": 18, \"f\": 19, \"c\": 20, \"g\": 21, \"I\": 22, \"b\": 23, \"p\": 24, \":\": 25, \"A\": 26, \"v\": 27, \"k\": 28, \"T\": 29, \"'\": 30, \"E\": 31, \"O\": 32, \"N\": 33, \"R\": 34, \"S\": 35, \"L\": 36, \"C\": 37, \";\": 38, \"W\": 39, \"U\": 40, \"H\": 41, \"M\": 42, \"B\": 43, \"?\": 44, \"G\": 45, \"!\": 46, \"D\": 47, \"-\": 48, \"F\": 49, \"Y\": 50, \"P\": 51, \"K\": 52, \"V\": 53, \"j\": 54, \"q\": 55, \"x\": 56, \"z\": 57, \"J\": 58, \"Q\": 59, \"Z\": 60, \"X\": 61, \"3\": 62, \"&\": 63, \"$\": 64}\n",
            "{\"F\": 1797, \"i\": 45537, \"r\": 48889, \"s\": 49696, \"t\": 67009, \" \": 169892, \"C\": 3820, \"z\": 356, \"e\": 94611, \"n\": 48529, \":\": 10316, \"\\n\": 40000, \"B\": 2761, \"f\": 15770, \"o\": 65798, \"w\": 17585, \"p\": 10808, \"c\": 15623, \"d\": 31358, \"a\": 55507, \"y\": 20448, \"u\": 26584, \"h\": 51310, \",\": 19846, \"m\": 22243, \"k\": 7088, \"A\": 7819, \"l\": 33339, \"S\": 4523, \"Y\": 1718, \"v\": 7793, \"?\": 2462, \"R\": 4869, \"M\": 2840, \"W\": 3530, \"'\": 6187, \"L\": 3876, \"I\": 11832, \"N\": 5079, \"g\": 13356, \";\": 3628, \"b\": 11321, \"!\": 2172, \"O\": 5481, \"j\": 628, \"V\": 798, \"-\": 1897, \"T\": 7015, \"H\": 3068, \"E\": 6041, \"U\": 3313, \"D\": 2089, \"P\": 1641, \"q\": 609, \"x\": 529, \"J\": 320, \"G\": 2399, \"K\": 1584, \"Q\": 231, \"&\": 3, \"Z\": 198, \"X\": 112, \"3\": 27, \"$\": 1}\n"
          ],
          "name": "stdout"
        }
      ]
    },
    {
      "cell_type": "markdown",
      "metadata": {
        "id": "gWObVg6DRfSi"
      },
      "source": [
        "#### Tokenize the text\n",
        "\n",
        "You should now write a function to use the tokenizer to map each string in `text_chunks` to its corresponding encoded sequence. The following function takes a fitted `Tokenizer` object in the first argument (as returned by `create_character_tokenizer`) and a list of strings in the second argument. The function should return a list of lists, where each sublist is a sequence of integer tokens encoding the text sequences according to the mapping stored in the tokenizer.\n",
        "\n",
        "**Hint:** you may need to refer to the [documentation](https://www.tensorflow.org/api_docs/python/tf/keras/preprocessing/text/Tokenizer) for the `Tokenizer`."
      ]
    },
    {
      "cell_type": "code",
      "metadata": {
        "id": "lkKDCvV1RfSj"
      },
      "source": [
        "#### GRADED CELL ####\n",
        "\n",
        "# Complete the following function.\n",
        "# Make sure not to change the function name or arguments.\n",
        "\n",
        "def strings_to_sequences(tokenizer, list_of_strings):\n",
        "    \"\"\"\n",
        "    This function takes a tokenizer object and a list of strings as its arguments.\n",
        "    It should use the tokenizer to map the text chunks to sequences of tokens and\n",
        "    then return this list of encoded sequences.\n",
        "    \"\"\"\n",
        "    return tokenizer.texts_to_sequences(list_of_strings)\n",
        "    "
      ],
      "execution_count": 9,
      "outputs": []
    },
    {
      "cell_type": "code",
      "metadata": {
        "id": "hhYb2mSlRfSo"
      },
      "source": [
        "# Encode the text chunks into tokens\n",
        "\n",
        "seq_chunks = strings_to_sequences(tokenizer, text_chunks)"
      ],
      "execution_count": 10,
      "outputs": []
    },
    {
      "cell_type": "code",
      "metadata": {
        "colab": {
          "base_uri": "https://localhost:8080/"
        },
        "id": "NSq3sejgoxPX",
        "outputId": "78964c92-2c2b-456e-f3fc-b25a42178056"
      },
      "source": [
        "s=''\n",
        "s=[s+str(v) for v in seq_chunks[0]]\n",
        "print(s)"
      ],
      "execution_count": 11,
      "outputs": [
        {
          "output_type": "stream",
          "text": [
            "['49', '10', '8', '7', '3', '1', '37', '10', '3', '10', '57', '2', '9', '25', '11', '43', '2', '19', '4', '8', '2', '1', '18', '2', '1', '24', '8', '4', '20', '2', '2', '13', '1', '5', '9', '16', '1', '19', '14', '8', '3', '6', '2', '8', '17', '1', '6', '2', '5', '8', '1', '15', '2', '1', '7', '24', '2', '5', '28']\n"
          ],
          "name": "stdout"
        }
      ]
    },
    {
      "cell_type": "markdown",
      "metadata": {
        "id": "iRCN70xkRfSt"
      },
      "source": [
        "#### Pad the encoded sequences and store them in a numpy array"
      ]
    },
    {
      "cell_type": "markdown",
      "metadata": {
        "id": "3ucADRYoRfSu"
      },
      "source": [
        "Since not all of the text chunks are the same length, you will need to pad them in order to train on batches. You should now complete the following function, which takes the list of lists of tokens, and creates a single numpy array with the token sequences in the rows, according to the following specification:\n",
        "\n",
        "* The longest allowed sequence should be 500 tokens. Any sequence that is longer should be shortened by truncating the beginning of the sequence.\n",
        "* Use zeros for padding the sequences. The zero padding should be placed before the sequences as required.\n",
        "\n",
        "The function should then return the resulting numpy array.\n",
        "\n",
        "**Hint:** you may want to refer to the [documentation](https://www.tensorflow.org/api_docs/python/tf/keras/preprocessing/sequence/pad_sequences) for the `pad_sequences` function."
      ]
    },
    {
      "cell_type": "code",
      "metadata": {
        "id": "zLf-9KxWRfSw"
      },
      "source": [
        "#### GRADED CELL ####\n",
        "\n",
        "# Complete the following function.\n",
        "# Make sure not to change the function name or arguments.\n",
        "\n",
        "def make_padded_dataset(sequence_chunks):\n",
        "    \"\"\"\n",
        "    This function takes a list of lists of tokenized sequences, and transforms\n",
        "    them into a 2D numpy array, padding the sequences as necessary according to\n",
        "    the above specification. The function should then return the numpy array.\n",
        "    \"\"\"\n",
        "    #return np.array(pad_sequences(seq_chunks, maxlen=500, padding='pre',truncating='pre'))\n",
        "    #return pad_sequences(np.array(seq_chunks), maxlen=500, padding='pre',truncating='pre')\n",
        "    return pad_sequences(seq_chunks, maxlen=500, padding='pre',truncating='pre')\n",
        "    "
      ],
      "execution_count": 12,
      "outputs": []
    },
    {
      "cell_type": "code",
      "metadata": {
        "id": "IKB26MgJRfS0"
      },
      "source": [
        "# Pad the token sequence chunks and get the numpy array\n",
        "\n",
        "padded_sequences = make_padded_dataset(seq_chunks)"
      ],
      "execution_count": 13,
      "outputs": []
    },
    {
      "cell_type": "code",
      "metadata": {
        "colab": {
          "base_uri": "https://localhost:8080/"
        },
        "id": "TQN-E9XDq-Bv",
        "outputId": "43e70053-4c05-432e-95d4-a3231c1f41b2"
      },
      "source": [
        "print(type(padded_sequences))\n",
        "print(padded_sequences.shape)\n",
        "\n",
        "s=''\n",
        "s=[s+str(v) for v in padded_sequences[0]]\n",
        "print(s[425:])"
      ],
      "execution_count": 14,
      "outputs": [
        {
          "output_type": "stream",
          "text": [
            "<class 'numpy.ndarray'>\n",
            "(7886, 500)\n",
            "['0', '0', '0', '0', '0', '0', '0', '0', '0', '0', '0', '0', '0', '0', '0', '0', '49', '10', '8', '7', '3', '1', '37', '10', '3', '10', '57', '2', '9', '25', '11', '43', '2', '19', '4', '8', '2', '1', '18', '2', '1', '24', '8', '4', '20', '2', '2', '13', '1', '5', '9', '16', '1', '19', '14', '8', '3', '6', '2', '8', '17', '1', '6', '2', '5', '8', '1', '15', '2', '1', '7', '24', '2', '5', '28']\n"
          ],
          "name": "stdout"
        }
      ]
    },
    {
      "cell_type": "markdown",
      "metadata": {
        "id": "U-4W2iICRfS3"
      },
      "source": [
        "#### Create model inputs and targets\n",
        "\n",
        "Now you are ready to build your RNN model. The model will receive a sequence of characters and predict the next character in the sequence. At training time, the model can be passed an input sequence, with the target sequence is shifted by one.\n",
        "\n",
        "For example, the expression `To be or not to be` appears in Shakespeare's play 'Hamlet'. Given input `To be or not to b`, the correct prediction is `o be or not to be`. Notice that the prediction is the same length as the input!\n",
        "\n",
        "![sequence_prediction_example](data/rnn_example.png)\n",
        "\n",
        "You should now write the following function to create an input and target array from the current `padded_sequences` array. The function has a single argument that is a 2D numpy array of shape `(num_examples, max_seq_len)`. It should fulfil the following specification:\n",
        "\n",
        "* The function should return an input array and an output array, both of size `(num_examples, max_seq_len - 1)`.\n",
        "* The input array should contain the first `max_seq_len - 1` tokens of each sequence. \n",
        "* The output array should contain the last `max_seq_len - 1` tokens of each sequence. \n",
        "\n",
        "The function should then return the tuple `(input_array, output_array)`. Note that it is possible to complete this function using numpy indexing alone!"
      ]
    },
    {
      "cell_type": "code",
      "metadata": {
        "id": "pzLY5mT3RfS5"
      },
      "source": [
        "#### GRADED CELL ####\n",
        "\n",
        "# Complete the following function.\n",
        "# Make sure not to change the function name or arguments.\n",
        "\n",
        "def create_inputs_and_targets(array_of_sequences):\n",
        "    \"\"\"\n",
        "    This function takes a 2D numpy array of token sequences, and returns a tuple of two\n",
        "    elements: the first element is the input array and the second element is the output\n",
        "    array, which are defined according to the above specification.\n",
        "    \"\"\"   \n",
        "    max_len = array_of_sequences.shape[1]\n",
        "    return (array_of_sequences[:, 0:max_len-1], array_of_sequences[:, 1:max_len])"
      ],
      "execution_count": 15,
      "outputs": []
    },
    {
      "cell_type": "code",
      "metadata": {
        "id": "nUIq0ddsvbk2",
        "outputId": "7832d107-f2c2-441f-f2dc-8eaf549326d1",
        "colab": {
          "base_uri": "https://localhost:8080/"
        }
      },
      "source": [
        "s = np.array([1,2,3,4,5,6,7,8,9,0])\n",
        "max_len = s.shape[0]\n",
        "print(max_len)\n",
        "print(s[0:max_len-1])\n",
        "print(s[1:max_len])"
      ],
      "execution_count": 16,
      "outputs": [
        {
          "output_type": "stream",
          "text": [
            "10\n",
            "[1 2 3 4 5 6 7 8 9]\n",
            "[2 3 4 5 6 7 8 9 0]\n"
          ],
          "name": "stdout"
        }
      ]
    },
    {
      "cell_type": "code",
      "metadata": {
        "id": "MzHXg9HcRfTB"
      },
      "source": [
        "# Create the input and output arrays\n",
        "\n",
        "input_seq, target_seq = create_inputs_and_targets(padded_sequences)"
      ],
      "execution_count": 17,
      "outputs": []
    },
    {
      "cell_type": "code",
      "metadata": {
        "id": "lKyusxwUwLaD",
        "outputId": "89e91eb3-322d-4d0c-da96-7ba8086b6cee",
        "colab": {
          "base_uri": "https://localhost:8080/"
        }
      },
      "source": [
        "s=''\n",
        "s=[s+str(v) for v in padded_sequences[0]]\n",
        "print(s[425:])\n",
        "\n",
        "s=''\n",
        "s=[s+str(v) for v in input_seq[0]]\n",
        "print(s[425:])\n",
        "\n",
        "s=''\n",
        "s=[s+str(v) for v in target_seq[0]]\n",
        "print(s[425:])"
      ],
      "execution_count": 18,
      "outputs": [
        {
          "output_type": "stream",
          "text": [
            "['0', '0', '0', '0', '0', '0', '0', '0', '0', '0', '0', '0', '0', '0', '0', '0', '49', '10', '8', '7', '3', '1', '37', '10', '3', '10', '57', '2', '9', '25', '11', '43', '2', '19', '4', '8', '2', '1', '18', '2', '1', '24', '8', '4', '20', '2', '2', '13', '1', '5', '9', '16', '1', '19', '14', '8', '3', '6', '2', '8', '17', '1', '6', '2', '5', '8', '1', '15', '2', '1', '7', '24', '2', '5', '28']\n",
            "['0', '0', '0', '0', '0', '0', '0', '0', '0', '0', '0', '0', '0', '0', '0', '0', '49', '10', '8', '7', '3', '1', '37', '10', '3', '10', '57', '2', '9', '25', '11', '43', '2', '19', '4', '8', '2', '1', '18', '2', '1', '24', '8', '4', '20', '2', '2', '13', '1', '5', '9', '16', '1', '19', '14', '8', '3', '6', '2', '8', '17', '1', '6', '2', '5', '8', '1', '15', '2', '1', '7', '24', '2', '5']\n",
            "['0', '0', '0', '0', '0', '0', '0', '0', '0', '0', '0', '0', '0', '0', '0', '49', '10', '8', '7', '3', '1', '37', '10', '3', '10', '57', '2', '9', '25', '11', '43', '2', '19', '4', '8', '2', '1', '18', '2', '1', '24', '8', '4', '20', '2', '2', '13', '1', '5', '9', '16', '1', '19', '14', '8', '3', '6', '2', '8', '17', '1', '6', '2', '5', '8', '1', '15', '2', '1', '7', '24', '2', '5', '28']\n"
          ],
          "name": "stdout"
        }
      ]
    },
    {
      "cell_type": "markdown",
      "metadata": {
        "id": "YFTEK7hnRfTJ"
      },
      "source": [
        "#### Preprocess sequence array for stateful RNN\n",
        "\n",
        "We will build our RNN language model to be stateful, so that the internal state of the RNN will be maintained across batches. For this to be effective, we need to make sure that each element of every batch follows on from the corresponding element of the preceding batch (you may want to look back at the \"Stateful RNNs\" reading notebook earlier in the week).\n",
        "\n",
        "The following code processes the input and output sequence arrays so that they are ready to be split into batches for training a stateful RNN, by re-ordering the sequence examples (the rows) according to a specified batch size. "
      ]
    },
    {
      "cell_type": "code",
      "metadata": {
        "id": "S4gsVamxRfTK"
      },
      "source": [
        "# Fix the batch size for training\n",
        "\n",
        "batch_size = 32"
      ],
      "execution_count": 20,
      "outputs": []
    },
    {
      "cell_type": "code",
      "metadata": {
        "id": "cJu9VgWFRfTP"
      },
      "source": [
        "# Prepare input and output arrays for training the stateful RNN\n",
        "\n",
        "num_examples = input_seq.shape[0]\n",
        "\n",
        "num_processed_examples = num_examples - (num_examples % batch_size)\n",
        "\n",
        "input_seq = input_seq[:num_processed_examples]\n",
        "target_seq = target_seq[:num_processed_examples]\n",
        "\n",
        "steps = int(num_processed_examples / 32)  # steps per epoch\n",
        "\n",
        "inx = np.empty((0,), dtype=np.int32)\n",
        "for i in range(steps):\n",
        "    inx = np.concatenate((inx, i + np.arange(0, num_processed_examples, steps)))\n",
        "\n",
        "input_seq_stateful = input_seq[inx]\n",
        "target_seq_stateful = target_seq[inx]"
      ],
      "execution_count": 21,
      "outputs": []
    },
    {
      "cell_type": "markdown",
      "metadata": {
        "id": "Rm8gNoNJRfTT"
      },
      "source": [
        "#### Split the data into training and validation sets\n",
        "\n",
        "We will set aside approximately 20% of the data for validation."
      ]
    },
    {
      "cell_type": "code",
      "metadata": {
        "id": "iiLWfyemRfTU"
      },
      "source": [
        "# Create the training and validation splits\n",
        "\n",
        "num_train_examples = int(batch_size * ((0.8 * num_processed_examples) // batch_size))\n",
        "\n",
        "input_train = input_seq_stateful[:num_train_examples]\n",
        "target_train = target_seq_stateful[:num_train_examples]\n",
        "\n",
        "input_valid = input_seq_stateful[num_train_examples:]\n",
        "target_valid = target_seq_stateful[num_train_examples:]"
      ],
      "execution_count": 22,
      "outputs": []
    },
    {
      "cell_type": "code",
      "metadata": {
        "id": "yn6rl3dn4hY6",
        "outputId": "2db3eb67-c499-42a3-e9cd-e7befedd7737",
        "colab": {
          "base_uri": "https://localhost:8080/"
        }
      },
      "source": [
        "input_train[0]"
      ],
      "execution_count": 23,
      "outputs": [
        {
          "output_type": "execute_result",
          "data": {
            "text/plain": [
              "array([ 0,  0,  0,  0,  0,  0,  0,  0,  0,  0,  0,  0,  0,  0,  0,  0,  0,\n",
              "        0,  0,  0,  0,  0,  0,  0,  0,  0,  0,  0,  0,  0,  0,  0,  0,  0,\n",
              "        0,  0,  0,  0,  0,  0,  0,  0,  0,  0,  0,  0,  0,  0,  0,  0,  0,\n",
              "        0,  0,  0,  0,  0,  0,  0,  0,  0,  0,  0,  0,  0,  0,  0,  0,  0,\n",
              "        0,  0,  0,  0,  0,  0,  0,  0,  0,  0,  0,  0,  0,  0,  0,  0,  0,\n",
              "        0,  0,  0,  0,  0,  0,  0,  0,  0,  0,  0,  0,  0,  0,  0,  0,  0,\n",
              "        0,  0,  0,  0,  0,  0,  0,  0,  0,  0,  0,  0,  0,  0,  0,  0,  0,\n",
              "        0,  0,  0,  0,  0,  0,  0,  0,  0,  0,  0,  0,  0,  0,  0,  0,  0,\n",
              "        0,  0,  0,  0,  0,  0,  0,  0,  0,  0,  0,  0,  0,  0,  0,  0,  0,\n",
              "        0,  0,  0,  0,  0,  0,  0,  0,  0,  0,  0,  0,  0,  0,  0,  0,  0,\n",
              "        0,  0,  0,  0,  0,  0,  0,  0,  0,  0,  0,  0,  0,  0,  0,  0,  0,\n",
              "        0,  0,  0,  0,  0,  0,  0,  0,  0,  0,  0,  0,  0,  0,  0,  0,  0,\n",
              "        0,  0,  0,  0,  0,  0,  0,  0,  0,  0,  0,  0,  0,  0,  0,  0,  0,\n",
              "        0,  0,  0,  0,  0,  0,  0,  0,  0,  0,  0,  0,  0,  0,  0,  0,  0,\n",
              "        0,  0,  0,  0,  0,  0,  0,  0,  0,  0,  0,  0,  0,  0,  0,  0,  0,\n",
              "        0,  0,  0,  0,  0,  0,  0,  0,  0,  0,  0,  0,  0,  0,  0,  0,  0,\n",
              "        0,  0,  0,  0,  0,  0,  0,  0,  0,  0,  0,  0,  0,  0,  0,  0,  0,\n",
              "        0,  0,  0,  0,  0,  0,  0,  0,  0,  0,  0,  0,  0,  0,  0,  0,  0,\n",
              "        0,  0,  0,  0,  0,  0,  0,  0,  0,  0,  0,  0,  0,  0,  0,  0,  0,\n",
              "        0,  0,  0,  0,  0,  0,  0,  0,  0,  0,  0,  0,  0,  0,  0,  0,  0,\n",
              "        0,  0,  0,  0,  0,  0,  0,  0,  0,  0,  0,  0,  0,  0,  0,  0,  0,\n",
              "        0,  0,  0,  0,  0,  0,  0,  0,  0,  0,  0,  0,  0,  0,  0,  0,  0,\n",
              "        0,  0,  0,  0,  0,  0,  0,  0,  0,  0,  0,  0,  0,  0,  0,  0,  0,\n",
              "        0,  0,  0,  0,  0,  0,  0,  0,  0,  0,  0,  0,  0,  0,  0,  0,  0,\n",
              "        0,  0,  0,  0,  0,  0,  0,  0,  0,  0,  0,  0,  0,  0,  0,  0,  0,\n",
              "        0,  0,  0,  0,  0,  0,  0,  0,  0,  0,  0,  0,  0,  0,  0,  0, 49,\n",
              "       10,  8,  7,  3,  1, 37, 10,  3, 10, 57,  2,  9, 25, 11, 43,  2, 19,\n",
              "        4,  8,  2,  1, 18,  2,  1, 24,  8,  4, 20,  2,  2, 13,  1,  5,  9,\n",
              "       16,  1, 19, 14,  8,  3,  6,  2,  8, 17,  1,  6,  2,  5,  8,  1, 15,\n",
              "        2,  1,  7, 24,  2,  5], dtype=int32)"
            ]
          },
          "metadata": {
            "tags": []
          },
          "execution_count": 23
        }
      ]
    },
    {
      "cell_type": "markdown",
      "metadata": {
        "id": "FQ_mAEoPRfTX"
      },
      "source": [
        "#### Create training and validation Dataset objects\n",
        "\n",
        "You should now write a function to take the training and validation input and target arrays, and create training and validation `tf.data.Dataset` objects. The function takes an input array and target array in the first two arguments, and the batch size in the third argument. Your function should do the following:\n",
        "\n",
        "* Create a `Dataset` using the `from_tensor_slices` static method, passing in a tuple of the input and output numpy arrays.\n",
        "* Batch the `Dataset` using the `batch_size` argument, setting `drop_remainder` to `True`. \n",
        "\n",
        "The function should then return the `Dataset` object."
      ]
    },
    {
      "cell_type": "code",
      "metadata": {
        "id": "_DJAjEHKRfTY"
      },
      "source": [
        "#### GRADED CELL ####\n",
        "\n",
        "# Complete the following function.\n",
        "# Make sure not to change the function name or arguments.\n",
        "\n",
        "def make_Dataset(input_array, target_array, batch_size):\n",
        "    \"\"\"\n",
        "    This function takes two 2D numpy arrays in the first two arguments, and an integer\n",
        "    batch_size in the third argument. It should create and return a Dataset object \n",
        "    using the two numpy arrays and batch size according to the above specification.\n",
        "    \"\"\"\n",
        "    dataset = tf.data.Dataset.from_tensor_slices((input_array, target_array))\n",
        "    dataset = dataset.batch(batch_size, drop_remainder = True)\n",
        "\n",
        "    return dataset\n",
        "\n",
        "    "
      ],
      "execution_count": 24,
      "outputs": []
    },
    {
      "cell_type": "code",
      "metadata": {
        "id": "rzqK_qVARfTc"
      },
      "source": [
        "# Create the training and validation Datasets\n",
        "\n",
        "train_data = make_Dataset(input_train, target_train, batch_size)\n",
        "valid_data = make_Dataset(input_valid, target_valid, batch_size)"
      ],
      "execution_count": 25,
      "outputs": []
    },
    {
      "cell_type": "markdown",
      "metadata": {
        "id": "IKfaWcCCRfTf"
      },
      "source": [
        "#### Build the recurrent neural network model"
      ]
    },
    {
      "cell_type": "markdown",
      "metadata": {
        "id": "KcPyteqDRfTh"
      },
      "source": [
        "You are now ready to build your RNN character-level language model. You should write the following function to build the model; the function takes arguments for the batch size and vocabulary size (number of tokens). Using the Sequential API, your function should build your model according to the following specifications:\n",
        "\n",
        "* The first layer should be an Embedding layer with an embedding dimension of 256 and set the vocabulary size to `vocab_size` from the function argument.\n",
        "* The Embedding layer should also mask the zero padding in the input sequences.\n",
        "* The Embedding layer should also set the `batch_input_shape` to `(batch_size, None)` (a fixed batch size is required for stateful RNNs).\n",
        "* The next layer should be a (uni-directional) GRU layer with 1024 units, set to be a stateful RNN layer.\n",
        "* The GRU layer should return the full sequence, instead of just the output state at the final time step.\n",
        "* The final layer should be a Dense layer with `vocab_size` units and no activation function.\n",
        "\n",
        "In total, the network should have 3 layers."
      ]
    },
    {
      "cell_type": "code",
      "metadata": {
        "id": "oauekqOSRfTi"
      },
      "source": [
        "#### GRADED CELL ####\n",
        "\n",
        "# Complete the following function.\n",
        "# Make sure not to change the function name or arguments.\n",
        "\n",
        "def get_model(vocab_size, batch_size):\n",
        "    \"\"\"\n",
        "    This function takes a vocabulary size and batch size, and builds and returns a \n",
        "    Sequential model according to the above specification.\n",
        "    \"\"\"\n",
        "    model = Sequential([\n",
        "                        Embedding(input_dim=vocab_size, output_dim=256, mask_zero=True, batch_input_shape=(batch_size, None)),\n",
        "                        GRU(1024, stateful=True, return_sequences=True),\n",
        "                        Dense(units=vocab_size)\n",
        "    ])\n",
        "\n",
        "    return model\n",
        "    "
      ],
      "execution_count": 26,
      "outputs": []
    },
    {
      "cell_type": "code",
      "metadata": {
        "id": "AmmEfYo-RfTl",
        "colab": {
          "base_uri": "https://localhost:8080/"
        },
        "outputId": "ee72e051-038a-441e-fc5f-c2e8cfc1a6ce"
      },
      "source": [
        "# Build the model and print the model summary\n",
        "\n",
        "model = get_model(len(tokenizer.word_index) + 1, batch_size)\n",
        "model.summary()"
      ],
      "execution_count": 27,
      "outputs": [
        {
          "output_type": "stream",
          "text": [
            "Model: \"sequential\"\n",
            "_________________________________________________________________\n",
            "Layer (type)                 Output Shape              Param #   \n",
            "=================================================================\n",
            "embedding (Embedding)        (32, None, 256)           16640     \n",
            "_________________________________________________________________\n",
            "gru (GRU)                    (32, None, 1024)          3938304   \n",
            "_________________________________________________________________\n",
            "dense (Dense)                (32, None, 65)            66625     \n",
            "=================================================================\n",
            "Total params: 4,021,569\n",
            "Trainable params: 4,021,569\n",
            "Non-trainable params: 0\n",
            "_________________________________________________________________\n"
          ],
          "name": "stdout"
        }
      ]
    },
    {
      "cell_type": "markdown",
      "metadata": {
        "id": "4PJ4cU0YRfTo"
      },
      "source": [
        "#### Compile and train the model\n",
        "\n",
        "You are now ready to compile and train the model. For this model and dataset, the training time is very long. Therefore for this assignment it is not a requirement to train the model. We have pre-trained a model for you (using the code below) and saved the model weights, which can be loaded to get the model predictions. \n",
        "\n",
        "It is recommended to use accelerator hardware (e.g. using Colab) when training this model. It would also be beneficial to increase the size of the model, e.g. by stacking extra recurrent layers."
      ]
    },
    {
      "cell_type": "code",
      "metadata": {
        "id": "62k8AD8eRfTp"
      },
      "source": [
        "# Choose whether to train a new model or load the pre-trained model\n",
        "\n",
        "skip_training = False"
      ],
      "execution_count": 28,
      "outputs": []
    },
    {
      "cell_type": "code",
      "metadata": {
        "id": "DJhnIUHSRfTt",
        "colab": {
          "base_uri": "https://localhost:8080/"
        },
        "outputId": "67a7ca18-fbd9-40aa-e59d-0971b3e0c52b"
      },
      "source": [
        "# Compile and train the model, or load pre-trained weights\n",
        "\n",
        "if not skip_training:\n",
        "    checkpoint_callback=tf.keras.callbacks.ModelCheckpoint(filepath='./models/ckpt',\n",
        "                                                           save_weights_only=True,\n",
        "                                                           save_best_only=True)\n",
        "    model.compile(optimizer='adam', loss=tf.keras.losses.SparseCategoricalCrossentropy(from_logits=True),\n",
        "                  metrics=['sparse_categorical_accuracy'])\n",
        "    history = model.fit(train_data, epochs=15, validation_data=valid_data, \n",
        "                        validation_steps=50, callbacks=[checkpoint_callback])"
      ],
      "execution_count": 29,
      "outputs": [
        {
          "output_type": "stream",
          "text": [
            "Epoch 1/15\n",
            "196/196 [==============================] - 106s 540ms/step - loss: 0.6729 - sparse_categorical_accuracy: 0.3126 - val_loss: 0.5676 - val_sparse_categorical_accuracy: 0.4083\n",
            "Epoch 2/15\n",
            "196/196 [==============================] - 108s 549ms/step - loss: 0.4951 - sparse_categorical_accuracy: 0.4622 - val_loss: 0.4710 - val_sparse_categorical_accuracy: 0.4988\n",
            "Epoch 3/15\n",
            "196/196 [==============================] - 106s 540ms/step - loss: 0.4264 - sparse_categorical_accuracy: 0.5304 - val_loss: 0.4261 - val_sparse_categorical_accuracy: 0.5425\n",
            "Epoch 4/15\n",
            "196/196 [==============================] - 106s 543ms/step - loss: 0.3890 - sparse_categorical_accuracy: 0.5667 - val_loss: 0.4037 - val_sparse_categorical_accuracy: 0.5633\n",
            "Epoch 5/15\n",
            "196/196 [==============================] - 105s 537ms/step - loss: 0.3651 - sparse_categorical_accuracy: 0.5891 - val_loss: 0.3909 - val_sparse_categorical_accuracy: 0.5774\n",
            "Epoch 6/15\n",
            "196/196 [==============================] - 105s 536ms/step - loss: 0.3467 - sparse_categorical_accuracy: 0.6063 - val_loss: 0.3848 - val_sparse_categorical_accuracy: 0.5833\n",
            "Epoch 7/15\n",
            "196/196 [==============================] - 105s 537ms/step - loss: 0.3309 - sparse_categorical_accuracy: 0.6215 - val_loss: 0.3834 - val_sparse_categorical_accuracy: 0.5854\n",
            "Epoch 8/15\n",
            "196/196 [==============================] - 104s 533ms/step - loss: 0.3162 - sparse_categorical_accuracy: 0.6363 - val_loss: 0.3858 - val_sparse_categorical_accuracy: 0.5850\n",
            "Epoch 9/15\n",
            "196/196 [==============================] - 105s 536ms/step - loss: 0.3014 - sparse_categorical_accuracy: 0.6521 - val_loss: 0.3900 - val_sparse_categorical_accuracy: 0.5837\n",
            "Epoch 10/15\n",
            "196/196 [==============================] - 103s 527ms/step - loss: 0.2873 - sparse_categorical_accuracy: 0.6674 - val_loss: 0.3967 - val_sparse_categorical_accuracy: 0.5819\n",
            "Epoch 11/15\n",
            "196/196 [==============================] - 104s 530ms/step - loss: 0.2758 - sparse_categorical_accuracy: 0.6800 - val_loss: 0.4108 - val_sparse_categorical_accuracy: 0.5726\n",
            "Epoch 12/15\n",
            "196/196 [==============================] - 104s 531ms/step - loss: 0.2662 - sparse_categorical_accuracy: 0.6901 - val_loss: 0.4199 - val_sparse_categorical_accuracy: 0.5724\n",
            "Epoch 13/15\n",
            "196/196 [==============================] - 104s 528ms/step - loss: 0.2549 - sparse_categorical_accuracy: 0.7028 - val_loss: 0.4293 - val_sparse_categorical_accuracy: 0.5687\n",
            "Epoch 14/15\n",
            "196/196 [==============================] - 103s 527ms/step - loss: 0.2456 - sparse_categorical_accuracy: 0.7131 - val_loss: 0.4379 - val_sparse_categorical_accuracy: 0.5646\n",
            "Epoch 15/15\n",
            "196/196 [==============================] - 103s 526ms/step - loss: 0.2376 - sparse_categorical_accuracy: 0.7216 - val_loss: 0.4460 - val_sparse_categorical_accuracy: 0.5607\n"
          ],
          "name": "stdout"
        }
      ]
    },
    {
      "cell_type": "code",
      "metadata": {
        "id": "yqjTlQyoRfTx"
      },
      "source": [
        "# Save model history as a json file, or load it if using pre-trained weights\n",
        "\n",
        "if not skip_training:\n",
        "    history_dict = dict()\n",
        "    for k, v in history.history.items():\n",
        "        history_dict[k] = [float(val) for val in history.history[k]]\n",
        "    with open('models/history.json', 'w+') as json_file:\n",
        "        json.dump(history_dict, json_file, sort_keys=True, indent=4)\n",
        "else:\n",
        "    with open('models/history.json', 'r') as json_file:\n",
        "        history_dict = json.load(json_file)"
      ],
      "execution_count": 30,
      "outputs": []
    },
    {
      "cell_type": "markdown",
      "metadata": {
        "id": "upDpsmf9RfT2"
      },
      "source": [
        "#### Plot the learning curves"
      ]
    },
    {
      "cell_type": "code",
      "metadata": {
        "id": "gGpPk5bbRfT3",
        "colab": {
          "base_uri": "https://localhost:8080/",
          "height": 350
        },
        "outputId": "5d6488eb-f4fd-40e8-8aec-d598c4e1f83b"
      },
      "source": [
        "# Run this cell to plot accuracy vs epoch and loss vs epoch\n",
        "\n",
        "plt.figure(figsize=(15,5))\n",
        "plt.subplot(121)\n",
        "plt.plot(history_dict['sparse_categorical_accuracy'])\n",
        "plt.plot(history_dict['val_sparse_categorical_accuracy'])\n",
        "plt.title('Accuracy vs. epochs')\n",
        "plt.ylabel('Accuracy')\n",
        "plt.xlabel('Epoch')\n",
        "plt.xticks(np.arange(len(history_dict['sparse_categorical_accuracy'])))\n",
        "ax = plt.gca()\n",
        "ax.set_xticklabels(1 + np.arange(len(history_dict['sparse_categorical_accuracy'])))\n",
        "plt.legend(['Training', 'Validation'], loc='lower right')\n",
        "\n",
        "plt.subplot(122)\n",
        "plt.plot(history_dict['loss'])\n",
        "plt.plot(history_dict['val_loss'])\n",
        "plt.title('Loss vs. epochs')\n",
        "plt.ylabel('Loss')\n",
        "plt.xlabel('Epoch')\n",
        "plt.xticks(np.arange(len(history_dict['sparse_categorical_accuracy'])))\n",
        "ax = plt.gca()\n",
        "ax.set_xticklabels(1 + np.arange(len(history_dict['sparse_categorical_accuracy'])))\n",
        "plt.legend(['Training', 'Validation'], loc='upper right')\n",
        "plt.show() "
      ],
      "execution_count": 31,
      "outputs": [
        {
          "output_type": "display_data",
          "data": {
            "image/png": "[encoded data removed]",
            "text/plain": [
              "<Figure size 1080x360 with 2 Axes>"
            ]
          },
          "metadata": {
            "tags": [],
            "needs_background": "light"
          }
        }
      ]
    },
    {
      "cell_type": "markdown",
      "metadata": {
        "id": "2msBeLSoRfT7"
      },
      "source": [
        "#### Write a text generation algorithm\n",
        "\n",
        "You can now use the model to generate text! In order to generate a single text sequence, the model needs to be rebuilt with a batch size of 1."
      ]
    },
    {
      "cell_type": "code",
      "metadata": {
        "id": "zzQW69qxRfT_",
        "colab": {
          "base_uri": "https://localhost:8080/"
        },
        "outputId": "747839bf-6d42-4c5f-a54e-882332cca6e4"
      },
      "source": [
        "# Re-build the model and load the saved weights\n",
        "\n",
        "model = get_model(len(tokenizer.word_index) + 1, batch_size=1)\n",
        "model.load_weights(tf.train.latest_checkpoint('./models/'))"
      ],
      "execution_count": 32,
      "outputs": [
        {
          "output_type": "execute_result",
          "data": {
            "text/plain": [
              "<tensorflow.python.training.tracking.util.CheckpointLoadStatus at 0x7f39870a0b00>"
            ]
          },
          "metadata": {
            "tags": []
          },
          "execution_count": 32
        }
      ]
    },
    {
      "cell_type": "markdown",
      "metadata": {
        "id": "TM3LHQAgRfUD"
      },
      "source": [
        "An algorithm to generate text is as follows:\n",
        "\n",
        "1. Specify a seed string (e.g. `'ROMEO:'`) to get the network started, and a define number of characters for the model to generate, `num_generation_steps`.\n",
        "2. Tokenize this sentence to obtain a list containing one list of the integer tokens.\n",
        "3. Reset the initial state of the network. \n",
        "4. Convert the token list into a Tensor (or numpy array) and pass it to your model as a batch of size one.\n",
        "5. Get the model prediction (logits) for the last time step and extract the state of the recurrent layer.\n",
        "6. Use the logits to construct a categorical distribution and sample a token from it.\n",
        "7. Repeat the following for `num_generation_steps - 1` steps:\n",
        "\n",
        "    1. Use the saved state of the recurrent layer and the last sampled token to get new logit predictions\n",
        "    2. Use the logits to construct a new categorical distribution and sample a token from it.\n",
        "    3. Save the updated state of the recurrent layer.    \n",
        "\n",
        "8. Take the final list of tokens and convert to text using the Tokenizer.\n",
        "\n",
        "Note that the internal state of the recurrent layer can be accessed using the `states` property. For the GRU layer, it is a list of one variable:"
      ]
    },
    {
      "cell_type": "code",
      "metadata": {
        "id": "DDbzdt0LRfUE",
        "colab": {
          "base_uri": "https://localhost:8080/"
        },
        "outputId": "ca819568-da87-4905-8099-b53fd18439a4"
      },
      "source": [
        "# Inspect the model's current recurrent state\n",
        "\n",
        "model.layers[1].states"
      ],
      "execution_count": 33,
      "outputs": [
        {
          "output_type": "execute_result",
          "data": {
            "text/plain": [
              "[<tf.Variable 'gru_1/Variable:0' shape=(1, 1024) dtype=float32, numpy=array([[0., 0., 0., ..., 0., 0., 0.]], dtype=float32)>]"
            ]
          },
          "metadata": {
            "tags": []
          },
          "execution_count": 33
        }
      ]
    },
    {
      "cell_type": "markdown",
      "metadata": {
        "id": "2KvmtkvrRfUI"
      },
      "source": [
        "We will break the algorithm down into two steps. First, you should now complete the following function that takes a sequence of tokens of any length and returns the model's prediction (the logits) for the last time step. The specification is as follows:\n",
        "\n",
        "* The token sequence will be a python list, containing one list of integer tokens, e.g. `[[1, 2, 3, 4]]`\n",
        "* The function should convert the list into a 2D Tensor or numpy array\n",
        "* If the function argument `initial_state` is `None`, then the function should reset the state of the recurrent layer to zeros.\n",
        "* Otherwise, if the function argument `initial_state` is a 2D Tensor or numpy array, assign the value of the internal state of the GRU layer to this argument.\n",
        "* Get the model's prediction (logits) for the last time step only.\n",
        "\n",
        "The function should then return the logits as a 2D numpy array, where the first dimension is equal to 1 (batch size).\n",
        "\n",
        "**Hint:** the internal state of the recurrent can be reset to zeros using the `reset_states` method."
      ]
    },
    {
      "cell_type": "code",
      "metadata": {
        "id": "3aHg6y44RfUJ"
      },
      "source": [
        "#### GRADED CELL ####\n",
        "\n",
        "# Complete the following function.\n",
        "# Make sure not to change the function name or arguments.\n",
        "\n",
        "def get_logits(model, token_sequence, initial_state=None):\n",
        "    \"\"\"\n",
        "    This function takes a model object, a token sequence and an optional initial\n",
        "    state for the recurrent layer. The function should return the logits prediction\n",
        "    for the final time step as a 2D numpy array.\n",
        "    \"\"\"\n",
        "    np_token_sequence = np.array(token_sequence)\n",
        "    dataset = tf.data.Dataset.from_tensor_slices(token_sequence)\n",
        "    dataset = dataset.batch(1)\n",
        "    #print(dataset)\n",
        "    #print(initial_state)\n",
        "    if initial_state is None :\n",
        "      model.layers[1].reset_states()\n",
        "    else :\n",
        "      model.layers[1].reset_states(states = initial_state)\n",
        "    \n",
        "    #print(model.layers[1].states)\n",
        "    pred = model.predict(dataset)\n",
        "    #token_sequence = np.array(token_sequence)\n",
        "    #pred = model.predict(token_sequence)\n",
        "    #print(pred.shape)\n",
        "    pred = np.expand_dims(pred[0, -1, :], 0)\n",
        "    #print(pred.shape)\n",
        "    return pred\n",
        "    "
      ],
      "execution_count": 139,
      "outputs": []
    },
    {
      "cell_type": "code",
      "metadata": {
        "id": "SvZ7zC8c9PoO",
        "outputId": "7965e507-19df-41cb-fce9-91093aea0b97",
        "colab": {
          "base_uri": "https://localhost:8080/"
        }
      },
      "source": [
        "x = np.zeros( (106, 106, 3) )\n",
        "result = x[:, :, 0]\n",
        "print(result.shape)"
      ],
      "execution_count": 140,
      "outputs": [
        {
          "output_type": "stream",
          "text": [
            "(106, 106)\n"
          ],
          "name": "stdout"
        }
      ]
    },
    {
      "cell_type": "code",
      "metadata": {
        "id": "W5L8hxY99lkg",
        "outputId": "e07f3fde-8137-44fb-892c-1713609f2e6c",
        "colab": {
          "base_uri": "https://localhost:8080/"
        }
      },
      "source": [
        "x = np.array([[[1,2,3], [4,5,6],\n",
        "              [11,22,33], [44,55,66]]])\n",
        "print(x)\n",
        "print(x.shape)\n",
        "print(x[0, 1, :])\n",
        "result = np.expand_dims(x[0, -1, :], 0)  # x[0, -1, :] = gets final time step results\n",
        "print(result.shape)"
      ],
      "execution_count": 141,
      "outputs": [
        {
          "output_type": "stream",
          "text": [
            "[[[ 1  2  3]\n",
            "  [ 4  5  6]\n",
            "  [11 22 33]\n",
            "  [44 55 66]]]\n",
            "(1, 4, 3)\n",
            "[4 5 6]\n",
            "(1, 3)\n"
          ],
          "name": "stdout"
        }
      ]
    },
    {
      "cell_type": "code",
      "metadata": {
        "id": "La2CNRzqRfUN",
        "colab": {
          "base_uri": "https://localhost:8080/"
        },
        "outputId": "325386a3-5b81-4c31-82da-466ee65645da"
      },
      "source": [
        "# Test the get_logits function by passing a dummy token sequence\n",
        "\n",
        "dummy_initial_state = tf.random.normal(model.layers[1].states[0].shape)\n",
        "get_logits(model, [[1, 2, 3, 4]], initial_state=dummy_initial_state)"
      ],
      "execution_count": 142,
      "outputs": [
        {
          "output_type": "execute_result",
          "data": {
            "text/plain": [
              "array([[-6.207179  ,  2.1740358 ,  3.2389743 ,  2.3819618 ,  1.789456  ,\n",
              "        -0.33457065, -4.0293584 ,  5.7819643 ,  8.036196  ,  6.7623324 ,\n",
              "         2.3370905 ,  2.0648775 ,  6.4722977 ,  3.0815957 ,  4.776003  ,\n",
              "         6.62567   , -2.4576933 ,  0.07873704,  0.5499489 ,  3.3336678 ,\n",
              "         3.0716949 , -1.2904265 , -8.020077  ,  2.8254316 ,  3.4652476 ,\n",
              "        -0.5270974 , -7.6900415 , -0.20773698, -2.195821  , -6.370916  ,\n",
              "         2.3219242 , -9.709449  , -8.595875  , -4.4127445 , -2.528193  ,\n",
              "        -3.816621  , -5.2669516 , -7.264127  , -0.9627863 , -4.072622  ,\n",
              "        -5.9797134 , -6.1641192 , -2.933557  , -4.58714   ,  0.47526136,\n",
              "        -5.2710857 , -0.54327285, -9.781766  , -0.558115  , -4.966898  ,\n",
              "        -7.228231  , -2.6899967 , -7.448796  , -6.341165  , -3.3729296 ,\n",
              "        -1.6784469 , -0.8088156 ,  1.0769291 , -6.6988378 , -6.6243467 ,\n",
              "        -2.0096095 , -5.3233795 , -6.51671   , -6.487149  , -5.1324034 ]],\n",
              "      dtype=float32)"
            ]
          },
          "metadata": {
            "tags": []
          },
          "execution_count": 142
        }
      ]
    },
    {
      "cell_type": "markdown",
      "metadata": {
        "id": "KcMB8Yv5RfUQ"
      },
      "source": [
        "You should now write a function that takes a logits prediction similar to the above, uses it to create a categorical distribution, and samples a token from this distribution. The following function takes a 2D numpy array `logits` as an argument, and should return a single integer prediction that is sampled from the categorical distribution. \n",
        "\n",
        "**Hint:** you might find the `tf.random.categorical` function useful for this; see the documentation [here](https://www.tensorflow.org/api_docs/python/tf/random/categorical)."
      ]
    },
    {
      "cell_type": "code",
      "metadata": {
        "id": "3Myszk-M3PFq",
        "outputId": "07ee618f-17fe-4cba-8391-d70f6c0641ad",
        "colab": {
          "base_uri": "https://localhost:8080/"
        }
      },
      "source": [
        "# samples has shape [1, 5], where each value is either 0 or 1 with equal\n",
        "# probability.\n",
        "samples = tf.random.categorical(tf.math.log([[0.5, 0.5]]), 5)\n",
        "print(samples)"
      ],
      "execution_count": 143,
      "outputs": [
        {
          "output_type": "stream",
          "text": [
            "tf.Tensor([[0 0 0 0 1]], shape=(1, 5), dtype=int64)\n"
          ],
          "name": "stdout"
        }
      ]
    },
    {
      "cell_type": "code",
      "metadata": {
        "id": "LObVBMdzRfUS"
      },
      "source": [
        "#### GRADED CELL ####\n",
        "\n",
        "# Complete the following function.\n",
        "# Make sure not to change the function name or arguments.\n",
        "\n",
        "def sample_token(logits):\n",
        "    \"\"\"\n",
        "    This function takes a 2D numpy array as an input, and constructs a \n",
        "    categorical distribution using it. It should then sample from this\n",
        "    distribution and return the sample as a single integer.\n",
        "    \"\"\"\n",
        "    single_value = tf.random.categorical(logits, 1).numpy()[0][0]\n",
        "    #print('single_value= ', single_value)\n",
        "    return single_value\n",
        "    "
      ],
      "execution_count": 144,
      "outputs": []
    },
    {
      "cell_type": "code",
      "metadata": {
        "id": "MrgPsuOYRfUV",
        "colab": {
          "base_uri": "https://localhost:8080/"
        },
        "outputId": "46925dcc-6642-4bb2-e00a-c1eb18daf5b0"
      },
      "source": [
        "# Test the sample_token function by passing dummy logits\n",
        "\n",
        "dummy_initial_state = tf.random.normal(model.layers[1].states[0].shape)\n",
        "dummy_logits = get_logits(model, [[1, 2, 3, 4]], initial_state=dummy_initial_state)\n",
        "sample_token(dummy_logits)"
      ],
      "execution_count": 145,
      "outputs": [
        {
          "output_type": "execute_result",
          "data": {
            "text/plain": [
              "8"
            ]
          },
          "metadata": {
            "tags": []
          },
          "execution_count": 145
        }
      ]
    },
    {
      "cell_type": "code",
      "metadata": {
        "id": "Q23e4MNpRfUY",
        "colab": {
          "base_uri": "https://localhost:8080/"
        },
        "outputId": "fb72c935-dd03-4e0b-e6db-104d193877d7"
      },
      "source": [
        "logits_size = dummy_logits.shape[1]\n",
        "dummy_logits = -np.inf*np.ones((1, logits_size))\n",
        "dummy_logits[0, 20] = 0\n",
        "sample_token(dummy_logits)\n",
        "random_inx = np.random.choice(logits_size, 2, replace=False)\n",
        "random_inx1, random_inx2 = random_inx[0], random_inx[1]\n",
        "print(random_inx1, random_inx2)\n",
        "dummy_logits = -np.inf*np.ones((1, logits_size))\n",
        "dummy_logits[0, random_inx1] = 0\n",
        "dummy_logits[0, random_inx2] = 0\n",
        "sampled_token = []\n",
        "for _ in range(100):\n",
        "    sampled_token.append(sample_token(dummy_logits))\n",
        "    \n",
        "l_tokens, l_counts = np.unique(np.array(sampled_token), return_counts=True)\n",
        "len(l_tokens) == 2"
      ],
      "execution_count": 146,
      "outputs": [
        {
          "output_type": "stream",
          "text": [
            "49 58\n"
          ],
          "name": "stdout"
        },
        {
          "output_type": "execute_result",
          "data": {
            "text/plain": [
              "True"
            ]
          },
          "metadata": {
            "tags": []
          },
          "execution_count": 146
        }
      ]
    },
    {
      "cell_type": "markdown",
      "metadata": {
        "id": "7A0FOxOTRfUc"
      },
      "source": [
        "#### Generate text from the model\n",
        "\n",
        "You are now ready to generate text from the model!"
      ]
    },
    {
      "cell_type": "code",
      "metadata": {
        "id": "KgXNTiaYRfUd"
      },
      "source": [
        "# Create a seed string and number of generation steps\n",
        "\n",
        "init_string = 'ROMEO:'\n",
        "num_generation_steps = 1000"
      ],
      "execution_count": 147,
      "outputs": []
    },
    {
      "cell_type": "code",
      "metadata": {
        "id": "6jm4JeyyRfUf",
        "colab": {
          "base_uri": "https://localhost:8080/"
        },
        "outputId": "06b6948f-1695-4a6d-8e7c-0b9a34c3bb3d"
      },
      "source": [
        "# Use the model to generate a token sequence\n",
        "\n",
        "token_sequence = tokenizer.texts_to_sequences([init_string])\n",
        "initial_state = None\n",
        "input_sequence = token_sequence\n",
        "\n",
        "for _ in range(num_generation_steps):\n",
        "    logits = get_logits(model, input_sequence, initial_state=initial_state)\n",
        "    sampled_token = sample_token(logits)\n",
        "    token_sequence[0].append(sampled_token)\n",
        "    input_sequence = [[sampled_token]]\n",
        "    initial_state = model.layers[1].states[0].numpy()\n",
        "    \n",
        "print(tokenizer.sequences_to_texts(token_sequence)[0][::2])"
      ],
      "execution_count": 148,
      "outputs": [
        {
          "output_type": "stream",
          "text": [
            "ROMEO:\n",
            "Here comes here to saw, lord free Many means\n",
            "To hear me hour But thine eyistions\n",
            "And the lawful runy things of many instrument,\n",
            "When I live have them here alone; I do beseech you,\n",
            "With Oxford, madam, who hadst fair love is it;\n",
            "And mine, in good clouds and remove with him,\n",
            "If he'll jest provoke the war which the isle and take him\n",
            "To last in nothing timorous lan;\n",
            "And the Veranor, is in my mind o'll present\n",
            "Acold you the false off meant, do not speak, sir, stand, there,\n",
            "To most aprocation of the geftleman the\n",
            "burgaker; my high adoition!\n",
            "Thire we sad kind me;\n",
            "Than the violance of the wond?'\n",
            "Where wouldst thou face Marcius what he fight go alone!\n",
            "After men of up: earry harth upon me\n",
            "And mented a coll to o'er it?\n",
            "Whom forest dans here? this deplying himself\n",
            "And strite unto the king myself: sety order\n",
            "To comm me, have you been to sworn many ords,\n",
            "The night of my coups Paulina;\n",
            "Sirrah have without my birds methink to king\n",
            "exching now, then, I was done with tway fie,\n",
            "Or, indeed, nothing here: \n"
          ],
          "name": "stdout"
        }
      ]
    },
    {
      "cell_type": "markdown",
      "metadata": {
        "id": "O9mUfLUyRfUl"
      },
      "source": [
        "Congratulations for completing this programming assignment! In the next week of the course we will see how to build customised models and layers, and make custom training loops."
      ]
    }
  ]
}