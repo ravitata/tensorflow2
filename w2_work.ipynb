{
  "nbformat": 4,
  "nbformat_minor": 0,
  "metadata": {
    "colab": {
      "name": "w2_work.ipynb",
      "provenance": [],
      "authorship_tag": "ABX9TyPFA20j2GzFvhwsT1OzQxSH",
      "include_colab_link": true
    },
    "kernelspec": {
      "name": "python3",
      "display_name": "Python 3"
    },
    "accelerator": "GPU"
  },
  "cells": [
    {
      "cell_type": "markdown",
      "metadata": {
        "id": "view-in-github",
        "colab_type": "text"
      },
      "source": [
        "<a href=\"https://colab.research.google.com/github/ravitata/tensorflow2/blob/master/w2_work.ipynb\" target=\"_parent\"><img src=\"https://colab.research.google.com/assets/colab-badge.svg\" alt=\"Open In Colab\"/></a>"
      ]
    },
    {
      "cell_type": "code",
      "metadata": {
        "id": "qEsYG8d-XPDk",
        "outputId": "f06051f2-69c4-43fc-aa28-5c44bfb23726",
        "colab": {
          "base_uri": "https://localhost:8080/",
          "height": 34
        }
      },
      "source": [
        "import tensorflow as tf\n",
        "print(tf.__version__)"
      ],
      "execution_count": 1,
      "outputs": [
        {
          "output_type": "stream",
          "text": [
            "2.3.0\n"
          ],
          "name": "stdout"
        }
      ]
    },
    {
      "cell_type": "code",
      "metadata": {
        "id": "0nfaZaNLXUkR"
      },
      "source": [
        "from sklearn.datasets import load_diabetes\n",
        "diabetes_data = load_diabetes()"
      ],
      "execution_count": 2,
      "outputs": []
    },
    {
      "cell_type": "code",
      "metadata": {
        "id": "kpKMlSgKXw0y",
        "outputId": "2f2e0204-f8e1-4e13-91f4-57fc73e0000c",
        "colab": {
          "base_uri": "https://localhost:8080/",
          "height": 34
        }
      },
      "source": [
        "print(diabetes_data.keys())"
      ],
      "execution_count": 3,
      "outputs": [
        {
          "output_type": "stream",
          "text": [
            "dict_keys(['data', 'target', 'DESCR', 'feature_names', 'data_filename', 'target_filename'])\n"
          ],
          "name": "stdout"
        }
      ]
    },
    {
      "cell_type": "code",
      "metadata": {
        "id": "teX7zEdiX9vM",
        "outputId": "c9f5d4d5-6b4a-4742-e47b-2c48117ce1fb",
        "colab": {
          "base_uri": "https://localhost:8080/",
          "height": 677
        }
      },
      "source": [
        "print(diabetes_data['DESCR'])"
      ],
      "execution_count": 4,
      "outputs": [
        {
          "output_type": "stream",
          "text": [
            ".. _diabetes_dataset:\n",
            "\n",
            "Diabetes dataset\n",
            "----------------\n",
            "\n",
            "Ten baseline variables, age, sex, body mass index, average blood\n",
            "pressure, and six blood serum measurements were obtained for each of n =\n",
            "442 diabetes patients, as well as the response of interest, a\n",
            "quantitative measure of disease progression one year after baseline.\n",
            "\n",
            "**Data Set Characteristics:**\n",
            "\n",
            "  :Number of Instances: 442\n",
            "\n",
            "  :Number of Attributes: First 10 columns are numeric predictive values\n",
            "\n",
            "  :Target: Column 11 is a quantitative measure of disease progression one year after baseline\n",
            "\n",
            "  :Attribute Information:\n",
            "      - Age\n",
            "      - Sex\n",
            "      - Body mass index\n",
            "      - Average blood pressure\n",
            "      - S1\n",
            "      - S2\n",
            "      - S3\n",
            "      - S4\n",
            "      - S5\n",
            "      - S6\n",
            "\n",
            "Note: Each of these 10 feature variables have been mean centered and scaled by the standard deviation times `n_samples` (i.e. the sum of squares of each column totals 1).\n",
            "\n",
            "Source URL:\n",
            "https://www4.stat.ncsu.edu/~boos/var.select/diabetes.html\n",
            "\n",
            "For more information see:\n",
            "Bradley Efron, Trevor Hastie, Iain Johnstone and Robert Tibshirani (2004) \"Least Angle Regression,\" Annals of Statistics (with discussion), 407-499.\n",
            "(https://web.stanford.edu/~hastie/Papers/LARS/LeastAngle_2002.pdf)\n"
          ],
          "name": "stdout"
        }
      ]
    },
    {
      "cell_type": "code",
      "metadata": {
        "id": "jLi7IO_XYD7c"
      },
      "source": [
        "data = diabetes_data['data']\n",
        "target = diabetes_data['target']"
      ],
      "execution_count": 5,
      "outputs": []
    },
    {
      "cell_type": "code",
      "metadata": {
        "id": "n5iLvverZTl4",
        "outputId": "db2cde9b-d592-4a22-ade6-310116ce6133",
        "colab": {
          "base_uri": "https://localhost:8080/",
          "height": 1000
        }
      },
      "source": [
        "#target\n",
        "target = (target - target.mean(axis=0))/target.std()\n",
        "target"
      ],
      "execution_count": 6,
      "outputs": [
        {
          "output_type": "execute_result",
          "data": {
            "text/plain": [
              "array([-1.47194752e-02, -1.00165882e+00, -1.44579915e-01,  6.99512942e-01,\n",
              "       -2.22496178e-01, -7.15965848e-01, -1.83538046e-01, -1.15749134e+00,\n",
              "       -5.47147277e-01,  2.05006151e+00, -6.64021672e-01, -1.07957508e+00,\n",
              "        3.48889755e-01,  4.26806019e-01, -4.43258925e-01,  2.45001404e-01,\n",
              "        1.80071184e-01, -1.05621783e-01, -7.15965848e-01,  2.06043272e-01,\n",
              "       -1.09256112e+00, -1.33929596e+00, -1.09256112e+00,  1.20596866e+00,\n",
              "        4.13819975e-01,  6.47568766e-01, -1.96524090e-01, -8.71798376e-01,\n",
              "       -2.74440354e-01,  1.69943833e+00, -3.00412442e-01, -1.20943552e+00,\n",
              "        2.45262887e+00, -8.45826288e-01, -1.13151925e+00, -6.51035629e-01,\n",
              "        1.46568953e+00,  1.60853602e+00,  1.29687096e+00, -8.06868156e-01,\n",
              "       -6.77007716e-01, -1.26137969e+00, -1.18346343e+00, -7.80896068e-01,\n",
              "        1.38777327e+00, -1.28735178e+00,  4.91736239e-01, -1.31593871e-01,\n",
              "       -1.00165882e+00, -1.31593871e-01,  3.72247006e-02,  9.46247777e-01,\n",
              "       -1.20943552e+00, -6.25063541e-01,  3.87847887e-01, -3.13398486e-01,\n",
              "       -1.30033783e+00, -1.49512849e+00,  2.32015360e-01,  2.32015360e-01,\n",
              "       -1.18346343e+00, -1.05621783e-01, -1.30033783e+00, -3.13398486e-01,\n",
              "       -1.05360299e+00,  1.41113052e-01, -2.77055191e-02, -7.15965848e-01,\n",
              "        1.02154920e-01,  3.35903711e-01, -1.35228200e+00,  1.53061975e+00,\n",
              "        6.47568766e-01, -5.34161233e-01, -8.71798376e-01, -1.43019827e+00,\n",
              "        2.32015360e-01,  6.21596678e-01,  1.29687096e+00, -5.08189145e-01,\n",
              "       -1.18607827e-01, -1.31332387e+00, -1.30033783e+00,  7.51457118e-01,\n",
              "       -1.13151925e+00, -1.44579915e-01, -1.26137969e+00, -2.35482222e-01,\n",
              "       -1.43019827e+00, -5.34161233e-01, -7.02979804e-01,  1.54099096e-01,\n",
              "       -1.35228200e+00, -7.28951892e-01, -8.06868156e-01,  1.28127008e-01,\n",
              "       -2.77055191e-02,  1.64749415e+00, -7.80896068e-01, -8.97770464e-01,\n",
              "       -3.13398486e-01, -6.51035629e-01,  1.94617316e+00,  5.95624590e-01,\n",
              "       -7.41937936e-01, -1.28735178e+00, -2.35482222e-01, -1.05621783e-01,\n",
              "        1.03715008e+00, -9.23742551e-01, -6.25063541e-01, -1.20943552e+00,\n",
              "        1.21895470e+00,  1.88124294e+00,  1.37478723e+00,  9.98191953e-01,\n",
              "        1.59554997e+00,  1.67346624e+00,  3.48889755e-01,  6.21596678e-01,\n",
              "        6.21596678e-01,  2.70973492e-01,  3.61875799e-01, -8.84784420e-01,\n",
              "       -4.04300794e-01,  1.15140964e-01, -6.89993760e-01, -5.60133321e-01,\n",
              "       -4.82217057e-01,  1.50464767e+00,  1.58256393e+00,  7.61828325e-02,\n",
              "       -5.86105409e-01, -8.97770464e-01, -6.38049585e-01,  1.55659184e+00,\n",
              "       -8.71798376e-01,  1.66048019e+00,  2.38769865e+00,  1.67346624e+00,\n",
              "       -4.43258925e-01,  2.14096382e+00,  1.07610822e+00, -1.19644947e+00,\n",
              "        2.83959536e-01,  1.38777327e+00,  3.35903711e-01, -3.13398486e-01,\n",
              "       -7.28951892e-01, -3.39370574e-01,  1.76436855e+00, -8.32840244e-01,\n",
              "        1.81631272e+00, -1.05360299e+00,  5.82638546e-01,  4.39792063e-01,\n",
              "       -1.65096101e+00, -8.84784420e-01, -7.28951892e-01,  5.56666458e-01,\n",
              "       -1.28735178e+00,  8.42359425e-01,  2.57987448e-01, -2.74440354e-01,\n",
              "        8.03401293e-01, -1.20943552e+00, -1.06658903e+00,  8.81317557e-01,\n",
              "        1.50464767e+00, -1.73343121e-03, -1.36526805e+00, -1.01464486e+00,\n",
              "        1.85527085e+00, -6.64021672e-01, -1.47194752e-02, -3.26384530e-01,\n",
              "        1.10208030e+00,  9.46247777e-01, -9.23742551e-01, -1.47194752e-02,\n",
              "       -5.86105409e-01, -1.14450530e+00, -1.83538046e-01,  4.26806019e-01,\n",
              "        1.46568953e+00, -6.64021672e-01, -1.96524090e-01, -1.18607827e-01,\n",
              "       -1.44579915e-01, -9.49714639e-01,  1.81631272e+00,  3.35903711e-01,\n",
              "       -7.93882112e-01, -4.69231013e-01, -8.58812332e-01, -3.91314750e-01,\n",
              "       -1.04061695e+00, -3.00412442e-01, -1.31593871e-01, -8.06868156e-01,\n",
              "        7.61828325e-02, -1.46915640e+00,  5.69652502e-01,  9.07289645e-01,\n",
              "        1.62152206e+00, -6.89993760e-01,  5.69652502e-01,  6.47568766e-01,\n",
              "        3.72247006e-02, -9.75686727e-01,  5.04722283e-01, -1.06658903e+00,\n",
              "       -1.02763090e+00, -1.33929596e+00, -1.13151925e+00,  1.43971745e+00,\n",
              "        1.24492679e+00,  1.86825690e+00,  8.03401293e-01,  4.26806019e-01,\n",
              "       -9.62700683e-01, -7.67910024e-01,  1.29687096e+00, -2.77055191e-02,\n",
              "       -9.75686727e-01,  7.25485030e-01, -9.75686727e-01, -5.73119365e-01,\n",
              "        1.02154920e-01, -1.28735178e+00,  8.81317557e-01,  2.42386567e-02,\n",
              "        1.38777327e+00, -8.06868156e-01,  1.21895470e+00, -3.65342662e-01,\n",
              "       -1.10554717e+00, -1.04061695e+00,  1.36180118e+00,  1.42673140e+00,\n",
              "        1.59554997e+00,  3.22917667e-01, -1.05360299e+00, -1.36526805e+00,\n",
              "        4.52778107e-01, -3.52356618e-01, -9.62700683e-01, -1.31332387e+00,\n",
              "        1.37478723e+00,  8.16387337e-01,  1.95915920e+00,  1.17999657e+00,\n",
              "       -7.93882112e-01, -2.77055191e-02,  2.05006151e+00,  1.12526127e-02,\n",
              "        2.51755909e+00, -1.15749134e+00, -8.19854200e-01, -1.32630991e+00,\n",
              "       -1.46915640e+00, -6.38049585e-01,  2.02408942e+00, -4.69231013e-01,\n",
              "       -9.26357388e-02, -1.01464486e+00, -1.39124013e+00, -4.82217057e-01,\n",
              "        1.45270349e+00, -8.45826288e-01,  6.47568766e-01, -3.26384530e-01,\n",
              "        3.87847887e-01,  1.15402448e+00, -1.11853321e+00, -7.54923980e-01,\n",
              "        1.69943833e+00, -1.14450530e+00, -6.51035629e-01,  6.21596678e-01,\n",
              "        1.46568953e+00, -7.54923980e-01,  1.01117800e+00,  3.74861843e-01,\n",
              "        5.02107446e-02,  1.05013613e+00, -1.19644947e+00,  8.68331513e-01,\n",
              "       -9.36728595e-01, -1.09256112e+00,  2.33575448e+00,  1.24492679e+00,\n",
              "       -8.84784420e-01,  6.21596678e-01, -1.26137969e+00, -8.71798376e-01,\n",
              "       -8.19854200e-01, -1.57304475e+00, -3.00412442e-01, -8.97770464e-01,\n",
              "        1.59554997e+00, -1.13151925e+00,  5.95624590e-01,  1.08909426e+00,\n",
              "        1.30985701e+00, -3.65342662e-01, -1.40422618e+00,  2.57987448e-01,\n",
              "       -4.95203101e-01, -1.31593871e-01, -5.60133321e-01,  3.61875799e-01,\n",
              "       -1.05621783e-01,  1.41113052e-01, -6.66636509e-02, -7.15965848e-01,\n",
              "        8.81317557e-01,  4.91736239e-01, -5.60133321e-01,  5.04722283e-01,\n",
              "       -3.91314750e-01,  1.01117800e+00,  1.16701052e+00,  1.24492679e+00,\n",
              "        1.25791283e+00,  5.17708327e-01, -2.74440354e-01,  1.10208030e+00,\n",
              "       -9.62700683e-01, -2.22496178e-01,  1.19298261e+00,  6.08610634e-01,\n",
              "        1.53061975e+00,  1.54099096e-01, -1.04061695e+00, -7.28951892e-01,\n",
              "        1.99811734e+00, -7.93882112e-01,  8.03401293e-01, -7.41937936e-01,\n",
              "        8.29373381e-01,  1.43971745e+00,  3.35903711e-01, -5.08189145e-01,\n",
              "        6.21596678e-01, -1.70552003e-01, -1.70552003e-01, -8.32840244e-01,\n",
              "       -5.36776070e-02, -8.32840244e-01,  1.17999657e+00, -1.05360299e+00,\n",
              "       -9.75686727e-01, -5.60133321e-01,  1.55659184e+00, -1.19644947e+00,\n",
              "       -1.27436574e+00,  8.94303601e-01, -8.06868156e-01,  2.06304756e+00,\n",
              "        1.67346624e+00,  3.87847887e-01,  2.19290800e+00, -1.22242156e+00,\n",
              "        1.42673140e+00,  6.99512942e-01,  1.05013613e+00,  1.16701052e+00,\n",
              "       -3.78328706e-01,  1.93057228e-01, -1.15749134e+00,  5.82638546e-01,\n",
              "       -1.05360299e+00,  2.06043272e-01, -1.57565959e-01,  8.42359425e-01,\n",
              "       -4.04300794e-01,  1.07610822e+00,  1.20596866e+00, -1.45617035e+00,\n",
              "       -1.30033783e+00, -6.25063541e-01, -2.61454310e-01, -8.32840244e-01,\n",
              "       -1.07957508e+00,  8.68331513e-01, -1.04061695e+00,  6.34582722e-01,\n",
              "       -5.47147277e-01, -1.31332387e+00,  1.62152206e+00, -1.15749134e+00,\n",
              "       -4.43258925e-01, -1.07957508e+00,  1.56957789e+00,  1.37478723e+00,\n",
              "       -1.41721222e+00,  5.95624590e-01,  1.16701052e+00,  1.03715008e+00,\n",
              "        2.96945580e-01, -7.67910024e-01,  2.06043272e-01,  1.59554997e+00,\n",
              "        1.82929877e+00,  1.67346624e+00, -1.04061695e+00, -1.57565959e-01,\n",
              "        4.78750195e-01,  3.74861843e-01,  7.38471074e-01, -2.09510134e-01,\n",
              "        1.41374536e+00, -5.08189145e-01, -2.74440354e-01,  2.83959536e-01,\n",
              "        1.36180118e+00, -1.26137969e+00, -8.84784420e-01, -1.43019827e+00,\n",
              "       -7.96496949e-02,  7.77429206e-01,  1.05013613e+00, -7.93882112e-01,\n",
              "       -5.34161233e-01, -1.73343121e-03, -4.17286837e-01, -1.10554717e+00,\n",
              "        2.05006151e+00, -7.54923980e-01,  4.00833931e-01, -1.11853321e+00,\n",
              "        2.70973492e-01, -1.04061695e+00, -1.33929596e+00, -1.14450530e+00,\n",
              "       -1.35228200e+00,  3.35903711e-01, -6.25063541e-01, -2.61454310e-01,\n",
              "        8.81317557e-01, -1.23540761e+00])"
            ]
          },
          "metadata": {
            "tags": []
          },
          "execution_count": 6
        }
      ]
    },
    {
      "cell_type": "code",
      "metadata": {
        "id": "L__c5TzDZWJI",
        "outputId": "f580b727-790d-4066-8015-6306291f894b",
        "colab": {
          "base_uri": "https://localhost:8080/",
          "height": 243
        }
      },
      "source": [
        "data"
      ],
      "execution_count": 7,
      "outputs": [
        {
          "output_type": "execute_result",
          "data": {
            "text/plain": [
              "array([[ 0.03807591,  0.05068012,  0.06169621, ..., -0.00259226,\n",
              "         0.01990842, -0.01764613],\n",
              "       [-0.00188202, -0.04464164, -0.05147406, ..., -0.03949338,\n",
              "        -0.06832974, -0.09220405],\n",
              "       [ 0.08529891,  0.05068012,  0.04445121, ..., -0.00259226,\n",
              "         0.00286377, -0.02593034],\n",
              "       ...,\n",
              "       [ 0.04170844,  0.05068012, -0.01590626, ..., -0.01107952,\n",
              "        -0.04687948,  0.01549073],\n",
              "       [-0.04547248, -0.04464164,  0.03906215, ...,  0.02655962,\n",
              "         0.04452837, -0.02593034],\n",
              "       [-0.04547248, -0.04464164, -0.0730303 , ..., -0.03949338,\n",
              "        -0.00421986,  0.00306441]])"
            ]
          },
          "metadata": {
            "tags": []
          },
          "execution_count": 7
        }
      ]
    },
    {
      "cell_type": "code",
      "metadata": {
        "id": "MOlv-5AlZ86K",
        "outputId": "4e7141eb-a2fa-423d-9194-31abb5e71542",
        "colab": {
          "base_uri": "https://localhost:8080/",
          "height": 86
        }
      },
      "source": [
        "from sklearn.model_selection import train_test_split\n",
        "\n",
        "train_data, test_data, train_targets, test_targets = train_test_split(data, target, test_size=0.1, random_state=1)\n",
        "\n",
        "print(train_data.shape)\n",
        "print(test_data.shape)\n",
        "print(train_targets.shape)\n",
        "print(test_targets.shape)\n"
      ],
      "execution_count": 8,
      "outputs": [
        {
          "output_type": "stream",
          "text": [
            "(397, 10)\n",
            "(45, 10)\n",
            "(397,)\n",
            "(45,)\n"
          ],
          "name": "stdout"
        }
      ]
    },
    {
      "cell_type": "code",
      "metadata": {
        "id": "PbSYVUhncoyY"
      },
      "source": [
        "from tensorflow.keras.models import Sequential\n",
        "from tensorflow.keras.layers import Dense"
      ],
      "execution_count": 9,
      "outputs": []
    },
    {
      "cell_type": "code",
      "metadata": {
        "id": "QWtXITZObsm9"
      },
      "source": [
        "def get_model(input_shape):\n",
        "  model = Sequential([\n",
        "                      Dense(128, activation='relu', input_shape=input_shape),\n",
        "                      Dense(128, activation='relu'),\n",
        "                      Dense(128, activation='relu'),\n",
        "                      Dense(128, activation='relu'),\n",
        "                      Dense(128, activation='relu'),\n",
        "                      Dense(128, activation='relu'),\n",
        "                      Dense(1)\n",
        "  ])\n",
        "  return model"
      ],
      "execution_count": 10,
      "outputs": []
    },
    {
      "cell_type": "code",
      "metadata": {
        "id": "cRlQnEuTdojk"
      },
      "source": [
        "model = get_model((train_data.shape[1],))"
      ],
      "execution_count": 11,
      "outputs": []
    },
    {
      "cell_type": "code",
      "metadata": {
        "id": "CZTYhcc0eAFf",
        "outputId": "4263b252-0221-4c29-fa49-ecbcde84e408",
        "colab": {
          "base_uri": "https://localhost:8080/",
          "height": 399
        }
      },
      "source": [
        "model.summary()"
      ],
      "execution_count": 12,
      "outputs": [
        {
          "output_type": "stream",
          "text": [
            "Model: \"sequential\"\n",
            "_________________________________________________________________\n",
            "Layer (type)                 Output Shape              Param #   \n",
            "=================================================================\n",
            "dense (Dense)                (None, 128)               1408      \n",
            "_________________________________________________________________\n",
            "dense_1 (Dense)              (None, 128)               16512     \n",
            "_________________________________________________________________\n",
            "dense_2 (Dense)              (None, 128)               16512     \n",
            "_________________________________________________________________\n",
            "dense_3 (Dense)              (None, 128)               16512     \n",
            "_________________________________________________________________\n",
            "dense_4 (Dense)              (None, 128)               16512     \n",
            "_________________________________________________________________\n",
            "dense_5 (Dense)              (None, 128)               16512     \n",
            "_________________________________________________________________\n",
            "dense_6 (Dense)              (None, 1)                 129       \n",
            "=================================================================\n",
            "Total params: 84,097\n",
            "Trainable params: 84,097\n",
            "Non-trainable params: 0\n",
            "_________________________________________________________________\n"
          ],
          "name": "stdout"
        }
      ]
    },
    {
      "cell_type": "code",
      "metadata": {
        "id": "Y9UH2Lwpdz9k"
      },
      "source": [
        "model.compile(optimizer='adam', loss='mse', metrics=['mae'])"
      ],
      "execution_count": 13,
      "outputs": []
    },
    {
      "cell_type": "code",
      "metadata": {
        "id": "k2tN3JWRfaUa",
        "outputId": "cda61a6c-ba2c-4902-d4b8-6534d2cf9062",
        "colab": {
          "base_uri": "https://localhost:8080/",
          "height": 52
        }
      },
      "source": [
        "#print(model.weights)\n",
        "print('input shape = ',model.input_shape)\n",
        "print('metrics = ', model.metrics_names)"
      ],
      "execution_count": 14,
      "outputs": [
        {
          "output_type": "stream",
          "text": [
            "input shape =  (None, 10)\n",
            "metrics =  []\n"
          ],
          "name": "stdout"
        }
      ]
    },
    {
      "cell_type": "code",
      "metadata": {
        "id": "jNKdQ7OcfJpG",
        "outputId": "748ba08f-bb6b-4fa2-909d-a50c9d1319cb",
        "colab": {
          "base_uri": "https://localhost:8080/",
          "height": 69
        }
      },
      "source": [
        "loss, mae = model.evaluate(train_data, train_targets)\n",
        "print('loss= ', loss)\n",
        "print('mae= ', mae)"
      ],
      "execution_count": 15,
      "outputs": [
        {
          "output_type": "stream",
          "text": [
            "13/13 [==============================] - 0s 2ms/step - loss: 1.0202 - mae: 0.8669\n",
            "loss=  1.0201770067214966\n",
            "mae=  0.8669217824935913\n"
          ],
          "name": "stdout"
        }
      ]
    },
    {
      "cell_type": "code",
      "metadata": {
        "id": "BcbOqJNOfwjT",
        "outputId": "760a467e-251c-4135-f469-2b164e39c5dc",
        "colab": {
          "base_uri": "https://localhost:8080/",
          "height": 1000
        }
      },
      "source": [
        "history = model.fit(train_data, train_targets, epochs=100, validation_split=0.15, batch_size=64, verbose=1)"
      ],
      "execution_count": 16,
      "outputs": [
        {
          "output_type": "stream",
          "text": [
            "Epoch 1/100\n",
            "6/6 [==============================] - 0s 10ms/step - loss: 0.9943 - mae: 0.8559 - val_loss: 1.0800 - val_mae: 0.8860\n",
            "Epoch 2/100\n",
            "6/6 [==============================] - 0s 4ms/step - loss: 0.9210 - mae: 0.8218 - val_loss: 0.9521 - val_mae: 0.8262\n",
            "Epoch 3/100\n",
            "6/6 [==============================] - 0s 5ms/step - loss: 0.7284 - mae: 0.7178 - val_loss: 0.7690 - val_mae: 0.7080\n",
            "Epoch 4/100\n",
            "6/6 [==============================] - 0s 5ms/step - loss: 0.5652 - mae: 0.6092 - val_loss: 0.5628 - val_mae: 0.5786\n",
            "Epoch 5/100\n",
            "6/6 [==============================] - 0s 5ms/step - loss: 0.4638 - mae: 0.5458 - val_loss: 0.6971 - val_mae: 0.6675\n",
            "Epoch 6/100\n",
            "6/6 [==============================] - 0s 5ms/step - loss: 0.4736 - mae: 0.5634 - val_loss: 0.5277 - val_mae: 0.5848\n",
            "Epoch 7/100\n",
            "6/6 [==============================] - 0s 5ms/step - loss: 0.4712 - mae: 0.5460 - val_loss: 0.4857 - val_mae: 0.5505\n",
            "Epoch 8/100\n",
            "6/6 [==============================] - 0s 5ms/step - loss: 0.4360 - mae: 0.5367 - val_loss: 0.6836 - val_mae: 0.6670\n",
            "Epoch 9/100\n",
            "6/6 [==============================] - 0s 5ms/step - loss: 0.4799 - mae: 0.5460 - val_loss: 0.5076 - val_mae: 0.5787\n",
            "Epoch 10/100\n",
            "6/6 [==============================] - 0s 5ms/step - loss: 0.4534 - mae: 0.5540 - val_loss: 0.6033 - val_mae: 0.6267\n",
            "Epoch 11/100\n",
            "6/6 [==============================] - 0s 5ms/step - loss: 0.4548 - mae: 0.5292 - val_loss: 0.5127 - val_mae: 0.5717\n",
            "Epoch 12/100\n",
            "6/6 [==============================] - 0s 5ms/step - loss: 0.4171 - mae: 0.5276 - val_loss: 0.5365 - val_mae: 0.5918\n",
            "Epoch 13/100\n",
            "6/6 [==============================] - 0s 5ms/step - loss: 0.3978 - mae: 0.5104 - val_loss: 0.5111 - val_mae: 0.5799\n",
            "Epoch 14/100\n",
            "6/6 [==============================] - 0s 6ms/step - loss: 0.3934 - mae: 0.5113 - val_loss: 0.5431 - val_mae: 0.6014\n",
            "Epoch 15/100\n",
            "6/6 [==============================] - 0s 6ms/step - loss: 0.3848 - mae: 0.4971 - val_loss: 0.5444 - val_mae: 0.5983\n",
            "Epoch 16/100\n",
            "6/6 [==============================] - 0s 5ms/step - loss: 0.3795 - mae: 0.4902 - val_loss: 0.5487 - val_mae: 0.5991\n",
            "Epoch 17/100\n",
            "6/6 [==============================] - 0s 5ms/step - loss: 0.3709 - mae: 0.4825 - val_loss: 0.5406 - val_mae: 0.5891\n",
            "Epoch 18/100\n",
            "6/6 [==============================] - 0s 5ms/step - loss: 0.3625 - mae: 0.4761 - val_loss: 0.5336 - val_mae: 0.5901\n",
            "Epoch 19/100\n",
            "6/6 [==============================] - 0s 5ms/step - loss: 0.3560 - mae: 0.4790 - val_loss: 0.6836 - val_mae: 0.6799\n",
            "Epoch 20/100\n",
            "6/6 [==============================] - 0s 6ms/step - loss: 0.3920 - mae: 0.4889 - val_loss: 0.5174 - val_mae: 0.5790\n",
            "Epoch 21/100\n",
            "6/6 [==============================] - 0s 5ms/step - loss: 0.3518 - mae: 0.4756 - val_loss: 0.5539 - val_mae: 0.6112\n",
            "Epoch 22/100\n",
            "6/6 [==============================] - 0s 6ms/step - loss: 0.3543 - mae: 0.4786 - val_loss: 0.5915 - val_mae: 0.6246\n",
            "Epoch 23/100\n",
            "6/6 [==============================] - 0s 5ms/step - loss: 0.3444 - mae: 0.4583 - val_loss: 0.5557 - val_mae: 0.6020\n",
            "Epoch 24/100\n",
            "6/6 [==============================] - 0s 5ms/step - loss: 0.3304 - mae: 0.4558 - val_loss: 0.6683 - val_mae: 0.6698\n",
            "Epoch 25/100\n",
            "6/6 [==============================] - 0s 6ms/step - loss: 0.3290 - mae: 0.4472 - val_loss: 0.5622 - val_mae: 0.6075\n",
            "Epoch 26/100\n",
            "6/6 [==============================] - 0s 5ms/step - loss: 0.3079 - mae: 0.4353 - val_loss: 0.6451 - val_mae: 0.6518\n",
            "Epoch 27/100\n",
            "6/6 [==============================] - 0s 5ms/step - loss: 0.3236 - mae: 0.4479 - val_loss: 0.5673 - val_mae: 0.6092\n",
            "Epoch 28/100\n",
            "6/6 [==============================] - 0s 5ms/step - loss: 0.3209 - mae: 0.4436 - val_loss: 0.5826 - val_mae: 0.6172\n",
            "Epoch 29/100\n",
            "6/6 [==============================] - 0s 5ms/step - loss: 0.3235 - mae: 0.4506 - val_loss: 0.6803 - val_mae: 0.6739\n",
            "Epoch 30/100\n",
            "6/6 [==============================] - 0s 5ms/step - loss: 0.3206 - mae: 0.4440 - val_loss: 0.6124 - val_mae: 0.6372\n",
            "Epoch 31/100\n",
            "6/6 [==============================] - 0s 5ms/step - loss: 0.3005 - mae: 0.4294 - val_loss: 0.5977 - val_mae: 0.6263\n",
            "Epoch 32/100\n",
            "6/6 [==============================] - 0s 6ms/step - loss: 0.2971 - mae: 0.4328 - val_loss: 0.6955 - val_mae: 0.6863\n",
            "Epoch 33/100\n",
            "6/6 [==============================] - 0s 5ms/step - loss: 0.2982 - mae: 0.4260 - val_loss: 0.5919 - val_mae: 0.6376\n",
            "Epoch 34/100\n",
            "6/6 [==============================] - 0s 5ms/step - loss: 0.2757 - mae: 0.4065 - val_loss: 0.6437 - val_mae: 0.6512\n",
            "Epoch 35/100\n",
            "6/6 [==============================] - 0s 5ms/step - loss: 0.2523 - mae: 0.3893 - val_loss: 0.6210 - val_mae: 0.6466\n",
            "Epoch 36/100\n",
            "6/6 [==============================] - 0s 5ms/step - loss: 0.2570 - mae: 0.3916 - val_loss: 0.7153 - val_mae: 0.6880\n",
            "Epoch 37/100\n",
            "6/6 [==============================] - 0s 5ms/step - loss: 0.2644 - mae: 0.3890 - val_loss: 0.6488 - val_mae: 0.6584\n",
            "Epoch 38/100\n",
            "6/6 [==============================] - 0s 5ms/step - loss: 0.2364 - mae: 0.3759 - val_loss: 0.6580 - val_mae: 0.6631\n",
            "Epoch 39/100\n",
            "6/6 [==============================] - 0s 5ms/step - loss: 0.2239 - mae: 0.3637 - val_loss: 0.7196 - val_mae: 0.6950\n",
            "Epoch 40/100\n",
            "6/6 [==============================] - 0s 5ms/step - loss: 0.2218 - mae: 0.3631 - val_loss: 0.6912 - val_mae: 0.6723\n",
            "Epoch 41/100\n",
            "6/6 [==============================] - 0s 5ms/step - loss: 0.2090 - mae: 0.3477 - val_loss: 0.7047 - val_mae: 0.6804\n",
            "Epoch 42/100\n",
            "6/6 [==============================] - 0s 5ms/step - loss: 0.2153 - mae: 0.3669 - val_loss: 0.6972 - val_mae: 0.6772\n",
            "Epoch 43/100\n",
            "6/6 [==============================] - 0s 6ms/step - loss: 0.2059 - mae: 0.3514 - val_loss: 0.7135 - val_mae: 0.6882\n",
            "Epoch 44/100\n",
            "6/6 [==============================] - 0s 5ms/step - loss: 0.1990 - mae: 0.3440 - val_loss: 0.7474 - val_mae: 0.7048\n",
            "Epoch 45/100\n",
            "6/6 [==============================] - 0s 5ms/step - loss: 0.1764 - mae: 0.3204 - val_loss: 0.7567 - val_mae: 0.7009\n",
            "Epoch 46/100\n",
            "6/6 [==============================] - 0s 5ms/step - loss: 0.1724 - mae: 0.3193 - val_loss: 0.7616 - val_mae: 0.7103\n",
            "Epoch 47/100\n",
            "6/6 [==============================] - 0s 6ms/step - loss: 0.1564 - mae: 0.3000 - val_loss: 0.7842 - val_mae: 0.7072\n",
            "Epoch 48/100\n",
            "6/6 [==============================] - 0s 5ms/step - loss: 0.1829 - mae: 0.3329 - val_loss: 0.7938 - val_mae: 0.7290\n",
            "Epoch 49/100\n",
            "6/6 [==============================] - 0s 5ms/step - loss: 0.1884 - mae: 0.3331 - val_loss: 0.7624 - val_mae: 0.7052\n",
            "Epoch 50/100\n",
            "6/6 [==============================] - 0s 5ms/step - loss: 0.1523 - mae: 0.3024 - val_loss: 0.7760 - val_mae: 0.7046\n",
            "Epoch 51/100\n",
            "6/6 [==============================] - 0s 6ms/step - loss: 0.1679 - mae: 0.3229 - val_loss: 0.8370 - val_mae: 0.7467\n",
            "Epoch 52/100\n",
            "6/6 [==============================] - 0s 5ms/step - loss: 0.1566 - mae: 0.3059 - val_loss: 0.8430 - val_mae: 0.7431\n",
            "Epoch 53/100\n",
            "6/6 [==============================] - 0s 5ms/step - loss: 0.1517 - mae: 0.3059 - val_loss: 0.8101 - val_mae: 0.7203\n",
            "Epoch 54/100\n",
            "6/6 [==============================] - 0s 5ms/step - loss: 0.1369 - mae: 0.2845 - val_loss: 0.7611 - val_mae: 0.7118\n",
            "Epoch 55/100\n",
            "6/6 [==============================] - 0s 5ms/step - loss: 0.1476 - mae: 0.3071 - val_loss: 0.7865 - val_mae: 0.7126\n",
            "Epoch 56/100\n",
            "6/6 [==============================] - 0s 5ms/step - loss: 0.1545 - mae: 0.2980 - val_loss: 0.7764 - val_mae: 0.7199\n",
            "Epoch 57/100\n",
            "6/6 [==============================] - 0s 5ms/step - loss: 0.1290 - mae: 0.2831 - val_loss: 0.8925 - val_mae: 0.7661\n",
            "Epoch 58/100\n",
            "6/6 [==============================] - 0s 6ms/step - loss: 0.1471 - mae: 0.2972 - val_loss: 0.8595 - val_mae: 0.7709\n",
            "Epoch 59/100\n",
            "6/6 [==============================] - 0s 5ms/step - loss: 0.1597 - mae: 0.3170 - val_loss: 0.7826 - val_mae: 0.7039\n",
            "Epoch 60/100\n",
            "6/6 [==============================] - 0s 5ms/step - loss: 0.1526 - mae: 0.3004 - val_loss: 0.7263 - val_mae: 0.7077\n",
            "Epoch 61/100\n",
            "6/6 [==============================] - 0s 5ms/step - loss: 0.1126 - mae: 0.2660 - val_loss: 0.7858 - val_mae: 0.7229\n",
            "Epoch 62/100\n",
            "6/6 [==============================] - 0s 5ms/step - loss: 0.0882 - mae: 0.2222 - val_loss: 0.8766 - val_mae: 0.7490\n",
            "Epoch 63/100\n",
            "6/6 [==============================] - 0s 5ms/step - loss: 0.1006 - mae: 0.2492 - val_loss: 0.8600 - val_mae: 0.7593\n",
            "Epoch 64/100\n",
            "6/6 [==============================] - 0s 5ms/step - loss: 0.0959 - mae: 0.2376 - val_loss: 0.8183 - val_mae: 0.7317\n",
            "Epoch 65/100\n",
            "6/6 [==============================] - 0s 6ms/step - loss: 0.0928 - mae: 0.2379 - val_loss: 0.8168 - val_mae: 0.7405\n",
            "Epoch 66/100\n",
            "6/6 [==============================] - 0s 5ms/step - loss: 0.0858 - mae: 0.2304 - val_loss: 0.8571 - val_mae: 0.7528\n",
            "Epoch 67/100\n",
            "6/6 [==============================] - 0s 5ms/step - loss: 0.0761 - mae: 0.2052 - val_loss: 0.8923 - val_mae: 0.7871\n",
            "Epoch 68/100\n",
            "6/6 [==============================] - 0s 5ms/step - loss: 0.0767 - mae: 0.2131 - val_loss: 0.9377 - val_mae: 0.7802\n",
            "Epoch 69/100\n",
            "6/6 [==============================] - 0s 6ms/step - loss: 0.0844 - mae: 0.2262 - val_loss: 0.9050 - val_mae: 0.7886\n",
            "Epoch 70/100\n",
            "6/6 [==============================] - 0s 6ms/step - loss: 0.0855 - mae: 0.2279 - val_loss: 0.9150 - val_mae: 0.7731\n",
            "Epoch 71/100\n",
            "6/6 [==============================] - 0s 5ms/step - loss: 0.1010 - mae: 0.2469 - val_loss: 0.7952 - val_mae: 0.7548\n",
            "Epoch 72/100\n",
            "6/6 [==============================] - 0s 5ms/step - loss: 0.0819 - mae: 0.2198 - val_loss: 0.8584 - val_mae: 0.7548\n",
            "Epoch 73/100\n",
            "6/6 [==============================] - 0s 5ms/step - loss: 0.0680 - mae: 0.2016 - val_loss: 0.8371 - val_mae: 0.7592\n",
            "Epoch 74/100\n",
            "6/6 [==============================] - 0s 5ms/step - loss: 0.0587 - mae: 0.1870 - val_loss: 0.8152 - val_mae: 0.7365\n",
            "Epoch 75/100\n",
            "6/6 [==============================] - 0s 6ms/step - loss: 0.0564 - mae: 0.1839 - val_loss: 0.8719 - val_mae: 0.7784\n",
            "Epoch 76/100\n",
            "6/6 [==============================] - 0s 5ms/step - loss: 0.0559 - mae: 0.1808 - val_loss: 0.8934 - val_mae: 0.7759\n",
            "Epoch 77/100\n",
            "6/6 [==============================] - 0s 6ms/step - loss: 0.0552 - mae: 0.1748 - val_loss: 0.8730 - val_mae: 0.7779\n",
            "Epoch 78/100\n",
            "6/6 [==============================] - 0s 5ms/step - loss: 0.0462 - mae: 0.1625 - val_loss: 0.8770 - val_mae: 0.7711\n",
            "Epoch 79/100\n",
            "6/6 [==============================] - 0s 5ms/step - loss: 0.0453 - mae: 0.1592 - val_loss: 0.9226 - val_mae: 0.7894\n",
            "Epoch 80/100\n",
            "6/6 [==============================] - 0s 5ms/step - loss: 0.0443 - mae: 0.1546 - val_loss: 0.9241 - val_mae: 0.8021\n",
            "Epoch 81/100\n",
            "6/6 [==============================] - 0s 5ms/step - loss: 0.0466 - mae: 0.1668 - val_loss: 0.9026 - val_mae: 0.7725\n",
            "Epoch 82/100\n",
            "6/6 [==============================] - 0s 5ms/step - loss: 0.0459 - mae: 0.1609 - val_loss: 0.8782 - val_mae: 0.7710\n",
            "Epoch 83/100\n",
            "6/6 [==============================] - 0s 5ms/step - loss: 0.0440 - mae: 0.1559 - val_loss: 0.9011 - val_mae: 0.7732\n",
            "Epoch 84/100\n",
            "6/6 [==============================] - 0s 5ms/step - loss: 0.0699 - mae: 0.2112 - val_loss: 0.8884 - val_mae: 0.7702\n",
            "Epoch 85/100\n",
            "6/6 [==============================] - 0s 5ms/step - loss: 0.0738 - mae: 0.2105 - val_loss: 0.8239 - val_mae: 0.7553\n",
            "Epoch 86/100\n",
            "6/6 [==============================] - 0s 5ms/step - loss: 0.0656 - mae: 0.2015 - val_loss: 0.8333 - val_mae: 0.7592\n",
            "Epoch 87/100\n",
            "6/6 [==============================] - 0s 5ms/step - loss: 0.0585 - mae: 0.1858 - val_loss: 0.8272 - val_mae: 0.7401\n",
            "Epoch 88/100\n",
            "6/6 [==============================] - 0s 5ms/step - loss: 0.0636 - mae: 0.1984 - val_loss: 0.8688 - val_mae: 0.7556\n",
            "Epoch 89/100\n",
            "6/6 [==============================] - 0s 5ms/step - loss: 0.0605 - mae: 0.1864 - val_loss: 0.8864 - val_mae: 0.7814\n",
            "Epoch 90/100\n",
            "6/6 [==============================] - 0s 5ms/step - loss: 0.0524 - mae: 0.1713 - val_loss: 0.8457 - val_mae: 0.7602\n",
            "Epoch 91/100\n",
            "6/6 [==============================] - 0s 5ms/step - loss: 0.0593 - mae: 0.1914 - val_loss: 0.8601 - val_mae: 0.7635\n",
            "Epoch 92/100\n",
            "6/6 [==============================] - 0s 5ms/step - loss: 0.0572 - mae: 0.1888 - val_loss: 0.7952 - val_mae: 0.7343\n",
            "Epoch 93/100\n",
            "6/6 [==============================] - 0s 5ms/step - loss: 0.0533 - mae: 0.1807 - val_loss: 0.8343 - val_mae: 0.7580\n",
            "Epoch 94/100\n",
            "6/6 [==============================] - 0s 6ms/step - loss: 0.0504 - mae: 0.1777 - val_loss: 0.8667 - val_mae: 0.7723\n",
            "Epoch 95/100\n",
            "6/6 [==============================] - 0s 6ms/step - loss: 0.0340 - mae: 0.1371 - val_loss: 0.8872 - val_mae: 0.7850\n",
            "Epoch 96/100\n",
            "6/6 [==============================] - 0s 5ms/step - loss: 0.0317 - mae: 0.1253 - val_loss: 0.8984 - val_mae: 0.7909\n",
            "Epoch 97/100\n",
            "6/6 [==============================] - 0s 5ms/step - loss: 0.0297 - mae: 0.1229 - val_loss: 0.9086 - val_mae: 0.7830\n",
            "Epoch 98/100\n",
            "6/6 [==============================] - 0s 5ms/step - loss: 0.0285 - mae: 0.1214 - val_loss: 0.8743 - val_mae: 0.7862\n",
            "Epoch 99/100\n",
            "6/6 [==============================] - 0s 6ms/step - loss: 0.0281 - mae: 0.1185 - val_loss: 0.8832 - val_mae: 0.7722\n",
            "Epoch 100/100\n",
            "6/6 [==============================] - 0s 5ms/step - loss: 0.0281 - mae: 0.1193 - val_loss: 0.8642 - val_mae: 0.7829\n"
          ],
          "name": "stdout"
        }
      ]
    },
    {
      "cell_type": "code",
      "metadata": {
        "id": "Al-3DC67hB6v"
      },
      "source": [
        "import pandas as pd\n",
        "import matplotlib.pyplot as plt\n",
        "%matplotlib inline"
      ],
      "execution_count": 17,
      "outputs": []
    },
    {
      "cell_type": "code",
      "metadata": {
        "id": "t9OdE75jhMLf"
      },
      "source": [
        "df = pd.DataFrame(history.history)"
      ],
      "execution_count": 18,
      "outputs": []
    },
    {
      "cell_type": "code",
      "metadata": {
        "id": "8juUlRGxiFJL",
        "outputId": "6cbb6997-1ecb-4fd4-aeb5-61cb4d00d860",
        "colab": {
          "base_uri": "https://localhost:8080/",
          "height": 206
        }
      },
      "source": [
        "df.head()"
      ],
      "execution_count": 19,
      "outputs": [
        {
          "output_type": "execute_result",
          "data": {
            "text/html": [
              "<div>\n",
              "<style scoped>\n",
              "    .dataframe tbody tr th:only-of-type {\n",
              "        vertical-align: middle;\n",
              "    }\n",
              "\n",
              "    .dataframe tbody tr th {\n",
              "        vertical-align: top;\n",
              "    }\n",
              "\n",
              "    .dataframe thead th {\n",
              "        text-align: right;\n",
              "    }\n",
              "</style>\n",
              "<table border=\"1\" class=\"dataframe\">\n",
              "  <thead>\n",
              "    <tr style=\"text-align: right;\">\n",
              "      <th></th>\n",
              "      <th>loss</th>\n",
              "      <th>mae</th>\n",
              "      <th>val_loss</th>\n",
              "      <th>val_mae</th>\n",
              "    </tr>\n",
              "  </thead>\n",
              "  <tbody>\n",
              "    <tr>\n",
              "      <th>0</th>\n",
              "      <td>0.994319</td>\n",
              "      <td>0.855866</td>\n",
              "      <td>1.080034</td>\n",
              "      <td>0.886040</td>\n",
              "    </tr>\n",
              "    <tr>\n",
              "      <th>1</th>\n",
              "      <td>0.920954</td>\n",
              "      <td>0.821849</td>\n",
              "      <td>0.952104</td>\n",
              "      <td>0.826162</td>\n",
              "    </tr>\n",
              "    <tr>\n",
              "      <th>2</th>\n",
              "      <td>0.728357</td>\n",
              "      <td>0.717776</td>\n",
              "      <td>0.769030</td>\n",
              "      <td>0.708048</td>\n",
              "    </tr>\n",
              "    <tr>\n",
              "      <th>3</th>\n",
              "      <td>0.565152</td>\n",
              "      <td>0.609226</td>\n",
              "      <td>0.562806</td>\n",
              "      <td>0.578550</td>\n",
              "    </tr>\n",
              "    <tr>\n",
              "      <th>4</th>\n",
              "      <td>0.463760</td>\n",
              "      <td>0.545794</td>\n",
              "      <td>0.697087</td>\n",
              "      <td>0.667536</td>\n",
              "    </tr>\n",
              "  </tbody>\n",
              "</table>\n",
              "</div>"
            ],
            "text/plain": [
              "       loss       mae  val_loss   val_mae\n",
              "0  0.994319  0.855866  1.080034  0.886040\n",
              "1  0.920954  0.821849  0.952104  0.826162\n",
              "2  0.728357  0.717776  0.769030  0.708048\n",
              "3  0.565152  0.609226  0.562806  0.578550\n",
              "4  0.463760  0.545794  0.697087  0.667536"
            ]
          },
          "metadata": {
            "tags": []
          },
          "execution_count": 19
        }
      ]
    },
    {
      "cell_type": "code",
      "metadata": {
        "id": "a0PFjamNiKPD",
        "outputId": "949fb7c0-d1a9-408e-a73b-b5167ba49066",
        "colab": {
          "base_uri": "https://localhost:8080/",
          "height": 265
        }
      },
      "source": [
        "df[['loss', 'val_loss']].plot()\n",
        "plt.show()\n"
      ],
      "execution_count": 20,
      "outputs": [
        {
          "output_type": "display_data",
          "data": {
            "image/png": "[encoded data removed]",
            "text/plain": [
              "<Figure size 432x288 with 1 Axes>"
            ]
          },
          "metadata": {
            "tags": [],
            "needs_background": "light"
          }
        }
      ]
    },
    {
      "cell_type": "code",
      "metadata": {
        "id": "noqNGR5QilAN",
        "outputId": "8d877706-5621-432a-c27e-66530195c440",
        "colab": {
          "base_uri": "https://localhost:8080/",
          "height": 69
        }
      },
      "source": [
        "loss, mae = model.evaluate(test_data, test_targets, verbose=2)\n",
        "print('loss= ', loss)\n",
        "print('mae= ', mae)"
      ],
      "execution_count": 21,
      "outputs": [
        {
          "output_type": "stream",
          "text": [
            "2/2 - 0s - loss: 0.7901 - mae: 0.6844\n",
            "loss=  0.7900766134262085\n",
            "mae=  0.684444010257721\n"
          ],
          "name": "stdout"
        }
      ]
    },
    {
      "cell_type": "code",
      "metadata": {
        "id": "_-QSi9RykACS",
        "outputId": "548fe644-c43c-4b88-8755-f7cfe67ded1f",
        "colab": {
          "base_uri": "https://localhost:8080/",
          "height": 52
        }
      },
      "source": [
        "model.evaluate(test_data, test_targets, verbose=2)"
      ],
      "execution_count": 22,
      "outputs": [
        {
          "output_type": "stream",
          "text": [
            "2/2 - 0s - loss: 0.7901 - mae: 0.6844\n"
          ],
          "name": "stdout"
        },
        {
          "output_type": "execute_result",
          "data": {
            "text/plain": [
              "[0.7900766134262085, 0.684444010257721]"
            ]
          },
          "metadata": {
            "tags": []
          },
          "execution_count": 22
        }
      ]
    },
    {
      "cell_type": "markdown",
      "metadata": {
        "id": "SgOghnZWofeS"
      },
      "source": [
        "## Regularization and Dropout"
      ]
    },
    {
      "cell_type": "code",
      "metadata": {
        "id": "A0n9bN8MucSJ"
      },
      "source": [
        "tf.keras.backend.clear_session()"
      ],
      "execution_count": 23,
      "outputs": []
    },
    {
      "cell_type": "code",
      "metadata": {
        "id": "O4R7dSghLtEK"
      },
      "source": [
        "from tensorflow.keras.regularizers import l2\n",
        "from tensorflow.keras.layers import Dropout"
      ],
      "execution_count": 35,
      "outputs": []
    },
    {
      "cell_type": "code",
      "metadata": {
        "id": "Cr3_EcO4kt2_"
      },
      "source": [
        "def get_model(input_shape, wd, dr):\n",
        "  model = Sequential([\n",
        "                      Dense(128, kernel_regularizer=tf.keras.regularizers.l2(wd), activation='relu', input_shape=input_shape),\n",
        "                      Dropout(dr),\n",
        "                      Dense(128, kernel_regularizer=tf.keras.regularizers.l2(wd), activation='relu'),\n",
        "                      Dropout(dr),\n",
        "                      Dense(128, kernel_regularizer=tf.keras.regularizers.l2(wd), activation='relu'),\n",
        "                      Dropout(dr),\n",
        "                      Dense(128, kernel_regularizer=tf.keras.regularizers.l2(wd), activation='relu'),\n",
        "                      Dropout(dr),\n",
        "                      Dense(128, kernel_regularizer=tf.keras.regularizers.l2(wd), activation='relu'),\n",
        "                      Dropout(dr),\n",
        "                      Dense(128, kernel_regularizer=tf.keras.regularizers.l2(wd), activation='relu'),\n",
        "                      Dropout(dr),\n",
        "                      Dense(1)\n",
        "  ])\n",
        "  return model"
      ],
      "execution_count": 25,
      "outputs": []
    },
    {
      "cell_type": "code",
      "metadata": {
        "id": "ANWOj34VpZEI"
      },
      "source": [
        "weight_decay = 1e-3  #l2 regularization param\n",
        "dropout_rate = 0.3\n",
        "model=get_model((train_data.shape[1],), weight_decay, dropout_rate)"
      ],
      "execution_count": 26,
      "outputs": []
    },
    {
      "cell_type": "code",
      "metadata": {
        "id": "gQBgtNyrquF_"
      },
      "source": [
        "model.compile(optimizer='adam', loss='mse', metrics=['mae'])"
      ],
      "execution_count": 27,
      "outputs": []
    },
    {
      "cell_type": "code",
      "metadata": {
        "id": "p5Wpjighq8uG",
        "outputId": "98782b96-0c94-4c21-9618-a784d609d2e4",
        "colab": {
          "base_uri": "https://localhost:8080/",
          "height": 1000
        }
      },
      "source": [
        "history = model.fit(train_data,train_targets, epochs = 100, validation_split=0.15, batch_size=64, verbose=2)"
      ],
      "execution_count": 28,
      "outputs": [
        {
          "output_type": "stream",
          "text": [
            "Epoch 1/100\n",
            "6/6 - 0s - loss: 1.6379 - mae: 0.8577 - val_loss: 1.7174 - val_mae: 0.9010\n",
            "Epoch 2/100\n",
            "6/6 - 0s - loss: 1.5802 - mae: 0.8540 - val_loss: 1.6574 - val_mae: 0.8957\n",
            "Epoch 3/100\n",
            "6/6 - 0s - loss: 1.5181 - mae: 0.8459 - val_loss: 1.5817 - val_mae: 0.8788\n",
            "Epoch 4/100\n",
            "6/6 - 0s - loss: 1.4287 - mae: 0.8184 - val_loss: 1.4644 - val_mae: 0.8352\n",
            "Epoch 5/100\n",
            "6/6 - 0s - loss: 1.2736 - mae: 0.7567 - val_loss: 1.2913 - val_mae: 0.7423\n",
            "Epoch 6/100\n",
            "6/6 - 0s - loss: 1.1283 - mae: 0.6930 - val_loss: 1.1222 - val_mae: 0.6567\n",
            "Epoch 7/100\n",
            "6/6 - 0s - loss: 1.0603 - mae: 0.6560 - val_loss: 1.0882 - val_mae: 0.6662\n",
            "Epoch 8/100\n",
            "6/6 - 0s - loss: 0.9766 - mae: 0.6273 - val_loss: 1.0157 - val_mae: 0.6565\n",
            "Epoch 9/100\n",
            "6/6 - 0s - loss: 0.9603 - mae: 0.6457 - val_loss: 1.0789 - val_mae: 0.6999\n",
            "Epoch 10/100\n",
            "6/6 - 0s - loss: 0.8960 - mae: 0.6056 - val_loss: 0.9424 - val_mae: 0.6177\n",
            "Epoch 11/100\n",
            "6/6 - 0s - loss: 0.9068 - mae: 0.6248 - val_loss: 0.9497 - val_mae: 0.6232\n",
            "Epoch 12/100\n",
            "6/6 - 0s - loss: 0.9024 - mae: 0.6098 - val_loss: 0.9882 - val_mae: 0.6522\n",
            "Epoch 13/100\n",
            "6/6 - 0s - loss: 0.8538 - mae: 0.5968 - val_loss: 0.9344 - val_mae: 0.6415\n",
            "Epoch 14/100\n",
            "6/6 - 0s - loss: 0.8363 - mae: 0.6024 - val_loss: 0.9672 - val_mae: 0.6518\n",
            "Epoch 15/100\n",
            "6/6 - 0s - loss: 0.8353 - mae: 0.5998 - val_loss: 0.9168 - val_mae: 0.6399\n",
            "Epoch 16/100\n",
            "6/6 - 0s - loss: 0.7995 - mae: 0.5859 - val_loss: 0.9275 - val_mae: 0.6531\n",
            "Epoch 17/100\n",
            "6/6 - 0s - loss: 0.7908 - mae: 0.5880 - val_loss: 0.8800 - val_mae: 0.6292\n",
            "Epoch 18/100\n",
            "6/6 - 0s - loss: 0.7520 - mae: 0.5659 - val_loss: 0.8910 - val_mae: 0.6378\n",
            "Epoch 19/100\n",
            "6/6 - 0s - loss: 0.7625 - mae: 0.5863 - val_loss: 0.8657 - val_mae: 0.6230\n",
            "Epoch 20/100\n",
            "6/6 - 0s - loss: 0.7562 - mae: 0.5731 - val_loss: 0.9614 - val_mae: 0.6711\n",
            "Epoch 21/100\n",
            "6/6 - 0s - loss: 0.7586 - mae: 0.5793 - val_loss: 0.8314 - val_mae: 0.6263\n",
            "Epoch 22/100\n",
            "6/6 - 0s - loss: 0.7231 - mae: 0.5753 - val_loss: 0.8905 - val_mae: 0.6467\n",
            "Epoch 23/100\n",
            "6/6 - 0s - loss: 0.7151 - mae: 0.5567 - val_loss: 0.9262 - val_mae: 0.6653\n",
            "Epoch 24/100\n",
            "6/6 - 0s - loss: 0.7097 - mae: 0.5611 - val_loss: 0.8071 - val_mae: 0.6109\n",
            "Epoch 25/100\n",
            "6/6 - 0s - loss: 0.7108 - mae: 0.5803 - val_loss: 0.8289 - val_mae: 0.6281\n",
            "Epoch 26/100\n",
            "6/6 - 0s - loss: 0.6968 - mae: 0.5502 - val_loss: 0.8585 - val_mae: 0.6370\n",
            "Epoch 27/100\n",
            "6/6 - 0s - loss: 0.6922 - mae: 0.5609 - val_loss: 0.8055 - val_mae: 0.6147\n",
            "Epoch 28/100\n",
            "6/6 - 0s - loss: 0.6768 - mae: 0.5490 - val_loss: 0.8175 - val_mae: 0.6277\n",
            "Epoch 29/100\n",
            "6/6 - 0s - loss: 0.6611 - mae: 0.5462 - val_loss: 0.7852 - val_mae: 0.6122\n",
            "Epoch 30/100\n",
            "6/6 - 0s - loss: 0.6832 - mae: 0.5684 - val_loss: 0.7602 - val_mae: 0.5961\n",
            "Epoch 31/100\n",
            "6/6 - 0s - loss: 0.6506 - mae: 0.5505 - val_loss: 0.7959 - val_mae: 0.6241\n",
            "Epoch 32/100\n",
            "6/6 - 0s - loss: 0.6673 - mae: 0.5632 - val_loss: 0.7461 - val_mae: 0.5918\n",
            "Epoch 33/100\n",
            "6/6 - 0s - loss: 0.6486 - mae: 0.5543 - val_loss: 0.7915 - val_mae: 0.6245\n",
            "Epoch 34/100\n",
            "6/6 - 0s - loss: 0.6720 - mae: 0.5711 - val_loss: 0.7562 - val_mae: 0.6118\n",
            "Epoch 35/100\n",
            "6/6 - 0s - loss: 0.6578 - mae: 0.5637 - val_loss: 0.7339 - val_mae: 0.5944\n",
            "Epoch 36/100\n",
            "6/6 - 0s - loss: 0.6255 - mae: 0.5275 - val_loss: 0.7381 - val_mae: 0.6005\n",
            "Epoch 37/100\n",
            "6/6 - 0s - loss: 0.6525 - mae: 0.5672 - val_loss: 0.7305 - val_mae: 0.6056\n",
            "Epoch 38/100\n",
            "6/6 - 0s - loss: 0.6251 - mae: 0.5504 - val_loss: 0.7343 - val_mae: 0.6044\n",
            "Epoch 39/100\n",
            "6/6 - 0s - loss: 0.6346 - mae: 0.5438 - val_loss: 0.7489 - val_mae: 0.6128\n",
            "Epoch 40/100\n",
            "6/6 - 0s - loss: 0.6287 - mae: 0.5537 - val_loss: 0.7205 - val_mae: 0.6069\n",
            "Epoch 41/100\n",
            "6/6 - 0s - loss: 0.6298 - mae: 0.5611 - val_loss: 0.7032 - val_mae: 0.5927\n",
            "Epoch 42/100\n",
            "6/6 - 0s - loss: 0.6090 - mae: 0.5295 - val_loss: 0.7329 - val_mae: 0.6114\n",
            "Epoch 43/100\n",
            "6/6 - 0s - loss: 0.5925 - mae: 0.5223 - val_loss: 0.6710 - val_mae: 0.5741\n",
            "Epoch 44/100\n",
            "6/6 - 0s - loss: 0.6060 - mae: 0.5499 - val_loss: 0.6830 - val_mae: 0.5915\n",
            "Epoch 45/100\n",
            "6/6 - 0s - loss: 0.5884 - mae: 0.5313 - val_loss: 0.7412 - val_mae: 0.6144\n",
            "Epoch 46/100\n",
            "6/6 - 0s - loss: 0.5795 - mae: 0.5228 - val_loss: 0.6532 - val_mae: 0.5515\n",
            "Epoch 47/100\n",
            "6/6 - 0s - loss: 0.6367 - mae: 0.5644 - val_loss: 0.7377 - val_mae: 0.6220\n",
            "Epoch 48/100\n",
            "6/6 - 0s - loss: 0.6399 - mae: 0.5629 - val_loss: 0.7556 - val_mae: 0.6443\n",
            "Epoch 49/100\n",
            "6/6 - 0s - loss: 0.6061 - mae: 0.5501 - val_loss: 0.6628 - val_mae: 0.5701\n",
            "Epoch 50/100\n",
            "6/6 - 0s - loss: 0.5873 - mae: 0.5274 - val_loss: 0.7390 - val_mae: 0.6191\n",
            "Epoch 51/100\n",
            "6/6 - 0s - loss: 0.5897 - mae: 0.5354 - val_loss: 0.6744 - val_mae: 0.5864\n",
            "Epoch 52/100\n",
            "6/6 - 0s - loss: 0.5833 - mae: 0.5336 - val_loss: 0.7462 - val_mae: 0.6244\n",
            "Epoch 53/100\n",
            "6/6 - 0s - loss: 0.6081 - mae: 0.5540 - val_loss: 0.6455 - val_mae: 0.5750\n",
            "Epoch 54/100\n",
            "6/6 - 0s - loss: 0.6056 - mae: 0.5520 - val_loss: 0.7322 - val_mae: 0.6157\n",
            "Epoch 55/100\n",
            "6/6 - 0s - loss: 0.5877 - mae: 0.5330 - val_loss: 0.7190 - val_mae: 0.6090\n",
            "Epoch 56/100\n",
            "6/6 - 0s - loss: 0.6038 - mae: 0.5504 - val_loss: 0.6986 - val_mae: 0.6010\n",
            "Epoch 57/100\n",
            "6/6 - 0s - loss: 0.5476 - mae: 0.5126 - val_loss: 0.7605 - val_mae: 0.6316\n",
            "Epoch 58/100\n",
            "6/6 - 0s - loss: 0.5961 - mae: 0.5420 - val_loss: 0.6645 - val_mae: 0.5731\n",
            "Epoch 59/100\n",
            "6/6 - 0s - loss: 0.5821 - mae: 0.5447 - val_loss: 0.7299 - val_mae: 0.6214\n",
            "Epoch 60/100\n",
            "6/6 - 0s - loss: 0.5687 - mae: 0.5348 - val_loss: 0.6665 - val_mae: 0.5999\n",
            "Epoch 61/100\n",
            "6/6 - 0s - loss: 0.5778 - mae: 0.5551 - val_loss: 0.6804 - val_mae: 0.6000\n",
            "Epoch 62/100\n",
            "6/6 - 0s - loss: 0.5819 - mae: 0.5423 - val_loss: 0.6642 - val_mae: 0.5949\n",
            "Epoch 63/100\n",
            "6/6 - 0s - loss: 0.5857 - mae: 0.5380 - val_loss: 0.6840 - val_mae: 0.6045\n",
            "Epoch 64/100\n",
            "6/6 - 0s - loss: 0.5542 - mae: 0.5210 - val_loss: 0.6507 - val_mae: 0.5846\n",
            "Epoch 65/100\n",
            "6/6 - 0s - loss: 0.5564 - mae: 0.5280 - val_loss: 0.7010 - val_mae: 0.6114\n",
            "Epoch 66/100\n",
            "6/6 - 0s - loss: 0.5623 - mae: 0.5290 - val_loss: 0.6631 - val_mae: 0.5922\n",
            "Epoch 67/100\n",
            "6/6 - 0s - loss: 0.5598 - mae: 0.5306 - val_loss: 0.7026 - val_mae: 0.6139\n",
            "Epoch 68/100\n",
            "6/6 - 0s - loss: 0.5184 - mae: 0.5007 - val_loss: 0.6729 - val_mae: 0.5954\n",
            "Epoch 69/100\n",
            "6/6 - 0s - loss: 0.5392 - mae: 0.5147 - val_loss: 0.6707 - val_mae: 0.5969\n",
            "Epoch 70/100\n",
            "6/6 - 0s - loss: 0.5232 - mae: 0.5090 - val_loss: 0.6848 - val_mae: 0.6031\n",
            "Epoch 71/100\n",
            "6/6 - 0s - loss: 0.5305 - mae: 0.5024 - val_loss: 0.6833 - val_mae: 0.6035\n",
            "Epoch 72/100\n",
            "6/6 - 0s - loss: 0.5428 - mae: 0.5170 - val_loss: 0.6397 - val_mae: 0.5755\n",
            "Epoch 73/100\n",
            "6/6 - 0s - loss: 0.5183 - mae: 0.4999 - val_loss: 0.6573 - val_mae: 0.5760\n",
            "Epoch 74/100\n",
            "6/6 - 0s - loss: 0.5150 - mae: 0.5031 - val_loss: 0.6458 - val_mae: 0.5803\n",
            "Epoch 75/100\n",
            "6/6 - 0s - loss: 0.5105 - mae: 0.5049 - val_loss: 0.6940 - val_mae: 0.6100\n",
            "Epoch 76/100\n",
            "6/6 - 0s - loss: 0.5276 - mae: 0.5089 - val_loss: 0.6167 - val_mae: 0.5674\n",
            "Epoch 77/100\n",
            "6/6 - 0s - loss: 0.5108 - mae: 0.5031 - val_loss: 0.6651 - val_mae: 0.5916\n",
            "Epoch 78/100\n",
            "6/6 - 0s - loss: 0.4895 - mae: 0.4829 - val_loss: 0.6398 - val_mae: 0.5830\n",
            "Epoch 79/100\n",
            "6/6 - 0s - loss: 0.5129 - mae: 0.5101 - val_loss: 0.6485 - val_mae: 0.5854\n",
            "Epoch 80/100\n",
            "6/6 - 0s - loss: 0.5075 - mae: 0.5046 - val_loss: 0.6625 - val_mae: 0.5918\n",
            "Epoch 81/100\n",
            "6/6 - 0s - loss: 0.5100 - mae: 0.4967 - val_loss: 0.6504 - val_mae: 0.5842\n",
            "Epoch 82/100\n",
            "6/6 - 0s - loss: 0.5190 - mae: 0.5066 - val_loss: 0.7061 - val_mae: 0.6156\n",
            "Epoch 83/100\n",
            "6/6 - 0s - loss: 0.5384 - mae: 0.5158 - val_loss: 0.6720 - val_mae: 0.5970\n",
            "Epoch 84/100\n",
            "6/6 - 0s - loss: 0.5155 - mae: 0.5125 - val_loss: 0.6477 - val_mae: 0.5834\n",
            "Epoch 85/100\n",
            "6/6 - 0s - loss: 0.5087 - mae: 0.5054 - val_loss: 0.6509 - val_mae: 0.5904\n",
            "Epoch 86/100\n",
            "6/6 - 0s - loss: 0.5191 - mae: 0.5129 - val_loss: 0.6297 - val_mae: 0.5781\n",
            "Epoch 87/100\n",
            "6/6 - 0s - loss: 0.5009 - mae: 0.4927 - val_loss: 0.6392 - val_mae: 0.5823\n",
            "Epoch 88/100\n",
            "6/6 - 0s - loss: 0.4856 - mae: 0.4888 - val_loss: 0.6514 - val_mae: 0.5890\n",
            "Epoch 89/100\n",
            "6/6 - 0s - loss: 0.5064 - mae: 0.4986 - val_loss: 0.6603 - val_mae: 0.5886\n",
            "Epoch 90/100\n",
            "6/6 - 0s - loss: 0.5408 - mae: 0.5193 - val_loss: 0.6508 - val_mae: 0.5877\n",
            "Epoch 91/100\n",
            "6/6 - 0s - loss: 0.5433 - mae: 0.5295 - val_loss: 0.7124 - val_mae: 0.6211\n",
            "Epoch 92/100\n",
            "6/6 - 0s - loss: 0.4842 - mae: 0.4963 - val_loss: 0.6414 - val_mae: 0.5811\n",
            "Epoch 93/100\n",
            "6/6 - 0s - loss: 0.4943 - mae: 0.5035 - val_loss: 0.6850 - val_mae: 0.6072\n",
            "Epoch 94/100\n",
            "6/6 - 0s - loss: 0.5152 - mae: 0.5107 - val_loss: 0.6353 - val_mae: 0.5852\n",
            "Epoch 95/100\n",
            "6/6 - 0s - loss: 0.4845 - mae: 0.4915 - val_loss: 0.6708 - val_mae: 0.6065\n",
            "Epoch 96/100\n",
            "6/6 - 0s - loss: 0.4897 - mae: 0.4958 - val_loss: 0.6246 - val_mae: 0.5773\n",
            "Epoch 97/100\n",
            "6/6 - 0s - loss: 0.4971 - mae: 0.4930 - val_loss: 0.6749 - val_mae: 0.6002\n",
            "Epoch 98/100\n",
            "6/6 - 0s - loss: 0.4930 - mae: 0.4863 - val_loss: 0.6284 - val_mae: 0.5757\n",
            "Epoch 99/100\n",
            "6/6 - 0s - loss: 0.4607 - mae: 0.4774 - val_loss: 0.6220 - val_mae: 0.5766\n",
            "Epoch 100/100\n",
            "6/6 - 0s - loss: 0.4518 - mae: 0.4741 - val_loss: 0.6137 - val_mae: 0.5648\n"
          ],
          "name": "stdout"
        }
      ]
    },
    {
      "cell_type": "code",
      "metadata": {
        "id": "G3vCaUtIsvsi",
        "outputId": "432e57cc-f68e-4058-f89a-d34875ea5c67",
        "colab": {
          "base_uri": "https://localhost:8080/",
          "height": 52
        }
      },
      "source": [
        "model.evaluate(test_data, test_targets, verbose=2)"
      ],
      "execution_count": 29,
      "outputs": [
        {
          "output_type": "stream",
          "text": [
            "2/2 - 0s - loss: 0.7646 - mae: 0.6167\n"
          ],
          "name": "stdout"
        },
        {
          "output_type": "execute_result",
          "data": {
            "text/plain": [
              "[0.7645960450172424, 0.6166869401931763]"
            ]
          },
          "metadata": {
            "tags": []
          },
          "execution_count": 29
        }
      ]
    },
    {
      "cell_type": "code",
      "metadata": {
        "id": "GhCn79nxrIKX"
      },
      "source": [
        "df = pd.DataFrame(history.history)"
      ],
      "execution_count": 30,
      "outputs": []
    },
    {
      "cell_type": "code",
      "metadata": {
        "id": "gf5JHn7ZsMNT",
        "outputId": "86f488bd-db3e-44b7-84a9-4b67f0a4c92f",
        "colab": {
          "base_uri": "https://localhost:8080/",
          "height": 206
        }
      },
      "source": [
        "df.head()"
      ],
      "execution_count": 31,
      "outputs": [
        {
          "output_type": "execute_result",
          "data": {
            "text/html": [
              "<div>\n",
              "<style scoped>\n",
              "    .dataframe tbody tr th:only-of-type {\n",
              "        vertical-align: middle;\n",
              "    }\n",
              "\n",
              "    .dataframe tbody tr th {\n",
              "        vertical-align: top;\n",
              "    }\n",
              "\n",
              "    .dataframe thead th {\n",
              "        text-align: right;\n",
              "    }\n",
              "</style>\n",
              "<table border=\"1\" class=\"dataframe\">\n",
              "  <thead>\n",
              "    <tr style=\"text-align: right;\">\n",
              "      <th></th>\n",
              "      <th>loss</th>\n",
              "      <th>mae</th>\n",
              "      <th>val_loss</th>\n",
              "      <th>val_mae</th>\n",
              "    </tr>\n",
              "  </thead>\n",
              "  <tbody>\n",
              "    <tr>\n",
              "      <th>0</th>\n",
              "      <td>1.637914</td>\n",
              "      <td>0.857735</td>\n",
              "      <td>1.717443</td>\n",
              "      <td>0.901041</td>\n",
              "    </tr>\n",
              "    <tr>\n",
              "      <th>1</th>\n",
              "      <td>1.580225</td>\n",
              "      <td>0.853961</td>\n",
              "      <td>1.657420</td>\n",
              "      <td>0.895683</td>\n",
              "    </tr>\n",
              "    <tr>\n",
              "      <th>2</th>\n",
              "      <td>1.518054</td>\n",
              "      <td>0.845922</td>\n",
              "      <td>1.581680</td>\n",
              "      <td>0.878769</td>\n",
              "    </tr>\n",
              "    <tr>\n",
              "      <th>3</th>\n",
              "      <td>1.428745</td>\n",
              "      <td>0.818397</td>\n",
              "      <td>1.464403</td>\n",
              "      <td>0.835217</td>\n",
              "    </tr>\n",
              "    <tr>\n",
              "      <th>4</th>\n",
              "      <td>1.273594</td>\n",
              "      <td>0.756671</td>\n",
              "      <td>1.291342</td>\n",
              "      <td>0.742255</td>\n",
              "    </tr>\n",
              "  </tbody>\n",
              "</table>\n",
              "</div>"
            ],
            "text/plain": [
              "       loss       mae  val_loss   val_mae\n",
              "0  1.637914  0.857735  1.717443  0.901041\n",
              "1  1.580225  0.853961  1.657420  0.895683\n",
              "2  1.518054  0.845922  1.581680  0.878769\n",
              "3  1.428745  0.818397  1.464403  0.835217\n",
              "4  1.273594  0.756671  1.291342  0.742255"
            ]
          },
          "metadata": {
            "tags": []
          },
          "execution_count": 31
        }
      ]
    },
    {
      "cell_type": "code",
      "metadata": {
        "id": "pdJscTyPsnud",
        "outputId": "06809f50-0ad1-4234-a0a4-fb3897a2b731",
        "colab": {
          "base_uri": "https://localhost:8080/",
          "height": 265
        }
      },
      "source": [
        "#No Dropout layer\n",
        "df[['loss', 'val_loss']].plot()\n",
        "plt.show()"
      ],
      "execution_count": 32,
      "outputs": [
        {
          "output_type": "display_data",
          "data": {
            "image/png": "[encoded data removed]",
            "text/plain": [
              "<Figure size 432x288 with 1 Axes>"
            ]
          },
          "metadata": {
            "tags": [],
            "needs_background": "light"
          }
        }
      ]
    },
    {
      "cell_type": "code",
      "metadata": {
        "id": "LpP4vEgxtJ7v",
        "outputId": "40a81bf4-d854-4630-cd67-1e6b8fb4e0a6",
        "colab": {
          "base_uri": "https://localhost:8080/",
          "height": 265
        }
      },
      "source": [
        "#With Dropout late and rate = 0.3\n",
        "df[['loss', 'val_loss']].plot()\n",
        "plt.show()"
      ],
      "execution_count": 33,
      "outputs": [
        {
          "output_type": "display_data",
          "data": {
            "image/png": "[encoded data removed]",
            "text/plain": [
              "<Figure size 432x288 with 1 Axes>"
            ]
          },
          "metadata": {
            "tags": [],
            "needs_background": "light"
          }
        }
      ]
    },
    {
      "cell_type": "markdown",
      "metadata": {
        "id": "iHXMdaSIgl4l"
      },
      "source": [
        "## Callback example"
      ]
    },
    {
      "cell_type": "code",
      "metadata": {
        "id": "sy-ojFyPM6pa"
      },
      "source": [
        "tf.keras.backend.clear_session()"
      ],
      "execution_count": 36,
      "outputs": []
    },
    {
      "cell_type": "code",
      "metadata": {
        "id": "efL1w2xXg0G5"
      },
      "source": [
        "from tensorflow.keras.callbacks import Callback\n",
        "\n",
        "class myCallback(Callback):\n",
        "\n",
        "  #Training methods\n",
        "  def on_train_begin(self, logs=None):\n",
        "    print(f\"Starting Training...\")\n",
        "\n",
        "  def on_train_end(self, logs=None):\n",
        "    print(f\"Finishing Training...\")\n",
        "\n",
        "  def on_train_batch_begin(self, batch, logs=None):\n",
        "    print(f\"Starting batch {batch}\")\n",
        "\n",
        "  def on_train_batch_end(self, batch, logs=None):\n",
        "    print(f\"Finishing batch {batch}\")\n",
        "\n",
        "  def on_epoch_begin(self, epoch, logs=None):\n",
        "    print(f\"Starting epoch {epoch}\")\n",
        "\n",
        "  def on_epoch_end(self, epoch, logs=None):\n",
        "    print(f\"Finishing epoch {epoch}\")\n",
        "\n",
        "  # Testing methods\n",
        "  def on_test_begin(self, logs=None):\n",
        "    print(f\"Starting Testing...\")\n",
        "\n",
        "  def on_test_end(self, logs=None):\n",
        "    print(f\"Finishing Testing...\")\n",
        "\n",
        "  def on_test_batch_begin(self, batch, logs=None):\n",
        "    print(f\"Starting batch {batch}\")\n",
        "\n",
        "  def on_test_batch_end(self, batch, logs=None):\n",
        "    print(f\"Finishing batch {batch}\")\n",
        "\n",
        "  # Predicting methods\n",
        "  def on_predict_begin(self, logs=None):\n",
        "    print(f\"Starting prediction...\")\n",
        "\n",
        "  def on_predict_end(self, logs=None):\n",
        "    print(f\"Finishing prediction...\")\n",
        "\n",
        "  def on_predict_batch_begin(self, batch, logs=None):\n",
        "    print(f\"Starting predict batch {batch}\")\n",
        "\n",
        "  def on_predict_batch_end(self, batch, logs=None):\n",
        "    print(f\"Finishing predict batch {batch}\")"
      ],
      "execution_count": 61,
      "outputs": []
    },
    {
      "cell_type": "code",
      "metadata": {
        "id": "N2XdP2cfiya5"
      },
      "source": [
        "def get_regularized_model(input_shape, wd, dr):\n",
        "  model = Sequential([\n",
        "                      Dense(128, kernel_regularizer=tf.keras.regularizers.l2(wd), activation='relu', input_shape=input_shape),\n",
        "                      Dropout(dr),\n",
        "                      Dense(128, kernel_regularizer=tf.keras.regularizers.l2(wd), activation='relu'),\n",
        "                      Dropout(dr),\n",
        "                      Dense(128, kernel_regularizer=tf.keras.regularizers.l2(wd), activation='relu'),\n",
        "                      Dropout(dr),\n",
        "                      Dense(128, kernel_regularizer=tf.keras.regularizers.l2(wd), activation='relu'),\n",
        "                      Dropout(dr),\n",
        "                      Dense(128, kernel_regularizer=tf.keras.regularizers.l2(wd), activation='relu'),\n",
        "                      Dropout(dr),\n",
        "                      Dense(128, kernel_regularizer=tf.keras.regularizers.l2(wd), activation='relu'),\n",
        "                      Dropout(dr),\n",
        "                      Dense(1)\n",
        "  ])\n",
        "  return model"
      ],
      "execution_count": 45,
      "outputs": []
    },
    {
      "cell_type": "code",
      "metadata": {
        "id": "yRUzUOMHjCSh"
      },
      "source": [
        "weight_decay = 1e-3  #l2 regularization param\n",
        "dropout_rate = 0.3\n",
        "model=get_regularized_model((train_data.shape[1],), weight_decay, dropout_rate)"
      ],
      "execution_count": 46,
      "outputs": []
    },
    {
      "cell_type": "code",
      "metadata": {
        "id": "Fm16WOxijQAz"
      },
      "source": [
        "model.compile(optimizer=\"adam\", loss=\"mse\", metrics=[\"accuracy\"])"
      ],
      "execution_count": 47,
      "outputs": []
    },
    {
      "cell_type": "code",
      "metadata": {
        "id": "N68wi2TRjnCj",
        "outputId": "4b3e2f41-f316-4e3b-85ac-2df36553176d",
        "colab": {
          "base_uri": "https://localhost:8080/",
          "height": 573
        }
      },
      "source": [
        "history=model.fit(train_data, train_targets, epochs=3, batch_size=128, verbose=False, callbacks=[myCallback()])"
      ],
      "execution_count": 50,
      "outputs": [
        {
          "output_type": "stream",
          "text": [
            "Starting Training...\n",
            "Starting epoch 0\n",
            "Starting batch 0\n",
            "Finishing batch 0\n",
            "Starting batch 1\n",
            "Finishing batch 1\n",
            "Starting batch 2\n",
            "Finishing batch 2\n",
            "Starting batch 3\n",
            "Finishing batch 3\n",
            "Finishing epoch 0\n",
            "Starting epoch 1\n",
            "Starting batch 0\n",
            "Finishing batch 0\n",
            "Starting batch 1\n",
            "Finishing batch 1\n",
            "Starting batch 2\n",
            "Finishing batch 2\n",
            "Starting batch 3\n",
            "Finishing batch 3\n",
            "Finishing epoch 1\n",
            "Starting epoch 2\n",
            "Starting batch 0\n",
            "Finishing batch 0\n",
            "Starting batch 1\n",
            "Finishing batch 1\n",
            "Starting batch 2\n",
            "Finishing batch 2\n",
            "Starting batch 3\n",
            "Finishing batch 3\n",
            "Finishing epoch 2\n",
            "Finishing Training...\n"
          ],
          "name": "stdout"
        }
      ]
    },
    {
      "cell_type": "code",
      "metadata": {
        "id": "HRhO91O9j_5F",
        "outputId": "c7942e1e-0226-499f-d873-d8b6e505da83",
        "colab": {
          "base_uri": "https://localhost:8080/",
          "height": 139
        }
      },
      "source": [
        "model.evaluate(test_data, verbose=False, callbacks=[myCallback()])"
      ],
      "execution_count": 54,
      "outputs": [
        {
          "output_type": "stream",
          "text": [
            "Starting Testing...\n",
            "Starting batch 0\n",
            "Finishing batch 0\n",
            "Starting batch 1\n",
            "Finishing batch 1\n",
            "Finishing Testing...\n"
          ],
          "name": "stdout"
        },
        {
          "output_type": "execute_result",
          "data": {
            "text/plain": [
              "[0.4350108802318573, 0.0]"
            ]
          },
          "metadata": {
            "tags": []
          },
          "execution_count": 54
        }
      ]
    },
    {
      "cell_type": "code",
      "metadata": {
        "id": "QYTC-KeXlRa6",
        "outputId": "3d0cbe50-ab74-4993-e467-31bb1b292f3a",
        "colab": {
          "base_uri": "https://localhost:8080/",
          "height": 121
        }
      },
      "source": [
        "predictions=model.predict(test_data, verbose=False, callbacks=[myCallback()])"
      ],
      "execution_count": 63,
      "outputs": [
        {
          "output_type": "stream",
          "text": [
            "Starting prediction...\n",
            "Starting predict batch 0\n",
            "Finishing predict batch 0\n",
            "Starting predict batch 1\n",
            "Finishing predict batch 1\n",
            "Finishing prediction...\n"
          ],
          "name": "stdout"
        }
      ]
    },
    {
      "cell_type": "code",
      "metadata": {
        "id": "jRL7TSlbmGrF",
        "outputId": "fea0ad46-13d1-4da0-b812-9c4a718ff6c4",
        "colab": {
          "base_uri": "https://localhost:8080/",
          "height": 799
        }
      },
      "source": [
        "predictions"
      ],
      "execution_count": 64,
      "outputs": [
        {
          "output_type": "execute_result",
          "data": {
            "text/plain": [
              "array([[-0.4228178 ],\n",
              "       [-0.57968825],\n",
              "       [-0.21252547],\n",
              "       [-0.56845057],\n",
              "       [ 0.44022587],\n",
              "       [ 0.4391706 ],\n",
              "       [ 0.66711414],\n",
              "       [-0.37079674],\n",
              "       [-0.16861305],\n",
              "       [-0.4408746 ],\n",
              "       [ 0.37908962],\n",
              "       [ 0.49540305],\n",
              "       [-0.4724402 ],\n",
              "       [-0.54788643],\n",
              "       [ 0.50768584],\n",
              "       [ 0.318058  ],\n",
              "       [ 0.36880976],\n",
              "       [-0.49799386],\n",
              "       [ 0.22171468],\n",
              "       [ 0.31414697],\n",
              "       [ 0.49581355],\n",
              "       [-0.526579  ],\n",
              "       [-0.49711716],\n",
              "       [-0.5792716 ],\n",
              "       [-0.5174001 ],\n",
              "       [ 0.28950736],\n",
              "       [-0.5647209 ],\n",
              "       [-0.32477537],\n",
              "       [ 0.17011128],\n",
              "       [ 0.528606  ],\n",
              "       [ 0.28241298],\n",
              "       [-0.01990642],\n",
              "       [ 0.44329265],\n",
              "       [-0.5673991 ],\n",
              "       [-0.3625148 ],\n",
              "       [ 0.5958091 ],\n",
              "       [-0.5394192 ],\n",
              "       [ 0.63080305],\n",
              "       [ 0.33905894],\n",
              "       [ 0.4123672 ],\n",
              "       [-0.37649098],\n",
              "       [-0.07095885],\n",
              "       [-0.44960237],\n",
              "       [-0.3896451 ],\n",
              "       [-0.4486804 ]], dtype=float32)"
            ]
          },
          "metadata": {
            "tags": []
          },
          "execution_count": 64
        }
      ]
    },
    {
      "cell_type": "code",
      "metadata": {
        "id": "PC9Ela03o4VX"
      },
      "source": [
        ""
      ],
      "execution_count": null,
      "outputs": []
    }
  ]
}