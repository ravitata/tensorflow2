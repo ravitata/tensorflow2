{
  "nbformat": 4,
  "nbformat_minor": 0,
  "metadata": {
    "colab": {
      "name": "w2_work.ipynb",
      "provenance": [],
      "authorship_tag": "ABX9TyPSh7yMBJkBtWZbF9lhB+ys",
      "include_colab_link": true
    },
    "kernelspec": {
      "name": "python3",
      "display_name": "Python 3"
    },
    "accelerator": "GPU"
  },
  "cells": [
    {
      "cell_type": "markdown",
      "metadata": {
        "id": "view-in-github",
        "colab_type": "text"
      },
      "source": [
        "<a href=\"https://colab.research.google.com/github/ravitata/tensorflow2/blob/master/w2_work.ipynb\" target=\"_parent\"><img src=\"https://colab.research.google.com/assets/colab-badge.svg\" alt=\"Open In Colab\"/></a>"
      ]
    },
    {
      "cell_type": "code",
      "metadata": {
        "id": "qEsYG8d-XPDk",
        "outputId": "30f0a4d7-2779-4d4d-e8d1-e59943d4fe85",
        "colab": {
          "base_uri": "https://localhost:8080/",
          "height": 34
        }
      },
      "source": [
        "import tensorflow as tf\n",
        "print(tf.__version__)"
      ],
      "execution_count": 3,
      "outputs": [
        {
          "output_type": "stream",
          "text": [
            "2.3.0\n"
          ],
          "name": "stdout"
        }
      ]
    },
    {
      "cell_type": "code",
      "metadata": {
        "id": "0nfaZaNLXUkR"
      },
      "source": [
        "from sklearn.datasets import load_diabetes\n",
        "diabetes_data = load_diabetes()"
      ],
      "execution_count": 4,
      "outputs": []
    },
    {
      "cell_type": "code",
      "metadata": {
        "id": "kpKMlSgKXw0y",
        "outputId": "f8a7557a-6e6a-4b0f-aaaf-dfb9dce077b6",
        "colab": {
          "base_uri": "https://localhost:8080/",
          "height": 34
        }
      },
      "source": [
        "print(diabetes_data.keys())"
      ],
      "execution_count": 5,
      "outputs": [
        {
          "output_type": "stream",
          "text": [
            "dict_keys(['data', 'target', 'DESCR', 'feature_names', 'data_filename', 'target_filename'])\n"
          ],
          "name": "stdout"
        }
      ]
    },
    {
      "cell_type": "code",
      "metadata": {
        "id": "teX7zEdiX9vM",
        "outputId": "593cd071-7fcb-407d-b6e0-51a058084223",
        "colab": {
          "base_uri": "https://localhost:8080/",
          "height": 677
        }
      },
      "source": [
        "print(diabetes_data['DESCR'])"
      ],
      "execution_count": 6,
      "outputs": [
        {
          "output_type": "stream",
          "text": [
            ".. _diabetes_dataset:\n",
            "\n",
            "Diabetes dataset\n",
            "----------------\n",
            "\n",
            "Ten baseline variables, age, sex, body mass index, average blood\n",
            "pressure, and six blood serum measurements were obtained for each of n =\n",
            "442 diabetes patients, as well as the response of interest, a\n",
            "quantitative measure of disease progression one year after baseline.\n",
            "\n",
            "**Data Set Characteristics:**\n",
            "\n",
            "  :Number of Instances: 442\n",
            "\n",
            "  :Number of Attributes: First 10 columns are numeric predictive values\n",
            "\n",
            "  :Target: Column 11 is a quantitative measure of disease progression one year after baseline\n",
            "\n",
            "  :Attribute Information:\n",
            "      - Age\n",
            "      - Sex\n",
            "      - Body mass index\n",
            "      - Average blood pressure\n",
            "      - S1\n",
            "      - S2\n",
            "      - S3\n",
            "      - S4\n",
            "      - S5\n",
            "      - S6\n",
            "\n",
            "Note: Each of these 10 feature variables have been mean centered and scaled by the standard deviation times `n_samples` (i.e. the sum of squares of each column totals 1).\n",
            "\n",
            "Source URL:\n",
            "https://www4.stat.ncsu.edu/~boos/var.select/diabetes.html\n",
            "\n",
            "For more information see:\n",
            "Bradley Efron, Trevor Hastie, Iain Johnstone and Robert Tibshirani (2004) \"Least Angle Regression,\" Annals of Statistics (with discussion), 407-499.\n",
            "(https://web.stanford.edu/~hastie/Papers/LARS/LeastAngle_2002.pdf)\n"
          ],
          "name": "stdout"
        }
      ]
    },
    {
      "cell_type": "code",
      "metadata": {
        "id": "jLi7IO_XYD7c"
      },
      "source": [
        "data = diabetes_data['data']\n",
        "target = diabetes_data['target']"
      ],
      "execution_count": 7,
      "outputs": []
    },
    {
      "cell_type": "code",
      "metadata": {
        "id": "n5iLvverZTl4",
        "outputId": "3a2fab1f-b053-4563-8e89-d1793f19e1c7",
        "colab": {
          "base_uri": "https://localhost:8080/",
          "height": 1000
        }
      },
      "source": [
        "#target\n",
        "target = (target - target.mean(axis=0))/target.std()\n",
        "target"
      ],
      "execution_count": 8,
      "outputs": [
        {
          "output_type": "execute_result",
          "data": {
            "text/plain": [
              "array([-1.47194752e-02, -1.00165882e+00, -1.44579915e-01,  6.99512942e-01,\n",
              "       -2.22496178e-01, -7.15965848e-01, -1.83538046e-01, -1.15749134e+00,\n",
              "       -5.47147277e-01,  2.05006151e+00, -6.64021672e-01, -1.07957508e+00,\n",
              "        3.48889755e-01,  4.26806019e-01, -4.43258925e-01,  2.45001404e-01,\n",
              "        1.80071184e-01, -1.05621783e-01, -7.15965848e-01,  2.06043272e-01,\n",
              "       -1.09256112e+00, -1.33929596e+00, -1.09256112e+00,  1.20596866e+00,\n",
              "        4.13819975e-01,  6.47568766e-01, -1.96524090e-01, -8.71798376e-01,\n",
              "       -2.74440354e-01,  1.69943833e+00, -3.00412442e-01, -1.20943552e+00,\n",
              "        2.45262887e+00, -8.45826288e-01, -1.13151925e+00, -6.51035629e-01,\n",
              "        1.46568953e+00,  1.60853602e+00,  1.29687096e+00, -8.06868156e-01,\n",
              "       -6.77007716e-01, -1.26137969e+00, -1.18346343e+00, -7.80896068e-01,\n",
              "        1.38777327e+00, -1.28735178e+00,  4.91736239e-01, -1.31593871e-01,\n",
              "       -1.00165882e+00, -1.31593871e-01,  3.72247006e-02,  9.46247777e-01,\n",
              "       -1.20943552e+00, -6.25063541e-01,  3.87847887e-01, -3.13398486e-01,\n",
              "       -1.30033783e+00, -1.49512849e+00,  2.32015360e-01,  2.32015360e-01,\n",
              "       -1.18346343e+00, -1.05621783e-01, -1.30033783e+00, -3.13398486e-01,\n",
              "       -1.05360299e+00,  1.41113052e-01, -2.77055191e-02, -7.15965848e-01,\n",
              "        1.02154920e-01,  3.35903711e-01, -1.35228200e+00,  1.53061975e+00,\n",
              "        6.47568766e-01, -5.34161233e-01, -8.71798376e-01, -1.43019827e+00,\n",
              "        2.32015360e-01,  6.21596678e-01,  1.29687096e+00, -5.08189145e-01,\n",
              "       -1.18607827e-01, -1.31332387e+00, -1.30033783e+00,  7.51457118e-01,\n",
              "       -1.13151925e+00, -1.44579915e-01, -1.26137969e+00, -2.35482222e-01,\n",
              "       -1.43019827e+00, -5.34161233e-01, -7.02979804e-01,  1.54099096e-01,\n",
              "       -1.35228200e+00, -7.28951892e-01, -8.06868156e-01,  1.28127008e-01,\n",
              "       -2.77055191e-02,  1.64749415e+00, -7.80896068e-01, -8.97770464e-01,\n",
              "       -3.13398486e-01, -6.51035629e-01,  1.94617316e+00,  5.95624590e-01,\n",
              "       -7.41937936e-01, -1.28735178e+00, -2.35482222e-01, -1.05621783e-01,\n",
              "        1.03715008e+00, -9.23742551e-01, -6.25063541e-01, -1.20943552e+00,\n",
              "        1.21895470e+00,  1.88124294e+00,  1.37478723e+00,  9.98191953e-01,\n",
              "        1.59554997e+00,  1.67346624e+00,  3.48889755e-01,  6.21596678e-01,\n",
              "        6.21596678e-01,  2.70973492e-01,  3.61875799e-01, -8.84784420e-01,\n",
              "       -4.04300794e-01,  1.15140964e-01, -6.89993760e-01, -5.60133321e-01,\n",
              "       -4.82217057e-01,  1.50464767e+00,  1.58256393e+00,  7.61828325e-02,\n",
              "       -5.86105409e-01, -8.97770464e-01, -6.38049585e-01,  1.55659184e+00,\n",
              "       -8.71798376e-01,  1.66048019e+00,  2.38769865e+00,  1.67346624e+00,\n",
              "       -4.43258925e-01,  2.14096382e+00,  1.07610822e+00, -1.19644947e+00,\n",
              "        2.83959536e-01,  1.38777327e+00,  3.35903711e-01, -3.13398486e-01,\n",
              "       -7.28951892e-01, -3.39370574e-01,  1.76436855e+00, -8.32840244e-01,\n",
              "        1.81631272e+00, -1.05360299e+00,  5.82638546e-01,  4.39792063e-01,\n",
              "       -1.65096101e+00, -8.84784420e-01, -7.28951892e-01,  5.56666458e-01,\n",
              "       -1.28735178e+00,  8.42359425e-01,  2.57987448e-01, -2.74440354e-01,\n",
              "        8.03401293e-01, -1.20943552e+00, -1.06658903e+00,  8.81317557e-01,\n",
              "        1.50464767e+00, -1.73343121e-03, -1.36526805e+00, -1.01464486e+00,\n",
              "        1.85527085e+00, -6.64021672e-01, -1.47194752e-02, -3.26384530e-01,\n",
              "        1.10208030e+00,  9.46247777e-01, -9.23742551e-01, -1.47194752e-02,\n",
              "       -5.86105409e-01, -1.14450530e+00, -1.83538046e-01,  4.26806019e-01,\n",
              "        1.46568953e+00, -6.64021672e-01, -1.96524090e-01, -1.18607827e-01,\n",
              "       -1.44579915e-01, -9.49714639e-01,  1.81631272e+00,  3.35903711e-01,\n",
              "       -7.93882112e-01, -4.69231013e-01, -8.58812332e-01, -3.91314750e-01,\n",
              "       -1.04061695e+00, -3.00412442e-01, -1.31593871e-01, -8.06868156e-01,\n",
              "        7.61828325e-02, -1.46915640e+00,  5.69652502e-01,  9.07289645e-01,\n",
              "        1.62152206e+00, -6.89993760e-01,  5.69652502e-01,  6.47568766e-01,\n",
              "        3.72247006e-02, -9.75686727e-01,  5.04722283e-01, -1.06658903e+00,\n",
              "       -1.02763090e+00, -1.33929596e+00, -1.13151925e+00,  1.43971745e+00,\n",
              "        1.24492679e+00,  1.86825690e+00,  8.03401293e-01,  4.26806019e-01,\n",
              "       -9.62700683e-01, -7.67910024e-01,  1.29687096e+00, -2.77055191e-02,\n",
              "       -9.75686727e-01,  7.25485030e-01, -9.75686727e-01, -5.73119365e-01,\n",
              "        1.02154920e-01, -1.28735178e+00,  8.81317557e-01,  2.42386567e-02,\n",
              "        1.38777327e+00, -8.06868156e-01,  1.21895470e+00, -3.65342662e-01,\n",
              "       -1.10554717e+00, -1.04061695e+00,  1.36180118e+00,  1.42673140e+00,\n",
              "        1.59554997e+00,  3.22917667e-01, -1.05360299e+00, -1.36526805e+00,\n",
              "        4.52778107e-01, -3.52356618e-01, -9.62700683e-01, -1.31332387e+00,\n",
              "        1.37478723e+00,  8.16387337e-01,  1.95915920e+00,  1.17999657e+00,\n",
              "       -7.93882112e-01, -2.77055191e-02,  2.05006151e+00,  1.12526127e-02,\n",
              "        2.51755909e+00, -1.15749134e+00, -8.19854200e-01, -1.32630991e+00,\n",
              "       -1.46915640e+00, -6.38049585e-01,  2.02408942e+00, -4.69231013e-01,\n",
              "       -9.26357388e-02, -1.01464486e+00, -1.39124013e+00, -4.82217057e-01,\n",
              "        1.45270349e+00, -8.45826288e-01,  6.47568766e-01, -3.26384530e-01,\n",
              "        3.87847887e-01,  1.15402448e+00, -1.11853321e+00, -7.54923980e-01,\n",
              "        1.69943833e+00, -1.14450530e+00, -6.51035629e-01,  6.21596678e-01,\n",
              "        1.46568953e+00, -7.54923980e-01,  1.01117800e+00,  3.74861843e-01,\n",
              "        5.02107446e-02,  1.05013613e+00, -1.19644947e+00,  8.68331513e-01,\n",
              "       -9.36728595e-01, -1.09256112e+00,  2.33575448e+00,  1.24492679e+00,\n",
              "       -8.84784420e-01,  6.21596678e-01, -1.26137969e+00, -8.71798376e-01,\n",
              "       -8.19854200e-01, -1.57304475e+00, -3.00412442e-01, -8.97770464e-01,\n",
              "        1.59554997e+00, -1.13151925e+00,  5.95624590e-01,  1.08909426e+00,\n",
              "        1.30985701e+00, -3.65342662e-01, -1.40422618e+00,  2.57987448e-01,\n",
              "       -4.95203101e-01, -1.31593871e-01, -5.60133321e-01,  3.61875799e-01,\n",
              "       -1.05621783e-01,  1.41113052e-01, -6.66636509e-02, -7.15965848e-01,\n",
              "        8.81317557e-01,  4.91736239e-01, -5.60133321e-01,  5.04722283e-01,\n",
              "       -3.91314750e-01,  1.01117800e+00,  1.16701052e+00,  1.24492679e+00,\n",
              "        1.25791283e+00,  5.17708327e-01, -2.74440354e-01,  1.10208030e+00,\n",
              "       -9.62700683e-01, -2.22496178e-01,  1.19298261e+00,  6.08610634e-01,\n",
              "        1.53061975e+00,  1.54099096e-01, -1.04061695e+00, -7.28951892e-01,\n",
              "        1.99811734e+00, -7.93882112e-01,  8.03401293e-01, -7.41937936e-01,\n",
              "        8.29373381e-01,  1.43971745e+00,  3.35903711e-01, -5.08189145e-01,\n",
              "        6.21596678e-01, -1.70552003e-01, -1.70552003e-01, -8.32840244e-01,\n",
              "       -5.36776070e-02, -8.32840244e-01,  1.17999657e+00, -1.05360299e+00,\n",
              "       -9.75686727e-01, -5.60133321e-01,  1.55659184e+00, -1.19644947e+00,\n",
              "       -1.27436574e+00,  8.94303601e-01, -8.06868156e-01,  2.06304756e+00,\n",
              "        1.67346624e+00,  3.87847887e-01,  2.19290800e+00, -1.22242156e+00,\n",
              "        1.42673140e+00,  6.99512942e-01,  1.05013613e+00,  1.16701052e+00,\n",
              "       -3.78328706e-01,  1.93057228e-01, -1.15749134e+00,  5.82638546e-01,\n",
              "       -1.05360299e+00,  2.06043272e-01, -1.57565959e-01,  8.42359425e-01,\n",
              "       -4.04300794e-01,  1.07610822e+00,  1.20596866e+00, -1.45617035e+00,\n",
              "       -1.30033783e+00, -6.25063541e-01, -2.61454310e-01, -8.32840244e-01,\n",
              "       -1.07957508e+00,  8.68331513e-01, -1.04061695e+00,  6.34582722e-01,\n",
              "       -5.47147277e-01, -1.31332387e+00,  1.62152206e+00, -1.15749134e+00,\n",
              "       -4.43258925e-01, -1.07957508e+00,  1.56957789e+00,  1.37478723e+00,\n",
              "       -1.41721222e+00,  5.95624590e-01,  1.16701052e+00,  1.03715008e+00,\n",
              "        2.96945580e-01, -7.67910024e-01,  2.06043272e-01,  1.59554997e+00,\n",
              "        1.82929877e+00,  1.67346624e+00, -1.04061695e+00, -1.57565959e-01,\n",
              "        4.78750195e-01,  3.74861843e-01,  7.38471074e-01, -2.09510134e-01,\n",
              "        1.41374536e+00, -5.08189145e-01, -2.74440354e-01,  2.83959536e-01,\n",
              "        1.36180118e+00, -1.26137969e+00, -8.84784420e-01, -1.43019827e+00,\n",
              "       -7.96496949e-02,  7.77429206e-01,  1.05013613e+00, -7.93882112e-01,\n",
              "       -5.34161233e-01, -1.73343121e-03, -4.17286837e-01, -1.10554717e+00,\n",
              "        2.05006151e+00, -7.54923980e-01,  4.00833931e-01, -1.11853321e+00,\n",
              "        2.70973492e-01, -1.04061695e+00, -1.33929596e+00, -1.14450530e+00,\n",
              "       -1.35228200e+00,  3.35903711e-01, -6.25063541e-01, -2.61454310e-01,\n",
              "        8.81317557e-01, -1.23540761e+00])"
            ]
          },
          "metadata": {
            "tags": []
          },
          "execution_count": 8
        }
      ]
    },
    {
      "cell_type": "code",
      "metadata": {
        "id": "L__c5TzDZWJI",
        "outputId": "e0a93cab-7bde-46d2-d110-3fc79f9fb947",
        "colab": {
          "base_uri": "https://localhost:8080/",
          "height": 243
        }
      },
      "source": [
        "data"
      ],
      "execution_count": 9,
      "outputs": [
        {
          "output_type": "execute_result",
          "data": {
            "text/plain": [
              "array([[ 0.03807591,  0.05068012,  0.06169621, ..., -0.00259226,\n",
              "         0.01990842, -0.01764613],\n",
              "       [-0.00188202, -0.04464164, -0.05147406, ..., -0.03949338,\n",
              "        -0.06832974, -0.09220405],\n",
              "       [ 0.08529891,  0.05068012,  0.04445121, ..., -0.00259226,\n",
              "         0.00286377, -0.02593034],\n",
              "       ...,\n",
              "       [ 0.04170844,  0.05068012, -0.01590626, ..., -0.01107952,\n",
              "        -0.04687948,  0.01549073],\n",
              "       [-0.04547248, -0.04464164,  0.03906215, ...,  0.02655962,\n",
              "         0.04452837, -0.02593034],\n",
              "       [-0.04547248, -0.04464164, -0.0730303 , ..., -0.03949338,\n",
              "        -0.00421986,  0.00306441]])"
            ]
          },
          "metadata": {
            "tags": []
          },
          "execution_count": 9
        }
      ]
    },
    {
      "cell_type": "code",
      "metadata": {
        "id": "MOlv-5AlZ86K",
        "outputId": "9d1e0c86-9828-4da4-8771-54016003e6e9",
        "colab": {
          "base_uri": "https://localhost:8080/",
          "height": 86
        }
      },
      "source": [
        "from sklearn.model_selection import train_test_split\n",
        "\n",
        "train_data, test_data, train_targets, test_targets = train_test_split(data, target, test_size=0.1, random_state=1)\n",
        "\n",
        "print(train_data.shape)\n",
        "print(test_data.shape)\n",
        "print(train_targets.shape)\n",
        "print(test_targets.shape)\n"
      ],
      "execution_count": 10,
      "outputs": [
        {
          "output_type": "stream",
          "text": [
            "(397, 10)\n",
            "(45, 10)\n",
            "(397,)\n",
            "(45,)\n"
          ],
          "name": "stdout"
        }
      ]
    },
    {
      "cell_type": "code",
      "metadata": {
        "id": "PbSYVUhncoyY"
      },
      "source": [
        "from tensorflow.keras.models import Sequential\n",
        "from tensorflow.keras.layers import Dense"
      ],
      "execution_count": 11,
      "outputs": []
    },
    {
      "cell_type": "code",
      "metadata": {
        "id": "QWtXITZObsm9"
      },
      "source": [
        "def get_model(input_shape):\n",
        "  model = Sequential([\n",
        "                      Dense(128, activation='relu', input_shape=input_shape),\n",
        "                      Dense(128, activation='relu'),\n",
        "                      Dense(128, activation='relu'),\n",
        "                      Dense(128, activation='relu'),\n",
        "                      Dense(128, activation='relu'),\n",
        "                      Dense(128, activation='relu'),\n",
        "                      Dense(1)\n",
        "  ])\n",
        "  return model"
      ],
      "execution_count": 12,
      "outputs": []
    },
    {
      "cell_type": "code",
      "metadata": {
        "id": "cRlQnEuTdojk"
      },
      "source": [
        "model = get_model((train_data.shape[1],))"
      ],
      "execution_count": 13,
      "outputs": []
    },
    {
      "cell_type": "code",
      "metadata": {
        "id": "CZTYhcc0eAFf",
        "outputId": "b3a256ab-9a29-477a-8a8d-9e5f06e72c12",
        "colab": {
          "base_uri": "https://localhost:8080/",
          "height": 399
        }
      },
      "source": [
        "model.summary()"
      ],
      "execution_count": 14,
      "outputs": [
        {
          "output_type": "stream",
          "text": [
            "Model: \"sequential\"\n",
            "_________________________________________________________________\n",
            "Layer (type)                 Output Shape              Param #   \n",
            "=================================================================\n",
            "dense (Dense)                (None, 128)               1408      \n",
            "_________________________________________________________________\n",
            "dense_1 (Dense)              (None, 128)               16512     \n",
            "_________________________________________________________________\n",
            "dense_2 (Dense)              (None, 128)               16512     \n",
            "_________________________________________________________________\n",
            "dense_3 (Dense)              (None, 128)               16512     \n",
            "_________________________________________________________________\n",
            "dense_4 (Dense)              (None, 128)               16512     \n",
            "_________________________________________________________________\n",
            "dense_5 (Dense)              (None, 128)               16512     \n",
            "_________________________________________________________________\n",
            "dense_6 (Dense)              (None, 1)                 129       \n",
            "=================================================================\n",
            "Total params: 84,097\n",
            "Trainable params: 84,097\n",
            "Non-trainable params: 0\n",
            "_________________________________________________________________\n"
          ],
          "name": "stdout"
        }
      ]
    },
    {
      "cell_type": "code",
      "metadata": {
        "id": "Y9UH2Lwpdz9k"
      },
      "source": [
        "model.compile(optimizer='adam', loss='mse', metrics=['mae'])"
      ],
      "execution_count": 15,
      "outputs": []
    },
    {
      "cell_type": "code",
      "metadata": {
        "id": "k2tN3JWRfaUa",
        "outputId": "06c4d54e-3a1d-4a47-ea82-293e8721c0f0",
        "colab": {
          "base_uri": "https://localhost:8080/",
          "height": 52
        }
      },
      "source": [
        "#print(model.weights)\n",
        "print('input shape = ',model.input_shape)\n",
        "print('metrics = ', model.metrics_names)"
      ],
      "execution_count": 16,
      "outputs": [
        {
          "output_type": "stream",
          "text": [
            "input shape =  (None, 10)\n",
            "metrics =  []\n"
          ],
          "name": "stdout"
        }
      ]
    },
    {
      "cell_type": "code",
      "metadata": {
        "id": "jNKdQ7OcfJpG",
        "outputId": "bd35aebe-75f1-4774-fa8b-0751feb71339",
        "colab": {
          "base_uri": "https://localhost:8080/",
          "height": 69
        }
      },
      "source": [
        "loss, mae = model.evaluate(train_data, train_targets)\n",
        "print('loss= ', loss)\n",
        "print('mae= ', mae)"
      ],
      "execution_count": 17,
      "outputs": [
        {
          "output_type": "stream",
          "text": [
            "13/13 [==============================] - 0s 2ms/step - loss: 1.0202 - mae: 0.8668\n",
            "loss=  1.0201833248138428\n",
            "mae=  0.8668111562728882\n"
          ],
          "name": "stdout"
        }
      ]
    },
    {
      "cell_type": "code",
      "metadata": {
        "id": "BcbOqJNOfwjT",
        "outputId": "20bf85b3-957e-4372-ffc1-7c2f4968a7b3",
        "colab": {
          "base_uri": "https://localhost:8080/",
          "height": 1000
        }
      },
      "source": [
        "history = model.fit(train_data, train_targets, epochs=100, validation_split=0.15, batch_size=64, verbose=1)"
      ],
      "execution_count": 18,
      "outputs": [
        {
          "output_type": "stream",
          "text": [
            "Epoch 1/100\n",
            "6/6 [==============================] - 0s 10ms/step - loss: 0.9995 - mae: 0.8564 - val_loss: 1.0877 - val_mae: 0.8885\n",
            "Epoch 2/100\n",
            "6/6 [==============================] - 0s 5ms/step - loss: 0.9212 - mae: 0.8175 - val_loss: 0.9825 - val_mae: 0.8336\n",
            "Epoch 3/100\n",
            "6/6 [==============================] - 0s 5ms/step - loss: 0.7346 - mae: 0.7129 - val_loss: 0.7796 - val_mae: 0.7086\n",
            "Epoch 4/100\n",
            "6/6 [==============================] - 0s 4ms/step - loss: 0.5920 - mae: 0.6262 - val_loss: 0.5286 - val_mae: 0.5713\n",
            "Epoch 5/100\n",
            "6/6 [==============================] - 0s 5ms/step - loss: 0.5050 - mae: 0.5834 - val_loss: 0.8158 - val_mae: 0.7479\n",
            "Epoch 6/100\n",
            "6/6 [==============================] - 0s 4ms/step - loss: 0.5120 - mae: 0.5796 - val_loss: 0.4770 - val_mae: 0.5422\n",
            "Epoch 7/100\n",
            "6/6 [==============================] - 0s 5ms/step - loss: 0.4744 - mae: 0.5527 - val_loss: 0.5480 - val_mae: 0.5880\n",
            "Epoch 8/100\n",
            "6/6 [==============================] - 0s 4ms/step - loss: 0.4407 - mae: 0.5394 - val_loss: 0.5194 - val_mae: 0.5731\n",
            "Epoch 9/100\n",
            "6/6 [==============================] - 0s 4ms/step - loss: 0.4270 - mae: 0.5303 - val_loss: 0.5593 - val_mae: 0.5991\n",
            "Epoch 10/100\n",
            "6/6 [==============================] - 0s 5ms/step - loss: 0.4203 - mae: 0.5249 - val_loss: 0.5178 - val_mae: 0.5744\n",
            "Epoch 11/100\n",
            "6/6 [==============================] - 0s 5ms/step - loss: 0.4080 - mae: 0.5132 - val_loss: 0.5869 - val_mae: 0.6192\n",
            "Epoch 12/100\n",
            "6/6 [==============================] - 0s 5ms/step - loss: 0.4079 - mae: 0.5092 - val_loss: 0.5413 - val_mae: 0.5925\n",
            "Epoch 13/100\n",
            "6/6 [==============================] - 0s 5ms/step - loss: 0.3961 - mae: 0.5059 - val_loss: 0.5519 - val_mae: 0.6004\n",
            "Epoch 14/100\n",
            "6/6 [==============================] - 0s 5ms/step - loss: 0.3899 - mae: 0.5023 - val_loss: 0.5338 - val_mae: 0.5872\n",
            "Epoch 15/100\n",
            "6/6 [==============================] - 0s 5ms/step - loss: 0.3898 - mae: 0.4988 - val_loss: 0.6503 - val_mae: 0.6618\n",
            "Epoch 16/100\n",
            "6/6 [==============================] - 0s 5ms/step - loss: 0.3964 - mae: 0.4992 - val_loss: 0.5689 - val_mae: 0.6153\n",
            "Epoch 17/100\n",
            "6/6 [==============================] - 0s 5ms/step - loss: 0.3831 - mae: 0.4827 - val_loss: 0.5053 - val_mae: 0.5627\n",
            "Epoch 18/100\n",
            "6/6 [==============================] - 0s 5ms/step - loss: 0.3807 - mae: 0.4892 - val_loss: 0.6089 - val_mae: 0.6378\n",
            "Epoch 19/100\n",
            "6/6 [==============================] - 0s 4ms/step - loss: 0.3681 - mae: 0.4817 - val_loss: 0.5713 - val_mae: 0.6131\n",
            "Epoch 20/100\n",
            "6/6 [==============================] - 0s 4ms/step - loss: 0.3611 - mae: 0.4709 - val_loss: 0.5703 - val_mae: 0.6134\n",
            "Epoch 21/100\n",
            "6/6 [==============================] - 0s 5ms/step - loss: 0.3490 - mae: 0.4621 - val_loss: 0.6018 - val_mae: 0.6404\n",
            "Epoch 22/100\n",
            "6/6 [==============================] - 0s 5ms/step - loss: 0.3667 - mae: 0.4776 - val_loss: 0.5972 - val_mae: 0.6369\n",
            "Epoch 23/100\n",
            "6/6 [==============================] - 0s 5ms/step - loss: 0.3453 - mae: 0.4520 - val_loss: 0.5520 - val_mae: 0.6051\n",
            "Epoch 24/100\n",
            "6/6 [==============================] - 0s 5ms/step - loss: 0.3275 - mae: 0.4408 - val_loss: 0.5578 - val_mae: 0.6131\n",
            "Epoch 25/100\n",
            "6/6 [==============================] - 0s 5ms/step - loss: 0.3275 - mae: 0.4526 - val_loss: 0.5711 - val_mae: 0.6167\n",
            "Epoch 26/100\n",
            "6/6 [==============================] - 0s 5ms/step - loss: 0.3270 - mae: 0.4469 - val_loss: 0.5975 - val_mae: 0.6366\n",
            "Epoch 27/100\n",
            "6/6 [==============================] - 0s 5ms/step - loss: 0.3204 - mae: 0.4413 - val_loss: 0.5952 - val_mae: 0.6368\n",
            "Epoch 28/100\n",
            "6/6 [==============================] - 0s 5ms/step - loss: 0.3229 - mae: 0.4311 - val_loss: 0.5720 - val_mae: 0.6074\n",
            "Epoch 29/100\n",
            "6/6 [==============================] - 0s 4ms/step - loss: 0.3221 - mae: 0.4479 - val_loss: 0.5884 - val_mae: 0.6211\n",
            "Epoch 30/100\n",
            "6/6 [==============================] - 0s 5ms/step - loss: 0.3137 - mae: 0.4350 - val_loss: 0.6633 - val_mae: 0.6643\n",
            "Epoch 31/100\n",
            "6/6 [==============================] - 0s 5ms/step - loss: 0.3032 - mae: 0.4346 - val_loss: 0.6225 - val_mae: 0.6457\n",
            "Epoch 32/100\n",
            "6/6 [==============================] - 0s 5ms/step - loss: 0.2930 - mae: 0.4242 - val_loss: 0.6013 - val_mae: 0.6336\n",
            "Epoch 33/100\n",
            "6/6 [==============================] - 0s 5ms/step - loss: 0.2730 - mae: 0.4014 - val_loss: 0.6543 - val_mae: 0.6671\n",
            "Epoch 34/100\n",
            "6/6 [==============================] - 0s 4ms/step - loss: 0.2660 - mae: 0.3930 - val_loss: 0.6010 - val_mae: 0.6326\n",
            "Epoch 35/100\n",
            "6/6 [==============================] - 0s 5ms/step - loss: 0.2645 - mae: 0.3967 - val_loss: 0.6455 - val_mae: 0.6697\n",
            "Epoch 36/100\n",
            "6/6 [==============================] - 0s 5ms/step - loss: 0.2750 - mae: 0.4073 - val_loss: 0.6448 - val_mae: 0.6575\n",
            "Epoch 37/100\n",
            "6/6 [==============================] - 0s 4ms/step - loss: 0.2798 - mae: 0.4067 - val_loss: 0.7044 - val_mae: 0.6524\n",
            "Epoch 38/100\n",
            "6/6 [==============================] - 0s 5ms/step - loss: 0.3278 - mae: 0.4475 - val_loss: 0.6506 - val_mae: 0.6687\n",
            "Epoch 39/100\n",
            "6/6 [==============================] - 0s 5ms/step - loss: 0.2704 - mae: 0.4052 - val_loss: 0.6668 - val_mae: 0.6704\n",
            "Epoch 40/100\n",
            "6/6 [==============================] - 0s 4ms/step - loss: 0.3041 - mae: 0.4280 - val_loss: 0.6394 - val_mae: 0.6407\n",
            "Epoch 41/100\n",
            "6/6 [==============================] - 0s 4ms/step - loss: 0.2891 - mae: 0.4201 - val_loss: 0.6295 - val_mae: 0.6532\n",
            "Epoch 42/100\n",
            "6/6 [==============================] - 0s 5ms/step - loss: 0.2590 - mae: 0.3885 - val_loss: 0.6715 - val_mae: 0.6755\n",
            "Epoch 43/100\n",
            "6/6 [==============================] - 0s 5ms/step - loss: 0.2267 - mae: 0.3672 - val_loss: 0.6811 - val_mae: 0.6771\n",
            "Epoch 44/100\n",
            "6/6 [==============================] - 0s 5ms/step - loss: 0.2299 - mae: 0.3642 - val_loss: 0.6516 - val_mae: 0.6659\n",
            "Epoch 45/100\n",
            "6/6 [==============================] - 0s 5ms/step - loss: 0.2255 - mae: 0.3574 - val_loss: 0.6597 - val_mae: 0.6630\n",
            "Epoch 46/100\n",
            "6/6 [==============================] - 0s 5ms/step - loss: 0.2058 - mae: 0.3443 - val_loss: 0.6657 - val_mae: 0.6688\n",
            "Epoch 47/100\n",
            "6/6 [==============================] - 0s 5ms/step - loss: 0.2025 - mae: 0.3394 - val_loss: 0.6696 - val_mae: 0.6829\n",
            "Epoch 48/100\n",
            "6/6 [==============================] - 0s 5ms/step - loss: 0.1939 - mae: 0.3381 - val_loss: 0.7489 - val_mae: 0.7176\n",
            "Epoch 49/100\n",
            "6/6 [==============================] - 0s 5ms/step - loss: 0.1980 - mae: 0.3391 - val_loss: 0.7570 - val_mae: 0.7216\n",
            "Epoch 50/100\n",
            "6/6 [==============================] - 0s 5ms/step - loss: 0.1830 - mae: 0.3189 - val_loss: 0.7347 - val_mae: 0.7113\n",
            "Epoch 51/100\n",
            "6/6 [==============================] - 0s 5ms/step - loss: 0.1753 - mae: 0.3198 - val_loss: 0.7392 - val_mae: 0.7107\n",
            "Epoch 52/100\n",
            "6/6 [==============================] - 0s 4ms/step - loss: 0.1745 - mae: 0.3179 - val_loss: 0.7318 - val_mae: 0.7133\n",
            "Epoch 53/100\n",
            "6/6 [==============================] - 0s 6ms/step - loss: 0.1564 - mae: 0.2943 - val_loss: 0.7543 - val_mae: 0.7204\n",
            "Epoch 54/100\n",
            "6/6 [==============================] - 0s 5ms/step - loss: 0.1491 - mae: 0.2917 - val_loss: 0.7909 - val_mae: 0.7381\n",
            "Epoch 55/100\n",
            "6/6 [==============================] - 0s 4ms/step - loss: 0.1580 - mae: 0.2981 - val_loss: 0.8025 - val_mae: 0.7344\n",
            "Epoch 56/100\n",
            "6/6 [==============================] - 0s 4ms/step - loss: 0.1508 - mae: 0.2928 - val_loss: 0.8077 - val_mae: 0.7259\n",
            "Epoch 57/100\n",
            "6/6 [==============================] - 0s 5ms/step - loss: 0.1536 - mae: 0.3055 - val_loss: 0.7537 - val_mae: 0.7123\n",
            "Epoch 58/100\n",
            "6/6 [==============================] - 0s 5ms/step - loss: 0.1538 - mae: 0.2946 - val_loss: 0.7552 - val_mae: 0.6900\n",
            "Epoch 59/100\n",
            "6/6 [==============================] - 0s 5ms/step - loss: 0.1720 - mae: 0.3180 - val_loss: 0.7566 - val_mae: 0.7044\n",
            "Epoch 60/100\n",
            "6/6 [==============================] - 0s 4ms/step - loss: 0.1920 - mae: 0.3351 - val_loss: 0.7263 - val_mae: 0.6989\n",
            "Epoch 61/100\n",
            "6/6 [==============================] - 0s 5ms/step - loss: 0.1873 - mae: 0.3422 - val_loss: 0.8106 - val_mae: 0.7243\n",
            "Epoch 62/100\n",
            "6/6 [==============================] - 0s 5ms/step - loss: 0.2173 - mae: 0.3602 - val_loss: 0.7316 - val_mae: 0.7035\n",
            "Epoch 63/100\n",
            "6/6 [==============================] - 0s 5ms/step - loss: 0.1669 - mae: 0.3128 - val_loss: 0.7348 - val_mae: 0.7228\n",
            "Epoch 64/100\n",
            "6/6 [==============================] - 0s 5ms/step - loss: 0.1415 - mae: 0.2855 - val_loss: 0.7813 - val_mae: 0.7177\n",
            "Epoch 65/100\n",
            "6/6 [==============================] - 0s 4ms/step - loss: 0.1277 - mae: 0.2657 - val_loss: 0.8109 - val_mae: 0.7375\n",
            "Epoch 66/100\n",
            "6/6 [==============================] - 0s 5ms/step - loss: 0.1258 - mae: 0.2627 - val_loss: 0.8517 - val_mae: 0.7415\n",
            "Epoch 67/100\n",
            "6/6 [==============================] - 0s 5ms/step - loss: 0.1121 - mae: 0.2531 - val_loss: 0.7791 - val_mae: 0.7253\n",
            "Epoch 68/100\n",
            "6/6 [==============================] - 0s 4ms/step - loss: 0.1323 - mae: 0.2755 - val_loss: 0.7461 - val_mae: 0.6942\n",
            "Epoch 69/100\n",
            "6/6 [==============================] - 0s 4ms/step - loss: 0.1226 - mae: 0.2611 - val_loss: 0.8495 - val_mae: 0.7349\n",
            "Epoch 70/100\n",
            "6/6 [==============================] - 0s 4ms/step - loss: 0.1567 - mae: 0.3044 - val_loss: 0.7932 - val_mae: 0.7097\n",
            "Epoch 71/100\n",
            "6/6 [==============================] - 0s 5ms/step - loss: 0.1400 - mae: 0.2865 - val_loss: 0.7944 - val_mae: 0.7193\n",
            "Epoch 72/100\n",
            "6/6 [==============================] - 0s 5ms/step - loss: 0.0974 - mae: 0.2348 - val_loss: 0.8268 - val_mae: 0.7383\n",
            "Epoch 73/100\n",
            "6/6 [==============================] - 0s 5ms/step - loss: 0.0907 - mae: 0.2333 - val_loss: 0.8392 - val_mae: 0.7434\n",
            "Epoch 74/100\n",
            "6/6 [==============================] - 0s 7ms/step - loss: 0.0791 - mae: 0.2096 - val_loss: 0.8797 - val_mae: 0.7482\n",
            "Epoch 75/100\n",
            "6/6 [==============================] - 0s 5ms/step - loss: 0.0710 - mae: 0.1974 - val_loss: 0.8616 - val_mae: 0.7425\n",
            "Epoch 76/100\n",
            "6/6 [==============================] - 0s 5ms/step - loss: 0.0667 - mae: 0.1924 - val_loss: 0.8975 - val_mae: 0.7697\n",
            "Epoch 77/100\n",
            "6/6 [==============================] - 0s 5ms/step - loss: 0.0619 - mae: 0.1869 - val_loss: 0.9353 - val_mae: 0.7928\n",
            "Epoch 78/100\n",
            "6/6 [==============================] - 0s 6ms/step - loss: 0.0721 - mae: 0.1983 - val_loss: 0.8655 - val_mae: 0.7378\n",
            "Epoch 79/100\n",
            "6/6 [==============================] - 0s 5ms/step - loss: 0.0710 - mae: 0.2002 - val_loss: 0.8716 - val_mae: 0.7461\n",
            "Epoch 80/100\n",
            "6/6 [==============================] - 0s 5ms/step - loss: 0.0641 - mae: 0.1919 - val_loss: 0.9034 - val_mae: 0.7528\n",
            "Epoch 81/100\n",
            "6/6 [==============================] - 0s 5ms/step - loss: 0.0595 - mae: 0.1807 - val_loss: 0.9054 - val_mae: 0.7583\n",
            "Epoch 82/100\n",
            "6/6 [==============================] - 0s 5ms/step - loss: 0.0747 - mae: 0.2093 - val_loss: 0.8487 - val_mae: 0.7365\n",
            "Epoch 83/100\n",
            "6/6 [==============================] - 0s 5ms/step - loss: 0.0615 - mae: 0.1925 - val_loss: 0.9509 - val_mae: 0.7774\n",
            "Epoch 84/100\n",
            "6/6 [==============================] - 0s 5ms/step - loss: 0.0878 - mae: 0.2284 - val_loss: 0.9044 - val_mae: 0.7666\n",
            "Epoch 85/100\n",
            "6/6 [==============================] - 0s 5ms/step - loss: 0.0532 - mae: 0.1758 - val_loss: 0.9345 - val_mae: 0.7720\n",
            "Epoch 86/100\n",
            "6/6 [==============================] - 0s 5ms/step - loss: 0.0527 - mae: 0.1721 - val_loss: 0.9681 - val_mae: 0.7879\n",
            "Epoch 87/100\n",
            "6/6 [==============================] - 0s 5ms/step - loss: 0.0493 - mae: 0.1675 - val_loss: 0.9457 - val_mae: 0.7786\n",
            "Epoch 88/100\n",
            "6/6 [==============================] - 0s 5ms/step - loss: 0.0435 - mae: 0.1582 - val_loss: 0.9530 - val_mae: 0.7848\n",
            "Epoch 89/100\n",
            "6/6 [==============================] - 0s 4ms/step - loss: 0.0387 - mae: 0.1431 - val_loss: 0.9776 - val_mae: 0.7826\n",
            "Epoch 90/100\n",
            "6/6 [==============================] - 0s 4ms/step - loss: 0.0510 - mae: 0.1745 - val_loss: 0.9889 - val_mae: 0.7802\n",
            "Epoch 91/100\n",
            "6/6 [==============================] - 0s 4ms/step - loss: 0.0459 - mae: 0.1681 - val_loss: 1.0031 - val_mae: 0.7995\n",
            "Epoch 92/100\n",
            "6/6 [==============================] - 0s 5ms/step - loss: 0.0472 - mae: 0.1632 - val_loss: 0.9045 - val_mae: 0.7456\n",
            "Epoch 93/100\n",
            "6/6 [==============================] - 0s 5ms/step - loss: 0.0447 - mae: 0.1623 - val_loss: 0.9620 - val_mae: 0.7967\n",
            "Epoch 94/100\n",
            "6/6 [==============================] - 0s 5ms/step - loss: 0.0452 - mae: 0.1572 - val_loss: 1.0338 - val_mae: 0.8122\n",
            "Epoch 95/100\n",
            "6/6 [==============================] - 0s 5ms/step - loss: 0.0393 - mae: 0.1532 - val_loss: 0.9587 - val_mae: 0.7794\n",
            "Epoch 96/100\n",
            "6/6 [==============================] - 0s 6ms/step - loss: 0.0326 - mae: 0.1388 - val_loss: 0.9895 - val_mae: 0.7952\n",
            "Epoch 97/100\n",
            "6/6 [==============================] - 0s 5ms/step - loss: 0.0285 - mae: 0.1251 - val_loss: 1.0236 - val_mae: 0.8027\n",
            "Epoch 98/100\n",
            "6/6 [==============================] - 0s 5ms/step - loss: 0.0295 - mae: 0.1303 - val_loss: 1.0272 - val_mae: 0.8175\n",
            "Epoch 99/100\n",
            "6/6 [==============================] - 0s 5ms/step - loss: 0.0302 - mae: 0.1310 - val_loss: 0.9884 - val_mae: 0.7788\n",
            "Epoch 100/100\n",
            "6/6 [==============================] - 0s 5ms/step - loss: 0.0344 - mae: 0.1449 - val_loss: 0.9966 - val_mae: 0.7959\n"
          ],
          "name": "stdout"
        }
      ]
    },
    {
      "cell_type": "code",
      "metadata": {
        "id": "Al-3DC67hB6v"
      },
      "source": [
        "import pandas as pd\n",
        "import matplotlib.pyplot as plt\n",
        "%matplotlib inline"
      ],
      "execution_count": 19,
      "outputs": []
    },
    {
      "cell_type": "code",
      "metadata": {
        "id": "t9OdE75jhMLf"
      },
      "source": [
        "df = pd.DataFrame(history.history)"
      ],
      "execution_count": 20,
      "outputs": []
    },
    {
      "cell_type": "code",
      "metadata": {
        "id": "8juUlRGxiFJL",
        "outputId": "7f496ff2-d4dc-4b60-a0d2-61a4e4782149",
        "colab": {
          "base_uri": "https://localhost:8080/",
          "height": 206
        }
      },
      "source": [
        "df.head()"
      ],
      "execution_count": 21,
      "outputs": [
        {
          "output_type": "execute_result",
          "data": {
            "text/html": [
              "<div>\n",
              "<style scoped>\n",
              "    .dataframe tbody tr th:only-of-type {\n",
              "        vertical-align: middle;\n",
              "    }\n",
              "\n",
              "    .dataframe tbody tr th {\n",
              "        vertical-align: top;\n",
              "    }\n",
              "\n",
              "    .dataframe thead th {\n",
              "        text-align: right;\n",
              "    }\n",
              "</style>\n",
              "<table border=\"1\" class=\"dataframe\">\n",
              "  <thead>\n",
              "    <tr style=\"text-align: right;\">\n",
              "      <th></th>\n",
              "      <th>loss</th>\n",
              "      <th>mae</th>\n",
              "      <th>val_loss</th>\n",
              "      <th>val_mae</th>\n",
              "    </tr>\n",
              "  </thead>\n",
              "  <tbody>\n",
              "    <tr>\n",
              "      <th>0</th>\n",
              "      <td>0.999523</td>\n",
              "      <td>0.856371</td>\n",
              "      <td>1.087698</td>\n",
              "      <td>0.888514</td>\n",
              "    </tr>\n",
              "    <tr>\n",
              "      <th>1</th>\n",
              "      <td>0.921151</td>\n",
              "      <td>0.817454</td>\n",
              "      <td>0.982476</td>\n",
              "      <td>0.833603</td>\n",
              "    </tr>\n",
              "    <tr>\n",
              "      <th>2</th>\n",
              "      <td>0.734578</td>\n",
              "      <td>0.712948</td>\n",
              "      <td>0.779573</td>\n",
              "      <td>0.708626</td>\n",
              "    </tr>\n",
              "    <tr>\n",
              "      <th>3</th>\n",
              "      <td>0.592040</td>\n",
              "      <td>0.626210</td>\n",
              "      <td>0.528627</td>\n",
              "      <td>0.571335</td>\n",
              "    </tr>\n",
              "    <tr>\n",
              "      <th>4</th>\n",
              "      <td>0.505024</td>\n",
              "      <td>0.583379</td>\n",
              "      <td>0.815758</td>\n",
              "      <td>0.747945</td>\n",
              "    </tr>\n",
              "  </tbody>\n",
              "</table>\n",
              "</div>"
            ],
            "text/plain": [
              "       loss       mae  val_loss   val_mae\n",
              "0  0.999523  0.856371  1.087698  0.888514\n",
              "1  0.921151  0.817454  0.982476  0.833603\n",
              "2  0.734578  0.712948  0.779573  0.708626\n",
              "3  0.592040  0.626210  0.528627  0.571335\n",
              "4  0.505024  0.583379  0.815758  0.747945"
            ]
          },
          "metadata": {
            "tags": []
          },
          "execution_count": 21
        }
      ]
    },
    {
      "cell_type": "code",
      "metadata": {
        "id": "a0PFjamNiKPD",
        "outputId": "4b60c45d-d40b-4ea0-dd79-23aaa9f4215a",
        "colab": {
          "base_uri": "https://localhost:8080/",
          "height": 265
        }
      },
      "source": [
        "df[['loss', 'val_loss']].plot()\n",
        "plt.show()\n"
      ],
      "execution_count": 22,
      "outputs": [
        {
          "output_type": "display_data",
          "data": {
            "image/png": "[encoded data removed]",
            "text/plain": [
              "<Figure size 432x288 with 1 Axes>"
            ]
          },
          "metadata": {
            "tags": [],
            "needs_background": "light"
          }
        }
      ]
    },
    {
      "cell_type": "code",
      "metadata": {
        "id": "noqNGR5QilAN",
        "outputId": "15ddfb6b-27f5-4560-c229-9d82c499e07e",
        "colab": {
          "base_uri": "https://localhost:8080/",
          "height": 69
        }
      },
      "source": [
        "loss, mae = model.evaluate(test_data, test_targets, verbose=2)\n",
        "print('loss= ', loss)\n",
        "print('mae= ', mae)"
      ],
      "execution_count": 23,
      "outputs": [
        {
          "output_type": "stream",
          "text": [
            "2/2 - 0s - loss: 0.7719 - mae: 0.6537\n",
            "loss=  0.7718809247016907\n",
            "mae=  0.6536576151847839\n"
          ],
          "name": "stdout"
        }
      ]
    },
    {
      "cell_type": "code",
      "metadata": {
        "id": "_-QSi9RykACS",
        "outputId": "6f3fd8b6-fbbd-4c6d-8a75-0a64bf28fded",
        "colab": {
          "base_uri": "https://localhost:8080/",
          "height": 52
        }
      },
      "source": [
        "model.evaluate(test_data, test_targets, verbose=2)"
      ],
      "execution_count": 24,
      "outputs": [
        {
          "output_type": "stream",
          "text": [
            "2/2 - 0s - loss: 0.7719 - mae: 0.6537\n"
          ],
          "name": "stdout"
        },
        {
          "output_type": "execute_result",
          "data": {
            "text/plain": [
              "[0.7718809247016907, 0.6536576151847839]"
            ]
          },
          "metadata": {
            "tags": []
          },
          "execution_count": 24
        }
      ]
    },
    {
      "cell_type": "markdown",
      "metadata": {
        "id": "SgOghnZWofeS"
      },
      "source": [
        "## Regularization and Dropout"
      ]
    },
    {
      "cell_type": "code",
      "metadata": {
        "id": "A0n9bN8MucSJ"
      },
      "source": [
        "tf.keras.backend.clear_session()"
      ],
      "execution_count": 25,
      "outputs": []
    },
    {
      "cell_type": "code",
      "metadata": {
        "id": "O4R7dSghLtEK"
      },
      "source": [
        "from tensorflow.keras.regularizers import l2\n",
        "from tensorflow.keras.layers import Dropout"
      ],
      "execution_count": 26,
      "outputs": []
    },
    {
      "cell_type": "code",
      "metadata": {
        "id": "Cr3_EcO4kt2_"
      },
      "source": [
        "def get_model(input_shape, wd, dr):\n",
        "  model = Sequential([\n",
        "                      Dense(128, kernel_regularizer=tf.keras.regularizers.l2(wd), activation='relu', input_shape=input_shape),\n",
        "                      Dropout(dr),\n",
        "                      Dense(128, kernel_regularizer=tf.keras.regularizers.l2(wd), activation='relu'),\n",
        "                      Dropout(dr),\n",
        "                      Dense(128, kernel_regularizer=tf.keras.regularizers.l2(wd), activation='relu'),\n",
        "                      Dropout(dr),\n",
        "                      Dense(128, kernel_regularizer=tf.keras.regularizers.l2(wd), activation='relu'),\n",
        "                      Dropout(dr),\n",
        "                      Dense(128, kernel_regularizer=tf.keras.regularizers.l2(wd), activation='relu'),\n",
        "                      Dropout(dr),\n",
        "                      Dense(128, kernel_regularizer=tf.keras.regularizers.l2(wd), activation='relu'),\n",
        "                      Dropout(dr),\n",
        "                      Dense(1)\n",
        "  ])\n",
        "  return model"
      ],
      "execution_count": 27,
      "outputs": []
    },
    {
      "cell_type": "code",
      "metadata": {
        "id": "ANWOj34VpZEI"
      },
      "source": [
        "weight_decay = 1e-3  #l2 regularization param\n",
        "dropout_rate = 0.3\n",
        "model=get_model((train_data.shape[1],), weight_decay, dropout_rate)"
      ],
      "execution_count": 28,
      "outputs": []
    },
    {
      "cell_type": "code",
      "metadata": {
        "id": "gQBgtNyrquF_"
      },
      "source": [
        "model.compile(optimizer='adam', loss='mse', metrics=['mae'])"
      ],
      "execution_count": 29,
      "outputs": []
    },
    {
      "cell_type": "code",
      "metadata": {
        "id": "p5Wpjighq8uG",
        "outputId": "64a02ed4-79e9-4e39-a693-28ee53b4275c",
        "colab": {
          "base_uri": "https://localhost:8080/",
          "height": 1000
        }
      },
      "source": [
        "history = model.fit(train_data,train_targets, epochs = 100, validation_split=0.15, batch_size=64, verbose=2)"
      ],
      "execution_count": 30,
      "outputs": [
        {
          "output_type": "stream",
          "text": [
            "Epoch 1/100\n",
            "6/6 - 0s - loss: 1.6415 - mae: 0.8606 - val_loss: 1.7122 - val_mae: 0.8997\n",
            "Epoch 2/100\n",
            "6/6 - 0s - loss: 1.5823 - mae: 0.8581 - val_loss: 1.6608 - val_mae: 0.8995\n",
            "Epoch 3/100\n",
            "6/6 - 0s - loss: 1.5225 - mae: 0.8518 - val_loss: 1.5968 - val_mae: 0.8912\n",
            "Epoch 4/100\n",
            "6/6 - 0s - loss: 1.4553 - mae: 0.8386 - val_loss: 1.5124 - val_mae: 0.8689\n",
            "Epoch 5/100\n",
            "6/6 - 0s - loss: 1.3481 - mae: 0.7998 - val_loss: 1.3536 - val_mae: 0.8023\n",
            "Epoch 6/100\n",
            "6/6 - 0s - loss: 1.1602 - mae: 0.7257 - val_loss: 1.1285 - val_mae: 0.6772\n",
            "Epoch 7/100\n",
            "6/6 - 0s - loss: 1.0767 - mae: 0.6953 - val_loss: 1.0173 - val_mae: 0.6171\n",
            "Epoch 8/100\n",
            "6/6 - 0s - loss: 0.9783 - mae: 0.6372 - val_loss: 1.0112 - val_mae: 0.6549\n",
            "Epoch 9/100\n",
            "6/6 - 0s - loss: 0.9030 - mae: 0.6097 - val_loss: 0.8840 - val_mae: 0.6062\n",
            "Epoch 10/100\n",
            "6/6 - 0s - loss: 0.8940 - mae: 0.6177 - val_loss: 0.8693 - val_mae: 0.5939\n",
            "Epoch 11/100\n",
            "6/6 - 0s - loss: 0.9085 - mae: 0.6145 - val_loss: 0.8812 - val_mae: 0.6005\n",
            "Epoch 12/100\n",
            "6/6 - 0s - loss: 0.9166 - mae: 0.6325 - val_loss: 0.8271 - val_mae: 0.5906\n",
            "Epoch 13/100\n",
            "6/6 - 0s - loss: 0.7945 - mae: 0.5660 - val_loss: 0.9341 - val_mae: 0.6529\n",
            "Epoch 14/100\n",
            "6/6 - 0s - loss: 0.8331 - mae: 0.5966 - val_loss: 0.8347 - val_mae: 0.5966\n",
            "Epoch 15/100\n",
            "6/6 - 0s - loss: 0.8219 - mae: 0.5994 - val_loss: 0.8432 - val_mae: 0.6061\n",
            "Epoch 16/100\n",
            "6/6 - 0s - loss: 0.8172 - mae: 0.6126 - val_loss: 0.8344 - val_mae: 0.6181\n",
            "Epoch 17/100\n",
            "6/6 - 0s - loss: 0.7731 - mae: 0.5765 - val_loss: 0.9038 - val_mae: 0.6579\n",
            "Epoch 18/100\n",
            "6/6 - 0s - loss: 0.7587 - mae: 0.5854 - val_loss: 0.8013 - val_mae: 0.5933\n",
            "Epoch 19/100\n",
            "6/6 - 0s - loss: 0.7467 - mae: 0.5748 - val_loss: 0.8352 - val_mae: 0.6166\n",
            "Epoch 20/100\n",
            "6/6 - 0s - loss: 0.7648 - mae: 0.5834 - val_loss: 0.8142 - val_mae: 0.6173\n",
            "Epoch 21/100\n",
            "6/6 - 0s - loss: 0.7486 - mae: 0.5941 - val_loss: 0.7805 - val_mae: 0.6018\n",
            "Epoch 22/100\n",
            "6/6 - 0s - loss: 0.7737 - mae: 0.5958 - val_loss: 0.8487 - val_mae: 0.6365\n",
            "Epoch 23/100\n",
            "6/6 - 0s - loss: 0.7420 - mae: 0.5996 - val_loss: 0.7622 - val_mae: 0.6110\n",
            "Epoch 24/100\n",
            "6/6 - 0s - loss: 0.7241 - mae: 0.5924 - val_loss: 0.8458 - val_mae: 0.6423\n",
            "Epoch 25/100\n",
            "6/6 - 0s - loss: 0.7146 - mae: 0.5677 - val_loss: 0.8009 - val_mae: 0.6193\n",
            "Epoch 26/100\n",
            "6/6 - 0s - loss: 0.6943 - mae: 0.5549 - val_loss: 0.7587 - val_mae: 0.6060\n",
            "Epoch 27/100\n",
            "6/6 - 0s - loss: 0.7033 - mae: 0.5840 - val_loss: 0.7366 - val_mae: 0.6006\n",
            "Epoch 28/100\n",
            "6/6 - 0s - loss: 0.6871 - mae: 0.5680 - val_loss: 0.7889 - val_mae: 0.6228\n",
            "Epoch 29/100\n",
            "6/6 - 0s - loss: 0.6624 - mae: 0.5550 - val_loss: 0.7492 - val_mae: 0.6060\n",
            "Epoch 30/100\n",
            "6/6 - 0s - loss: 0.6454 - mae: 0.5497 - val_loss: 0.7262 - val_mae: 0.5986\n",
            "Epoch 31/100\n",
            "6/6 - 0s - loss: 0.6591 - mae: 0.5494 - val_loss: 0.7643 - val_mae: 0.6177\n",
            "Epoch 32/100\n",
            "6/6 - 0s - loss: 0.6628 - mae: 0.5677 - val_loss: 0.7778 - val_mae: 0.6235\n",
            "Epoch 33/100\n",
            "6/6 - 0s - loss: 0.6541 - mae: 0.5607 - val_loss: 0.7198 - val_mae: 0.5913\n",
            "Epoch 34/100\n",
            "6/6 - 0s - loss: 0.6671 - mae: 0.5661 - val_loss: 0.7501 - val_mae: 0.6245\n",
            "Epoch 35/100\n",
            "6/6 - 0s - loss: 0.6473 - mae: 0.5698 - val_loss: 0.7523 - val_mae: 0.6246\n",
            "Epoch 36/100\n",
            "6/6 - 0s - loss: 0.6523 - mae: 0.5699 - val_loss: 0.7087 - val_mae: 0.5984\n",
            "Epoch 37/100\n",
            "6/6 - 0s - loss: 0.6603 - mae: 0.5635 - val_loss: 0.7490 - val_mae: 0.6201\n",
            "Epoch 38/100\n",
            "6/6 - 0s - loss: 0.6395 - mae: 0.5655 - val_loss: 0.7168 - val_mae: 0.6035\n",
            "Epoch 39/100\n",
            "6/6 - 0s - loss: 0.6182 - mae: 0.5537 - val_loss: 0.7981 - val_mae: 0.6383\n",
            "Epoch 40/100\n",
            "6/6 - 0s - loss: 0.6289 - mae: 0.5511 - val_loss: 0.7367 - val_mae: 0.6143\n",
            "Epoch 41/100\n",
            "6/6 - 0s - loss: 0.6366 - mae: 0.5610 - val_loss: 0.7170 - val_mae: 0.6173\n",
            "Epoch 42/100\n",
            "6/6 - 0s - loss: 0.6175 - mae: 0.5509 - val_loss: 0.7460 - val_mae: 0.6232\n",
            "Epoch 43/100\n",
            "6/6 - 0s - loss: 0.5965 - mae: 0.5312 - val_loss: 0.6772 - val_mae: 0.5875\n",
            "Epoch 44/100\n",
            "6/6 - 0s - loss: 0.5998 - mae: 0.5369 - val_loss: 0.7198 - val_mae: 0.6137\n",
            "Epoch 45/100\n",
            "6/6 - 0s - loss: 0.6231 - mae: 0.5582 - val_loss: 0.6670 - val_mae: 0.5923\n",
            "Epoch 46/100\n",
            "6/6 - 0s - loss: 0.6145 - mae: 0.5466 - val_loss: 0.6607 - val_mae: 0.5816\n",
            "Epoch 47/100\n",
            "6/6 - 0s - loss: 0.5857 - mae: 0.5282 - val_loss: 0.6891 - val_mae: 0.5960\n",
            "Epoch 48/100\n",
            "6/6 - 0s - loss: 0.6016 - mae: 0.5456 - val_loss: 0.6623 - val_mae: 0.5829\n",
            "Epoch 49/100\n",
            "6/6 - 0s - loss: 0.5935 - mae: 0.5442 - val_loss: 0.7448 - val_mae: 0.6226\n",
            "Epoch 50/100\n",
            "6/6 - 0s - loss: 0.5719 - mae: 0.5278 - val_loss: 0.6628 - val_mae: 0.5865\n",
            "Epoch 51/100\n",
            "6/6 - 0s - loss: 0.5764 - mae: 0.5262 - val_loss: 0.6698 - val_mae: 0.5903\n",
            "Epoch 52/100\n",
            "6/6 - 0s - loss: 0.5950 - mae: 0.5408 - val_loss: 0.7256 - val_mae: 0.6151\n",
            "Epoch 53/100\n",
            "6/6 - 0s - loss: 0.5960 - mae: 0.5421 - val_loss: 0.6804 - val_mae: 0.6008\n",
            "Epoch 54/100\n",
            "6/6 - 0s - loss: 0.5964 - mae: 0.5452 - val_loss: 0.6802 - val_mae: 0.5950\n",
            "Epoch 55/100\n",
            "6/6 - 0s - loss: 0.5674 - mae: 0.5304 - val_loss: 0.7180 - val_mae: 0.6107\n",
            "Epoch 56/100\n",
            "6/6 - 0s - loss: 0.5864 - mae: 0.5409 - val_loss: 0.6622 - val_mae: 0.5930\n",
            "Epoch 57/100\n",
            "6/6 - 0s - loss: 0.5553 - mae: 0.5274 - val_loss: 0.7154 - val_mae: 0.6093\n",
            "Epoch 58/100\n",
            "6/6 - 0s - loss: 0.5528 - mae: 0.5069 - val_loss: 0.6475 - val_mae: 0.5825\n",
            "Epoch 59/100\n",
            "6/6 - 0s - loss: 0.5712 - mae: 0.5377 - val_loss: 0.7177 - val_mae: 0.6184\n",
            "Epoch 60/100\n",
            "6/6 - 0s - loss: 0.5901 - mae: 0.5492 - val_loss: 0.6820 - val_mae: 0.6081\n",
            "Epoch 61/100\n",
            "6/6 - 0s - loss: 0.5646 - mae: 0.5419 - val_loss: 0.6946 - val_mae: 0.6064\n",
            "Epoch 62/100\n",
            "6/6 - 0s - loss: 0.5804 - mae: 0.5242 - val_loss: 0.6895 - val_mae: 0.6047\n",
            "Epoch 63/100\n",
            "6/6 - 0s - loss: 0.5547 - mae: 0.5401 - val_loss: 0.6867 - val_mae: 0.6109\n",
            "Epoch 64/100\n",
            "6/6 - 0s - loss: 0.5391 - mae: 0.5239 - val_loss: 0.6473 - val_mae: 0.5803\n",
            "Epoch 65/100\n",
            "6/6 - 0s - loss: 0.5658 - mae: 0.5261 - val_loss: 0.6878 - val_mae: 0.5978\n",
            "Epoch 66/100\n",
            "6/6 - 0s - loss: 0.5643 - mae: 0.5234 - val_loss: 0.6502 - val_mae: 0.5883\n",
            "Epoch 67/100\n",
            "6/6 - 0s - loss: 0.5673 - mae: 0.5373 - val_loss: 0.6368 - val_mae: 0.5815\n",
            "Epoch 68/100\n",
            "6/6 - 0s - loss: 0.5553 - mae: 0.5262 - val_loss: 0.6935 - val_mae: 0.6097\n",
            "Epoch 69/100\n",
            "6/6 - 0s - loss: 0.5663 - mae: 0.5283 - val_loss: 0.6302 - val_mae: 0.5752\n",
            "Epoch 70/100\n",
            "6/6 - 0s - loss: 0.5440 - mae: 0.5273 - val_loss: 0.7191 - val_mae: 0.6258\n",
            "Epoch 71/100\n",
            "6/6 - 0s - loss: 0.5510 - mae: 0.5324 - val_loss: 0.6466 - val_mae: 0.5883\n",
            "Epoch 72/100\n",
            "6/6 - 0s - loss: 0.5243 - mae: 0.5169 - val_loss: 0.6038 - val_mae: 0.5478\n",
            "Epoch 73/100\n",
            "6/6 - 0s - loss: 0.5575 - mae: 0.5234 - val_loss: 0.6676 - val_mae: 0.5933\n",
            "Epoch 74/100\n",
            "6/6 - 0s - loss: 0.5479 - mae: 0.5265 - val_loss: 0.6583 - val_mae: 0.5978\n",
            "Epoch 75/100\n",
            "6/6 - 0s - loss: 0.5143 - mae: 0.5045 - val_loss: 0.6249 - val_mae: 0.5755\n",
            "Epoch 76/100\n",
            "6/6 - 0s - loss: 0.5242 - mae: 0.4910 - val_loss: 0.7043 - val_mae: 0.6164\n",
            "Epoch 77/100\n",
            "6/6 - 0s - loss: 0.5248 - mae: 0.5103 - val_loss: 0.6262 - val_mae: 0.5741\n",
            "Epoch 78/100\n",
            "6/6 - 0s - loss: 0.5085 - mae: 0.4981 - val_loss: 0.7167 - val_mae: 0.6207\n",
            "Epoch 79/100\n",
            "6/6 - 0s - loss: 0.5087 - mae: 0.5009 - val_loss: 0.6182 - val_mae: 0.5688\n",
            "Epoch 80/100\n",
            "6/6 - 0s - loss: 0.5304 - mae: 0.5105 - val_loss: 0.6190 - val_mae: 0.5707\n",
            "Epoch 81/100\n",
            "6/6 - 0s - loss: 0.5498 - mae: 0.5371 - val_loss: 0.6885 - val_mae: 0.6064\n",
            "Epoch 82/100\n",
            "6/6 - 0s - loss: 0.5359 - mae: 0.5185 - val_loss: 0.6324 - val_mae: 0.5799\n",
            "Epoch 83/100\n",
            "6/6 - 0s - loss: 0.5279 - mae: 0.5208 - val_loss: 0.6303 - val_mae: 0.5794\n",
            "Epoch 84/100\n",
            "6/6 - 0s - loss: 0.5362 - mae: 0.5144 - val_loss: 0.6906 - val_mae: 0.6073\n",
            "Epoch 85/100\n",
            "6/6 - 0s - loss: 0.5036 - mae: 0.5043 - val_loss: 0.6076 - val_mae: 0.5702\n",
            "Epoch 86/100\n",
            "6/6 - 0s - loss: 0.5191 - mae: 0.5104 - val_loss: 0.6697 - val_mae: 0.6040\n",
            "Epoch 87/100\n",
            "6/6 - 0s - loss: 0.5321 - mae: 0.5334 - val_loss: 0.6264 - val_mae: 0.5805\n",
            "Epoch 88/100\n",
            "6/6 - 0s - loss: 0.4860 - mae: 0.4918 - val_loss: 0.6638 - val_mae: 0.5997\n",
            "Epoch 89/100\n",
            "6/6 - 0s - loss: 0.4891 - mae: 0.4966 - val_loss: 0.6242 - val_mae: 0.5841\n",
            "Epoch 90/100\n",
            "6/6 - 0s - loss: 0.4935 - mae: 0.4965 - val_loss: 0.6594 - val_mae: 0.5988\n",
            "Epoch 91/100\n",
            "6/6 - 0s - loss: 0.4756 - mae: 0.4869 - val_loss: 0.6440 - val_mae: 0.5878\n",
            "Epoch 92/100\n",
            "6/6 - 0s - loss: 0.4820 - mae: 0.4861 - val_loss: 0.6481 - val_mae: 0.5926\n",
            "Epoch 93/100\n",
            "6/6 - 0s - loss: 0.4848 - mae: 0.4917 - val_loss: 0.6273 - val_mae: 0.5887\n",
            "Epoch 94/100\n",
            "6/6 - 0s - loss: 0.4914 - mae: 0.5036 - val_loss: 0.6562 - val_mae: 0.5972\n",
            "Epoch 95/100\n",
            "6/6 - 0s - loss: 0.4928 - mae: 0.4884 - val_loss: 0.6270 - val_mae: 0.5766\n",
            "Epoch 96/100\n",
            "6/6 - 0s - loss: 0.5397 - mae: 0.5223 - val_loss: 0.7120 - val_mae: 0.6239\n",
            "Epoch 97/100\n",
            "6/6 - 0s - loss: 0.5699 - mae: 0.5264 - val_loss: 0.6656 - val_mae: 0.6087\n",
            "Epoch 98/100\n",
            "6/6 - 0s - loss: 0.4842 - mae: 0.5014 - val_loss: 0.6337 - val_mae: 0.5870\n",
            "Epoch 99/100\n",
            "6/6 - 0s - loss: 0.5093 - mae: 0.5029 - val_loss: 0.7338 - val_mae: 0.6263\n",
            "Epoch 100/100\n",
            "6/6 - 0s - loss: 0.4999 - mae: 0.4980 - val_loss: 0.6213 - val_mae: 0.5855\n"
          ],
          "name": "stdout"
        }
      ]
    },
    {
      "cell_type": "code",
      "metadata": {
        "id": "G3vCaUtIsvsi",
        "outputId": "aa94c9f8-e8aa-42f9-c436-de8d503a5805",
        "colab": {
          "base_uri": "https://localhost:8080/",
          "height": 52
        }
      },
      "source": [
        "model.evaluate(test_data, test_targets, verbose=2)"
      ],
      "execution_count": 31,
      "outputs": [
        {
          "output_type": "stream",
          "text": [
            "2/2 - 0s - loss: 0.7129 - mae: 0.6175\n"
          ],
          "name": "stdout"
        },
        {
          "output_type": "execute_result",
          "data": {
            "text/plain": [
              "[0.7128936648368835, 0.6174980401992798]"
            ]
          },
          "metadata": {
            "tags": []
          },
          "execution_count": 31
        }
      ]
    },
    {
      "cell_type": "code",
      "metadata": {
        "id": "GhCn79nxrIKX"
      },
      "source": [
        "df = pd.DataFrame(history.history)"
      ],
      "execution_count": 32,
      "outputs": []
    },
    {
      "cell_type": "code",
      "metadata": {
        "id": "gf5JHn7ZsMNT",
        "outputId": "7b458e0e-dc81-448a-aaeb-ebdf1e3b968a",
        "colab": {
          "base_uri": "https://localhost:8080/",
          "height": 206
        }
      },
      "source": [
        "df.head()"
      ],
      "execution_count": 33,
      "outputs": [
        {
          "output_type": "execute_result",
          "data": {
            "text/html": [
              "<div>\n",
              "<style scoped>\n",
              "    .dataframe tbody tr th:only-of-type {\n",
              "        vertical-align: middle;\n",
              "    }\n",
              "\n",
              "    .dataframe tbody tr th {\n",
              "        vertical-align: top;\n",
              "    }\n",
              "\n",
              "    .dataframe thead th {\n",
              "        text-align: right;\n",
              "    }\n",
              "</style>\n",
              "<table border=\"1\" class=\"dataframe\">\n",
              "  <thead>\n",
              "    <tr style=\"text-align: right;\">\n",
              "      <th></th>\n",
              "      <th>loss</th>\n",
              "      <th>mae</th>\n",
              "      <th>val_loss</th>\n",
              "      <th>val_mae</th>\n",
              "    </tr>\n",
              "  </thead>\n",
              "  <tbody>\n",
              "    <tr>\n",
              "      <th>0</th>\n",
              "      <td>1.641486</td>\n",
              "      <td>0.860641</td>\n",
              "      <td>1.712220</td>\n",
              "      <td>0.899657</td>\n",
              "    </tr>\n",
              "    <tr>\n",
              "      <th>1</th>\n",
              "      <td>1.582297</td>\n",
              "      <td>0.858085</td>\n",
              "      <td>1.660785</td>\n",
              "      <td>0.899456</td>\n",
              "    </tr>\n",
              "    <tr>\n",
              "      <th>2</th>\n",
              "      <td>1.522503</td>\n",
              "      <td>0.851824</td>\n",
              "      <td>1.596806</td>\n",
              "      <td>0.891186</td>\n",
              "    </tr>\n",
              "    <tr>\n",
              "      <th>3</th>\n",
              "      <td>1.455326</td>\n",
              "      <td>0.838647</td>\n",
              "      <td>1.512368</td>\n",
              "      <td>0.868858</td>\n",
              "    </tr>\n",
              "    <tr>\n",
              "      <th>4</th>\n",
              "      <td>1.348069</td>\n",
              "      <td>0.799807</td>\n",
              "      <td>1.353554</td>\n",
              "      <td>0.802259</td>\n",
              "    </tr>\n",
              "  </tbody>\n",
              "</table>\n",
              "</div>"
            ],
            "text/plain": [
              "       loss       mae  val_loss   val_mae\n",
              "0  1.641486  0.860641  1.712220  0.899657\n",
              "1  1.582297  0.858085  1.660785  0.899456\n",
              "2  1.522503  0.851824  1.596806  0.891186\n",
              "3  1.455326  0.838647  1.512368  0.868858\n",
              "4  1.348069  0.799807  1.353554  0.802259"
            ]
          },
          "metadata": {
            "tags": []
          },
          "execution_count": 33
        }
      ]
    },
    {
      "cell_type": "code",
      "metadata": {
        "id": "pdJscTyPsnud",
        "outputId": "1dcd240c-bf5a-411a-b59c-61895bb23061",
        "colab": {
          "base_uri": "https://localhost:8080/",
          "height": 265
        }
      },
      "source": [
        "#No Dropout layer\n",
        "df[['loss', 'val_loss']].plot()\n",
        "plt.show()"
      ],
      "execution_count": 34,
      "outputs": [
        {
          "output_type": "display_data",
          "data": {
            "image/png": "[encoded data removed]",
            "text/plain": [
              "<Figure size 432x288 with 1 Axes>"
            ]
          },
          "metadata": {
            "tags": [],
            "needs_background": "light"
          }
        }
      ]
    },
    {
      "cell_type": "code",
      "metadata": {
        "id": "LpP4vEgxtJ7v",
        "outputId": "e100900a-4fe9-45fd-abe9-a19dcdfaf5eb",
        "colab": {
          "base_uri": "https://localhost:8080/",
          "height": 265
        }
      },
      "source": [
        "#With Dropout late and rate = 0.3\n",
        "df[['loss', 'val_loss']].plot()\n",
        "plt.show()"
      ],
      "execution_count": 35,
      "outputs": [
        {
          "output_type": "display_data",
          "data": {
            "image/png": "[encoded data removed]",
            "text/plain": [
              "<Figure size 432x288 with 1 Axes>"
            ]
          },
          "metadata": {
            "tags": [],
            "needs_background": "light"
          }
        }
      ]
    },
    {
      "cell_type": "markdown",
      "metadata": {
        "id": "iHXMdaSIgl4l"
      },
      "source": [
        "## Callback example"
      ]
    },
    {
      "cell_type": "code",
      "metadata": {
        "id": "sy-ojFyPM6pa"
      },
      "source": [
        "tf.keras.backend.clear_session()"
      ],
      "execution_count": 36,
      "outputs": []
    },
    {
      "cell_type": "code",
      "metadata": {
        "id": "efL1w2xXg0G5"
      },
      "source": [
        "from tensorflow.keras.callbacks import Callback\n",
        "\n",
        "class myCallback(Callback):\n",
        "\n",
        "  #Training methods\n",
        "  def on_train_begin(self, logs=None):\n",
        "    print(f\"Starting Training...\")\n",
        "\n",
        "  def on_train_end(self, logs=None):\n",
        "    print(f\"Finishing Training...\")\n",
        "\n",
        "  def on_train_batch_begin(self, batch, logs=None):\n",
        "    print(f\"Starting batch {batch}\")\n",
        "\n",
        "  def on_train_batch_end(self, batch, logs=None):\n",
        "    print(f\"Finishing batch {batch}\")\n",
        "\n",
        "  def on_epoch_begin(self, epoch, logs=None):\n",
        "    print(f\"Starting epoch {epoch}\")\n",
        "\n",
        "  def on_epoch_end(self, epoch, logs=None):\n",
        "    print(f\"Finishing epoch {epoch}\")\n",
        "\n",
        "  # Testing methods\n",
        "  def on_test_begin(self, logs=None):\n",
        "    print(f\"Starting Testing...\")\n",
        "\n",
        "  def on_test_end(self, logs=None):\n",
        "    print(f\"Finishing Testing...\")\n",
        "\n",
        "  def on_test_batch_begin(self, batch, logs=None):\n",
        "    print(f\"Starting batch {batch}\")\n",
        "\n",
        "  def on_test_batch_end(self, batch, logs=None):\n",
        "    print(f\"Finishing batch {batch}\")\n",
        "\n",
        "  # Predicting methods\n",
        "  def on_predict_begin(self, logs=None):\n",
        "    print(f\"Starting prediction...\")\n",
        "\n",
        "  def on_predict_end(self, logs=None):\n",
        "    print(f\"Finishing prediction...\")\n",
        "\n",
        "  def on_predict_batch_begin(self, batch, logs=None):\n",
        "    print(f\"Starting predict batch {batch}\")\n",
        "\n",
        "  def on_predict_batch_end(self, batch, logs=None):\n",
        "    print(f\"Finishing predict batch {batch}\")"
      ],
      "execution_count": 37,
      "outputs": []
    },
    {
      "cell_type": "code",
      "metadata": {
        "id": "N2XdP2cfiya5"
      },
      "source": [
        "def get_regularized_model(input_shape, wd, dr):\n",
        "  model = Sequential([\n",
        "                      Dense(128, kernel_regularizer=tf.keras.regularizers.l2(wd), activation='relu', input_shape=input_shape),\n",
        "                      Dropout(dr),\n",
        "                      Dense(128, kernel_regularizer=tf.keras.regularizers.l2(wd), activation='relu'),\n",
        "                      Dropout(dr),\n",
        "                      Dense(128, kernel_regularizer=tf.keras.regularizers.l2(wd), activation='relu'),\n",
        "                      Dropout(dr),\n",
        "                      Dense(128, kernel_regularizer=tf.keras.regularizers.l2(wd), activation='relu'),\n",
        "                      Dropout(dr),\n",
        "                      Dense(128, kernel_regularizer=tf.keras.regularizers.l2(wd), activation='relu'),\n",
        "                      Dropout(dr),\n",
        "                      Dense(128, kernel_regularizer=tf.keras.regularizers.l2(wd), activation='relu'),\n",
        "                      Dropout(dr),\n",
        "                      Dense(1)\n",
        "  ])\n",
        "  return model"
      ],
      "execution_count": 38,
      "outputs": []
    },
    {
      "cell_type": "code",
      "metadata": {
        "id": "yRUzUOMHjCSh"
      },
      "source": [
        "weight_decay = 1e-3  #l2 regularization param\n",
        "dropout_rate = 0.3\n",
        "model=get_regularized_model((train_data.shape[1],), weight_decay, dropout_rate)"
      ],
      "execution_count": 39,
      "outputs": []
    },
    {
      "cell_type": "code",
      "metadata": {
        "id": "Fm16WOxijQAz"
      },
      "source": [
        "model.compile(optimizer=\"adam\", loss=\"mse\", metrics=[\"accuracy\"])"
      ],
      "execution_count": 40,
      "outputs": []
    },
    {
      "cell_type": "code",
      "metadata": {
        "id": "N68wi2TRjnCj",
        "outputId": "fc2209c8-1e3a-4229-a042-50ba882d4b94",
        "colab": {
          "base_uri": "https://localhost:8080/",
          "height": 573
        }
      },
      "source": [
        "history=model.fit(train_data, train_targets, epochs=3, batch_size=128, verbose=False, callbacks=[myCallback()])"
      ],
      "execution_count": 41,
      "outputs": [
        {
          "output_type": "stream",
          "text": [
            "Starting Training...\n",
            "Starting epoch 0\n",
            "Starting batch 0\n",
            "Finishing batch 0\n",
            "Starting batch 1\n",
            "Finishing batch 1\n",
            "Starting batch 2\n",
            "Finishing batch 2\n",
            "Starting batch 3\n",
            "Finishing batch 3\n",
            "Finishing epoch 0\n",
            "Starting epoch 1\n",
            "Starting batch 0\n",
            "Finishing batch 0\n",
            "Starting batch 1\n",
            "Finishing batch 1\n",
            "Starting batch 2\n",
            "Finishing batch 2\n",
            "Starting batch 3\n",
            "Finishing batch 3\n",
            "Finishing epoch 1\n",
            "Starting epoch 2\n",
            "Starting batch 0\n",
            "Finishing batch 0\n",
            "Starting batch 1\n",
            "Finishing batch 1\n",
            "Starting batch 2\n",
            "Finishing batch 2\n",
            "Starting batch 3\n",
            "Finishing batch 3\n",
            "Finishing epoch 2\n",
            "Finishing Training...\n"
          ],
          "name": "stdout"
        }
      ]
    },
    {
      "cell_type": "code",
      "metadata": {
        "id": "HRhO91O9j_5F",
        "outputId": "9c72429e-62c7-4f2d-f2ea-9a4052b45741",
        "colab": {
          "base_uri": "https://localhost:8080/",
          "height": 139
        }
      },
      "source": [
        "model.evaluate(test_data, verbose=False, callbacks=[myCallback()])"
      ],
      "execution_count": 42,
      "outputs": [
        {
          "output_type": "stream",
          "text": [
            "Starting Testing...\n",
            "Starting batch 0\n",
            "Finishing batch 0\n",
            "Starting batch 1\n",
            "Finishing batch 1\n",
            "Finishing Testing...\n"
          ],
          "name": "stdout"
        },
        {
          "output_type": "execute_result",
          "data": {
            "text/plain": [
              "[0.5535830855369568, 0.0]"
            ]
          },
          "metadata": {
            "tags": []
          },
          "execution_count": 42
        }
      ]
    },
    {
      "cell_type": "code",
      "metadata": {
        "id": "QYTC-KeXlRa6",
        "outputId": "80cf8498-2e9b-4a2d-9f4b-0abfc5ac10f3",
        "colab": {
          "base_uri": "https://localhost:8080/",
          "height": 121
        }
      },
      "source": [
        "predictions=model.predict(test_data, verbose=False, callbacks=[myCallback()])"
      ],
      "execution_count": 43,
      "outputs": [
        {
          "output_type": "stream",
          "text": [
            "Starting prediction...\n",
            "Starting predict batch 0\n",
            "Finishing predict batch 0\n",
            "Starting predict batch 1\n",
            "Finishing predict batch 1\n",
            "Finishing prediction...\n"
          ],
          "name": "stdout"
        }
      ]
    },
    {
      "cell_type": "code",
      "metadata": {
        "id": "jRL7TSlbmGrF",
        "outputId": "88da335a-4108-47d3-afe6-a66fb37fac28",
        "colab": {
          "base_uri": "https://localhost:8080/",
          "height": 799
        }
      },
      "source": [
        "predictions"
      ],
      "execution_count": 44,
      "outputs": [
        {
          "output_type": "execute_result",
          "data": {
            "text/plain": [
              "array([[-0.05182554],\n",
              "       [-0.08110715],\n",
              "       [-0.03210969],\n",
              "       [-0.0820962 ],\n",
              "       [-0.02145369],\n",
              "       [-0.01552662],\n",
              "       [-0.00142031],\n",
              "       [-0.06147646],\n",
              "       [-0.05364781],\n",
              "       [-0.05640314],\n",
              "       [-0.0233141 ],\n",
              "       [-0.01230924],\n",
              "       [-0.06858846],\n",
              "       [-0.07394408],\n",
              "       [-0.01441255],\n",
              "       [-0.01943195],\n",
              "       [-0.02162512],\n",
              "       [-0.06133312],\n",
              "       [-0.03890954],\n",
              "       [-0.02280325],\n",
              "       [-0.01465667],\n",
              "       [-0.07579491],\n",
              "       [-0.06494901],\n",
              "       [-0.08059184],\n",
              "       [-0.07276639],\n",
              "       [-0.02493646],\n",
              "       [-0.07880595],\n",
              "       [-0.04540741],\n",
              "       [-0.03250075],\n",
              "       [-0.01419678],\n",
              "       [-0.02556477],\n",
              "       [-0.02689278],\n",
              "       [-0.02572667],\n",
              "       [-0.0823293 ],\n",
              "       [-0.06374709],\n",
              "       [-0.01048757],\n",
              "       [-0.07656167],\n",
              "       [-0.00649865],\n",
              "       [-0.01595661],\n",
              "       [-0.01220381],\n",
              "       [-0.06008701],\n",
              "       [-0.04907537],\n",
              "       [-0.06683304],\n",
              "       [-0.05947348],\n",
              "       [-0.0635388 ]], dtype=float32)"
            ]
          },
          "metadata": {
            "tags": []
          },
          "execution_count": 44
        }
      ]
    },
    {
      "cell_type": "markdown",
      "metadata": {
        "id": "bYrenDYb6dN_"
      },
      "source": [
        "# Early Stopping"
      ]
    },
    {
      "cell_type": "code",
      "metadata": {
        "id": "Y4P890ro9f3j"
      },
      "source": [
        "tf.keras.backend.clear_session()"
      ],
      "execution_count": 45,
      "outputs": []
    },
    {
      "cell_type": "code",
      "metadata": {
        "id": "PC9Ela03o4VX"
      },
      "source": [
        "from tensorflow.keras.callbacks import EarlyStopping"
      ],
      "execution_count": 46,
      "outputs": []
    },
    {
      "cell_type": "code",
      "metadata": {
        "id": "KR_vzaCd7Z-9"
      },
      "source": [
        "weight_decay = 1e-3  #l2 regularization param\n",
        "dropout_rate = 0.3\n",
        "model=get_regularized_model((train_data.shape[1],), weight_decay, dropout_rate)"
      ],
      "execution_count": 47,
      "outputs": []
    },
    {
      "cell_type": "code",
      "metadata": {
        "id": "2lZj9OmR7h6R"
      },
      "source": [
        "model.compile(optimizer='adam', loss='mse', metrics=['mae'])"
      ],
      "execution_count": 48,
      "outputs": []
    },
    {
      "cell_type": "code",
      "metadata": {
        "id": "7HVrYCxD7thO"
      },
      "source": [
        "myEarlyStopping = EarlyStopping(patience=10, min_delta=0.01)\n",
        "\n",
        "hist=model.fit(train_data, train_targets, epochs=100, verbose=False,\n",
        "               validation_split=0.15,\n",
        "               callbacks=[myEarlyStopping])"
      ],
      "execution_count": 49,
      "outputs": []
    },
    {
      "cell_type": "code",
      "metadata": {
        "id": "CKutPYtj8UdY",
        "outputId": "a6a0a685-4db5-44fb-db9d-ff30e265a836",
        "colab": {
          "base_uri": "https://localhost:8080/",
          "height": 206
        }
      },
      "source": [
        "df = pd.DataFrame(hist.history)\n",
        "df.head()"
      ],
      "execution_count": 50,
      "outputs": [
        {
          "output_type": "execute_result",
          "data": {
            "text/html": [
              "<div>\n",
              "<style scoped>\n",
              "    .dataframe tbody tr th:only-of-type {\n",
              "        vertical-align: middle;\n",
              "    }\n",
              "\n",
              "    .dataframe tbody tr th {\n",
              "        vertical-align: top;\n",
              "    }\n",
              "\n",
              "    .dataframe thead th {\n",
              "        text-align: right;\n",
              "    }\n",
              "</style>\n",
              "<table border=\"1\" class=\"dataframe\">\n",
              "  <thead>\n",
              "    <tr style=\"text-align: right;\">\n",
              "      <th></th>\n",
              "      <th>loss</th>\n",
              "      <th>mae</th>\n",
              "      <th>val_loss</th>\n",
              "      <th>val_mae</th>\n",
              "    </tr>\n",
              "  </thead>\n",
              "  <tbody>\n",
              "    <tr>\n",
              "      <th>0</th>\n",
              "      <td>1.622725</td>\n",
              "      <td>0.859033</td>\n",
              "      <td>1.683828</td>\n",
              "      <td>0.899679</td>\n",
              "    </tr>\n",
              "    <tr>\n",
              "      <th>1</th>\n",
              "      <td>1.524530</td>\n",
              "      <td>0.848817</td>\n",
              "      <td>1.567653</td>\n",
              "      <td>0.879289</td>\n",
              "    </tr>\n",
              "    <tr>\n",
              "      <th>2</th>\n",
              "      <td>1.368428</td>\n",
              "      <td>0.810943</td>\n",
              "      <td>1.323538</td>\n",
              "      <td>0.780796</td>\n",
              "    </tr>\n",
              "    <tr>\n",
              "      <th>3</th>\n",
              "      <td>1.160229</td>\n",
              "      <td>0.714281</td>\n",
              "      <td>1.049553</td>\n",
              "      <td>0.618706</td>\n",
              "    </tr>\n",
              "    <tr>\n",
              "      <th>4</th>\n",
              "      <td>1.020389</td>\n",
              "      <td>0.657015</td>\n",
              "      <td>1.105405</td>\n",
              "      <td>0.706535</td>\n",
              "    </tr>\n",
              "  </tbody>\n",
              "</table>\n",
              "</div>"
            ],
            "text/plain": [
              "       loss       mae  val_loss   val_mae\n",
              "0  1.622725  0.859033  1.683828  0.899679\n",
              "1  1.524530  0.848817  1.567653  0.879289\n",
              "2  1.368428  0.810943  1.323538  0.780796\n",
              "3  1.160229  0.714281  1.049553  0.618706\n",
              "4  1.020389  0.657015  1.105405  0.706535"
            ]
          },
          "metadata": {
            "tags": []
          },
          "execution_count": 50
        }
      ]
    },
    {
      "cell_type": "code",
      "metadata": {
        "id": "qn5jFaAs80RU",
        "outputId": "39f0a362-2afe-4ad9-8197-3e64c963ef24",
        "colab": {
          "base_uri": "https://localhost:8080/",
          "height": 265
        }
      },
      "source": [
        "df[['loss', 'val_loss']].plot()\n",
        "plt.show()"
      ],
      "execution_count": 51,
      "outputs": [
        {
          "output_type": "display_data",
          "data": {
            "image/png": "[encoded data removed]",
            "text/plain": [
              "<Figure size 432x288 with 1 Axes>"
            ]
          },
          "metadata": {
            "tags": [],
            "needs_background": "light"
          }
        }
      ]
    },
    {
      "cell_type": "markdown",
      "metadata": {
        "id": "-RHRdKdzKZy1"
      },
      "source": [
        "# Learing Rate Scheduler"
      ]
    },
    {
      "cell_type": "code",
      "metadata": {
        "id": "DBPq9a4KLN9V"
      },
      "source": [
        "tf.keras.backend.clear_session()"
      ],
      "execution_count": 54,
      "outputs": []
    },
    {
      "cell_type": "code",
      "metadata": {
        "id": "8q8u4sJzJ6OZ"
      },
      "source": [
        "from tensorflow.keras.callbacks import LearningRateScheduler\n",
        "\n",
        "def lr_function (epoch, lr):\n",
        "  lr = 1/(3+epoch * 5)\n",
        "  return lr"
      ],
      "execution_count": 67,
      "outputs": []
    },
    {
      "cell_type": "code",
      "metadata": {
        "id": "dfYziRjrLD1t"
      },
      "source": [
        "weight_decay = 1e-3  #l2 regularization param\n",
        "dropout_rate = 0.3\n",
        "model=get_regularized_model((train_data.shape[1],), weight_decay, dropout_rate)"
      ],
      "execution_count": 68,
      "outputs": []
    },
    {
      "cell_type": "code",
      "metadata": {
        "id": "eTvbCRKJLWST"
      },
      "source": [
        "model.compile(optimizer='adam', loss='mse', metrics=['mae'])"
      ],
      "execution_count": 69,
      "outputs": []
    },
    {
      "cell_type": "code",
      "metadata": {
        "id": "_DDXTLSZLZmY",
        "outputId": "7d59e8b2-bc2a-49f9-95e0-8ef8193b066c",
        "colab": {
          "base_uri": "https://localhost:8080/",
          "height": 364
        }
      },
      "source": [
        "hist=model.fit(train_data, train_targets, epochs=10, verbose=False,\n",
        "               validation_split=0.15,\n",
        "               callbacks=[LearningRateScheduler(lr_function, verbose=1)])"
      ],
      "execution_count": 70,
      "outputs": [
        {
          "output_type": "stream",
          "text": [
            "\n",
            "Epoch 00001: LearningRateScheduler reducing learning rate to 0.3333333333333333.\n",
            "\n",
            "Epoch 00002: LearningRateScheduler reducing learning rate to 0.125.\n",
            "\n",
            "Epoch 00003: LearningRateScheduler reducing learning rate to 0.07692307692307693.\n",
            "\n",
            "Epoch 00004: LearningRateScheduler reducing learning rate to 0.05555555555555555.\n",
            "\n",
            "Epoch 00005: LearningRateScheduler reducing learning rate to 0.043478260869565216.\n",
            "\n",
            "Epoch 00006: LearningRateScheduler reducing learning rate to 0.03571428571428571.\n",
            "\n",
            "Epoch 00007: LearningRateScheduler reducing learning rate to 0.030303030303030304.\n",
            "\n",
            "Epoch 00008: LearningRateScheduler reducing learning rate to 0.02631578947368421.\n",
            "\n",
            "Epoch 00009: LearningRateScheduler reducing learning rate to 0.023255813953488372.\n",
            "\n",
            "Epoch 00010: LearningRateScheduler reducing learning rate to 0.020833333333333332.\n"
          ],
          "name": "stdout"
        }
      ]
    },
    {
      "cell_type": "code",
      "metadata": {
        "id": "EVYD3QJkLpFS",
        "outputId": "0e4416ea-c38a-4cbf-b477-1d5311729ac3",
        "colab": {
          "base_uri": "https://localhost:8080/",
          "height": 364
        }
      },
      "source": [
        "# Using an Lambda function\n",
        "hist=model.fit(train_data, train_targets, epochs=10, verbose=False,\n",
        "               validation_split=0.15,\n",
        "               callbacks=[LearningRateScheduler(lambda x:1/(3+5*x), verbose=1)])"
      ],
      "execution_count": 71,
      "outputs": [
        {
          "output_type": "stream",
          "text": [
            "\n",
            "Epoch 00001: LearningRateScheduler reducing learning rate to 0.3333333333333333.\n",
            "\n",
            "Epoch 00002: LearningRateScheduler reducing learning rate to 0.125.\n",
            "\n",
            "Epoch 00003: LearningRateScheduler reducing learning rate to 0.07692307692307693.\n",
            "\n",
            "Epoch 00004: LearningRateScheduler reducing learning rate to 0.05555555555555555.\n",
            "\n",
            "Epoch 00005: LearningRateScheduler reducing learning rate to 0.043478260869565216.\n",
            "\n",
            "Epoch 00006: LearningRateScheduler reducing learning rate to 0.03571428571428571.\n",
            "\n",
            "Epoch 00007: LearningRateScheduler reducing learning rate to 0.030303030303030304.\n",
            "\n",
            "Epoch 00008: LearningRateScheduler reducing learning rate to 0.02631578947368421.\n",
            "\n",
            "Epoch 00009: LearningRateScheduler reducing learning rate to 0.023255813953488372.\n",
            "\n",
            "Epoch 00010: LearningRateScheduler reducing learning rate to 0.020833333333333332.\n"
          ],
          "name": "stdout"
        }
      ]
    },
    {
      "cell_type": "code",
      "metadata": {
        "id": "zL7ATHXAMt8_"
      },
      "source": [
        ""
      ],
      "execution_count": null,
      "outputs": []
    }
  ]
}